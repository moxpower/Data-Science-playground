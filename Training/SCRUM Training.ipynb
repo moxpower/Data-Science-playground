{
 "cells": [
  {
   "cell_type": "markdown",
   "metadata": {},
   "source": [
    "<img src=\"https://raw.githubusercontent.com/moxpower/Data-Science-playground/master/Training/SCRUM_Training_Header.PNG\" width=\"500\">"
   ]
  },
  {
   "cell_type": "markdown",
   "metadata": {},
   "source": [
    "<img src=\"https://raw.githubusercontent.com/moxpower/Data-Science-playground/master/img/SCRUM%20Training.png\" width=\"500\">"
   ]
  },
  {
   "cell_type": "code",
   "execution_count": null,
   "metadata": {
    "collapsed": true
   },
   "outputs": [],
   "source": []
  },
  {
   "cell_type": "markdown",
   "metadata": {},
   "source": [
    "<img src=\"https://raw.githubusercontent.com/moxpower/Data-Science-playground/master/img/SCRUM_Mind_Map_TopLevel.PNG\" width=\"1300\"> "
   ]
  },
  {
   "cell_type": "markdown",
   "metadata": {},
   "source": [
    "# PhD Application"
   ]
  },
  {
   "cell_type": "markdown",
   "metadata": {},
   "source": [
    "This is a proposal to join the Jan Lipfert group as PhD student to develop and engineer Machine Learning techniques (like Deep Learning) for image processing.\n",
    "\n",
    "\n",
    "\n",
    "elaborate on how you have\n",
    "developed the relevant skills required for the job, and any relevant experiences or education you have\n",
    "acquired. Providing an example can help you emphasize your point. Of equal importance is your\n",
    "argument for how your interest in both the job and the organization developed. You will want to ensure\n",
    "that you include your interest why it would be a logical decision on their part to hire you.\n",
    "\n",
    "\n",
    "\n",
    "I am highly motivated to build on and extend my knowledge in <b>information sharing</b> and <b>data analysis</b> working as a PhD Student. Parallel computation, algorithms development in R/Python/Scala and the communication of results (e.g. online with Jupyter Notebooks, JavaScripts) are my special interest.\n",
    "\n",
    "<cite data-cite=\"3274827/BN43987E\"></cite> <cite data-cite=\"3274827/W9ZXZHIX\"></cite> <cite data-cite=\"3274827/8EHKKVU6\"></cite>\n",
    "\n",
    "HipGISAXS<cite data-cite=\"3274827/TE99VRVP\"></cite>\n",
    "\n",
    "tertiary structures <cite data-cite=\"3274827/4KIH999F\"></cite>\n",
    "\n",
    "I am a Data Scientist at Cognizant GmbH. My current area of focus is distributed cloud computing in R and Spark. I work on the Microsoft Azure platform where I employ Machine Learning Algorithms on web servers and make use of web APIs to access these prediction and classification services in other web applications."
   ]
  },
  {
   "cell_type": "markdown",
   "metadata": {},
   "source": [
    "<div class=\"cite2c-biblio\"></div>"
   ]
  },
  {
   "cell_type": "markdown",
   "metadata": {},
   "source": [
    "#### References\n",
    "Müller, Jochen P., Salomé Mielke, Achim Löf, Tobias Obser, Christof Beer, Linda K. Bruetzel, Diana A. Pippig, et al. 2016. “Force Sensing by the Vascular Protein von Willebrand Factor Is Tuned by a Strong Intermonomer Interaction.” Proceedings of the National Academy of Sciences of the United States of America 113 (5): 1208–13. doi:10.1073/pnas.1516214113.\n",
    "<div style=\"line-height:5%;\"><br></div>\n",
    "Vanderlinden, Willem, and Steven De Feyter. 2013. “Chain Relaxation Dynamics of DNA Adsorbing at a Solid–liquid Interface.” Nanoscale 5 (6): 2264–68. doi:10.1039/C3NR34231J.\n",
    "<div style=\"line-height:5%;\"><br></div>\n",
    "Wiggins, Paul A., Thijn van der Heijden, Fernando Moreno-Herrero, Andrew Spakowitz, Rob Phillips, Jonathan Widom, Cees Dekker, and Philip C. Nelson. 2006. “High Flexibility of DNA on Short Length Scales Probed by Atomic Force Microscopy.” Nature Nanotechnology 1 (2): 137–41. doi:10.1038/nnano.2006.63."
   ]
  },
  {
   "cell_type": "markdown",
   "metadata": {},
   "source": [
    "# CV"
   ]
  },
  {
   "cell_type": "markdown",
   "metadata": {},
   "source": [
    "<font face='Verdana' size=2>\n",
    "<table style=\"width:100%;border: 1px solid white; float: left\">\n",
    "  <tr style=\"border: 1px solid white; line-height: 40px\">\n",
    "    <td style=\"border: 1px solid white; background-color: #dedede\">Since 2016</td>\n",
    "    <td style=\"border: 1px solid white; background-color: #dedede\"><b>Data Scientist</b>, <i>Cognizant Technology Solutions Corp, Germany</i></td>\n",
    "  </tr>\n",
    "  <tr style=\"border: 1px solid white; line-height: 40px\">\n",
    "    <td  style=\"border: 1px solid white; background-color: #dedede\">2014 - 2015</td> \n",
    "    <td style=\"border: 1px solid white; background-color: #dedede\"><b>Knowledge Manager</b>, <i>thinkstep AG, Germany</i></td>\n",
    "  </tr>\n",
    "  <tr style=\"border: 1px solid white; line-height: 40px\">\n",
    "    <td style=\"border: 1px solid white; background-color: #dedede\">2014 - 2015</td>\n",
    "    <td style=\"border: 1px solid white; background-color: #dedede\"><b>Data Analyst</b>, <i>thinkstep AG, Germany</i></td> \n",
    "  </tr>\n",
    "  <tr style=\"border: 1px solid white; line-height: 40px\">\n",
    "    <td style=\"border: 1px solid white; background-color: #dedede\">2011 - 2013</td>\n",
    "    <td style=\"border: 1px solid white; background-color: #dedede\"><b>M.Sc. Physics</b>, <i>University Complutense Madrid, Spain</i></td> \n",
    "  </tr>\n",
    "  <tr style=\"border: 1px solid white; line-height: 40px\">\n",
    "    <td style=\"border: 1px solid white; background-color: #dedede\">2009 - 2010</td>\n",
    "    <td style=\"border: 1px solid white; background-color: #dedede\"><b>B.Sc. Physics - Studies abroad</b>, <i>University UPMC Pierre et Marie Curie - Paris VI, France</i></td> \n",
    "  </tr>\n",
    "  <tr style=\"border: 1px solid white; line-height: 40px\">\n",
    "    <td style=\"border: 1px solid white; background-color: #dedede\">2008 - 2011</td>\n",
    "    <td style=\"border: 1px solid white; background-color: #dedede\"><b>B.Sc. Physics</b>, <i>University RWTH Aachen, Germany</i></td> \n",
    "  </tr>\n",
    "</table>"
   ]
  },
  {
   "cell_type": "markdown",
   "metadata": {},
   "source": [
    "<a  href=\"https://moxpower.github.io/cv/\"  style=\"color:#ffffff; background-color:#bddbfa; font-size:13px; font-family:Verdana;  padding:6px 24px; text-decoration:none;  \" class=\"myButton\">Full CV - PDF</a>\n"
   ]
  },
  {
   "cell_type": "markdown",
   "metadata": {},
   "source": [
    "# Publications"
   ]
  },
  {
   "cell_type": "markdown",
   "metadata": {},
   "source": [
    "Kohl, M., D. Iribarren, F. Petrakopoulou, and J. Dufour. 2013. “Life Cycle Assessment of Bioethanol from Microalgae.” 21st European Biomass Conference. doi:10.5071/21stEUBCE2013-5DO.12.5."
   ]
  },
  {
   "cell_type": "markdown",
   "metadata": {},
   "source": [
    "# Study Transcript"
   ]
  },
  {
   "cell_type": "markdown",
   "metadata": {},
   "source": [
    "<a  href=\"https://moxpower.github.io/BScTranscript\"  style=\"color:#ffffff; background-color:#bddbfa;  font-family:Verdana; font-size:13px;  padding:6px 24px; text-decoration:none;  \" class=\"myButton\">B.Sc. Physics</a>"
   ]
  },
  {
   "cell_type": "markdown",
   "metadata": {},
   "source": [
    "<a  href=\"https://moxpower.github.io/MScTranscript\"  style=\"color:#ffffff; background-color:#bddbfa;  font-family:Verdana; font-size:13px; padding:6px 24px; text-decoration:none;  \" class=\"myButton\">M.Sc. Applied Physics</a>"
   ]
  },
  {
   "cell_type": "markdown",
   "metadata": {},
   "source": [
    "# Project Transcript"
   ]
  },
  {
   "cell_type": "markdown",
   "metadata": {},
   "source": [
    "<p style=\"line-height:1.2\">Below is a graphical overview of a selection of my <b>coding skills</b> and <b>past projects</b>. The circles are projects, grouped by employer (thinkstep/cognizant/on my own). The size of the circle is a (subjective) measure of experience gain.\n",
    "<br>\n",
    "<br>\n",
    "<center><font color=\"#c5c5c5\">--></font> Please click on the graphic to get to the full interactive version! <font color=\"#c5c5c5\"><--</font></center></p>"
   ]
  },
  {
   "cell_type": "markdown",
   "metadata": {},
   "source": [
    "<a href=\"https://moxpower.github.io/about/#Project_Overview\">\n",
    "<img src=\"https://raw.githubusercontent.com/moxpower/Data-Science-playground/master/img/ProjectOverview.PNG\" width=\"700\">\n",
    "</a>"
   ]
  },
  {
   "cell_type": "markdown",
   "metadata": {},
   "source": [
    "# Let's go"
   ]
  },
  {
   "cell_type": "markdown",
   "metadata": {},
   "source": [
    " <a  href=\"https://moxpower.github.io/about/\"  style=\"color:#ffffff; background-color:#bddbfa;  font-family:Verdana; font-size:13px;  padding:6px 24px; text-decoration:none;  \" class=\"myButton\">Let's get in touch!</a>"
   ]
  },
  {
   "cell_type": "markdown",
   "metadata": {},
   "source": [
    " "
   ]
  },
  {
   "cell_type": "markdown",
   "metadata": {},
   "source": [
    " "
   ]
  },
  {
   "cell_type": "markdown",
   "metadata": {},
   "source": [
    " "
   ]
  },
  {
   "cell_type": "markdown",
   "metadata": {},
   "source": [
    " "
   ]
  },
  {
   "cell_type": "markdown",
   "metadata": {},
   "source": [
    "<script>\n",
    "  $(document).ready(function(){\n",
    "    $('div.prompt').hide();\n",
    "    $('div.back-to-top').hide();\n",
    "    $('nav#menubar').hide();\n",
    "    $('.breadcrumb').hide();\n",
    "    $('.hidden-print').hide();\n",
    "  });\n",
    "</script>\n",
    "\n",
    "<footer id=\"attribution\" style=\"float:right; color:#999; background:#fff;\">\n",
    "Created with Jupyter Notebook and Vorfreude.\n",
    "</footer> "
   ]
  },
  {
   "cell_type": "markdown",
   "metadata": {},
   "source": [
    " "
   ]
  },
  {
   "cell_type": "markdown",
   "metadata": {},
   "source": [
    " "
   ]
  },
  {
   "cell_type": "markdown",
   "metadata": {},
   "source": [
    " "
   ]
  },
  {
   "cell_type": "code",
   "execution_count": 18,
   "metadata": {},
   "outputs": [
    {
     "data": {
      "text/html": [
       "<style> .container { width:50% !important; } div.text_cell_render {font-family: 'Georgia';font-size: 14pt;line-height: 145%;width: 95ex;} div.text_cell {width: 125ex} div.code_cell_render {width: 70ex} div.code_cell {width: 70ex} div.text_cell_render h1 {font-size: 18pt;} div.text_cell_render h2 {font-size: 14pt;}</style>"
      ],
      "text/plain": [
       "<IPython.core.display.HTML object>"
      ]
     },
     "metadata": {},
     "output_type": "display_data"
    }
   ],
   "source": [
    "#HTML style code\n",
    "from IPython.core.display import display, HTML\n",
    "display(HTML(\"<style> .container { width:50% !important; } div.text_cell_render {font-family: 'Georgia';font-size: 14pt;line-height: 145%;width: 95ex;} div.text_cell {width: 125ex} div.code_cell_render {width: 70ex} div.code_cell {width: 70ex} div.text_cell_render h1 {font-size: 18pt;} div.text_cell_render h2 {font-size: 14pt;}</style>\"))"
   ]
  }
 ],
 "metadata": {
  "anaconda-cloud": {
   "attach-environment": true,
   "environment": "Root",
   "summary": "Maximilian Kohl - PhD Application",
   "url": "https://anaconda.org/moxpower/maximilian-kohl-phd-application"
  },
  "cite2c": {
   "citations": {
    "3274827/4KIH999F": {
     "DOI": "10.1109/TCBB.2014.2343960",
     "URL": "http://www.ncbi.nlm.nih.gov/pmc/articles/PMC4348072/",
     "abstract": "Ab initio protein secondary structure (SS) predictions are utilized to generate tertiary structure predictions, which are increasingly demanded due to the rapid discovery of proteins. Although recent developments have slightly exceeded previous methods of SS prediction, accuracy has stagnated around 80% and many wonder if prediction cannot be advanced beyond this ceiling. Disciplines that have traditionally employed neural networks are experimenting with novel deep learning techniques in attempts to stimulate progress. Since neural networks have historically played an important role in SS prediction, we wanted to determine whether deep learning could contribute to the advancement of this field as well. We developed an SS predictor that makes use of the position-specific scoring matrix generated by PSI-BLAST and deep learning network architectures, which we call DNSS. Graphical processing units and CUDA software optimize the deep network architecture and efficiently train the deep networks. Optimal parameters for the training process were determined, and a workflow comprising three separately trained deep networks was constructed in order to make refined predictions. This deep learning network approach was used to predict SS for a fully independent test data set of 198 proteins, achieving a Q3 accuracy of 80.7% and a Sov accuracy of 74.2%.",
     "accessed": {
      "day": "13",
      "month": "9",
      "year": "2016"
     },
     "author": [
      {
       "family": "Spencer",
       "given": "Matt"
      },
      {
       "family": "Eickholt",
       "given": "Jesse"
      },
      {
       "family": "Cheng",
       "given": "Jianlin"
      }
     ],
     "container-title": "IEEE/ACM transactions on computational biology and bioinformatics / IEEE, ACM",
     "container-title-short": "IEEE/ACM Trans Comput Biol Bioinform",
     "id": "3274827/4KIH999F",
     "issue": "1",
     "issued": {
      "year": "2015"
     },
     "journalAbbreviation": "IEEE/ACM Trans Comput Biol Bioinform",
     "note": "PMID: 25750595\nPMCID: PMC4348072",
     "page": "103-112",
     "page-first": "103",
     "title": "A Deep Learning Network Approach to ab initio Protein Secondary Structure Prediction",
     "type": "article-journal",
     "volume": "12"
    },
    "3274827/8EHKKVU6": {
     "DOI": "10.1039/C3NR34231J",
     "URL": "http://pubs.rsc.org/en/content/articlelanding/2013/nr/c3nr34231j",
     "abstract": "We have used scanning force microscopy (SFM) to elucidate the dynamic behavior of open (torsionally unconstrained) circular and long linear DNA molecules during the relaxation process following adsorption onto mica. We find that bending stress and excluded volume effects drive the conformational equilibration via segmental out-of-plane dynamics.",
     "accessed": {
      "day": "11",
      "month": "9",
      "year": "2016"
     },
     "author": [
      {
       "family": "Vanderlinden",
       "given": "Willem"
      },
      {
       "family": "Feyter",
       "given": "Steven De"
      }
     ],
     "container-title": "Nanoscale",
     "container-title-short": "Nanoscale",
     "id": "3274827/8EHKKVU6",
     "issue": "6",
     "issued": {
      "day": 1,
      "month": "3",
      "year": "2013"
     },
     "journalAbbreviation": "Nanoscale",
     "language": "en",
     "page": "2264-2268",
     "page-first": "2264",
     "title": "Chain relaxation dynamics of DNA adsorbing at a solid–liquid interface",
     "type": "article-journal",
     "volume": "5"
    },
    "3274827/BN43987E": {
     "DOI": "10.1073/pnas.1516214113",
     "abstract": "The large plasma glycoprotein von Willebrand factor (VWF) senses hydrodynamic forces in the bloodstream and responds to elevated forces with abrupt elongation, thereby increasing its adhesiveness to platelets and collagen. Remarkably, forces on VWF are elevated at sites of vascular injury, where VWF's hemostatic potential is important to mediate platelet aggregation and to recruit platelets to the subendothelial layer. Adversely, elevated forces in stenosed vessels lead to an increased risk of VWF-mediated thrombosis. To dissect the remarkable force-sensing ability of VWF, we have performed atomic force microscopy (AFM)-based single-molecule force measurements on dimers, the smallest repeating subunits of VWF multimers. We have identified a strong intermonomer interaction that involves the D4 domain and critically depends on the presence of divalent ions, consistent with results from small-angle X-ray scattering (SAXS). Dissociation of this strong interaction occurred at forces above [Formula: see text]50 pN and provided [Formula: see text]80 nm of additional length to the elongation of dimers. Corroborated by the static conformation of VWF, visualized by AFM imaging, we estimate that in VWF multimers approximately one-half of the constituent dimers are firmly closed via the strong intermonomer interaction. As firmly closed dimers markedly shorten VWF's effective length contributing to force sensing, they can be expected to tune VWF's sensitivity to hydrodynamic flow in the blood and to thereby significantly affect VWF's function in hemostasis and thrombosis.",
     "author": [
      {
       "family": "Müller",
       "given": "Jochen P."
      },
      {
       "family": "Mielke",
       "given": "Salomé"
      },
      {
       "family": "Löf",
       "given": "Achim"
      },
      {
       "family": "Obser",
       "given": "Tobias"
      },
      {
       "family": "Beer",
       "given": "Christof"
      },
      {
       "family": "Bruetzel",
       "given": "Linda K."
      },
      {
       "family": "Pippig",
       "given": "Diana A."
      },
      {
       "family": "Vanderlinden",
       "given": "Willem"
      },
      {
       "family": "Lipfert",
       "given": "Jan"
      },
      {
       "family": "Schneppenheim",
       "given": "Reinhard"
      },
      {
       "family": "Benoit",
       "given": "Martin"
      }
     ],
     "container-title": "Proceedings of the National Academy of Sciences of the United States of America",
     "container-title-short": "Proc. Natl. Acad. Sci. U.S.A.",
     "id": "3274827/BN43987E",
     "issue": "5",
     "issued": {
      "day": 2,
      "month": "2",
      "year": "2016"
     },
     "journalAbbreviation": "Proc. Natl. Acad. Sci. U.S.A.",
     "language": "eng",
     "note": "PMID: 26787887\nPMCID: PMC4747740",
     "page": "1208-1213",
     "page-first": "1208",
     "title": "Force sensing by the vascular protein von Willebrand factor is tuned by a strong intermonomer interaction",
     "type": "article-journal",
     "volume": "113"
    },
    "3274827/TE99VRVP": {
     "DOI": "10.1107/S0021889813025843",
     "URL": "http://scripts.iucr.org/cgi-bin/paper?S0021889813025843",
     "accessed": {
      "day": "13",
      "month": "9",
      "year": "2016"
     },
     "author": [
      {
       "family": "Chourou",
       "given": "Slim T."
      },
      {
       "family": "Sarje",
       "given": "Abhinav"
      },
      {
       "family": "Li",
       "given": "Xiaoye S."
      },
      {
       "family": "Chan",
       "given": "Elaine R."
      },
      {
       "family": "Hexemer",
       "given": "Alexander"
      }
     ],
     "container-title": "Journal of Applied Crystallography",
     "id": "3274827/TE99VRVP",
     "issue": "6",
     "issued": {
      "day": "1",
      "month": "12",
      "year": "2013"
     },
     "page": "1781-1795",
     "page-first": "1781",
     "shortTitle": "<i>HipGISAXS</i>",
     "title": "<i>HipGISAXS</i> : a high-performance computing code for simulating grazing-incidence X-ray scattering data",
     "title-short": "<i>HipGISAXS</i>",
     "type": "article-journal",
     "volume": "46"
    },
    "3274827/UJBC5HVD": {
     "DOI": "10.5071/21stEUBCE2013-5DO.12.5",
     "URL": "https://doi.org/10.5071/21stEUBCE2013-5DO.12.5",
     "accessed": {
      "day": "12",
      "month": "9",
      "year": "2016"
     },
     "author": [
      {
       "family": "Kohl",
       "given": "M."
      },
      {
       "family": "Iribarren",
       "given": "D."
      },
      {
       "family": "Petrakopoulou",
       "given": "F."
      },
      {
       "family": "Dufour",
       "given": "J."
      }
     ],
     "id": "3274827/UJBC5HVD",
     "issued": {
      "year": "2013"
     },
     "title": "Life Cycle Assessment of Bioethanol from Microalgae",
     "type": "article-journal"
    },
    "3274827/W9ZXZHIX": {
     "DOI": "10.1038/nnano.2006.63",
     "abstract": "The mechanics of DNA bending on intermediate length scales (5-100 nm) plays a key role in many cellular processes, and is also important in the fabrication of artificial DNA structures, but previous experimental studies of DNA mechanics have focused on longer length scales than these. We use high-resolution atomic force microscopy on individual DNA molecules to obtain a direct measurement of the bending energy function appropriate for scales down to 5 nm. Our measurements imply that the elastic energy of highly bent DNA conformations is lower than predicted by classical elasticity models such as the worm-like chain (WLC) model. For example, we found that on short length scales, spontaneous large-angle bends are many times more prevalent than predicted by the WLC model. We test our data and model with an interlocking set of consistency checks. Our analysis also shows how our model is compatible with previous experiments, which have sometimes been viewed as confirming the WLC.",
     "author": [
      {
       "family": "Wiggins",
       "given": "Paul A."
      },
      {
       "family": "van der Heijden",
       "given": "Thijn"
      },
      {
       "family": "Moreno-Herrero",
       "given": "Fernando"
      },
      {
       "family": "Spakowitz",
       "given": "Andrew"
      },
      {
       "family": "Phillips",
       "given": "Rob"
      },
      {
       "family": "Widom",
       "given": "Jonathan"
      },
      {
       "family": "Dekker",
       "given": "Cees"
      },
      {
       "family": "Nelson",
       "given": "Philip C."
      }
     ],
     "container-title": "Nature Nanotechnology",
     "container-title-short": "Nat Nanotechnol",
     "id": "3274827/W9ZXZHIX",
     "issue": "2",
     "issued": {
      "month": "11",
      "year": "2006"
     },
     "journalAbbreviation": "Nat Nanotechnol",
     "language": "eng",
     "note": "PMID: 18654166",
     "page": "137-141",
     "page-first": "137",
     "title": "High flexibility of DNA on short length scales probed by atomic force microscopy",
     "type": "article-journal",
     "volume": "1"
    }
   }
  },
  "kernelspec": {
   "display_name": "Python 3",
   "language": "python",
   "name": "python3"
  },
  "language_info": {
   "codemirror_mode": {
    "name": "ipython",
    "version": 3
   },
   "file_extension": ".py",
   "mimetype": "text/x-python",
   "name": "python",
   "nbconvert_exporter": "python",
   "pygments_lexer": "ipython3",
   "version": "3.6.1"
  }
 },
 "nbformat": 4,
 "nbformat_minor": 1
}
