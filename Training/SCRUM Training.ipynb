{
 "cells": [
  {
   "cell_type": "markdown",
   "metadata": {},
   "source": [
    "<img src=\"https://raw.githubusercontent.com/moxpower/Data-Science-playground/master/Training/SCRUM_Training_Header.PNG\" width=\"500\">"
   ]
  },
  {
   "cell_type": "markdown",
   "metadata": {},
   "source": [
    " "
   ]
  },
  {
   "cell_type": "markdown",
   "metadata": {},
   "source": [
    " "
   ]
  },
  {
   "cell_type": "markdown",
   "metadata": {},
   "source": [
    "# SCRUM Training - Introduction"
   ]
  },
  {
   "cell_type": "markdown",
   "metadata": {},
   "source": [
    "Before day 1 - please review the below simple overview what SCRUM encompasses"
   ]
  },
  {
   "cell_type": "markdown",
   "metadata": {},
   "source": [
    "<img src=\"https://raw.githubusercontent.com/moxpower/Data-Science-playground/master/img/SCRUM_Mind_Map_TopLevel.PNG\" width=\"1300\"> "
   ]
  },
  {
   "cell_type": "markdown",
   "metadata": {},
   "source": [
    "Optional: If you want, you can already have a brief look at the SCRUM flow below"
   ]
  },
  {
   "cell_type": "markdown",
   "metadata": {},
   "source": [
    "<img src=\"https://raw.githubusercontent.com/moxpower/Data-Science-playground/master/img/SCRUM%20Training.png\" width=\"1800\">"
   ]
  },
  {
   "cell_type": "markdown",
   "metadata": {},
   "source": [
    " "
   ]
  },
  {
   "cell_type": "markdown",
   "metadata": {},
   "source": [
    "# Training Material"
   ]
  },
  {
   "cell_type": "markdown",
   "metadata": {},
   "source": [
    "<a href=\"http://www.scrumguides.org/scrum-guide.html\">\n",
    "<img src=\"https://scrumorg-website-prod.s3.amazonaws.com/drupal/2017-09/ScrumGuide.png\" width=\"300\">\n",
    "</a>"
   ]
  },
  {
   "cell_type": "markdown",
   "metadata": {},
   "source": [
    " "
   ]
  },
  {
   "cell_type": "markdown",
   "metadata": {},
   "source": [
    " "
   ]
  },
  {
   "cell_type": "markdown",
   "metadata": {},
   "source": [
    " "
   ]
  },
  {
   "cell_type": "markdown",
   "metadata": {},
   "source": [
    "<script>\n",
    "  $(document).ready(function(){\n",
    "    $('div.prompt').hide();\n",
    "    $('div.back-to-top').hide();\n",
    "    $('nav#menubar').hide();\n",
    "    $('.breadcrumb').hide();\n",
    "    $('.hidden-print').hide();\n",
    "  });\n",
    "</script>\n",
    "\n",
    "<footer id=\"attribution\" style=\"float:right; color:#999; background:#fff;\">\n",
    "Created with Jupyter Notebook and Vorfreude.\n",
    "</footer> "
   ]
  },
  {
   "cell_type": "markdown",
   "metadata": {},
   "source": [
    " "
   ]
  },
  {
   "cell_type": "markdown",
   "metadata": {},
   "source": [
    " "
   ]
  },
  {
   "cell_type": "markdown",
   "metadata": {},
   "source": [
    " "
   ]
  },
  {
   "cell_type": "code",
   "execution_count": 18,
   "metadata": {},
   "outputs": [
    {
     "data": {
      "text/html": [
       "<style> .container { width:50% !important; } div.text_cell_render {font-family: 'Georgia';font-size: 14pt;line-height: 145%;width: 95ex;} div.text_cell {width: 125ex} div.code_cell_render {width: 70ex} div.code_cell {width: 70ex} div.text_cell_render h1 {font-size: 18pt;} div.text_cell_render h2 {font-size: 14pt;}</style>"
      ],
      "text/plain": [
       "<IPython.core.display.HTML object>"
      ]
     },
     "metadata": {},
     "output_type": "display_data"
    }
   ],
   "source": [
    "#HTML style code\n",
    "from IPython.core.display import display, HTML\n",
    "display(HTML(\"<style> .container { width:50% !important; } div.text_cell_render {font-family: 'Georgia';font-size: 14pt;line-height: 145%;width: 95ex;} div.text_cell {width: 125ex} div.code_cell_render {width: 70ex} div.code_cell {width: 70ex} div.text_cell_render h1 {font-size: 18pt;} div.text_cell_render h2 {font-size: 14pt;}</style>\"))"
   ]
  }
 ],
 "metadata": {
  "anaconda-cloud": {
   "attach-environment": true,
   "environment": "Root",
   "summary": "Maximilian Kohl - PhD Application",
   "url": "https://anaconda.org/moxpower/maximilian-kohl-phd-application"
  },
  "cite2c": {
   "citations": {
    "3274827/4KIH999F": {
     "DOI": "10.1109/TCBB.2014.2343960",
     "URL": "http://www.ncbi.nlm.nih.gov/pmc/articles/PMC4348072/",
     "abstract": "Ab initio protein secondary structure (SS) predictions are utilized to generate tertiary structure predictions, which are increasingly demanded due to the rapid discovery of proteins. Although recent developments have slightly exceeded previous methods of SS prediction, accuracy has stagnated around 80% and many wonder if prediction cannot be advanced beyond this ceiling. Disciplines that have traditionally employed neural networks are experimenting with novel deep learning techniques in attempts to stimulate progress. Since neural networks have historically played an important role in SS prediction, we wanted to determine whether deep learning could contribute to the advancement of this field as well. We developed an SS predictor that makes use of the position-specific scoring matrix generated by PSI-BLAST and deep learning network architectures, which we call DNSS. Graphical processing units and CUDA software optimize the deep network architecture and efficiently train the deep networks. Optimal parameters for the training process were determined, and a workflow comprising three separately trained deep networks was constructed in order to make refined predictions. This deep learning network approach was used to predict SS for a fully independent test data set of 198 proteins, achieving a Q3 accuracy of 80.7% and a Sov accuracy of 74.2%.",
     "accessed": {
      "day": "13",
      "month": "9",
      "year": "2016"
     },
     "author": [
      {
       "family": "Spencer",
       "given": "Matt"
      },
      {
       "family": "Eickholt",
       "given": "Jesse"
      },
      {
       "family": "Cheng",
       "given": "Jianlin"
      }
     ],
     "container-title": "IEEE/ACM transactions on computational biology and bioinformatics / IEEE, ACM",
     "container-title-short": "IEEE/ACM Trans Comput Biol Bioinform",
     "id": "3274827/4KIH999F",
     "issue": "1",
     "issued": {
      "year": "2015"
     },
     "journalAbbreviation": "IEEE/ACM Trans Comput Biol Bioinform",
     "note": "PMID: 25750595\nPMCID: PMC4348072",
     "page": "103-112",
     "page-first": "103",
     "title": "A Deep Learning Network Approach to ab initio Protein Secondary Structure Prediction",
     "type": "article-journal",
     "volume": "12"
    },
    "3274827/8EHKKVU6": {
     "DOI": "10.1039/C3NR34231J",
     "URL": "http://pubs.rsc.org/en/content/articlelanding/2013/nr/c3nr34231j",
     "abstract": "We have used scanning force microscopy (SFM) to elucidate the dynamic behavior of open (torsionally unconstrained) circular and long linear DNA molecules during the relaxation process following adsorption onto mica. We find that bending stress and excluded volume effects drive the conformational equilibration via segmental out-of-plane dynamics.",
     "accessed": {
      "day": "11",
      "month": "9",
      "year": "2016"
     },
     "author": [
      {
       "family": "Vanderlinden",
       "given": "Willem"
      },
      {
       "family": "Feyter",
       "given": "Steven De"
      }
     ],
     "container-title": "Nanoscale",
     "container-title-short": "Nanoscale",
     "id": "3274827/8EHKKVU6",
     "issue": "6",
     "issued": {
      "day": 1,
      "month": "3",
      "year": "2013"
     },
     "journalAbbreviation": "Nanoscale",
     "language": "en",
     "page": "2264-2268",
     "page-first": "2264",
     "title": "Chain relaxation dynamics of DNA adsorbing at a solid–liquid interface",
     "type": "article-journal",
     "volume": "5"
    },
    "3274827/BN43987E": {
     "DOI": "10.1073/pnas.1516214113",
     "abstract": "The large plasma glycoprotein von Willebrand factor (VWF) senses hydrodynamic forces in the bloodstream and responds to elevated forces with abrupt elongation, thereby increasing its adhesiveness to platelets and collagen. Remarkably, forces on VWF are elevated at sites of vascular injury, where VWF's hemostatic potential is important to mediate platelet aggregation and to recruit platelets to the subendothelial layer. Adversely, elevated forces in stenosed vessels lead to an increased risk of VWF-mediated thrombosis. To dissect the remarkable force-sensing ability of VWF, we have performed atomic force microscopy (AFM)-based single-molecule force measurements on dimers, the smallest repeating subunits of VWF multimers. We have identified a strong intermonomer interaction that involves the D4 domain and critically depends on the presence of divalent ions, consistent with results from small-angle X-ray scattering (SAXS). Dissociation of this strong interaction occurred at forces above [Formula: see text]50 pN and provided [Formula: see text]80 nm of additional length to the elongation of dimers. Corroborated by the static conformation of VWF, visualized by AFM imaging, we estimate that in VWF multimers approximately one-half of the constituent dimers are firmly closed via the strong intermonomer interaction. As firmly closed dimers markedly shorten VWF's effective length contributing to force sensing, they can be expected to tune VWF's sensitivity to hydrodynamic flow in the blood and to thereby significantly affect VWF's function in hemostasis and thrombosis.",
     "author": [
      {
       "family": "Müller",
       "given": "Jochen P."
      },
      {
       "family": "Mielke",
       "given": "Salomé"
      },
      {
       "family": "Löf",
       "given": "Achim"
      },
      {
       "family": "Obser",
       "given": "Tobias"
      },
      {
       "family": "Beer",
       "given": "Christof"
      },
      {
       "family": "Bruetzel",
       "given": "Linda K."
      },
      {
       "family": "Pippig",
       "given": "Diana A."
      },
      {
       "family": "Vanderlinden",
       "given": "Willem"
      },
      {
       "family": "Lipfert",
       "given": "Jan"
      },
      {
       "family": "Schneppenheim",
       "given": "Reinhard"
      },
      {
       "family": "Benoit",
       "given": "Martin"
      }
     ],
     "container-title": "Proceedings of the National Academy of Sciences of the United States of America",
     "container-title-short": "Proc. Natl. Acad. Sci. U.S.A.",
     "id": "3274827/BN43987E",
     "issue": "5",
     "issued": {
      "day": 2,
      "month": "2",
      "year": "2016"
     },
     "journalAbbreviation": "Proc. Natl. Acad. Sci. U.S.A.",
     "language": "eng",
     "note": "PMID: 26787887\nPMCID: PMC4747740",
     "page": "1208-1213",
     "page-first": "1208",
     "title": "Force sensing by the vascular protein von Willebrand factor is tuned by a strong intermonomer interaction",
     "type": "article-journal",
     "volume": "113"
    },
    "3274827/TE99VRVP": {
     "DOI": "10.1107/S0021889813025843",
     "URL": "http://scripts.iucr.org/cgi-bin/paper?S0021889813025843",
     "accessed": {
      "day": "13",
      "month": "9",
      "year": "2016"
     },
     "author": [
      {
       "family": "Chourou",
       "given": "Slim T."
      },
      {
       "family": "Sarje",
       "given": "Abhinav"
      },
      {
       "family": "Li",
       "given": "Xiaoye S."
      },
      {
       "family": "Chan",
       "given": "Elaine R."
      },
      {
       "family": "Hexemer",
       "given": "Alexander"
      }
     ],
     "container-title": "Journal of Applied Crystallography",
     "id": "3274827/TE99VRVP",
     "issue": "6",
     "issued": {
      "day": "1",
      "month": "12",
      "year": "2013"
     },
     "page": "1781-1795",
     "page-first": "1781",
     "shortTitle": "<i>HipGISAXS</i>",
     "title": "<i>HipGISAXS</i> : a high-performance computing code for simulating grazing-incidence X-ray scattering data",
     "title-short": "<i>HipGISAXS</i>",
     "type": "article-journal",
     "volume": "46"
    },
    "3274827/UJBC5HVD": {
     "DOI": "10.5071/21stEUBCE2013-5DO.12.5",
     "URL": "https://doi.org/10.5071/21stEUBCE2013-5DO.12.5",
     "accessed": {
      "day": "12",
      "month": "9",
      "year": "2016"
     },
     "author": [
      {
       "family": "Kohl",
       "given": "M."
      },
      {
       "family": "Iribarren",
       "given": "D."
      },
      {
       "family": "Petrakopoulou",
       "given": "F."
      },
      {
       "family": "Dufour",
       "given": "J."
      }
     ],
     "id": "3274827/UJBC5HVD",
     "issued": {
      "year": "2013"
     },
     "title": "Life Cycle Assessment of Bioethanol from Microalgae",
     "type": "article-journal"
    },
    "3274827/W9ZXZHIX": {
     "DOI": "10.1038/nnano.2006.63",
     "abstract": "The mechanics of DNA bending on intermediate length scales (5-100 nm) plays a key role in many cellular processes, and is also important in the fabrication of artificial DNA structures, but previous experimental studies of DNA mechanics have focused on longer length scales than these. We use high-resolution atomic force microscopy on individual DNA molecules to obtain a direct measurement of the bending energy function appropriate for scales down to 5 nm. Our measurements imply that the elastic energy of highly bent DNA conformations is lower than predicted by classical elasticity models such as the worm-like chain (WLC) model. For example, we found that on short length scales, spontaneous large-angle bends are many times more prevalent than predicted by the WLC model. We test our data and model with an interlocking set of consistency checks. Our analysis also shows how our model is compatible with previous experiments, which have sometimes been viewed as confirming the WLC.",
     "author": [
      {
       "family": "Wiggins",
       "given": "Paul A."
      },
      {
       "family": "van der Heijden",
       "given": "Thijn"
      },
      {
       "family": "Moreno-Herrero",
       "given": "Fernando"
      },
      {
       "family": "Spakowitz",
       "given": "Andrew"
      },
      {
       "family": "Phillips",
       "given": "Rob"
      },
      {
       "family": "Widom",
       "given": "Jonathan"
      },
      {
       "family": "Dekker",
       "given": "Cees"
      },
      {
       "family": "Nelson",
       "given": "Philip C."
      }
     ],
     "container-title": "Nature Nanotechnology",
     "container-title-short": "Nat Nanotechnol",
     "id": "3274827/W9ZXZHIX",
     "issue": "2",
     "issued": {
      "month": "11",
      "year": "2006"
     },
     "journalAbbreviation": "Nat Nanotechnol",
     "language": "eng",
     "note": "PMID: 18654166",
     "page": "137-141",
     "page-first": "137",
     "title": "High flexibility of DNA on short length scales probed by atomic force microscopy",
     "type": "article-journal",
     "volume": "1"
    }
   }
  },
  "kernelspec": {
   "display_name": "Python 3",
   "language": "python",
   "name": "python3"
  },
  "language_info": {
   "codemirror_mode": {
    "name": "ipython",
    "version": 3
   },
   "file_extension": ".py",
   "mimetype": "text/x-python",
   "name": "python",
   "nbconvert_exporter": "python",
   "pygments_lexer": "ipython3",
   "version": "3.6.1"
  }
 },
 "nbformat": 4,
 "nbformat_minor": 1
}
