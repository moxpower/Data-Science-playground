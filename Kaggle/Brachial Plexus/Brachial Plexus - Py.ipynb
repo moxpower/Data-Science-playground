{
 "cells": [
  {
   "cell_type": "markdown",
   "metadata": {},
   "source": [
    "<img src='https://upload.wikimedia.org/wikipedia/commons/3/3a/Gray808.png'>"
   ]
  },
  {
   "cell_type": "markdown",
   "metadata": {},
   "source": [
    "**Task**: segment a collection of nerves called the Brachial Plexus (BP) in ultrasound images\n",
    "\n",
    "**Evaluation**: <img src='../img/dice.png'>"
   ]
  },
  {
   "cell_type": "markdown",
   "metadata": {
    "collapsed": true
   },
   "source": [
    "# visualization of prepared data"
   ]
  },
  {
   "cell_type": "code",
   "execution_count": 9,
   "metadata": {
    "collapsed": false
   },
   "outputs": [],
   "source": [
    "import numpy as np\n",
    "import pandas as pd\n",
    "import matplotlib.pyplot as plt\n",
    "%matplotlib inline\n",
    "\n",
    "imgs_id_test = np.load('../src/brachial/imgs_id_test.npy')\n",
    "imgs_mask_train = np.load('../src/brachial/imgs_mask_train.npy')\n",
    "imgs_test = np.load('../src/brachial/imgs_test.npy')\n",
    "imgs_train = np.load('../src/brachial/imgs_train.npy')"
   ]
  },
  {
   "cell_type": "code",
   "execution_count": 10,
   "metadata": {
    "collapsed": false
   },
   "outputs": [
    {
     "data": {
      "text/plain": [
       "(12, 1, 420, 580)"
      ]
     },
     "execution_count": 10,
     "metadata": {},
     "output_type": "execute_result"
    }
   ],
   "source": [
    "imgs_train.shape"
   ]
  },
  {
   "cell_type": "markdown",
   "metadata": {},
   "source": [
    "**id** of each test picture:"
   ]
  },
  {
   "cell_type": "code",
   "execution_count": 11,
   "metadata": {
    "collapsed": false
   },
   "outputs": [
    {
     "data": {
      "text/plain": [
       "array([ 1, 10,  2,  3,  4,  5,  6,  7,  8,  9])"
      ]
     },
     "execution_count": 11,
     "metadata": {},
     "output_type": "execute_result"
    }
   ],
   "source": [
    "imgs_id_test"
   ]
  },
  {
   "cell_type": "markdown",
   "metadata": {},
   "source": [
    "test img **representation**"
   ]
  },
  {
   "cell_type": "code",
   "execution_count": 16,
   "metadata": {
    "collapsed": false
   },
   "outputs": [
    {
     "data": {
      "text/html": [
       "<div>\n",
       "<table border=\"1\" class=\"dataframe\">\n",
       "  <thead>\n",
       "    <tr style=\"text-align: right;\">\n",
       "      <th></th>\n",
       "      <th>0</th>\n",
       "      <th>1</th>\n",
       "      <th>2</th>\n",
       "      <th>3</th>\n",
       "      <th>4</th>\n",
       "      <th>5</th>\n",
       "      <th>6</th>\n",
       "      <th>7</th>\n",
       "      <th>8</th>\n",
       "      <th>9</th>\n",
       "      <th>...</th>\n",
       "      <th>570</th>\n",
       "      <th>571</th>\n",
       "      <th>572</th>\n",
       "      <th>573</th>\n",
       "      <th>574</th>\n",
       "      <th>575</th>\n",
       "      <th>576</th>\n",
       "      <th>577</th>\n",
       "      <th>578</th>\n",
       "      <th>579</th>\n",
       "    </tr>\n",
       "  </thead>\n",
       "  <tbody>\n",
       "    <tr>\n",
       "      <th>0</th>\n",
       "      <td>0</td>\n",
       "      <td>188</td>\n",
       "      <td>172</td>\n",
       "      <td>168</td>\n",
       "      <td>162</td>\n",
       "      <td>159</td>\n",
       "      <td>159</td>\n",
       "      <td>159</td>\n",
       "      <td>161</td>\n",
       "      <td>162</td>\n",
       "      <td>...</td>\n",
       "      <td>119</td>\n",
       "      <td>115</td>\n",
       "      <td>113</td>\n",
       "      <td>112</td>\n",
       "      <td>112</td>\n",
       "      <td>114</td>\n",
       "      <td>116</td>\n",
       "      <td>116</td>\n",
       "      <td>115</td>\n",
       "      <td>114</td>\n",
       "    </tr>\n",
       "    <tr>\n",
       "      <th>1</th>\n",
       "      <td>0</td>\n",
       "      <td>255</td>\n",
       "      <td>255</td>\n",
       "      <td>255</td>\n",
       "      <td>255</td>\n",
       "      <td>255</td>\n",
       "      <td>255</td>\n",
       "      <td>255</td>\n",
       "      <td>255</td>\n",
       "      <td>255</td>\n",
       "      <td>...</td>\n",
       "      <td>194</td>\n",
       "      <td>191</td>\n",
       "      <td>184</td>\n",
       "      <td>182</td>\n",
       "      <td>182</td>\n",
       "      <td>184</td>\n",
       "      <td>186</td>\n",
       "      <td>185</td>\n",
       "      <td>177</td>\n",
       "      <td>172</td>\n",
       "    </tr>\n",
       "    <tr>\n",
       "      <th>2</th>\n",
       "      <td>0</td>\n",
       "      <td>255</td>\n",
       "      <td>255</td>\n",
       "      <td>255</td>\n",
       "      <td>255</td>\n",
       "      <td>255</td>\n",
       "      <td>255</td>\n",
       "      <td>255</td>\n",
       "      <td>253</td>\n",
       "      <td>252</td>\n",
       "      <td>...</td>\n",
       "      <td>215</td>\n",
       "      <td>211</td>\n",
       "      <td>203</td>\n",
       "      <td>200</td>\n",
       "      <td>204</td>\n",
       "      <td>204</td>\n",
       "      <td>208</td>\n",
       "      <td>205</td>\n",
       "      <td>192</td>\n",
       "      <td>185</td>\n",
       "    </tr>\n",
       "    <tr>\n",
       "      <th>3</th>\n",
       "      <td>0</td>\n",
       "      <td>179</td>\n",
       "      <td>164</td>\n",
       "      <td>158</td>\n",
       "      <td>157</td>\n",
       "      <td>157</td>\n",
       "      <td>158</td>\n",
       "      <td>161</td>\n",
       "      <td>165</td>\n",
       "      <td>166</td>\n",
       "      <td>...</td>\n",
       "      <td>204</td>\n",
       "      <td>205</td>\n",
       "      <td>205</td>\n",
       "      <td>206</td>\n",
       "      <td>204</td>\n",
       "      <td>196</td>\n",
       "      <td>185</td>\n",
       "      <td>184</td>\n",
       "      <td>179</td>\n",
       "      <td>179</td>\n",
       "    </tr>\n",
       "    <tr>\n",
       "      <th>4</th>\n",
       "      <td>0</td>\n",
       "      <td>161</td>\n",
       "      <td>135</td>\n",
       "      <td>134</td>\n",
       "      <td>132</td>\n",
       "      <td>133</td>\n",
       "      <td>128</td>\n",
       "      <td>132</td>\n",
       "      <td>137</td>\n",
       "      <td>141</td>\n",
       "      <td>...</td>\n",
       "      <td>218</td>\n",
       "      <td>224</td>\n",
       "      <td>234</td>\n",
       "      <td>240</td>\n",
       "      <td>239</td>\n",
       "      <td>224</td>\n",
       "      <td>210</td>\n",
       "      <td>199</td>\n",
       "      <td>191</td>\n",
       "      <td>196</td>\n",
       "    </tr>\n",
       "  </tbody>\n",
       "</table>\n",
       "<p>5 rows × 580 columns</p>\n",
       "</div>"
      ],
      "text/plain": [
       "   0    1    2    3    4    5    6    7    8    9   ...   570  571  572  573  \\\n",
       "0    0  188  172  168  162  159  159  159  161  162 ...   119  115  113  112   \n",
       "1    0  255  255  255  255  255  255  255  255  255 ...   194  191  184  182   \n",
       "2    0  255  255  255  255  255  255  255  253  252 ...   215  211  203  200   \n",
       "3    0  179  164  158  157  157  158  161  165  166 ...   204  205  205  206   \n",
       "4    0  161  135  134  132  133  128  132  137  141 ...   218  224  234  240   \n",
       "\n",
       "   574  575  576  577  578  579  \n",
       "0  112  114  116  116  115  114  \n",
       "1  182  184  186  185  177  172  \n",
       "2  204  204  208  205  192  185  \n",
       "3  204  196  185  184  179  179  \n",
       "4  239  224  210  199  191  196  \n",
       "\n",
       "[5 rows x 580 columns]"
      ]
     },
     "execution_count": 16,
     "metadata": {},
     "output_type": "execute_result"
    }
   ],
   "source": [
    "df_test = pd.Panel4D(imgs_test)\n",
    "df = df_test[1][0]\n",
    "df.head()"
   ]
  },
  {
   "cell_type": "code",
   "execution_count": null,
   "metadata": {
    "collapsed": true
   },
   "outputs": [],
   "source": [
    "pseudo_time = df_test.index.tolist()\n",
    "target = df_test[1][0].Demanda_uni_equil.tolist()\n",
    "\n",
    "plt.hist2d(pseudo_time, target, bins=[50,20])\n",
    "label_plot('Histogram of target value over index', 'Index', 'Target')\n",
    "plt.show()"
   ]
  },
  {
   "cell_type": "code",
   "execution_count": null,
   "metadata": {
    "collapsed": true
   },
   "outputs": [],
   "source": []
  },
  {
   "cell_type": "code",
   "execution_count": 16,
   "metadata": {
    "collapsed": false
   },
   "outputs": [
    {
     "data": {
      "text/plain": [
       "<matplotlib.axes._subplots.AxesSubplot at 0xb69edb0>"
      ]
     },
     "execution_count": 16,
     "metadata": {},
     "output_type": "execute_result"
    },
    {
     "data": {
      "image/png": "[encoded data removed]",
      "text/plain": [
       "<matplotlib.figure.Figure at 0xa0aef90>"
      ]
     },
     "metadata": {},
     "output_type": "display_data"
    }
   ],
   "source": [
    "\n",
    "df = pd.DataFrame(np.concatenate(df.values))\n",
    "df.plot(kind='hist', bins=255)"
   ]
  },
  {
   "cell_type": "markdown",
   "metadata": {},
   "source": [
    "train img **representation**"
   ]
  },
  {
   "cell_type": "code",
   "execution_count": 30,
   "metadata": {
    "collapsed": false
   },
   "outputs": [
    {
     "data": {
      "text/plain": [
       "<matplotlib.axes._subplots.AxesSubplot at 0xbc3e0f0>"
      ]
     },
     "execution_count": 30,
     "metadata": {},
     "output_type": "execute_result"
    },
    {
     "data": {
      "image/png": "[encoded data removed]",
      "text/plain": [
       "<matplotlib.figure.Figure at 0xd7b65b0>"
      ]
     },
     "metadata": {},
     "output_type": "display_data"
    }
   ],
   "source": [
    "df_test = pd.Panel4D(imgs_train)\n",
    "df = df_test[10][0]\n",
    "df = pd.DataFrame(np.concatenate(df.values))\n",
    "df.plot(kind='hist', bins=255)"
   ]
  },
  {
   "cell_type": "code",
   "execution_count": null,
   "metadata": {
    "collapsed": true
   },
   "outputs": [],
   "source": [
    "# Feature preparation:\n",
    "- spectogram (mark vs high white peak)\n"
   ]
  }
 ],
 "metadata": {
  "kernelspec": {
   "display_name": "Python 3",
   "language": "python",
   "name": "python3"
  },
  "language_info": {
   "codemirror_mode": {
    "name": "ipython",
    "version": 3
   },
   "file_extension": ".py",
   "mimetype": "text/x-python",
   "name": "python",
   "nbconvert_exporter": "python",
   "pygments_lexer": "ipython3",
   "version": "3.5.1"
  }
 },
 "nbformat": 4,
 "nbformat_minor": 0
}
