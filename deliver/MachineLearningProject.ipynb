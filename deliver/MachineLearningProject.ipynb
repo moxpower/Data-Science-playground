{
 "cells": [
  {
   "cell_type": "markdown",
   "metadata": {},
   "source": [
    "Below is a demonstration of applied [Machine learning](https://en.wikipedia.org/wiki/Machine_learning) to **identify persons of interest (POI) of the [Enron scandal](https://en.wikipedia.org/wiki/Enron_scandal)**.\n",
    "\n",
    "(We use financial information of Enron employees to find out if they have a high potential of having been inflicted in fraud. Features - such as salary - that I think could make them interesting for this case are analysed with machine learning techniques - such as [Decision Trees](https://en.wikipedia.org/wiki/Decision_tree). Results are then compared with an existing list of POIs.)"
   ]
  },
  {
   "cell_type": "markdown",
   "metadata": {},
   "source": [
    "### Findings\n",
    "\n",
    "- The dataset contains very few data points\n",
    "- Using the 'Decision tree' algorithm we could predict POIs with low certainty (accuracy 0.67, precision 0.39, recall 0.37)"
   ]
  },
  {
   "cell_type": "markdown",
   "metadata": {},
   "source": [
    "<br>\n",
    "\n",
    "Let's go!"
   ]
  },
  {
   "cell_type": "code",
   "execution_count": 34,
   "metadata": {
    "collapsed": false
   },
   "outputs": [],
   "source": [
    "#!/usr/bin/python\n",
    "\n",
    "### Load standard libraries:\n",
    "import sys\n",
    "import pickle\n",
    "from time import time\n",
    "import numpy as np\n",
    "import pandas as pd\n",
    "from pandas.tools.plotting import scatter_matrix\n",
    "import matplotlib.pyplot as plt\n",
    "%matplotlib inline\n",
    "from IPython.display import Image\n",
    "\n",
    "### Load local libraries:\n",
    "sys.path.append(\"../src/\")\n",
    "#from email_preprocess import preprocess\n",
    "from feature_format import featureFormat, targetFeatureSplit\n",
    "from tester import dump_classifier_and_data\n",
    "\n",
    "### Load dataset:\n",
    "with open(\"../data/final_project_dataset.pkl\", \"r\") as data_file:\n",
    "    data_dict = pickle.load(data_file)"
   ]
  },
  {
   "cell_type": "markdown",
   "metadata": {},
   "source": [
    "Let's explore the dataset:"
   ]
  },
  {
   "cell_type": "code",
   "execution_count": 35,
   "metadata": {
    "collapsed": false
   },
   "outputs": [
    {
     "name": "stdout",
     "output_type": "stream",
     "text": [
      "146 entries \n",
      "\n",
      "with keys like: \n",
      "['METTS MARK', 'BAXTER JOHN C', 'ELLIOTT STEVEN', 'CORDES WILLIAM R'] \n",
      "\n",
      "and these features:\n",
      "bonus\n",
      "deferral_payments\n",
      "deferred_income\n",
      "director_fees\n",
      "email_address\n",
      "exercised_stock_options\n",
      "expenses\n",
      "from_messages\n",
      "from_poi_to_this_person\n",
      "from_this_person_to_poi\n",
      "loan_advances\n",
      "long_term_incentive\n",
      "other\n",
      "poi\n",
      "restricted_stock\n",
      "restricted_stock_deferred\n",
      "salary\n",
      "shared_receipt_with_poi\n",
      "to_messages\n",
      "total_payments\n",
      "total_stock_value\n"
     ]
    }
   ],
   "source": [
    "print len(data_dict), \"entries\" ,'\\n','\\n', \"with keys like:\", '\\n', data_dict.keys()[:4] , '\\n', '\\n' ,  \"and these features:\"\n",
    "print \"\\n\".join([str(x) for x in sorted(data_dict['METTS MARK'].keys())] )"
   ]
  },
  {
   "cell_type": "markdown",
   "metadata": {},
   "source": [
    "\"from poi to this person\" is the number of mails coming from a person of interest. Let's create new normalized features to make use of these from and to poi emails:"
   ]
  },
  {
   "cell_type": "code",
   "execution_count": 36,
   "metadata": {
    "collapsed": false
   },
   "outputs": [
    {
     "name": "stdout",
     "output_type": "stream",
     "text": [
      "Ok\n"
     ]
    }
   ],
   "source": [
    "### The new features are fraction_to_poi_email, fraction_from_poi_email\n",
    "\n",
    "### Extract the dict elements and parse them to a list\n",
    "def dict_to_list(key,normalizer):\n",
    "    new_list=[]\n",
    "\n",
    "    for i in data_dict:\n",
    "        if data_dict[i][key]==\"NaN\" or data_dict[i][normalizer]==\"NaN\":\n",
    "            new_list.append(0.)\n",
    "        elif data_dict[i][key]>=0:\n",
    "            new_list.append(float(data_dict[i][key])/float(data_dict[i][normalizer]))\n",
    "    return new_list\n",
    "\n",
    "fract_from_poi_email = dict_to_list(\"from_poi_to_this_person\",\"to_messages\")\n",
    "fract_to_poi_email = dict_to_list(\"from_this_person_to_poi\",\"from_messages\")\n",
    "\n",
    "### Test if data is congruent\n",
    "if len(fract_from_poi_email) == len(fract_to_poi_email) == len(data_dict):\n",
    "    print \"Ok\""
   ]
  },
  {
   "cell_type": "markdown",
   "metadata": {},
   "source": [
    "We add them to the dataset"
   ]
  },
  {
   "cell_type": "code",
   "execution_count": 37,
   "metadata": {
    "collapsed": true
   },
   "outputs": [],
   "source": [
    "for count, i in enumerate(data_dict):\n",
    "    data_dict[i][\"fract_from_poi_email\"] = fract_from_poi_email[count]\n",
    "    data_dict[i][\"fract_to_poi_email\"] = fract_to_poi_email[count]"
   ]
  },
  {
   "cell_type": "markdown",
   "metadata": {},
   "source": [
    "Now we can select the features for our classifiers:"
   ]
  },
  {
   "cell_type": "code",
   "execution_count": 38,
   "metadata": {
    "collapsed": false
   },
   "outputs": [],
   "source": [
    "###  All available features\n",
    "features_list = [ 'poi',\n",
    "                 'deferral_payments',\n",
    " 'expenses',\n",
    " 'deferred_income',\n",
    " 'long_term_incentive',\n",
    " 'restricted_stock_deferred',\n",
    " 'fract_to_poi_email',\n",
    " 'loan_advances',\n",
    " 'director_fees',\n",
    " 'bonus',\n",
    " 'total_stock_value',\n",
    " 'from_poi_to_this_person',\n",
    " 'from_this_person_to_poi',\n",
    " 'restricted_stock',\n",
    " 'salary',\n",
    " 'total_payments',\n",
    " 'fract_from_poi_email',\n",
    " 'exercised_stock_options']\n",
    "\n",
    "### Exerpt of impactful features\n",
    "##features_list = [\"poi\", \"fract_from_poi_email\", \"fract_to_poi_email\", \"shared_receipt_with_poi\"]\n",
    "#features_list = [\"poi\", \"deferred_income\", \"deferral_payments\",  \"total_stock_value\", \"exercised_stock_options\", \"fract_to_poi_email\", \"shared_receipt_with_poi\"]"
   ]
  },
  {
   "cell_type": "code",
   "execution_count": 39,
   "metadata": {
    "collapsed": false
   },
   "outputs": [],
   "source": [
    "### Remove outliers [I](See data exploration I below.)\n",
    "data_dict.pop(\"TOTAL\",0)\n",
    "data = featureFormat(data_dict, features_list)\n",
    "labels, features = targetFeatureSplit(data)"
   ]
  },
  {
   "cell_type": "markdown",
   "metadata": {},
   "source": [
    "Preprocess<br>\n",
    "Cross validation - split data into train and test"
   ]
  },
  {
   "cell_type": "code",
   "execution_count": 40,
   "metadata": {
    "collapsed": false
   },
   "outputs": [],
   "source": [
    "from sklearn import cross_validation\n",
    "from sklearn.preprocessing import StandardScaler\n",
    "features = StandardScaler().fit_transform(features)\n",
    "features_train, features_test, labels_train, labels_test = cross_validation.train_test_split(features, labels, test_size=0.1, random_state=42)"
   ]
  },
  {
   "cell_type": "code",
   "execution_count": 41,
   "metadata": {
    "collapsed": false
   },
   "outputs": [],
   "source": [
    "### Classification\n",
    "# Note that if you want to do PCA or other multi-stage operations,\n",
    "# you'll need to use Pipelines. For more info:\n",
    "# http://scikit-learn.org/stable/modules/pipeline.html"
   ]
  },
  {
   "cell_type": "markdown",
   "metadata": {},
   "source": [
    "###DecisionTree"
   ]
  },
  {
   "cell_type": "code",
   "execution_count": 42,
   "metadata": {
    "collapsed": false
   },
   "outputs": [
    {
     "name": "stdout",
     "output_type": "stream",
     "text": [
      "[0.1111111111111111, 0.1111111111111111, 0.1111111111111111, 0.16666666666666666, 0.0, 0.055555555555555552, 0.0, 0.0, 0.055555555555555552]\n"
     ]
    }
   ],
   "source": [
    "### DecisionTree: Precision, Recall, parameter tuning\n",
    "from sklearn.tree import DecisionTreeClassifier\n",
    "from sklearn.metrics import precision_score, accuracy_score, recall_score\n",
    "\n",
    "# (Possibility to loop results for several runs and to plot them below)\n",
    "k_range = range(1,10)\n",
    "k_scores=[]\n",
    "for k in k_range:\n",
    "    clf = DecisionTreeClassifier(min_samples_split=k)\n",
    "    score = cross_validation.cross_val_score(clf, features, labels, cv=3, scoring='recall')\n",
    "    k_scores.append(score.mean())\n",
    "print k_scores"
   ]
  },
  {
   "cell_type": "code",
   "execution_count": 43,
   "metadata": {
    "collapsed": false
   },
   "outputs": [
    {
     "data": {
      "text/plain": [
       "<matplotlib.text.Text at 0x1097a55d0>"
      ]
     },
     "execution_count": 43,
     "metadata": {},
     "output_type": "execute_result"
    },
    {
     "data": {
      "image/png": "[encoded data removed]",
      "text/plain": [
       "<matplotlib.figure.Figure at 0x10974ff50>"
      ]
     },
     "metadata": {},
     "output_type": "display_data"
    }
   ],
   "source": [
    "plt.plot(k_range, k_scores)\n",
    "plt.xlabel('k')\n",
    "plt.ylabel('score')"
   ]
  },
  {
   "cell_type": "code",
   "execution_count": 44,
   "metadata": {
    "collapsed": false
   },
   "outputs": [
    {
     "name": "stdout",
     "output_type": "stream",
     "text": [
      "Decision tree fit complete\n",
      "accuracy 0.67\n",
      "precision 0.39\n",
      "recall 0.37\n"
     ]
    }
   ],
   "source": [
    "acc = []\n",
    "pre = []\n",
    "rec = []\n",
    "\n",
    "for i in range(1,50):\n",
    "    clf = DecisionTreeClassifier(min_samples_split=3)\n",
    "    clf = clf.fit(features_train, labels_train)\n",
    "    pred = clf.predict(features_test,labels_test)\n",
    "    acc.append(accuracy_score(labels_test,pred))\n",
    "    pre.append(precision_score(labels_test,pred))\n",
    "    rec.append(recall_score(labels_test,pred))\n",
    "    \n",
    "print \"Decision tree fit complete\"\n",
    "print \"accuracy\", round(np.mean(acc),2)\n",
    "print \"precision\", round(np.mean(pre),2)\n",
    "print \"recall\", round(np.mean(rec),2)"
   ]
  },
  {
   "cell_type": "markdown",
   "metadata": {},
   "source": [
    "#Comparison to other classifiers"
   ]
  },
  {
   "cell_type": "markdown",
   "metadata": {},
   "source": [
    "We compared results with other algorithms such as RandomForest or SVC. With the low amount of input data we were not able to find substantially higher results."
   ]
  },
  {
   "cell_type": "markdown",
   "metadata": {},
   "source": [
    "# Data exploration"
   ]
  },
  {
   "cell_type": "code",
   "execution_count": 69,
   "metadata": {
    "collapsed": false
   },
   "outputs": [],
   "source": [
    "feat = pd.DataFrame(features, columns=features_list[1:])"
   ]
  },
  {
   "cell_type": "code",
   "execution_count": 70,
   "metadata": {
    "collapsed": false,
    "scrolled": true
   },
   "outputs": [
    {
     "data": {
      "text/html": [
       "<script type=\"text/javascript\">\n",
       "if ($(\"#dg-css\").length == 0){\n",
       "    $(\"head\").append([\n",
       "        \"<link href='https://cdn.rawgit.com/quantopian/qgrid/72d356cb123fab413dba73ec46616e4916fbd827/qgrid/qgridjs//lib/slick.grid.css' rel='stylesheet'>\",\n",
       "        \"<link href='https://cdn.rawgit.com/quantopian/qgrid/72d356cb123fab413dba73ec46616e4916fbd827/qgrid/qgridjs//lib/slick-default-theme.css' rel='stylesheet'>\",\n",
       "        \"<link href='http://cdnjs.cloudflare.com/ajax/libs/jqueryui/1.10.4/css/jquery-ui.min.css' rel='stylesheet'>\",\n",
       "        \"<link id='dg-css' href='https://cdn.rawgit.com/quantopian/qgrid/72d356cb123fab413dba73ec46616e4916fbd827/qgrid/qgridjs//qgrid.css' rel='stylesheet'>\"\n",
       "    ]);\n",
       "}\n",
       "</script>\n",
       "<div class='q-grid-container'>\n",
       "<div id='38fd440b-3add-41be-90fb-c12bd24d4fd5' class='q-grid'></div>\n",
       "</div>"
      ]
     },
     "metadata": {},
     "output_type": "display_data"
    },
    {
     "data": {
      "application/javascript": [
       "var path_dictionary = {\n",
       "    jquery_drag: \"https://cdn.rawgit.com/quantopian/qgrid/72d356cb123fab413dba73ec46616e4916fbd827/qgrid/qgridjs//lib/jquery.event.drag-2.2\",\n",
       "    slick_core: \"https://cdn.rawgit.com/quantopian/qgrid/72d356cb123fab413dba73ec46616e4916fbd827/qgrid/qgridjs//lib/slick.core.2.2\",\n",
       "    slick_data_view: \"https://cdn.rawgit.com/quantopian/qgrid/72d356cb123fab413dba73ec46616e4916fbd827/qgrid/qgridjs//lib/slick.dataview.2.2\",\n",
       "    slick_check_box_column: \"https://cdn.rawgit.com/quantopian/qgrid/72d356cb123fab413dba73ec46616e4916fbd827/qgrid/qgridjs//lib/slick.checkboxselectcolumn\",\n",
       "    slick_row_selection_model: \"https://cdn.rawgit.com/quantopian/qgrid/72d356cb123fab413dba73ec46616e4916fbd827/qgrid/qgridjs//lib/slick.rowselectionmodel\",\n",
       "    slick_grid: \"https://cdn.rawgit.com/quantopian/qgrid/72d356cb123fab413dba73ec46616e4916fbd827/qgrid/qgridjs//lib/slick.grid.2.2\",\n",
       "    data_grid: \"https://cdn.rawgit.com/quantopian/qgrid/72d356cb123fab413dba73ec46616e4916fbd827/qgrid/qgridjs//qgrid\",\n",
       "    date_filter: \"https://cdn.rawgit.com/quantopian/qgrid/72d356cb123fab413dba73ec46616e4916fbd827/qgrid/qgridjs//qgrid.datefilter\",\n",
       "    slider_filter: \"https://cdn.rawgit.com/quantopian/qgrid/72d356cb123fab413dba73ec46616e4916fbd827/qgrid/qgridjs//qgrid.sliderfilter\",\n",
       "    text_filter: \"https://cdn.rawgit.com/quantopian/qgrid/72d356cb123fab413dba73ec46616e4916fbd827/qgrid/qgridjs//qgrid.textfilter\",\n",
       "    filter_base:  \"https://cdn.rawgit.com/quantopian/qgrid/72d356cb123fab413dba73ec46616e4916fbd827/qgrid/qgridjs//qgrid.filterbase\",\n",
       "    handlebars: \"https://cdnjs.cloudflare.com/ajax/libs/handlebars.js/2.0.0/handlebars.min\"\n",
       "};\n",
       "\n",
       "var existing_config = require.s.contexts._.config;\n",
       "if (!existing_config.paths['underscore']){\n",
       "    path_dictionary['underscore'] = \"https://cdnjs.cloudflare.com/ajax/libs/underscore.js/1.7.0/underscore-min\";\n",
       "}\n",
       "\n",
       "if (!existing_config.paths['moment']){\n",
       "    path_dictionary['moment'] = \"https://cdnjs.cloudflare.com/ajax/libs/moment.js/2.8.3/moment.min\";\n",
       "}\n",
       "\n",
       "if (!existing_config.paths['jqueryui']){\n",
       "    path_dictionary['jqueryui'] = \"https://ajax.googleapis.com/ajax/libs/jqueryui/1.11.1/jquery-ui.min\";\n",
       "}\n",
       "\n",
       "require.config({\n",
       "    paths: path_dictionary\n",
       "});\n",
       "\n",
       "if (typeof jQuery === 'function') {\n",
       "    define('jquery', function() { return jQuery; });\n",
       "}\n",
       "\n",
       "require([\n",
       "    'jquery',\n",
       "    'jquery_drag',\n",
       "    'slick_core',\n",
       "    'slick_data_view'\n",
       "],\n",
       "function($){\n",
       "    $('#38fd440b-3add-41be-90fb-c12bd24d4fd5').closest('.rendered_html').removeClass('rendered_html');\n",
       "    require([\n",
       "      'slick_check_box_column',\n",
       "      'slick_row_selection_model',\n",
       "      'slick_grid'\n",
       "    ], function(){\n",
       "        require([\"data_grid\"], function(dgrid){\n",
       "            var grid = new dgrid.QGrid('#38fd440b-3add-41be-90fb-c12bd24d4fd5', [{\"null\":0,\"deferral_payments\":-0.2955,\"expenses\":1.305,\"deferred_income\":0.3207,\"long_term_incentive\":-0.4921,\"restricted_stock_deferred\":-0.0566,\"fract_to_poi_email\":-0.4071,\"loan_advances\":-0.0861,\"director_fees\":-0.32,\"bonus\":-0.0618,\"total_stock_value\":-0.3769,\"from_poi_to_this_person\":-0.0102,\"from_this_person_to_poi\":-0.2972,\"restricted_stock\":-0.1411,\"salary\":0.9184,\"total_payments\":-0.1358,\"fract_from_poi_email\":0.6728,\"exercised_stock_options\":-0.4344},{\"null\":1,\"deferral_payments\":1.4287,\"expenses\":-0.5354,\"deferred_income\":-1.9744,\"long_term_incentive\":1.8241,\"restricted_stock_deferred\":-0.0566,\"fract_to_poi_email\":-0.5932,\"loan_advances\":-0.0861,\"director_fees\":-0.32,\"bonus\":0.4264,\"total_stock_value\":1.2507,\"from_poi_to_this_person\":-0.5236,\"from_this_person_to_poi\":-0.3097,\"restricted_stock\":1.5298,\"salary\":0.4159,\"total_payments\":0.3829,\"fract_from_poi_email\":-0.6247,\"exercised_stock_options\":0.9636},{\"null\":2,\"deferral_payments\":-0.2955,\"expenses\":0.9563,\"deferred_income\":-0.3428,\"long_term_incentive\":-0.4921,\"restricted_stock_deferred\":-0.0566,\"fract_to_poi_email\":-0.5932,\"loan_advances\":-0.0861,\"director_fees\":-0.32,\"bonus\":-0.2653,\"total_stock_value\":0.6111,\"from_poi_to_this_person\":-0.5236,\"from_this_person_to_poi\":-0.3097,\"restricted_stock\":0.4577,\"salary\":-0.0739,\"total_payments\":-0.2322,\"fract_from_poi_email\":-0.6247,\"exercised_stock_options\":0.589},{\"null\":3,\"deferral_payments\":-0.2955,\"expenses\":-0.7835,\"deferred_income\":0.3207,\"long_term_incentive\":-0.4921,\"restricted_stock_deferred\":-0.0566,\"fract_to_poi_email\":-0.5932,\"loan_advances\":-0.0861,\"director_fees\":-0.32,\"bonus\":-0.5501,\"total_stock_value\":-0.3035,\"from_poi_to_this_person\":-0.3885,\"from_this_person_to_poi\":-0.3097,\"restricted_stock\":-0.24,\"salary\":-0.9444,\"total_payments\":-0.2563,\"fract_from_poi_email\":-0.2641,\"exercised_stock_options\":-0.298},{\"null\":4,\"deferral_payments\":-0.2955,\"expenses\":-0.0296,\"deferred_income\":-4.8407,\"long_term_incentive\":1.8693,\"restricted_stock_deferred\":-0.0566,\"fract_to_poi_email\":2.9485,\"loan_advances\":-0.0861,\"director_fees\":-0.32,\"bonus\":0.6705,\"total_stock_value\":0.5645,\"from_poi_to_this_person\":-0.0913,\"from_this_person_to_poi\":-0.0456,\"restricted_stock\":-0.0077,\"salary\":0.2946,\"total_payments\":-0.2235,\"fract_from_poi_email\":0.2191,\"exercised_stock_options\":0.7245},{\"null\":5,\"deferral_payments\":-0.2955,\"expenses\":-0.0079,\"deferred_income\":0.3207,\"long_term_incentive\":-0.4921,\"restricted_stock_deferred\":-0.0566,\"fract_to_poi_email\":-0.5932,\"loan_advances\":-0.0861,\"director_fees\":-0.32,\"bonus\":-0.2856,\"total_stock_value\":-0.438,\"from_poi_to_this_person\":-0.5236,\"from_this_person_to_poi\":-0.3097,\"restricted_stock\":-0.3284,\"salary\":0.4158,\"total_payments\":-0.185,\"fract_from_poi_email\":-0.6247,\"exercised_stock_options\":-0.4344},{\"null\":6,\"deferral_payments\":2.1639,\"expenses\":-0.7835,\"deferred_income\":0.3207,\"long_term_incentive\":-0.4921,\"restricted_stock_deferred\":-0.0566,\"fract_to_poi_email\":-0.5932,\"loan_advances\":-0.0861,\"director_fees\":-0.32,\"bonus\":-0.5501,\"total_stock_value\":-0.3168,\"from_poi_to_this_person\":-0.5236,\"from_this_person_to_poi\":-0.3097,\"restricted_stock\":-0.2021,\"salary\":-0.9444,\"total_payments\":-0.0466,\"fract_from_poi_email\":-0.6247,\"exercised_stock_options\":-0.3311},{\"null\":7,\"deferral_payments\":-0.2955,\"expenses\":2.2531,\"deferred_income\":0.3207,\"long_term_incentive\":0.5226,\"restricted_stock_deferred\":-0.0566,\"fract_to_poi_email\":2.3301,\"loan_advances\":-0.0861,\"director_fees\":-0.32,\"bonus\":1.5657,\"total_stock_value\":-0.2022,\"from_poi_to_this_person\":0.26,\"from_this_person_to_poi\":0.0173,\"restricted_stock\":-0.1541,\"salary\":0.9422,\"total_payments\":0.2088,\"fract_from_poi_email\":0.0539,\"exercised_stock_options\":-0.2033},{\"null\":8,\"deferral_payments\":3.8721,\"expenses\":-0.7835,\"deferred_income\":0.3207,\"long_term_incentive\":-0.4921,\"restricted_stock_deferred\":-0.0566,\"fract_to_poi_email\":-0.5178,\"loan_advances\":-0.0861,\"director_fees\":-0.32,\"bonus\":-0.5501,\"total_stock_value\":0.7048,\"from_poi_to_this_person\":0.0708,\"from_this_person_to_poi\":-0.1211,\"restricted_stock\":0.586,\"salary\":-0.9444,\"total_payments\":0.099,\"fract_from_poi_email\":-0.1088,\"exercised_stock_options\":0.656},{\"null\":9,\"deferral_payments\":1.2082,\"expenses\":0.1701,\"deferred_income\":0.2655,\"long_term_incentive\":-0.4921,\"restricted_stock_deferred\":-0.3722,\"fract_to_poi_email\":0.5737,\"loan_advances\":-0.0861,\"director_fees\":-0.32,\"bonus\":-0.2246,\"total_stock_value\":-0.3291,\"from_poi_to_this_person\":0.3005,\"from_this_person_to_poi\":0.294,\"restricted_stock\":-0.2284,\"salary\":0.0593,\"total_payments\":-0.0591,\"fract_from_poi_email\":0.733,\"exercised_stock_options\":-0.2502},{\"null\":10,\"deferral_payments\":3.6494,\"expenses\":-0.6729,\"deferred_income\":0.3207,\"long_term_incentive\":-0.4921,\"restricted_stock_deferred\":-0.0566,\"fract_to_poi_email\":4.8038,\"loan_advances\":-0.0861,\"director_fees\":-0.32,\"bonus\":-0.5501,\"total_stock_value\":-0.1017,\"from_poi_to_this_person\":-0.3885,\"from_this_person_to_poi\":-0.0959,\"restricted_stock\":-0.4322,\"salary\":-0.2787,\"total_payments\":0.0954,\"fract_from_poi_email\":1.528,\"exercised_stock_options\":0.0433},{\"null\":11,\"deferral_payments\":-0.2955,\"expenses\":0.393,\"deferred_income\":0.3207,\"long_term_incentive\":-0.4921,\"restricted_stock_deferred\":-0.0566,\"fract_to_poi_email\":-0.5932,\"loan_advances\":-0.0861,\"director_fees\":-0.32,\"bonus\":0.0918,\"total_stock_value\":-0.4718,\"from_poi_to_this_person\":-0.3615,\"from_this_person_to_poi\":-0.3097,\"restricted_stock\":-0.4322,\"salary\":0.5253,\"total_payments\":-0.128,\"fract_from_poi_email\":2.3542,\"exercised_stock_options\":-0.4344},{\"null\":12,\"deferral_payments\":-0.2955,\"expenses\":1.0815,\"deferred_income\":0.3207,\"long_term_incentive\":0.7226,\"restricted_stock_deferred\":-0.0566,\"fract_to_poi_email\":0.1778,\"loan_advances\":-0.0861,\"director_fees\":-0.32,\"bonus\":0.1416,\"total_stock_value\":-0.3171,\"from_poi_to_this_person\":-0.1859,\"from_this_person_to_poi\":-0.2846,\"restricted_stock\":-0.3381,\"salary\":0.3214,\"total_payments\":-0.0277,\"fract_from_poi_email\":-0.3464,\"exercised_stock_options\":-0.2742},{\"null\":13,\"deferral_payments\":-0.2955,\"expenses\":-0.7835,\"deferred_income\":0.3207,\"long_term_incentive\":0.2037,\"restricted_stock_deferred\":-0.0566,\"fract_to_poi_email\":1.2531,\"loan_advances\":-0.0861,\"director_fees\":-0.32,\"bonus\":0.0195,\"total_stock_value\":-0.3585,\"from_poi_to_this_person\":-0.0237,\"from_this_person_to_poi\":-0.1462,\"restricted_stock\":-0.0844,\"salary\":0.3669,\"total_payments\":-0.081,\"fract_from_poi_email\":-0.2396,\"exercised_stock_options\":-0.4344},{\"null\":14,\"deferral_payments\":0.376,\"expenses\":-0.7835,\"deferred_income\":0.3207,\"long_term_incentive\":0.1825,\"restricted_stock_deferred\":-0.0566,\"fract_to_poi_email\":-0.5932,\"loan_advances\":-0.0861,\"director_fees\":-0.32,\"bonus\":-0.5501,\"total_stock_value\":-0.1121,\"from_poi_to_this_person\":-0.5236,\"from_this_person_to_poi\":-0.3097,\"restricted_stock\":-0.4322,\"salary\":-0.9444,\"total_payments\":-0.1466,\"fract_from_poi_email\":-0.6247,\"exercised_stock_options\":0.0298},{\"null\":15,\"deferral_payments\":-0.2955,\"expenses\":-0.7835,\"deferred_income\":0.3207,\"long_term_incentive\":-0.4921,\"restricted_stock_deferred\":-0.175,\"fract_to_poi_email\":-0.5932,\"loan_advances\":-0.0861,\"director_fees\":-0.32,\"bonus\":-0.5501,\"total_stock_value\":-0.4114,\"from_poi_to_this_person\":-0.5236,\"from_this_person_to_poi\":-0.3097,\"restricted_stock\":-0.3557,\"salary\":-0.9444,\"total_payments\":-0.2563,\"fract_from_poi_email\":-0.6247,\"exercised_stock_options\":-0.3565},{\"null\":16,\"deferral_payments\":-0.2588,\"expenses\":-0.4177,\"deferred_income\":0.0822,\"long_term_incentive\":-0.4921,\"restricted_stock_deferred\":-0.0566,\"fract_to_poi_email\":0.8909,\"loan_advances\":-0.0861,\"director_fees\":-0.32,\"bonus\":0.4264,\"total_stock_value\":-0.3586,\"from_poi_to_this_person\":2.7188,\"from_this_person_to_poi\":-0.1714,\"restricted_stock\":-0.0847,\"salary\":0.525,\"total_payments\":-0.0872,\"fract_from_poi_email\":3.1371,\"exercised_stock_options\":-0.4344},{\"null\":17,\"deferral_payments\":0.8262,\"expenses\":-0.7835,\"deferred_income\":-0.8699,\"long_term_incentive\":2.0277,\"restricted_stock_deferred\":-0.0566,\"fract_to_poi_email\":-0.5932,\"loan_advances\":-0.0861,\"director_fees\":-0.32,\"bonus\":0.345,\"total_stock_value\":-0.2421,\"from_poi_to_this_person\":-0.3615,\"from_this_person_to_poi\":-0.3097,\"restricted_stock\":-0.2528,\"salary\":0.3372,\"total_payments\":0.107,\"fract_from_poi_email\":1.8066,\"exercised_stock_options\":-0.2133},{\"null\":18,\"deferral_payments\":-0.2955,\"expenses\":-0.558,\"deferred_income\":0.3207,\"long_term_incentive\":-0.4921,\"restricted_stock_deferred\":-0.0566,\"fract_to_poi_email\":1.2379,\"loan_advances\":-0.0861,\"director_fees\":-0.32,\"bonus\":-0.3467,\"total_stock_value\":-0.3541,\"from_poi_to_this_person\":-0.1859,\"from_this_person_to_poi\":-0.0708,\"restricted_stock\":-0.1632,\"salary\":0.5251,\"total_payments\":-0.1937,\"fract_from_poi_email\":2.0454,\"exercised_stock_options\":-0.3956},{\"null\":19,\"deferral_payments\":-0.2955,\"expenses\":0.3653,\"deferred_income\":0.3028,\"long_term_incentive\":-0.1179,\"restricted_stock_deferred\":-0.0566,\"fract_to_poi_email\":-0.5932,\"loan_advances\":-0.0861,\"director_fees\":-0.32,\"bonus\":-0.5501,\"total_stock_value\":-0.4094,\"from_poi_to_this_person\":-0.5236,\"from_this_person_to_poi\":-0.3097,\"restricted_stock\":-0.2407,\"salary\":-0.6198,\"total_payments\":-0.1698,\"fract_from_poi_email\":-0.6247,\"exercised_stock_options\":-0.4344},{\"null\":20,\"deferral_payments\":-0.2242,\"expenses\":-0.0352,\"deferred_income\":0.3207,\"long_term_incentive\":-0.4921,\"restricted_stock_deferred\":-0.0566,\"fract_to_poi_email\":-0.5932,\"loan_advances\":-0.0861,\"director_fees\":-0.32,\"bonus\":-0.5501,\"total_stock_value\":-0.3047,\"from_poi_to_this_person\":-0.5236,\"from_this_person_to_poi\":-0.3097,\"restricted_stock\":-0.4322,\"salary\":-0.9444,\"total_payments\":-0.2463,\"fract_from_poi_email\":-0.6247,\"exercised_stock_options\":-0.2188},{\"null\":21,\"deferral_payments\":-0.2955,\"expenses\":0.3446,\"deferred_income\":0.3207,\"long_term_incentive\":0.2976,\"restricted_stock_deferred\":-0.0566,\"fract_to_poi_email\":-0.5932,\"loan_advances\":-0.0861,\"director_fees\":-0.32,\"bonus\":0.1416,\"total_stock_value\":0.4847,\"from_poi_to_this_person\":-0.2939,\"from_this_person_to_poi\":-0.3097,\"restricted_stock\":0.3403,\"salary\":0.8741,\"total_payments\":-0.0522,\"fract_from_poi_email\":0.0734,\"exercised_stock_options\":0.4752},{\"null\":22,\"deferral_payments\":-0.2955,\"expenses\":-0.6556,\"deferred_income\":0.3207,\"long_term_incentive\":-0.4921,\"restricted_stock_deferred\":-0.0566,\"fract_to_poi_email\":0.0127,\"loan_advances\":-0.0861,\"director_fees\":-0.32,\"bonus\":1.9726,\"total_stock_value\":-0.3831,\"from_poi_to_this_person\":2.8674,\"from_this_person_to_poi\":2.1305,\"restricted_stock\":-0.2003,\"salary\":0.438,\"total_payments\":0.1375,\"fract_from_poi_email\":0.2081,\"exercised_stock_options\":-0.4174},{\"null\":23,\"deferral_payments\":-0.2955,\"expenses\":-0.7835,\"deferred_income\":0.1571,\"long_term_incentive\":-0.4921,\"restricted_stock_deferred\":-0.0816,\"fract_to_poi_email\":-0.5932,\"loan_advances\":-0.0861,\"director_fees\":2.847,\"bonus\":-0.5501,\"total_stock_value\":-0.4718,\"from_poi_to_this_person\":-0.5236,\"from_this_person_to_poi\":-0.3097,\"restricted_stock\":-0.416,\"salary\":-0.9444,\"total_payments\":-0.2563,\"fract_from_poi_email\":-0.6247,\"exercised_stock_options\":-0.4344},{\"null\":24,\"deferral_payments\":-0.4319,\"expenses\":-0.7835,\"deferred_income\":0.3207,\"long_term_incentive\":-0.4921,\"restricted_stock_deferred\":-0.0226,\"fract_to_poi_email\":-0.5932,\"loan_advances\":-0.0861,\"director_fees\":-0.2147,\"bonus\":-0.5501,\"total_stock_value\":-0.4789,\"from_poi_to_this_person\":-0.5236,\"from_this_person_to_poi\":-0.3097,\"restricted_stock\":-0.4322,\"salary\":-0.9444,\"total_payments\":-0.2446,\"fract_from_poi_email\":-0.6247,\"exercised_stock_options\":-0.4337},{\"null\":25,\"deferral_payments\":-0.2955,\"expenses\":3.1805,\"deferred_income\":0.3207,\"long_term_incentive\":0.3176,\"restricted_stock_deferred\":-0.0566,\"fract_to_poi_email\":-0.4262,\"loan_advances\":-0.0861,\"director_fees\":-0.32,\"bonus\":1.0774,\"total_stock_value\":-0.1358,\"from_poi_to_this_person\":0.7463,\"from_this_person_to_poi\":0.7343,\"restricted_stock\":-0.1186,\"salary\":0.6043,\"total_payments\":0.0884,\"fract_from_poi_email\":0.1794,\"exercised_stock_options\":-0.1326},{\"null\":26,\"deferral_payments\":-0.2955,\"expenses\":-0.7835,\"deferred_income\":0.3207,\"long_term_incentive\":-0.4921,\"restricted_stock_deferred\":-0.0566,\"fract_to_poi_email\":-0.5932,\"loan_advances\":-0.0861,\"director_fees\":-0.32,\"bonus\":-0.5501,\"total_stock_value\":-0.4718,\"from_poi_to_this_person\":-0.5236,\"from_this_person_to_poi\":-0.3097,\"restricted_stock\":-0.4322,\"salary\":-0.9444,\"total_payments\":-0.2347,\"fract_from_poi_email\":-0.6247,\"exercised_stock_options\":-0.4344},{\"null\":27,\"deferral_payments\":-0.2955,\"expenses\":0.5271,\"deferred_income\":-0.4837,\"long_term_incentive\":-0.2288,\"restricted_stock_deferred\":-0.0566,\"fract_to_poi_email\":-0.5932,\"loan_advances\":-0.0861,\"director_fees\":-0.32,\"bonus\":-0.3467,\"total_stock_value\":-0.3649,\"from_poi_to_this_person\":-0.4696,\"from_this_person_to_poi\":-0.3097,\"restricted_stock\":-0.1041,\"salary\":0.0126,\"total_payments\":-0.1861,\"fract_from_poi_email\":-0.337,\"exercised_stock_options\":-0.4344},{\"null\":28,\"deferral_payments\":-0.2955,\"expenses\":4.2807,\"deferred_income\":0.26,\"long_term_incentive\":-0.4921,\"restricted_stock_deferred\":-0.0566,\"fract_to_poi_email\":-0.5932,\"loan_advances\":-0.0861,\"director_fees\":0.8555,\"bonus\":-0.5501,\"total_stock_value\":-0.4718,\"from_poi_to_this_person\":-0.5236,\"from_this_person_to_poi\":-0.3097,\"restricted_stock\":-0.4322,\"salary\":-0.9444,\"total_payments\":-0.2303,\"fract_from_poi_email\":-0.6247,\"exercised_stock_options\":-0.4344},{\"null\":29,\"deferral_payments\":-0.2955,\"expenses\":0.0705,\"deferred_income\":0.3207,\"long_term_incentive\":0.0478,\"restricted_stock_deferred\":-0.0566,\"fract_to_poi_email\":0.4862,\"loan_advances\":-0.0861,\"director_fees\":-0.32,\"bonus\":0.2637,\"total_stock_value\":-0.1728,\"from_poi_to_this_person\":-0.2129,\"from_this_person_to_poi\":-0.2091,\"restricted_stock\":-0.2441,\"salary\":0.1435,\"total_payments\":-0.024,\"fract_from_poi_email\":-0.2304,\"exercised_stock_options\":-0.1277},{\"null\":30,\"deferral_payments\":-0.0099,\"expenses\":-0.0466,\"deferred_income\":0.1551,\"long_term_incentive\":-0.4921,\"restricted_stock_deferred\":-0.0566,\"fract_to_poi_email\":2.566,\"loan_advances\":-0.0861,\"director_fees\":-0.32,\"bonus\":0.0195,\"total_stock_value\":-0.1607,\"from_poi_to_this_person\":-0.0508,\"from_this_person_to_poi\":0.294,\"restricted_stock\":-0.2911,\"salary\":0.3247,\"total_payments\":-0.1316,\"fract_from_poi_email\":0.1015,\"exercised_stock_options\":-0.0922},{\"null\":31,\"deferral_payments\":-0.2955,\"expenses\":-0.7835,\"deferred_income\":0.3207,\"long_term_incentive\":-0.4921,\"restricted_stock_deferred\":-0.0566,\"fract_to_poi_email\":-0.5932,\"loan_advances\":-0.0861,\"director_fees\":-0.32,\"bonus\":-0.5501,\"total_stock_value\":-0.4558,\"from_poi_to_this_person\":-0.5236,\"from_this_person_to_poi\":-0.3097,\"restricted_stock\":-0.4322,\"salary\":-0.9444,\"total_payments\":-0.2563,\"fract_from_poi_email\":-0.6247,\"exercised_stock_options\":-0.4137},{\"null\":32,\"deferral_payments\":-0.2955,\"expenses\":0.0398,\"deferred_income\":0.3207,\"long_term_incentive\":-0.4921,\"restricted_stock_deferred\":-0.0566,\"fract_to_poi_email\":-0.1136,\"loan_advances\":-0.0861,\"director_fees\":-0.32,\"bonus\":0.0195,\"total_stock_value\":-0.4514,\"from_poi_to_this_person\":1.4218,\"from_this_person_to_poi\":4.5456,\"restricted_stock\":-0.3695,\"salary\":0.2337,\"total_payments\":-0.1463,\"fract_from_poi_email\":-0.0823,\"exercised_stock_options\":-0.4344},{\"null\":33,\"deferral_payments\":-0.2955,\"expenses\":-0.773,\"deferred_income\":0.3207,\"long_term_incentive\":-0.4921,\"restricted_stock_deferred\":-0.0566,\"fract_to_poi_email\":1.3951,\"loan_advances\":-0.0861,\"director_fees\":-0.32,\"bonus\":-0.5501,\"total_stock_value\":-0.1123,\"from_poi_to_this_person\":-0.4696,\"from_this_person_to_poi\":-0.2217,\"restricted_stock\":0.6712,\"salary\":-0.9444,\"total_payments\":-0.2562,\"fract_from_poi_email\":-0.4324,\"exercised_stock_options\":-0.4344},{\"null\":34,\"deferral_payments\":-0.2955,\"expenses\":-0.3066,\"deferred_income\":0.3207,\"long_term_incentive\":2.7714,\"restricted_stock_deferred\":-0.0566,\"fract_to_poi_email\":-0.5932,\"loan_advances\":-0.0861,\"director_fees\":-0.32,\"bonus\":-0.3873,\"total_stock_value\":-0.3082,\"from_poi_to_this_person\":-0.5236,\"from_this_person_to_poi\":-0.3097,\"restricted_stock\":-0.2294,\"salary\":-0.0163,\"total_payments\":0.0491,\"fract_from_poi_email\":-0.6247,\"exercised_stock_options\":-0.3085},{\"null\":35,\"deferral_payments\":-0.2955,\"expenses\":-0.7802,\"deferred_income\":0.1489,\"long_term_incentive\":-0.4921,\"restricted_stock_deferred\":-0.0566,\"fract_to_poi_email\":-0.5932,\"loan_advances\":-0.0861,\"director_fees\":3.0062,\"bonus\":-0.5501,\"total_stock_value\":-0.4718,\"from_poi_to_this_person\":-0.5236,\"from_this_person_to_poi\":-0.3097,\"restricted_stock\":-0.4322,\"salary\":-0.9444,\"total_payments\":-0.2562,\"fract_from_poi_email\":-0.6247,\"exercised_stock_options\":-0.4344},{\"null\":36,\"deferral_payments\":-0.2955,\"expenses\":1.4058,\"deferred_income\":0.3207,\"long_term_incentive\":-0.391,\"restricted_stock_deferred\":-0.0566,\"fract_to_poi_email\":-0.3934,\"loan_advances\":-0.0861,\"director_fees\":-0.32,\"bonus\":0.8333,\"total_stock_value\":-0.4003,\"from_poi_to_this_person\":0.0168,\"from_this_person_to_poi\":-0.2972,\"restricted_stock\":-0.2127,\"salary\":0.1342,\"total_payments\":-0.0201,\"fract_from_poi_email\":0.2103,\"exercised_stock_options\":-0.4344},{\"null\":37,\"deferral_payments\":-0.2955,\"expenses\":-0.7835,\"deferred_income\":0.3207,\"long_term_incentive\":-0.4921,\"restricted_stock_deferred\":-0.4208,\"fract_to_poi_email\":-0.5932,\"loan_advances\":-0.0861,\"director_fees\":-0.32,\"bonus\":-0.5501,\"total_stock_value\":-0.4411,\"from_poi_to_this_person\":-0.5236,\"from_this_person_to_poi\":-0.3097,\"restricted_stock\":-0.1027,\"salary\":-0.9444,\"total_payments\":-0.2563,\"fract_from_poi_email\":-0.6247,\"exercised_stock_options\":-0.4344},{\"null\":38,\"deferral_payments\":-0.2955,\"expenses\":-0.7835,\"deferred_income\":0.3207,\"long_term_incentive\":-0.4921,\"restricted_stock_deferred\":-0.0566,\"fract_to_poi_email\":-0.5932,\"loan_advances\":-0.0861,\"director_fees\":-0.32,\"bonus\":-0.5501,\"total_stock_value\":-0.3339,\"from_poi_to_this_person\":-0.3885,\"from_this_person_to_poi\":-0.3097,\"restricted_stock\":-0.4322,\"salary\":-0.9444,\"total_payments\":-0.2563,\"fract_from_poi_email\":-0.3353,\"exercised_stock_options\":-0.2564},{\"null\":39,\"deferral_payments\":-0.2849,\"expenses\":-0.7835,\"deferred_income\":0.3207,\"long_term_incentive\":-0.4921,\"restricted_stock_deferred\":-0.0566,\"fract_to_poi_email\":-0.5932,\"loan_advances\":-0.0861,\"director_fees\":-0.32,\"bonus\":-0.5501,\"total_stock_value\":-0.4472,\"from_poi_to_this_person\":-0.3074,\"from_this_person_to_poi\":-0.3097,\"restricted_stock\":-0.3569,\"salary\":-0.9444,\"total_payments\":-0.2553,\"fract_from_poi_email\":0.25,\"exercised_stock_options\":-0.4344},{\"null\":40,\"deferral_payments\":-0.2955,\"expenses\":-0.7835,\"deferred_income\":0.3207,\"long_term_incentive\":-0.4921,\"restricted_stock_deferred\":-0.0566,\"fract_to_poi_email\":-0.543,\"loan_advances\":-0.0861,\"director_fees\":-0.32,\"bonus\":-0.5501,\"total_stock_value\":-0.3487,\"from_poi_to_this_person\":-0.1859,\"from_this_person_to_poi\":-0.2846,\"restricted_stock\":-0.3851,\"salary\":-0.9444,\"total_payments\":-0.2563,\"fract_from_poi_email\":-0.144,\"exercised_stock_options\":-0.2953},{\"null\":41,\"deferral_payments\":-0.2955,\"expenses\":1.8329,\"deferred_income\":0.3207,\"long_term_incentive\":0.388,\"restricted_stock_deferred\":-0.0566,\"fract_to_poi_email\":-0.5932,\"loan_advances\":-0.0861,\"director_fees\":-0.32,\"bonus\":0.1009,\"total_stock_value\":-0.3121,\"from_poi_to_this_person\":-0.5236,\"from_this_person_to_poi\":-0.3097,\"restricted_stock\":0.058,\"salary\":0.1979,\"total_payments\":0.0446,\"fract_from_poi_email\":-0.6247,\"exercised_stock_options\":-0.4344},{\"null\":42,\"deferral_payments\":-0.2955,\"expenses\":-0.7835,\"deferred_income\":0.3207,\"long_term_incentive\":1.534,\"restricted_stock_deferred\":-0.0566,\"fract_to_poi_email\":0.6061,\"loan_advances\":-0.0861,\"director_fees\":-0.32,\"bonus\":0.2637,\"total_stock_value\":-0.4133,\"from_poi_to_this_person\":0.3816,\"from_this_person_to_poi\":-0.1336,\"restricted_stock\":-0.2528,\"salary\":0.4497,\"total_payments\":0.046,\"fract_from_poi_email\":0.0295,\"exercised_stock_options\":-0.4344},{\"null\":43,\"deferral_payments\":-0.2955,\"expenses\":0.3136,\"deferred_income\":0.3207,\"long_term_incentive\":2.4802,\"restricted_stock_deferred\":-0.0566,\"fract_to_poi_email\":0.2648,\"loan_advances\":-0.0861,\"director_fees\":-0.32,\"bonus\":5.96,\"total_stock_value\":0.366,\"from_poi_to_this_person\":6.6097,\"from_this_person_to_poi\":4.86,\"restricted_stock\":0.0695,\"salary\":0.7835,\"total_payments\":0.9264,\"fract_from_poi_email\":1.3796,\"exercised_stock_options\":0.4359},{\"null\":44,\"deferral_payments\":-0.2955,\"expenses\":-0.5201,\"deferred_income\":0.3207,\"long_term_incentive\":-0.4921,\"restricted_stock_deferred\":-0.0566,\"fract_to_poi_email\":-0.5932,\"loan_advances\":-0.0861,\"director_fees\":-0.32,\"bonus\":-0.5501,\"total_stock_value\":-0.0675,\"from_poi_to_this_person\":-0.5236,\"from_this_person_to_poi\":-0.3097,\"restricted_stock\":0.0003,\"salary\":0.1586,\"total_payments\":-0.2303,\"fract_from_poi_email\":-0.6247,\"exercised_stock_options\":-0.0945},{\"null\":45,\"deferral_payments\":0.8692,\"expenses\":0.3738,\"deferred_income\":-0.963,\"long_term_incentive\":0.1149,\"restricted_stock_deferred\":-0.2994,\"fract_to_poi_email\":-0.5932,\"loan_advances\":-0.0861,\"director_fees\":-0.32,\"bonus\":-0.2043,\"total_stock_value\":-0.143,\"from_poi_to_this_person\":-0.5236,\"from_this_person_to_poi\":-0.3097,\"restricted_stock\":-0.2754,\"salary\":0.1276,\"total_payments\":-0.1196,\"fract_from_poi_email\":-0.6247,\"exercised_stock_options\":-0.01},{\"null\":46,\"deferral_payments\":-0.2955,\"expenses\":1.5148,\"deferred_income\":0.3207,\"long_term_incentive\":-0.4921,\"restricted_stock_deferred\":-0.0566,\"fract_to_poi_email\":-0.5932,\"loan_advances\":-0.0861,\"director_fees\":3.1841,\"bonus\":-0.5501,\"total_stock_value\":-0.4718,\"from_poi_to_this_person\":-0.5236,\"from_this_person_to_poi\":-0.3097,\"restricted_stock\":-0.4322,\"salary\":-0.9444,\"total_payments\":-0.2321,\"fract_from_poi_email\":-0.6247,\"exercised_stock_options\":-0.4344},{\"null\":47,\"deferral_payments\":-0.2955,\"expenses\":-0.7835,\"deferred_income\":0.2917,\"long_term_incentive\":-0.4921,\"restricted_stock_deferred\":-0.0566,\"fract_to_poi_email\":-0.5932,\"loan_advances\":-0.0861,\"director_fees\":0.2411,\"bonus\":-0.5501,\"total_stock_value\":-0.4718,\"from_poi_to_this_person\":-0.5236,\"from_this_person_to_poi\":-0.3097,\"restricted_stock\":-0.4322,\"salary\":-0.9444,\"total_payments\":-0.2563,\"fract_from_poi_email\":-0.6247,\"exercised_stock_options\":-0.4344},{\"null\":48,\"deferral_payments\":-0.2955,\"expenses\":-0.7835,\"deferred_income\":0.3207,\"long_term_incentive\":-0.047,\"restricted_stock_deferred\":-0.0566,\"fract_to_poi_email\":-0.5932,\"loan_advances\":-0.0861,\"director_fees\":-0.32,\"bonus\":0.0602,\"total_stock_value\":-0.3295,\"from_poi_to_this_person\":-0.5236,\"from_this_person_to_poi\":-0.3097,\"restricted_stock\":-0.2127,\"salary\":0.4453,\"total_payments\":-0.0127,\"fract_from_poi_email\":-0.6247,\"exercised_stock_options\":-0.343},{\"null\":49,\"deferral_payments\":-0.2955,\"expenses\":0.4635,\"deferred_income\":0.3123,\"long_term_incentive\":-0.4921,\"restricted_stock_deferred\":-0.4884,\"fract_to_poi_email\":-0.5932,\"loan_advances\":-0.0861,\"director_fees\":-0.32,\"bonus\":-0.5501,\"total_stock_value\":0.3784,\"from_poi_to_this_person\":0.0033,\"from_this_person_to_poi\":-0.3097,\"restricted_stock\":0.4424,\"salary\":-0.942,\"total_payments\":-0.1523,\"fract_from_poi_email\":1.2739,\"exercised_stock_options\":0.4123},{\"null\":50,\"deferral_payments\":-0.2955,\"expenses\":-0.7835,\"deferred_income\":0.2793,\"long_term_incentive\":-0.4921,\"restricted_stock_deferred\":-0.0566,\"fract_to_poi_email\":-0.5932,\"loan_advances\":-0.0861,\"director_fees\":2.9659,\"bonus\":-0.5501,\"total_stock_value\":-0.4115,\"from_poi_to_this_person\":-0.5236,\"from_this_person_to_poi\":-0.3097,\"restricted_stock\":-0.4322,\"salary\":-0.9444,\"total_payments\":-0.2475,\"fract_from_poi_email\":-0.6247,\"exercised_stock_options\":-0.3566},{\"null\":51,\"deferral_payments\":-0.2955,\"expenses\":2.2677,\"deferred_income\":0.3207,\"long_term_incentive\":-0.4921,\"restricted_stock_deferred\":-0.0566,\"fract_to_poi_email\":-0.3045,\"loan_advances\":-0.0861,\"director_fees\":-0.32,\"bonus\":-0.0212,\"total_stock_value\":-0.3118,\"from_poi_to_this_person\":0.4761,\"from_this_person_to_poi\":0.5079,\"restricted_stock\":-0.2435,\"salary\":0.4259,\"total_payments\":-0.1363,\"fract_from_poi_email\":-0.4901,\"exercised_stock_options\":-0.3072},{\"null\":52,\"deferral_payments\":-0.2955,\"expenses\":-0.7835,\"deferred_income\":0.3207,\"long_term_incentive\":0.3176,\"restricted_stock_deferred\":-0.0566,\"fract_to_poi_email\":0.756,\"loan_advances\":-0.0861,\"director_fees\":-0.32,\"bonus\":0.6705,\"total_stock_value\":0.0355,\"from_poi_to_this_person\":-0.1453,\"from_this_person_to_poi\":-0.0204,\"restricted_stock\":0.2114,\"salary\":1.2392,\"total_payments\":0.2355,\"fract_from_poi_email\":-0.3827,\"exercised_stock_options\":-0.0503},{\"null\":53,\"deferral_payments\":-0.2955,\"expenses\":-0.2767,\"deferred_income\":0.3138,\"long_term_incentive\":-0.4921,\"restricted_stock_deferred\":-0.0566,\"fract_to_poi_email\":1.3441,\"loan_advances\":-0.0861,\"director_fees\":-0.32,\"bonus\":-0.3873,\"total_stock_value\":-0.0675,\"from_poi_to_this_person\":-0.348,\"from_this_person_to_poi\":-0.1336,\"restricted_stock\":0.0003,\"salary\":0.1344,\"total_payments\":-0.0289,\"fract_from_poi_email\":0.9673,\"exercised_stock_options\":-0.0945},{\"null\":54,\"deferral_payments\":-0.2955,\"expenses\":-0.7835,\"deferred_income\":0.2793,\"long_term_incentive\":-0.4921,\"restricted_stock_deferred\":-0.0566,\"fract_to_poi_email\":-0.5932,\"loan_advances\":-0.0861,\"director_fees\":3.2865,\"bonus\":-0.5501,\"total_stock_value\":-0.4048,\"from_poi_to_this_person\":-0.5236,\"from_this_person_to_poi\":-0.3097,\"restricted_stock\":-0.4322,\"salary\":-0.9444,\"total_payments\":-0.2463,\"fract_from_poi_email\":-0.6247,\"exercised_stock_options\":-0.348},{\"null\":55,\"deferral_payments\":-0.2955,\"expenses\":0.1384,\"deferred_income\":0.3207,\"long_term_incentive\":-0.0023,\"restricted_stock_deferred\":-0.0566,\"fract_to_poi_email\":-0.3015,\"loan_advances\":-0.0861,\"director_fees\":-0.32,\"bonus\":-0.0618,\"total_stock_value\":-0.446,\"from_poi_to_this_person\":1.0301,\"from_this_person_to_poi\":-0.2594,\"restricted_stock\":-0.3616,\"salary\":0.1053,\"total_payments\":-0.1192,\"fract_from_poi_email\":3.8135,\"exercised_stock_options\":-0.4307},{\"null\":56,\"deferral_payments\":-0.2955,\"expenses\":1.7931,\"deferred_income\":0.2362,\"long_term_incentive\":-0.4921,\"restricted_stock_deferred\":-0.0566,\"fract_to_poi_email\":-0.5932,\"loan_advances\":-0.0861,\"director_fees\":-0.32,\"bonus\":-0.5501,\"total_stock_value\":-0.3041,\"from_poi_to_this_person\":-0.5236,\"from_this_person_to_poi\":-0.3097,\"restricted_stock\":0.0825,\"salary\":-0.057,\"total_payments\":-0.1763,\"fract_from_poi_email\":-0.6247,\"exercised_stock_options\":-0.4344},{\"null\":57,\"deferral_payments\":-0.2955,\"expenses\":0.4975,\"deferred_income\":0.3207,\"long_term_incentive\":0.6884,\"restricted_stock_deferred\":-0.0566,\"fract_to_poi_email\":-0.3603,\"loan_advances\":-0.0861,\"director_fees\":-0.32,\"bonus\":1.8912,\"total_stock_value\":0.5139,\"from_poi_to_this_person\":1.9893,\"from_this_person_to_poi\":-0.0079,\"restricted_stock\":0.9592,\"salary\":1.6547,\"total_payments\":0.2743,\"fract_from_poi_email\":0.2268,\"exercised_stock_options\":0.2526},{\"null\":58,\"deferral_payments\":-0.2955,\"expenses\":1.0185,\"deferred_income\":0.3207,\"long_term_incentive\":0.3176,\"restricted_stock_deferred\":-0.0566,\"fract_to_poi_email\":-0.2114,\"loan_advances\":-0.0861,\"director_fees\":-0.32,\"bonus\":0.345,\"total_stock_value\":0.031,\"from_poi_to_this_person\":0.7193,\"from_this_person_to_poi\":2.1305,\"restricted_stock\":0.3034,\"salary\":0.9146,\"total_payments\":-0.0179,\"fract_from_poi_email\":0.1368,\"exercised_stock_options\":-0.0947},{\"null\":59,\"deferral_payments\":-0.2955,\"expenses\":-0.7835,\"deferred_income\":0.3207,\"long_term_incentive\":-0.4921,\"restricted_stock_deferred\":-0.0566,\"fract_to_poi_email\":-0.2559,\"loan_advances\":-0.0861,\"director_fees\":-0.32,\"bonus\":-0.5501,\"total_stock_value\":-0.4641,\"from_poi_to_this_person\":-0.5236,\"from_this_person_to_poi\":-0.2972,\"restricted_stock\":-0.4087,\"salary\":-0.9444,\"total_payments\":-0.2563,\"fract_from_poi_email\":-0.6247,\"exercised_stock_options\":-0.4344},{\"null\":60,\"deferral_payments\":-0.2955,\"expenses\":1.1251,\"deferred_income\":0.3207,\"long_term_incentive\":1.399,\"restricted_stock_deferred\":-0.0566,\"fract_to_poi_email\":0.4777,\"loan_advances\":-0.0861,\"director_fees\":-0.32,\"bonus\":1.8912,\"total_stock_value\":0.1142,\"from_poi_to_this_person\":0.3681,\"from_this_person_to_poi\":7.3506,\"restricted_stock\":0.2262,\"salary\":0.9153,\"total_payments\":0.2823,\"fract_from_poi_email\":-0.0368,\"exercised_stock_options\":0.0451},{\"null\":61,\"deferral_payments\":-0.0534,\"expenses\":-0.7835,\"deferred_income\":0.3207,\"long_term_incentive\":0.3176,\"restricted_stock_deferred\":-0.0566,\"fract_to_poi_email\":-0.5932,\"loan_advances\":-0.0861,\"director_fees\":-0.32,\"bonus\":-0.4687,\"total_stock_value\":-0.2509,\"from_poi_to_this_person\":-0.5236,\"from_this_person_to_poi\":-0.3097,\"restricted_stock\":-0.4322,\"salary\":-0.1154,\"total_payments\":-0.1429,\"fract_from_poi_email\":-0.6247,\"exercised_stock_options\":-0.1493},{\"null\":62,\"deferral_payments\":-0.2955,\"expenses\":-0.7835,\"deferred_income\":0.3207,\"long_term_incentive\":-0.4921,\"restricted_stock_deferred\":-0.0566,\"fract_to_poi_email\":-0.5932,\"loan_advances\":-0.0861,\"director_fees\":-0.32,\"bonus\":-0.5501,\"total_stock_value\":-0.4492,\"from_poi_to_this_person\":-0.5236,\"from_this_person_to_poi\":-0.3097,\"restricted_stock\":-0.4322,\"salary\":-0.9444,\"total_payments\":-0.2563,\"fract_from_poi_email\":-0.6247,\"exercised_stock_options\":-0.4053},{\"null\":63,\"deferral_payments\":-0.024,\"expenses\":0.495,\"deferred_income\":0.3207,\"long_term_incentive\":-0.2365,\"restricted_stock_deferred\":-0.0566,\"fract_to_poi_email\":-0.5932,\"loan_advances\":-0.0861,\"director_fees\":-0.32,\"bonus\":-0.3873,\"total_stock_value\":0.025,\"from_poi_to_this_person\":-0.5236,\"from_this_person_to_poi\":-0.3097,\"restricted_stock\":-0.176,\"salary\":0.2598,\"total_payments\":-0.1569,\"fract_from_poi_email\":-0.6247,\"exercised_stock_options\":0.0991},{\"null\":64,\"deferral_payments\":-0.2955,\"expenses\":-0.7358,\"deferred_income\":0.2572,\"long_term_incentive\":-0.4921,\"restricted_stock_deferred\":-0.0566,\"fract_to_poi_email\":-0.5932,\"loan_advances\":-0.0861,\"director_fees\":0.9094,\"bonus\":-0.5501,\"total_stock_value\":-0.4718,\"from_poi_to_this_person\":-0.5236,\"from_this_person_to_poi\":-0.3097,\"restricted_stock\":-0.4322,\"salary\":-0.9444,\"total_payments\":-0.256,\"fract_from_poi_email\":-0.6247,\"exercised_stock_options\":-0.4344},{\"null\":65,\"deferral_payments\":-0.0255,\"expenses\":1.4276,\"deferred_income\":-0.176,\"long_term_incentive\":4.765,\"restricted_stock_deferred\":-0.0566,\"fract_to_poi_email\":1.8054,\"loan_advances\":11.9545,\"director_fees\":-0.32,\"bonus\":5.1462,\"total_stock_value\":7.4909,\"from_poi_to_this_person\":1.1381,\"from_this_person_to_poi\":-0.1085,\"restricted_stock\":6.9135,\"salary\":4.5167,\"total_payments\":11.4908,\"fract_from_poi_email\":0.1684,\"exercised_stock_options\":6.7532},{\"null\":66,\"deferral_payments\":-0.2955,\"expenses\":-0.5751,\"deferred_income\":0.1965,\"long_term_incentive\":-0.2365,\"restricted_stock_deferred\":-0.0566,\"fract_to_poi_email\":-0.5932,\"loan_advances\":-0.0861,\"director_fees\":-0.32,\"bonus\":0.0602,\"total_stock_value\":-0.4041,\"from_poi_to_this_person\":-0.5236,\"from_this_person_to_poi\":-0.3097,\"restricted_stock\":-0.2244,\"salary\":0.3874,\"total_payments\":-0.112,\"fract_from_poi_email\":-0.6247,\"exercised_stock_options\":-0.4344},{\"null\":67,\"deferral_payments\":-0.1921,\"expenses\":0.6293,\"deferred_income\":0.3207,\"long_term_incentive\":-0.346,\"restricted_stock_deferred\":-0.0566,\"fract_to_poi_email\":0.9636,\"loan_advances\":-0.0861,\"director_fees\":-0.32,\"bonus\":0.0602,\"total_stock_value\":-0.0491,\"from_poi_to_this_person\":-0.2534,\"from_this_person_to_poi\":-0.1211,\"restricted_stock\":0.0504,\"salary\":0.7315,\"total_payments\":-0.1063,\"fract_from_poi_email\":-0.1593,\"exercised_stock_options\":-0.0918},{\"null\":68,\"deferral_payments\":-0.2955,\"expenses\":-0.7835,\"deferred_income\":0.3207,\"long_term_incentive\":-0.4921,\"restricted_stock_deferred\":-0.0566,\"fract_to_poi_email\":-0.1781,\"loan_advances\":-0.0861,\"director_fees\":-0.32,\"bonus\":-0.5501,\"total_stock_value\":-0.1976,\"from_poi_to_this_person\":0.2059,\"from_this_person_to_poi\":-0.2972,\"restricted_stock\":0.0326,\"salary\":-0.9444,\"total_payments\":-0.2563,\"fract_from_poi_email\":1.0397,\"exercised_stock_options\":-0.2759},{\"null\":69,\"deferral_payments\":-0.2955,\"expenses\":-0.2886,\"deferred_income\":0.3207,\"long_term_incentive\":-0.0905,\"restricted_stock_deferred\":-0.0566,\"fract_to_poi_email\":-0.5932,\"loan_advances\":-0.0861,\"director_fees\":-0.32,\"bonus\":-0.2856,\"total_stock_value\":-0.4381,\"from_poi_to_this_person\":-0.5236,\"from_this_person_to_poi\":-0.3097,\"restricted_stock\":-0.3287,\"salary\":-0.0028,\"total_payments\":-0.1646,\"fract_from_poi_email\":-0.6247,\"exercised_stock_options\":-0.4344},{\"null\":70,\"deferral_payments\":-0.1982,\"expenses\":0.3257,\"deferred_income\":0.319,\"long_term_incentive\":-0.4921,\"restricted_stock_deferred\":-0.0566,\"fract_to_poi_email\":-0.5932,\"loan_advances\":-0.0861,\"director_fees\":-0.32,\"bonus\":-0.1352,\"total_stock_value\":-0.4201,\"from_poi_to_this_person\":-0.5236,\"from_this_person_to_poi\":-0.3097,\"restricted_stock\":-0.3151,\"salary\":0.0334,\"total_payments\":-0.1541,\"fract_from_poi_email\":-0.6247,\"exercised_stock_options\":-0.417},{\"null\":71,\"deferral_payments\":-0.2955,\"expenses\":4.2831,\"deferred_income\":0.1137,\"long_term_incentive\":-0.4921,\"restricted_stock_deferred\":-0.0566,\"fract_to_poi_email\":-0.5932,\"loan_advances\":-0.0861,\"director_fees\":-0.32,\"bonus\":0.1823,\"total_stock_value\":-0.3181,\"from_poi_to_this_person\":0.1789,\"from_this_person_to_poi\":-0.3097,\"restricted_stock\":-0.2127,\"salary\":0.3971,\"total_payments\":-0.1067,\"fract_from_poi_email\":0.1969,\"exercised_stock_options\":-0.3283},{\"null\":72,\"deferral_payments\":-0.2955,\"expenses\":0.2875,\"deferred_income\":-0.1429,\"long_term_incentive\":-0.273,\"restricted_stock_deferred\":-0.0566,\"fract_to_poi_email\":-0.5932,\"loan_advances\":-0.0861,\"director_fees\":-0.32,\"bonus\":0.0195,\"total_stock_value\":-0.3635,\"from_poi_to_this_person\":-0.5236,\"from_this_person_to_poi\":-0.3097,\"restricted_stock\":-0.193,\"salary\":0.3932,\"total_payments\":-0.1091,\"fract_from_poi_email\":-0.6247,\"exercised_stock_options\":-0.3951},{\"null\":73,\"deferral_payments\":-0.2955,\"expenses\":-0.7835,\"deferred_income\":0.3207,\"long_term_incentive\":-0.4921,\"restricted_stock_deferred\":-0.0566,\"fract_to_poi_email\":-0.5932,\"loan_advances\":-0.0861,\"director_fees\":-0.32,\"bonus\":-0.5501,\"total_stock_value\":-0.3486,\"from_poi_to_this_person\":-0.5236,\"from_this_person_to_poi\":-0.3097,\"restricted_stock\":-0.4322,\"salary\":-0.9444,\"total_payments\":-0.2563,\"fract_from_poi_email\":-0.6247,\"exercised_stock_options\":-0.2754},{\"null\":74,\"deferral_payments\":-0.2955,\"expenses\":-0.7835,\"deferred_income\":0.3207,\"long_term_incentive\":-0.4921,\"restricted_stock_deferred\":-0.1124,\"fract_to_poi_email\":-0.5932,\"loan_advances\":-0.0861,\"director_fees\":-0.32,\"bonus\":-0.5501,\"total_stock_value\":-0.1564,\"from_poi_to_this_person\":-0.5236,\"from_this_person_to_poi\":-0.3097,\"restricted_stock\":-0.3008,\"salary\":-0.9444,\"total_payments\":-0.2563,\"fract_from_poi_email\":-0.6247,\"exercised_stock_options\":-0.0674},{\"null\":75,\"deferral_payments\":2.5755,\"expenses\":0.9035,\"deferred_income\":-1.2267,\"long_term_incentive\":0.9439,\"restricted_stock_deferred\":-0.3108,\"fract_to_poi_email\":-0.4236,\"loan_advances\":-0.0861,\"director_fees\":-0.32,\"bonus\":0.3857,\"total_stock_value\":-0.3416,\"from_poi_to_this_person\":1.9082,\"from_this_person_to_poi\":0.4575,\"restricted_stock\":-0.1714,\"salary\":0.9609,\"total_payments\":0.1815,\"fract_from_poi_email\":0.6125,\"exercised_stock_options\":-0.307},{\"null\":76,\"deferral_payments\":-0.2955,\"expenses\":0.6762,\"deferred_income\":0.3193,\"long_term_incentive\":0.9307,\"restricted_stock_deferred\":-0.0566,\"fract_to_poi_email\":2.4051,\"loan_advances\":-0.0861,\"director_fees\":-0.32,\"bonus\":0.5485,\"total_stock_value\":-0.4309,\"from_poi_to_this_person\":1.3678,\"from_this_person_to_poi\":-0.1211,\"restricted_stock\":-0.3068,\"salary\":0.4744,\"total_payments\":0.0466,\"fract_from_poi_email\":1.4516,\"exercised_stock_options\":-0.4344},{\"null\":77,\"deferral_payments\":-0.2955,\"expenses\":-0.7835,\"deferred_income\":0.3207,\"long_term_incentive\":-0.4921,\"restricted_stock_deferred\":-0.0566,\"fract_to_poi_email\":-0.5932,\"loan_advances\":-0.0861,\"director_fees\":-0.32,\"bonus\":-0.5501,\"total_stock_value\":-0.4579,\"from_poi_to_this_person\":-0.5236,\"from_this_person_to_poi\":-0.3097,\"restricted_stock\":-0.3945,\"salary\":-0.9444,\"total_payments\":-0.2563,\"fract_from_poi_email\":-0.6247,\"exercised_stock_options\":-0.4323},{\"null\":78,\"deferral_payments\":-0.2955,\"expenses\":-0.2548,\"deferred_income\":0.3207,\"long_term_incentive\":0.3205,\"restricted_stock_deferred\":-0.0566,\"fract_to_poi_email\":2.1053,\"loan_advances\":-0.0861,\"director_fees\":-0.32,\"bonus\":-0.2653,\"total_stock_value\":-0.2089,\"from_poi_to_this_person\":-0.5101,\"from_this_person_to_poi\":-0.2091,\"restricted_stock\":0.0439,\"salary\":0.0698,\"total_payments\":-0.0958,\"fract_from_poi_email\":-0.5953,\"exercised_stock_options\":-0.2953},{\"null\":79,\"deferral_payments\":-0.2955,\"expenses\":-0.7835,\"deferred_income\":0.3207,\"long_term_incentive\":-0.4921,\"restricted_stock_deferred\":-0.0566,\"fract_to_poi_email\":-0.5932,\"loan_advances\":-0.0861,\"director_fees\":-0.32,\"bonus\":-0.5501,\"total_stock_value\":-0.4359,\"from_poi_to_this_person\":-0.5236,\"from_this_person_to_poi\":-0.3097,\"restricted_stock\":-0.3518,\"salary\":-0.9444,\"total_payments\":-0.2563,\"fract_from_poi_email\":-0.6247,\"exercised_stock_options\":-0.4219},{\"null\":80,\"deferral_payments\":-0.2955,\"expenses\":-0.4582,\"deferred_income\":0.3207,\"long_term_incentive\":-0.4921,\"restricted_stock_deferred\":-0.0566,\"fract_to_poi_email\":0.6034,\"loan_advances\":-0.0861,\"director_fees\":-0.32,\"bonus\":-0.5501,\"total_stock_value\":0.8075,\"from_poi_to_this_person\":2.2325,\"from_this_person_to_poi\":0.3066,\"restricted_stock\":-0.2425,\"salary\":-0.4513,\"total_payments\":-0.2436,\"fract_from_poi_email\":2.7393,\"exercised_stock_options\":1.1369},{\"null\":81,\"deferral_payments\":0.6156,\"expenses\":-0.7835,\"deferred_income\":0.3207,\"long_term_incentive\":-0.3552,\"restricted_stock_deferred\":-0.0566,\"fract_to_poi_email\":-0.5932,\"loan_advances\":-0.0861,\"director_fees\":-0.32,\"bonus\":-0.5501,\"total_stock_value\":-0.2124,\"from_poi_to_this_person\":-0.5236,\"from_this_person_to_poi\":-0.3097,\"restricted_stock\":-0.4322,\"salary\":-0.5328,\"total_payments\":-0.1587,\"fract_from_poi_email\":-0.6247,\"exercised_stock_options\":-0.0996},{\"null\":82,\"deferral_payments\":2.5575,\"expenses\":-0.3991,\"deferred_income\":-3.5449,\"long_term_incentive\":-0.4921,\"restricted_stock_deferred\":-0.0566,\"fract_to_poi_email\":0.611,\"loan_advances\":-0.0861,\"director_fees\":-0.32,\"bonus\":3.7221,\"total_stock_value\":-0.2917,\"from_poi_to_this_person\":2.5567,\"from_this_person_to_poi\":1.0487,\"restricted_stock\":-0.3538,\"salary\":0.1454,\"total_payments\":0.3678,\"fract_from_poi_email\":0.1615,\"exercised_stock_options\":-0.2349},{\"null\":83,\"deferral_payments\":-0.2955,\"expenses\":-0.2124,\"deferred_income\":0.3207,\"long_term_incentive\":1.1219,\"restricted_stock_deferred\":-0.0566,\"fract_to_poi_email\":0.756,\"loan_advances\":-0.0861,\"director_fees\":-0.32,\"bonus\":0.0602,\"total_stock_value\":-0.2057,\"from_poi_to_this_person\":0.9085,\"from_this_person_to_poi\":-0.272,\"restricted_stock\":-0.3381,\"salary\":0.1286,\"total_payments\":-0.0188,\"fract_from_poi_email\":2.6063,\"exercised_stock_options\":-0.1306},{\"null\":84,\"deferral_payments\":-0.2735,\"expenses\":0.2385,\"deferred_income\":0.3207,\"long_term_incentive\":-0.2,\"restricted_stock_deferred\":-0.0566,\"fract_to_poi_email\":-0.5932,\"loan_advances\":-0.0861,\"director_fees\":-0.32,\"bonus\":-0.5501,\"total_stock_value\":0.3094,\"from_poi_to_this_person\":-0.5236,\"from_this_person_to_poi\":-0.3097,\"restricted_stock\":-0.2504,\"salary\":0.1866,\"total_payments\":-0.1529,\"fract_from_poi_email\":-0.6247,\"exercised_stock_options\":0.4973},{\"null\":85,\"deferral_payments\":-0.2955,\"expenses\":0.455,\"deferred_income\":-1.9744,\"long_term_incentive\":2.0431,\"restricted_stock_deferred\":-0.0566,\"fract_to_poi_email\":-0.5932,\"loan_advances\":-0.0861,\"director_fees\":-0.32,\"bonus\":0.5078,\"total_stock_value\":-0.1808,\"from_poi_to_this_person\":-0.5236,\"from_this_person_to_poi\":-0.3097,\"restricted_stock\":0.4607,\"salary\":1.2999,\"total_payments\":0.0187,\"fract_from_poi_email\":-0.6247,\"exercised_stock_options\":-0.4344},{\"null\":86,\"deferral_payments\":-0.0537,\"expenses\":-0.7835,\"deferred_income\":0.3207,\"long_term_incentive\":-0.4921,\"restricted_stock_deferred\":-0.0566,\"fract_to_poi_email\":-0.5932,\"loan_advances\":-0.0861,\"director_fees\":-0.32,\"bonus\":-0.5501,\"total_stock_value\":-0.4161,\"from_poi_to_this_person\":-0.5236,\"from_this_person_to_poi\":-0.3097,\"restricted_stock\":-0.4322,\"salary\":-0.9444,\"total_payments\":-0.2356,\"fract_from_poi_email\":-0.6247,\"exercised_stock_options\":-0.3625},{\"null\":87,\"deferral_payments\":-0.2955,\"expenses\":0.0098,\"deferred_income\":-0.114,\"long_term_incentive\":0.056,\"restricted_stock_deferred\":-0.0566,\"fract_to_poi_email\":0.3437,\"loan_advances\":-0.0861,\"director_fees\":-0.32,\"bonus\":0.4671,\"total_stock_value\":-0.4514,\"from_poi_to_this_person\":2.1649,\"from_this_person_to_poi\":0.0047,\"restricted_stock\":-0.3695,\"salary\":0.2788,\"total_payments\":-0.0703,\"fract_from_poi_email\":1.4859,\"exercised_stock_options\":-0.4344},{\"null\":88,\"deferral_payments\":-0.2955,\"expenses\":0.2564,\"deferred_income\":-5.4822,\"long_term_incentive\":1.8693,\"restricted_stock_deferred\":-0.0566,\"fract_to_poi_email\":0.6061,\"loan_advances\":-0.0861,\"director_fees\":-0.32,\"bonus\":0.874,\"total_stock_value\":3.1833,\"from_poi_to_this_person\":0.0438,\"from_this_person_to_poi\":-0.2594,\"restricted_stock\":0.9354,\"salary\":1.1978,\"total_payments\":-0.199,\"fract_from_poi_email\":0.6541,\"exercised_stock_options\":3.7077},{\"null\":89,\"deferral_payments\":-0.2955,\"expenses\":1.0677,\"deferred_income\":0.3207,\"long_term_incentive\":-0.0197,\"restricted_stock_deferred\":-0.0566,\"fract_to_poi_email\":-0.529,\"loan_advances\":-0.0861,\"director_fees\":-0.32,\"bonus\":-0.2246,\"total_stock_value\":-0.3135,\"from_poi_to_this_person\":0.0303,\"from_this_person_to_poi\":1.8412,\"restricted_stock\":-0.3695,\"salary\":0.4566,\"total_payments\":-0.133,\"fract_from_poi_email\":-0.3795,\"exercised_stock_options\":-0.2565},{\"null\":90,\"deferral_payments\":-0.2955,\"expenses\":-0.1664,\"deferred_income\":0.2524,\"long_term_incentive\":-0.4921,\"restricted_stock_deferred\":-0.0566,\"fract_to_poi_email\":0.0609,\"loan_advances\":-0.0861,\"director_fees\":-0.32,\"bonus\":0.1009,\"total_stock_value\":-0.3914,\"from_poi_to_this_person\":-0.5236,\"from_this_person_to_poi\":-0.2594,\"restricted_stock\":-0.2441,\"salary\":0.6562,\"total_payments\":-0.1313,\"fract_from_poi_email\":-0.6247,\"exercised_stock_options\":-0.4098},{\"null\":91,\"deferral_payments\":-0.2955,\"expenses\":-0.3664,\"deferred_income\":0.3207,\"long_term_incentive\":-0.2937,\"restricted_stock_deferred\":-0.0566,\"fract_to_poi_email\":-0.5932,\"loan_advances\":-0.0861,\"director_fees\":-0.32,\"bonus\":-0.5501,\"total_stock_value\":0.7131,\"from_poi_to_this_person\":-0.5236,\"from_this_person_to_poi\":-0.3097,\"restricted_stock\":0.5835,\"salary\":-0.4609,\"total_payments\":-0.2279,\"fract_from_poi_email\":-0.6247,\"exercised_stock_options\":0.6677},{\"null\":92,\"deferral_payments\":-0.2955,\"expenses\":-0.1646,\"deferred_income\":0.1531,\"long_term_incentive\":-0.4921,\"restricted_stock_deferred\":-0.0566,\"fract_to_poi_email\":-0.5932,\"loan_advances\":-0.0861,\"director_fees\":2.9261,\"bonus\":-0.5501,\"total_stock_value\":-0.4718,\"from_poi_to_this_person\":-0.5236,\"from_this_person_to_poi\":-0.3097,\"restricted_stock\":-0.4322,\"salary\":-0.9444,\"total_payments\":-0.2531,\"fract_from_poi_email\":-0.6247,\"exercised_stock_options\":-0.4344},{\"null\":93,\"deferral_payments\":-0.2955,\"expenses\":-0.4177,\"deferred_income\":0.3207,\"long_term_incentive\":-0.4921,\"restricted_stock_deferred\":-0.0566,\"fract_to_poi_email\":-0.5932,\"loan_advances\":-0.0861,\"director_fees\":-0.32,\"bonus\":-0.1432,\"total_stock_value\":-0.3888,\"from_poi_to_this_person\":-0.5236,\"from_this_person_to_poi\":-0.3097,\"restricted_stock\":-0.1776,\"salary\":0.2753,\"total_payments\":-0.1301,\"fract_from_poi_email\":-0.6247,\"exercised_stock_options\":-0.4344},{\"null\":94,\"deferral_payments\":-0.2955,\"expenses\":-0.1338,\"deferred_income\":0.3207,\"long_term_incentive\":2.3117,\"restricted_stock_deferred\":-0.0566,\"fract_to_poi_email\":0.9059,\"loan_advances\":-0.0861,\"director_fees\":-0.32,\"bonus\":4.0069,\"total_stock_value\":3.759,\"from_poi_to_this_person\":0.6653,\"from_this_person_to_poi\":0.0676,\"restricted_stock\":2.9734,\"salary\":4.7149,\"total_payments\":0.7287,\"fract_from_poi_email\":0.0438,\"exercised_stock_options\":3.5938},{\"null\":95,\"deferral_payments\":-0.2955,\"expenses\":-0.7552,\"deferred_income\":0.1323,\"long_term_incentive\":-0.4921,\"restricted_stock_deferred\":-0.0566,\"fract_to_poi_email\":-0.5932,\"loan_advances\":-0.0861,\"director_fees\":3.3279,\"bonus\":-0.5501,\"total_stock_value\":-0.4718,\"from_poi_to_this_person\":-0.5236,\"from_this_person_to_poi\":-0.3097,\"restricted_stock\":-0.4322,\"salary\":-0.9444,\"total_payments\":-0.2561,\"fract_from_poi_email\":-0.6247,\"exercised_stock_options\":-0.4344},{\"null\":96,\"deferral_payments\":-0.2955,\"expenses\":-0.7835,\"deferred_income\":0.3207,\"long_term_incentive\":-0.4921,\"restricted_stock_deferred\":-0.0566,\"fract_to_poi_email\":3.2926,\"loan_advances\":-0.0861,\"director_fees\":-0.32,\"bonus\":-0.5501,\"total_stock_value\":-0.1747,\"from_poi_to_this_person\":0.0033,\"from_this_person_to_poi\":-0.0833,\"restricted_stock\":-0.2302,\"salary\":-0.9444,\"total_payments\":-0.2563,\"fract_from_poi_email\":1.1284,\"exercised_stock_options\":-0.1359},{\"null\":97,\"deferral_payments\":0.4554,\"expenses\":-0.7835,\"deferred_income\":0.3207,\"long_term_incentive\":-0.4921,\"restricted_stock_deferred\":-0.0566,\"fract_to_poi_email\":-0.5932,\"loan_advances\":-0.0861,\"director_fees\":-0.32,\"bonus\":-0.5501,\"total_stock_value\":-0.2942,\"from_poi_to_this_person\":-0.5236,\"from_this_person_to_poi\":-0.3097,\"restricted_stock\":-0.3283,\"salary\":-0.9444,\"total_payments\":-0.1922,\"fract_from_poi_email\":-0.6247,\"exercised_stock_options\":-0.2489},{\"null\":98,\"deferral_payments\":-0.171,\"expenses\":-0.7835,\"deferred_income\":0.3207,\"long_term_incentive\":0.0419,\"restricted_stock_deferred\":-0.0566,\"fract_to_poi_email\":-0.5932,\"loan_advances\":-0.0861,\"director_fees\":-0.32,\"bonus\":-0.5501,\"total_stock_value\":-0.4718,\"from_poi_to_this_person\":-0.5236,\"from_this_person_to_poi\":-0.3097,\"restricted_stock\":-0.4322,\"salary\":-0.9107,\"total_payments\":-0.1262,\"fract_from_poi_email\":-0.6247,\"exercised_stock_options\":-0.4344},{\"null\":99,\"deferral_payments\":-0.2955,\"expenses\":-0.0824,\"deferred_income\":0.3207,\"long_term_incentive\":-0.4921,\"restricted_stock_deferred\":-0.0566,\"fract_to_poi_email\":-0.5932,\"loan_advances\":-0.027,\"director_fees\":-0.32,\"bonus\":-0.306,\"total_stock_value\":-0.4671,\"from_poi_to_this_person\":-0.429,\"from_this_person_to_poi\":-0.3097,\"restricted_stock\":-0.4322,\"salary\":2.3915,\"total_payments\":-0.099,\"fract_from_poi_email\":-0.4099,\"exercised_stock_options\":-0.4283},{\"null\":100,\"deferral_payments\":-0.2955,\"expenses\":-0.7835,\"deferred_income\":0.3207,\"long_term_incentive\":-0.4921,\"restricted_stock_deferred\":-0.0566,\"fract_to_poi_email\":-0.5932,\"loan_advances\":-0.0861,\"director_fees\":-0.32,\"bonus\":-0.5501,\"total_stock_value\":-0.4718,\"from_poi_to_this_person\":-0.5236,\"from_this_person_to_poi\":-0.3097,\"restricted_stock\":-0.4322,\"salary\":-0.9444,\"total_payments\":-0.2152,\"fract_from_poi_email\":-0.6247,\"exercised_stock_options\":-0.4344},{\"null\":101,\"deferral_payments\":0.735,\"expenses\":-0.7835,\"deferred_income\":0.3207,\"long_term_incentive\":-0.4921,\"restricted_stock_deferred\":-0.1295,\"fract_to_poi_email\":-0.5932,\"loan_advances\":-0.0861,\"director_fees\":-0.32,\"bonus\":-0.5501,\"total_stock_value\":-0.412,\"from_poi_to_this_person\":-0.5236,\"from_this_person_to_poi\":-0.3097,\"restricted_stock\":-0.2017,\"salary\":-0.9444,\"total_payments\":-0.1684,\"fract_from_poi_email\":-0.6247,\"exercised_stock_options\":-0.4344},{\"null\":102,\"deferral_payments\":-0.2955,\"expenses\":0.1457,\"deferred_income\":0.3207,\"long_term_incentive\":-0.054,\"restricted_stock_deferred\":-0.0566,\"fract_to_poi_email\":-0.2842,\"loan_advances\":-0.0861,\"director_fees\":-0.32,\"bonus\":0.2637,\"total_stock_value\":0.526,\"from_poi_to_this_person\":1.3678,\"from_this_person_to_poi\":4.5581,\"restricted_stock\":1.6238,\"salary\":1.1148,\"total_payments\":-0.058,\"fract_from_poi_email\":-0.3223,\"exercised_stock_options\":-0.0112},{\"null\":103,\"deferral_payments\":-0.2955,\"expenses\":-0.7835,\"deferred_income\":0.3207,\"long_term_incentive\":-0.4921,\"restricted_stock_deferred\":-0.0566,\"fract_to_poi_email\":-0.5932,\"loan_advances\":-0.0861,\"director_fees\":-0.32,\"bonus\":-0.5501,\"total_stock_value\":-0.1662,\"from_poi_to_this_person\":-0.5236,\"from_this_person_to_poi\":-0.3097,\"restricted_stock\":-0.1534,\"salary\":-0.9444,\"total_payments\":-0.2563,\"fract_from_poi_email\":-0.6247,\"exercised_stock_options\":-0.1572},{\"null\":104,\"deferral_payments\":0.8107,\"expenses\":-0.7835,\"deferred_income\":-0.6452,\"long_term_incentive\":-0.2,\"restricted_stock_deferred\":-0.0566,\"fract_to_poi_email\":0.6661,\"loan_advances\":-0.0861,\"director_fees\":-0.32,\"bonus\":-0.2856,\"total_stock_value\":-0.1384,\"from_poi_to_this_person\":-0.2264,\"from_this_person_to_poi\":-0.2217,\"restricted_stock\":-0.239,\"salary\":0.3797,\"total_payments\":-0.1389,\"fract_from_poi_email\":0.8908,\"exercised_stock_options\":-0.0853},{\"null\":105,\"deferral_payments\":-0.2955,\"expenses\":1.0183,\"deferred_income\":0.3207,\"long_term_incentive\":-0.4921,\"restricted_stock_deferred\":-0.0566,\"fract_to_poi_email\":-0.5932,\"loan_advances\":-0.0861,\"director_fees\":-0.32,\"bonus\":-0.1839,\"total_stock_value\":1.9837,\"from_poi_to_this_person\":-0.5236,\"from_this_person_to_poi\":-0.3097,\"restricted_stock\":6.4584,\"salary\":0.6727,\"total_payments\":-0.0368,\"fract_from_poi_email\":-0.6247,\"exercised_stock_options\":-0.163},{\"null\":106,\"deferral_payments\":-0.2955,\"expenses\":-0.7835,\"deferred_income\":0.3207,\"long_term_incentive\":-0.4921,\"restricted_stock_deferred\":-0.0566,\"fract_to_poi_email\":-0.5932,\"loan_advances\":-0.0861,\"director_fees\":-0.32,\"bonus\":-0.5501,\"total_stock_value\":0.5137,\"from_poi_to_this_person\":-0.5236,\"from_this_person_to_poi\":-0.3097,\"restricted_stock\":0.0409,\"salary\":-0.9444,\"total_payments\":-0.2563,\"fract_from_poi_email\":-0.6247,\"exercised_stock_options\":0.6385},{\"null\":107,\"deferral_payments\":3.5232,\"expenses\":-0.4763,\"deferred_income\":-4.7812,\"long_term_incentive\":-0.047,\"restricted_stock_deferred\":-0.1537,\"fract_to_poi_email\":-0.4334,\"loan_advances\":-0.0861,\"director_fees\":-0.32,\"bonus\":2.8473,\"total_stock_value\":-0.1914,\"from_poi_to_this_person\":0.1114,\"from_this_person_to_poi\":0.5079,\"restricted_stock\":-0.3695,\"salary\":0.0841,\"total_payments\":0.2524,\"fract_from_poi_email\":-0.1785,\"exercised_stock_options\":-0.0725},{\"null\":108,\"deferral_payments\":-0.0461,\"expenses\":1.7931,\"deferred_income\":0.3207,\"long_term_incentive\":0.1244,\"restricted_stock_deferred\":-0.0566,\"fract_to_poi_email\":-0.3551,\"loan_advances\":-0.0861,\"director_fees\":-0.32,\"bonus\":-0.0618,\"total_stock_value\":-0.3917,\"from_poi_to_this_person\":-0.1994,\"from_this_person_to_poi\":-0.2343,\"restricted_stock\":-0.3262,\"salary\":0.3193,\"total_payments\":-0.0774,\"fract_from_poi_email\":-0.4139,\"exercised_stock_options\":-0.3756},{\"null\":109,\"deferral_payments\":-0.2955,\"expenses\":-0.7835,\"deferred_income\":0.2793,\"long_term_incentive\":-0.4921,\"restricted_stock_deferred\":-0.0906,\"fract_to_poi_email\":-0.5932,\"loan_advances\":-0.0861,\"director_fees\":3.1665,\"bonus\":-0.5501,\"total_stock_value\":-0.4018,\"from_poi_to_this_person\":-0.5236,\"from_this_person_to_poi\":-0.3097,\"restricted_stock\":-0.4103,\"salary\":-0.9444,\"total_payments\":-0.2468,\"fract_from_poi_email\":-0.6247,\"exercised_stock_options\":-0.344},{\"null\":110,\"deferral_payments\":-0.2955,\"expenses\":-0.7522,\"deferred_income\":0.2793,\"long_term_incentive\":-0.4921,\"restricted_stock_deferred\":-0.0566,\"fract_to_poi_email\":-0.5932,\"loan_advances\":-0.0861,\"director_fees\":3.1611,\"bonus\":-0.5501,\"total_stock_value\":-0.4718,\"from_poi_to_this_person\":-0.5236,\"from_this_person_to_poi\":-0.3097,\"restricted_stock\":-0.4322,\"salary\":-0.9444,\"total_payments\":-0.2466,\"fract_from_poi_email\":-0.6247,\"exercised_stock_options\":-0.4344},{\"null\":111,\"deferral_payments\":-0.2955,\"expenses\":0.3081,\"deferred_income\":0.3207,\"long_term_incentive\":-0.4921,\"restricted_stock_deferred\":-0.0566,\"fract_to_poi_email\":-0.4616,\"loan_advances\":-0.0861,\"director_fees\":-0.32,\"bonus\":-0.5501,\"total_stock_value\":-0.4718,\"from_poi_to_this_person\":-0.348,\"from_this_person_to_poi\":-0.2972,\"restricted_stock\":-0.4322,\"salary\":-0.9444,\"total_payments\":-0.2507,\"fract_from_poi_email\":-0.3837,\"exercised_stock_options\":-0.4344},{\"null\":112,\"deferral_payments\":-0.0574,\"expenses\":-0.7063,\"deferred_income\":0.3207,\"long_term_incentive\":-0.4921,\"restricted_stock_deferred\":-0.0566,\"fract_to_poi_email\":-0.5932,\"loan_advances\":-0.0861,\"director_fees\":-0.32,\"bonus\":-0.5501,\"total_stock_value\":-0.43,\"from_poi_to_this_person\":-0.5236,\"from_this_person_to_poi\":-0.3097,\"restricted_stock\":-0.4322,\"salary\":-0.9444,\"total_payments\":-0.2356,\"fract_from_poi_email\":-0.6247,\"exercised_stock_options\":-0.3804},{\"null\":113,\"deferral_payments\":-0.2955,\"expenses\":-0.7835,\"deferred_income\":0.3207,\"long_term_incentive\":-0.4921,\"restricted_stock_deferred\":-0.0566,\"fract_to_poi_email\":0.2004,\"loan_advances\":-0.0861,\"director_fees\":-0.32,\"bonus\":-0.5501,\"total_stock_value\":-0.2905,\"from_poi_to_this_person\":-0.0508,\"from_this_person_to_poi\":-0.2469,\"restricted_stock\":-0.2514,\"salary\":-0.9444,\"total_payments\":-0.2563,\"fract_from_poi_email\":0.7166,\"exercised_stock_options\":-0.2764},{\"null\":114,\"deferral_payments\":-0.2272,\"expenses\":-0.5972,\"deferred_income\":-0.0105,\"long_term_incentive\":-0.2639,\"restricted_stock_deferred\":-0.1647,\"fract_to_poi_email\":-0.5932,\"loan_advances\":-0.0861,\"director_fees\":-0.32,\"bonus\":-0.4687,\"total_stock_value\":0.2127,\"from_poi_to_this_person\":-0.5236,\"from_this_person_to_poi\":-0.3097,\"restricted_stock\":-0.3319,\"salary\":-0.5554,\"total_payments\":-0.2115,\"fract_from_poi_email\":-0.6247,\"exercised_stock_options\":0.4363},{\"null\":115,\"deferral_payments\":-0.2955,\"expenses\":0.0097,\"deferred_income\":0.3207,\"long_term_incentive\":0.5226,\"restricted_stock_deferred\":-0.0566,\"fract_to_poi_email\":-0.5932,\"loan_advances\":-0.0861,\"director_fees\":-0.32,\"bonus\":0.2637,\"total_stock_value\":0.8769,\"from_poi_to_this_person\":-0.5236,\"from_this_person_to_poi\":-0.3097,\"restricted_stock\":-0.3695,\"salary\":0.3939,\"total_payments\":0.0124,\"fract_from_poi_email\":-0.6247,\"exercised_stock_options\":1.2798},{\"null\":116,\"deferral_payments\":-0.2955,\"expenses\":-0.7835,\"deferred_income\":0.3207,\"long_term_incentive\":-0.4921,\"restricted_stock_deferred\":11.8562,\"fract_to_poi_email\":-0.4071,\"loan_advances\":-0.0861,\"director_fees\":4.0999,\"bonus\":-0.5501,\"total_stock_value\":-0.4718,\"from_poi_to_this_person\":-0.5236,\"from_this_person_to_poi\":-0.2972,\"restricted_stock\":-1.7283,\"salary\":-0.9444,\"total_payments\":1.497,\"fract_from_poi_email\":-0.6247,\"exercised_stock_options\":0.1106},{\"null\":117,\"deferral_payments\":-0.2955,\"expenses\":-0.7835,\"deferred_income\":0.0561,\"long_term_incentive\":-0.3825,\"restricted_stock_deferred\":-0.2934,\"fract_to_poi_email\":1.9254,\"loan_advances\":-0.0861,\"director_fees\":-0.32,\"bonus\":-0.306,\"total_stock_value\":-0.4718,\"from_poi_to_this_person\":-0.1318,\"from_this_person_to_poi\":-0.2217,\"restricted_stock\":-0.2793,\"salary\":0.3889,\"total_payments\":-0.2021,\"fract_from_poi_email\":1.9365,\"exercised_stock_options\":-0.4344},{\"null\":118,\"deferral_payments\":-0.2955,\"expenses\":-0.7702,\"deferred_income\":0.3207,\"long_term_incentive\":-0.047,\"restricted_stock_deferred\":-0.0566,\"fract_to_poi_email\":-0.5932,\"loan_advances\":-0.0861,\"director_fees\":-0.32,\"bonus\":-0.1432,\"total_stock_value\":-0.3073,\"from_poi_to_this_person\":-0.5236,\"from_this_person_to_poi\":-0.3097,\"restricted_stock\":-0.3381,\"salary\":0.3187,\"total_payments\":-0.1366,\"fract_from_poi_email\":-0.6247,\"exercised_stock_options\":-0.2616},{\"null\":119,\"deferral_payments\":-0.2955,\"expenses\":0.4368,\"deferred_income\":0.3207,\"long_term_incentive\":-0.4921,\"restricted_stock_deferred\":-0.0566,\"fract_to_poi_email\":-0.5932,\"loan_advances\":-0.0861,\"director_fees\":-0.32,\"bonus\":-0.5501,\"total_stock_value\":-0.4405,\"from_poi_to_this_person\":-0.5236,\"from_this_person_to_poi\":-0.3097,\"restricted_stock\":-0.4322,\"salary\":-0.9444,\"total_payments\":-0.25,\"fract_from_poi_email\":-0.6247,\"exercised_stock_options\":-0.394},{\"null\":120,\"deferral_payments\":-0.2955,\"expenses\":0.4918,\"deferred_income\":0.3207,\"long_term_incentive\":-0.3095,\"restricted_stock_deferred\":-0.0566,\"fract_to_poi_email\":-0.3534,\"loan_advances\":-0.0861,\"director_fees\":-0.32,\"bonus\":-0.2246,\"total_stock_value\":-0.3749,\"from_poi_to_this_person\":-0.375,\"from_this_person_to_poi\":-0.2846,\"restricted_stock\":-0.3342,\"salary\":0.2233,\"total_payments\":-0.1641,\"fract_from_poi_email\":-0.4865,\"exercised_stock_options\":-0.3506},{\"null\":121,\"deferral_payments\":-0.2955,\"expenses\":0.2886,\"deferred_income\":0.3207,\"long_term_incentive\":0.056,\"restricted_stock_deferred\":-0.0566,\"fract_to_poi_email\":2.7185,\"loan_advances\":-0.0861,\"director_fees\":-0.32,\"bonus\":0.1416,\"total_stock_value\":-0.3265,\"from_poi_to_this_person\":-0.3885,\"from_this_person_to_poi\":0.0299,\"restricted_stock\":-0.3029,\"salary\":0.2368,\"total_payments\":-0.0786,\"fract_from_poi_email\":0.6937,\"exercised_stock_options\":-0.3012},{\"null\":122,\"deferral_payments\":-0.2955,\"expenses\":-0.1597,\"deferred_income\":0.3207,\"long_term_incentive\":-0.4921,\"restricted_stock_deferred\":-0.0566,\"fract_to_poi_email\":0.5633,\"loan_advances\":-0.0861,\"director_fees\":-0.32,\"bonus\":-0.4931,\"total_stock_value\":-0.4718,\"from_poi_to_this_person\":-0.3885,\"from_this_person_to_poi\":-0.272,\"restricted_stock\":-0.4322,\"salary\":0.1811,\"total_payments\":-0.22,\"fract_from_poi_email\":0.9409,\"exercised_stock_options\":-0.4344},{\"null\":123,\"deferral_payments\":-0.2955,\"expenses\":0.4113,\"deferred_income\":0.3207,\"long_term_incentive\":-0.4921,\"restricted_stock_deferred\":-0.0566,\"fract_to_poi_email\":-0.5932,\"loan_advances\":-0.0861,\"director_fees\":-0.32,\"bonus\":-0.5501,\"total_stock_value\":1.4552,\"from_poi_to_this_person\":-0.5236,\"from_this_person_to_poi\":-0.3097,\"restricted_stock\":1.3474,\"salary\":-0.1377,\"total_payments\":-0.2154,\"fract_from_poi_email\":-0.6247,\"exercised_stock_options\":1.3042},{\"null\":124,\"deferral_payments\":-0.2819,\"expenses\":0.9435,\"deferred_income\":0.3207,\"long_term_incentive\":-0.4921,\"restricted_stock_deferred\":-0.0566,\"fract_to_poi_email\":-0.5932,\"loan_advances\":-0.0861,\"director_fees\":-0.32,\"bonus\":-0.5501,\"total_stock_value\":4.5166,\"from_poi_to_this_person\":-0.5236,\"from_this_person_to_poi\":-0.3097,\"restricted_stock\":-0.4322,\"salary\":-0.9444,\"total_payments\":-0.2459,\"fract_from_poi_email\":-0.6247,\"exercised_stock_options\":6.0036},{\"null\":125,\"deferral_payments\":-0.2955,\"expenses\":-0.7065,\"deferred_income\":0.3207,\"long_term_incentive\":0.3205,\"restricted_stock_deferred\":-0.0566,\"fract_to_poi_email\":0.6061,\"loan_advances\":-0.0861,\"director_fees\":-0.32,\"bonus\":-0.0618,\"total_stock_value\":-0.1694,\"from_poi_to_this_person\":3.597,\"from_this_person_to_poi\":-0.1336,\"restricted_stock\":-0.2754,\"salary\":0.3293,\"total_payments\":-0.0963,\"fract_from_poi_email\":2.6429,\"exercised_stock_options\":-0.11},{\"null\":126,\"deferral_payments\":-0.2955,\"expenses\":0.3488,\"deferred_income\":-1.8054,\"long_term_incentive\":0.2147,\"restricted_stock_deferred\":-1.4342,\"fract_to_poi_email\":-0.4745,\"loan_advances\":-0.0861,\"director_fees\":-0.32,\"bonus\":0.1009,\"total_stock_value\":0.9602,\"from_poi_to_this_person\":0.341,\"from_this_person_to_poi\":-0.0582,\"restricted_stock\":0.4572,\"salary\":1.5631,\"total_payments\":-0.1938,\"fract_from_poi_email\":0.1838,\"exercised_stock_options\":1.4138},{\"null\":127,\"deferral_payments\":8.2569,\"expenses\":1.1431,\"deferred_income\":-5.2547,\"long_term_incentive\":1.8693,\"restricted_stock_deferred\":-0.0566,\"fract_to_poi_email\":0.9488,\"loan_advances\":0.2093,\"director_fees\":-0.32,\"bonus\":1.0774,\"total_stock_value\":1.8991,\"from_poi_to_this_person\":2.7458,\"from_this_person_to_poi\":-0.2343,\"restricted_stock\":1.6522,\"salary\":4.4586,\"total_payments\":1.7007,\"fract_from_poi_email\":1.4114,\"exercised_stock_options\":1.7489},{\"null\":128,\"deferral_payments\":-0.2955,\"expenses\":-0.0737,\"deferred_income\":0.3207,\"long_term_incentive\":-0.4921,\"restricted_stock_deferred\":-0.0566,\"fract_to_poi_email\":-0.5932,\"loan_advances\":-0.0861,\"director_fees\":-0.32,\"bonus\":0.2637,\"total_stock_value\":3.3901,\"from_poi_to_this_person\":-0.5236,\"from_this_person_to_poi\":-0.3097,\"restricted_stock\":3.7746,\"salary\":0.3893,\"total_payments\":0.098,\"fract_from_poi_email\":-0.6247,\"exercised_stock_options\":2.7807},{\"null\":129,\"deferral_payments\":0.0511,\"expenses\":2.0767,\"deferred_income\":-0.0132,\"long_term_incentive\":-0.4921,\"restricted_stock_deferred\":-0.1204,\"fract_to_poi_email\":-0.5932,\"loan_advances\":-0.0861,\"director_fees\":-0.32,\"bonus\":-0.2246,\"total_stock_value\":-0.4616,\"from_poi_to_this_person\":-0.5236,\"from_this_person_to_poi\":-0.3097,\"restricted_stock\":-0.3597,\"salary\":0.2762,\"total_payments\":-0.1624,\"fract_from_poi_email\":-0.6247,\"exercised_stock_options\":-0.4344},{\"null\":130,\"deferral_payments\":-0.2955,\"expenses\":-0.7835,\"deferred_income\":0.3207,\"long_term_incentive\":-0.4921,\"restricted_stock_deferred\":-0.0566,\"fract_to_poi_email\":-0.4,\"loan_advances\":-0.0861,\"director_fees\":-0.32,\"bonus\":-0.5501,\"total_stock_value\":-0.4156,\"from_poi_to_this_person\":-0.0508,\"from_this_person_to_poi\":0.1682,\"restricted_stock\":-0.2597,\"salary\":-0.9444,\"total_payments\":-0.2563,\"fract_from_poi_email\":-0.2607,\"exercised_stock_options\":-0.4344},{\"null\":131,\"deferral_payments\":-0.2282,\"expenses\":-0.7835,\"deferred_income\":0.3207,\"long_term_incentive\":-0.4921,\"restricted_stock_deferred\":-0.0566,\"fract_to_poi_email\":-0.5932,\"loan_advances\":-0.0861,\"director_fees\":-0.32,\"bonus\":-0.5501,\"total_stock_value\":-0.4432,\"from_poi_to_this_person\":-0.5236,\"from_this_person_to_poi\":-0.3097,\"restricted_stock\":-0.4322,\"salary\":-0.9444,\"total_payments\":-0.2505,\"fract_from_poi_email\":-0.6247,\"exercised_stock_options\":-0.3975},{\"null\":132,\"deferral_payments\":-0.2955,\"expenses\":1.341,\"deferred_income\":0.3207,\"long_term_incentive\":0.0546,\"restricted_stock_deferred\":-0.0566,\"fract_to_poi_email\":2.0693,\"loan_advances\":-0.0861,\"director_fees\":-0.32,\"bonus\":1.4843,\"total_stock_value\":-0.0936,\"from_poi_to_this_person\":0.0438,\"from_this_person_to_poi\":0.1557,\"restricted_stock\":0.2606,\"salary\":0.6068,\"total_payments\":0.1608,\"fract_from_poi_email\":0.0347,\"exercised_stock_options\":-0.2376},{\"null\":133,\"deferral_payments\":-0.2955,\"expenses\":2.0296,\"deferred_income\":0.3207,\"long_term_incentive\":-0.054,\"restricted_stock_deferred\":-0.0566,\"fract_to_poi_email\":0.7339,\"loan_advances\":-0.0861,\"director_fees\":-0.32,\"bonus\":0.0195,\"total_stock_value\":-0.1605,\"from_poi_to_this_person\":0.1924,\"from_this_person_to_poi\":-0.1211,\"restricted_stock\":0.189,\"salary\":0.634,\"total_payments\":-0.0762,\"fract_from_poi_email\":-0.0096,\"exercised_stock_options\":-0.2938},{\"null\":134,\"deferral_payments\":-0.2955,\"expenses\":-0.7835,\"deferred_income\":0.1199,\"long_term_incentive\":-0.4921,\"restricted_stock_deferred\":-0.0566,\"fract_to_poi_email\":-0.5932,\"loan_advances\":-0.0861,\"director_fees\":3.6886,\"bonus\":-0.5501,\"total_stock_value\":-0.4718,\"from_poi_to_this_person\":-0.5236,\"from_this_person_to_poi\":-0.3097,\"restricted_stock\":-0.4322,\"salary\":-0.9444,\"total_payments\":-0.2558,\"fract_from_poi_email\":-0.6247,\"exercised_stock_options\":-0.4344},{\"null\":135,\"deferral_payments\":-0.2955,\"expenses\":-0.1613,\"deferred_income\":0.3207,\"long_term_incentive\":-0.0357,\"restricted_stock_deferred\":-0.0566,\"fract_to_poi_email\":0.827,\"loan_advances\":-0.0861,\"director_fees\":-0.32,\"bonus\":-0.5501,\"total_stock_value\":0.4719,\"from_poi_to_this_person\":-0.1453,\"from_this_person_to_poi\":-0.2469,\"restricted_stock\":1.3865,\"salary\":-0.5102,\"total_payments\":-0.0317,\"fract_from_poi_email\":0.9308,\"exercised_stock_options\":0.0187},{\"null\":136,\"deferral_payments\":-0.2955,\"expenses\":-0.7835,\"deferred_income\":-0.6314,\"long_term_incentive\":-0.0905,\"restricted_stock_deferred\":-0.0566,\"fract_to_poi_email\":2.5313,\"loan_advances\":-0.0861,\"director_fees\":-0.32,\"bonus\":-0.306,\"total_stock_value\":-0.2824,\"from_poi_to_this_person\":-0.3885,\"from_this_person_to_poi\":-0.1714,\"restricted_stock\":-0.1452,\"salary\":0.3152,\"total_payments\":-0.2109,\"fract_from_poi_email\":-0.0257,\"exercised_stock_options\":-0.3107},{\"null\":137,\"deferral_payments\":-0.1819,\"expenses\":-0.6016,\"deferred_income\":0.3207,\"long_term_incentive\":7.0218,\"restricted_stock_deferred\":-0.0566,\"fract_to_poi_email\":-0.5932,\"loan_advances\":-0.0861,\"director_fees\":-0.32,\"bonus\":-0.5501,\"total_stock_value\":-0.1361,\"from_poi_to_this_person\":-0.4155,\"from_this_person_to_poi\":-0.3097,\"restricted_stock\":-0.4322,\"salary\":0.8354,\"total_payments\":0.6974,\"fract_from_poi_email\":-0.4799,\"exercised_stock_options\":-0.0012},{\"null\":138,\"deferral_payments\":0.5689,\"expenses\":-0.7835,\"deferred_income\":-0.8299,\"long_term_incentive\":0.6322,\"restricted_stock_deferred\":-0.0566,\"fract_to_poi_email\":-0.2293,\"loan_advances\":-0.0861,\"director_fees\":-0.32,\"bonus\":0.1823,\"total_stock_value\":0.0867,\"from_poi_to_this_person\":1.584,\"from_this_person_to_poi\":0.5833,\"restricted_stock\":0.0165,\"salary\":0.739,\"total_payments\":0.011,\"fract_from_poi_email\":0.5954,\"exercised_stock_options\":0.0977},{\"null\":139,\"deferral_payments\":-0.2955,\"expenses\":-0.7835,\"deferred_income\":0.3207,\"long_term_incentive\":-0.4921,\"restricted_stock_deferred\":-0.0566,\"fract_to_poi_email\":-0.5932,\"loan_advances\":-0.0861,\"director_fees\":3.5045,\"bonus\":-0.5501,\"total_stock_value\":-0.4718,\"from_poi_to_this_person\":-0.5236,\"from_this_person_to_poi\":-0.3097,\"restricted_stock\":-0.4322,\"salary\":-0.9444,\"total_payments\":-0.2427,\"fract_from_poi_email\":-0.6247,\"exercised_stock_options\":-0.4344},{\"null\":140,\"deferral_payments\":-0.2955,\"expenses\":-0.1041,\"deferred_income\":-0.0684,\"long_term_incentive\":0.019,\"restricted_stock_deferred\":-0.0566,\"fract_to_poi_email\":0.7285,\"loan_advances\":-0.0861,\"director_fees\":-0.32,\"bonus\":0.2637,\"total_stock_value\":-0.0661,\"from_poi_to_this_person\":0.26,\"from_this_person_to_poi\":-0.1588,\"restricted_stock\":0.8129,\"salary\":1.17,\"total_payments\":-0.0443,\"fract_from_poi_email\":0.22,\"exercised_stock_options\":-0.4344},{\"null\":141,\"deferral_payments\":0.0071,\"expenses\":-0.7835,\"deferred_income\":0.3207,\"long_term_incentive\":-0.4921,\"restricted_stock_deferred\":-0.0566,\"fract_to_poi_email\":-0.5932,\"loan_advances\":-0.0861,\"director_fees\":-0.32,\"bonus\":-0.0618,\"total_stock_value\":0.1354,\"from_poi_to_this_person\":-0.5236,\"from_this_person_to_poi\":-0.3097,\"restricted_stock\":-0.1516,\"salary\":0.4062,\"total_payments\":-0.1323,\"fract_from_poi_email\":-0.6247,\"exercised_stock_options\":0.2313},{\"null\":142,\"deferral_payments\":-0.2955,\"expenses\":1.3486,\"deferred_income\":-0.176,\"long_term_incentive\":-0.4921,\"restricted_stock_deferred\":-0.0566,\"fract_to_poi_email\":2.1053,\"loan_advances\":-0.0861,\"director_fees\":-0.32,\"bonus\":0.1009,\"total_stock_value\":-0.2965,\"from_poi_to_this_person\":2.0163,\"from_this_person_to_poi\":-0.1714,\"restricted_stock\":-0.2754,\"salary\":0.4744,\"total_payments\":-0.1569,\"fract_from_poi_email\":5.3642,\"exercised_stock_options\":-0.2741},{\"null\":143,\"deferral_payments\":-0.2955,\"expenses\":2.0066,\"deferred_income\":0.3207,\"long_term_incentive\":-0.3883,\"restricted_stock_deferred\":-0.0566,\"fract_to_poi_email\":1.4306,\"loan_advances\":-0.0861,\"director_fees\":-0.32,\"bonus\":-0.0618,\"total_stock_value\":-0.3456,\"from_poi_to_this_person\":0.1789,\"from_this_person_to_poi\":-0.2343,\"restricted_stock\":-0.2362,\"salary\":0.456,\"total_payments\":-0.1119,\"fract_from_poi_email\":1.0166,\"exercised_stock_options\":-0.3539}], [{\"field\": null, \"type\": \"Integer\"}, {\"field\": \"deferral_payments\", \"type\": \"Float\"}, {\"field\": \"expenses\", \"type\": \"Float\"}, {\"field\": \"deferred_income\", \"type\": \"Float\"}, {\"field\": \"long_term_incentive\", \"type\": \"Float\"}, {\"field\": \"restricted_stock_deferred\", \"type\": \"Float\"}, {\"field\": \"fract_to_poi_email\", \"type\": \"Float\"}, {\"field\": \"loan_advances\", \"type\": \"Float\"}, {\"field\": \"director_fees\", \"type\": \"Float\"}, {\"field\": \"bonus\", \"type\": \"Float\"}, {\"field\": \"total_stock_value\", \"type\": \"Float\"}, {\"field\": \"from_poi_to_this_person\", \"type\": \"Float\"}, {\"field\": \"from_this_person_to_poi\", \"type\": \"Float\"}, {\"field\": \"restricted_stock\", \"type\": \"Float\"}, {\"field\": \"salary\", \"type\": \"Float\"}, {\"field\": \"total_payments\", \"type\": \"Float\"}, {\"field\": \"fract_from_poi_email\", \"type\": \"Float\"}, {\"field\": \"exercised_stock_options\", \"type\": \"Float\"}]);\n",
       "            grid.initialize_slick_grid({\"fullWidthRows\": true, \"rowHeight\": 28, \"enableColumnReorder\": false, \"enableTextSelectionOnCells\": true, \"syncColumnCellResize\": true, \"forceFitColumns\": true});\n",
       "        });\n",
       "    });\n",
       "});\n"
      ]
     },
     "metadata": {},
     "output_type": "display_data"
    }
   ],
   "source": [
    "import qgrid\n",
    "qgrid.nbinstall(overwrite=True)\n",
    "qgrid.set_defaults(remote_js=True, precision=4)\n",
    "qgrid.show_grid(feat)"
   ]
  },
  {
   "cell_type": "markdown",
   "metadata": {},
   "source": [
    "[1] Features - identified one outlier \"TOTAL\""
   ]
  },
  {
   "cell_type": "code",
   "execution_count": 71,
   "metadata": {
    "collapsed": true
   },
   "outputs": [],
   "source": [
    "bon = [count for count, i in enumerate(features_list) if i == \"bonus\"][0]\n",
    "sal = [count for count, i in enumerate(features_list) if i == \"salary\"][0]"
   ]
  },
  {
   "cell_type": "code",
   "execution_count": 72,
   "metadata": {
    "collapsed": false
   },
   "outputs": [
    {
     "data": {
      "image/png": "[encoded data removed]",
      "text/plain": [
       "<matplotlib.figure.Figure at 0x10426bc50>"
      ]
     },
     "metadata": {},
     "output_type": "display_data"
    }
   ],
   "source": [
    "for point in data:\n",
    "    from_poi = point[sal]\n",
    "    to_poi = point[bon]\n",
    "    plt.scatter(from_poi,to_poi)\n",
    "    if point[0] == 1:\n",
    "        plt.scatter(from_poi, to_poi, color=\"r\")\n",
    "plt.ylabel(\"bonus\")        \n",
    "plt.xlabel(\"salary\")\n",
    "plt.show()"
   ]
  },
  {
   "cell_type": "code",
   "execution_count": 89,
   "metadata": {
    "collapsed": false
   },
   "outputs": [
    {
     "data": {
      "text/html": [
       "<div style=\"max-height:1000px;max-width:1500px;overflow:auto;\">\n",
       "<table border=\"1\" class=\"dataframe\">\n",
       "  <thead>\n",
       "    <tr style=\"text-align: right;\">\n",
       "      <th></th>\n",
       "      <th>deferral_payments</th>\n",
       "      <th>expenses</th>\n",
       "      <th>deferred_income</th>\n",
       "      <th>long_term_incentive</th>\n",
       "      <th>restricted_stock_deferred</th>\n",
       "      <th>fract_to_poi_email</th>\n",
       "      <th>loan_advances</th>\n",
       "      <th>director_fees</th>\n",
       "      <th>bonus</th>\n",
       "      <th>total_stock_value</th>\n",
       "      <th>from_poi_to_this_person</th>\n",
       "      <th>from_this_person_to_poi</th>\n",
       "      <th>restricted_stock</th>\n",
       "      <th>salary</th>\n",
       "      <th>total_payments</th>\n",
       "      <th>fract_from_poi_email</th>\n",
       "      <th>exercised_stock_options</th>\n",
       "    </tr>\n",
       "  </thead>\n",
       "  <tbody>\n",
       "    <tr>\n",
       "      <th>count</th>\n",
       "      <td>144</td>\n",
       "      <td>144</td>\n",
       "      <td>144</td>\n",
       "      <td>144</td>\n",
       "      <td>144</td>\n",
       "      <td>144</td>\n",
       "      <td>144</td>\n",
       "      <td>144</td>\n",
       "      <td>144</td>\n",
       "      <td>144</td>\n",
       "      <td>144</td>\n",
       "      <td>144</td>\n",
       "      <td>144</td>\n",
       "      <td>144</td>\n",
       "      <td>144</td>\n",
       "      <td>144</td>\n",
       "      <td>144</td>\n",
       "    </tr>\n",
       "    <tr>\n",
       "      <th>mean</th>\n",
       "      <td>-0</td>\n",
       "      <td>-0</td>\n",
       "      <td>0</td>\n",
       "      <td>0</td>\n",
       "      <td>-0</td>\n",
       "      <td>-0</td>\n",
       "      <td>-0</td>\n",
       "      <td>-0</td>\n",
       "      <td>0</td>\n",
       "      <td>0</td>\n",
       "      <td>0</td>\n",
       "      <td>0</td>\n",
       "      <td>0</td>\n",
       "      <td>0</td>\n",
       "      <td>0</td>\n",
       "      <td>0</td>\n",
       "      <td>-0</td>\n",
       "    </tr>\n",
       "    <tr>\n",
       "      <th>std</th>\n",
       "      <td>1</td>\n",
       "      <td>1</td>\n",
       "      <td>1</td>\n",
       "      <td>1</td>\n",
       "      <td>1</td>\n",
       "      <td>1</td>\n",
       "      <td>1</td>\n",
       "      <td>1</td>\n",
       "      <td>1</td>\n",
       "      <td>1</td>\n",
       "      <td>1</td>\n",
       "      <td>1</td>\n",
       "      <td>1</td>\n",
       "      <td>1</td>\n",
       "      <td>1</td>\n",
       "      <td>1</td>\n",
       "      <td>1</td>\n",
       "    </tr>\n",
       "    <tr>\n",
       "      <th>min</th>\n",
       "      <td>-0</td>\n",
       "      <td>-1</td>\n",
       "      <td>-5</td>\n",
       "      <td>-0</td>\n",
       "      <td>-1</td>\n",
       "      <td>-1</td>\n",
       "      <td>-0</td>\n",
       "      <td>-0</td>\n",
       "      <td>-1</td>\n",
       "      <td>-0</td>\n",
       "      <td>-1</td>\n",
       "      <td>-0</td>\n",
       "      <td>-2</td>\n",
       "      <td>-1</td>\n",
       "      <td>-0</td>\n",
       "      <td>-1</td>\n",
       "      <td>-0</td>\n",
       "    </tr>\n",
       "    <tr>\n",
       "      <th>25%</th>\n",
       "      <td>-0</td>\n",
       "      <td>-1</td>\n",
       "      <td>0</td>\n",
       "      <td>-0</td>\n",
       "      <td>-0</td>\n",
       "      <td>-1</td>\n",
       "      <td>-0</td>\n",
       "      <td>-0</td>\n",
       "      <td>-1</td>\n",
       "      <td>-0</td>\n",
       "      <td>-1</td>\n",
       "      <td>-0</td>\n",
       "      <td>-0</td>\n",
       "      <td>-1</td>\n",
       "      <td>-0</td>\n",
       "      <td>-1</td>\n",
       "      <td>-0</td>\n",
       "    </tr>\n",
       "    <tr>\n",
       "      <th>50%</th>\n",
       "      <td>-0</td>\n",
       "      <td>-0</td>\n",
       "      <td>0</td>\n",
       "      <td>-0</td>\n",
       "      <td>-0</td>\n",
       "      <td>-1</td>\n",
       "      <td>-0</td>\n",
       "      <td>-0</td>\n",
       "      <td>-0</td>\n",
       "      <td>-0</td>\n",
       "      <td>-0</td>\n",
       "      <td>-0</td>\n",
       "      <td>-0</td>\n",
       "      <td>0</td>\n",
       "      <td>-0</td>\n",
       "      <td>-0</td>\n",
       "      <td>-0</td>\n",
       "    </tr>\n",
       "    <tr>\n",
       "      <th>75%</th>\n",
       "      <td>-0</td>\n",
       "      <td>0</td>\n",
       "      <td>0</td>\n",
       "      <td>0</td>\n",
       "      <td>-0</td>\n",
       "      <td>0</td>\n",
       "      <td>-0</td>\n",
       "      <td>-0</td>\n",
       "      <td>0</td>\n",
       "      <td>-0</td>\n",
       "      <td>0</td>\n",
       "      <td>-0</td>\n",
       "      <td>-0</td>\n",
       "      <td>0</td>\n",
       "      <td>-0</td>\n",
       "      <td>0</td>\n",
       "      <td>-0</td>\n",
       "    </tr>\n",
       "    <tr>\n",
       "      <th>max</th>\n",
       "      <td>8</td>\n",
       "      <td>4</td>\n",
       "      <td>0</td>\n",
       "      <td>7</td>\n",
       "      <td>12</td>\n",
       "      <td>5</td>\n",
       "      <td>12</td>\n",
       "      <td>4</td>\n",
       "      <td>6</td>\n",
       "      <td>7</td>\n",
       "      <td>7</td>\n",
       "      <td>7</td>\n",
       "      <td>7</td>\n",
       "      <td>5</td>\n",
       "      <td>11</td>\n",
       "      <td>5</td>\n",
       "      <td>7</td>\n",
       "    </tr>\n",
       "  </tbody>\n",
       "</table>\n",
       "</div>"
      ],
      "text/plain": [
       "       deferral_payments  expenses  deferred_income  long_term_incentive  \\\n",
       "count                144       144              144                  144   \n",
       "mean                  -0        -0                0                    0   \n",
       "std                    1         1                1                    1   \n",
       "min                   -0        -1               -5                   -0   \n",
       "25%                   -0        -1                0                   -0   \n",
       "50%                   -0        -0                0                   -0   \n",
       "75%                   -0         0                0                    0   \n",
       "max                    8         4                0                    7   \n",
       "\n",
       "       restricted_stock_deferred  fract_to_poi_email  loan_advances  \\\n",
       "count                        144                 144            144   \n",
       "mean                          -0                  -0             -0   \n",
       "std                            1                   1              1   \n",
       "min                           -1                  -1             -0   \n",
       "25%                           -0                  -1             -0   \n",
       "50%                           -0                  -1             -0   \n",
       "75%                           -0                   0             -0   \n",
       "max                           12                   5             12   \n",
       "\n",
       "       director_fees  bonus  total_stock_value  from_poi_to_this_person  \\\n",
       "count            144    144                144                      144   \n",
       "mean              -0      0                  0                        0   \n",
       "std                1      1                  1                        1   \n",
       "min               -0     -1                 -0                       -1   \n",
       "25%               -0     -1                 -0                       -1   \n",
       "50%               -0     -0                 -0                       -0   \n",
       "75%               -0      0                 -0                        0   \n",
       "max                4      6                  7                        7   \n",
       "\n",
       "       from_this_person_to_poi  restricted_stock  salary  total_payments  \\\n",
       "count                      144               144     144             144   \n",
       "mean                         0                 0       0               0   \n",
       "std                          1                 1       1               1   \n",
       "min                         -0                -2      -1              -0   \n",
       "25%                         -0                -0      -1              -0   \n",
       "50%                         -0                -0       0              -0   \n",
       "75%                         -0                -0       0              -0   \n",
       "max                          7                 7       5              11   \n",
       "\n",
       "       fract_from_poi_email  exercised_stock_options  \n",
       "count                   144                      144  \n",
       "mean                      0                       -0  \n",
       "std                       1                        1  \n",
       "min                      -1                       -0  \n",
       "25%                      -1                       -0  \n",
       "50%                      -0                       -0  \n",
       "75%                       0                       -0  \n",
       "max                       5                        7  "
      ]
     },
     "execution_count": 89,
     "metadata": {},
     "output_type": "execute_result"
    }
   ],
   "source": [
    "np.round(feat.describe(),0)"
   ]
  },
  {
   "cell_type": "markdown",
   "metadata": {},
   "source": [
    "Interactive visualization of features:"
   ]
  },
  {
   "cell_type": "markdown",
   "metadata": {},
   "source": [
    "#Feature occurences"
   ]
  },
  {
   "cell_type": "code",
   "execution_count": 91,
   "metadata": {
    "collapsed": false
   },
   "outputs": [
    {
     "ename": "AttributeError",
     "evalue": "'GaussianNB' object has no attribute 'feature_importances_'",
     "output_type": "error",
     "traceback": [
      "\u001b[0;31m---------------------------------------------------------------------------\u001b[0m",
      "\u001b[0;31mAttributeError\u001b[0m                            Traceback (most recent call last)",
      "\u001b[0;32m<ipython-input-91-27fcc932e998>\u001b[0m in \u001b[0;36m<module>\u001b[0;34m()\u001b[0m\n\u001b[0;32m----> 1\u001b[0;31m \u001b[0mclfimp\u001b[0m \u001b[0;34m=\u001b[0m \u001b[0mclf\u001b[0m\u001b[0;34m.\u001b[0m\u001b[0mfeature_importances_\u001b[0m\u001b[0;34m\u001b[0m\u001b[0m\n\u001b[0m\u001b[1;32m      2\u001b[0m \u001b[0mfeatures_new\u001b[0m \u001b[0;34m=\u001b[0m \u001b[0;34m[\u001b[0m\u001b[0;34m]\u001b[0m\u001b[0;34m\u001b[0m\u001b[0m\n\u001b[1;32m      3\u001b[0m \u001b[0;32mfor\u001b[0m \u001b[0mcount\u001b[0m\u001b[0;34m,\u001b[0m\u001b[0mi\u001b[0m \u001b[0;32min\u001b[0m \u001b[0menumerate\u001b[0m\u001b[0;34m(\u001b[0m\u001b[0mclfimp\u001b[0m\u001b[0;34m)\u001b[0m\u001b[0;34m:\u001b[0m\u001b[0;34m\u001b[0m\u001b[0m\n\u001b[1;32m      4\u001b[0m     \u001b[0mfeatures_new\u001b[0m\u001b[0;34m.\u001b[0m\u001b[0mappend\u001b[0m\u001b[0;34m(\u001b[0m\u001b[0;34m[\u001b[0m\u001b[0mformat\u001b[0m\u001b[0;34m(\u001b[0m\u001b[0mclfimp\u001b[0m\u001b[0;34m[\u001b[0m\u001b[0mcount\u001b[0m\u001b[0;34m]\u001b[0m\u001b[0;34m,\u001b[0m \u001b[0;34m'.3f'\u001b[0m\u001b[0;34m)\u001b[0m\u001b[0;34m,\u001b[0m \u001b[0mfeatures_list\u001b[0m\u001b[0;34m[\u001b[0m\u001b[0mcount\u001b[0m\u001b[0;34m+\u001b[0m\u001b[0;36m1\u001b[0m\u001b[0;34m]\u001b[0m\u001b[0;34m]\u001b[0m\u001b[0;34m)\u001b[0m\u001b[0;34m\u001b[0m\u001b[0m\n\u001b[1;32m      5\u001b[0m \u001b[0mpd\u001b[0m\u001b[0;34m.\u001b[0m\u001b[0mDataFrame\u001b[0m\u001b[0;34m(\u001b[0m\u001b[0mfeatures_new\u001b[0m\u001b[0;34m,\u001b[0m\u001b[0mcolumns\u001b[0m\u001b[0;34m=\u001b[0m\u001b[0;34m[\u001b[0m\u001b[0;34m'importance'\u001b[0m\u001b[0;34m,\u001b[0m\u001b[0;34m'feature'\u001b[0m\u001b[0;34m]\u001b[0m\u001b[0;34m)\u001b[0m\u001b[0;34m.\u001b[0m\u001b[0msort\u001b[0m\u001b[0;34m(\u001b[0m\u001b[0;34m'importance'\u001b[0m\u001b[0;34m,\u001b[0m\u001b[0mascending\u001b[0m\u001b[0;34m=\u001b[0m\u001b[0mFalse\u001b[0m\u001b[0;34m)\u001b[0m\u001b[0;34m.\u001b[0m\u001b[0mreset_index\u001b[0m\u001b[0;34m(\u001b[0m\u001b[0mdrop\u001b[0m\u001b[0;34m=\u001b[0m\u001b[0mTrue\u001b[0m\u001b[0;34m)\u001b[0m\u001b[0;34m\u001b[0m\u001b[0m\n",
      "\u001b[0;31mAttributeError\u001b[0m: 'GaussianNB' object has no attribute 'feature_importances_'"
     ]
    }
   ],
   "source": [
    "clfimp = clf.feature_importances_\n",
    "features_new = []\n",
    "for count,i in enumerate(clfimp):\n",
    "    features_new.append([format(clfimp[count], '.3f'), features_list[count+1]])\n",
    "pd.DataFrame(features_new,columns=['importance','feature']).sort('importance',ascending=False).reset_index(drop=True)"
   ]
  },
  {
   "cell_type": "markdown",
   "metadata": {
    "collapsed": true
   },
   "source": [
    "#RandomForestClassifier"
   ]
  },
  {
   "cell_type": "code",
   "execution_count": 52,
   "metadata": {
    "collapsed": true
   },
   "outputs": [],
   "source": [
    "from sklearn.ensemble import RandomForestClassifier, AdaBoostClassifier\n",
    "\n",
    "pre = []\n",
    "names = [\"Random Forest\"]\n",
    "classifiers = [RandomForestClassifier(max_depth=5, n_estimators=10, max_features=1)]\n",
    "for name, clf in zip(names, classifiers):\n",
    "    #ax = plt.subplot(len(features), len(classifiers)+1, i)\n",
    "    clf.fit(features_train, labels_train)\n",
    "    pred = clf.predict(features_test)\n",
    "    score = clf.score(features_test,labels_test)\n",
    "    accuracy_score(labels_test, pred)\n",
    "    \"\"\"acc.append(accuracy_score(labels_test,pred))\n",
    "    pre.append(precision_score(labels_test,pred))\n",
    "    rec.append(recall_score(labels_test,pred))\n",
    "    print score\n",
    "    print \"accuracy\", round(np.mean(acc),2)\n",
    "    print \"precision\", round(np.mean(pre),2)\n",
    "    print \"recall\", round(np.mean(rec),2)\"\"\"\n",
    "    \"\"\"\n",
    "    pre=[]\n",
    "clf = RandomForestClassifier(max_depth=5, n_estimators=10, max_features=1)\n",
    "clf.fit(features_train, labels_train)\n",
    "pred = clf.predict(features_test)\n",
    "pre.append(precision_score(labels_test,pred))\n",
    "print pre\"\"\""
   ]
  },
  {
   "cell_type": "code",
   "execution_count": 53,
   "metadata": {
    "collapsed": false
   },
   "outputs": [
    {
     "name": "stdout",
     "output_type": "stream",
     "text": [
      "[0.0]\n"
     ]
    },
    {
     "name": "stderr",
     "output_type": "stream",
     "text": [
      "/Library/Frameworks/Python.framework/Versions/2.7/lib/python2.7/site-packages/sklearn/metrics/classification.py:958: UndefinedMetricWarning: Precision is ill-defined and being set to 0.0 due to no predicted samples.\n",
      "  'precision', 'predicted', average, warn_for)\n"
     ]
    }
   ],
   "source": [
    "pre=[]\n",
    "clf = RandomForestClassifier(max_depth=5, n_estimators=10, max_features=1)\n",
    "clf.fit(features_train, labels_train)\n",
    "pred = clf.predict(features_test)\n",
    "pre.append(precision_score(labels_test,pred))\n",
    "print pre"
   ]
  },
  {
   "cell_type": "code",
   "execution_count": 54,
   "metadata": {
    "collapsed": false
   },
   "outputs": [
    {
     "data": {
      "text/plain": [
       "0.0"
      ]
     },
     "execution_count": 54,
     "metadata": {},
     "output_type": "execute_result"
    }
   ],
   "source": [
    "precision_score(labels_test, pred)"
   ]
  },
  {
   "cell_type": "markdown",
   "metadata": {},
   "source": [
    "#SVC"
   ]
  },
  {
   "cell_type": "code",
   "execution_count": 56,
   "metadata": {
    "collapsed": true
   },
   "outputs": [],
   "source": [
    "from sklearn.svm import SVC\n",
    "estimator = SVC(kernel='linear')\n",
    "from sklearn.cross_validation import ShuffleSplit\n",
    "cv = ShuffleSplit(len(labels_train), n_iter=10, test_size=0.2, random_state=0)"
   ]
  },
  {
   "cell_type": "code",
   "execution_count": 57,
   "metadata": {
    "collapsed": false
   },
   "outputs": [
    {
     "data": {
      "text/plain": [
       "\"from sklearn.grid_search import GridSearchCV\\nparameters = {'kernel':('linear', 'rbf'), 'C':[1, 10]}\\nclf = GridSearchCV(estimator=estimator, cv=cv, param_grid=parameters)\\nclf.fit(features_train, labels_train)\""
      ]
     },
     "execution_count": 57,
     "metadata": {},
     "output_type": "execute_result"
    }
   ],
   "source": [
    "\"\"\"from sklearn.grid_search import GridSearchCV\n",
    "parameters = {'kernel':('linear', 'rbf'), 'C':[1, 10]}\n",
    "clf = GridSearchCV(estimator=estimator, cv=cv, param_grid=parameters)\n",
    "clf.fit(features_train, labels_train)\"\"\""
   ]
  },
  {
   "cell_type": "code",
   "execution_count": 58,
   "metadata": {
    "collapsed": false
   },
   "outputs": [
    {
     "data": {
      "text/plain": [
       "129"
      ]
     },
     "execution_count": 58,
     "metadata": {},
     "output_type": "execute_result"
    }
   ],
   "source": [
    "len(features_train)"
   ]
  },
  {
   "cell_type": "code",
   "execution_count": 59,
   "metadata": {
    "collapsed": false
   },
   "outputs": [
    {
     "ename": "NameError",
     "evalue": "name 'my_dataset' is not defined",
     "output_type": "error",
     "traceback": [
      "\u001b[0;31m---------------------------------------------------------------------------\u001b[0m",
      "\u001b[0;31mNameError\u001b[0m                                 Traceback (most recent call last)",
      "\u001b[0;32m<ipython-input-59-0ed484958c11>\u001b[0m in \u001b[0;36m<module>\u001b[0;34m()\u001b[0m\n\u001b[1;32m     20\u001b[0m \u001b[0;31m### generates the necessary .pkl files for validating your results.\u001b[0m\u001b[0;34m\u001b[0m\u001b[0;34m\u001b[0m\u001b[0m\n\u001b[1;32m     21\u001b[0m \u001b[0;34m\u001b[0m\u001b[0m\n\u001b[0;32m---> 22\u001b[0;31m \u001b[0mdump_classifier_and_data\u001b[0m\u001b[0;34m(\u001b[0m\u001b[0mclf\u001b[0m\u001b[0;34m,\u001b[0m \u001b[0mmy_dataset\u001b[0m\u001b[0;34m,\u001b[0m \u001b[0mfeatures_list\u001b[0m\u001b[0;34m)\u001b[0m\u001b[0;34m\u001b[0m\u001b[0m\n\u001b[0m",
      "\u001b[0;31mNameError\u001b[0m: name 'my_dataset' is not defined"
     ]
    }
   ],
   "source": [
    "\n",
    "# Provided to give you a starting point. Try a variety of classifiers.\n",
    "from sklearn.naive_bayes import GaussianNB\n",
    "clf = GaussianNB()\n",
    "\n",
    "### Task 5: Tune your classifier to achieve better than .3 precision and recall \n",
    "### using our testing script. Check the tester.py script in the final project\n",
    "### folder for details on the evaluation method, especially the test_classifier\n",
    "### function. Because of the small size of the dataset, the script uses\n",
    "### stratified shuffle split cross validation. For more info: \n",
    "### http://scikit-learn.org/stable/modules/generated/sklearn.cross_validation.StratifiedShuffleSplit.html\n",
    "\n",
    "# Example starting point. Try investigating other evaluation techniques!\n",
    "from sklearn.cross_validation import train_test_split\n",
    "features_train, features_test, labels_train, labels_test = \\\n",
    "    train_test_split(features, labels, test_size=0.3, random_state=42)\n",
    "\n",
    "### Task 6: Dump your classifier, dataset, and features_list so anyone can\n",
    "### check your results. You do not need to change anything below, but make sure\n",
    "### that the version of poi_id.py that you submit can be run on its own and\n",
    "### generates the necessary .pkl files for validating your results.\n",
    "\n",
    "dump_classifier_and_data(clf, my_dataset, features_list)"
   ]
  },
  {
   "cell_type": "code",
   "execution_count": null,
   "metadata": {
    "collapsed": true
   },
   "outputs": [],
   "source": []
  },
  {
   "cell_type": "markdown",
   "metadata": {},
   "source": [
    "\n",
    "### Actions taken\n",
    "\n",
    "- Outliers\n",
    "    - The financial dataset included the item \"total amount of incomes\". Item was removed \n",
    "- Features\n",
    "    - The features salary, exercised_stock_options and total_payments showed to be most promising for ML and were selected\n",
    "        - The selection process was as follows:\n",
    "            - Bil\n",
    "- Algorithms\n",
    "    - We use 'Decision tree' and 'Linear regression'\n",
    "    - Random forest?\n",
    "- Parameter tuning\n",
    "- Validation\n",
    "    - To avoid overfitting, cross validation was applied\n",
    "    - Grid search?\n",
    "- Data exploration\n",
    "    - plot\n",
    "    - grid view"
   ]
  },
  {
   "cell_type": "markdown",
   "metadata": {
    "collapsed": true
   },
   "source": [
    "[For references](https://jaycode.github.io/enron/identifying-fraud-from-enron-email.html)"
   ]
  },
  {
   "cell_type": "code",
   "execution_count": null,
   "metadata": {
    "collapsed": true
   },
   "outputs": [],
   "source": []
  }
 ],
 "metadata": {
  "kernelspec": {
   "display_name": "Python 3",
   "language": "python",
   "name": "python3"
  },
  "language_info": {
   "codemirror_mode": {
    "name": "ipython",
    "version": 3
   },
   "file_extension": ".py",
   "mimetype": "text/x-python",
   "name": "python",
   "nbconvert_exporter": "python",
   "pygments_lexer": "ipython3",
   "version": "3.5.1"
  }
 },
 "nbformat": 4,
 "nbformat_minor": 0
}
