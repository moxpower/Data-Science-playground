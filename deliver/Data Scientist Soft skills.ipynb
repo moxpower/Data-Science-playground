{
 "cells": [
  {
   "cell_type": "markdown",
   "metadata": {},
   "source": [
    "# Root cause"
   ]
  },
  {
   "cell_type": "markdown",
   "metadata": {},
   "source": [
    "### [\"5 whys\" analysis](http://asq.org/quality-progress/2015/02/back-to-basics/the-art-of-root-cause-analysis.html)"
   ]
  },
  {
   "cell_type": "markdown",
   "metadata": {},
   "source": [
    "When to stop asking:<br>\n",
    "It is critical to know when to stop asking why. Some experienced practitioners say that you have reached the true root cause when the answer to your why question is a process, policy or a person. Often, these answers turn out to be the real root causes."
   ]
  },
  {
   "cell_type": "markdown",
   "metadata": {},
   "source": [
    "Knowing when to stop mostly depends on three questions:\n",
    "1. How relevant are the questions and answers to the original X or Y you are investigating?\n",
    "2. Did you find a root cause that helps you control or avoid the situation?\n",
    "3. Are the questions and answers significant enough, considering your project scope?\n"
   ]
  },
  {
   "cell_type": "markdown",
   "metadata": {},
   "source": [
    "Do not stop unless you reach a process, policy or a person that seems to be a root cause."
   ]
  },
  {
   "cell_type": "code",
   "execution_count": null,
   "metadata": {
    "collapsed": true
   },
   "outputs": [],
   "source": []
  }
 ],
 "metadata": {
  "kernelspec": {
   "display_name": "Python 3",
   "language": "python",
   "name": "python3"
  },
  "language_info": {
   "codemirror_mode": {
    "name": "ipython",
    "version": 3
   },
   "file_extension": ".py",
   "mimetype": "text/x-python",
   "name": "python",
   "nbconvert_exporter": "python",
   "pygments_lexer": "ipython3",
   "version": "3.5.1"
  }
 },
 "nbformat": 4,
 "nbformat_minor": 0
}
