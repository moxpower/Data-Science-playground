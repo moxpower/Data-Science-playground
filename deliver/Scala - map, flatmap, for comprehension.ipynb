{
 "cells": [
  {
   "cell_type": "markdown",
   "metadata": {},
   "source": [
    "[What you need to know about scala](http://career.guru99.com/top-25-interview-questions-on-scala/)"
   ]
  },
  {
   "cell_type": "markdown",
   "metadata": {},
   "source": [
    "Alternatives:\n",
    "- Spark\n",
    "- MapReduce\n",
    "- Cascading\n",
    "- Scalding\n",
    "- Storm\n",
    "- Summingbird"
   ]
  },
  {
   "cell_type": "markdown",
   "metadata": {},
   "source": [
    "### What is ... ?\n",
    "#### Scala\n",
    "Functional programming language to describe problems concisely<br>\n",
    "#### Scala map\n",
    "Collection of key or value pairs\n",
    "#### Scala set\n",
    "Collection with pairwise datapoints (same types, no dupes)\n",
    "#### advantages\n",
    "- Less error prone functional style\n",
    "- High maintainability\n",
    "- Scalability\n",
    "- Testability\n",
    "\n",
    "#### variables\n",
    "- val myVar: Int=0;\n",
    "- var myVal: Int=1;\n",
    "\n",
    "#### object vs class\n",
    "Object: \n",
    "    1. There can only be one instance\n",
    "    2. If used with related class -> called companion object\n",
    "Class: Can have multiple instances\n",
    "\n",
    "#### recursion tail\n",
    "'Recursion' is a function that calls itself.\n",
    "\n",
    "#### scala trait\n",
    "- Is equal to\n",
    "- Is not equal to\n",
    "\n",
    "#### tuple vs array\n",
    "can hold objects with different types\n",
    "\n",
    "#### "
   ]
  },
  {
   "cell_type": "code",
   "execution_count": 4,
   "metadata": {
    "collapsed": true
   },
   "outputs": [
    {
     "ename": "",
     "evalue": "",
     "output_type": "error",
     "traceback": [
      "\u001b[31mMain.scala:23: not found: type B",
      "              object A extends B with C {",
      "                               ^\u001b[0m",
      "\u001b[31mMain.scala:23: not found: type C",
      "              object A extends B with C {",
      "                                      ^\u001b[0m",
      "\u001b[31mMain.scala:24: not found: value ??",
      "    def f(x: Any): Any = ??",
      "                         ^\u001b[0m"
     ]
    }
   ],
   "source": [
    "object A extends B with C {\n",
    "    def f(x: Any): Any = ??\n",
    "}"
   ]
  },
  {
   "cell_type": "markdown",
   "metadata": {},
   "source": [
    "#### 'Scala higher order' function"
   ]
  },
  {
   "cell_type": "code",
   "execution_count": 5,
   "metadata": {
    "collapsed": false
   },
   "outputs": [
    {
     "data": {
      "text/plain": [
       "defined \u001b[32mobject \u001b[36mTest\u001b[0m"
      ]
     },
     "metadata": {},
     "output_type": "display_data"
    }
   ],
   "source": [
    "object Test {\n",
    "    def main(args: Array[String]) {\n",
    "        println( apply(layout, 10))\n",
    "    }\n",
    "    def apply(f: Int => String, v: Int) = f(v)\n",
    "    def layout[A](x: A)= \"[\" + x.toString() + \"]\"\n",
    "}"
   ]
  },
  {
   "cell_type": "code",
   "execution_count": null,
   "metadata": {
    "collapsed": false
   },
   "outputs": [],
   "source": []
  },
  {
   "cell_type": "markdown",
   "metadata": {
    "collapsed": true
   },
   "source": [
    "# Collections"
   ]
  },
  {
   "cell_type": "markdown",
   "metadata": {},
   "source": [
    "[Tutorial](http://www.brunton-spall.co.uk/post/2011/12/02/map-map-and-flatmap-in-scala/)\n",
    "<br>**map** applies function to elements in list"
   ]
  },
  {
   "cell_type": "code",
   "execution_count": 6,
   "metadata": {
    "collapsed": false
   },
   "outputs": [
    {
     "data": {
      "text/plain": [
       "\u001b[36ml\u001b[0m: \u001b[32mList\u001b[0m[\u001b[32mInt\u001b[0m] = \u001b[33mList\u001b[0m(\u001b[32m1\u001b[0m, \u001b[32m2\u001b[0m, \u001b[32m3\u001b[0m, \u001b[32m4\u001b[0m, \u001b[32m5\u001b[0m)"
      ]
     },
     "metadata": {},
     "output_type": "display_data"
    }
   ],
   "source": [
    "val l = List(1,2,3,4,5)"
   ]
  },
  {
   "cell_type": "code",
   "execution_count": 7,
   "metadata": {
    "collapsed": false
   },
   "outputs": [
    {
     "data": {
      "text/plain": [
       "\u001b[36mres6\u001b[0m: \u001b[32mList\u001b[0m[\u001b[32mInt\u001b[0m] = \u001b[33mList\u001b[0m(\u001b[32m3\u001b[0m, \u001b[32m4\u001b[0m, \u001b[32m5\u001b[0m, \u001b[32m6\u001b[0m, \u001b[32m7\u001b[0m)"
      ]
     },
     "metadata": {},
     "output_type": "display_data"
    }
   ],
   "source": [
    "l.map( x => x+2 )"
   ]
  },
  {
   "cell_type": "markdown",
   "metadata": {},
   "source": [
    "If you want to return an option:"
   ]
  },
  {
   "cell_type": "code",
   "execution_count": 8,
   "metadata": {
    "collapsed": false
   },
   "outputs": [
    {
     "data": {
      "text/plain": [
       "defined \u001b[32mfunction \u001b[36mf\u001b[0m"
      ]
     },
     "metadata": {},
     "output_type": "display_data"
    }
   ],
   "source": [
    "def f(x: Int) = if (x > 2) Some(x) else None"
   ]
  },
  {
   "cell_type": "code",
   "execution_count": 9,
   "metadata": {
    "collapsed": false
   },
   "outputs": [
    {
     "data": {
      "text/plain": [
       "\u001b[36mres8\u001b[0m: \u001b[32mList\u001b[0m[\u001b[32mOption\u001b[0m[\u001b[32mInt\u001b[0m]] = \u001b[33mList\u001b[0m(None, None, \u001b[33mSome\u001b[0m(\u001b[32m3\u001b[0m), \u001b[33mSome\u001b[0m(\u001b[32m4\u001b[0m), \u001b[33mSome\u001b[0m(\u001b[32m5\u001b[0m))"
      ]
     },
     "metadata": {},
     "output_type": "display_data"
    }
   ],
   "source": [
    "l.map(x => f(x))"
   ]
  },
  {
   "cell_type": "code",
   "execution_count": 10,
   "metadata": {
    "collapsed": false
   },
   "outputs": [
    {
     "data": {
      "text/plain": [
       "\u001b[36mres9\u001b[0m: \u001b[32mList\u001b[0m[\u001b[32mInt\u001b[0m] = \u001b[33mList\u001b[0m(\u001b[32m3\u001b[0m, \u001b[32m4\u001b[0m, \u001b[32m5\u001b[0m)"
      ]
     },
     "metadata": {},
     "output_type": "display_data"
    }
   ],
   "source": [
    "l.flatMap(x => f(x))"
   ]
  },
  {
   "cell_type": "markdown",
   "metadata": {},
   "source": [
    "**Map** can be thought of as a sequence of Tuples, where a tuple is a pair of items, the key and the value"
   ]
  },
  {
   "cell_type": "code",
   "execution_count": 11,
   "metadata": {
    "collapsed": false
   },
   "outputs": [
    {
     "data": {
      "text/plain": [
       "\u001b[36mm\u001b[0m: \u001b[32mMap\u001b[0m[\u001b[32mInt\u001b[0m, \u001b[32mInt\u001b[0m] = \u001b[33mMap\u001b[0m(\u001b[32m1\u001b[0m -> \u001b[32m2\u001b[0m, \u001b[32m2\u001b[0m -> \u001b[32m4\u001b[0m, \u001b[32m3\u001b[0m -> \u001b[32m9\u001b[0m)"
      ]
     },
     "metadata": {},
     "output_type": "display_data"
    }
   ],
   "source": [
    "val m = Map(1->2,2->4,3->9)"
   ]
  },
  {
   "cell_type": "code",
   "execution_count": 12,
   "metadata": {
    "collapsed": false
   },
   "outputs": [
    {
     "data": {
      "text/plain": [
       "\u001b[36mn\u001b[0m: \u001b[32mList\u001b[0m[(\u001b[32mInt\u001b[0m, \u001b[32mInt\u001b[0m)] = \u001b[33mList\u001b[0m(\u001b[33m\u001b[0m(\u001b[32m1\u001b[0m, \u001b[32m2\u001b[0m), \u001b[33m\u001b[0m(\u001b[32m2\u001b[0m, \u001b[32m4\u001b[0m), \u001b[33m\u001b[0m(\u001b[32m3\u001b[0m, \u001b[32m9\u001b[0m))"
      ]
     },
     "metadata": {},
     "output_type": "display_data"
    }
   ],
   "source": [
    "val n = m.toList"
   ]
  },
  {
   "cell_type": "markdown",
   "metadata": {},
   "source": [
    "### get list and tuple items:"
   ]
  },
  {
   "cell_type": "code",
   "execution_count": 13,
   "metadata": {
    "collapsed": false
   },
   "outputs": [
    {
     "data": {
      "text/plain": []
     },
     "metadata": {},
     "output_type": "display_data"
    }
   ],
   "source": [
    "for (l <- l) println(l)"
   ]
  },
  {
   "cell_type": "markdown",
   "metadata": {},
   "source": [
    "### Append to a list"
   ]
  },
  {
   "cell_type": "code",
   "execution_count": 15,
   "metadata": {
    "collapsed": false
   },
   "outputs": [
    {
     "data": {
      "text/plain": [
       "\u001b[36mlisa\u001b[0m: \u001b[32mList\u001b[0m[\u001b[32mInt\u001b[0m] = \u001b[33mList\u001b[0m(\u001b[32m1\u001b[0m, \u001b[32m2\u001b[0m, \u001b[32m3\u001b[0m, \u001b[32m4\u001b[0m, \u001b[32m5\u001b[0m)"
      ]
     },
     "metadata": {},
     "output_type": "display_data"
    }
   ],
   "source": [
    "var lisa = List(1,2,3,4,5)"
   ]
  },
  {
   "cell_type": "code",
   "execution_count": 19,
   "metadata": {
    "collapsed": false
   },
   "outputs": [
    {
     "data": {
      "text/plain": []
     },
     "metadata": {},
     "output_type": "display_data"
    }
   ],
   "source": [
    "lisa :+= 1"
   ]
  },
  {
   "cell_type": "code",
   "execution_count": 18,
   "metadata": {
    "collapsed": false
   },
   "outputs": [
    {
     "data": {
      "text/plain": [
       "\u001b[36mres17\u001b[0m: \u001b[32mList\u001b[0m[\u001b[32mInt\u001b[0m] = \u001b[33mList\u001b[0m(\u001b[32m1\u001b[0m, \u001b[32m2\u001b[0m, \u001b[32m3\u001b[0m, \u001b[32m4\u001b[0m, \u001b[32m5\u001b[0m, \u001b[32m5\u001b[0m, \u001b[32m5\u001b[0m)"
      ]
     },
     "metadata": {},
     "output_type": "display_data"
    }
   ],
   "source": []
  },
  {
   "cell_type": "code",
   "execution_count": 37,
   "metadata": {
    "collapsed": false
   },
   "outputs": [
    {
     "ename": "",
     "evalue": "",
     "output_type": "error",
     "traceback": [
      "\u001b[31mMain.scala:24: not found: value sc",
      "sc.wholeTextFiles(\"spam/*\") ",
      "^\u001b[0m"
     ]
    }
   ],
   "source": [
    "val spam = sc.wholeTextFiles(\"spam/*\")"
   ]
  },
  {
   "cell_type": "code",
   "execution_count": 37,
   "metadata": {
    "collapsed": false
   },
   "outputs": [
    {
     "ename": "",
     "evalue": "",
     "output_type": "error",
     "traceback": [
      "\u001b[31mMain.scala:23: object apache is not a member of package org",
      "              import org.apache.spark.{ SparkConf, SparkContext } ; import org.apache.spark.SparkContext._ ; import org.apache.spark.rdd.RDD",
      "                         ^\u001b[0m",
      "\u001b[31mMain.scala:23: object apache is not a member of package org",
      "              import org.apache.spark.{ SparkConf, SparkContext } ; import org.apache.spark.SparkContext._ ; import org.apache.spark.rdd.RDD",
      "                                                                               ^\u001b[0m",
      "\u001b[31mMain.scala:23: object apache is not a member of package org",
      "              import org.apache.spark.{ SparkConf, SparkContext } ; import org.apache.spark.SparkContext._ ; import org.apache.spark.rdd.RDD",
      "                                                                                                                        ^\u001b[0m"
     ]
    }
   ],
   "source": [
    "import org.apache.spark.{ SparkConf, SparkContext }\n",
    "import org.apache.spark.SparkContext._\n",
    "import org.apache.spark.rdd.RDD"
   ]
  },
  {
   "cell_type": "code",
   "execution_count": 37,
   "metadata": {
    "collapsed": false
   },
   "outputs": [
    {
     "ename": "",
     "evalue": "",
     "output_type": "error",
     "traceback": [
      "\u001b[31mMain.scala:24: not found: type SparkConf",
      "new SparkConf().setAppName(\"lingSpam\") ",
      "    ^\u001b[0m",
      "\u001b[31mMain.scala:27: not found: type SparkContext",
      "new SparkContext(conf) ",
      "    ^\u001b[0m"
     ]
    }
   ],
   "source": [
    "val conf = new SparkConf().setAppName(\"lingSpam\")\n",
    "val sc = new SparkContext(conf)"
   ]
  },
  {
   "cell_type": "code",
   "execution_count": null,
   "metadata": {
    "collapsed": true
   },
   "outputs": [],
   "source": []
  }
 ],
 "metadata": {
  "kernelspec": {
   "display_name": "Scala 2.11",
   "language": "scala211",
   "name": "scala211"
  },
  "language_info": {
   "codemirror_mode": "text/x-scala",
   "file_extension": ".scala",
   "mimetype": "text/x-scala",
   "name": "scala211",
   "pygments_lexer": "scala",
   "version": "2.11.7"
  }
 },
 "nbformat": 4,
 "nbformat_minor": 0
}
