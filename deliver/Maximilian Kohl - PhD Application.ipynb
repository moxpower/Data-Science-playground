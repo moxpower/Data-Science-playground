{
 "cells": [
  {
   "cell_type": "markdown",
   "metadata": {},
   "source": [
    "<img src=\"https://raw.githubusercontent.com/moxpower/Data-Science-playground/master/img/MaxKohlDataScientistLight.PNG\" width=\"700\">"
   ]
  },
  {
   "cell_type": "markdown",
   "metadata": {},
   "source": [
    "# PhD Application"
   ]
  },
  {
   "cell_type": "markdown",
   "metadata": {},
   "source": [
    "# CV"
   ]
  },
  {
   "cell_type": "markdown",
   "metadata": {},
   "source": [
    "<table style=\"width:90%;border: 1px white;\">\n",
    "  <tr style=\"border: white;\">\n",
    "    <td style=\"border: white;\">Since 2016</td>\n",
    "    <td style=\"border: white;\">**Data Scientist**, *Cognizant Technology Solutions Corp*</td>\n",
    "  </tr>\n",
    "  <tr style=\"border: white;\">\n",
    "    <td  style=\"border: white;\">2014 - 2015</td> \n",
    "    <td style=\"border: white;\">**Knowledge Manager**, *thinkstep AG*</td>\n",
    "  </tr>\n",
    "  <tr style=\"border: white;\">\n",
    "    <td style=\"border: white;\">2014 - 2015</td>\n",
    "    <td style=\"border: white;\">**Data Analyst**, *thinkstep AG*</td> \n",
    "  </tr>\n",
    "  <tr style=\"border: white;\">\n",
    "    <td style=\"border: white;\">2011 - 2013</td>\n",
    "    <td style=\"border: white;\">**M.Sc. Physics**, *University Complutense Madrid*</td> \n",
    "  </tr>\n",
    "  <tr style=\"border: white;\">\n",
    "    <td style=\"border: white;\">2009 - 2010</td>\n",
    "    <td style=\"border: white;\">**B.Sc. Physics - Studies abroad**, *University UPMC Pierre et Marie Curie - Paris VI*</td> \n",
    "  </tr>\n",
    "  <tr style=\"border: white;\">\n",
    "    <td style=\"border: white;\">2008 - 2011</td>\n",
    "    <td style=\"border: white;\">**B.Sc. Physics**, *University RWTH Aachen*</td> \n",
    "  </tr>\n",
    "  \n",
    "</table>"
   ]
  },
  {
   "cell_type": "markdown",
   "metadata": {},
   "source": [
    "[Full CV - PDF](CV link)"
   ]
  },
  {
   "cell_type": "markdown",
   "metadata": {},
   "source": [
    "# Study Transcript"
   ]
  },
  {
   "cell_type": "markdown",
   "metadata": {},
   "source": [
    "[M.Sc. Physics](CV link)"
   ]
  },
  {
   "cell_type": "markdown",
   "metadata": {},
   "source": [
    "[B.Sc. Physics](csna)"
   ]
  },
  {
   "cell_type": "markdown",
   "metadata": {},
   "source": [
    "# Project Transcript"
   ]
  },
  {
   "cell_type": "code",
   "execution_count": null,
   "metadata": {
    "collapsed": false
   },
   "outputs": [],
   "source": [
    "Click on picture to discover more."
   ]
  },
  {
   "cell_type": "code",
   "execution_count": null,
   "metadata": {
    "collapsed": true
   },
   "outputs": [],
   "source": [
    "from IPython.core.display import Javascript, display\n",
    "display(Javascript(\"\"\"\n",
    "    $('head').append(\n",
    "        \"<style type='text/css'>td{background-color: #D4DDEC}table, th, tr, td {border: white;}</style>\"\n",
    "    );\n",
    "\"\"\"))"
   ]
  },
  {
   "cell_type": "code",
   "execution_count": null,
   "metadata": {
    "collapsed": true
   },
   "outputs": [],
   "source": []
  }
 ],
 "metadata": {
  "anaconda-cloud": {},
  "kernelspec": {
   "display_name": "Python [Root]",
   "language": "python",
   "name": "Python [Root]"
  },
  "language_info": {
   "codemirror_mode": {
    "name": "ipython",
    "version": 3
   },
   "file_extension": ".py",
   "mimetype": "text/x-python",
   "name": "python",
   "nbconvert_exporter": "python",
   "pygments_lexer": "ipython3",
   "version": "3.5.2"
  }
 },
 "nbformat": 4,
 "nbformat_minor": 0
}
