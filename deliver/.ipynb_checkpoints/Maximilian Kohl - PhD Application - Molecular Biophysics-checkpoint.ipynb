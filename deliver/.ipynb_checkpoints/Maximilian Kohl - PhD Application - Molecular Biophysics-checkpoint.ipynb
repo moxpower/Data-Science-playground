{
 "cells": [
  {
   "cell_type": "markdown",
   "metadata": {},
   "source": [
    "<img src=\"https://raw.githubusercontent.com/moxpower/Data-Science-playground/master/img/MaxKohlDataScientistLight.PNG\" width=\"700\">"
   ]
  },
  {
   "cell_type": "markdown",
   "metadata": {},
   "source": [
    "# PhD Application"
   ]
  },
  {
   "cell_type": "markdown",
   "metadata": {},
   "source": [
    "<p style=\"line-height:1.2\"><font face=\"arial\" size=4 >I am a Data Scientist at Cognizant GmbH. My current area of focus is distributed cloud computing in R and Spark. I work on the Microsoft Azure platform where I employ Machine Learning Algorithms on web servers and make use of web APIs to access these prediction and classification services in other web applications.\n",
    "<br>\n",
    "<br>\n",
    "I am highly motivated to build on and extend my knowledge in <b>information sharing</b> and <b>data analysis</b> working as a PhD Student. Parallel computation, algorithms development in R/Python/Scala and the communication of results (e.g. online with Jupyter Notebooks, JavaScripts) are my special interest.</font></p>"
   ]
  },
  {
   "cell_type": "markdown",
   "metadata": {},
   "source": [
    "# CV"
   ]
  },
  {
   "cell_type": "markdown",
   "metadata": {},
   "source": [
    "<table style=\"width:80%;border: 1px solid white; float: left\">\n",
    "  <tr style=\"border: 1px solid white; line-height: 40px\">\n",
    "    <td style=\"border: 1px solid white; background-color: #dedede\">Since 2016</td>\n",
    "    <td style=\"border: 1px solid white; background-color: #dedede\"><b>Data Scientist</b>, <i>Cognizant Technology Solutions Corp, Germany</i></td>\n",
    "  </tr>\n",
    "  <tr style=\"border: 1px solid white; line-height: 40px\">\n",
    "    <td  style=\"border: 1px solid white; background-color: #dedede\">2014 - 2015</td> \n",
    "    <td style=\"border: 1px solid white; background-color: #dedede\"><b>Knowledge Manager</b>, <i>thinkstep AG, Germany</i></td>\n",
    "  </tr>\n",
    "  <tr style=\"border: 1px solid white; line-height: 40px\">\n",
    "    <td style=\"border: 1px solid white; background-color: #dedede\">2014 - 2015</td>\n",
    "    <td style=\"border: 1px solid white; background-color: #dedede\"><b>Data Analyst</b>, <i>thinkstep AG, Germany</i></td> \n",
    "  </tr>\n",
    "  <tr style=\"border: 1px solid white; line-height: 40px\">\n",
    "    <td style=\"border: 1px solid white; background-color: #dedede\">2011 - 2013</td>\n",
    "    <td style=\"border: 1px solid white; background-color: #dedede\"><b>M.Sc. Physics</b>, <i>University Complutense Madrid, Spain</i></td> \n",
    "  </tr>\n",
    "  <tr style=\"border: 1px solid white; line-height: 40px\">\n",
    "    <td style=\"border: 1px solid white; background-color: #dedede\">2009 - 2010</td>\n",
    "    <td style=\"border: 1px solid white; background-color: #dedede\"><b>B.Sc. Physics - Studies abroad</b>, <i>University UPMC Pierre et Marie Curie - Paris VI, France</i></td> \n",
    "  </tr>\n",
    "  <tr style=\"border: 1px solid white; line-height: 40px\">\n",
    "    <td style=\"border: 1px solid white; background-color: #dedede\">2008 - 2011</td>\n",
    "    <td style=\"border: 1px solid white; background-color: #dedede\"><b>B.Sc. Physics</b>, <i>University RWTH Aachen, Germany</i></td> \n",
    "  </tr>\n",
    "</table>"
   ]
  },
  {
   "cell_type": "markdown",
   "metadata": {},
   "source": [
    "<a  href=\"https://moxpower.github.io/cv/\"  style=\"color:#ffffff; background-color:#bddbfa;  font-family:Arial; font-size:15px; font-weight:bold; padding:6px 24px; text-decoration:none;  \" class=\"myButton\">Full CV - PDF</a>\n"
   ]
  },
  {
   "cell_type": "markdown",
   "metadata": {},
   "source": [
    "# Study Transcript"
   ]
  },
  {
   "cell_type": "markdown",
   "metadata": {},
   "source": [
    "<a  href=\"https://moxpower.github.io/BScTranscript\"  style=\"color:#ffffff; background-color:#bddbfa;  font-family:Arial; font-size:15px; font-weight:bold; padding:6px 24px; text-decoration:none;  \" class=\"myButton\">B.Sc. Physics</a>"
   ]
  },
  {
   "cell_type": "markdown",
   "metadata": {},
   "source": [
    "<a  href=\"https://moxpower.github.io/MScTranscript\"  style=\"color:#ffffff; background-color:#bddbfa;  font-family:Arial; font-size:15px; font-weight:bold; padding:6px 24px; text-decoration:none;  \" class=\"myButton\">M.Sc. Applied Physics</a>"
   ]
  },
  {
   "cell_type": "markdown",
   "metadata": {},
   "source": [
    "# Project Transcript"
   ]
  },
  {
   "cell_type": "markdown",
   "metadata": {},
   "source": [
    "<p style=\"line-height:1.2\"><font face=\"arial\" size=4 >Below is a graphical overview of a selection of my <b>coding skills</b> and <b>past projects</b>. The circles are projects, grouped by employer (thinkstep/cognizant/on my own). The size of the circle is a (subjective) measure of experience gain.\n",
    "<br>\n",
    "<br>\n",
    "<center><font color=\"#c5c5c5\">--></font> Please click on the graphic to get to the full interactive version! <font color=\"#c5c5c5\"><--</font></center></font></p>"
   ]
  },
  {
   "cell_type": "markdown",
   "metadata": {
    "collapsed": false
   },
   "source": [
    "<a href=\"https://moxpower.github.io/about/#Project_Overview\">\n",
    "<img src=\"https://raw.githubusercontent.com/moxpower/Data-Science-playground/master/img/ProjectOverview.PNG\" width=\"700\">\n",
    "</a>"
   ]
  },
  {
   "cell_type": "markdown",
   "metadata": {
    "collapsed": false
   },
   "source": [
    "# Let's go"
   ]
  },
  {
   "cell_type": "markdown",
   "metadata": {},
   "source": [
    " <a  href=\"https://moxpower.github.io/about/\"  style=\"color:#ffffff; background-color:#bddbfa;  font-family:Arial; font-size:15px; font-weight:bold; padding:6px 24px; text-decoration:none;  \" class=\"myButton\">Let's get in touch!</a>"
   ]
  },
  {
   "cell_type": "markdown",
   "metadata": {},
   "source": [
    " "
   ]
  },
  {
   "cell_type": "markdown",
   "metadata": {},
   "source": [
    " "
   ]
  },
  {
   "cell_type": "markdown",
   "metadata": {},
   "source": [
    " "
   ]
  },
  {
   "cell_type": "markdown",
   "metadata": {},
   "source": [
    " "
   ]
  },
  {
   "cell_type": "markdown",
   "metadata": {},
   "source": [
    "<script>\n",
    "  $(document).ready(function(){\n",
    "    $('div.prompt').hide();\n",
    "    $('div.back-to-top').hide();\n",
    "    $('nav#menubar').hide();\n",
    "    $('.breadcrumb').hide();\n",
    "    $('.hidden-print').hide();\n",
    "  });\n",
    "</script>\n",
    "\n",
    "<footer id=\"attribution\" style=\"float:right; color:#999; background:#fff;\">\n",
    "Created with Jupyter Notebook and Vorfreude.\n",
    "</footer> "
   ]
  },
  {
   "cell_type": "markdown",
   "metadata": {},
   "source": [
    " "
   ]
  }
 ],
 "metadata": {
  "anaconda-cloud": {
   "attach-environment": true,
   "environment": "Root",
   "summary": "Maximilian Kohl - PhD Application",
   "url": "https://anaconda.org/moxpower/maximilian-kohl-phd-application"
  },
  "kernelspec": {
   "display_name": "Python 3",
   "language": "python",
   "name": "python3"
  },
  "language_info": {
   "codemirror_mode": {
    "name": "ipython",
    "version": 3
   },
   "file_extension": ".py",
   "mimetype": "text/x-python",
   "name": "python",
   "nbconvert_exporter": "python",
   "pygments_lexer": "ipython3",
   "version": "3.5.1"
  }
 },
 "nbformat": 4,
 "nbformat_minor": 0
}
