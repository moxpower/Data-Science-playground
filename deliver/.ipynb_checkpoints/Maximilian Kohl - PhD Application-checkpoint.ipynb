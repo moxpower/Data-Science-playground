{
 "cells": [
  {
   "cell_type": "markdown",
   "metadata": {},
   "source": [
    "<img src=\"https://raw.githubusercontent.com/moxpower/Data-Science-playground/master/img/MaxKohlDataScientistLight.PNG\" width=\"700\">"
   ]
  },
  {
   "cell_type": "markdown",
   "metadata": {},
   "source": [
    "# PhD Application"
   ]
  },
  {
   "cell_type": "markdown",
   "metadata": {},
   "source": [
    "The Mandelbrot set is the set of complex numbers c for which the function {\\displaystyle f_{c}(z)=z^{2}+c} {\\displaystyle f_{c}(z)=z^{2}+c} does not diverge when iterated from {\\displaystyle z=0} z=0, i.e., for which the sequence {\\displaystyle f_{c}(0)} {\\displaystyle f_{c}(0)}, {\\displaystyle f_{c}(f_{c}(0))} {\\displaystyle f_{c}(f_{c}(0))}, etc., remains bounded in absolute value.\n",
    "\n",
    "The set is closely related to the idea of Julia sets, which produce similarly complex shapes. Its definition and name are due to Adrien Douady, in tribute to the mathematician Benoit Mandelbrot.[1]\n",
    "\n",
    "Mandelbrot set images are made by sampling complex numbers and determining for each whether the result tends towards infinity when a particular mathematical operation is iterated on it. Treating the real and imaginary parts of each number as image coordinates, pixels are colored according to how rapidly the sequence diverges, if at all.\n",
    "\n",
    "More precisely, the Mandelbrot set is the set of values of c in the complex plane for which the orbit of 0 under iteration of the quadratic map"
   ]
  },
  {
   "cell_type": "markdown",
   "metadata": {},
   "source": [
    "# CV"
   ]
  },
  {
   "cell_type": "markdown",
   "metadata": {},
   "source": [
    "<table style=\"width:80%;border: 1px solid white; float: left\">\n",
    "  <tr style=\"border: 1px solid white; line-height: 40px\">\n",
    "    <td style=\"border: 1px solid white; background-color: #dedede\">Since 2016</td>\n",
    "    <td style=\"border: 1px solid white; background-color: #dedede\"><b>Data Scientist</b>, <i>Cognizant Technology Solutions Corp, Germany</i></td>\n",
    "  </tr>\n",
    "  <tr style=\"border: 1px solid white; line-height: 40px\">\n",
    "    <td  style=\"border: 1px solid white; background-color: #dedede\">2014 - 2015</td> \n",
    "    <td style=\"border: 1px solid white; background-color: #dedede\"><b>Knowledge Manager</b>, <i>thinkstep AG, Germany</i></td>\n",
    "  </tr>\n",
    "  <tr style=\"border: 1px solid white; line-height: 40px\">\n",
    "    <td style=\"border: 1px solid white; background-color: #dedede\">2014 - 2015</td>\n",
    "    <td style=\"border: 1px solid white; background-color: #dedede\"><b>Data Analyst</b>, <i>thinkstep AG, Germany</i></td> \n",
    "  </tr>\n",
    "  <tr style=\"border: 1px solid white; line-height: 40px\">\n",
    "    <td style=\"border: 1px solid white; background-color: #dedede\">2011 - 2013</td>\n",
    "    <td style=\"border: 1px solid white; background-color: #dedede\"><b>M.Sc. Physics</b>, <i>University Complutense Madrid, Spain</i></td> \n",
    "  </tr>\n",
    "  <tr style=\"border: 1px solid white; line-height: 40px\">\n",
    "    <td style=\"border: 1px solid white; background-color: #dedede\">2009 - 2010</td>\n",
    "    <td style=\"border: 1px solid white; background-color: #dedede\"><b>B.Sc. Physics - Studies abroad</b>, <i>University UPMC Pierre et Marie Curie - Paris VI, France</i></td> \n",
    "  </tr>\n",
    "  <tr style=\"border: 1px solid white; line-height: 40px\">\n",
    "    <td style=\"border: 1px solid white; background-color: #dedede\">2008 - 2011</td>\n",
    "    <td style=\"border: 1px solid white; background-color: #dedede\"><b>B.Sc. Physics</b>, <i>University RWTH Aachen, Germany</i></td> \n",
    "  </tr>\n",
    "</table>"
   ]
  },
  {
   "cell_type": "markdown",
   "metadata": {},
   "source": [
    "<a  href=\"https://moxpower.github.io/cv/\"  style=\"color:#ffffff; background-color:#bddbfa;  font-family:Arial; font-size:15px; font-weight:bold; padding:6px 24px; text-decoration:none;  \" class=\"myButton\">Full CV - PDF</a>\n"
   ]
  },
  {
   "cell_type": "markdown",
   "metadata": {},
   "source": [
    "# Study Transcript"
   ]
  },
  {
   "cell_type": "markdown",
   "metadata": {},
   "source": [
    "<a  href=\"https://moxpower.github.io/BScTranscript\"  style=\"color:#ffffff; background-color:#bddbfa;  font-family:Arial; font-size:15px; font-weight:bold; padding:6px 24px; text-decoration:none;  \" class=\"myButton\">B.Sc. Physics</a>"
   ]
  },
  {
   "cell_type": "markdown",
   "metadata": {},
   "source": [
    "<a  href=\"https://moxpower.github.io/MScTranscript\"  style=\"color:#ffffff; background-color:#bddbfa;  font-family:Arial; font-size:15px; font-weight:bold; padding:6px 24px; text-decoration:none;  \" class=\"myButton\">M.Sc. Applied Physics</a>"
   ]
  },
  {
   "cell_type": "markdown",
   "metadata": {},
   "source": [
    "# Project Transcript"
   ]
  },
  {
   "cell_type": "markdown",
   "metadata": {},
   "source": [
    "Below is a graphical overview of a selection of my **coding skills** and **past projects**. The circles are projects, grouped by employer (thinkstep/cognizant/on my own). The size of the circle is a (subjective) measure of experience gain.\n",
    "\n",
    "<br>\n",
    "<center>--> Please click on the graphic to get to the full interactive version! <--</center>"
   ]
  },
  {
   "cell_type": "markdown",
   "metadata": {
    "collapsed": false
   },
   "source": [
    "<a href=\"https://moxpower.github.io/about/#Project_Overview\">\n",
    "<img src=\"https://raw.githubusercontent.com/moxpower/Data-Science-playground/master/img/ProjectOverview.PNG\" width=\"700\">\n",
    "</a>"
   ]
  },
  {
   "cell_type": "markdown",
   "metadata": {
    "collapsed": false
   },
   "source": [
    "# Let's go"
   ]
  },
  {
   "cell_type": "markdown",
   "metadata": {},
   "source": [
    " <a  href=\"https://moxpower.github.io/about/\"  style=\"color:#ffffff; background-color:#bddbfa;  font-family:Arial; font-size:15px; font-weight:bold; padding:6px 24px; text-decoration:none;  \" class=\"myButton\">Let's get in touch!</a>"
   ]
  },
  {
   "cell_type": "markdown",
   "metadata": {},
   "source": [
    " "
   ]
  },
  {
   "cell_type": "markdown",
   "metadata": {},
   "source": [
    " "
   ]
  },
  {
   "cell_type": "markdown",
   "metadata": {},
   "source": [
    " "
   ]
  },
  {
   "cell_type": "markdown",
   "metadata": {},
   "source": [
    " "
   ]
  },
  {
   "cell_type": "markdown",
   "metadata": {},
   "source": [
    "<script>\n",
    "  $(document).ready(function(){\n",
    "    $('div.prompt').hide();\n",
    "    $('div.back-to-top').hide();\n",
    "    $('nav#menubar').hide();\n",
    "    $('.breadcrumb').hide();\n",
    "    $('.hidden-print').hide();\n",
    "  });\n",
    "</script>\n",
    "\n",
    "<footer id=\"attribution\" style=\"float:right; color:#999; background:#fff;\">\n",
    "Created with Jupyter Notebook and Vorfreude.\n",
    "</footer> "
   ]
  },
  {
   "cell_type": "markdown",
   "metadata": {},
   "source": [
    " "
   ]
  }
 ],
 "metadata": {
  "anaconda-cloud": {
   "attach-environment": true,
   "environment": "Root",
   "summary": "Maximilian Kohl - PhD Application",
   "url": "https://anaconda.org/moxpower/maximilian-kohl-phd-application"
  },
  "kernelspec": {
   "display_name": "Python [Root]",
   "language": "python",
   "name": "Python [Root]"
  },
  "language_info": {
   "codemirror_mode": {
    "name": "ipython",
    "version": 3
   },
   "file_extension": ".py",
   "mimetype": "text/x-python",
   "name": "python",
   "nbconvert_exporter": "python",
   "pygments_lexer": "ipython3",
   "version": "3.5.2"
  }
 },
 "nbformat": 4,
 "nbformat_minor": 0
}
