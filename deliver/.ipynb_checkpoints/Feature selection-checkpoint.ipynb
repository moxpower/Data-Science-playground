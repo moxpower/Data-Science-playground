{
 "cells": [
  {
   "cell_type": "markdown",
   "metadata": {},
   "source": [
    "#Feature selection"
   ]
  },
  {
   "cell_type": "markdown",
   "metadata": {},
   "source": [
    "Filter methods\n",
    "- Chi squared test\n",
    "- information gain\n",
    "- correlation coefficient"
   ]
  },
  {
   "cell_type": "code",
   "execution_count": null,
   "metadata": {
    "collapsed": true
   },
   "outputs": [],
   "source": []
  },
  {
   "cell_type": "markdown",
   "metadata": {},
   "source": [
    "Wrapper methods\n",
    "- score accuracy and compare sets of features\n",
    "    - methodic: best-first search\n",
    "        - ([SelectKBest](http://scikit-learn.org/stable/modules/generated/sklearn.feature_selection.SelectKBest.html))\n",
    "    - stochastic: hill-climbing algorithm\n",
    "    - heuristic: forward and backward passes to remove features (example of this (?): [Recursive feature elimination](http://scikit-learn.org/stable/modules/generated/sklearn.feature_selection.RFE.html))"
   ]
  },
  {
   "cell_type": "code",
   "execution_count": null,
   "metadata": {
    "collapsed": true
   },
   "outputs": [],
   "source": []
  },
  {
   "cell_type": "markdown",
   "metadata": {},
   "source": [
    "Embedded methods\n",
    "- Regularization (penalize features for not adding value)\n",
    "    - [Lasso](http://scikit-learn.org/stable/modules/generated/sklearn.linear_model.Lasso.html)\n",
    "    - [Elastic Net](http://scikit-learn.org/stable/modules/generated/sklearn.linear_model.ElasticNet.html)\n",
    "    - [Ridge Regression](http://scikit-learn.org/stable/modules/generated/sklearn.linear_model.Ridge.html)"
   ]
  },
  {
   "cell_type": "markdown",
   "metadata": {},
   "source": [
    "#Process\n",
    "To prevent overfitting, **we can't let any information about the full dataset leak into cross-validation**. => Re-select good features in each cross-validation iteration.<br>\n",
    "Feature selection should be done after model selection. "
   ]
  },
  {
   "cell_type": "markdown",
   "metadata": {},
   "source": [
    "#Example"
   ]
  },
  {
   "cell_type": "code",
   "execution_count": 3,
   "metadata": {
    "collapsed": true
   },
   "outputs": [],
   "source": [
    "%matplotlib inline\n",
    "\n",
    "import numpy as np\n",
    "import matplotlib.pyplot as plt\n",
    "\n",
    "from sklearn.feature_selection import SelectKBest, f_regression\n",
    "from sklearn.cross_validation import cross_val_score, KFold\n",
    "from sklearn.linear_model import LinearRegression"
   ]
  },
  {
   "cell_type": "code",
   "execution_count": 32,
   "metadata": {
    "collapsed": true
   },
   "outputs": [],
   "source": [
    "### create data\n",
    "def hidden_model(x):\n",
    "    #y is a linear combination of columns 5 and 10...\n",
    "    result = x[:, 5] + x[:, 10]\n",
    "    #... with a little noise\n",
    "    result += np.random.normal(0, .005, result.shape)\n",
    "    return result\n",
    "    \n",
    "    \n",
    "def make_x(nobs):\n",
    "    return np.random.uniform(0, 3, (nobs, 10 ** 6))\n",
    "\n",
    "x = make_x(20)\n",
    "y = hidden_model(x)"
   ]
  },
  {
   "cell_type": "markdown",
   "metadata": {},
   "source": [
    "In every cross-validation (KFold) iteration we select the new best features. Then we fit to the classifier:"
   ]
  },
  {
   "cell_type": "code",
   "execution_count": 42,
   "metadata": {
    "collapsed": false
   },
   "outputs": [
    {
     "name": "stdout",
     "output_type": "stream",
     "text": [
      "1000000\n",
      "1000000\n",
      "1000000\n",
      "1000000\n",
      "1000000\n",
      "('CV Score (R_square) is', -0.8086468631816246)\n"
     ]
    },
    {
     "data": {
      "image/png": "[encoded data removed]",
      "text/plain": [
       "<matplotlib.figure.Figure at 0x124a01990>"
      ]
     },
     "metadata": {},
     "output_type": "display_data"
    }
   ],
   "source": [
    "scores = []\n",
    "clf = LinearRegression()\n",
    "\n",
    "for train, test in KFold(len(y), n_folds=5):\n",
    "    xtrain, xtest, ytrain, ytest = x[train], x[test], y[train], y[test]\n",
    "    \n",
    "    b = SelectKBest(f_regression, k=2)\n",
    "    b.fit(xtrain,ytrain)\n",
    "    xtrain = xtrain[:, b.get_support()] #get_support: get mask or integer index of selected features\n",
    "    xtest = xtest[:, b.get_support()]\n",
    "    print len(b.get_support())\n",
    "    \n",
    "    clf.fit(xtrain, ytrain)\n",
    "    scores.append(clf.score(xtest, ytest))\n",
    "    \n",
    "    yp = clf.predict(xtest)\n",
    "    plt.plot(yp, ytest, 'o')\n",
    "    plt.plot(ytest, ytest, 'r-')\n",
    "\n",
    "plt.xlabel('Predicted')\n",
    "plt.ylabel('Observed')\n",
    "\n",
    "print(\"CV Score (R_square) is\", np.mean(scores))"
   ]
  },
  {
   "cell_type": "code",
   "execution_count": 43,
   "metadata": {
    "collapsed": false
   },
   "outputs": [
    {
     "name": "stdout",
     "output_type": "stream",
     "text": [
      "[[ 1.68834822  2.48545872]\n",
      " [ 1.60874795  1.23314639]\n",
      " [ 0.05952373  0.53748066]\n",
      " [ 1.93519275  2.01535737]]\n"
     ]
    },
    {
     "data": {
      "text/plain": [
       "1000000"
      ]
     },
     "execution_count": 43,
     "metadata": {},
     "output_type": "execute_result"
    }
   ],
   "source": [
    "print xtest\n",
    "len(b.get_support())\n",
    "#[count for count, x in enumerate(b.get_support()) if x == False]"
   ]
  },
  {
   "cell_type": "code",
   "execution_count": 21,
   "metadata": {
    "collapsed": false
   },
   "outputs": [
    {
     "data": {
      "text/plain": [
       "array([-1.01187097,  0.62747674])"
      ]
     },
     "execution_count": 21,
     "metadata": {},
     "output_type": "execute_result"
    }
   ],
   "source": [
    "clf.coef_"
   ]
  },
  {
   "cell_type": "markdown",
   "metadata": {},
   "source": [
    "1. Do you have **domain knowledge**? If yes, construct a better set of **ad hoc** features\n",
    "2. Are your features **commensurate**? If no, consider **normalizing** them.\n",
    "3. Do you suspect interdependence of features? If yes, expand your feature set by constructing conjunctive features or products of features, as much as your computer resources allow you.\n",
    "4. Do you need to prune the input variables (e.g. for cost, speed or data understanding reasons)? If no, construct disjunctive features or weighted sums of feature\n",
    "5. Do you need to assess features individually (e.g. to understand their influence on the system or because their number is so large that you need to do a first filtering)? If yes, use a variable ranking method; else, do it anyway to get baseline results.\n",
    "6. Do you need a predictor? If no, stop\n",
    "7. Do you suspect your data is “dirty” (has a few meaningless input patterns and/or noisy outputs or wrong class labels)? If yes, detect the outlier examples using the top ranking variables obtained in step 5 as representation; check and/or discard them. <font color='grey'>(Detecting outliers with highest impact features)</font>\n",
    "8. Do you know what to try first? If no, use a linear predictor. Use a forward selection method with the “probe” method as a stopping criterion or use the 0-norm embedded method for comparison, following the ranking of step 5, construct a sequence of predictors of same nature using increasing subsets of features. Can you match or improve performance with a smaller subset? If yes, try a non-linear predictor with that subset.\n",
    "9. Do you have new ideas, time, computational resources, and enough examples? If yes, compare several feature selection methods, including your new idea, correlation coefficients, backward selection and embedded methods. Use linear and non-linear predictors. Select the best approach with model selection\n",
    "10. Do you want a stable solution (to improve performance and/or understanding)? If yes, subsample your data and redo your analysis for several “bootstrap”."
   ]
  },
  {
   "cell_type": "markdown",
   "metadata": {},
   "source": [
    "[Useful links](http://machinelearningmastery.com/an-introduction-to-feature-selection/)"
   ]
  },
  {
   "cell_type": "code",
   "execution_count": null,
   "metadata": {
    "collapsed": true
   },
   "outputs": [],
   "source": []
  }
 ],
 "metadata": {
  "kernelspec": {
   "display_name": "Python 3",
   "language": "python",
   "name": "python3"
  },
  "language_info": {
   "codemirror_mode": {
    "name": "ipython",
    "version": 3
   },
   "file_extension": ".py",
   "mimetype": "text/x-python",
   "name": "python",
   "nbconvert_exporter": "python",
   "pygments_lexer": "ipython3",
   "version": "3.5.1"
  }
 },
 "nbformat": 4,
 "nbformat_minor": 0
}
