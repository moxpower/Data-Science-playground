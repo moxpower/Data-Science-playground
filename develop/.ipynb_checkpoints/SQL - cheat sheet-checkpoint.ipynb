{
 "cells": [
  {
   "cell_type": "markdown",
   "metadata": {},
   "source": [
    "# Orientate"
   ]
  },
  {
   "cell_type": "code",
   "execution_count": null,
   "metadata": {
    "collapsed": true
   },
   "outputs": [],
   "source": [
    "# list all views\n",
    "SELECT * FROM sys.views"
   ]
  },
  {
   "cell_type": "markdown",
   "metadata": {},
   "source": [
    "### What tables exist?"
   ]
  },
  {
   "cell_type": "code",
   "execution_count": null,
   "metadata": {
    "collapsed": true
   },
   "outputs": [],
   "source": [
    "SELECT * FROM INFORMATION_SCHEMA.TABLES WHERE TABLE_TYPE='BASE TABLE'\n",
    "# https://stackoverflow.com/questions/175415/how-do-i-get-list-of-all-tables-in-a-database-using-tsql"
   ]
  },
  {
   "cell_type": "markdown",
   "metadata": {},
   "source": [
    "# Query"
   ]
  },
  {
   "cell_type": "code",
   "execution_count": null,
   "metadata": {},
   "outputs": [],
   "source": [
    "# Select unique\n",
    "SELECT DISTINCT ..."
   ]
  },
  {
   "cell_type": "code",
   "execution_count": null,
   "metadata": {},
   "outputs": [],
   "source": [
    "# Count\n",
    "SELECT count(*) ..."
   ]
  },
  {
   "cell_type": "code",
   "execution_count": null,
   "metadata": {},
   "outputs": [],
   "source": [
    "# Count uniques\n",
    "SELECT count(distinct *) ..."
   ]
  },
  {
   "cell_type": "code",
   "execution_count": null,
   "metadata": {},
   "outputs": [],
   "source": [
    "# Filter\n",
    "... WHERE x = 1"
   ]
  },
  {
   "cell_type": "code",
   "execution_count": null,
   "metadata": {},
   "outputs": [],
   "source": [
    "# Multiple filters\n",
    "... WHERE x = 1\n",
    "AND y > 2"
   ]
  },
  {
   "cell_type": "code",
   "execution_count": null,
   "metadata": {},
   "outputs": [],
   "source": [
    "# Multiple filters\n",
    "... WHERE x = 1\n",
    "OR y > 2"
   ]
  },
  {
   "cell_type": "code",
   "execution_count": null,
   "metadata": {},
   "outputs": [],
   "source": [
    "# Between numeric\n",
    "... BETWEEN 60 AND 70"
   ]
  },
  {
   "cell_type": "code",
   "execution_count": null,
   "metadata": {},
   "outputs": [],
   "source": [
    "# Like\n",
    "... LIKE 'data%' or LIKE 'da_a%'"
   ]
  },
  {
   "cell_type": "code",
   "execution_count": null,
   "metadata": {},
   "outputs": [],
   "source": [
    "avg() sum()"
   ]
  },
  {
   "cell_type": "code",
   "execution_count": null,
   "metadata": {},
   "outputs": [],
   "source": [
    "# Group by\n",
    "... GROUP BY name"
   ]
  },
  {
   "cell_type": "code",
   "execution_count": null,
   "metadata": {},
   "outputs": [],
   "source": [
    "# Group by\n",
    "... GROUP BY name\n",
    "having count(*) > 10"
   ]
  },
  {
   "cell_type": "code",
   "execution_count": null,
   "metadata": {
    "collapsed": true
   },
   "outputs": [],
   "source": [
    "# Count\n",
    "SELECT count(*) AS total FROM orders WHERE customer_id <> '12';\n",
    "\n",
    "# Insert\n",
    "INSERT INTO table (col1, col2) values ('stuff', 12)\n",
    "\n",
    "# Having\n",
    "having is used as where after an aggregation\n",
    "\n",
    "# Average\n",
    "SELECT name, weight\n",
    "FROM players, (SELECT AVG(weight) as av FROM players) as subq\n",
    "WHERE weight < av\n",
    "\n",
    "# Views\n",
    "CREATE view course_size as select * from animals;\n",
    "\n",
    "# Sort / order\n",
    "select * from view\n",
    "order by name\n",
    "\n",
    "\n",
    "# Nested query\n",
    "SELECT\n",
    "    a.*\n",
    "FROM\n",
    "    (SELECT * FROM table) a"
   ]
  },
  {
   "cell_type": "markdown",
   "metadata": {},
   "source": [
    "##### Examples"
   ]
  },
  {
   "cell_type": "code",
   "execution_count": null,
   "metadata": {
    "collapsed": true
   },
   "outputs": [],
   "source": [
    "select \n",
    "    o.name, count(*) as num\n",
    "from\n",
    "    animals a \n",
    "        join taxonomy t on a.species = t.name \n",
    "        join ordernames o on o.t_order = t.t_order \n",
    "group by t.t_order\n",
    "order by num desc;"
   ]
  },
  {
   "cell_type": "markdown",
   "metadata": {},
   "source": [
    "# JOIN"
   ]
  },
  {
   "cell_type": "code",
   "execution_count": null,
   "metadata": {
    "collapsed": true
   },
   "outputs": [],
   "source": [
    "SELECT *\n",
    "FROM table1\n",
    "INNER JOIN table2 ON table1.column_name = table2.column_name;"
   ]
  },
  {
   "cell_type": "markdown",
   "metadata": {},
   "source": [
    "# Drop Columns"
   ]
  },
  {
   "cell_type": "code",
   "execution_count": null,
   "metadata": {
    "collapsed": true
   },
   "outputs": [],
   "source": [
    "ALTER TABLE LH_VoC_Survey.dbo.tableX\n",
    "DROP COLUMN [Columnname]"
   ]
  },
  {
   "cell_type": "markdown",
   "metadata": {},
   "source": [
    "# Transform tables"
   ]
  },
  {
   "cell_type": "markdown",
   "metadata": {},
   "source": [
    "### Update columns"
   ]
  },
  {
   "cell_type": "code",
   "execution_count": null,
   "metadata": {
    "collapsed": true
   },
   "outputs": [],
   "source": [
    "UPDATE DeviceAttribute\n",
    "SET Details = CASE Name\n",
    "          WHEN 'Accessories'   THEN @Accessories\n",
    "          ELSE Details\n",
    "              END\n",
    "WHERE DeviceID = 10 \n",
    "  AND ( Name = 'Accessories'   AND @Accessories IS NOT NULL\n",
    "      ) ;"
   ]
  },
  {
   "cell_type": "markdown",
   "metadata": {},
   "source": [
    "### Check typeof variable"
   ]
  },
  {
   "cell_type": "code",
   "execution_count": null,
   "metadata": {
    "collapsed": true
   },
   "outputs": [],
   "source": [
    "# Teradata\n",
    "extract(year from depTms) = 2015"
   ]
  },
  {
   "cell_type": "markdown",
   "metadata": {},
   "source": [
    "# Combine tables"
   ]
  },
  {
   "cell_type": "markdown",
   "metadata": {},
   "source": [
    "#### UNION\n",
    "- merges contents of 2 structurally-compatible tables into one\n",
    "- UNION ALL will include duplicate rows"
   ]
  },
  {
   "cell_type": "code",
   "execution_count": null,
   "metadata": {
    "collapsed": true
   },
   "outputs": [],
   "source": [
    "SELECT column_name(s) FROM table1\n",
    "UNION\n",
    "SELECT column_name(s) FROM table2;"
   ]
  },
  {
   "cell_type": "markdown",
   "metadata": {},
   "source": [
    "#### JOIN\n",
    "- 5 different:\n",
    "    - INNER JOIN - all with one match in BOTH\n",
    "    - LEFT (OUTER) JOIN - all rows from left, matched from right\n",
    "    - RIGHT (OUTER) JOIN - all rows from right, left matched\n",
    "    - FULL (OUTER) JOIN - all which have EITHER ..\n",
    "    - CROSS JOIN - each row from 1. combined with each row from 2."
   ]
  },
  {
   "cell_type": "code",
   "execution_count": null,
   "metadata": {
    "collapsed": true
   },
   "outputs": [],
   "source": [
    "SELECT Orders.OrderID, Customers.CustomerName\n",
    "FROM Orders\n",
    "INNER JOIN Customers\n",
    "ON Orders.CustomerID=Customers.CustomerID; "
   ]
  },
  {
   "cell_type": "markdown",
   "metadata": {},
   "source": [
    "# Python API"
   ]
  },
  {
   "cell_type": "code",
   "execution_count": null,
   "metadata": {
    "collapsed": true
   },
   "outputs": [],
   "source": [
    "import sqlite3\n",
    "conn = sqlite3.connect(\"Cookies\")\n",
    "cursor = conn.cursor()\n",
    "cursor.execute(\n",
    "\"select host_key from Cookies limit 2\")\n",
    "results = cursor.fetchall()\n",
    "print results\n",
    "conn.close()"
   ]
  },
  {
   "cell_type": "markdown",
   "metadata": {},
   "source": [
    "# Teradata Connection"
   ]
  },
  {
   "cell_type": "code",
   "execution_count": 5,
   "metadata": {
    "collapsed": true
   },
   "outputs": [],
   "source": [
    "import teradata"
   ]
  },
  {
   "cell_type": "code",
   "execution_count": 6,
   "metadata": {
    "collapsed": true
   },
   "outputs": [],
   "source": [
    "udaExec = teradata.UdaExec (appName=\"HelloWorld\", version=\"1.0\",\n",
    "        logConsole=False)"
   ]
  },
  {
   "cell_type": "code",
   "execution_count": 9,
   "metadata": {
    "collapsed": true
   },
   "outputs": [],
   "source": [
    "?teradata.UdaExec"
   ]
  },
  {
   "cell_type": "code",
   "execution_count": null,
   "metadata": {
    "collapsed": true
   },
   "outputs": [],
   "source": [
    "session = udaExec.connect(method=\"odbc\", system=\"tdprod\",\n",
    "        username=\"U819369\", password=\"xxx\");\n",
    " \n",
    "for row in session.execute(\"SELECT GetQueryBand()\"):\n",
    "    print(row)"
   ]
  }
 ],
 "metadata": {
  "anaconda-cloud": {},
  "kernelspec": {
   "display_name": "Python 3",
   "language": "python",
   "name": "python3"
  },
  "language_info": {
   "codemirror_mode": {
    "name": "ipython",
    "version": 3
   },
   "file_extension": ".py",
   "mimetype": "text/x-python",
   "name": "python",
   "nbconvert_exporter": "python",
   "pygments_lexer": "ipython3",
   "version": "3.6.4"
  }
 },
 "nbformat": 4,
 "nbformat_minor": 1
}
