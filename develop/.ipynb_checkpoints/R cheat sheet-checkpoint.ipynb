{
 "cells": [
  {
   "cell_type": "markdown",
   "metadata": {},
   "source": [
    "<img src=\"https://www.rstudio.com/wp-content/uploads/2014/06/RStudio-Ball.png\" width=\"100\">"
   ]
  },
  {
   "cell_type": "markdown",
   "metadata": {},
   "source": [
    "- Code snippets! -> Visual Studio\n",
    "- [R for Data Science book](http://r4ds.had.co.nz/data-visualisation.html)\n",
    "- use pipes %>%"
   ]
  },
  {
   "cell_type": "markdown",
   "metadata": {},
   "source": [
    "# R Befehle"
   ]
  },
  {
   "cell_type": "code",
   "execution_count": 2,
   "metadata": {
    "collapsed": false
   },
   "outputs": [
    {
     "ename": "ERROR",
     "evalue": "Error in parse(text = x, srcfile = src): <text>:119:41: unerwartetes Symbol\n118: #hmisc package\n119: r <- aregImpute(~Ozone + Solar.R + Wind ...\n                                             ^\n",
     "output_type": "error",
     "traceback": [
      "Error in parse(text = x, srcfile = src): <text>:119:41: unerwartetes Symbol\n118: #hmisc package\n119: r <- aregImpute(~Ozone + Solar.R + Wind ...\n                                             ^\nTraceback:\n"
     ]
    }
   ],
   "source": [
    "# list all items\n",
    "ls()\n",
    "\n",
    "\n",
    "#import packages\n",
    "install.packages(\"jsonlite\") # ,dependencies=TRUE)\n",
    "library(e1071)\n",
    "\n",
    "##import data\n",
    "### online jsondata:\n",
    "jd <- jsonlite::fromJSON(\"https://.../json?address=1699+Amphitheatre+Parkway,+Mountain+View,+CA\")\n",
    "jd$results$address_components[[1]]$long_name\n",
    "### online data\n",
    "#### httr package\n",
    "### local data\n",
    "# merge filename and pathname\n",
    "infile <- file.path(dirName, fileName)\n",
    "\n",
    "# data transformation\n",
    "## convert csv in xdf (Xdf files store data in compressed and optimized format)\n",
    "## remove columns we don't need\n",
    "eeframe$CoolingLoad <- NULL\n",
    "## apply function to column\n",
    "eeframe[, catList] <- lapply(eeframe[, catList], \n",
    "                             function(x) as.factor(as.character(x)))\n",
    "\n",
    "# string transformation\n",
    "# grep/ gsub - http://www.inside-r.org/r-doc/base/sub\n",
    "names(eeframe) <- gsub(\"\\\\.\", \"\", names(eeframe))\n",
    "\n",
    "#analyse data\n",
    "bn = read.csv(\"https:...csv?accessType=DOWNLOAD\") #, header = TRUE, stringAsFactors = FALSE)\n",
    "str(bn)\n",
    "head(bn)\n",
    "summary(bn)\n",
    "summary(bn$First.Name)\n",
    "dim(bn)\n",
    "\n",
    "\n",
    "#assign vector\n",
    "poker_wins <- \n",
    "names(poker_vector) <- c(\"Monday\", \"Tuesday\", \"Wednesday\", \"Thursday\", \"Friday\")\n",
    "\n",
    "matrix(1:9, byrow=TRUE, nrow  =3)\n",
    "\n",
    "cbind(matrix1,matrix2) #nebeneinander\n",
    "rbind(matrix1,matrix2) #untereinander\n",
    "\n",
    "#vectors can be transformed to factors\n",
    "# Gender vector\n",
    "gender_vector <- c(\"Male\", \"Female\", \"Female\", \"Male\", \"Male\")\n",
    "\n",
    "# Convert gender_vector to a factor\n",
    "factor_gender_vector <- factor(gender_vector)\n",
    "\n",
    "# Select subset in matrix where diameter is smaller than 1\n",
    "subset(planets_df, diameter < 1)\n",
    "\n",
    "\n",
    "# Use order() to create positions\n",
    "positions <-  order(planets_df$diameter)\n",
    "\n",
    "# Use positions to sort planets_df\n",
    "planets_df[positions,]\n",
    "\n",
    "# The workspace\n",
    "# http://www.statmethods.net/interface/workspace.html\n",
    "\n",
    "#data frames\n",
    "fr <- data.frame(c(\"hi\",\"ho\"), c(1,2), c(TRUE,FALSE))\n",
    "\n",
    "\n",
    "\n",
    "\n",
    "\n",
    "\n",
    "#foreach:\n",
    "\n",
    "install.packages(\"foreach\")\n",
    "library(foreach)\n",
    "foreach(i=1:10) %do%\n",
    "  rnorm(i)\n",
    "\n",
    "#for the foreach, we can use parallel computing\n",
    "install.packages(\"doParallel\")\n",
    "library(doParallel)\n",
    "\n",
    "#or cluster computing\n",
    "cl < makeCluster(4) # from the doParallel\n",
    "registerDoParallel(cl)\n",
    "\n",
    "df <- data.frame(ID=c(1,3,4), name=c(\"Steve\",\"mike\",\"Mary\"), c(32,24,52),c(80,90,100))\n",
    "colnames(df) <- c(\"ID\", \"Name\", \"2013\", \"2014\")\n",
    "df\n",
    "df2 <- reshape(df, varying=c(\"2013\",\"2014\"), v.names=\"Percent\", time...)\n",
    "install.packages(\"reshape\")\n",
    "library(reshape)\n",
    "\n",
    "# reshaping\n",
    "df3 <- melt(df, id=c(\"ID\",\"Name\"))\n",
    "\n",
    "#merging\n",
    "mrg <- merge(fr1, fr2, by=\"ID\")\n",
    "\n",
    "#transpose\n",
    "carmpg <- mtcars[order(-mtcars$mpg),]\n",
    "carmpg <- carmpg[1:10,c(1,2,4,6)]\n",
    "carmpg <- data.frame(t(carmpg))\n",
    "carmpg$Fiat.128\n",
    "\n",
    "#aggregate\n",
    "ag <- aggregate(mtcars$mpg, list(mtcars$hp), mean)\n",
    "\n",
    "#remove NAs\n",
    "aq <-na.omit(airquality)\n",
    "#remove NAs selectively\n",
    "airquality[complete.cases(airquality[,c(1,3,4,5,6)]),]\n",
    "#hmisc package\n",
    "r <- aregImpute(~Ozone + Solar.R + Wind ...)\n",
    "\n",
    "#slice the df\n",
    "cut(airquality$Temp, breaks=c(0,80,100,150), labels=c(\"cold\",\"nice\",\"hot\"))\n",
    "\n",
    "##Data analysis\n",
    "#modeling functions\n",
    "lm #linear modeling\n",
    "glm\n",
    "aov #analysis of variance\n",
    "\n",
    "t.test\n",
    "TukeyHSD #creates sets of confidence intervals\n",
    "predict\n",
    "\n",
    "#helper functions for more analysis\n",
    "coef\n",
    "residuals\n",
    "fitted\n",
    "confint #confidence interval\n",
    "\n",
    "\n",
    "\n",
    "##Data analysis\n",
    "#linear modeling\n",
    "lml <- lm(trees$Volume ~ trees$Height + trees$Girth) #trees$Volume is dependent variable, trees$Height + trees$Girth effects it)\n",
    "summary(lml)\n",
    "plot(lml)\n",
    "lm2 <- lm(mpg ~ cyl + disp + hp + wt, data=mtcars) #instead of mtcars.wt each time\n",
    "\n",
    "#Variance analysis\n",
    "boxplot(Speed ~ Expt, data=morley)\n",
    "a <- aov(Speed ~ Expt, data=morley)\n",
    "summary(a)\n",
    "\n",
    "#R Coef Function\n",
    "lmf <- lm(lv ~lg + trees$Height)\n",
    "summary(lmf)\n",
    "x <- coef(lmf)\n",
    "x\n",
    "\n",
    "#R Fitted function\n",
    "lmf <- lm(mpg ~ disp, data=mtcars)\n",
    "plot(fitted(lmf), residuals(lmf))\n",
    "abline(h=0) # ususally there is not a line displayed in the plot above\n",
    "\n",
    "#R residual function\n",
    "lmf <- lm(mtcars$mpg ~ mtcars$disp)\n",
    "residuals(lmf)\n",
    "summary(lmf)\n",
    "summary(residuals(lmf))\n",
    "plot(fitted(lmf), residuals(lmf)) #what are the fitted lmfs?\n",
    "abline(h=0)\n",
    "\n",
    "#Covariance matrix\n",
    "lmf <- lm(trees$Volume ~ trees$Girth + trees$Height)\n",
    "vcov(lmf)\n",
    "\n",
    "#Confidence interval\n",
    "plot(faithful$eruptions, faithful$waiting)\n",
    "lme <- lm(eruptions ~ waiting, data=faithful)\n",
    "summary(lme)\n",
    "ci <- confint(lme, level=0.95)\n",
    "\n",
    "#Generalized linear model\n",
    "m <- glm(cyl ~ disp + hp, data=mtcars, family=poisson)\n",
    "params <- data.frame(hp=110, disp=160)\n",
    "predict(m, params, type=\"response\")\n",
    "\n",
    "#T Test\n",
    "r <- rnorm(100, 1000, 100) # (# of items, mean, standard deviation)\n",
    "tt <- t.test(r, mu=1000)\n",
    "str(tt)\n",
    "\n",
    "#TukeyHSD Test\n",
    "a <- aov(Speed ~ factor(Expt), data=morley)\n",
    "TukeyHSD(a)\n",
    "boxplot(Speed ~ Expt, data=morley)\n",
    "plot(TukeyHSD(a))\n",
    "\n",
    "#Predict Function\n",
    "plot(eruptions ~ waiting, data=faithful)\n",
    "lme <- lm(eruptions ~ waiting, data=faithful)\n",
    "dfe <- data.frame(waiting=50)\n",
    "predict(lme, dfe, interval=\"predict\", level=0.95)\n",
    "\n",
    "#Time Series\n",
    "tsdata <- ts(sample(1:100, 24), start=c(2013,1), end=c(2014,12), frequency=12, deltat=1/12)\n",
    "str(tsdata)\n",
    "f <- stl(AirPassengers, s.window=\"period\")\n",
    "library(forecast)\n",
    "f <- ets(AirPassengers)\n",
    "plot(forecast(f,12))\n",
    "f <- auto.arima(AirPassengers)\n",
    "\n",
    "\n",
    "# Pipes for Data Selection\n",
    "# dplyr\n",
    "library(dplyr)\n",
    "frame1 <- mutate(frame1, Col4 = Col2 + Col3) #Create new column with new calculated \n",
    "frame1 <- group_by(frame1, Col1)\n",
    "frame1 <- distinct(frame1, Col2) #search for duplicates\n",
    "frame1 <- sample_frac(frame1, 0.5) #create a sample (for a fraction of the data)\n",
    "frame1 <- sample_n(frame1, 200)\n",
    "frame1 <- summarize(frame1, m1 = mean(Col1))\n",
    "## frame the dataframe (pipe)\n",
    "frame1 <- frame1 %>%\n",
    "            filter(Col1 == 2013) %>%\n",
    "            mutate(Col4 = Col2 + Col3)\n",
    "\n",
    "inner_join(a, b, by = colName)\n",
    "\n",
    "\n",
    "# >>>> Machine learning <<<<\n",
    "# Two-way comparison\n",
    "prop.table(table(train$Survived, train$Child),1)\n",
    "# \n",
    "\n",
    "\n",
    "#plots\n",
    "library(ggplot2)\n",
    "qplot(eruptions, waiting, data=faithful, color=waiting, size=eruptions, geom=c(\"point\",\"smooth\"), method=\"lm\")"
   ]
  },
  {
   "cell_type": "markdown",
   "metadata": {},
   "source": [
    "# R functions"
   ]
  },
  {
   "cell_type": "markdown",
   "metadata": {},
   "source": [
    "## Scale"
   ]
  },
  {
   "cell_type": "code",
   "execution_count": null,
   "metadata": {
    "collapsed": true
   },
   "outputs": [],
   "source": [
    "scale(dataScale$A, center = TRUE, scale  = FALSE)\n",
    "z[,scalelist] <- lapply(y[,scalelist], function(x) as.numeric(scale(x)))"
   ]
  },
  {
   "cell_type": "markdown",
   "metadata": {},
   "source": [
    "## lapply"
   ]
  },
  {
   "cell_type": "code",
   "execution_count": 1,
   "metadata": {
    "collapsed": false
   },
   "outputs": [
    {
     "ename": "ERROR",
     "evalue": "Error in parse(text = x, srcfile = src): <text>:1:7: unerwartetes Symbol\n1: apply functions\n          ^\n",
     "output_type": "error",
     "traceback": [
      "Error in parse(text = x, srcfile = src): <text>:1:7: unerwartetes Symbol\n1: apply functions\n          ^\nTraceback:\n"
     ]
    }
   ],
   "source": [
    "apply functions to columns"
   ]
  },
  {
   "cell_type": "markdown",
   "metadata": {},
   "source": [
    "# Pipes %>%\n",
    "Read it as \"then\""
   ]
  },
  {
   "cell_type": "markdown",
   "metadata": {},
   "source": [
    "flights %>%   \n",
    "group_by(dest) %>%   \n",
    "arrange(desc(arr_delay))"
   ]
  },
  {
   "cell_type": "markdown",
   "metadata": {},
   "source": [
    "- you cannot use $assign(), get(), load()$ with the pipe, unless you specify the environment \"x\" %>% assign(100, envir = env)"
   ]
  },
  {
   "cell_type": "markdown",
   "metadata": {},
   "source": [
    "When not to use the pipe:\n",
    "- You have multiple inputs or outputs. If there isn’t one primary object being transformed, but two or more objects being combined together, don’t use the pipe.\n",
    "- Your pipes get longer than five or six lines"
   ]
  },
  {
   "cell_type": "code",
   "execution_count": null,
   "metadata": {
    "collapsed": true
   },
   "outputs": [],
   "source": []
  },
  {
   "cell_type": "markdown",
   "metadata": {},
   "source": [
    "# Packages"
   ]
  },
  {
   "cell_type": "code",
   "execution_count": null,
   "metadata": {
    "collapsed": true
   },
   "outputs": [],
   "source": [
    "- \n",
    "- [Machine Learning packages](http://www.r-bloggers.com/what-are-the-best-machine-learning-packages-in-r/)\n",
    "- tidyr"
   ]
  }
 ],
 "metadata": {
  "kernelspec": {
   "display_name": "R",
   "language": "R",
   "name": "ir"
  },
  "language_info": {
   "codemirror_mode": "r",
   "file_extension": ".r",
   "mimetype": "text/x-r-source",
   "name": "R",
   "pygments_lexer": "r",
   "version": "3.2.2"
  }
 },
 "nbformat": 4,
 "nbformat_minor": 0
}
