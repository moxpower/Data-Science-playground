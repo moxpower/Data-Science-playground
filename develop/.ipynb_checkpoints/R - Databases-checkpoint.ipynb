{
 "cells": [
  {
   "cell_type": "markdown",
   "metadata": {},
   "source": [
    "# Connect"
   ]
  },
  {
   "cell_type": "code",
   "execution_count": null,
   "metadata": {
    "collapsed": true
   },
   "outputs": [],
   "source": [
    "require(RJDBC)\n",
    "\n",
    "# load driver and create driver object\n",
    "drv <- JDBC(drivername, \"db2jcct4.jar\", identifier.quote=\"'\")\n",
    "\n",
    "# create connection object\n",
    "conn <- dbConnect(drv, \"jdbc:db2://184...180:50000/SAMPLEDB\",\"db2inst1\", \"passw0rd!\")\n",
    "\n",
    "query <- paste(\"select * from US_Fuel\")\n",
    "\n",
    "rs <- dbSendQuery(conn, query)\n",
    "\n",
    "df <- fetch(rs, -1)\n",
    "\n",
    "dbDisconnect(conn)"
   ]
  },
  {
   "cell_type": "markdown",
   "metadata": {},
   "source": [
    "#### Substitute argument in query statement"
   ]
  },
  {
   "cell_type": "code",
   "execution_count": null,
   "metadata": {
    "collapsed": true
   },
   "outputs": [],
   "source": [
    "mfr <- \"BMW\"\n",
    "query <- paste(\"select * from US_Fuel where MFR_Name = ?\")\n",
    "rs <- dbSendQuery(conn, query, mfr)"
   ]
  },
  {
   "cell_type": "markdown",
   "metadata": {},
   "source": [
    "#### Bypass registration of DSN"
   ]
  },
  {
   "cell_type": "code",
   "execution_count": null,
   "metadata": {
    "collapsed": true
   },
   "outputs": [],
   "source": [
    "con.text <- paste(\"Driver=\",driver.name,\";Database=\",db.name,...host.name,port,user.name,pwd,sep=\"\")\n",
    "con1 <- odbcDriverConnect(con.text)"
   ]
  },
  {
   "cell_type": "markdown",
   "metadata": {},
   "source": [
    "#### Connection Metadata"
   ]
  },
  {
   "cell_type": "code",
   "execution_count": null,
   "metadata": {
    "collapsed": true
   },
   "outputs": [],
   "source": [
    "odbcGetInfo(con1)\n",
    "sqlTypeInfo(con1)\n",
    "sqlTables(con1, schema = \"DB2USER1\")\n",
    "sqlColumns(con1, tab.name)"
   ]
  },
  {
   "cell_type": "markdown",
   "metadata": {},
   "source": [
    "#### Query"
   ]
  },
  {
   "cell_type": "code",
   "execution_count": null,
   "metadata": {
    "collapsed": true
   },
   "outputs": [],
   "source": [
    "tab.fullname <- paste(schema.name,\".\",tab.name,sep=\"\",collapse=\"\")\n",
    "sqlFetch(con1, tab.fullname, stringAsFactors=F)"
   ]
  },
  {
   "cell_type": "code",
   "execution_count": null,
   "metadata": {
    "collapsed": true
   },
   "outputs": [],
   "source": []
  },
  {
   "cell_type": "code",
   "execution_count": null,
   "metadata": {
    "collapsed": true
   },
   "outputs": [],
   "source": []
  },
  {
   "cell_type": "code",
   "execution_count": null,
   "metadata": {
    "collapsed": true
   },
   "outputs": [],
   "source": []
  },
  {
   "cell_type": "markdown",
   "metadata": {},
   "source": [
    "#### Comparison R/RDBMS"
   ]
  },
  {
   "cell_type": "markdown",
   "metadata": {},
   "source": [
    "<img src=\"../img/Terminology R vs RDBMS.png\" width=\"400\">"
   ]
  },
  {
   "cell_type": "markdown",
   "metadata": {},
   "source": [
    "# Databases"
   ]
  },
  {
   "cell_type": "code",
   "execution_count": null,
   "metadata": {
    "collapsed": true
   },
   "outputs": [],
   "source": [
    "Relational databases (RDBMS) are optimized for\n",
    "    - manipulating large datasets\n",
    "    - providing concurrent data access to multiple users\n",
    "    - maintaining data consistency\n",
    "    - persistence"
   ]
  },
  {
   "cell_type": "code",
   "execution_count": null,
   "metadata": {
    "collapsed": true
   },
   "outputs": [],
   "source": [
    "Databases designed to\n",
    "- minimiye data redundancy\n",
    "- model attributes and relationships\n",
    "- enable data consistency\n",
    "- merge/join data into single view\n",
    "- support transactions and security"
   ]
  },
  {
   "cell_type": "markdown",
   "metadata": {},
   "source": []
  },
  {
   "cell_type": "code",
   "execution_count": null,
   "metadata": {
    "collapsed": true
   },
   "outputs": [],
   "source": [
    "ODBC\n",
    "- RODBC\n",
    "DBI-Based\n",
    "- RJDBC\n",
    "- R"
   ]
  },
  {
   "cell_type": "code",
   "execution_count": null,
   "metadata": {
    "collapsed": true
   },
   "outputs": [],
   "source": []
  }
 ],
 "metadata": {
  "kernelspec": {
   "display_name": "R",
   "language": "R",
   "name": "ir"
  },
  "language_info": {
   "codemirror_mode": "r",
   "file_extension": ".r",
   "mimetype": "text/x-r-source",
   "name": "R",
   "pygments_lexer": "r",
   "version": "3.2.2"
  }
 },
 "nbformat": 4,
 "nbformat_minor": 0
}
