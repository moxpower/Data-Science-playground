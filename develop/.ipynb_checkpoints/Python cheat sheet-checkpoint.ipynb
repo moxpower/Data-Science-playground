{
 "cells": [
  {
   "cell_type": "markdown",
   "metadata": {},
   "source": [
    " "
   ]
  },
  {
   "cell_type": "markdown",
   "metadata": {},
   "source": [
    "<img src='../img/python.jpg' width=600>"
   ]
  },
  {
   "cell_type": "markdown",
   "metadata": {
    "collapsed": true
   },
   "source": [
    "Pythonic python!"
   ]
  },
  {
   "cell_type": "markdown",
   "metadata": {},
   "source": [
    "#### Table of Content\n",
    "<a id='top'></a>\n",
    "- [Cheat Sheets](#cheat)\n",
    "- [Object Orientation](#objects)\n",
    "- [Python commands](#pythoncommands)\n",
    "    - [Navigation: Directory & Files](#dir)\n",
    "    - [Inspect Objects](#inspect)\n",
    "    - [Arrays](#arr)\n",
    "    - [Loops](#loops)\n",
    "- [Algorithms](#algo)\n",
    "- [Machine Learning](#ml)\n",
    "    - [NLP](#nlp)\n",
    "        - [LDA](#lda)\n",
    "- [Libraries](#lib)\n",
    "    - [Pandas](#pandas)\n",
    "    - [Google API](#google)\n",
    "    - [unit test](#unittest)\n",
    "- [Visualisation](#vis)\n",
    "- [Tools](#tools)\n",
    "    - [sublime](#sublime)\n",
    "    - [jupyter Notebook](#notebook)\n",
    "- [Frameworks](#frameworks)\n",
    "    - [scrapy](#scrapy)"
   ]
  },
  {
   "cell_type": "markdown",
   "metadata": {},
   "source": [
    "<a id='cheat'></a>\n",
    "# Cheat sheets"
   ]
  },
  {
   "cell_type": "markdown",
   "metadata": {},
   "source": [
    "- https://github.com/adam-p/markdown-here/wiki/Markdown-Cheatsheet\n",
    "- [Organize python environment](https://medium.com/@henriquebastos/the-definitive-guide-to-setup-my-python-workspace-628d68552e14#.sp4hu5df4)"
   ]
  },
  {
   "cell_type": "markdown",
   "metadata": {},
   "source": [
    "<a id='Objects'></a>\n",
    "# Object orientation"
   ]
  },
  {
   "cell_type": "markdown",
   "metadata": {},
   "source": [
    "## Classes"
   ]
  },
  {
   "cell_type": "markdown",
   "metadata": {},
   "source": [
    "## Methods"
   ]
  },
  {
   "cell_type": "code",
   "execution_count": null,
   "metadata": {
    "collapsed": true
   },
   "outputs": [],
   "source": [
    "@staticmethod\n",
    "# A staticmethod is a way of putting a function into a class (because it logically belongs there), while indicating that it does not require access to the class\n",
    "# A staticmethod does not reference to the instance of the class"
   ]
  },
  {
   "cell_type": "markdown",
   "metadata": {},
   "source": [
    "<a id='Python commands'></a>\n",
    "# Python commands"
   ]
  },
  {
   "cell_type": "markdown",
   "metadata": {},
   "source": [
    "## Navigation"
   ]
  },
  {
   "cell_type": "markdown",
   "metadata": {},
   "source": [
    "<a id='dir'></a>\n",
    "#### Directory"
   ]
  },
  {
   "cell_type": "code",
   "execution_count": null,
   "metadata": {
    "collapsed": true
   },
   "outputs": [],
   "source": [
    "# List all files in directory\n",
    "import os\n",
    "os.listdir()"
   ]
  },
  {
   "cell_type": "code",
   "execution_count": null,
   "metadata": {
    "collapsed": true
   },
   "outputs": [],
   "source": [
    "# join paths\n",
    "rea\n",
    "dir = \"C:/Users/568377/Cognizant/Data Science/kaggle/Bimbo Bread/submissions/\"\n",
    "os.path.join(dir, \"submission_2.csv\")\n",
    "# join multiple paths\n",
    "os.path.join(dir, 'relative','path','to','file','you','want')\n",
    "\n",
    "# set directory\n",
    "os.chdir(dir)"
   ]
  },
  {
   "cell_type": "code",
   "execution_count": null,
   "metadata": {
    "collapsed": true
   },
   "outputs": [],
   "source": [
    "# Test if file exists\n",
    "import os.path\n",
    "os.path.isfile(fname) "
   ]
  },
  {
   "cell_type": "markdown",
   "metadata": {},
   "source": [
    "#### Comment"
   ]
  },
  {
   "cell_type": "code",
   "execution_count": null,
   "metadata": {
    "collapsed": true
   },
   "outputs": [],
   "source": [
    "# comment line\n",
    "\"\"\"\n",
    "multiline comment\n",
    "\"\"\""
   ]
  },
  {
   "cell_type": "markdown",
   "metadata": {},
   "source": [
    "#### Import & export files"
   ]
  },
  {
   "cell_type": "code",
   "execution_count": null,
   "metadata": {
    "collapsed": true
   },
   "outputs": [],
   "source": [
    "# save as csv\n",
    "with open(filename, 'wb') as f:\n",
    "    f.write(response.body)\n",
    "    \n",
    "# write integers to csv\n",
    "with open(\"logs.csv\", 'w') as f:\n",
    "    writer = csv.writer(f)\n",
    "    writer.writerows(zip(itertools.repeat(logging.INFO,1),itertools.repeat(logging.INFO)))"
   ]
  },
  {
   "cell_type": "markdown",
   "metadata": {},
   "source": [
    "#### Execute other files"
   ]
  },
  {
   "cell_type": "code",
   "execution_count": null,
   "metadata": {
    "collapsed": true
   },
   "outputs": [],
   "source": [
    "#service.py\n",
    "import test1\n",
    "\n",
    "def service_func():\n",
    "    print(\"service func\")\n",
    "\n",
    "if __name__ == '__main__':\n",
    "    # service.py executed as script\n",
    "    # do something\n",
    "    service_func()\n",
    "    test1.some_func()\n",
    "\n",
    "#test1.py\n",
    "def some_func():\n",
    "    print(\"some func\")\n",
    "    \n",
    "if __name__ == '__main__':\n",
    "    # test1.py executed as script\n",
    "    # do something\n",
    "    some_func()"
   ]
  },
  {
   "cell_type": "markdown",
   "metadata": {},
   "source": [
    "<a id='inspect'></a>\n",
    "[back to top](#top)\n",
    "## Inspect Objects"
   ]
  },
  {
   "cell_type": "code",
   "execution_count": null,
   "metadata": {
    "collapsed": true
   },
   "outputs": [],
   "source": [
    "type()\n",
    "dir()\n",
    "id()\n",
    "getattr()\n",
    "hasattr()\n",
    "globals()\n",
    "locals()\n",
    "callable()"
   ]
  },
  {
   "cell_type": "code",
   "execution_count": null,
   "metadata": {
    "collapsed": true
   },
   "outputs": [],
   "source": []
  },
  {
   "cell_type": "markdown",
   "metadata": {},
   "source": [
    "<a id='arr'></a>\n",
    "[back to top](#top)\n",
    "## Arrays"
   ]
  },
  {
   "cell_type": "code",
   "execution_count": null,
   "metadata": {
    "collapsed": true
   },
   "outputs": [],
   "source": [
    "# Dimensions\n",
    "import numpy as np\n",
    "arr = [[1,2],[1,2]]\n",
    "arr = np.array(arr)\n",
    "arr.shape"
   ]
  },
  {
   "cell_type": "markdown",
   "metadata": {},
   "source": [
    "**Filter first column** of multicolumn array"
   ]
  },
  {
   "cell_type": "code",
   "execution_count": null,
   "metadata": {
    "collapsed": true
   },
   "outputs": [],
   "source": [
    "arr[:,0]"
   ]
  },
  {
   "cell_type": "markdown",
   "metadata": {},
   "source": [
    "## DataFrames"
   ]
  },
  {
   "cell_type": "code",
   "execution_count": null,
   "metadata": {
    "collapsed": true
   },
   "outputs": [],
   "source": [
    "# Create DataFrame\n",
    "df= pd.DataFrame(columns=['a','b'])\n",
    "\n",
    "# Append line\n",
    "df.loc[len(df)] = [\"hey\",\"value\"]\n",
    "\n",
    "# Append DataFrame\n",
    "df = df1.append([df2,df3,df4] , ignore_index=True)\n",
    "\n",
    "# export to csv\n",
    "df.to_csv(\"logs.csv\", sep='\\t', encoding='utf-8', index=False)"
   ]
  },
  {
   "cell_type": "markdown",
   "metadata": {},
   "source": [
    "## Dict"
   ]
  },
  {
   "cell_type": "markdown",
   "metadata": {},
   "source": [
    "**Find** item in dict on value of subitem:"
   ]
  },
  {
   "cell_type": "code",
   "execution_count": null,
   "metadata": {
    "collapsed": true
   },
   "outputs": [],
   "source": [
    "my_dict = {\"Max\":{'age':27,'ec':'blue'}, \"Evi\":{'age':33,'ec':'blue'}}\n",
    "for key, item in my_dict.items():\n",
    "    if item['age'] == 27:\n",
    "        print key, \": eye color\", item['ec']"
   ]
  },
  {
   "cell_type": "markdown",
   "metadata": {},
   "source": [
    "**Remove** dict items:"
   ]
  },
  {
   "cell_type": "code",
   "execution_count": null,
   "metadata": {
    "collapsed": true,
    "scrolled": true
   },
   "outputs": [],
   "source": [
    "my_dict.pop(\"Max\", 0)"
   ]
  },
  {
   "cell_type": "markdown",
   "metadata": {},
   "source": [
    "**Transform** Dict to list:"
   ]
  },
  {
   "cell_type": "code",
   "execution_count": null,
   "metadata": {
    "collapsed": true
   },
   "outputs": [],
   "source": [
    "def dict_to_list(key,normalizer):\n",
    "    new_list=[]\n",
    "\n",
    "    for i in data_dict:\n",
    "        if data_dict[i][key]==\"NaN\" or data_dict[i][normalizer]==\"NaN\":\n",
    "            new_list.append(0.)\n",
    "        elif data_dict[i][key]>=0:\n",
    "            new_list.append(float(data_dict[i][key])/float(data_dict[i][normalizer]))\n",
    "    return new_list"
   ]
  },
  {
   "cell_type": "code",
   "execution_count": null,
   "metadata": {
    "collapsed": true
   },
   "outputs": [],
   "source": [
    "#Transform string to float\n",
    "df['col'] = df['col'].astype(float)"
   ]
  },
  {
   "cell_type": "markdown",
   "metadata": {},
   "source": [
    "### Strings"
   ]
  },
  {
   "cell_type": "code",
   "execution_count": null,
   "metadata": {
    "collapsed": true
   },
   "outputs": [],
   "source": [
    "# join strings\n",
    "''.join(string)\n",
    "\n",
    "# strip strings\n",
    "string.strip()"
   ]
  },
  {
   "cell_type": "markdown",
   "metadata": {},
   "source": [
    "### Lists"
   ]
  },
  {
   "cell_type": "code",
   "execution_count": null,
   "metadata": {
    "collapsed": true
   },
   "outputs": [],
   "source": [
    "print '\\n'.join(str(p) for p in myList) "
   ]
  },
  {
   "cell_type": "markdown",
   "metadata": {},
   "source": [
    "### Functions"
   ]
  },
  {
   "cell_type": "code",
   "execution_count": null,
   "metadata": {
    "collapsed": true
   },
   "outputs": [],
   "source": [
    "def reader():\n",
    "    # 0 Read main link\n",
    "    dir = os.path.dirname(__file__)\n",
    "    linksfile = os.path.join(dir,'Main_links.csv') #main links HAVE to have this form: http://www.website.com NOT www.website.com\n",
    "    # 0.1 Pass company and main link\n",
    "    links = pd.read_csv(linksfile, sep=',')\n",
    "    companies = links['Company_name'].tolist()\n",
    "    main_links = links['Main_link']\n",
    "    company = companies[0]\n",
    "    main_link = main_links[0]\n",
    "    return company, main_link, dir"
   ]
  },
  {
   "cell_type": "code",
   "execution_count": null,
   "metadata": {
    "collapsed": true
   },
   "outputs": [],
   "source": []
  },
  {
   "cell_type": "code",
   "execution_count": null,
   "metadata": {
    "collapsed": true
   },
   "outputs": [],
   "source": []
  },
  {
   "cell_type": "code",
   "execution_count": null,
   "metadata": {
    "collapsed": true
   },
   "outputs": [],
   "source": []
  },
  {
   "cell_type": "code",
   "execution_count": null,
   "metadata": {
    "collapsed": true
   },
   "outputs": [],
   "source": []
  },
  {
   "cell_type": "markdown",
   "metadata": {},
   "source": [
    "<a id='loops'></a>\n",
    "[back to top](#top)\n",
    "# Loops"
   ]
  },
  {
   "cell_type": "code",
   "execution_count": null,
   "metadata": {
    "collapsed": true
   },
   "outputs": [],
   "source": [
    "a = 1000000\n",
    "for i in xrange(1000000):\n",
    "    a = a + 0.000001\n",
    "a = a - 1000000\n",
    "print a"
   ]
  },
  {
   "cell_type": "markdown",
   "metadata": {},
   "source": [
    "<a id='algo'></a>\n",
    "[back to top](#top)\n",
    "# Algorithms"
   ]
  },
  {
   "cell_type": "code",
   "execution_count": 4,
   "metadata": {},
   "outputs": [
    {
     "name": "stdout",
     "output_type": "stream",
     "text": [
      "Object `sort_values` not found.\n"
     ]
    }
   ],
   "source": []
  },
  {
   "cell_type": "code",
   "execution_count": null,
   "metadata": {
    "collapsed": true
   },
   "outputs": [],
   "source": []
  },
  {
   "cell_type": "code",
   "execution_count": null,
   "metadata": {
    "collapsed": true
   },
   "outputs": [],
   "source": []
  },
  {
   "cell_type": "code",
   "execution_count": null,
   "metadata": {
    "collapsed": true
   },
   "outputs": [],
   "source": []
  },
  {
   "cell_type": "code",
   "execution_count": null,
   "metadata": {
    "collapsed": true
   },
   "outputs": [],
   "source": []
  },
  {
   "cell_type": "code",
   "execution_count": null,
   "metadata": {
    "collapsed": true
   },
   "outputs": [],
   "source": []
  },
  {
   "cell_type": "markdown",
   "metadata": {},
   "source": [
    "<a id='ml'></a>\n",
    "[back to top](#top)\n",
    "# Machine Learning"
   ]
  },
  {
   "cell_type": "markdown",
   "metadata": {},
   "source": [
    "## NLP <a id='nlp'></a>"
   ]
  },
  {
   "cell_type": "markdown",
   "metadata": {},
   "source": [
    "### LDA - Latent Dirichlet Allocation <a id='nlp'></a>"
   ]
  },
  {
   "cell_type": "code",
   "execution_count": null,
   "metadata": {
    "collapsed": true
   },
   "outputs": [],
   "source": [
    "dictionary = corpora.Dictionary(texts)\n",
    "    \n",
    "# convert tokenized documents into a document-term matrix\n",
    "corpus = [dictionary.doc2bow(text) for text in texts]\n",
    "\n",
    "# generate LDA model\n",
    "ldamodel = gensim.models.ldamodel.LdaModel(corpus, num_topics=2, id2word = dictionary, passes=20)\n",
    "# num_topics: \n",
    "\n",
    "# review topics\n",
    "print(ldamodel.print_topics(num_topics=3, num_words=3))"
   ]
  },
  {
   "cell_type": "code",
   "execution_count": null,
   "metadata": {
    "collapsed": true
   },
   "outputs": [],
   "source": []
  },
  {
   "cell_type": "markdown",
   "metadata": {},
   "source": [
    "<a id='lib'></a>\n",
    "[back to top](#top)\n",
    "# Libraries"
   ]
  },
  {
   "cell_type": "markdown",
   "metadata": {
    "collapsed": true
   },
   "source": [
    "<a id='pandas'></a>\n",
    "### Pandas"
   ]
  },
  {
   "cell_type": "code",
   "execution_count": 1,
   "metadata": {
    "collapsed": true
   },
   "outputs": [],
   "source": [
    "import pandas as pd"
   ]
  },
  {
   "cell_type": "code",
   "execution_count": 13,
   "metadata": {},
   "outputs": [
    {
     "name": "stderr",
     "output_type": "stream",
     "text": [
      "C:\\Anaconda3\\lib\\site-packages\\ipykernel_launcher.py:1: ParserWarning: Falling back to the 'python' engine because the 'c' engine does not support regex separators (separators > 1 char and different from '\\s+' are interpreted as regex); you can avoid this warning by specifying engine='python'.\n",
      "  \"\"\"Entry point for launching an IPython kernel.\n"
     ]
    }
   ],
   "source": [
    "df = pd.read_csv(\"C:/Users/568377/Desktop/ali_cabin_preb.csv\", nrows=5, delimiter='\\t', encoding='ascii')"
   ]
  },
  {
   "cell_type": "code",
   "execution_count": 14,
   "metadata": {},
   "outputs": [
    {
     "data": {
      "text/html": [
       "<div>\n",
       "<table border=\"1\" class=\"dataframe\">\n",
       "  <thead>\n",
       "    <tr style=\"text-align: right;\">\n",
       "      <th></th>\n",
       "      <th>7KX42H\b\u000013/01/17\u0012\u00002016-03-18 13:22:3\t\u0000266430982DUSMUC\u0012\u00002013-01-25 08:15:0\u0012\u00002013-01-25 09:30:0302   MDEE \u0003\u0000.90</th>\n",
       "    </tr>\n",
       "  </thead>\n",
       "  <tbody>\n",
       "    <tr>\n",
       "      <th>0</th>\n",
       "      <td>7KX42H\b\u000013/01/17\u0012\u00002016-03-18 13:22:3\\t\u00002664309...</td>\n",
       "    </tr>\n",
       "    <tr>\n",
       "      <th>1</th>\n",
       "      <td>Z7KXQO\b\u000015/02/26\u0012\u00002016-03-18 13:22:3\\t\u00004650131...</td>\n",
       "    </tr>\n",
       "    <tr>\n",
       "      <th>2</th>\n",
       "      <td>8GR82L\b\u000016/06/20\u0012\u00002016-10-11 11:34:0\\t\u00005345623...</td>\n",
       "    </tr>\n",
       "    <tr>\n",
       "      <th>3</th>\n",
       "      <td>8GR82L\b\u000016/06/20\u0012\u00002016-10-11 11:34:0\\t\u00005345623...</td>\n",
       "    </tr>\n",
       "    <tr>\n",
       "      <th>4</th>\n",
       "      <td>8GR82L\b\u000016/06/20\u0012\u00002016-10-11 11:34:0\\t\u00005345623...</td>\n",
       "    </tr>\n",
       "  </tbody>\n",
       "</table>\n",
       "</div>"
      ],
      "text/plain": [
       "  7KX42H\b\u000013/01/17\u0012\u00002016-03-18 13:22:3\\t\u0000266430982DUSMUC\u0012\u00002013-01-25 08:15:0\u0012\u00002013-01-25 09:30:0302   MDEE \u0003\u0000.90\n",
       "0  7KX42H\b\u000013/01/17\u0012\u00002016-03-18 13:22:3\\t\u00002664309...                                                            \n",
       "1  Z7KXQO\b\u000015/02/26\u0012\u00002016-03-18 13:22:3\\t\u00004650131...                                                            \n",
       "2  8GR82L\b\u000016/06/20\u0012\u00002016-10-11 11:34:0\\t\u00005345623...                                                            \n",
       "3  8GR82L\b\u000016/06/20\u0012\u00002016-10-11 11:34:0\\t\u00005345623...                                                            \n",
       "4  8GR82L\b\u000016/06/20\u0012\u00002016-10-11 11:34:0\\t\u00005345623...                                                            "
      ]
     },
     "execution_count": 14,
     "metadata": {},
     "output_type": "execute_result"
    }
   ],
   "source": [
    "df"
   ]
  },
  {
   "cell_type": "code",
   "execution_count": null,
   "metadata": {
    "collapsed": true
   },
   "outputs": [],
   "source": [
    "# Settings\n",
    "pd.set_option('display.max_colwidth', -1) # Don't truncate single columns\n",
    "pd.set_option('display.expand_frame_repr',False) # Display all columns in the same line\n",
    "\n",
    "\n",
    "# Read csv\n",
    "train = pd.read_csv(\"input/bimbo/sample_submission.csv\", nrows=5)\n",
    "\n",
    "# Print Column Names\n",
    "list(my_dataframe.columns.values)\n",
    "\n",
    "# Save csv\n",
    "df.to_csv(file_name, sep='\\t', encoding='utf-8')\n",
    "\n",
    "# Show column headers\n",
    "list(my_dataframe.columns.values)\n",
    "\n",
    "# Df header\n",
    "DataFrame.head(n=5)[source]\n",
    "\n",
    "# Exclude columns\n",
    "df2 = df[df.columns.difference(['B', 'D'])]\n",
    "\n",
    "# Sort column\n",
    "pd.concat([pic_categories.head()]*5, ignore_index=True).sort(['Pic_id','Description_unigram'])\n",
    "sorted(x,reverse=True) # Create sorted array\n",
    "\n",
    "# Open csv containing umlauts\n",
    "df = pd.read_csv(\"data.csv\", encoding='ISO-8859-1')\n",
    "\n",
    "# Create dataframe from series\n",
    "US = pd.DataFrame({'US_states': US_states, 'US_pop': US_pop, 'US_area': US_area}) # US_states being an ndarray\n",
    "\n",
    "# Reset index\n",
    "s.reset_index(drop=True)\n",
    "\n",
    "# Select columns\n",
    "df.ix[:,'favorit']\n",
    "\n",
    "# Drop columns\n",
    "df.drop(['Column1','Column2'], axis=1, inplace=True)\n",
    "\n",
    "# Dropna drop nans\n",
    "df.dropna()\n",
    "\n",
    "df[df.col1.isnull()]\n",
    "df[df.col1.notnull()]\n",
    "\n",
    "# Filter by header\n",
    "spike_cols = [col for col in df.columns if 'spike' in col]\n",
    "\n",
    "# Transform to date\n",
    "pd.to_datetime(con_occ['TR_DATE'])\n",
    "\n",
    "# Replace\n",
    "df.replace[('hi','ho','he'),(1,2,3)]\n",
    "\n",
    "# Set column as index\n",
    "data.set_index('Locality', inplace=True)\n",
    "\n",
    "# Query by Index\n",
    "df_group_pcts[df_group_pcts.index.get_level_values('OpAirline').isin(['LH'])]\n",
    "\n",
    "# First two letters in a string (left)\n",
    "df['state'].str[:2]\n",
    "\n",
    "\n",
    "# Search & find columns by values in columns\n",
    "df1 = df.apply(lambda a: 'irst' in a.values, axis= 0)\n",
    "df1[df1 == True]\n",
    "\n",
    "# Search & Find columns by values in column headers\n",
    "df.filter(regex='(?i).egmen').head()\n",
    "# Regex documentation https://docs.python.org/2/library/re.html\n",
    "\n",
    "# Df header\n",
    "DataFrame.head(n=5)[source]\n",
    "\n",
    "# Count duplicates\n",
    "count_dup = series1.groupby(series1).count()\n",
    "\n",
    "# Count unique values\n",
    "df['SERIES_NAME'].value_counts()\n",
    "\n",
    "\n",
    "# Open csv containing umlauts\n",
    "df = pd.read_csv(\"data.csv\", encoding='ISO-8859-1')\n",
    "\n",
    "# Create dataframe\n",
    "df = pd.DataFrame(input)\n",
    "US = pd.DataFrame({'US_states': US_states, 'US_pop': US_pop, 'US_area': US_area}) # US_states being an ndarray\n",
    "\n",
    "# Reset index\n",
    "s.reset_index(drop=True)\n",
    "\n",
    "# Select columns\n",
    "df.ix[:,'favorit']\n",
    "\n",
    "# Filter by header\n",
    "spike_cols = [col for col in df.columns if 'spike' in col.lower()]\n",
    "\n",
    "# Unique values of multiple Series\n",
    "[df[a].unique() for a in age]\n",
    "\n",
    "# Transform to date\n",
    "pd.to_datetime(con_occ['TR_DATE'])\n",
    "\n",
    "# Replace\n",
    "df.replace[('hi','ho','he'),(1,2,3)]\n",
    "\n",
    "# Split Column by string character\n",
    "df_split = df[0].apply(lambda x: pd.Series(str(x).split(',')))\n",
    "\n",
    "# DataFrame to dict (preserving duplicate IDs)\n",
    "dict = {k: g[1].tolist() for k,g in df_split.groupby(0)}\n",
    "# DataFrame to dict (not preserving duplicate IDs)\n",
    "mydict = dict(zip(df.id, df.value))\n",
    "\n",
    "# Date and time\n",
    "pd.to_datetime('2015-01-01')\n",
    "\n",
    "# Count unique NAN values\n",
    "df[pd.isnull(df['DestGVG'])].groupby('DestCC_Name')['DestCC_Name'].nunique()\n",
    "\n",
    "# Write on subset of dataframe\n"
   ]
  },
  {
   "cell_type": "markdown",
   "metadata": {
    "collapsed": true
   },
   "source": [
    "<a id='lib'></a>\n",
    "[back to top](#top)\n",
    "# Libraries"
   ]
  },
  {
   "cell_type": "markdown",
   "metadata": {},
   "source": [
    "   - [folium](https://www.dataquest.io/blog/data-science-portfolio-project/) <img src='../img/folium.png' width=\"200\">\n",
    "   - numpy\n",
    "   - scipy\n",
    "   - pandas\n",
    "   - matplotlib\n",
    "   - nltk\n",
    "   - [statsmodels](http://statsmodels.sourceforge.net/) <img src='../img/statsmodel.png' width=\"200\">\n",
    "   - [Mlpy](http://mlpy.sourceforge.net/) (machine learning) <img src='../img/mlpy.png' width=\"200\">\n",
    "   - [GraphLab Create](https://pypi.python.org/pypi/GraphLab-Create) (create large-scale, high-performance data products)\n",
    "   - [PUlp](http://www.galvanize.com/blog/seven-python-tools-all-data-scientists-should-know-how-to-use/#.V3Idwvl940M) (linear programming)\n",
    "   - [Spark](http://www.galvanize.com/blog/seven-python-tools-all-data-scientists-should-know-how-to-use/#.V3Idwvl940M)\n",
    "   Machine learning:\n",
    "   - Deep learning\n",
    "     - [keras (for Theano and TensorFlow)](http://keras.io/)"
   ]
  },
  {
   "cell_type": "markdown",
   "metadata": {},
   "source": [
    "#### Print library documentation:"
   ]
  },
  {
   "cell_type": "code",
   "execution_count": null,
   "metadata": {
    "collapsed": true
   },
   "outputs": [],
   "source": [
    "print(os.__doc__)"
   ]
  },
  {
   "cell_type": "markdown",
   "metadata": {},
   "source": [
    "<a id='google'></a>\n",
    "[back to top](#top)"
   ]
  },
  {
   "cell_type": "markdown",
   "metadata": {},
   "source": [
    "# Google API"
   ]
  },
  {
   "cell_type": "code",
   "execution_count": null,
   "metadata": {
    "collapsed": true
   },
   "outputs": [],
   "source": [
    "#Setup\n",
    "https://cloud.google.com/python/setup"
   ]
  },
  {
   "cell_type": "code",
   "execution_count": null,
   "metadata": {
    "collapsed": true
   },
   "outputs": [],
   "source": [
    "# Set application key variable\n",
    "set GOOGLE_APPLICATION_CREDENTIALS=<path_to_service_account_file>"
   ]
  },
  {
   "cell_type": "markdown",
   "metadata": {},
   "source": [
    "<a id='virtualenv'></a>\n",
    "[back to top](#top)"
   ]
  },
  {
   "cell_type": "markdown",
   "metadata": {},
   "source": [
    "# Virtual Environments"
   ]
  },
  {
   "cell_type": "markdown",
   "metadata": {},
   "source": [
    "<a id='pip'></a>\n",
    "[back to top](#top)"
   ]
  },
  {
   "cell_type": "markdown",
   "metadata": {},
   "source": [
    "# Pip"
   ]
  },
  {
   "cell_type": "code",
   "execution_count": null,
   "metadata": {
    "collapsed": true
   },
   "outputs": [],
   "source": []
  },
  {
   "cell_type": "code",
   "execution_count": null,
   "metadata": {
    "collapsed": true
   },
   "outputs": [],
   "source": []
  },
  {
   "cell_type": "markdown",
   "metadata": {},
   "source": [
    "<a id='unittest'></a>\n",
    "[back to top](#top)"
   ]
  },
  {
   "cell_type": "markdown",
   "metadata": {},
   "source": [
    "# Unit test"
   ]
  },
  {
   "cell_type": "markdown",
   "metadata": {},
   "source": [
    "- pytest (pyUnit)\n",
    "- unittest\n",
    "\n",
    "### Scrapy unit testing"
   ]
  },
  {
   "cell_type": "markdown",
   "metadata": {},
   "source": [
    "- Betamax http://stackoverflow.com/questions/6456304/scrapy-unit-testing\n",
    "- fake responses plus Unittest http://stackoverflow.com/questions/6456304/scrapy-unit-testing\n"
   ]
  },
  {
   "cell_type": "code",
   "execution_count": null,
   "metadata": {
    "collapsed": true
   },
   "outputs": [],
   "source": []
  },
  {
   "cell_type": "code",
   "execution_count": null,
   "metadata": {
    "collapsed": true
   },
   "outputs": [],
   "source": []
  },
  {
   "cell_type": "markdown",
   "metadata": {
    "collapsed": true
   },
   "source": [
    "<a id='vis'></a>\n",
    "[back to top](#top)"
   ]
  },
  {
   "cell_type": "markdown",
   "metadata": {},
   "source": [
    "# Visualisation"
   ]
  },
  {
   "cell_type": "markdown",
   "metadata": {},
   "source": [
    "Embed interactive maps into jupyter notebook:\n",
    "https://www.opendatascience.com/blog/embedding-interactive-maps-into-an-ipython-notebook/"
   ]
  },
  {
   "cell_type": "code",
   "execution_count": null,
   "metadata": {
    "collapsed": true
   },
   "outputs": [],
   "source": [
    "bins=[i for i in range(0,2000,100)]\n",
    "ax=df.hist(bins=bins,alpha=0.5)\n",
    "ax.set_xlabel(\"x label\")"
   ]
  },
  {
   "cell_type": "markdown",
   "metadata": {},
   "source": [
    "<a id='tools'></a>\n",
    "[back to top](#top)"
   ]
  },
  {
   "cell_type": "markdown",
   "metadata": {},
   "source": [
    "# Tools"
   ]
  },
  {
   "cell_type": "markdown",
   "metadata": {},
   "source": [
    "<a id='sublime'></a>\n",
    "[back to top](#top)\n",
    "# Sublime"
   ]
  },
  {
   "cell_type": "code",
   "execution_count": null,
   "metadata": {
    "collapsed": true
   },
   "outputs": [],
   "source": [
    "# Anaconda package\n",
    "http://damnwidget.github.io/anaconda/"
   ]
  },
  {
   "cell_type": "code",
   "execution_count": null,
   "metadata": {
    "collapsed": true
   },
   "outputs": [],
   "source": [
    "# Settings\n",
    "https://realpython.com/blog/python/setting-up-sublime-text-3-for-full-stack-python-development/"
   ]
  },
  {
   "cell_type": "markdown",
   "metadata": {
    "collapsed": true
   },
   "source": [
    "<a id='notebook'></a>\n",
    "[back to top](#top)\n",
    "# jupyter notebook"
   ]
  },
  {
   "cell_type": "code",
   "execution_count": null,
   "metadata": {
    "collapsed": true
   },
   "outputs": [],
   "source": [
    "# pip install\n",
    "# !pip install --user prettyplotlib"
   ]
  },
  {
   "cell_type": "code",
   "execution_count": null,
   "metadata": {
    "collapsed": true
   },
   "outputs": [],
   "source": [
    "# Use the Python import command to set the system path. For example:\n",
    "# import sys, os\n",
    "\n",
    "# sys.path.append(\"\".join([os.environ[\"HOME\"],\"/.local/lib/python2.7/site-packages\"]))"
   ]
  },
  {
   "cell_type": "markdown",
   "metadata": {},
   "source": [
    "### Embed videos"
   ]
  },
  {
   "cell_type": "code",
   "execution_count": null,
   "metadata": {
    "collapsed": true
   },
   "outputs": [],
   "source": [
    "from IPython.display import HTML\n",
    "\n",
    "# Youtube\n",
    "HTML('<iframe width=\"560\" height=\"315\" src=\"https://www.youtube.com/embed/S_f2qV2_U00?rel=0&amp;controls=0&amp;showinfo=0\" frameborder=\"0\" allowfullscreen></iframe>')\n",
    "\n",
    "# Vimeo\n",
    "HTML('<iframe src=\"https://player.vimeo.com/video/26763844?title=0&byline=0&portrait=0\" width=\"700\" height=\"394\" frameborder=\"0\" webkitallowfullscreen mozallowfullscreen allowfullscreen></iframe><p><a href=\"https://vimeo.com/26763844\">BAXTER DURY - CLAIRE (Dir Cut)</a> from <a href=\"https://vimeo.com/dannysangra\">Danny Sangra</a> on <a href=\"https://vimeo.com\">Vimeo</a>.</p>')"
   ]
  },
  {
   "cell_type": "markdown",
   "metadata": {
    "collapsed": true
   },
   "source": [
    "<a id='scrapy'></a>\n",
    "[back to top](#top)"
   ]
  },
  {
   "cell_type": "markdown",
   "metadata": {},
   "source": [
    "# Scrapy"
   ]
  },
  {
   "cell_type": "markdown",
   "metadata": {},
   "source": [
    "- [basic spider properties](https://doc.scrapy.org/en/latest/topics/spiders.html#scrapy-spider)\n",
    "- [tutorials](https://potentpages.com/web-crawler-development/tutorials/scrapy/)"
   ]
  },
  {
   "cell_type": "code",
   "execution_count": null,
   "metadata": {
    "collapsed": true
   },
   "outputs": [],
   "source": [
    "# normalize whitespace in xpath\n",
    "html = response.xpath('normalize-space(//body)').extract()"
   ]
  },
  {
   "cell_type": "code",
   "execution_count": null,
   "metadata": {
    "collapsed": true
   },
   "outputs": [],
   "source": []
  },
  {
   "cell_type": "code",
   "execution_count": null,
   "metadata": {
    "collapsed": true
   },
   "outputs": [],
   "source": []
  },
  {
   "cell_type": "code",
   "execution_count": null,
   "metadata": {
    "collapsed": true
   },
   "outputs": [],
   "source": [
    "#inspect response\n",
    "scrapy.shell.inspect_response"
   ]
  },
  {
   "cell_type": "code",
   "execution_count": null,
   "metadata": {
    "collapsed": true
   },
   "outputs": [],
   "source": []
  }
 ],
 "metadata": {
  "anaconda-cloud": {},
  "kernelspec": {
   "display_name": "Python 3",
   "language": "python",
   "name": "python3"
  },
  "language_info": {
   "codemirror_mode": {
    "name": "ipython",
    "version": 3
   },
   "file_extension": ".py",
   "mimetype": "text/x-python",
   "name": "python",
   "nbconvert_exporter": "python",
   "pygments_lexer": "ipython3",
   "version": "3.6.1"
  }
 },
 "nbformat": 4,
 "nbformat_minor": 1
}
