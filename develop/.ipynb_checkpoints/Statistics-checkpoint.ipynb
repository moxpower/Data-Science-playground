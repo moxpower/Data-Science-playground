{
 "cells": [
  {
   "cell_type": "markdown",
   "metadata": {},
   "source": [
    "# Categorical data"
   ]
  },
  {
   "cell_type": "markdown",
   "metadata": {},
   "source": [
    "## Hypothesis testing"
   ]
  },
  {
   "cell_type": "markdown",
   "metadata": {},
   "source": [
    "### $\\chi^²$ test of independency\n",
    "#### *is variation in data due to chance or one of the variables?*"
   ]
  },
  {
   "cell_type": "markdown",
   "metadata": {},
   "source": [
    "<img src=\"../img/chi2.png\" width=\"200\">\n",
    "- Es wird eine Hypothese aufgestellt (Bsp.: Bartlänge ist unabhängig von Alter).\n",
    "- Der Wertebereich wird in $k$ Klassen\n",
    "- Wir testen wieviele Werte in den jeweiligen Klassen liegen ($O_i$)\n",
    "- Wir berechnen erwarteten Beobachtungen in den Klassen ($E_i$)\n",
    "- Wir berechnen den Test (T) und vergleichen mit dem theoretischen Wert ($\\chi^2_t$) <font color=\"red\">unter einem Signifikanzniveau $\\alpha$</font>\n",
    "- Falls T > $\\chi^2_t$ muss Hypothese unter Signifikanzniveau alpha verworfen werden"
   ]
  },
  {
   "cell_type": "markdown",
   "metadata": {},
   "source": [
    "Significance level $\\alpha$: I am 1-$\\alpha$ sure that I'm accepting or not accepting a hypothesis."
   ]
  },
  {
   "cell_type": "markdown",
   "metadata": {},
   "source": [
    "Significance does not imply importance"
   ]
  },
  {
   "cell_type": "markdown",
   "metadata": {},
   "source": [
    "#### Take away:"
   ]
  },
  {
   "cell_type": "markdown",
   "metadata": {},
   "source": [
    "$\\Rightarrow$ The $\\chi^2$ test lets us find out if a null hypothesis is true."
   ]
  },
  {
   "cell_type": "markdown",
   "metadata": {},
   "source": [
    "$\\Rightarrow$ Watson uses $\\chi^2$ test to tell whether a feature is a predictor of the target variable."
   ]
  },
  {
   "cell_type": "markdown",
   "metadata": {},
   "source": [
    "#### *Example* [i](http://www.r-tutor.com/elementary-statistics/goodness-fit/chi-squared-test-independence):"
   ]
  },
  {
   "cell_type": "code",
   "execution_count": 130,
   "metadata": {
    "collapsed": true
   },
   "outputs": [],
   "source": [
    "library(MASS)\n",
    "library(ggplot2)\n",
    "library(reshape2)"
   ]
  },
  {
   "cell_type": "code",
   "execution_count": 27,
   "metadata": {
    "collapsed": false
   },
   "outputs": [
    {
     "data": {
      "text/plain": [
       "       \n",
       "        Freq None Some\n",
       "  Heavy    7    1    3\n",
       "  Never   87   18   84\n",
       "  Occas   12    3    4\n",
       "  Regul    9    1    7"
      ]
     },
     "metadata": {},
     "output_type": "display_data"
    }
   ],
   "source": [
    "tbl = table(survey$Smoke, survey$Exer); tbl"
   ]
  },
  {
   "cell_type": "markdown",
   "metadata": {},
   "source": [
    "Hypothesis: Students smoking habit is independent of their exercise level at 0.05 significance level"
   ]
  },
  {
   "cell_type": "code",
   "execution_count": 46,
   "metadata": {
    "collapsed": false
   },
   "outputs": [
    {
     "name": "stderr",
     "output_type": "stream",
     "text": [
      "Warning message:\n",
      "In chisq.test(tbl): Chi-squared approximation may be incorrect"
     ]
    }
   ],
   "source": [
    "my.chi <- chisq.test(tbl) # chi^2 test #the warning message indicates small cell values in the table\n",
    "#chisq.test(tbl, simulate.p.value = TRUE) #or alternatively\n",
    "#ctbl = cbind(tbl[,\"Freq\"],tbl[,\"None\"]+tbl[,\"Some\"]); chisq.test(ctbl)"
   ]
  },
  {
   "cell_type": "code",
   "execution_count": 48,
   "metadata": {
    "collapsed": false
   },
   "outputs": [
    {
     "data": {
      "text/html": [
       "<ol class=list-inline>\n",
       "\t<li>\"statistic\"</li>\n",
       "\t<li>\"parameter\"</li>\n",
       "\t<li>\"p.value\"</li>\n",
       "\t<li>\"method\"</li>\n",
       "\t<li>\"data.name\"</li>\n",
       "\t<li>\"observed\"</li>\n",
       "\t<li>\"expected\"</li>\n",
       "\t<li>\"residuals\"</li>\n",
       "\t<li>\"stdres\"</li>\n",
       "</ol>\n"
      ],
      "text/latex": [
       "\\begin{enumerate*}\n",
       "\\item \"statistic\"\n",
       "\\item \"parameter\"\n",
       "\\item \"p.value\"\n",
       "\\item \"method\"\n",
       "\\item \"data.name\"\n",
       "\\item \"observed\"\n",
       "\\item \"expected\"\n",
       "\\item \"residuals\"\n",
       "\\item \"stdres\"\n",
       "\\end{enumerate*}\n"
      ],
      "text/markdown": [
       "1. \"statistic\"\n",
       "2. \"parameter\"\n",
       "3. \"p.value\"\n",
       "4. \"method\"\n",
       "5. \"data.name\"\n",
       "6. \"observed\"\n",
       "7. \"expected\"\n",
       "8. \"residuals\"\n",
       "9. \"stdres\"\n",
       "\n",
       "\n"
      ],
      "text/plain": [
       "[1] \"statistic\" \"parameter\" \"p.value\"   \"method\"    \"data.name\" \"observed\" \n",
       "[7] \"expected\"  \"residuals\" \"stdres\"   "
      ]
     },
     "metadata": {},
     "output_type": "display_data"
    }
   ],
   "source": [
    "names(my.chi)"
   ]
  },
  {
   "cell_type": "code",
   "execution_count": 52,
   "metadata": {
    "collapsed": false
   },
   "outputs": [
    {
     "data": {
      "text/plain": [
       "       \n",
       "               Freq        None        Some\n",
       "  Heavy  0.70828770 -0.06957171 -0.73356118\n",
       "  Never -0.53116543 -0.09774271  0.62274614\n",
       "  Occas  0.90099537  0.84386422 -1.38483121\n",
       "  Regul  0.24880398 -0.51025506 -0.02232721"
      ]
     },
     "metadata": {},
     "output_type": "display_data"
    }
   ],
   "source": [
    "my.chi$residuals #my.chi$observed; my.chi$expected"
   ]
  },
  {
   "cell_type": "code",
   "execution_count": 111,
   "metadata": {
    "collapsed": false
   },
   "outputs": [],
   "source": [
    "mat.chi <- as.matrix(my.chi$residuals)\n",
    "df.chi <- as.data.frame.matrix(my.chi$residuals)"
   ]
  },
  {
   "cell_type": "code",
   "execution_count": 126,
   "metadata": {
    "collapsed": false
   },
   "outputs": [
    {
     "data": {
      "text/html": [
       "<table>\n",
       "<thead><tr><th></th><th scope=col>Freq</th><th scope=col>None</th><th scope=col>Some</th></tr></thead>\n",
       "<tbody>\n",
       "\t<tr><th scope=row>Heavy</th><td> 0.7082877 </td><td>-0.06957171</td><td>-0.73356118</td></tr>\n",
       "\t<tr><th scope=row>Never</th><td>-0.5311654 </td><td>-0.09774271</td><td> 0.62274614</td></tr>\n",
       "\t<tr><th scope=row>Occas</th><td> 0.9009954 </td><td> 0.84386422</td><td>-1.38483121</td></tr>\n",
       "\t<tr><th scope=row>Regul</th><td> 0.2488040 </td><td>-0.51025506</td><td>-0.02232721</td></tr>\n",
       "</tbody>\n",
       "</table>\n"
      ],
      "text/latex": [
       "\\begin{tabular}{r|lll}\n",
       "  & Freq & None & Some\\\\\n",
       "\\hline\n",
       "\tHeavy &  0.7082877  & -0.06957171 & -0.73356118\\\\\n",
       "\tNever & -0.5311654  & -0.09774271 &  0.62274614\\\\\n",
       "\tOccas &  0.9009954  &  0.84386422 & -1.38483121\\\\\n",
       "\tRegul &  0.2488040  & -0.51025506 & -0.02232721\\\\\n",
       "\\end{tabular}\n"
      ],
      "text/plain": [
       "      Freq       None        Some       \n",
       "Heavy  0.7082877 -0.06957171 -0.73356118\n",
       "Never -0.5311654 -0.09774271  0.62274614\n",
       "Occas  0.9009954  0.84386422 -1.38483121\n",
       "Regul  0.2488040 -0.51025506 -0.02232721"
      ]
     },
     "metadata": {},
     "output_type": "display_data"
    }
   ],
   "source": [
    "df.chi"
   ]
  },
  {
   "cell_type": "code",
   "execution_count": 132,
   "metadata": {
    "collapsed": false
   },
   "outputs": [],
   "source": [
    "df.chi[\"res\"]  <- rownames(df.chi)\n",
    "df.chi <- melt( df.chi, id.vars=\"res\", value.name=\"ob\", variable.name=\"als\" ) #long format is required for ggplot"
   ]
  },
  {
   "cell_type": "code",
   "execution_count": 134,
   "metadata": {
    "collapsed": false
   },
   "outputs": [
    {
     "data": {
      "text/html": [
       "<table>\n",
       "<thead><tr><th></th><th scope=col>res</th><th scope=col>als</th><th scope=col>ob</th></tr></thead>\n",
       "<tbody>\n",
       "\t<tr><th scope=row>1</th><td>Heavy      </td><td>Freq       </td><td> 0.70828770</td></tr>\n",
       "\t<tr><th scope=row>2</th><td>Never      </td><td>Freq       </td><td>-0.53116543</td></tr>\n",
       "\t<tr><th scope=row>3</th><td>Occas      </td><td>Freq       </td><td> 0.90099537</td></tr>\n",
       "\t<tr><th scope=row>4</th><td>Regul      </td><td>Freq       </td><td> 0.24880398</td></tr>\n",
       "\t<tr><th scope=row>5</th><td>Heavy      </td><td>None       </td><td>-0.06957171</td></tr>\n",
       "\t<tr><th scope=row>6</th><td>Never      </td><td>None       </td><td>-0.09774271</td></tr>\n",
       "\t<tr><th scope=row>7</th><td>Occas      </td><td>None       </td><td> 0.84386422</td></tr>\n",
       "\t<tr><th scope=row>8</th><td>Regul      </td><td>None       </td><td>-0.51025506</td></tr>\n",
       "\t<tr><th scope=row>9</th><td>Heavy      </td><td>Some       </td><td>-0.73356118</td></tr>\n",
       "\t<tr><th scope=row>10</th><td>Never      </td><td>Some       </td><td> 0.62274614</td></tr>\n",
       "\t<tr><th scope=row>11</th><td>Occas      </td><td>Some       </td><td>-1.38483121</td></tr>\n",
       "\t<tr><th scope=row>12</th><td>Regul      </td><td>Some       </td><td>-0.02232721</td></tr>\n",
       "</tbody>\n",
       "</table>\n"
      ],
      "text/latex": [
       "\\begin{tabular}{r|lll}\n",
       "  & res & als & ob\\\\\n",
       "\\hline\n",
       "\t1 & Heavy       & Freq        &  0.70828770\\\\\n",
       "\t2 & Never       & Freq        & -0.53116543\\\\\n",
       "\t3 & Occas       & Freq        &  0.90099537\\\\\n",
       "\t4 & Regul       & Freq        &  0.24880398\\\\\n",
       "\t5 & Heavy       & None        & -0.06957171\\\\\n",
       "\t6 & Never       & None        & -0.09774271\\\\\n",
       "\t7 & Occas       & None        &  0.84386422\\\\\n",
       "\t8 & Regul       & None        & -0.51025506\\\\\n",
       "\t9 & Heavy       & Some        & -0.73356118\\\\\n",
       "\t10 & Never       & Some        &  0.62274614\\\\\n",
       "\t11 & Occas       & Some        & -1.38483121\\\\\n",
       "\t12 & Regul       & Some        & -0.02232721\\\\\n",
       "\\end{tabular}\n"
      ],
      "text/plain": [
       "   res   als  ob         \n",
       "1  Heavy Freq  0.70828770\n",
       "2  Never Freq -0.53116543\n",
       "3  Occas Freq  0.90099537\n",
       "4  Regul Freq  0.24880398\n",
       "5  Heavy None -0.06957171\n",
       "6  Never None -0.09774271\n",
       "7  Occas None  0.84386422\n",
       "8  Regul None -0.51025506\n",
       "9  Heavy Some -0.73356118\n",
       "10 Never Some  0.62274614\n",
       "11 Occas Some -1.38483121\n",
       "12 Regul Some -0.02232721"
      ]
     },
     "metadata": {},
     "output_type": "display_data"
    }
   ],
   "source": [
    "df.chi"
   ]
  },
  {
   "cell_type": "code",
   "execution_count": null,
   "metadata": {
    "collapsed": true
   },
   "outputs": [],
   "source": []
  },
  {
   "cell_type": "code",
   "execution_count": 142,
   "metadata": {
    "collapsed": false
   },
   "outputs": [
    {
     "data": {
      "text/plain": []
     },
     "metadata": {},
     "output_type": "display_data"
    },
    {
     "data": {
      "image/png": "[encoded data removed]",
      "image/svg+xml": [
       "<?xml version=\"1.0\" encoding=\"UTF-8\"?>\n",
       "<svg xmlns=\"http://www.w3.org/2000/svg\" xmlns:xlink=\"http://www.w3.org/1999/xlink\" width=\"504pt\" height=\"504pt\" viewBox=\"0 0 504 504\" version=\"1.1\">\n",
       "<defs>\n",
       "<g>\n",
       "<symbol overflow=\"visible\" id=\"glyph0-0\">\n",
       "<path style=\"stroke:none;\" d=\"M 0.789063 0 L 0.789063 -6.871094 L 5.421875 -6.871094 L 5.421875 -6.0625 L 1.695313 -6.0625 L 1.695313 -3.933594 L 4.921875 -3.933594 L 4.921875 -3.121094 L 1.695313 -3.121094 L 1.695313 0 Z M 0.789063 0 \"/>\n",
       "</symbol>\n",
       "<symbol overflow=\"visible\" id=\"glyph0-1\">\n",
       "<path style=\"stroke:none;\" d=\"M 0.625 0 L 0.625 -4.976563 L 1.382813 -4.976563 L 1.382813 -4.222656 C 1.574219 -4.574219 1.75 -4.808594 1.917969 -4.921875 C 2.078125 -5.03125 2.261719 -5.085938 2.460938 -5.089844 C 2.742188 -5.085938 3.03125 -4.996094 3.328125 -4.820313 L 3.039063 -4.035156 C 2.828125 -4.15625 2.621094 -4.21875 2.417969 -4.21875 C 2.230469 -4.21875 2.066406 -4.160156 1.921875 -4.050781 C 1.773438 -3.9375 1.667969 -3.785156 1.609375 -3.589844 C 1.511719 -3.289063 1.464844 -2.960938 1.46875 -2.605469 L 1.46875 0 Z M 0.625 0 \"/>\n",
       "</symbol>\n",
       "<symbol overflow=\"visible\" id=\"glyph0-2\">\n",
       "<path style=\"stroke:none;\" d=\"M 4.039063 -1.601563 L 4.914063 -1.496094 C 4.773438 -0.980469 4.519531 -0.585938 4.148438 -0.308594 C 3.773438 -0.0273438 3.296875 0.109375 2.722656 0.113281 C 1.992188 0.109375 1.414063 -0.109375 0.992188 -0.558594 C 0.5625 -1.003906 0.351563 -1.632813 0.351563 -2.445313 C 0.351563 -3.28125 0.566406 -3.933594 0.996094 -4.394531 C 1.425781 -4.855469 1.984375 -5.085938 2.675781 -5.089844 C 3.339844 -5.085938 3.882813 -4.859375 4.308594 -4.410156 C 4.726563 -3.953125 4.9375 -3.316406 4.941406 -2.5 C 4.9375 -2.445313 4.9375 -2.371094 4.9375 -2.273438 L 1.222656 -2.273438 C 1.25 -1.726563 1.40625 -1.304688 1.6875 -1.015625 C 1.964844 -0.722656 2.308594 -0.578125 2.726563 -0.582031 C 3.03125 -0.578125 3.296875 -0.660156 3.519531 -0.824219 C 3.734375 -0.984375 3.90625 -1.242188 4.039063 -1.601563 Z M 1.269531 -2.96875 L 4.050781 -2.96875 C 4.007813 -3.382813 3.902344 -3.695313 3.730469 -3.910156 C 3.460938 -4.230469 3.113281 -4.394531 2.6875 -4.398438 C 2.296875 -4.394531 1.96875 -4.265625 1.707031 -4.007813 C 1.441406 -3.746094 1.296875 -3.398438 1.269531 -2.96875 Z M 1.269531 -2.96875 \"/>\n",
       "</symbol>\n",
       "<symbol overflow=\"visible\" id=\"glyph0-3\">\n",
       "<path style=\"stroke:none;\" d=\"M 3.804688 1.90625 L 3.804688 -0.53125 C 3.671875 -0.34375 3.488281 -0.191406 3.253906 -0.0703125 C 3.015625 0.0507813 2.765625 0.109375 2.503906 0.113281 C 1.910156 0.109375 1.402344 -0.121094 0.976563 -0.59375 C 0.546875 -1.0625 0.332031 -1.710938 0.335938 -2.535156 C 0.332031 -3.03125 0.421875 -3.480469 0.597656 -3.878906 C 0.769531 -4.277344 1.019531 -4.578125 1.351563 -4.78125 C 1.679688 -4.984375 2.042969 -5.085938 2.4375 -5.089844 C 3.050781 -5.085938 3.535156 -4.828125 3.890625 -4.3125 L 3.890625 -4.976563 L 4.648438 -4.976563 L 4.648438 1.90625 Z M 1.203125 -2.503906 C 1.199219 -1.859375 1.335938 -1.378906 1.605469 -1.0625 C 1.875 -0.738281 2.195313 -0.578125 2.574219 -0.582031 C 2.929688 -0.578125 3.238281 -0.730469 3.5 -1.039063 C 3.757813 -1.339844 3.890625 -1.804688 3.890625 -2.429688 C 3.890625 -3.089844 3.753906 -3.585938 3.480469 -3.921875 C 3.207031 -4.253906 2.882813 -4.421875 2.515625 -4.425781 C 2.148438 -4.421875 1.839844 -4.265625 1.585938 -3.957031 C 1.328125 -3.644531 1.199219 -3.160156 1.203125 -2.503906 Z M 1.203125 -2.503906 \"/>\n",
       "</symbol>\n",
       "<symbol overflow=\"visible\" id=\"glyph0-4\">\n",
       "<path style=\"stroke:none;\" d=\"M 0.730469 0 L 0.730469 -6.871094 L 1.664063 -6.871094 L 5.273438 -1.476563 L 5.273438 -6.871094 L 6.144531 -6.871094 L 6.144531 0 L 5.210938 0 L 1.601563 -5.398438 L 1.601563 0 Z M 0.730469 0 \"/>\n",
       "</symbol>\n",
       "<symbol overflow=\"visible\" id=\"glyph0-5\">\n",
       "<path style=\"stroke:none;\" d=\"M 0.320313 -2.488281 C 0.316406 -3.40625 0.570313 -4.089844 1.085938 -4.539063 C 1.511719 -4.902344 2.035156 -5.085938 2.652344 -5.089844 C 3.335938 -5.085938 3.894531 -4.863281 4.332031 -4.417969 C 4.761719 -3.96875 4.980469 -3.347656 4.984375 -2.558594 C 4.980469 -1.914063 4.882813 -1.410156 4.695313 -1.046875 C 4.5 -0.675781 4.222656 -0.390625 3.855469 -0.191406 C 3.488281 0.0117188 3.085938 0.109375 2.652344 0.113281 C 1.953125 0.109375 1.390625 -0.109375 0.964844 -0.554688 C 0.53125 -1 0.316406 -1.644531 0.320313 -2.488281 Z M 1.1875 -2.488281 C 1.183594 -1.847656 1.320313 -1.371094 1.601563 -1.054688 C 1.875 -0.738281 2.226563 -0.578125 2.652344 -0.582031 C 3.070313 -0.578125 3.417969 -0.738281 3.699219 -1.058594 C 3.972656 -1.375 4.113281 -1.859375 4.117188 -2.515625 C 4.113281 -3.128906 3.972656 -3.597656 3.695313 -3.914063 C 3.414063 -4.230469 3.066406 -4.386719 2.652344 -4.390625 C 2.226563 -4.386719 1.875 -4.230469 1.601563 -3.917969 C 1.320313 -3.601563 1.183594 -3.125 1.1875 -2.488281 Z M 1.1875 -2.488281 \"/>\n",
       "</symbol>\n",
       "<symbol overflow=\"visible\" id=\"glyph0-6\">\n",
       "<path style=\"stroke:none;\" d=\"M 0.632813 0 L 0.632813 -4.976563 L 1.390625 -4.976563 L 1.390625 -4.269531 C 1.753906 -4.8125 2.285156 -5.085938 2.976563 -5.089844 C 3.273438 -5.085938 3.546875 -5.03125 3.800781 -4.925781 C 4.050781 -4.816406 4.238281 -4.675781 4.367188 -4.503906 C 4.488281 -4.328125 4.578125 -4.121094 4.632813 -3.882813 C 4.660156 -3.722656 4.675781 -3.449219 4.679688 -3.0625 L 4.679688 0 L 3.835938 0 L 3.835938 -3.027344 C 3.832031 -3.367188 3.796875 -3.625 3.734375 -3.796875 C 3.664063 -3.96875 3.550781 -4.105469 3.386719 -4.207031 C 3.21875 -4.308594 3.019531 -4.359375 2.796875 -4.359375 C 2.433594 -4.359375 2.125 -4.242188 1.867188 -4.015625 C 1.605469 -3.785156 1.476563 -3.355469 1.476563 -2.71875 L 1.476563 0 Z M 0.632813 0 \"/>\n",
       "</symbol>\n",
       "<symbol overflow=\"visible\" id=\"glyph0-7\">\n",
       "<path style=\"stroke:none;\" d=\"M 0.429688 -2.207031 L 1.289063 -2.28125 C 1.328125 -1.933594 1.421875 -1.652344 1.574219 -1.433594 C 1.71875 -1.210938 1.949219 -1.035156 2.265625 -0.902344 C 2.574219 -0.765625 2.925781 -0.695313 3.320313 -0.699219 C 3.664063 -0.695313 3.96875 -0.746094 4.238281 -0.851563 C 4.5 -0.953125 4.699219 -1.097656 4.828125 -1.277344 C 4.957031 -1.457031 5.019531 -1.652344 5.023438 -1.867188 C 5.019531 -2.078125 4.957031 -2.265625 4.835938 -2.429688 C 4.707031 -2.589844 4.503906 -2.726563 4.21875 -2.835938 C 4.03125 -2.90625 3.621094 -3.015625 2.992188 -3.171875 C 2.359375 -3.320313 1.917969 -3.464844 1.667969 -3.601563 C 1.335938 -3.769531 1.089844 -3.980469 0.933594 -4.238281 C 0.769531 -4.488281 0.691406 -4.773438 0.695313 -5.09375 C 0.691406 -5.4375 0.789063 -5.761719 0.988281 -6.066406 C 1.183594 -6.363281 1.472656 -6.59375 1.851563 -6.753906 C 2.226563 -6.90625 2.644531 -6.984375 3.113281 -6.988281 C 3.617188 -6.984375 4.066406 -6.902344 4.457031 -6.742188 C 4.84375 -6.574219 5.144531 -6.332031 5.355469 -6.015625 C 5.566406 -5.695313 5.679688 -5.335938 5.695313 -4.9375 L 4.824219 -4.871094 C 4.773438 -5.300781 4.617188 -5.628906 4.347656 -5.855469 C 4.074219 -6.074219 3.671875 -6.1875 3.148438 -6.1875 C 2.59375 -6.1875 2.195313 -6.085938 1.945313 -5.882813 C 1.695313 -5.679688 1.570313 -5.4375 1.570313 -5.15625 C 1.570313 -4.90625 1.65625 -4.703125 1.835938 -4.546875 C 2.007813 -4.386719 2.464844 -4.222656 3.207031 -4.054688 C 3.941406 -3.886719 4.449219 -3.738281 4.730469 -3.617188 C 5.125 -3.429688 5.421875 -3.199219 5.613281 -2.917969 C 5.804688 -2.632813 5.898438 -2.304688 5.902344 -1.941406 C 5.898438 -1.570313 5.792969 -1.226563 5.585938 -0.90625 C 5.375 -0.582031 5.074219 -0.332031 4.683594 -0.152344 C 4.289063 0.0273438 3.847656 0.117188 3.359375 0.117188 C 2.734375 0.117188 2.214844 0.0273438 1.796875 -0.152344 C 1.375 -0.332031 1.046875 -0.605469 0.808594 -0.972656 C 0.566406 -1.335938 0.4375 -1.746094 0.429688 -2.207031 Z M 0.429688 -2.207031 \"/>\n",
       "</symbol>\n",
       "<symbol overflow=\"visible\" id=\"glyph0-8\">\n",
       "<path style=\"stroke:none;\" d=\"M 0.632813 0 L 0.632813 -4.976563 L 1.386719 -4.976563 L 1.386719 -4.28125 C 1.539063 -4.519531 1.746094 -4.714844 2.007813 -4.867188 C 2.265625 -5.011719 2.5625 -5.085938 2.898438 -5.089844 C 3.261719 -5.085938 3.5625 -5.007813 3.800781 -4.859375 C 4.035156 -4.703125 4.203125 -4.492188 4.304688 -4.21875 C 4.695313 -4.796875 5.207031 -5.085938 5.839844 -5.089844 C 6.332031 -5.085938 6.710938 -4.949219 6.980469 -4.679688 C 7.242188 -4.402344 7.375 -3.980469 7.378906 -3.417969 L 7.378906 0 L 6.539063 0 L 6.539063 -3.136719 C 6.539063 -3.46875 6.511719 -3.710938 6.457031 -3.863281 C 6.402344 -4.007813 6.300781 -4.128906 6.160156 -4.222656 C 6.011719 -4.3125 5.84375 -4.359375 5.652344 -4.359375 C 5.300781 -4.359375 5.011719 -4.242188 4.78125 -4.007813 C 4.546875 -3.773438 4.429688 -3.398438 4.433594 -2.890625 L 4.433594 0 L 3.589844 0 L 3.589844 -3.234375 C 3.585938 -3.609375 3.515625 -3.890625 3.382813 -4.078125 C 3.242188 -4.265625 3.019531 -4.359375 2.710938 -4.359375 C 2.46875 -4.359375 2.25 -4.296875 2.050781 -4.171875 C 1.847656 -4.046875 1.699219 -3.863281 1.613281 -3.621094 C 1.519531 -3.378906 1.476563 -3.03125 1.476563 -2.582031 L 1.476563 0 Z M 0.632813 0 \"/>\n",
       "</symbol>\n",
       "<symbol overflow=\"visible\" id=\"glyph0-9\">\n",
       "<path style=\"stroke:none;\" d=\"M 0.304688 -2.0625 L 0.304688 -2.910156 L 2.898438 -2.910156 L 2.898438 -2.0625 Z M 0.304688 -2.0625 \"/>\n",
       "</symbol>\n",
       "<symbol overflow=\"visible\" id=\"glyph0-10\">\n",
       "<path style=\"stroke:none;\" d=\"M 3.578125 0 L 2.734375 0 L 2.734375 -5.375 C 2.527344 -5.179688 2.261719 -4.988281 1.933594 -4.792969 C 1.601563 -4.597656 1.304688 -4.453125 1.046875 -4.359375 L 1.046875 -5.175781 C 1.515625 -5.394531 1.925781 -5.664063 2.28125 -5.980469 C 2.632813 -6.292969 2.882813 -6.597656 3.03125 -6.898438 L 3.578125 -6.898438 Z M 3.578125 0 \"/>\n",
       "</symbol>\n",
       "<symbol overflow=\"visible\" id=\"glyph0-11\">\n",
       "<path style=\"stroke:none;\" d=\"M 0.871094 0 L 0.871094 -0.960938 L 1.832031 -0.960938 L 1.832031 0 Z M 0.871094 0 \"/>\n",
       "</symbol>\n",
       "<symbol overflow=\"visible\" id=\"glyph0-12\">\n",
       "<path style=\"stroke:none;\" d=\"M 0.398438 -1.800781 L 1.285156 -1.875 C 1.347656 -1.441406 1.5 -1.117188 1.742188 -0.902344 C 1.976563 -0.683594 2.265625 -0.574219 2.605469 -0.578125 C 3.007813 -0.574219 3.351563 -0.726563 3.636719 -1.035156 C 3.914063 -1.339844 4.054688 -1.746094 4.058594 -2.253906 C 4.054688 -2.734375 3.917969 -3.113281 3.652344 -3.394531 C 3.378906 -3.667969 3.027344 -3.808594 2.59375 -3.8125 C 2.316406 -3.808594 2.070313 -3.746094 1.855469 -3.625 C 1.632813 -3.5 1.460938 -3.339844 1.339844 -3.144531 L 0.546875 -3.25 L 1.214844 -6.777344 L 4.632813 -6.777344 L 4.632813 -5.972656 L 1.890625 -5.972656 L 1.519531 -4.125 C 1.925781 -4.410156 2.359375 -4.550781 2.816406 -4.554688 C 3.414063 -4.550781 3.921875 -4.34375 4.335938 -3.929688 C 4.746094 -3.511719 4.949219 -2.976563 4.953125 -2.328125 C 4.949219 -1.703125 4.769531 -1.167969 4.410156 -0.71875 C 3.96875 -0.160156 3.367188 0.117188 2.605469 0.117188 C 1.976563 0.117188 1.464844 -0.0546875 1.074219 -0.40625 C 0.675781 -0.753906 0.453125 -1.21875 0.398438 -1.800781 Z M 0.398438 -1.800781 \"/>\n",
       "</symbol>\n",
       "<symbol overflow=\"visible\" id=\"glyph0-13\">\n",
       "<path style=\"stroke:none;\" d=\"M 0.398438 -3.390625 C 0.398438 -4.199219 0.480469 -4.851563 0.648438 -5.351563 C 0.8125 -5.84375 1.0625 -6.226563 1.394531 -6.496094 C 1.722656 -6.761719 2.136719 -6.894531 2.640625 -6.898438 C 3.003906 -6.894531 3.328125 -6.820313 3.609375 -6.675781 C 3.886719 -6.523438 4.113281 -6.3125 4.296875 -6.035156 C 4.476563 -5.753906 4.621094 -5.410156 4.722656 -5.011719 C 4.824219 -4.605469 4.875 -4.066406 4.878906 -3.390625 C 4.875 -2.582031 4.792969 -1.929688 4.628906 -1.4375 C 4.464844 -0.9375 4.214844 -0.554688 3.886719 -0.289063 C 3.554688 -0.015625 3.140625 0.117188 2.640625 0.117188 C 1.972656 0.117188 1.453125 -0.117188 1.078125 -0.59375 C 0.625 -1.164063 0.398438 -2.097656 0.398438 -3.390625 Z M 1.265625 -3.390625 C 1.265625 -2.257813 1.394531 -1.507813 1.660156 -1.136719 C 1.921875 -0.761719 2.25 -0.574219 2.640625 -0.578125 C 3.023438 -0.574219 3.347656 -0.761719 3.613281 -1.140625 C 3.875 -1.511719 4.007813 -2.261719 4.011719 -3.390625 C 4.007813 -4.519531 3.875 -5.269531 3.613281 -5.644531 C 3.347656 -6.011719 3.019531 -6.199219 2.628906 -6.203125 C 2.238281 -6.199219 1.929688 -6.035156 1.703125 -5.710938 C 1.410156 -5.289063 1.265625 -4.515625 1.265625 -3.390625 Z M 1.265625 -3.390625 \"/>\n",
       "</symbol>\n",
       "<symbol overflow=\"visible\" id=\"glyph1-0\">\n",
       "<path style=\"stroke:none;\" d=\"M 0.398438 -3.109375 C 0.398438 -4.261719 0.71875 -5.117188 1.359375 -5.671875 C 1.894531 -6.132813 2.546875 -6.363281 3.316406 -6.363281 C 4.171875 -6.363281 4.871094 -6.082031 5.414063 -5.519531 C 5.953125 -4.957031 6.222656 -4.183594 6.226563 -3.199219 C 6.222656 -2.398438 6.101563 -1.765625 5.867188 -1.308594 C 5.625 -0.847656 5.277344 -0.492188 4.820313 -0.238281 C 4.359375 0.015625 3.859375 0.140625 3.316406 0.140625 C 2.441406 0.140625 1.734375 -0.136719 1.203125 -0.695313 C 0.664063 -1.253906 0.398438 -2.058594 0.398438 -3.109375 Z M 1.484375 -3.109375 C 1.480469 -2.308594 1.65625 -1.710938 2.003906 -1.320313 C 2.347656 -0.921875 2.785156 -0.726563 3.316406 -0.726563 C 3.839844 -0.726563 4.273438 -0.925781 4.621094 -1.324219 C 4.96875 -1.722656 5.144531 -2.328125 5.144531 -3.148438 C 5.144531 -3.914063 4.96875 -4.496094 4.617188 -4.894531 C 4.265625 -5.289063 3.832031 -5.488281 3.316406 -5.492188 C 2.785156 -5.488281 2.347656 -5.292969 2.003906 -4.898438 C 1.65625 -4.5 1.480469 -3.902344 1.484375 -3.109375 Z M 1.484375 -3.109375 \"/>\n",
       "</symbol>\n",
       "<symbol overflow=\"visible\" id=\"glyph1-1\">\n",
       "<path style=\"stroke:none;\" d=\"M 1.765625 0 L 0.785156 0 L 0.785156 -8.589844 L 1.839844 -8.589844 L 1.839844 -5.523438 C 2.285156 -6.082031 2.851563 -6.363281 3.546875 -6.363281 C 3.921875 -6.363281 4.285156 -6.285156 4.628906 -6.128906 C 4.972656 -5.972656 5.253906 -5.753906 5.472656 -5.480469 C 5.691406 -5.199219 5.863281 -4.863281 5.992188 -4.46875 C 6.113281 -4.074219 6.175781 -3.652344 6.179688 -3.203125 C 6.175781 -2.136719 5.914063 -1.3125 5.390625 -0.730469 C 4.863281 -0.148438 4.230469 0.140625 3.492188 0.140625 C 2.757813 0.140625 2.179688 -0.164063 1.765625 -0.78125 Z M 1.75 -3.15625 C 1.746094 -2.410156 1.847656 -1.871094 2.054688 -1.539063 C 2.386719 -0.996094 2.835938 -0.726563 3.40625 -0.726563 C 3.859375 -0.726563 4.257813 -0.925781 4.597656 -1.328125 C 4.929688 -1.726563 5.097656 -2.324219 5.101563 -3.117188 C 5.097656 -3.929688 4.9375 -4.527344 4.617188 -4.914063 C 4.296875 -5.300781 3.90625 -5.496094 3.453125 -5.496094 C 2.984375 -5.496094 2.585938 -5.292969 2.253906 -4.894531 C 1.914063 -4.492188 1.746094 -3.914063 1.75 -3.15625 Z M 1.75 -3.15625 \"/>\n",
       "</symbol>\n",
       "<symbol overflow=\"visible\" id=\"glyph2-0\">\n",
       "<path style=\"stroke:none;\" d=\"M -0.765625 -4.851563 C -0.433594 -4.460938 -0.199219 -4.082031 -0.0625 -3.722656 C 0.0742188 -3.355469 0.140625 -2.96875 0.140625 -2.5625 C 0.140625 -1.875 -0.0234375 -1.351563 -0.359375 -0.984375 C -0.6875 -0.617188 -1.117188 -0.433594 -1.640625 -0.433594 C -1.945313 -0.433594 -2.222656 -0.5 -2.472656 -0.640625 C -2.722656 -0.777344 -2.925781 -0.960938 -3.082031 -1.1875 C -3.234375 -1.410156 -3.347656 -1.664063 -3.429688 -1.945313 C -3.476563 -2.152344 -3.53125 -2.464844 -3.585938 -2.882813 C -3.6875 -3.734375 -3.808594 -4.359375 -3.949219 -4.765625 C -4.089844 -4.765625 -4.179688 -4.769531 -4.226563 -4.769531 C -4.648438 -4.769531 -4.953125 -4.667969 -5.132813 -4.46875 C -5.371094 -4.199219 -5.488281 -3.800781 -5.492188 -3.269531 C -5.488281 -2.773438 -5.402344 -2.40625 -5.230469 -2.171875 C -5.054688 -1.933594 -4.746094 -1.757813 -4.304688 -1.648438 L -4.445313 -0.617188 C -4.886719 -0.707031 -5.242188 -0.863281 -5.515625 -1.078125 C -5.78125 -1.292969 -5.992188 -1.601563 -6.140625 -2.011719 C -6.289063 -2.414063 -6.363281 -2.886719 -6.363281 -3.421875 C -6.363281 -3.953125 -6.300781 -4.382813 -6.175781 -4.714844 C -6.050781 -5.046875 -5.890625 -5.292969 -5.703125 -5.449219 C -5.511719 -5.605469 -5.273438 -5.714844 -4.984375 -5.777344 C -4.804688 -5.808594 -4.480469 -5.824219 -4.015625 -5.828125 L -2.605469 -5.828125 C -1.625 -5.824219 -1.003906 -5.847656 -0.746094 -5.894531 C -0.480469 -5.941406 -0.234375 -6.03125 0 -6.164063 L 0 -5.0625 C -0.21875 -4.953125 -0.472656 -4.882813 -0.765625 -4.851563 Z M -3.121094 -4.765625 C -2.960938 -4.375 -2.828125 -3.800781 -2.726563 -3.039063 C -2.660156 -2.605469 -2.589844 -2.300781 -2.515625 -2.121094 C -2.433594 -1.941406 -2.320313 -1.800781 -2.171875 -1.703125 C -2.019531 -1.605469 -1.851563 -1.558594 -1.671875 -1.558594 C -1.386719 -1.558594 -1.152344 -1.664063 -0.964844 -1.875 C -0.773438 -2.085938 -0.679688 -2.398438 -0.683594 -2.8125 C -0.679688 -3.21875 -0.769531 -3.578125 -0.949219 -3.894531 C -1.128906 -4.210938 -1.371094 -4.445313 -1.679688 -4.59375 C -1.917969 -4.707031 -2.269531 -4.761719 -2.734375 -4.765625 Z M -3.121094 -4.765625 \"/>\n",
       "</symbol>\n",
       "<symbol overflow=\"visible\" id=\"glyph2-1\">\n",
       "<path style=\"stroke:none;\" d=\"M 0 -0.765625 L -8.589844 -0.769531 L -8.589844 -1.824219 L 0 -1.820313 Z M 0 -0.765625 \"/>\n",
       "</symbol>\n",
       "<symbol overflow=\"visible\" id=\"glyph2-2\">\n",
       "<path style=\"stroke:none;\" d=\"M -1.859375 -0.371094 L -2.023438 -1.414063 C -1.601563 -1.46875 -1.28125 -1.632813 -1.058594 -1.902344 C -0.835938 -2.167969 -0.726563 -2.542969 -0.726563 -3.023438 C -0.726563 -3.507813 -0.824219 -3.867188 -1.019531 -4.101563 C -1.214844 -4.335938 -1.445313 -4.453125 -1.714844 -4.453125 C -1.953125 -4.453125 -2.140625 -4.347656 -2.277344 -4.140625 C -2.367188 -3.996094 -2.488281 -3.636719 -2.636719 -3.0625 C -2.832031 -2.289063 -3 -1.753906 -3.144531 -1.457031 C -3.285156 -1.15625 -3.480469 -0.929688 -3.734375 -0.777344 C -3.984375 -0.621094 -4.265625 -0.542969 -4.570313 -0.546875 C -4.84375 -0.542969 -5.097656 -0.605469 -5.339844 -0.734375 C -5.574219 -0.859375 -5.773438 -1.035156 -5.929688 -1.253906 C -6.046875 -1.417969 -6.148438 -1.640625 -6.234375 -1.925781 C -6.320313 -2.207031 -6.363281 -2.511719 -6.363281 -2.835938 C -6.363281 -3.324219 -6.292969 -3.75 -6.152344 -4.121094 C -6.011719 -4.488281 -5.820313 -4.761719 -5.578125 -4.9375 C -5.335938 -5.113281 -5.015625 -5.234375 -4.617188 -5.304688 L -4.476563 -4.273438 C -4.796875 -4.222656 -5.046875 -4.085938 -5.226563 -3.863281 C -5.40625 -3.636719 -5.496094 -3.320313 -5.496094 -2.914063 C -5.496094 -2.425781 -5.414063 -2.082031 -5.253906 -1.875 C -5.09375 -1.667969 -4.90625 -1.5625 -4.695313 -1.566406 C -4.554688 -1.5625 -4.433594 -1.605469 -4.324219 -1.695313 C -4.210938 -1.777344 -4.117188 -1.914063 -4.042969 -2.097656 C -4.003906 -2.203125 -3.914063 -2.511719 -3.773438 -3.03125 C -3.570313 -3.773438 -3.40625 -4.292969 -3.28125 -4.589844 C -3.15625 -4.878906 -2.972656 -5.113281 -2.730469 -5.285156 C -2.488281 -5.453125 -2.1875 -5.535156 -1.828125 -5.539063 C -1.476563 -5.535156 -1.144531 -5.433594 -0.832031 -5.230469 C -0.519531 -5.023438 -0.277344 -4.726563 -0.113281 -4.339844 C 0.0585938 -3.953125 0.140625 -3.515625 0.140625 -3.03125 C 0.140625 -2.21875 -0.0273438 -1.601563 -0.363281 -1.179688 C -0.699219 -0.753906 -1.195313 -0.484375 -1.859375 -0.371094 Z M -1.859375 -0.371094 \"/>\n",
       "</symbol>\n",
       "</g>\n",
       "<clipPath id=\"clip1\">\n",
       "  <path d=\"M 55.15625 14.398438 L 490.601563 14.398438 L 490.601563 468.050781 L 55.15625 468.050781 Z M 55.15625 14.398438 \"/>\n",
       "</clipPath>\n",
       "</defs>\n",
       "<g id=\"surface41\">\n",
       "<rect x=\"0\" y=\"0\" width=\"504\" height=\"504\" style=\"fill:rgb(100%,100%,100%);fill-opacity:1;stroke:none;\"/>\n",
       "<rect x=\"0\" y=\"0\" width=\"504\" height=\"504\" style=\"fill:rgb(100%,100%,100%);fill-opacity:1;stroke:none;\"/>\n",
       "<path style=\"fill:none;stroke-width:1.062992;stroke-linecap:round;stroke-linejoin:round;stroke:rgb(100%,100%,100%);stroke-opacity:1;stroke-miterlimit:10;\" d=\"M 0 504 L 504 504 L 504 0 L 0 0 Z M 0 504 \"/>\n",
       "<g clip-path=\"url(#clip1)\" clip-rule=\"nonzero\">\n",
       "<path style=\" stroke:none;fill-rule:nonzero;fill:rgb(89.803922%,89.803922%,89.803922%);fill-opacity:1;\" d=\"M 55.15625 467.050781 L 489.601563 467.050781 L 489.601563 14.398438 L 55.15625 14.398438 Z M 55.15625 467.050781 \"/>\n",
       "<path style=\"fill:none;stroke-width:0.531496;stroke-linecap:butt;stroke-linejoin:round;stroke:rgb(94.901961%,94.901961%,94.901961%);stroke-opacity:1;stroke-miterlimit:10;\" d=\"M 99.621094 467.050781 L 99.621094 14.398438 \"/>\n",
       "<path style=\"fill:none;stroke-width:0.531496;stroke-linecap:butt;stroke-linejoin:round;stroke:rgb(94.901961%,94.901961%,94.901961%);stroke-opacity:1;stroke-miterlimit:10;\" d=\"M 185.304688 467.050781 L 185.304688 14.398438 \"/>\n",
       "<path style=\"fill:none;stroke-width:0.531496;stroke-linecap:butt;stroke-linejoin:round;stroke:rgb(94.901961%,94.901961%,94.901961%);stroke-opacity:1;stroke-miterlimit:10;\" d=\"M 270.992188 467.050781 L 270.992188 14.398438 \"/>\n",
       "<path style=\"fill:none;stroke-width:0.531496;stroke-linecap:butt;stroke-linejoin:round;stroke:rgb(94.901961%,94.901961%,94.901961%);stroke-opacity:1;stroke-miterlimit:10;\" d=\"M 356.679688 467.050781 L 356.679688 14.398438 \"/>\n",
       "<path style=\"fill:none;stroke-width:0.531496;stroke-linecap:butt;stroke-linejoin:round;stroke:rgb(94.901961%,94.901961%,94.901961%);stroke-opacity:1;stroke-miterlimit:10;\" d=\"M 442.363281 467.050781 L 442.363281 14.398438 \"/>\n",
       "<path style=\"fill:none;stroke-width:1.062992;stroke-linecap:butt;stroke-linejoin:round;stroke:rgb(100%,100%,100%);stroke-opacity:1;stroke-miterlimit:10;\" d=\"M 55.15625 341.316406 L 489.601563 341.316406 \"/>\n",
       "<path style=\"fill:none;stroke-width:1.062992;stroke-linecap:butt;stroke-linejoin:round;stroke:rgb(100%,100%,100%);stroke-opacity:1;stroke-miterlimit:10;\" d=\"M 55.15625 215.578125 L 489.601563 215.578125 \"/>\n",
       "<path style=\"fill:none;stroke-width:1.062992;stroke-linecap:butt;stroke-linejoin:round;stroke:rgb(100%,100%,100%);stroke-opacity:1;stroke-miterlimit:10;\" d=\"M 55.15625 89.84375 L 489.601563 89.84375 \"/>\n",
       "<path style=\"fill:none;stroke-width:1.062992;stroke-linecap:butt;stroke-linejoin:round;stroke:rgb(100%,100%,100%);stroke-opacity:1;stroke-miterlimit:10;\" d=\"M 56.777344 467.050781 L 56.777344 14.398438 \"/>\n",
       "<path style=\"fill:none;stroke-width:1.062992;stroke-linecap:butt;stroke-linejoin:round;stroke:rgb(100%,100%,100%);stroke-opacity:1;stroke-miterlimit:10;\" d=\"M 142.464844 467.050781 L 142.464844 14.398438 \"/>\n",
       "<path style=\"fill:none;stroke-width:1.062992;stroke-linecap:butt;stroke-linejoin:round;stroke:rgb(100%,100%,100%);stroke-opacity:1;stroke-miterlimit:10;\" d=\"M 228.148438 467.050781 L 228.148438 14.398438 \"/>\n",
       "<path style=\"fill:none;stroke-width:1.062992;stroke-linecap:butt;stroke-linejoin:round;stroke:rgb(100%,100%,100%);stroke-opacity:1;stroke-miterlimit:10;\" d=\"M 313.835938 467.050781 L 313.835938 14.398438 \"/>\n",
       "<path style=\"fill:none;stroke-width:1.062992;stroke-linecap:butt;stroke-linejoin:round;stroke:rgb(100%,100%,100%);stroke-opacity:1;stroke-miterlimit:10;\" d=\"M 399.519531 467.050781 L 399.519531 14.398438 \"/>\n",
       "<path style=\"fill:none;stroke-width:1.062992;stroke-linecap:butt;stroke-linejoin:round;stroke:rgb(100%,100%,100%);stroke-opacity:1;stroke-miterlimit:10;\" d=\"M 485.207031 467.050781 L 485.207031 14.398438 \"/>\n",
       "<path style=\" stroke:none;fill-rule:nonzero;fill:rgb(20%,20%,20%);fill-opacity:0.301961;\" d=\"M 433.601563 467.050781 L 436.828125 467.050781 L 436.828125 341.3125 L 433.601563 341.3125 Z M 433.601563 467.050781 \"/>\n",
       "<path style=\" stroke:none;fill-rule:nonzero;fill:rgb(20%,20%,20%);fill-opacity:0.301961;\" d=\"M 221.195313 467.050781 L 224.421875 467.050781 L 224.421875 341.3125 L 221.195313 341.3125 Z M 221.195313 467.050781 \"/>\n",
       "<path style=\" stroke:none;fill-rule:nonzero;fill:rgb(20%,20%,20%);fill-opacity:0.301961;\" d=\"M 466.628906 467.050781 L 469.855469 467.050781 L 469.855469 341.3125 L 466.628906 341.3125 Z M 466.628906 467.050781 \"/>\n",
       "<path style=\" stroke:none;fill-rule:nonzero;fill:rgb(20%,20%,20%);fill-opacity:0.301961;\" d=\"M 354.859375 467.050781 L 358.085938 467.050781 L 358.085938 341.3125 L 354.859375 341.3125 Z M 354.859375 467.050781 \"/>\n",
       "<path style=\" stroke:none;fill-rule:nonzero;fill:rgb(20%,20%,20%);fill-opacity:0.301961;\" d=\"M 300.300781 467.050781 L 303.527344 467.050781 L 303.527344 215.578125 L 300.300781 215.578125 Z M 300.300781 467.050781 \"/>\n",
       "<path style=\" stroke:none;fill-rule:nonzero;fill:rgb(20%,20%,20%);fill-opacity:0.301961;\" d=\"M 295.472656 467.050781 L 298.699219 467.050781 L 298.699219 215.578125 L 295.472656 215.578125 Z M 295.472656 467.050781 \"/>\n",
       "<path style=\" stroke:none;fill-rule:nonzero;fill:rgb(20%,20%,20%);fill-opacity:0.301961;\" d=\"M 456.835938 467.050781 L 460.0625 467.050781 L 460.0625 215.578125 L 456.835938 215.578125 Z M 456.835938 467.050781 \"/>\n",
       "<path style=\" stroke:none;fill-rule:nonzero;fill:rgb(20%,20%,20%);fill-opacity:0.301961;\" d=\"M 224.78125 467.050781 L 228.007813 467.050781 L 228.007813 215.578125 L 224.78125 215.578125 Z M 224.78125 467.050781 \"/>\n",
       "<path style=\" stroke:none;fill-rule:nonzero;fill:rgb(20%,20%,20%);fill-opacity:0.301961;\" d=\"M 186.511719 467.050781 L 189.738281 467.050781 L 189.738281 89.839844 L 186.511719 89.839844 Z M 186.511719 467.050781 \"/>\n",
       "<path style=\" stroke:none;fill-rule:nonzero;fill:rgb(20%,20%,20%);fill-opacity:0.301961;\" d=\"M 418.945313 467.050781 L 422.171875 467.050781 L 422.171875 89.839844 L 418.945313 89.839844 Z M 418.945313 467.050781 \"/>\n",
       "<path style=\" stroke:none;fill-rule:nonzero;fill:rgb(20%,20%,20%);fill-opacity:0.301961;\" d=\"M 74.902344 467.050781 L 78.128906 467.050781 L 78.128906 89.839844 L 74.902344 89.839844 Z M 74.902344 467.050781 \"/>\n",
       "<path style=\" stroke:none;fill-rule:nonzero;fill:rgb(20%,20%,20%);fill-opacity:0.301961;\" d=\"M 308.394531 467.050781 L 311.621094 467.050781 L 311.621094 89.839844 L 308.394531 89.839844 Z M 308.394531 467.050781 \"/>\n",
       "</g>\n",
       "<g style=\"fill:rgb(49.803922%,49.803922%,49.803922%);fill-opacity:1;\">\n",
       "  <use xlink:href=\"#glyph0-0\" x=\"28.328125\" y=\"344.75\"/>\n",
       "  <use xlink:href=\"#glyph0-1\" x=\"34.192188\" y=\"344.75\"/>\n",
       "  <use xlink:href=\"#glyph0-2\" x=\"37.389063\" y=\"344.75\"/>\n",
       "  <use xlink:href=\"#glyph0-3\" x=\"42.728125\" y=\"344.75\"/>\n",
       "</g>\n",
       "<g style=\"fill:rgb(49.803922%,49.803922%,49.803922%);fill-opacity:1;\">\n",
       "  <use xlink:href=\"#glyph0-4\" x=\"25.117188\" y=\"219.015625\"/>\n",
       "  <use xlink:href=\"#glyph0-5\" x=\"32.05\" y=\"219.015625\"/>\n",
       "  <use xlink:href=\"#glyph0-6\" x=\"37.389062\" y=\"219.015625\"/>\n",
       "  <use xlink:href=\"#glyph0-2\" x=\"42.728125\" y=\"219.015625\"/>\n",
       "</g>\n",
       "<g style=\"fill:rgb(49.803922%,49.803922%,49.803922%);fill-opacity:1;\">\n",
       "  <use xlink:href=\"#glyph0-7\" x=\"22.988281\" y=\"93.277344\"/>\n",
       "  <use xlink:href=\"#glyph0-5\" x=\"29.391406\" y=\"93.277344\"/>\n",
       "  <use xlink:href=\"#glyph0-8\" x=\"34.730469\" y=\"93.277344\"/>\n",
       "  <use xlink:href=\"#glyph0-2\" x=\"42.727344\" y=\"93.277344\"/>\n",
       "</g>\n",
       "<path style=\"fill:none;stroke-width:1.062992;stroke-linecap:butt;stroke-linejoin:round;stroke:rgb(49.803922%,49.803922%,49.803922%);stroke-opacity:1;stroke-miterlimit:10;\" d=\"M 50.902344 341.316406 L 55.15625 341.316406 \"/>\n",
       "<path style=\"fill:none;stroke-width:1.062992;stroke-linecap:butt;stroke-linejoin:round;stroke:rgb(49.803922%,49.803922%,49.803922%);stroke-opacity:1;stroke-miterlimit:10;\" d=\"M 50.902344 215.578125 L 55.15625 215.578125 \"/>\n",
       "<path style=\"fill:none;stroke-width:1.062992;stroke-linecap:butt;stroke-linejoin:round;stroke:rgb(49.803922%,49.803922%,49.803922%);stroke-opacity:1;stroke-miterlimit:10;\" d=\"M 50.902344 89.84375 L 55.15625 89.84375 \"/>\n",
       "<path style=\"fill:none;stroke-width:1.062992;stroke-linecap:butt;stroke-linejoin:round;stroke:rgb(49.803922%,49.803922%,49.803922%);stroke-opacity:1;stroke-miterlimit:10;\" d=\"M 56.777344 471.304688 L 56.777344 467.050781 \"/>\n",
       "<path style=\"fill:none;stroke-width:1.062992;stroke-linecap:butt;stroke-linejoin:round;stroke:rgb(49.803922%,49.803922%,49.803922%);stroke-opacity:1;stroke-miterlimit:10;\" d=\"M 142.464844 471.304688 L 142.464844 467.050781 \"/>\n",
       "<path style=\"fill:none;stroke-width:1.062992;stroke-linecap:butt;stroke-linejoin:round;stroke:rgb(49.803922%,49.803922%,49.803922%);stroke-opacity:1;stroke-miterlimit:10;\" d=\"M 228.148438 471.304688 L 228.148438 467.050781 \"/>\n",
       "<path style=\"fill:none;stroke-width:1.062992;stroke-linecap:butt;stroke-linejoin:round;stroke:rgb(49.803922%,49.803922%,49.803922%);stroke-opacity:1;stroke-miterlimit:10;\" d=\"M 313.835938 471.304688 L 313.835938 467.050781 \"/>\n",
       "<path style=\"fill:none;stroke-width:1.062992;stroke-linecap:butt;stroke-linejoin:round;stroke:rgb(49.803922%,49.803922%,49.803922%);stroke-opacity:1;stroke-miterlimit:10;\" d=\"M 399.519531 471.304688 L 399.519531 467.050781 \"/>\n",
       "<path style=\"fill:none;stroke-width:1.062992;stroke-linecap:butt;stroke-linejoin:round;stroke:rgb(49.803922%,49.803922%,49.803922%);stroke-opacity:1;stroke-miterlimit:10;\" d=\"M 485.207031 471.304688 L 485.207031 467.050781 \"/>\n",
       "<g style=\"fill:rgb(49.803922%,49.803922%,49.803922%);fill-opacity:1;\">\n",
       "  <use xlink:href=\"#glyph0-9\" x=\"48.507813\" y=\"481.011719\"/>\n",
       "  <use xlink:href=\"#glyph0-10\" x=\"51.704687\" y=\"481.011719\"/>\n",
       "  <use xlink:href=\"#glyph0-11\" x=\"57.04375\" y=\"481.011719\"/>\n",
       "  <use xlink:href=\"#glyph0-12\" x=\"59.710938\" y=\"481.011719\"/>\n",
       "</g>\n",
       "<g style=\"fill:rgb(49.803922%,49.803922%,49.803922%);fill-opacity:1;\">\n",
       "  <use xlink:href=\"#glyph0-9\" x=\"134.195313\" y=\"481.011719\"/>\n",
       "  <use xlink:href=\"#glyph0-10\" x=\"137.392188\" y=\"481.011719\"/>\n",
       "  <use xlink:href=\"#glyph0-11\" x=\"142.73125\" y=\"481.011719\"/>\n",
       "  <use xlink:href=\"#glyph0-13\" x=\"145.398438\" y=\"481.011719\"/>\n",
       "</g>\n",
       "<g style=\"fill:rgb(49.803922%,49.803922%,49.803922%);fill-opacity:1;\">\n",
       "  <use xlink:href=\"#glyph0-9\" x=\"219.878906\" y=\"481.011719\"/>\n",
       "  <use xlink:href=\"#glyph0-13\" x=\"223.075781\" y=\"481.011719\"/>\n",
       "  <use xlink:href=\"#glyph0-11\" x=\"228.414844\" y=\"481.011719\"/>\n",
       "  <use xlink:href=\"#glyph0-12\" x=\"231.082031\" y=\"481.011719\"/>\n",
       "</g>\n",
       "<g style=\"fill:rgb(49.803922%,49.803922%,49.803922%);fill-opacity:1;\">\n",
       "  <use xlink:href=\"#glyph0-13\" x=\"307.164063\" y=\"481.011719\"/>\n",
       "  <use xlink:href=\"#glyph0-11\" x=\"312.503125\" y=\"481.011719\"/>\n",
       "  <use xlink:href=\"#glyph0-13\" x=\"315.170313\" y=\"481.011719\"/>\n",
       "</g>\n",
       "<g style=\"fill:rgb(49.803922%,49.803922%,49.803922%);fill-opacity:1;\">\n",
       "  <use xlink:href=\"#glyph0-13\" x=\"392.847656\" y=\"481.011719\"/>\n",
       "  <use xlink:href=\"#glyph0-11\" x=\"398.186719\" y=\"481.011719\"/>\n",
       "  <use xlink:href=\"#glyph0-12\" x=\"400.853906\" y=\"481.011719\"/>\n",
       "</g>\n",
       "<g style=\"fill:rgb(49.803922%,49.803922%,49.803922%);fill-opacity:1;\">\n",
       "  <use xlink:href=\"#glyph0-10\" x=\"478.535156\" y=\"481.011719\"/>\n",
       "  <use xlink:href=\"#glyph0-11\" x=\"483.874219\" y=\"481.011719\"/>\n",
       "  <use xlink:href=\"#glyph0-13\" x=\"486.541406\" y=\"481.011719\"/>\n",
       "</g>\n",
       "<g style=\"fill:rgb(0%,0%,0%);fill-opacity:1;\">\n",
       "  <use xlink:href=\"#glyph1-0\" x=\"265.707031\" y=\"493.199219\"/>\n",
       "  <use xlink:href=\"#glyph1-1\" x=\"272.380859\" y=\"493.199219\"/>\n",
       "</g>\n",
       "<g style=\"fill:rgb(0%,0%,0%);fill-opacity:1;\">\n",
       "  <use xlink:href=\"#glyph2-0\" x=\"19.390625\" y=\"248.398438\"/>\n",
       "  <use xlink:href=\"#glyph2-1\" x=\"19.390625\" y=\"241.724609\"/>\n",
       "  <use xlink:href=\"#glyph2-2\" x=\"19.390625\" y=\"239.058594\"/>\n",
       "</g>\n",
       "</g>\n",
       "</svg>\n"
      ],
      "text/plain": [
       "plot without title"
      ]
     },
     "metadata": {
      "image/svg+xml": {
       "isolated": true
      }
     },
     "output_type": "display_data"
    }
   ],
   "source": [
    "p <- ggplot(df.chi, aes(x= ob, y= als), fill = res) + geom_bar( position = \"identity\", stat = \"identity\", alpha = .3 )# + geom_tile(aes(fill = 'rescale'), colour = 'white') + scale_fill_gradient(low = 'white', high = 'steelblue')\n",
    "p "
   ]
  },
  {
   "cell_type": "code",
   "execution_count": 124,
   "metadata": {
    "collapsed": false
   },
   "outputs": [
    {
     "ename": "ERROR",
     "evalue": "Error in eval(expr, envir, enclos): konnte Funktion \"responseName\" nicht finden\n",
     "output_type": "error",
     "traceback": [
      "Error in eval(expr, envir, enclos): konnte Funktion \"responseName\" nicht finden\nTraceback:\n"
     ]
    }
   ],
   "source": [
    "responseName(my.chi$residuals)"
   ]
  },
  {
   "cell_type": "code",
   "execution_count": null,
   "metadata": {
    "collapsed": true
   },
   "outputs": [],
   "source": [
    "\n",
    "library(gridplot)\n",
    "row_layout(df.chi)"
   ]
  },
  {
   "cell_type": "markdown",
   "metadata": {},
   "source": [
    "# Books\n",
    "- Statistik - *Hartung*\n",
    "- Statistik - *Fahrmeir, Künstler, Pigeot, Tutz*"
   ]
  },
  {
   "cell_type": "code",
   "execution_count": null,
   "metadata": {
    "collapsed": true
   },
   "outputs": [],
   "source": []
  }
 ],
 "metadata": {
  "kernelspec": {
   "display_name": "R",
   "language": "R",
   "name": "ir"
  },
  "language_info": {
   "codemirror_mode": "r",
   "file_extension": ".r",
   "mimetype": "text/x-r-source",
   "name": "R",
   "pygments_lexer": "r",
   "version": "3.2.2"
  }
 },
 "nbformat": 4,
 "nbformat_minor": 0
}
