{
 "cells": [
  {
   "cell_type": "markdown",
   "metadata": {},
   "source": [
    "### chi² Anpassungstest"
   ]
  },
  {
   "cell_type": "markdown",
   "metadata": {},
   "source": [
    "- Es wird eine Hypothese aufgestellt (Bsp.: Bartlänge ist unabhängig von Alter).\n",
    "- Der Wertebereich wird in $k$ Klassen\n",
    "- Wir testen wieviele Werte in den jeweiligen Klassen liegen ($O_i$)\n",
    "- Wir berechnen erwarteten Beobachtungen in den Klassen ($E_i$)\n",
    "- Wir berechnen den Test (T) und vergleichen mit dem theoretischen Wert ($\\chi^2_t$) <font color=\"red\">unter einem Signifikanzniveau $\\alpha$</font>\n",
    "- Falls T > $\\chi^2_t$ muss Hypothese unter Signifikanzniveau alpha verworfen werden"
   ]
  },
  {
   "cell_type": "markdown",
   "metadata": {},
   "source": [
    "Significance level $\\alpha$"
   ]
  },
  {
   "cell_type": "markdown",
   "metadata": {},
   "source": [
    "Significance does not imply importance"
   ]
  },
  {
   "cell_type": "code",
   "execution_count": null,
   "metadata": {
    "collapsed": true
   },
   "outputs": [],
   "source": []
  }
 ],
 "metadata": {
  "kernelspec": {
   "display_name": "Python 3",
   "language": "python",
   "name": "python3"
  },
  "language_info": {
   "codemirror_mode": {
    "name": "ipython",
    "version": 3
   },
   "file_extension": ".py",
   "mimetype": "text/x-python",
   "name": "python",
   "nbconvert_exporter": "python",
   "pygments_lexer": "ipython3",
   "version": "3.5.1"
  }
 },
 "nbformat": 4,
 "nbformat_minor": 0
}
