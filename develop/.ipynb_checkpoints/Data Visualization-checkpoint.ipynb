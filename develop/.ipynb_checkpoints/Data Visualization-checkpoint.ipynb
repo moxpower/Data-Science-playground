{
 "cells": [
  {
   "cell_type": "markdown",
   "metadata": {},
   "source": [
    "# Data Visualization"
   ]
  },
  {
   "cell_type": "markdown",
   "metadata": {},
   "source": [
    "Data types\n",
    "- nominal (1|0)\n",
    "- ordered (1,2,3,4,5)\n",
    "- quantitative (1234.00,42433.03,234.23)"
   ]
  },
  {
   "cell_type": "markdown",
   "metadata": {},
   "source": [
    "# d3.js"
   ]
  },
  {
   "cell_type": "code",
   "execution_count": null,
   "metadata": {
    "collapsed": true
   },
   "outputs": [],
   "source": [
    "Why D3?\n",
    "- Leverages existing technologies (DOM, CSS, SVG)"
   ]
  },
  {
   "cell_type": "code",
   "execution_count": null,
   "metadata": {
    "collapsed": true
   },
   "outputs": [],
   "source": [
    "Fundamentals (HTML, CSS, ..): http://alignedleft.com/tutorials/d3/fundamentals"
   ]
  },
  {
   "cell_type": "markdown",
   "metadata": {},
   "source": [
    "All methods interact directly with the DOM (document object model) (DOM is all what you see in the html)"
   ]
  },
  {
   "cell_type": "markdown",
   "metadata": {},
   "source": [
    "- Databinding makes d3 awesome"
   ]
  },
  {
   "cell_type": "markdown",
   "metadata": {},
   "source": [
    "- 'Selections' (like jquery collections of elements) d3 traverses the document nodes in the DOM that match criteria\n",
    "    - methods:\n",
    "- Data binding\n",
    "    - data representation:\n",
    "        - JSON\n",
    "            - Keys/Values\n",
    "            - Array of Values\n",
    "            - Access:\n",
    "                - test.phones[0]\n",
    "                - test.phones.length\n",
    "        - csv\n",
    "        - text\n",
    "        - html\n",
    "        - tsv\n",
    "        - xml\n",
    "    - d3.json('phones.json', function(error, data) {}"
   ]
  },
  {
   "cell_type": "code",
   "execution_count": null,
   "metadata": {
    "collapsed": true
   },
   "outputs": [],
   "source": [
    "In-line java script: Script code in same file as html"
   ]
  },
  {
   "cell_type": "markdown",
   "metadata": {},
   "source": [
    "### Loading data"
   ]
  },
  {
   "cell_type": "code",
   "execution_count": null,
   "metadata": {
    "collapsed": true
   },
   "outputs": [],
   "source": [
    "function draw(data){ var ...} #in d3.js\n",
    "d3.tsv(\"data.tsv\",draw);"
   ]
  },
  {
   "cell_type": "markdown",
   "metadata": {},
   "source": [
    "### Manipulate element"
   ]
  },
  {
   "cell_type": "code",
   "execution_count": null,
   "metadata": {
    "collapsed": true
   },
   "outputs": [],
   "source": [
    "var mnplte = d3.select('#idlogo')\n",
    "mnplte.select('img').attr('fill')\n",
    "d3.select('#legend').attr('fill','orange')"
   ]
  },
  {
   "cell_type": "markdown",
   "metadata": {},
   "source": [
    "### Timescale"
   ]
  },
  {
   "cell_type": "markdown",
   "metadata": {},
   "source": [
    "yScale.domain()\n",
    "yScale.invert()\n",
    "xScale(data)\n",
    "parseTime.parse(dayobject)\n",
    "parseTime.parse(element.DATE)\n",
    "xDomain\n",
    "yDomain\n"
   ]
  },
  {
   "cell_type": "code",
   "execution_count": null,
   "metadata": {
    "collapsed": true
   },
   "outputs": [],
   "source": [
    "return parseIn(element.TMAX) # returns number instead of position"
   ]
  },
  {
   "cell_type": "markdown",
   "metadata": {},
   "source": [
    "### Inspect data"
   ]
  },
  {
   "cell_type": "code",
   "execution_count": null,
   "metadata": {
    "collapsed": true
   },
   "outputs": [],
   "source": [
    "console.table(data)"
   ]
  },
  {
   "cell_type": "markdown",
   "metadata": {
    "collapsed": true
   },
   "source": [
    "### Dimple.js"
   ]
  },
  {
   "cell_type": "code",
   "execution_count": null,
   "metadata": {
    "collapsed": true
   },
   "outputs": [],
   "source": [
    "Create charts as we think it:\n",
    "    - Create graph\n",
    "    - Add x axis\n",
    "    - Add y axis\n",
    "    - Add data (faceted 1|0)\n",
    "    - Draw\n",
    "Bar chart:\n",
    "    Dimple.js - 5 lines\n",
    "    d3.js - 30 lines"
   ]
  },
  {
   "cell_type": "markdown",
   "metadata": {
    "collapsed": true
   },
   "source": [
    "- .data(data)\n",
    "- .enter(data)\n",
    "- .append('rect')"
   ]
  },
  {
   "cell_type": "markdown",
   "metadata": {
    "collapsed": true
   },
   "source": [
    "#### Example"
   ]
  },
  {
   "cell_type": "code",
   "execution_count": null,
   "metadata": {
    "collapsed": true
   },
   "outputs": [],
   "source": [
    "var myChart = new dimple.chart(svg, data);\n",
    "var x = myChart.addTimeAxis(\"x\", \"year\");\n",
    "myChart.addMeasureAxis(\"y\",\"attendance\");\n",
    "myChart.addSeries(null, dimple.plot.bar);\n",
    "myChart.draw();"
   ]
  },
  {
   "cell_type": "code",
   "execution_count": null,
   "metadata": {
    "collapsed": true
   },
   "outputs": [],
   "source": []
  }
 ],
 "metadata": {
  "kernelspec": {
   "display_name": "Python [Root]",
   "language": "python",
   "name": "Python [Root]"
  },
  "language_info": {
   "codemirror_mode": {
    "name": "ipython",
    "version": 3
   },
   "file_extension": ".py",
   "mimetype": "text/x-python",
   "name": "python",
   "nbconvert_exporter": "python",
   "pygments_lexer": "ipython3",
   "version": "3.5.2"
  }
 },
 "nbformat": 4,
 "nbformat_minor": 0
}
