{
 "cells": [
  {
   "cell_type": "markdown",
   "metadata": {},
   "source": [
    "Content:\n",
    "- How accurate does the model predict class A?\n",
    "- ROC curve\n",
    "- Was the procedure useful?\n",
    "- Model selection\n",
    "- Overfitting\n",
    "- [Interpretation](https://www.oreilly.com/ideas/ideas-on-interpreting-machine-learning?imm_mid=0ef31d&cmp=em-data-na-na-newsltr_20170322)"
   ]
  },
  {
   "cell_type": "markdown",
   "metadata": {},
   "source": [
    "## How accurate does the model predict class A?\n",
    "<font color='grey'>(Quality of a binary test)</font>"
   ]
  },
  {
   "cell_type": "markdown",
   "metadata": {},
   "source": [
    "<font color='blue'>**Recall/Sensitivity**</font> \"Yes accuracy\": True positive rate <font color='grey'>(tp/(tp+fn)). When A, rate of detection</font>\n",
    "<br>\n",
    "<font color='blue'>**Specificity**</font> \"No accuracy\": True negatives rate <font color='grey'>(tn/(tn+fp)). When NOT-A, rate of detection</font>\n",
    "<br>\n",
    "<font color='blue'>**Accuracy**</font> Rate of correct classification ((tp+tn)/(tp+fp+tn+fn)) \n",
    "\n",
    "<font color='blue'>**Precision**</font> When detected as A, rate of true A [How many selected items are relevant?]: True ones of the positives (tp/(tp+fp)) \"I heard hits, how often was I actually hit\"\n",
    "\n",
    "<font color='blue'>**F-Score**</font> 2*Precision*Recall/(Precision + Recall)) \n",
    "\n",
    "\n",
    "### <center>Confusion matrix</center>\n",
    "![title](../img/ROC.png)"
   ]
  },
  {
   "cell_type": "markdown",
   "metadata": {},
   "source": [
    "False positive - Type 1 error <br>\n",
    "False negative - Type 2 error"
   ]
  },
  {
   "cell_type": "markdown",
   "metadata": {},
   "source": [
    "![roc curve](../img/Sens-Spec.png)"
   ]
  },
  {
   "cell_type": "markdown",
   "metadata": {},
   "source": [
    "## ROC curve\n",
    "(How good are True positives and False positives separated)\n",
    "\n",
    "[Info](https://www.medcalc.org/manual/roc-curves.php)\n",
    "[Explanation](https://www.youtube.com/watch?v=21Igj5Pr6u4)"
   ]
  },
  {
   "cell_type": "markdown",
   "metadata": {},
   "source": [
    "![roc curve](../img/roc_curve.png)"
   ]
  },
  {
   "cell_type": "markdown",
   "metadata": {},
   "source": [
    "*(1-spec)* : When Not-A, rate of false positives: False positive rate "
   ]
  },
  {
   "cell_type": "markdown",
   "metadata": {},
   "source": [
    "<img src=\"../img/sens-spec.png\" width=\"400\">"
   ]
  },
  {
   "cell_type": "markdown",
   "metadata": {},
   "source": [
    "<img src=\"../img/AUC.png\" width=\"400\">"
   ]
  },
  {
   "cell_type": "markdown",
   "metadata": {},
   "source": [
    "# Was the procedure useful?"
   ]
  },
  {
   "cell_type": "markdown",
   "metadata": {},
   "source": [
    "## F score"
   ]
  },
  {
   "cell_type": "markdown",
   "metadata": {},
   "source": [
    "The F score considers Precision and Recall. High F Score -> High predictive power of classification procedure"
   ]
  },
  {
   "cell_type": "markdown",
   "metadata": {},
   "source": [
    "Harmonic mean of precision and recall\n",
    "\n",
    "<img src=\"../img/F_Score.png\" width=\"400\">"
   ]
  },
  {
   "cell_type": "markdown",
   "metadata": {},
   "source": [
    "# Model selection (Parameter optimization)"
   ]
  },
  {
   "cell_type": "markdown",
   "metadata": {},
   "source": [
    "[In Azure ML](https://azure.microsoft.com/en-us/documentation/articles/machine-learning-algorithm-parameters-optimize/), Cross-validation is default model selection method "
   ]
  },
  {
   "cell_type": "markdown",
   "metadata": {},
   "source": [
    "<img src=\"../img/Model_selection.png\" width=\"600\">\n",
    "\n"
   ]
  },
  {
   "cell_type": "markdown",
   "metadata": {
    "collapsed": true
   },
   "source": [
    "# Overfitting"
   ]
  },
  {
   "cell_type": "code",
   "execution_count": null,
   "metadata": {
    "collapsed": true
   },
   "outputs": [],
   "source": [
    "Methods:\n",
    "- Early stopping\n",
    "- Data augmentation"
   ]
  },
  {
   "cell_type": "markdown",
   "metadata": {},
   "source": [
    "# Bootstrapping"
   ]
  },
  {
   "cell_type": "markdown",
   "metadata": {},
   "source": [
    "If you don't have enough data to train your algorithm you can increase the size of your training set by (uniformly) randomly selecting items and duplicating them (with replacement)"
   ]
  },
  {
   "cell_type": "code",
   "execution_count": null,
   "metadata": {
    "collapsed": true
   },
   "outputs": [],
   "source": []
  }
 ],
 "metadata": {
  "anaconda-cloud": {},
  "kernelspec": {
   "display_name": "R",
   "language": "R",
   "name": "ir"
  },
  "language_info": {
   "codemirror_mode": "r",
   "file_extension": ".r",
   "mimetype": "text/x-r-source",
   "name": "R",
   "pygments_lexer": "r",
   "version": "3.2.2"
  }
 },
 "nbformat": 4,
 "nbformat_minor": 1
}
