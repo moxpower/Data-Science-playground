{
 "cells": [
  {
   "cell_type": "markdown",
   "metadata": {},
   "source": [
    "<img src='https://www.python.org/static/opengraph-icon-200x200.png' width=75>"
   ]
  },
  {
   "cell_type": "markdown",
   "metadata": {},
   "source": [
    "#### Content\n",
    "<a id='top'></a>\n",
    "- [Cheat Sheets](#cheat)\n",
    "- [Directory](#dir)\n",
    "- [Arrays](#arr)\n",
    "- [Libraries](#lib)"
   ]
  },
  {
   "cell_type": "markdown",
   "metadata": {},
   "source": [
    "<a id='cheat'></a>\n",
    "[back to top](#top)"
   ]
  },
  {
   "cell_type": "markdown",
   "metadata": {},
   "source": [
    "# Cheat sheets"
   ]
  },
  {
   "cell_type": "markdown",
   "metadata": {},
   "source": [
    "https://github.com/adam-p/markdown-here/wiki/Markdown-Cheatsheet"
   ]
  },
  {
   "cell_type": "markdown",
   "metadata": {},
   "source": [
    "<a id='dir'></a>\n",
    "[back to top](#top)\n",
    "# Directory"
   ]
  },
  {
   "cell_type": "markdown",
   "metadata": {},
   "source": [
    "**List** all files in directory"
   ]
  },
  {
   "cell_type": "code",
   "execution_count": 3,
   "metadata": {
    "collapsed": true
   },
   "outputs": [
    {
     "data": {
      "text/plain": [
       "['.ipynb_checkpoints',\n",
       " 'Algorithms.ipynb',\n",
       " 'Apache Spark - Intro.ipynb',\n",
       " 'Azure Data Factory.mm',\n",
       " 'Azure Data Factory_193253321201232062.jpeg',\n",
       " 'Azure Data Factory_2027020027689458971.jpeg',\n",
       " 'Azure Data Factory_2178116691995517824.jpeg',\n",
       " 'Azure Data Factory_433141533441128564.jpeg',\n",
       " 'Azure Data Factory_4980692283835697926.jpeg',\n",
       " 'Azure Data Lake Analytics.mm',\n",
       " 'Azure ML Web Services.mm',\n",
       " 'Azure ML.ipynb',\n",
       " 'Brachial Plexus - Py.ipynb',\n",
       " 'Brachial Plexus - R.ipynb',\n",
       " 'Data Structure.ipynb',\n",
       " 'ggplot2 visualization.ipynb',\n",
       " 'Machine Learning stack.ipynb',\n",
       " 'mind maps',\n",
       " 'Model evaluation & tuning.ipynb',\n",
       " 'Model evaluation - part2.ipynb',\n",
       " 'mtcars.ipynb',\n",
       " 'PhD institutes and stipendia.ipynb',\n",
       " 'PowerShell.ipynb',\n",
       " 'Python cheats.ipynb',\n",
       " 'QlikView (SQL like).ipynb',\n",
       " 'Quotes.ipynb',\n",
       " 'R cheat sheet.ipynb',\n",
       " 'Scala - Cheat sheet (Hello world).ipynb',\n",
       " 'SCP.ipynb',\n",
       " 'Spark Wordcount.ipynb',\n",
       " 'SQL.ipynb',\n",
       " 'Statistics.ipynb',\n",
       " 'Text Analytics in Azure ML.ipynb',\n",
       " 'Text Analytics in Azure ML.mm']"
      ]
     },
     "execution_count": 3,
     "metadata": {},
     "output_type": "execute_result"
    }
   ],
   "source": [
    "import os\n",
    "os.listdir()"
   ]
  },
  {
   "cell_type": "markdown",
   "metadata": {},
   "source": [
    "<a id='arr'></a>\n",
    "[back to top](#top)\n",
    "# Arrays"
   ]
  },
  {
   "cell_type": "markdown",
   "metadata": {},
   "source": [
    "**Filter first column** of multicolumn array"
   ]
  },
  {
   "cell_type": "code",
   "execution_count": 13,
   "metadata": {
    "collapsed": false
   },
   "outputs": [
    {
     "data": {
      "text/plain": [
       "array([1, 1])"
      ]
     },
     "execution_count": 13,
     "metadata": {},
     "output_type": "execute_result"
    }
   ],
   "source": [
    "import numpy as np\n",
    "arr = [[1,2],[1,2]]\n",
    "arr = np.array(arr)\n",
    "arr[:,0]"
   ]
  },
  {
   "cell_type": "markdown",
   "metadata": {},
   "source": [
    "### Dict"
   ]
  },
  {
   "cell_type": "markdown",
   "metadata": {},
   "source": [
    "**Find** item in dict on value of subitem:"
   ]
  },
  {
   "cell_type": "code",
   "execution_count": 37,
   "metadata": {
    "collapsed": false
   },
   "outputs": [
    {
     "name": "stdout",
     "output_type": "stream",
     "text": [
      "Max : eye color blue\n"
     ]
    }
   ],
   "source": [
    "my_dict = {\"Max\":{'age':27,'ec':'blue'}, \"Evi\":{'age':33,'ec':'blue'}}\n",
    "for key, item in my_dict.items():\n",
    "    if item['age'] == 27:\n",
    "        print key, \": eye color\", item['ec']"
   ]
  },
  {
   "cell_type": "markdown",
   "metadata": {},
   "source": [
    "**Remove** dict items:"
   ]
  },
  {
   "cell_type": "code",
   "execution_count": 38,
   "metadata": {
    "collapsed": false
   },
   "outputs": [
    {
     "data": {
      "text/plain": [
       "{'age': 27, 'ec': 'blue'}"
      ]
     },
     "execution_count": 38,
     "metadata": {},
     "output_type": "execute_result"
    }
   ],
   "source": [
    "my_dict.pop(\"Max\", 0)"
   ]
  },
  {
   "cell_type": "markdown",
   "metadata": {
    "collapsed": false
   },
   "source": [
    "**Transform** Dict to list:"
   ]
  },
  {
   "cell_type": "code",
   "execution_count": 1,
   "metadata": {
    "collapsed": true
   },
   "outputs": [],
   "source": [
    "def dict_to_list(key,normalizer):\n",
    "    new_list=[]\n",
    "\n",
    "    for i in data_dict:\n",
    "        if data_dict[i][key]==\"NaN\" or data_dict[i][normalizer]==\"NaN\":\n",
    "            new_list.append(0.)\n",
    "        elif data_dict[i][key]>=0:\n",
    "            new_list.append(float(data_dict[i][key])/float(data_dict[i][normalizer]))\n",
    "    return new_list"
   ]
  },
  {
   "cell_type": "markdown",
   "metadata": {
    "collapsed": true
   },
   "source": [
    "#Pandas"
   ]
  },
  {
   "cell_type": "markdown",
   "metadata": {
    "collapsed": true
   },
   "source": [
    "<a id='lib'></a>\n",
    "[back to top](#top)\n",
    "# Libraries"
   ]
  },
  {
   "cell_type": "markdown",
   "metadata": {},
   "source": [
    "   - [folium](https://www.dataquest.io/blog/data-science-portfolio-project/) <img src='../img/folium.png' width=\"200\">\n",
    "   - numpy\n",
    "   - scipy\n",
    "   - pandas\n",
    "   - matplotlib\n",
    "   - nltk\n",
    "   - [statsmodels](http://statsmodels.sourceforge.net/) <img src='../img/statsmodel.png' width=\"200\">\n",
    "   - [Mlpy](http://mlpy.sourceforge.net/) (machine learning) <img src='../img/mlpy.png' width=\"200\">\n",
    "   - [GraphLab Create](https://pypi.python.org/pypi/GraphLab-Create) (create large-scale, high-performance data products)\n",
    "   - [PUlp](http://www.galvanize.com/blog/seven-python-tools-all-data-scientists-should-know-how-to-use/#.V3Idwvl940M) (linear programming)\n",
    "   - [Spark](http://www.galvanize.com/blog/seven-python-tools-all-data-scientists-should-know-how-to-use/#.V3Idwvl940M)\n",
    "   Machine learning:\n",
    "   - Deep learning\n",
    "     - [keras (for Theano and TensorFlow)](http://keras.io/)"
   ]
  },
  {
   "cell_type": "code",
   "execution_count": null,
   "metadata": {
    "collapsed": true
   },
   "outputs": [],
   "source": []
  }
 ],
 "metadata": {
  "kernelspec": {
   "display_name": "Python 3",
   "language": "python",
   "name": "python3"
  },
  "language_info": {
   "codemirror_mode": {
    "name": "ipython",
    "version": 3
   },
   "file_extension": ".py",
   "mimetype": "text/x-python",
   "name": "python",
   "nbconvert_exporter": "python",
   "pygments_lexer": "ipython3",
   "version": "3.5.1"
  }
 },
 "nbformat": 4,
 "nbformat_minor": 0
}
