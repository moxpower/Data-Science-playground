{
 "cells": [
  {
   "cell_type": "markdown",
   "metadata": {},
   "source": [
    "- Shift cells"
   ]
  },
  {
   "cell_type": "markdown",
   "metadata": {},
   "source": [
    "# Shift cells"
   ]
  },
  {
   "cell_type": "code",
   "execution_count": null,
   "metadata": {
    "collapsed": true
   },
   "outputs": [],
   "source": [
    "Sub Shift()\n",
    "    ActiveCell.Select\n",
    "    Selection.Cut\n",
    "    ActiveCell.Offset(-1, 1).Select\n",
    "    ActiveSheet.Paste\n",
    "    ActiveCell.Offset(2, -1).Select\n",
    "    Selection.Cut\n",
    "    ActiveCell.Offset(-2, 2).Select\n",
    "    ActiveSheet.Paste\n",
    "    ActiveCell.Offset(4, -2).Select\n",
    "End Sub"
   ]
  }
 ],
 "metadata": {
  "kernelspec": {
   "display_name": "Python [Root]",
   "language": "python",
   "name": "Python [Root]"
  },
  "language_info": {
   "codemirror_mode": {
    "name": "ipython",
    "version": 3
   },
   "file_extension": ".py",
   "mimetype": "text/x-python",
   "name": "python",
   "nbconvert_exporter": "python",
   "pygments_lexer": "ipython3",
   "version": "3.5.2"
  }
 },
 "nbformat": 4,
 "nbformat_minor": 0
}
