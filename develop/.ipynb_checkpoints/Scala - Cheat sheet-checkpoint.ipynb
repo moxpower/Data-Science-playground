{
 "cells": [
  {
   "cell_type": "markdown",
   "metadata": {},
   "source": [
    "<img src=\"../img/scala-logo.png\" width=\"200\">"
   ]
  },
  {
   "cell_type": "code",
   "execution_count": null,
   "metadata": {
    "collapsed": true
   },
   "outputs": [],
   "source": [
    "What is\n",
    "Expressive\n",
    "- First-class functions\n",
    "- Closures\n",
    "Concise\n",
    "- Type inference\n",
    "- Literal syntax for function creation\n",
    "Java interoperability\n",
    "- Can reuse java libraries\n",
    "- Can reuse java tools\n",
    "- No performance penalty"
   ]
  },
  {
   "cell_type": "markdown",
   "metadata": {},
   "source": [
    "- [First steps to Scala](http://www.artima.com/scalazine/articles/steps.html)\n",
    "- [Brief intro](https://twitter.github.io/scala_school/basics.html#class)\n",
    "- [ML in Scala](https://www.mapr.com/blog/apache-spark-machine-learning-tutorial)\n",
    "- [OpenNLP](http://www.scalanlp.org/)\n",
    "- [KeystoneML](http://keystone-ml.org/)\n",
    "- [Scala overview](http://docs.scala-lang.org/overviews/parallel-collections/overview.html)"
   ]
  },
  {
   "cell_type": "markdown",
   "metadata": {},
   "source": [
    "#### Table of contents\n",
    "- [Orientation](#orientation)\n",
    "    - Functions\n",
    "    - Methods\n",
    "    - Variables\n",
    "    - ...\n",
    "- [Exploration](#exploration)\n",
    "- [Testing](#testing)\n",
    "- [MLlib](#mllib)\n",
    "- [Q & A](#qna)"
   ]
  },
  {
   "cell_type": "markdown",
   "metadata": {},
   "source": [
    "# Orientation"
   ]
  },
  {
   "cell_type": "code",
   "execution_count": null,
   "metadata": {
    "collapsed": true
   },
   "outputs": [],
   "source": [
    "//get help (magic must be in first line)\n",
    "%%help"
   ]
  },
  {
   "cell_type": "markdown",
   "metadata": {},
   "source": [
    "#### File path"
   ]
  },
  {
   "cell_type": "code",
   "execution_count": null,
   "metadata": {
    "collapsed": true
   },
   "outputs": [],
   "source": [
    "// list content under directory\n",
    "import  org.apache.hadoop.fs.{FileSystem,Path}\n",
    "\n",
    "FileSystem.get( sc.hadoopConfiguration ).listStatus( new Path(\"hdfs:///\")).foreach( x => println(x.getPath ))"
   ]
  },
  {
   "cell_type": "markdown",
   "metadata": {},
   "source": [
    "#### Expressions"
   ]
  },
  {
   "cell_type": "code",
   "execution_count": null,
   "metadata": {
    "collapsed": true
   },
   "outputs": [],
   "source": [
    "1 + 1"
   ]
  },
  {
   "cell_type": "markdown",
   "metadata": {},
   "source": [
    "#### Variables"
   ]
  },
  {
   "cell_type": "code",
   "execution_count": null,
   "metadata": {
    "collapsed": true
   },
   "outputs": [],
   "source": [
    "var name = \"steve\""
   ]
  },
  {
   "cell_type": "markdown",
   "metadata": {},
   "source": [
    "#### Methods"
   ]
  },
  {
   "cell_type": "code",
   "execution_count": null,
   "metadata": {
    "collapsed": true
   },
   "outputs": [],
   "source": [
    "def add(x:Int, y:Int):Int = {\n",
    "    return x + y // return is inferred for non recursive methods and methods that don't have an explicit return value\n",
    "}\n",
    "println(add(42,13))"
   ]
  },
  {
   "cell_type": "markdown",
   "metadata": {},
   "source": [
    "#### Functions"
   ]
  },
  {
   "cell_type": "code",
   "execution_count": null,
   "metadata": {
    "collapsed": true
   },
   "outputs": [],
   "source": [
    "def addOne(m: Int): Int = m + 1"
   ]
  },
  {
   "cell_type": "code",
   "execution_count": null,
   "metadata": {
    "collapsed": true
   },
   "outputs": [],
   "source": [
    "// whitespace in function\n",
    "val add2 = adder(2, _:Int)"
   ]
  },
  {
   "cell_type": "markdown",
   "metadata": {},
   "source": [
    "#### Class"
   ]
  },
  {
   "cell_type": "code",
   "execution_count": null,
   "metadata": {
    "collapsed": true
   },
   "outputs": [],
   "source": [
    "//A simple class that does nothing:\n",
    "class Person(fname:String, lname:String)\n",
    "// --> no result on the next statement:\n",
    "val p1 = new Person(\"Alice\",\"In Chains\")\n",
    "\n",
    "//A class with a method\n",
    "class Person2(fname:String, lname:String){\n",
    "    def greet = s\"Hi $fname $lname\"\n",
    "}\n",
    "val p2 = new Person2(\"Max\",\"Kohl\")\n",
    "println(p2.greet)\n",
    "\n",
    "//Create getter and setter:\n",
    "class Person4(val fname:String, var lname:String)\n",
    "val p4 = new Person4(\"Mox\",\"Power\"){\n",
    "    //override the default string repr.\n",
    "    override def toString = s\"$fname $lname\"\n",
    "}\n",
    "println(p4.fname)\n",
    "p4.lname=\"Grohl\"\n",
    "println(p4)\n",
    "\n",
    "class Calculator {\n",
    "       val brand: String = \"HP\" //field\n",
    "       def add(m: Int, n: Int): Int = m + n //method\n",
    "     }\n",
    "val calc = new Calculator\n",
    "calc.add(3,4)\n",
    "calc.brand"
   ]
  },
  {
   "cell_type": "markdown",
   "metadata": {},
   "source": [
    "Constructors can give you the possibility to create instances in your method definition:"
   ]
  },
  {
   "cell_type": "code",
   "execution_count": null,
   "metadata": {
    "collapsed": true
   },
   "outputs": [],
   "source": [
    "class Calculator(brand: String) {\n",
    "  /**\n",
    "   * A constructor.\n",
    "   */\n",
    "  val color: String = if (brand == \"TI\") {\n",
    "    \"blue\"\n",
    "  } else if (brand == \"HP\") {\n",
    "    \"black\"\n",
    "  } else {\n",
    "    \"white\"\n",
    "  }\n",
    "\n",
    "  // An instance method.\n",
    "  def add(m: Int, n: Int): Int = m + n\n",
    "}"
   ]
  },
  {
   "cell_type": "markdown",
   "metadata": {},
   "source": [
    "Idiomatic Scala:"
   ]
  },
  {
   "cell_type": "code",
   "execution_count": null,
   "metadata": {
    "collapsed": true
   },
   "outputs": [],
   "source": [
    "import beans._\n",
    "class SPerson(@BeanProperty var name:String)\n",
    "val sp = new SPerson(\"Scala Style\")\n",
    "println(sp.name)\n",
    "sp.name += \" rocks!\"\n",
    "println(sp.getName)"
   ]
  },
  {
   "cell_type": "markdown",
   "metadata": {},
   "source": [
    "#### Array"
   ]
  },
  {
   "cell_type": "code",
   "execution_count": null,
   "metadata": {
    "collapsed": true
   },
   "outputs": [],
   "source": [
    "val array1 = Array(1,2,3)\n",
    "val array2 = Array(\"a\",2,true)\n",
    "val array3 = Array(\"a\",\"b\",\"c\")\n",
    "val itemAtIndex0 = array3(0)\n",
    "array3(0)"
   ]
  },
  {
   "cell_type": "code",
   "execution_count": null,
   "metadata": {
    "collapsed": true
   },
   "outputs": [],
   "source": [
    "Append:\n",
    "val concatenated = \"prepend\" +: (array1 ++ array2) :+ \"append\"\n",
    "Difference:\n",
    "val diffArray = Array(1,2,3,4).diff(Array(2,3)) // >> Array(1,4)\n",
    "Find:\n",
    "val personArray = Array((\"Alice\",1), (\"Bob\",2), (\"Carol\",3))\n",
    "def findByName(name:String) = personArray.find(_._1 == name).getOrElse((\"David\",4))\n",
    "val findBob = findByName(\"Bob\") // >> findBob = (Bob,2)\n",
    "Retrieve element:\n",
    "val bobFound = findBob._2 // >> bobFound = 2"
   ]
  },
  {
   "cell_type": "markdown",
   "metadata": {},
   "source": [
    "#### List"
   ]
  },
  {
   "cell_type": "code",
   "execution_count": null,
   "metadata": {
    "collapsed": true
   },
   "outputs": [],
   "source": [
    "// Lists are immutable. Any \"changes\" create a new list, the original is untouched.\n",
    "\n",
    "val list1 = List(\"a\",2,true)\n",
    "Access:\n",
    "val firstItem = list1(0) // >> firstItem = \"a\"\n",
    "Create \"mutable version\" of list:\n",
    "import  collection.mutable\n",
    "val mlist = mutable.ArrayBuffer(\"a\",\"b\",\"c\") // >> mlist = ArrayBuffer(d,b,e,f,g)\n",
    "Modify:\n",
    "mlist(0) = \"k\" // >> ArrayBuffer(k,b,e,f,g)\n",
    "Concatenate:\n",
    "list1 ++ list2\n",
    "Prepend:\n",
    "0 :: list1 // >> List(0,\"a\",2,true)\n",
    "Append:\n",
    "list1 :+ 4 // >> List(\"a\",2,true,4)\n",
    "\n",
    "val concatenated = 1 :: list1 ++ list2 ++ mlist :+ 'd'\n",
    "\n",
    "Remove:\n",
    "mlist - \"c\" // creates new Array with \"c\" removed\n",
    "mlist -- List(\"e\", \"f\") // \"\"\n",
    "mlist // stayed intact\n",
    "mlist -= \"c\" // c removed\n",
    "mlist // c removed\n",
    "mlist --= List(\"e\",\"f\") // List(\"e\",\"f\") removed\n",
    "mlist += \"e\"\n",
    "mlist ++= List(\"f\",\"g\")\n",
    "\n",
    "Diff:\n",
    "val diffList = List(1,2,3,4) diff List(2,3)\n",
    "\n",
    "// Find statement is same as for Arrays"
   ]
  },
  {
   "cell_type": "markdown",
   "metadata": {},
   "source": [
    "#### Set"
   ]
  },
  {
   "cell_type": "code",
   "execution_count": null,
   "metadata": {
    "collapsed": true
   },
   "outputs": [],
   "source": [
    "// Sets remove duplicates\n",
    "val set1 = Set(1,2,3,3)\n",
    "println(set1) // Set(1,2,3)\n",
    "// Find if value is in Set\n",
    "val fourExists = set1(4) // println(fourExists) >> false\n",
    "// Modify Set\n",
    "import collection.mutable\n",
    "val mset = mutable.HashSet(\"a\",\"b\",\"c\")\n",
    "mset(\"a\") = false\n",
    "println(mset) // >> Set(c,b)\n",
    "\n",
    "// Concatenate and find statements same as for List"
   ]
  },
  {
   "cell_type": "markdown",
   "metadata": {},
   "source": [
    "#### Map"
   ]
  },
  {
   "cell_type": "code",
   "execution_count": null,
   "metadata": {
    "collapsed": true
   },
   "outputs": [],
   "source": [
    "val map1 = Map(\"one\" -> 1, \"two\" -> 2, \"three\" -> 3)\n",
    "import collection.mutable\n",
    "val mmap = mutable.HashMap(\"a\" -> 1, \"b\" -> 2, \"c\" -> 3)\n",
    "// Remove duplicate keys\n",
    "println(Map(\"a\" -> 1, \"a\" -> 2))\n",
    "\n",
    "val fourExsitsOption = map1.get(\"four\")\n",
    "println(fourExistsOption.isDefined) // false\n",
    "\n",
    "// Concatenate and find statements same as for List"
   ]
  },
  {
   "cell_type": "markdown",
   "metadata": {},
   "source": [
    "#### Mutable collections"
   ]
  },
  {
   "cell_type": "code",
   "execution_count": null,
   "metadata": {
    "collapsed": true
   },
   "outputs": [],
   "source": [
    "import scala.collection.mutable\n",
    "\n",
    "val arrayBuffer = mutable.ArrayBuffer(1,2,3)\n",
    "val listBuffer = mutable.ListBuffer(\"a\",\"b\",\"c\")\n",
    "val hashSet = mutable.Set(0.1,0.2,0.3)\n",
    "val hashMap = mutable.Map(\"one\" -> 1, \"two\" -> 2)"
   ]
  },
  {
   "cell_type": "markdown",
   "metadata": {},
   "source": [
    "[ref](http://scalatutorials.com/tour/interactive_tour_of_scala_mutable_collections_operations.html)"
   ]
  },
  {
   "cell_type": "markdown",
   "metadata": {
    "collapsed": true
   },
   "source": [
    "#### Immutable collections with var"
   ]
  },
  {
   "cell_type": "markdown",
   "metadata": {},
   "source": [
    "[ref](http://scalatutorials.com/tour/interactive_tour_of_scala_immutable_collections_with_var.html)"
   ]
  },
  {
   "cell_type": "code",
   "execution_count": null,
   "metadata": {
    "collapsed": true
   },
   "outputs": [],
   "source": []
  },
  {
   "cell_type": "code",
   "execution_count": null,
   "metadata": {
    "collapsed": true
   },
   "outputs": [],
   "source": []
  },
  {
   "cell_type": "code",
   "execution_count": null,
   "metadata": {
    "collapsed": true
   },
   "outputs": [],
   "source": []
  },
  {
   "cell_type": "markdown",
   "metadata": {},
   "source": [
    "#### Print"
   ]
  },
  {
   "cell_type": "code",
   "execution_count": null,
   "metadata": {
    "collapsed": true
   },
   "outputs": [],
   "source": [
    "val (a,b) = swap(\"hello\",\"world\")\n",
    "println(a,b)"
   ]
  },
  {
   "cell_type": "markdown",
   "metadata": {
    "collapsed": true
   },
   "source": [
    "#### Assign variables"
   ]
  },
  {
   "cell_type": "code",
   "execution_count": null,
   "metadata": {
    "collapsed": true
   },
   "outputs": [],
   "source": [
    "var (x, y, z) = (1, 2, true)"
   ]
  },
  {
   "cell_type": "markdown",
   "metadata": {},
   "source": [
    "#### Loops"
   ]
  },
  {
   "cell_type": "code",
   "execution_count": null,
   "metadata": {
    "collapsed": true
   },
   "outputs": [],
   "source": [
    "// while\n",
    "while ( i <10){\n",
    "  sum += i\n",
    "  i+=1\n",
    "}\n",
    "// for\n",
    "for ( i <- 0 until 10) {  \n",
    "  sum += i  \n",
    "}  \n",
    "// without loop\n",
    "(0 until 10).sum"
   ]
  },
  {
   "cell_type": "markdown",
   "metadata": {},
   "source": [
    "#### if"
   ]
  },
  {
   "cell_type": "code",
   "execution_count": null,
   "metadata": {
    "collapsed": true
   },
   "outputs": [],
   "source": [
    "if (true)\n",
    "    println(\"no braces\")\n",
    "if (1+1=2){\n",
    "    println(\"multiple\")\n",
    "    println(\"statements\")\n",
    "}\n",
    "\n",
    "val breakfast =\n",
    "    if (likeEggs) \"scrambled eggs\"\n",
    "    else \"Apple\""
   ]
  },
  {
   "cell_type": "markdown",
   "metadata": {},
   "source": [
    "#### match"
   ]
  },
  {
   "cell_type": "code",
   "execution_count": null,
   "metadata": {
    "collapsed": true
   },
   "outputs": [],
   "source": [
    "// use match as a switch\n",
    "val selection = \"One\"\n",
    "selection match {\n",
    "    case \"One\" => println(\"You selected option one!\")\n",
    "    case \"Two\" => println(\"You selected option two!\")\n",
    "}"
   ]
  },
  {
   "cell_type": "code",
   "execution_count": null,
   "metadata": {
    "collapsed": true
   },
   "outputs": [],
   "source": []
  },
  {
   "cell_type": "code",
   "execution_count": null,
   "metadata": {
    "collapsed": true
   },
   "outputs": [],
   "source": []
  },
  {
   "cell_type": "code",
   "execution_count": null,
   "metadata": {
    "collapsed": true
   },
   "outputs": [],
   "source": []
  },
  {
   "cell_type": "code",
   "execution_count": null,
   "metadata": {
    "collapsed": true
   },
   "outputs": [],
   "source": []
  },
  {
   "cell_type": "code",
   "execution_count": null,
   "metadata": {
    "collapsed": true
   },
   "outputs": [],
   "source": []
  },
  {
   "cell_type": "code",
   "execution_count": null,
   "metadata": {
    "collapsed": true
   },
   "outputs": [],
   "source": []
  },
  {
   "cell_type": "markdown",
   "metadata": {},
   "source": [
    "# Object"
   ]
  },
  {
   "cell_type": "markdown",
   "metadata": {},
   "source": [
    "### object -> method -> argument"
   ]
  },
  {
   "cell_type": "code",
   "execution_count": 2,
   "metadata": {
    "collapsed": false
   },
   "outputs": [
    {
     "data": {
      "text/plain": [
       "defined \u001b[32mobject \u001b[36mHelloWorld\u001b[0m"
      ]
     },
     "metadata": {},
     "output_type": "display_data"
    }
   ],
   "source": [
    "object HelloWorld {\n",
    "    def main(args: Array[String]): Unit = {\n",
    "        println(\"Hello, world!\")\n",
    "    }\n",
    "}"
   ]
  },
  {
   "cell_type": "code",
   "execution_count": 3,
   "metadata": {
    "collapsed": false
   },
   "outputs": [
    {
     "name": "stdout",
     "output_type": "stream",
     "text": [
      "Hello, world!\n"
     ]
    },
    {
     "data": {
      "text/plain": []
     },
     "metadata": {},
     "output_type": "display_data"
    }
   ],
   "source": [
    "HelloWorld.main(null)"
   ]
  },
  {
   "cell_type": "code",
   "execution_count": null,
   "metadata": {
    "collapsed": true
   },
   "outputs": [],
   "source": [
    "//Type of object"
   ]
  },
  {
   "cell_type": "code",
   "execution_count": null,
   "metadata": {
    "collapsed": true
   },
   "outputs": [],
   "source": []
  },
  {
   "cell_type": "markdown",
   "metadata": {},
   "source": [
    "### main method (runs first) or App (all methods run)"
   ]
  },
  {
   "cell_type": "code",
   "execution_count": 4,
   "metadata": {
    "collapsed": false
   },
   "outputs": [
    {
     "data": {
      "text/plain": [
       "defined \u001b[32mobject \u001b[36mHelloWorldApp\u001b[0m"
      ]
     },
     "metadata": {},
     "output_type": "display_data"
    }
   ],
   "source": [
    "object HelloWorldApp extends App {\n",
    "    println(\"Hi Max!\")\n",
    "}"
   ]
  },
  {
   "cell_type": "code",
   "execution_count": 5,
   "metadata": {
    "collapsed": false
   },
   "outputs": [
    {
     "name": "stdout",
     "output_type": "stream",
     "text": [
      "Hi Max!\n"
     ]
    },
    {
     "data": {
      "text/plain": []
     },
     "metadata": {},
     "output_type": "display_data"
    }
   ],
   "source": [
    "HelloWorldApp.main(null)"
   ]
  },
  {
   "cell_type": "markdown",
   "metadata": {
    "collapsed": true
   },
   "source": []
  },
  {
   "cell_type": "markdown",
   "metadata": {
    "collapsed": true
   },
   "source": [
    "# Class"
   ]
  },
  {
   "cell_type": "code",
   "execution_count": null,
   "metadata": {
    "collapsed": true
   },
   "outputs": [],
   "source": [
    "class Hello(message: String) {\n",
    "    println(message) // this is the primary constructor\n",
    "}\n",
    "new Hello(\"Be curious!\") //creates instance of the class\n",
    "res0.toString //creates string representation of instance"
   ]
  },
  {
   "cell_type": "code",
   "execution_count": null,
   "metadata": {
    "collapsed": true
   },
   "outputs": [],
   "source": [
    "// you can pass parameters to class, that can be used in instance\n",
    "// types must be specified"
   ]
  },
  {
   "cell_type": "code",
   "execution_count": null,
   "metadata": {
    "collapsed": true
   },
   "outputs": [],
   "source": [
    "// cannot be accessed from outside class instance, unless calles val:\n",
    "class Hello(val message: String)\n",
    "val hello = new Hello(\"Badabing\")\n",
    "hello.message"
   ]
  },
  {
   "cell_type": "markdown",
   "metadata": {},
   "source": [
    "#### Mutable and immutable fields (variables)"
   ]
  },
  {
   "cell_type": "code",
   "execution_count": null,
   "metadata": {
    "collapsed": true
   },
   "outputs": [],
   "source": [
    "// immutable = Variable can't change/mutate -> *immutable*\n",
    "val NameOfPope : String = \"Luigi\"\n",
    "// mutable\n",
    "var NameOfDuke : String = \"Parcival\" // Variable can change -> *mutable*"
   ]
  },
  {
   "cell_type": "code",
   "execution_count": null,
   "metadata": {
    "collapsed": true
   },
   "outputs": [],
   "source": [
    "// Fields are accessible to outsiders of the class\n",
    "class Hello {\n",
    "    val message: String = \"Hello\" // immutable field\n",
    "}\n",
    "(new Hello).message\n",
    "\n",
    "class Hello {\n",
    "    var message: String = \"Hello\"\n",
    "}\n",
    "val hello = new Hello\n",
    "hello.message = \"Primabello!\" // can change mutable field"
   ]
  },
  {
   "cell_type": "markdown",
   "metadata": {},
   "source": [
    "<a id='exploration'></a>\n",
    "[back to top](#top)"
   ]
  },
  {
   "cell_type": "markdown",
   "metadata": {},
   "source": [
    "# Exploration"
   ]
  },
  {
   "cell_type": "code",
   "execution_count": null,
   "metadata": {
    "collapsed": true
   },
   "outputs": [],
   "source": [
    "// summary\n",
    "val summary: MultivariateStatisticalSummary = Statistics.colStats(observations)\n",
    "summary.mean\n",
    "summary.variance\n",
    "summary.numNonzeros\n",
    "summary.normL1\n",
    "summary.normL2"
   ]
  },
  {
   "cell_type": "code",
   "execution_count": null,
   "metadata": {
    "collapsed": true
   },
   "outputs": [],
   "source": [
    "// correlation\n"
   ]
  },
  {
   "cell_type": "markdown",
   "metadata": {},
   "source": [
    "#### Create random data"
   ]
  },
  {
   "cell_type": "code",
   "execution_count": null,
   "metadata": {
    "collapsed": true
   },
   "outputs": [],
   "source": [
    "import org.apache.spark.mllib.random.randomRDDs._\n",
    "val data = normalVectorRDD(sc, numRows=10000L, numCols=3, numPartitions=10)\n",
    "val stats: MultivariateStatisticalSummary = Statistics.colStats(data)\n",
    "stats.mean\n",
    "stats.variance\n"
   ]
  },
  {
   "cell_type": "markdown",
   "metadata": {},
   "source": [
    "#### Print variable"
   ]
  },
  {
   "cell_type": "code",
   "execution_count": null,
   "metadata": {
    "collapsed": true
   },
   "outputs": [],
   "source": [
    "val Tau = 2*3\n",
    "println(s\"Happy $Tau Day\")"
   ]
  },
  {
   "cell_type": "markdown",
   "metadata": {},
   "source": [
    "#### Useful operations"
   ]
  },
  {
   "cell_type": "code",
   "execution_count": null,
   "metadata": {
    "collapsed": true
   },
   "outputs": [],
   "source": [
    "//Number operations   \n",
    "//Ranges   \n",
    "//creates a range between 1 to 10 inclusive  \n",
    "val range = 1 to 10   \n",
    "//creates a range between 1 to 10 exclusive   \n",
    "val range2 = 1 until 10   \n",
    "//from 2 to 10 with jumps of 3  \n",
    "val range3 = 2 until 10 by 3   \n",
    "\n",
    "println(range3.toList) //List(2, 5, 8)  \n",
    "\n",
    "//Number convinience methods   \n",
    "val num = -5  \n",
    "val numAbs = num.abs //absolute value  \n",
    "val max5or7 = numAbs.max(7)  \n",
    "val min5or7 = numAbs.min(7)  \n",
    "println(numAbs) //5  \n",
    "println(max5or7) //7   \n",
    "println(min5or7) //5  \n",
    "\n",
    "//String operations   \n",
    "\n",
    "val reverse = \"Scala\".reverse //reverse a string   \n",
    "println(reverse) //alacS  \n",
    "\n",
    "val cap = \"scala\".capitalize //make first char caps  \n",
    "println(cap) //Scala  \n",
    "\n",
    "val multi = \"Scala!\" * 7 //repeat n times   \n",
    "println(multi) //Scala!Scala!Scala!Scala!Scala!Scala!Scala!  \n",
    "\n",
    "val int = \"123\".toInt //parse as Int  \n",
    "println(int)  \n",
    "\n",
    "//Useful methods on collections   \n",
    "\n",
    "//filter - keep only items larger than 4   \n",
    "val moreThan4 = range.filter(_ > 4)  \n",
    "println(moreThan4) //Vector(5, 6, 7, 8, 9, 10)  \n",
    "\n",
    "//map - transform each item in the collection   \n",
    "val doubleIt = range2.map(_ * 2)  \n",
    "println(doubleIt) //Vector(2, 4, 6, 8, 10, 12, 14, 16, 18)  \n"
   ]
  },
  {
   "cell_type": "code",
   "execution_count": null,
   "metadata": {
    "collapsed": true
   },
   "outputs": [],
   "source": []
  },
  {
   "cell_type": "markdown",
   "metadata": {},
   "source": [
    "<a id='testing'></a>\n",
    "[back to top](#top)"
   ]
  },
  {
   "cell_type": "markdown",
   "metadata": {},
   "source": [
    "# Testing"
   ]
  },
  {
   "cell_type": "markdown",
   "metadata": {},
   "source": [
    "### Scalatest"
   ]
  },
  {
   "cell_type": "code",
   "execution_count": null,
   "metadata": {
    "collapsed": true
   },
   "outputs": [],
   "source": [
    "//String test\n",
    "\n",
    "class StackSpec extends FlatSpec {\n",
    "  \"A text\" should \"be the same text\" in {\n",
    "    val msg: String = \"Muchas problemas\"\n",
    "    assert(msg === \"Muchas problemas\")\n",
    "  }\n",
    "}"
   ]
  },
  {
   "cell_type": "code",
   "execution_count": null,
   "metadata": {
    "collapsed": true
   },
   "outputs": [],
   "source": []
  },
  {
   "cell_type": "code",
   "execution_count": null,
   "metadata": {
    "collapsed": true
   },
   "outputs": [],
   "source": []
  },
  {
   "cell_type": "code",
   "execution_count": null,
   "metadata": {
    "collapsed": true
   },
   "outputs": [],
   "source": []
  },
  {
   "cell_type": "code",
   "execution_count": null,
   "metadata": {
    "collapsed": true
   },
   "outputs": [],
   "source": []
  },
  {
   "cell_type": "markdown",
   "metadata": {},
   "source": [
    "<a id='mllib'></a>\n",
    "[back to top](#top)"
   ]
  },
  {
   "cell_type": "markdown",
   "metadata": {},
   "source": [
    "# MLlib"
   ]
  },
  {
   "cell_type": "code",
   "execution_count": null,
   "metadata": {
    "collapsed": true
   },
   "outputs": [],
   "source": [
    "// Vectors:\n",
    "import org.apache.spark.mllib.linalg.{Vector, Vectors} // scala has a vector itself\n",
    "Vectors.dense(33.0, 0.0, 55.0) // dense vector\n",
    "Vectors.sparse(3, Array(0, 3), Array(44.0, 55.0)) // sparce vector. first array is index\n",
    "Vectors.sparse(3, Seq((0, 44.0), (2, 55.0)))\n",
    "\n",
    "// Labeled Points:\n",
    "// in classification must be 0,1. In multiclass must be 0,1,2,...\n",
    "import org.apache.spark.mllib.regression.LabeledPoint\n",
    "LabeledPoint(1.0, Vectors.dense(44.0, 0.0, 55.0))\n",
    "LabeledPoint(0.0, Vectors.sparse(3, Array(0,2), Array(44.0, 55.0)))\n",
    "\n",
    "// Matrices\n",
    "// Dense Matrix\n",
    "import org.apache.spark.mllib.linalg.{Matrix, Matrices}\n",
    "Matrices.dense(3,2, Array(1,3,5,2,4,6)) \n",
    "// Sparse Matrix\n",
    "val m = Matrices.sparse(5,4, Array(0,0,1,2,2), Array(1,3), Array(34,55)) // how does this work?\n",
    "// Distributed Matrix\n",
    "// - stored in RDDs\n",
    "// - three types: RowMatrix, IndexedRowMatrix, CoordinateMatrix\n",
    "// RowMatrix\n",
    "RDD[Vector]"
   ]
  },
  {
   "cell_type": "code",
   "execution_count": null,
   "metadata": {
    "collapsed": true
   },
   "outputs": [],
   "source": []
  },
  {
   "cell_type": "code",
   "execution_count": null,
   "metadata": {
    "collapsed": true
   },
   "outputs": [],
   "source": []
  },
  {
   "cell_type": "code",
   "execution_count": null,
   "metadata": {
    "collapsed": true
   },
   "outputs": [],
   "source": []
  },
  {
   "cell_type": "markdown",
   "metadata": {},
   "source": [
    "# NLP"
   ]
  },
  {
   "cell_type": "code",
   "execution_count": null,
   "metadata": {
    "collapsed": true
   },
   "outputs": [],
   "source": [
    "https://www.npmjs.com/package/opennlp"
   ]
  },
  {
   "cell_type": "code",
   "execution_count": null,
   "metadata": {
    "collapsed": true
   },
   "outputs": [],
   "source": []
  },
  {
   "cell_type": "code",
   "execution_count": null,
   "metadata": {
    "collapsed": true
   },
   "outputs": [],
   "source": []
  },
  {
   "cell_type": "code",
   "execution_count": null,
   "metadata": {
    "collapsed": true
   },
   "outputs": [],
   "source": []
  },
  {
   "cell_type": "markdown",
   "metadata": {},
   "source": [
    "# Examples"
   ]
  },
  {
   "cell_type": "markdown",
   "metadata": {},
   "source": [
    "### Map keys to words"
   ]
  },
  {
   "cell_type": "code",
   "execution_count": null,
   "metadata": {
    "collapsed": true
   },
   "outputs": [],
   "source": [
    "val lines = sc.textFile(\"\")\n",
    "// missing"
   ]
  },
  {
   "cell_type": "markdown",
   "metadata": {},
   "source": [
    "### key-value pairs"
   ]
  },
  {
   "cell_type": "code",
   "execution_count": null,
   "metadata": {
    "collapsed": true
   },
   "outputs": [],
   "source": [
    "val pair = ('a','b')\n",
    "pair._1 //will return 'a'\n",
    "pair._2 //will return 'b'"
   ]
  },
  {
   "cell_type": "markdown",
   "metadata": {},
   "source": [
    "### Count words"
   ]
  },
  {
   "cell_type": "code",
   "execution_count": null,
   "metadata": {
    "collapsed": true
   },
   "outputs": [],
   "source": [
    "val wordCounts = textFile.flatMap(line => line.split(\" \"))\n",
    ".map(word => (word, 1))\n",
    ".reduceByKey((a,b) => a + b)"
   ]
  },
  {
   "cell_type": "code",
   "execution_count": null,
   "metadata": {
    "collapsed": true
   },
   "outputs": [],
   "source": [
    "wordCounts.collect()"
   ]
  },
  {
   "cell_type": "markdown",
   "metadata": {
    "collapsed": true
   },
   "source": [
    "<a id='qna'></a>\n",
    "[back to top](#top)"
   ]
  },
  {
   "cell_type": "markdown",
   "metadata": {},
   "source": [
    "# Q & A"
   ]
  },
  {
   "cell_type": "markdown",
   "metadata": {},
   "source": [
    "Are Scala Arrays mutable?\n",
    "- Yes, the elements can be modified"
   ]
  },
  {
   "cell_type": "code",
   "execution_count": null,
   "metadata": {
    "collapsed": true
   },
   "outputs": [],
   "source": []
  }
 ],
 "metadata": {
  "anaconda-cloud": {},
  "kernelspec": {
   "display_name": "Scala 2.11",
   "language": "scala211",
   "name": "scala211"
  },
  "language_info": {
   "codemirror_mode": "text/x-scala",
   "file_extension": ".scala",
   "mimetype": "text/x-scala",
   "name": "scala211",
   "pygments_lexer": "scala",
   "version": "2.11.7"
  }
 },
 "nbformat": 4,
 "nbformat_minor": 0
}
