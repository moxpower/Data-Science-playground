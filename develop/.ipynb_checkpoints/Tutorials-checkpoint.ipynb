{
 "cells": [
  {
   "cell_type": "markdown",
   "metadata": {},
   "source": [
    "[How to map your Google location history with R](https://shiring.github.io/maps/2016/12/30/Standortverlauf_post?imm_mid=0ec531&cmp=em-data-na-na-newsltr_20170118)"
   ]
  },
  {
   "cell_type": "code",
   "execution_count": 2,
   "metadata": {
    "collapsed": false
   },
   "outputs": [
    {
     "data": {
      "application/javascript": [
       "define(function (require, exports, module) {\n",
       "  \"use strict\";\n",
       "  var $ = require('jquery');\n",
       "  var events = require('base/js/events');\n",
       "  \n",
       "  function modify_markdown(evt, data) {\n",
       "    var cell = data.cell;\n",
       "    // get current html\n",
       "    var html = cell.get_rendered();\n",
       "    // modify html\n",
       "    var parsed = $(html);\n",
       "    parsed.find('a').attr('title', 'I am a link!');\n",
       "    var new_html = parsed.html();\n",
       "    // set new html\n",
       "    cell.set_rendered(new_html);\n",
       "  }\n",
       "  \n",
       "  function load_extension () {\n",
       "    events.on(\"rendered.MarkdownCell\", modify_markdown);\n",
       "  }\n",
       "  \n",
       "  return {\n",
       "    load_ipython_extension: load_extension,\n",
       "  };\n",
       "});"
      ],
      "text/plain": [
       "<IPython.core.display.Javascript object>"
      ]
     },
     "metadata": {},
     "output_type": "display_data"
    }
   ],
   "source": [
    "%%javascript\n",
    "define(function (require, exports, module) {\n",
    "  \"use strict\";\n",
    "  var $ = require('jquery');\n",
    "  var events = require('base/js/events');\n",
    "  \n",
    "  function modify_markdown(evt, data) {\n",
    "    var cell = data.cell;\n",
    "    // get current html\n",
    "    var html = cell.get_rendered();\n",
    "    // modify html\n",
    "    var parsed = $(html);\n",
    "    parsed.find('a').attr('title', 'I am a link!');\n",
    "    var new_html = parsed.html();\n",
    "    // set new html\n",
    "    cell.set_rendered(new_html);\n",
    "  }\n",
    "  \n",
    "  function load_extension () {\n",
    "    events.on(\"rendered.MarkdownCell\", modify_markdown);\n",
    "  }\n",
    "  \n",
    "  return {\n",
    "    load_ipython_extension: load_extension,\n",
    "  };\n",
    "});"
   ]
  },
  {
   "cell_type": "code",
   "execution_count": null,
   "metadata": {
    "collapsed": true
   },
   "outputs": [],
   "source": []
  }
 ],
 "metadata": {
  "kernelspec": {
   "display_name": "Python [Root]",
   "language": "python",
   "name": "Python [Root]"
  },
  "language_info": {
   "codemirror_mode": {
    "name": "ipython",
    "version": 3
   },
   "file_extension": ".py",
   "mimetype": "text/x-python",
   "name": "python",
   "nbconvert_exporter": "python",
   "pygments_lexer": "ipython3",
   "version": "3.5.2"
  }
 },
 "nbformat": 4,
 "nbformat_minor": 0
}
