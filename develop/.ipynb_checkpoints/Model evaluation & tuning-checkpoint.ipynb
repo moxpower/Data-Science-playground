{
 "cells": [
  {
   "cell_type": "markdown",
   "metadata": {},
   "source": [
    "# How accurate does the model predict class A?\n",
    "(Quality of a binary test)"
   ]
  },
  {
   "cell_type": "markdown",
   "metadata": {},
   "source": [
    "When A, rate of detection: True positive rate (tp/(tp+fn)) <font color='blue'>**Recall/Sensitivity**</font>\n",
    "\n",
    "When NOT-A, rate of detection: True negatives rate (tn/(tn+fp)) <font color='blue'>**Specificity**</font>\n",
    "\n",
    "Rate of correct classification (A and not-A): True rate ((tp+tn)/(tp+fp+tn+fn)) <font color='blue'>**Accuracy**</font>\n",
    "\n",
    "When detected as A, rate of A [How many selected items are relevant?]: True ones of the positives (tp/(tp+fp)) <font color='blue'>**Precision**</font>\n",
    "\n",
    "### <center>Confusion matrix</center>\n",
    "![title](../img/ROC.png)"
   ]
  },
  {
   "cell_type": "markdown",
   "metadata": {},
   "source": [
    "## ROC curve\n",
    "(How good are True positives and False positives separated)\n",
    "\n",
    "[Info](https://www.medcalc.org/manual/roc-curves.php)\n",
    "[Explanation](https://www.youtube.com/watch?v=21Igj5Pr6u4)"
   ]
  },
  {
   "cell_type": "markdown",
   "metadata": {},
   "source": [
    "![roc curve](../img/roc_curve.png)"
   ]
  },
  {
   "cell_type": "markdown",
   "metadata": {},
   "source": [
    "*(1-spec)* : When Not-A, rate of false positives: False positive rate "
   ]
  },
  {
   "cell_type": "markdown",
   "metadata": {},
   "source": [
    "<img src=\"../img/sens-spec.png\" width=\"400\">"
   ]
  },
  {
   "cell_type": "markdown",
   "metadata": {},
   "source": [
    "<img src=\"../img/AUC.png\" width=\"400\">"
   ]
  },
  {
   "cell_type": "markdown",
   "metadata": {},
   "source": [
    "# Was the procedure useful?"
   ]
  },
  {
   "cell_type": "markdown",
   "metadata": {},
   "source": [
    "## F score"
   ]
  },
  {
   "cell_type": "markdown",
   "metadata": {},
   "source": [
    "The F score considers Precision and Recall. High F Score -> High predictive power of classification procedure"
   ]
  },
  {
   "cell_type": "markdown",
   "metadata": {},
   "source": [
    "Harmonic mean of precision and recall\n",
    "\n",
    "<img src=\"../img/F_Score.png\" width=\"400\">"
   ]
  },
  {
   "cell_type": "markdown",
   "metadata": {},
   "source": [
    "# Model selection (Parameter optimization)"
   ]
  },
  {
   "cell_type": "markdown",
   "metadata": {},
   "source": [
    "https://azure.microsoft.com/en-us/documentation/articles/machine-learning-algorithm-parameters-optimize/\n",
    "\n",
    "In Azure ML, Cross-validation is default model selection method"
   ]
  },
  {
   "cell_type": "markdown",
   "metadata": {},
   "source": [
    "<img src=\"../img/Model_selection.png\" width=\"600\">\n",
    "\n"
   ]
  },
  {
   "cell_type": "code",
   "execution_count": null,
   "metadata": {
    "collapsed": true
   },
   "outputs": [],
   "source": []
  }
 ],
 "metadata": {
  "kernelspec": {
   "display_name": "R",
   "language": "R",
   "name": "ir"
  },
  "language_info": {
   "codemirror_mode": "r",
   "file_extension": ".r",
   "mimetype": "text/x-r-source",
   "name": "R",
   "pygments_lexer": "r",
   "version": "3.2.2"
  }
 },
 "nbformat": 4,
 "nbformat_minor": 0
}
