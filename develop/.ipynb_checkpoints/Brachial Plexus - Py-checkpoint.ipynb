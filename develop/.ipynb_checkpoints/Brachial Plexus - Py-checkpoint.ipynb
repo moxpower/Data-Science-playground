{
 "cells": [
  {
   "cell_type": "markdown",
   "metadata": {},
   "source": [
    "<img src='https://upload.wikimedia.org/wikipedia/commons/3/3a/Gray808.png'>"
   ]
  },
  {
   "cell_type": "markdown",
   "metadata": {},
   "source": [
    "**Task**: segment a collection of nerves called the Brachial Plexus (BP) in ultrasound images"
   ]
  },
  {
   "cell_type": "markdown",
   "metadata": {
    "collapsed": true
   },
   "source": [
    "# visualization of prepared data"
   ]
  },
  {
   "cell_type": "code",
   "execution_count": 2,
   "metadata": {
    "collapsed": false
   },
   "outputs": [],
   "source": [
    "import numpy as np\n",
    "import pandas as pd\n",
    "import matplotlib.pyplot as plt\n",
    "%matplotlib inline\n",
    "\n",
    "imgs_id_test = np.load('../src/brachial/imgs_id_test.npy')\n",
    "imgs_mask_train = np.load('../src/brachial/imgs_mask_train.npy')\n",
    "imgs_test = np.load('../src/brachial/imgs_test.npy')\n",
    "imgs_train = np.load('../src/brachial/imgs_train.npy')"
   ]
  },
  {
   "cell_type": "markdown",
   "metadata": {},
   "source": [
    "**id** of each test picture:"
   ]
  },
  {
   "cell_type": "code",
   "execution_count": 3,
   "metadata": {
    "collapsed": false
   },
   "outputs": [
    {
     "data": {
      "text/plain": [
       "array([ 1, 10,  2,  3,  4,  5,  6,  7,  8,  9])"
      ]
     },
     "execution_count": 3,
     "metadata": {},
     "output_type": "execute_result"
    }
   ],
   "source": [
    "imgs_id_test"
   ]
  },
  {
   "cell_type": "markdown",
   "metadata": {},
   "source": [
    "test img **representation**"
   ]
  },
  {
   "cell_type": "code",
   "execution_count": 35,
   "metadata": {
    "collapsed": false
   },
   "outputs": [
    {
     "data": {
      "text/html": [
       "<div>\n",
       "<table border=\"1\" class=\"dataframe\">\n",
       "  <thead>\n",
       "    <tr style=\"text-align: right;\">\n",
       "      <th></th>\n",
       "      <th>0</th>\n",
       "      <th>1</th>\n",
       "      <th>2</th>\n",
       "      <th>3</th>\n",
       "      <th>4</th>\n",
       "      <th>5</th>\n",
       "      <th>6</th>\n",
       "      <th>7</th>\n",
       "      <th>8</th>\n",
       "      <th>9</th>\n",
       "      <th>...</th>\n",
       "      <th>570</th>\n",
       "      <th>571</th>\n",
       "      <th>572</th>\n",
       "      <th>573</th>\n",
       "      <th>574</th>\n",
       "      <th>575</th>\n",
       "      <th>576</th>\n",
       "      <th>577</th>\n",
       "      <th>578</th>\n",
       "      <th>579</th>\n",
       "    </tr>\n",
       "  </thead>\n",
       "  <tbody>\n",
       "    <tr>\n",
       "      <th>0</th>\n",
       "      <td>0</td>\n",
       "      <td>188</td>\n",
       "      <td>172</td>\n",
       "      <td>168</td>\n",
       "      <td>162</td>\n",
       "      <td>159</td>\n",
       "      <td>159</td>\n",
       "      <td>159</td>\n",
       "      <td>161</td>\n",
       "      <td>162</td>\n",
       "      <td>...</td>\n",
       "      <td>119</td>\n",
       "      <td>115</td>\n",
       "      <td>113</td>\n",
       "      <td>112</td>\n",
       "      <td>112</td>\n",
       "      <td>114</td>\n",
       "      <td>116</td>\n",
       "      <td>116</td>\n",
       "      <td>115</td>\n",
       "      <td>114</td>\n",
       "    </tr>\n",
       "    <tr>\n",
       "      <th>1</th>\n",
       "      <td>0</td>\n",
       "      <td>255</td>\n",
       "      <td>255</td>\n",
       "      <td>255</td>\n",
       "      <td>255</td>\n",
       "      <td>255</td>\n",
       "      <td>255</td>\n",
       "      <td>255</td>\n",
       "      <td>255</td>\n",
       "      <td>255</td>\n",
       "      <td>...</td>\n",
       "      <td>194</td>\n",
       "      <td>191</td>\n",
       "      <td>184</td>\n",
       "      <td>182</td>\n",
       "      <td>182</td>\n",
       "      <td>184</td>\n",
       "      <td>186</td>\n",
       "      <td>185</td>\n",
       "      <td>177</td>\n",
       "      <td>172</td>\n",
       "    </tr>\n",
       "    <tr>\n",
       "      <th>2</th>\n",
       "      <td>0</td>\n",
       "      <td>255</td>\n",
       "      <td>255</td>\n",
       "      <td>255</td>\n",
       "      <td>255</td>\n",
       "      <td>255</td>\n",
       "      <td>255</td>\n",
       "      <td>255</td>\n",
       "      <td>253</td>\n",
       "      <td>252</td>\n",
       "      <td>...</td>\n",
       "      <td>215</td>\n",
       "      <td>211</td>\n",
       "      <td>203</td>\n",
       "      <td>200</td>\n",
       "      <td>204</td>\n",
       "      <td>204</td>\n",
       "      <td>208</td>\n",
       "      <td>205</td>\n",
       "      <td>192</td>\n",
       "      <td>185</td>\n",
       "    </tr>\n",
       "    <tr>\n",
       "      <th>3</th>\n",
       "      <td>0</td>\n",
       "      <td>179</td>\n",
       "      <td>164</td>\n",
       "      <td>158</td>\n",
       "      <td>157</td>\n",
       "      <td>157</td>\n",
       "      <td>158</td>\n",
       "      <td>161</td>\n",
       "      <td>165</td>\n",
       "      <td>166</td>\n",
       "      <td>...</td>\n",
       "      <td>204</td>\n",
       "      <td>205</td>\n",
       "      <td>205</td>\n",
       "      <td>206</td>\n",
       "      <td>204</td>\n",
       "      <td>196</td>\n",
       "      <td>185</td>\n",
       "      <td>184</td>\n",
       "      <td>179</td>\n",
       "      <td>179</td>\n",
       "    </tr>\n",
       "    <tr>\n",
       "      <th>4</th>\n",
       "      <td>0</td>\n",
       "      <td>161</td>\n",
       "      <td>135</td>\n",
       "      <td>134</td>\n",
       "      <td>132</td>\n",
       "      <td>133</td>\n",
       "      <td>128</td>\n",
       "      <td>132</td>\n",
       "      <td>137</td>\n",
       "      <td>141</td>\n",
       "      <td>...</td>\n",
       "      <td>218</td>\n",
       "      <td>224</td>\n",
       "      <td>234</td>\n",
       "      <td>240</td>\n",
       "      <td>239</td>\n",
       "      <td>224</td>\n",
       "      <td>210</td>\n",
       "      <td>199</td>\n",
       "      <td>191</td>\n",
       "      <td>196</td>\n",
       "    </tr>\n",
       "  </tbody>\n",
       "</table>\n",
       "<p>5 rows × 580 columns</p>\n",
       "</div>"
      ],
      "text/plain": [
       "   0    1    2    3    4    5    6    7    8    9   ...   570  571  572  573  \\\n",
       "0    0  188  172  168  162  159  159  159  161  162 ...   119  115  113  112   \n",
       "1    0  255  255  255  255  255  255  255  255  255 ...   194  191  184  182   \n",
       "2    0  255  255  255  255  255  255  255  253  252 ...   215  211  203  200   \n",
       "3    0  179  164  158  157  157  158  161  165  166 ...   204  205  205  206   \n",
       "4    0  161  135  134  132  133  128  132  137  141 ...   218  224  234  240   \n",
       "\n",
       "   574  575  576  577  578  579  \n",
       "0  112  114  116  116  115  114  \n",
       "1  182  184  186  185  177  172  \n",
       "2  204  204  208  205  192  185  \n",
       "3  204  196  185  184  179  179  \n",
       "4  239  224  210  199  191  196  \n",
       "\n",
       "[5 rows x 580 columns]"
      ]
     },
     "execution_count": 35,
     "metadata": {},
     "output_type": "execute_result"
    }
   ],
   "source": [
    "df_test = pd.Panel4D(imgs_test)\n",
    "df = df_test[1][0]\n",
    "df.head()"
   ]
  },
  {
   "cell_type": "code",
   "execution_count": null,
   "metadata": {
    "collapsed": false
   },
   "outputs": [],
   "source": [
    "DataFrame.hist(df)"
   ]
  },
  {
   "cell_type": "code",
   "execution_count": 21,
   "metadata": {
    "collapsed": false
   },
   "outputs": [
    {
     "data": {
      "text/plain": [
       "array([ 0,  0,  0,  0,  0,  0,  0,  0,  0,  0,  0,  0,  0,  0,  0,  0,  0,\n",
       "        0,  0,  0,  0,  0,  0,  0,  0,  0,  0,  0,  0,  0,  0,  0,  0,  0,\n",
       "        1,  0,  0,  0,  3,  0,  0,  1,  5,  2,  1,  0,  0,  1,  2, 14,  0,\n",
       "        1,  0,  0,  2,  2,  1,  1,  7,  1,  0,  3,  0,  4,  2,  1,  0,  0,\n",
       "        1,  7,  0,  2,  1,  6,  0,  0,  7,  3,  0,  2,  0,  3,  0,  5,  2,\n",
       "        0,  3,  5,  3,  0,  4,  5,  9,  6,  1,  0,  0,  1,  4,  0,  1,  2,\n",
       "        2,  0,  1,  3,  2,  3,  5,  4,  0,  2,  0,  1,  2,  3,  1,  0,  3,\n",
       "        1,  2,  1,  0,  1,  0,  1,  0,  1,  2,  0,  3,  0,  0,  0,  3,  0,\n",
       "        0,  2,  1,  0,  3,  3,  3,  1,  1,  0,  0,  2,  0,  1,  0,  1,  1,\n",
       "        0,  2,  0,  1,  1,  1,  2,  0,  1,  2,  0,  0,  1,  0,  0,  0,  1,\n",
       "        1,  0,  1,  1,  0,  2,  0,  5,  2,  3,  1,  0,  3,  2,  0,  1,  1,\n",
       "        0,  1,  0,  1,  2,  1,  0,  0,  0,  8,  4, 20, 98,  1, 13,  0,  3,\n",
       "        1,  0,  1,  4,  0,  2,  1,  1,  1,  0,  2,  0,  1,  0,  0,  0,  0,\n",
       "        0,  1,  0,  0,  0,  0,  1,  0,  0,  0,  0,  0,  0,  0,  0,  1,  0,\n",
       "        1,  1,  0,  0,  0,  0,  0,  0,  0,  0,  0,  0,  0,  0,  0,  0,  0,\n",
       "       10], dtype=int32)"
      ]
     },
     "execution_count": 21,
     "metadata": {},
     "output_type": "execute_result"
    }
   ],
   "source": [
    "sorted(df[1])\n",
    "counts = np.bincount(sorted(df[1]))\n"
   ]
  },
  {
   "cell_type": "code",
   "execution_count": 26,
   "metadata": {
    "collapsed": false
   },
   "outputs": [
    {
     "data": {
      "text/plain": [
       "199"
      ]
     },
     "execution_count": 26,
     "metadata": {},
     "output_type": "execute_result"
    }
   ],
   "source": [
    "np.argmax(counts)"
   ]
  },
  {
   "cell_type": "code",
   "execution_count": 56,
   "metadata": {
    "collapsed": false
   },
   "outputs": [
    {
     "data": {
      "text/html": [
       "<div>\n",
       "<table border=\"1\" class=\"dataframe\">\n",
       "  <thead>\n",
       "    <tr style=\"text-align: right;\">\n",
       "      <th></th>\n",
       "      <th>1</th>\n",
       "    </tr>\n",
       "  </thead>\n",
       "  <tbody>\n",
       "    <tr>\n",
       "      <th>415</th>\n",
       "      <td>42</td>\n",
       "    </tr>\n",
       "    <tr>\n",
       "      <th>416</th>\n",
       "      <td>42</td>\n",
       "    </tr>\n",
       "    <tr>\n",
       "      <th>417</th>\n",
       "      <td>42</td>\n",
       "    </tr>\n",
       "    <tr>\n",
       "      <th>418</th>\n",
       "      <td>42</td>\n",
       "    </tr>\n",
       "    <tr>\n",
       "      <th>419</th>\n",
       "      <td>42</td>\n",
       "    </tr>\n",
       "  </tbody>\n",
       "</table>\n",
       "</div>"
      ],
      "text/plain": [
       "      1\n",
       "415  42\n",
       "416  42\n",
       "417  42\n",
       "418  42\n",
       "419  42"
      ]
     },
     "execution_count": 56,
     "metadata": {},
     "output_type": "execute_result"
    }
   ],
   "source": [
    "sorted(df_test[1][0][1].unique())\n",
    "dfr_test = pd.DataFrame(df_test[1][0][1])\n",
    "dfr_test.tail()"
   ]
  },
  {
   "cell_type": "code",
   "execution_count": 19,
   "metadata": {
    "collapsed": false
   },
   "outputs": [
    {
     "data": {
      "text/plain": [
       "((10, 1, 420, 580),\n",
       " array([  0, 255, 255, 255, 255, 255, 255, 255, 255, 255, 255, 250, 240,\n",
       "        244, 246, 245, 239, 236, 238, 240, 246, 250, 255, 252, 244, 239,\n",
       "        245, 250, 254, 255, 255, 255, 255, 251, 248, 247, 247, 246, 245,\n",
       "        247, 250, 247, 239, 243, 250, 253, 255, 255, 255, 255, 255, 255,\n",
       "        255, 255, 255, 255, 255, 255, 255, 255, 255, 255, 255, 255, 255,\n",
       "        251, 248, 247, 246, 246, 246, 241, 241, 246, 255, 255, 255, 255,\n",
       "        244, 240, 244, 248, 255, 255, 255, 255, 244, 248, 255, 255, 255,\n",
       "        255, 255, 255, 255, 255, 255, 255, 255, 255, 255, 255, 255, 255,\n",
       "        255, 253, 250, 247, 245, 245, 247, 251, 255, 255, 255, 255, 255,\n",
       "        255, 255, 255, 255, 255, 255, 255, 255, 255, 255, 255, 255, 255,\n",
       "        255, 255, 255, 255, 255, 255, 255, 255, 255, 255, 255, 255, 255,\n",
       "        255, 255, 255, 255, 255, 255, 255, 255, 255, 255, 255, 255, 255,\n",
       "        255, 255, 255, 255, 255, 254, 251, 250, 248, 248, 255, 255, 255,\n",
       "        255, 255, 255, 250, 247, 255, 253, 246, 243, 243, 246, 255, 255,\n",
       "        255, 255, 255, 255, 247, 247, 247, 247, 251, 245, 251, 255, 255,\n",
       "        255, 255, 255, 255, 255, 255, 255, 255, 255, 255, 255, 255, 255,\n",
       "        255, 255, 255, 255, 255, 255, 252, 244, 244, 252, 255, 255, 255,\n",
       "        254, 238, 239, 241, 244, 248, 252, 255, 255, 255, 255, 248, 244,\n",
       "        247, 248, 252, 253, 252, 248, 243, 239, 238, 237, 233, 231, 231,\n",
       "        230, 230, 230, 231, 231, 232, 233, 233, 233, 235, 235, 244, 246,\n",
       "        252, 254, 255, 255, 255, 255, 255, 255, 255, 255, 255, 255, 255,\n",
       "        255, 255, 255, 255, 255, 255, 255, 255, 255, 255, 255, 255, 255,\n",
       "        255, 255, 255, 255, 255, 255, 249, 242, 123,  96, 193, 201, 231,\n",
       "        229, 222, 219, 204, 207, 210, 212, 211, 207, 196, 195, 121, 116,\n",
       "        206, 206, 235, 239, 241, 240, 237, 232, 228, 228, 230, 235, 244,\n",
       "        250, 255, 253, 246, 241, 233, 232, 230, 229, 229, 232, 236, 237,\n",
       "        234, 235, 229, 222, 207, 212, 220, 225, 239, 239, 239, 239, 229,\n",
       "        225, 215, 211, 210, 210, 210, 210, 187, 184, 178, 176, 185, 189,\n",
       "        194, 197, 183, 186, 193, 197, 199, 198, 189, 183, 162, 159, 157,\n",
       "        156, 165, 175, 192, 201, 208, 207, 204, 203, 210, 218, 235, 244,\n",
       "        244, 241, 241, 246, 255, 255, 255, 255, 255, 255, 255, 255, 255,\n",
       "        255, 255, 255, 255, 255, 255, 255, 255, 255, 255, 255, 255, 255,\n",
       "        255, 255, 255, 255, 255, 255, 255, 255, 255, 255, 255, 255, 255,\n",
       "        255, 255, 255, 251, 248, 253, 255, 255, 255, 255, 255, 255, 255,\n",
       "        255, 255, 255, 251, 247, 247, 250, 251, 243, 235, 235, 243, 244,\n",
       "        248, 255, 255, 255, 255, 255, 253, 250, 251, 255, 255, 255, 255,\n",
       "        255, 254, 246, 243, 248, 254, 255, 255, 255, 255, 255, 255, 255,\n",
       "        255, 255, 249, 234, 226, 215, 218, 221, 222, 212, 211, 213, 217,\n",
       "        232, 235, 240, 241, 240, 239, 237, 237, 249, 255, 255, 255, 255,\n",
       "        247, 244, 251, 255, 255, 255, 255, 255, 255, 255, 255, 255, 248,\n",
       "        234, 226, 213, 205, 203, 207, 217, 220, 225, 226, 226, 222, 215,\n",
       "        213, 226, 227, 232, 235, 239, 241, 241, 240, 241, 242, 244, 244,\n",
       "        240, 233, 219, 211, 213, 224, 229, 225, 206, 189, 172, 172, 182,\n",
       "        185, 194, 199, 199, 192, 193, 200, 203, 203, 204, 205, 194, 191,\n",
       "        184, 182, 182, 184, 186, 185, 177, 172], dtype=uint8))"
      ]
     },
     "execution_count": 19,
     "metadata": {},
     "output_type": "execute_result"
    }
   ],
   "source": [
    "imgs_test.shape, imgs_test[1][0][1]"
   ]
  },
  {
   "cell_type": "code",
   "execution_count": null,
   "metadata": {
    "collapsed": true
   },
   "outputs": [],
   "source": []
  },
  {
   "cell_type": "markdown",
   "metadata": {},
   "source": [
    "train mask"
   ]
  },
  {
   "cell_type": "code",
   "execution_count": 12,
   "metadata": {
    "collapsed": false
   },
   "outputs": [
    {
     "data": {
      "text/plain": [
       "(numpy.ndarray, (12, 1, 420, 580))"
      ]
     },
     "execution_count": 12,
     "metadata": {},
     "output_type": "execute_result"
    }
   ],
   "source": [
    "type(imgs_mask_train), (imgs_mask_train.shape)"
   ]
  },
  {
   "cell_type": "code",
   "execution_count": null,
   "metadata": {
    "collapsed": true
   },
   "outputs": [],
   "source": [
    "\n"
   ]
  }
 ],
 "metadata": {
  "kernelspec": {
   "display_name": "Python 3",
   "language": "python",
   "name": "python3"
  },
  "language_info": {
   "codemirror_mode": {
    "name": "ipython",
    "version": 3
   },
   "file_extension": ".py",
   "mimetype": "text/x-python",
   "name": "python",
   "nbconvert_exporter": "python",
   "pygments_lexer": "ipython3",
   "version": "3.5.1"
  }
 },
 "nbformat": 4,
 "nbformat_minor": 0
}
