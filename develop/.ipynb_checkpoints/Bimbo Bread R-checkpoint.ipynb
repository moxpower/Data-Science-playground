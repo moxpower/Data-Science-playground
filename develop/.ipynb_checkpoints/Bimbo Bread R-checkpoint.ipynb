{
 "cells": [
  {
   "cell_type": "markdown",
   "metadata": {},
   "source": [
    "# R medians\n",
    "https://www.kaggle.com/nigelcarpenter/grupo-bimbo-inventory-demand/r-medians/code"
   ]
  },
  {
   "cell_type": "code",
   "execution_count": 2,
   "metadata": {
    "collapsed": false
   },
   "outputs": [],
   "source": [
    "library('data.table')"
   ]
  },
  {
   "cell_type": "code",
   "execution_count": 3,
   "metadata": {
    "collapsed": false
   },
   "outputs": [],
   "source": [
    "raw <- \"C:/Users/568377/Cognizant/Data Science/kaggle/Bimbo Bread/raw\""
   ]
  },
  {
   "cell_type": "code",
   "execution_count": 48,
   "metadata": {
    "collapsed": false
   },
   "outputs": [],
   "source": [
    "sub <- \"C:/Users/568377/Cognizant/Data Science/kaggle/Bimbo Bread/submissions\""
   ]
  },
  {
   "cell_type": "code",
   "execution_count": 5,
   "metadata": {
    "collapsed": false
   },
   "outputs": [
    {
     "name": "stdout",
     "output_type": "stream",
     "text": [
      "\r",
      "Read 0.0% of 74180464 rows\r",
      "Read 1.0% of 74180464 rows\r",
      "Read 1.8% of 74180464 rows\r",
      "Read 2.7% of 74180464 rows\r",
      "Read 3.7% of 74180464 rows\r",
      "Read 4.7% of 74180464 rows\r",
      "Read 5.7% of 74180464 rows\r",
      "Read 6.9% of 74180464 rows\r",
      "Read 8.0% of 74180464 rows\r",
      "Read 9.0% of 74180464 rows\r",
      "Read 10.0% of 74180464 rows\r",
      "Read 11.1% of 74180464 rows\r",
      "Read 12.2% of 74180464 rows\r",
      "Read 13.5% of 74180464 rows\r",
      "Read 14.7% of 74180464 rows\r",
      "Read 16.1% of 74180464 rows\r",
      "Read 17.3% of 74180464 rows\r",
      "Read 18.6% of 74180464 rows\r",
      "Read 20.2% of 74180464 rows\r",
      "Read 21.7% of 74180464 rows\r",
      "Read 23.3% of 74180464 rows\r",
      "Read 24.9% of 74180464 rows\r",
      "Read 26.5% of 74180464 rows\r",
      "Read 28.1% of 74180464 rows\r",
      "Read 29.7% of 74180464 rows\r",
      "Read 31.4% of 74180464 rows\r",
      "Read 32.7% of 74180464 rows\r",
      "Read 33.7% of 74180464 rows\r",
      "Read 34.9% of 74180464 rows\r",
      "Read 36.1% of 74180464 rows\r",
      "Read 37.4% of 74180464 rows\r",
      "Read 38.8% of 74180464 rows\r",
      "Read 40.1% of 74180464 rows\r",
      "Read 41.5% of 74180464 rows\r",
      "Read 43.0% of 74180464 rows\r",
      "Read 44.2% of 74180464 rows\r",
      "Read 45.5% of 74180464 rows\r",
      "Read 46.6% of 74180464 rows\r",
      "Read 47.9% of 74180464 rows\r",
      "Read 49.1% of 74180464 rows\r",
      "Read 50.6% of 74180464 rows\r",
      "Read 52.1% of 74180464 rows\r",
      "Read 53.7% of 74180464 rows\r",
      "Read 55.3% of 74180464 rows\r",
      "Read 56.8% of 74180464 rows\r",
      "Read 58.4% of 74180464 rows\r",
      "Read 60.0% of 74180464 rows\r",
      "Read 61.3% of 74180464 rows\r",
      "Read 62.6% of 74180464 rows\r",
      "Read 63.9% of 74180464 rows\r",
      "Read 65.2% of 74180464 rows\r",
      "Read 66.4% of 74180464 rows\r",
      "Read 67.7% of 74180464 rows\r",
      "Read 68.9% of 74180464 rows\r",
      "Read 70.2% of 74180464 rows\r",
      "Read 71.6% of 74180464 rows\r",
      "Read 73.1% of 74180464 rows\r",
      "Read 74.4% of 74180464 rows\r",
      "Read 75.7% of 74180464 rows\r",
      "Read 76.9% of 74180464 rows\r",
      "Read 78.4% of 74180464 rows\r",
      "Read 79.8% of 74180464 rows\r",
      "Read 81.2% of 74180464 rows\r",
      "Read 82.4% of 74180464 rows\r",
      "Read 84.0% of 74180464 rows\r",
      "Read 85.5% of 74180464 rows\r",
      "Read 86.9% of 74180464 rows\r",
      "Read 88.3% of 74180464 rows\r",
      "Read 89.8% of 74180464 rows\r",
      "Read 91.1% of 74180464 rows\r",
      "Read 92.6% of 74180464 rows\r",
      "Read 93.9% of 74180464 rows\r",
      "Read 95.3% of 74180464 rows\r",
      "Read 96.5% of 74180464 rows\r",
      "Read 97.9% of 74180464 rows\r",
      "Read 99.4% of 74180464 rows\r",
      "Read 74180464 rows and 3 (of 11) columns from 2.980 GB file in 00:01:39\n"
     ]
    }
   ],
   "source": [
    "train <- fread(file.path(raw,\"train.csv\"), select = c('Cliente_ID','Producto_ID','Demanda_uni_equil'), colClasses=c(Cliente_ID=\"numeric\",Producto_ID=\"numeric\",Demanda_uni_equil=\"numeric\"))"
   ]
  },
  {
   "cell_type": "code",
   "execution_count": 6,
   "metadata": {
    "collapsed": false
   },
   "outputs": [
    {
     "data": {
      "text/html": [
       "<table>\n",
       "<thead><tr><th></th><th scope=col>Cliente_ID</th><th scope=col>Producto_ID</th><th scope=col>Demanda_uni_equil</th></tr></thead>\n",
       "<tbody>\n",
       "\t<tr><th scope=row>1</th><td>15766</td><td>1212 </td><td>3    </td></tr>\n",
       "\t<tr><th scope=row>2</th><td>15766</td><td>1216 </td><td>4    </td></tr>\n",
       "\t<tr><th scope=row>3</th><td>15766</td><td>1238 </td><td>4    </td></tr>\n",
       "\t<tr><th scope=row>4</th><td>15766</td><td>1240 </td><td>4    </td></tr>\n",
       "\t<tr><th scope=row>5</th><td>15766</td><td>1242 </td><td>3    </td></tr>\n",
       "\t<tr><th scope=row>6</th><td>15766</td><td>1250 </td><td>5    </td></tr>\n",
       "</tbody>\n",
       "</table>\n"
      ],
      "text/latex": [
       "\\begin{tabular}{r|lll}\n",
       "  & Cliente\\_ID & Producto\\_ID & Demanda\\_uni\\_equil\\\\\n",
       "\\hline\n",
       "\t1 & 15766 & 1212  & 3    \\\\\n",
       "\t2 & 15766 & 1216  & 4    \\\\\n",
       "\t3 & 15766 & 1238  & 4    \\\\\n",
       "\t4 & 15766 & 1240  & 4    \\\\\n",
       "\t5 & 15766 & 1242  & 3    \\\\\n",
       "\t6 & 15766 & 1250  & 5    \\\\\n",
       "\\end{tabular}\n"
      ],
      "text/plain": [
       "  Cliente_ID Producto_ID Demanda_uni_equil\n",
       "1 15766      1212        3                \n",
       "2 15766      1216        4                \n",
       "3 15766      1238        4                \n",
       "4 15766      1240        4                \n",
       "5 15766      1242        3                \n",
       "6 15766      1250        5                "
      ]
     },
     "metadata": {},
     "output_type": "display_data"
    }
   ],
   "source": [
    "head(train)"
   ]
  },
  {
   "cell_type": "code",
   "execution_count": 7,
   "metadata": {
    "collapsed": false
   },
   "outputs": [
    {
     "data": {
      "text/html": [
       "<dl class=dl-horizontal>\n",
       "\t<dt>Cliente_ID</dt>\n",
       "\t\t<dd>\"numeric\"</dd>\n",
       "\t<dt>Producto_ID</dt>\n",
       "\t\t<dd>\"numeric\"</dd>\n",
       "\t<dt>Demanda_uni_equil</dt>\n",
       "\t\t<dd>\"numeric\"</dd>\n",
       "</dl>\n"
      ],
      "text/latex": [
       "\\begin{description*}\n",
       "\\item[Cliente\\textbackslash{}\\_ID] \"numeric\"\n",
       "\\item[Producto\\textbackslash{}\\_ID] \"numeric\"\n",
       "\\item[Demanda\\textbackslash{}\\_uni\\textbackslash{}\\_equil] \"numeric\"\n",
       "\\end{description*}\n"
      ],
      "text/markdown": [
       "Cliente_ID\n",
       ":   \"numeric\"Producto_ID\n",
       ":   \"numeric\"Demanda_uni_equil\n",
       ":   \"numeric\"\n",
       "\n"
      ],
      "text/plain": [
       "       Cliente_ID       Producto_ID Demanda_uni_equil \n",
       "        \"numeric\"         \"numeric\"         \"numeric\" "
      ]
     },
     "metadata": {},
     "output_type": "display_data"
    }
   ],
   "source": [
    "sapply(train,class)"
   ]
  },
  {
   "cell_type": "markdown",
   "metadata": {},
   "source": [
    "set a table key to enable fast aggregations"
   ]
  },
  {
   "cell_type": "code",
   "execution_count": 8,
   "metadata": {
    "collapsed": true
   },
   "outputs": [],
   "source": [
    "setkey(train, Producto_ID, Cliente_ID)"
   ]
  },
  {
   "cell_type": "code",
   "execution_count": 24,
   "metadata": {
    "collapsed": true
   },
   "outputs": [],
   "source": [
    "median <- train[,median(Demanda_uni_equil)] # overall median"
   ]
  },
  {
   "cell_type": "code",
   "execution_count": 32,
   "metadata": {
    "collapsed": false
   },
   "outputs": [],
   "source": [
    "#calculate product overall median -> M2\n",
    "median_Prod <- train[, median(Demanda_uni_equil), by = Producto_ID]\n",
    "setnames(median_Prod, \"V1\",\"M2\")"
   ]
  },
  {
   "cell_type": "code",
   "execution_count": 34,
   "metadata": {
    "collapsed": true
   },
   "outputs": [],
   "source": [
    "#calculate the client and product median -> M3\n",
    "median_Client_Prod <- train[, median(Demanda_uni_equil),by = .(Producto_ID,Cliente_ID)]\n",
    "setnames(median_Client_Prod,\"V1\",\"M3\")"
   ]
  },
  {
   "cell_type": "markdown",
   "metadata": {},
   "source": [
    "# Scoring"
   ]
  },
  {
   "cell_type": "code",
   "execution_count": 36,
   "metadata": {
    "collapsed": false
   },
   "outputs": [
    {
     "name": "stdout",
     "output_type": "stream",
     "text": [
      "\r",
      "Read 1.7% of 6999251 rows\r",
      "Read 20.7% of 6999251 rows\r",
      "Read 41.9% of 6999251 rows\r",
      "Read 62.9% of 6999251 rows\r",
      "Read 84.2% of 6999251 rows\r",
      "Read 6999251 rows and 3 (of 7) columns from 0.234 GB file in 00:00:07\n"
     ]
    }
   ],
   "source": [
    "test <- fread(file.path(raw,\"test.csv\"), \n",
    "               select = c('id','Cliente_ID', 'Producto_ID'),\n",
    "               colClasses=c(Cliente_ID=\"numeric\",Producto_ID=\"numeric\"))"
   ]
  },
  {
   "cell_type": "code",
   "execution_count": 40,
   "metadata": {
    "collapsed": false
   },
   "outputs": [
    {
     "data": {
      "text/html": [
       "<dl class=dl-horizontal>\n",
       "\t<dt>id</dt>\n",
       "\t\t<dd>\"integer\"</dd>\n",
       "\t<dt>Cliente_ID</dt>\n",
       "\t\t<dd>\"numeric\"</dd>\n",
       "\t<dt>Producto_ID</dt>\n",
       "\t\t<dd>\"numeric\"</dd>\n",
       "</dl>\n"
      ],
      "text/latex": [
       "\\begin{description*}\n",
       "\\item[id] \"integer\"\n",
       "\\item[Cliente\\textbackslash{}\\_ID] \"numeric\"\n",
       "\\item[Producto\\textbackslash{}\\_ID] \"numeric\"\n",
       "\\end{description*}\n"
      ],
      "text/markdown": [
       "id\n",
       ":   \"integer\"Cliente_ID\n",
       ":   \"numeric\"Producto_ID\n",
       ":   \"numeric\"\n",
       "\n"
      ],
      "text/plain": [
       "         id  Cliente_ID Producto_ID \n",
       "  \"integer\"   \"numeric\"   \"numeric\" "
      ]
     },
     "metadata": {},
     "output_type": "display_data"
    }
   ],
   "source": [
    "sapply(test, class)\n",
    "setkey(test, Producto_ID, Cliente_ID)"
   ]
  },
  {
   "cell_type": "code",
   "execution_count": 41,
   "metadata": {
    "collapsed": true
   },
   "outputs": [],
   "source": [
    "# add product and client and product medians\n",
    "submit <- merge(test, median_Client_Prod, all.x = TRUE)\n",
    "submit$M2 <- merge(test, median_Prod, by = \"Producto_ID\", all.x = TRUE)$M2"
   ]
  },
  {
   "cell_type": "code",
   "execution_count": 42,
   "metadata": {
    "collapsed": true
   },
   "outputs": [],
   "source": [
    "submit$Pred <- submit$M3"
   ]
  },
  {
   "cell_type": "code",
   "execution_count": 43,
   "metadata": {
    "collapsed": true
   },
   "outputs": [],
   "source": [
    "# where median by product and client is null use median by product (M2)\n",
    "submit[is.na(M3)]$Pred <- submit[is.na(M3)]$M2"
   ]
  },
  {
   "cell_type": "code",
   "execution_count": 44,
   "metadata": {
    "collapsed": true
   },
   "outputs": [],
   "source": [
    "# where median by product is null use overall median\n",
    "submit[is.na(Pred)]$Pred <- median"
   ]
  },
  {
   "cell_type": "code",
   "execution_count": 45,
   "metadata": {
    "collapsed": true
   },
   "outputs": [],
   "source": [
    "setnames(submit,\"Pred\",\"Demanda_uni_equil\")"
   ]
  },
  {
   "cell_type": "code",
   "execution_count": 46,
   "metadata": {
    "collapsed": false
   },
   "outputs": [
    {
     "data": {
      "text/html": [
       "<table>\n",
       "<thead><tr><th></th><th scope=col>Producto_ID</th><th scope=col>Cliente_ID</th><th scope=col>id</th><th scope=col>M3</th><th scope=col>M2</th><th scope=col>Demanda_uni_equil</th></tr></thead>\n",
       "<tbody>\n",
       "\t<tr><th scope=row>1</th><td>41     </td><td> 681747</td><td>6236398</td><td>1430   </td><td> 70.0  </td><td>1430.0 </td></tr>\n",
       "\t<tr><th scope=row>2</th><td>41     </td><td>2284385</td><td>1678163</td><td> 110   </td><td> 70.0  </td><td> 110.0 </td></tr>\n",
       "\t<tr><th scope=row>3</th><td>41     </td><td>2482890</td><td>3458287</td><td> 400   </td><td> 70.0  </td><td> 400.0 </td></tr>\n",
       "\t<tr><th scope=row>4</th><td>53     </td><td>  26372</td><td>2690233</td><td> 138   </td><td>119.5  </td><td> 138.0 </td></tr>\n",
       "\t<tr><th scope=row>5</th><td>53     </td><td>1000006</td><td>1288534</td><td>  NA   </td><td>119.5  </td><td> 119.5 </td></tr>\n",
       "\t<tr><th scope=row>6</th><td>53     </td><td>1216931</td><td>1127055</td><td> 440   </td><td>119.5  </td><td> 440.0 </td></tr>\n",
       "</tbody>\n",
       "</table>\n"
      ],
      "text/latex": [
       "\\begin{tabular}{r|llllll}\n",
       "  & Producto\\_ID & Cliente\\_ID & id & M3 & M2 & Demanda\\_uni\\_equil\\\\\n",
       "\\hline\n",
       "\t1 & 41      &  681747 & 6236398 & 1430    &  70.0   & 1430.0 \\\\\n",
       "\t2 & 41      & 2284385 & 1678163 &  110    &  70.0   &  110.0 \\\\\n",
       "\t3 & 41      & 2482890 & 3458287 &  400    &  70.0   &  400.0 \\\\\n",
       "\t4 & 53      &   26372 & 2690233 &  138    & 119.5   &  138.0 \\\\\n",
       "\t5 & 53      & 1000006 & 1288534 &   NA    & 119.5   &  119.5 \\\\\n",
       "\t6 & 53      & 1216931 & 1127055 &  440    & 119.5   &  440.0 \\\\\n",
       "\\end{tabular}\n"
      ],
      "text/plain": [
       "  Producto_ID Cliente_ID id      M3   M2    Demanda_uni_equil\n",
       "1 41           681747    6236398 1430  70.0 1430.0           \n",
       "2 41          2284385    1678163  110  70.0  110.0           \n",
       "3 41          2482890    3458287  400  70.0  400.0           \n",
       "4 53            26372    2690233  138 119.5  138.0           \n",
       "5 53          1000006    1288534   NA 119.5  119.5           \n",
       "6 53          1216931    1127055  440 119.5  440.0           "
      ]
     },
     "metadata": {},
     "output_type": "display_data"
    }
   ],
   "source": [
    "head(submit)"
   ]
  },
  {
   "cell_type": "code",
   "execution_count": 49,
   "metadata": {
    "collapsed": true
   },
   "outputs": [],
   "source": [
    "# Write out submission file.\n",
    "# Any results you write to the current directory are saved as output.\n",
    "write.csv(submit[,.(id,Demanda_uni_equil)],file.path(sub,\"submission3.csv\"), row.names = FALSE)"
   ]
  },
  {
   "cell_type": "code",
   "execution_count": 51,
   "metadata": {
    "collapsed": false
   },
   "outputs": [
    {
     "data": {
      "text/html": [
       "3.5"
      ],
      "text/latex": [
       "3.5"
      ],
      "text/markdown": [
       "3.5"
      ],
      "text/plain": [
       "[1] 3.5"
      ]
     },
     "metadata": {},
     "output_type": "display_data"
    }
   ],
   "source": [
    "head(submit[,median(Demanda_uni_equil)])"
   ]
  },
  {
   "cell_type": "code",
   "execution_count": null,
   "metadata": {
    "collapsed": true
   },
   "outputs": [],
   "source": []
  }
 ],
 "metadata": {
  "kernelspec": {
   "display_name": "R",
   "language": "R",
   "name": "ir"
  },
  "language_info": {
   "codemirror_mode": "r",
   "file_extension": ".r",
   "mimetype": "text/x-r-source",
   "name": "R",
   "pygments_lexer": "r",
   "version": "3.2.2"
  }
 },
 "nbformat": 4,
 "nbformat_minor": 0
}
