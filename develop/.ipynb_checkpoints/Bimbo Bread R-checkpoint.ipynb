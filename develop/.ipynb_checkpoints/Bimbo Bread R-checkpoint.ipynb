{
 "cells": [
  {
   "cell_type": "code",
   "execution_count": 2,
   "metadata": {
    "collapsed": false
   },
   "outputs": [],
   "source": [
    "library('data.table')"
   ]
  },
  {
   "cell_type": "code",
   "execution_count": 3,
   "metadata": {
    "collapsed": false
   },
   "outputs": [],
   "source": [
    "raw <- \"C:/Users/568377/Cognizant/Data Science/kaggle/Bimbo Bread/raw\""
   ]
  },
  {
   "cell_type": "code",
   "execution_count": 4,
   "metadata": {
    "collapsed": false
   },
   "outputs": [
    {
     "data": {
      "text/html": [
       "\"C:/Users/568377/Cognizant/Data Science/kaggle/Bimbo Bread/raw\""
      ],
      "text/latex": [
       "\"C:/Users/568377/Cognizant/Data Science/kaggle/Bimbo Bread/raw\""
      ],
      "text/markdown": [
       "\"C:/Users/568377/Cognizant/Data Science/kaggle/Bimbo Bread/raw\""
      ],
      "text/plain": [
       "[1] \"C:/Users/568377/Cognizant/Data Science/kaggle/Bimbo Bread/raw\""
      ]
     },
     "metadata": {},
     "output_type": "display_data"
    }
   ],
   "source": [
    "raw"
   ]
  },
  {
   "cell_type": "code",
   "execution_count": 5,
   "metadata": {
    "collapsed": false
   },
   "outputs": [
    {
     "name": "stdout",
     "output_type": "stream",
     "text": [
      "\r",
      "Read 0.0% of 74180464 rows\r",
      "Read 1.0% of 74180464 rows\r",
      "Read 1.8% of 74180464 rows\r",
      "Read 2.7% of 74180464 rows\r",
      "Read 3.7% of 74180464 rows\r",
      "Read 4.7% of 74180464 rows\r",
      "Read 5.7% of 74180464 rows\r",
      "Read 6.9% of 74180464 rows\r",
      "Read 8.0% of 74180464 rows\r",
      "Read 9.0% of 74180464 rows\r",
      "Read 10.0% of 74180464 rows\r",
      "Read 11.1% of 74180464 rows\r",
      "Read 12.2% of 74180464 rows\r",
      "Read 13.5% of 74180464 rows\r",
      "Read 14.7% of 74180464 rows\r",
      "Read 16.1% of 74180464 rows\r",
      "Read 17.3% of 74180464 rows\r",
      "Read 18.6% of 74180464 rows\r",
      "Read 20.2% of 74180464 rows\r",
      "Read 21.7% of 74180464 rows\r",
      "Read 23.3% of 74180464 rows\r",
      "Read 24.9% of 74180464 rows\r",
      "Read 26.5% of 74180464 rows\r",
      "Read 28.1% of 74180464 rows\r",
      "Read 29.7% of 74180464 rows\r",
      "Read 31.4% of 74180464 rows\r",
      "Read 32.7% of 74180464 rows\r",
      "Read 33.7% of 74180464 rows\r",
      "Read 34.9% of 74180464 rows\r",
      "Read 36.1% of 74180464 rows\r",
      "Read 37.4% of 74180464 rows\r",
      "Read 38.8% of 74180464 rows\r",
      "Read 40.1% of 74180464 rows\r",
      "Read 41.5% of 74180464 rows\r",
      "Read 43.0% of 74180464 rows\r",
      "Read 44.2% of 74180464 rows\r",
      "Read 45.5% of 74180464 rows\r",
      "Read 46.6% of 74180464 rows\r",
      "Read 47.9% of 74180464 rows\r",
      "Read 49.1% of 74180464 rows\r",
      "Read 50.6% of 74180464 rows\r",
      "Read 52.1% of 74180464 rows\r",
      "Read 53.7% of 74180464 rows\r",
      "Read 55.3% of 74180464 rows\r",
      "Read 56.8% of 74180464 rows\r",
      "Read 58.4% of 74180464 rows\r",
      "Read 60.0% of 74180464 rows\r",
      "Read 61.3% of 74180464 rows\r",
      "Read 62.6% of 74180464 rows\r",
      "Read 63.9% of 74180464 rows\r",
      "Read 65.2% of 74180464 rows\r",
      "Read 66.4% of 74180464 rows\r",
      "Read 67.7% of 74180464 rows\r",
      "Read 68.9% of 74180464 rows\r",
      "Read 70.2% of 74180464 rows\r",
      "Read 71.6% of 74180464 rows\r",
      "Read 73.1% of 74180464 rows\r",
      "Read 74.4% of 74180464 rows\r",
      "Read 75.7% of 74180464 rows\r",
      "Read 76.9% of 74180464 rows\r",
      "Read 78.4% of 74180464 rows\r",
      "Read 79.8% of 74180464 rows\r",
      "Read 81.2% of 74180464 rows\r",
      "Read 82.4% of 74180464 rows\r",
      "Read 84.0% of 74180464 rows\r",
      "Read 85.5% of 74180464 rows\r",
      "Read 86.9% of 74180464 rows\r",
      "Read 88.3% of 74180464 rows\r",
      "Read 89.8% of 74180464 rows\r",
      "Read 91.1% of 74180464 rows\r",
      "Read 92.6% of 74180464 rows\r",
      "Read 93.9% of 74180464 rows\r",
      "Read 95.3% of 74180464 rows\r",
      "Read 96.5% of 74180464 rows\r",
      "Read 97.9% of 74180464 rows\r",
      "Read 99.4% of 74180464 rows\r",
      "Read 74180464 rows and 3 (of 11) columns from 2.980 GB file in 00:01:39\n"
     ]
    }
   ],
   "source": [
    "train <- fread(file.path(raw,\"train.csv\"), select = c('Cliente_ID','Producto_ID','Demanda_uni_equil'), colClasses=c(Cliente_ID=\"numeric\",Producto_ID=\"numeric\",Demanda_uni_equil=\"numeric\"))"
   ]
  },
  {
   "cell_type": "code",
   "execution_count": 6,
   "metadata": {
    "collapsed": false
   },
   "outputs": [
    {
     "data": {
      "text/html": [
       "<table>\n",
       "<thead><tr><th></th><th scope=col>Cliente_ID</th><th scope=col>Producto_ID</th><th scope=col>Demanda_uni_equil</th></tr></thead>\n",
       "<tbody>\n",
       "\t<tr><th scope=row>1</th><td>15766</td><td>1212 </td><td>3    </td></tr>\n",
       "\t<tr><th scope=row>2</th><td>15766</td><td>1216 </td><td>4    </td></tr>\n",
       "\t<tr><th scope=row>3</th><td>15766</td><td>1238 </td><td>4    </td></tr>\n",
       "\t<tr><th scope=row>4</th><td>15766</td><td>1240 </td><td>4    </td></tr>\n",
       "\t<tr><th scope=row>5</th><td>15766</td><td>1242 </td><td>3    </td></tr>\n",
       "\t<tr><th scope=row>6</th><td>15766</td><td>1250 </td><td>5    </td></tr>\n",
       "</tbody>\n",
       "</table>\n"
      ],
      "text/latex": [
       "\\begin{tabular}{r|lll}\n",
       "  & Cliente\\_ID & Producto\\_ID & Demanda\\_uni\\_equil\\\\\n",
       "\\hline\n",
       "\t1 & 15766 & 1212  & 3    \\\\\n",
       "\t2 & 15766 & 1216  & 4    \\\\\n",
       "\t3 & 15766 & 1238  & 4    \\\\\n",
       "\t4 & 15766 & 1240  & 4    \\\\\n",
       "\t5 & 15766 & 1242  & 3    \\\\\n",
       "\t6 & 15766 & 1250  & 5    \\\\\n",
       "\\end{tabular}\n"
      ],
      "text/plain": [
       "  Cliente_ID Producto_ID Demanda_uni_equil\n",
       "1 15766      1212        3                \n",
       "2 15766      1216        4                \n",
       "3 15766      1238        4                \n",
       "4 15766      1240        4                \n",
       "5 15766      1242        3                \n",
       "6 15766      1250        5                "
      ]
     },
     "metadata": {},
     "output_type": "display_data"
    }
   ],
   "source": [
    "head(train)"
   ]
  },
  {
   "cell_type": "code",
   "execution_count": 7,
   "metadata": {
    "collapsed": false
   },
   "outputs": [
    {
     "data": {
      "text/html": [
       "<dl class=dl-horizontal>\n",
       "\t<dt>Cliente_ID</dt>\n",
       "\t\t<dd>\"numeric\"</dd>\n",
       "\t<dt>Producto_ID</dt>\n",
       "\t\t<dd>\"numeric\"</dd>\n",
       "\t<dt>Demanda_uni_equil</dt>\n",
       "\t\t<dd>\"numeric\"</dd>\n",
       "</dl>\n"
      ],
      "text/latex": [
       "\\begin{description*}\n",
       "\\item[Cliente\\textbackslash{}\\_ID] \"numeric\"\n",
       "\\item[Producto\\textbackslash{}\\_ID] \"numeric\"\n",
       "\\item[Demanda\\textbackslash{}\\_uni\\textbackslash{}\\_equil] \"numeric\"\n",
       "\\end{description*}\n"
      ],
      "text/markdown": [
       "Cliente_ID\n",
       ":   \"numeric\"Producto_ID\n",
       ":   \"numeric\"Demanda_uni_equil\n",
       ":   \"numeric\"\n",
       "\n"
      ],
      "text/plain": [
       "       Cliente_ID       Producto_ID Demanda_uni_equil \n",
       "        \"numeric\"         \"numeric\"         \"numeric\" "
      ]
     },
     "metadata": {},
     "output_type": "display_data"
    }
   ],
   "source": [
    "sapply(train,class)"
   ]
  },
  {
   "cell_type": "markdown",
   "metadata": {},
   "source": [
    "set a table key to enable fast aggregations"
   ]
  },
  {
   "cell_type": "code",
   "execution_count": 8,
   "metadata": {
    "collapsed": true
   },
   "outputs": [],
   "source": [
    "setkey(train, Producto_ID, Cliente_ID)"
   ]
  },
  {
   "cell_type": "code",
   "execution_count": 13,
   "metadata": {
    "collapsed": false
   },
   "outputs": [
    {
     "data": {
      "text/html": [
       "<table>\n",
       "<thead><tr><th></th><th scope=col>Cliente_ID</th><th scope=col>Producto_ID</th><th scope=col>Demanda_uni_equil</th></tr></thead>\n",
       "<tbody>\n",
       "\t<tr><th scope=row>1</th><td>146030</td><td>41    </td><td>70    </td></tr>\n",
       "</tbody>\n",
       "</table>\n"
      ],
      "text/latex": [
       "\\begin{tabular}{r|lll}\n",
       "  & Cliente\\_ID & Producto\\_ID & Demanda\\_uni\\_equil\\\\\n",
       "\\hline\n",
       "\t1 & 146030 & 41     & 70    \\\\\n",
       "\\end{tabular}\n"
      ],
      "text/plain": [
       "  Cliente_ID Producto_ID Demanda_uni_equil\n",
       "1 146030     41          70               "
      ]
     },
     "metadata": {},
     "output_type": "display_data"
    }
   ],
   "source": [
    "train[1]"
   ]
  },
  {
   "cell_type": "code",
   "execution_count": 10,
   "metadata": {
    "collapsed": false
   },
   "outputs": [
    {
     "data": {
      "text/html": [
       "<table>\n",
       "<thead><tr><th></th><th scope=col>Cliente_ID</th><th scope=col>Producto_ID</th><th scope=col>Demanda_uni_equil</th></tr></thead>\n",
       "<tbody>\n",
       "\t<tr><th scope=row>1</th><td>136301</td><td>49997 </td><td> 7    </td></tr>\n",
       "\t<tr><th scope=row>2</th><td>136301</td><td>49997 </td><td>15    </td></tr>\n",
       "\t<tr><th scope=row>3</th><td>136301</td><td>49997 </td><td>17    </td></tr>\n",
       "\t<tr><th scope=row>4</th><td>136301</td><td>49997 </td><td>15    </td></tr>\n",
       "\t<tr><th scope=row>5</th><td>136301</td><td>49997 </td><td>36    </td></tr>\n",
       "\t<tr><th scope=row>6</th><td>136301</td><td>49997 </td><td>13    </td></tr>\n",
       "</tbody>\n",
       "</table>\n"
      ],
      "text/latex": [
       "\\begin{tabular}{r|lll}\n",
       "  & Cliente\\_ID & Producto\\_ID & Demanda\\_uni\\_equil\\\\\n",
       "\\hline\n",
       "\t1 & 136301 & 49997  &  7    \\\\\n",
       "\t2 & 136301 & 49997  & 15    \\\\\n",
       "\t3 & 136301 & 49997  & 17    \\\\\n",
       "\t4 & 136301 & 49997  & 15    \\\\\n",
       "\t5 & 136301 & 49997  & 36    \\\\\n",
       "\t6 & 136301 & 49997  & 13    \\\\\n",
       "\\end{tabular}\n"
      ],
      "text/plain": [
       "  Cliente_ID Producto_ID Demanda_uni_equil\n",
       "1 136301     49997        7               \n",
       "2 136301     49997       15               \n",
       "3 136301     49997       17               \n",
       "4 136301     49997       15               \n",
       "5 136301     49997       36               \n",
       "6 136301     49997       13               "
      ]
     },
     "metadata": {},
     "output_type": "display_data"
    }
   ],
   "source": [
    "tail(train)"
   ]
  },
  {
   "cell_type": "code",
   "execution_count": null,
   "metadata": {
    "collapsed": true
   },
   "outputs": [],
   "source": [
    "median <- train[,median(Demanda_uni_equil)]"
   ]
  }
 ],
 "metadata": {
  "kernelspec": {
   "display_name": "R",
   "language": "R",
   "name": "ir"
  },
  "language_info": {
   "codemirror_mode": "r",
   "file_extension": ".r",
   "mimetype": "text/x-r-source",
   "name": "R",
   "pygments_lexer": "r",
   "version": "3.2.2"
  }
 },
 "nbformat": 4,
 "nbformat_minor": 0
}
