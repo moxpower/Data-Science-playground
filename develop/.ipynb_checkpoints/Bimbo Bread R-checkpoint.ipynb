{
 "cells": [
  {
   "cell_type": "markdown",
   "metadata": {},
   "source": [
    "# R medians\n",
    "https://www.kaggle.com/nigelcarpenter/grupo-bimbo-inventory-demand/r-medians/code"
   ]
  },
  {
   "cell_type": "code",
   "execution_count": 2,
   "metadata": {
    "collapsed": false
   },
   "outputs": [],
   "source": [
    "library('data.table')"
   ]
  },
  {
   "cell_type": "code",
   "execution_count": 3,
   "metadata": {
    "collapsed": false
   },
   "outputs": [],
   "source": [
    "raw <- \"C:/Users/568377/Cognizant/Data Science/kaggle/Bimbo Bread/raw\""
   ]
  },
  {
   "cell_type": "code",
   "execution_count": 48,
   "metadata": {
    "collapsed": false
   },
   "outputs": [],
   "source": [
    "sub <- \"C:/Users/568377/Cognizant/Data Science/kaggle/Bimbo Bread/submissions\""
   ]
  },
  {
   "cell_type": "code",
   "execution_count": 5,
   "metadata": {
    "collapsed": false
   },
   "outputs": [
    {
     "name": "stdout",
     "output_type": "stream",
     "text": [
      "\r",
      "Read 0.0% of 74180464 rows\r",
      "Read 1.0% of 74180464 rows\r",
      "Read 1.8% of 74180464 rows\r",
      "Read 2.7% of 74180464 rows\r",
      "Read 3.7% of 74180464 rows\r",
      "Read 4.7% of 74180464 rows\r",
      "Read 5.7% of 74180464 rows\r",
      "Read 6.9% of 74180464 rows\r",
      "Read 8.0% of 74180464 rows\r",
      "Read 9.0% of 74180464 rows\r",
      "Read 10.0% of 74180464 rows\r",
      "Read 11.1% of 74180464 rows\r",
      "Read 12.2% of 74180464 rows\r",
      "Read 13.5% of 74180464 rows\r",
      "Read 14.7% of 74180464 rows\r",
      "Read 16.1% of 74180464 rows\r",
      "Read 17.3% of 74180464 rows\r",
      "Read 18.6% of 74180464 rows\r",
      "Read 20.2% of 74180464 rows\r",
      "Read 21.7% of 74180464 rows\r",
      "Read 23.3% of 74180464 rows\r",
      "Read 24.9% of 74180464 rows\r",
      "Read 26.5% of 74180464 rows\r",
      "Read 28.1% of 74180464 rows\r",
      "Read 29.7% of 74180464 rows\r",
      "Read 31.4% of 74180464 rows\r",
      "Read 32.7% of 74180464 rows\r",
      "Read 33.7% of 74180464 rows\r",
      "Read 34.9% of 74180464 rows\r",
      "Read 36.1% of 74180464 rows\r",
      "Read 37.4% of 74180464 rows\r",
      "Read 38.8% of 74180464 rows\r",
      "Read 40.1% of 74180464 rows\r",
      "Read 41.5% of 74180464 rows\r",
      "Read 43.0% of 74180464 rows\r",
      "Read 44.2% of 74180464 rows\r",
      "Read 45.5% of 74180464 rows\r",
      "Read 46.6% of 74180464 rows\r",
      "Read 47.9% of 74180464 rows\r",
      "Read 49.1% of 74180464 rows\r",
      "Read 50.6% of 74180464 rows\r",
      "Read 52.1% of 74180464 rows\r",
      "Read 53.7% of 74180464 rows\r",
      "Read 55.3% of 74180464 rows\r",
      "Read 56.8% of 74180464 rows\r",
      "Read 58.4% of 74180464 rows\r",
      "Read 60.0% of 74180464 rows\r",
      "Read 61.3% of 74180464 rows\r",
      "Read 62.6% of 74180464 rows\r",
      "Read 63.9% of 74180464 rows\r",
      "Read 65.2% of 74180464 rows\r",
      "Read 66.4% of 74180464 rows\r",
      "Read 67.7% of 74180464 rows\r",
      "Read 68.9% of 74180464 rows\r",
      "Read 70.2% of 74180464 rows\r",
      "Read 71.6% of 74180464 rows\r",
      "Read 73.1% of 74180464 rows\r",
      "Read 74.4% of 74180464 rows\r",
      "Read 75.7% of 74180464 rows\r",
      "Read 76.9% of 74180464 rows\r",
      "Read 78.4% of 74180464 rows\r",
      "Read 79.8% of 74180464 rows\r",
      "Read 81.2% of 74180464 rows\r",
      "Read 82.4% of 74180464 rows\r",
      "Read 84.0% of 74180464 rows\r",
      "Read 85.5% of 74180464 rows\r",
      "Read 86.9% of 74180464 rows\r",
      "Read 88.3% of 74180464 rows\r",
      "Read 89.8% of 74180464 rows\r",
      "Read 91.1% of 74180464 rows\r",
      "Read 92.6% of 74180464 rows\r",
      "Read 93.9% of 74180464 rows\r",
      "Read 95.3% of 74180464 rows\r",
      "Read 96.5% of 74180464 rows\r",
      "Read 97.9% of 74180464 rows\r",
      "Read 99.4% of 74180464 rows\r",
      "Read 74180464 rows and 3 (of 11) columns from 2.980 GB file in 00:01:39\n"
     ]
    }
   ],
   "source": [
    "train <- fread(file.path(raw,\"train.csv\"), select = c('Cliente_ID','Producto_ID','Demanda_uni_equil'), colClasses=c(Cliente_ID=\"numeric\",Producto_ID=\"numeric\",Demanda_uni_equil=\"numeric\"))"
   ]
  },
  {
   "cell_type": "code",
   "execution_count": 6,
   "metadata": {
    "collapsed": false
   },
   "outputs": [
    {
     "data": {
      "text/html": [
       "<table>\n",
       "<thead><tr><th></th><th scope=col>Cliente_ID</th><th scope=col>Producto_ID</th><th scope=col>Demanda_uni_equil</th></tr></thead>\n",
       "<tbody>\n",
       "\t<tr><th scope=row>1</th><td>15766</td><td>1212 </td><td>3    </td></tr>\n",
       "\t<tr><th scope=row>2</th><td>15766</td><td>1216 </td><td>4    </td></tr>\n",
       "\t<tr><th scope=row>3</th><td>15766</td><td>1238 </td><td>4    </td></tr>\n",
       "\t<tr><th scope=row>4</th><td>15766</td><td>1240 </td><td>4    </td></tr>\n",
       "\t<tr><th scope=row>5</th><td>15766</td><td>1242 </td><td>3    </td></tr>\n",
       "\t<tr><th scope=row>6</th><td>15766</td><td>1250 </td><td>5    </td></tr>\n",
       "</tbody>\n",
       "</table>\n"
      ],
      "text/latex": [
       "\\begin{tabular}{r|lll}\n",
       "  & Cliente\\_ID & Producto\\_ID & Demanda\\_uni\\_equil\\\\\n",
       "\\hline\n",
       "\t1 & 15766 & 1212  & 3    \\\\\n",
       "\t2 & 15766 & 1216  & 4    \\\\\n",
       "\t3 & 15766 & 1238  & 4    \\\\\n",
       "\t4 & 15766 & 1240  & 4    \\\\\n",
       "\t5 & 15766 & 1242  & 3    \\\\\n",
       "\t6 & 15766 & 1250  & 5    \\\\\n",
       "\\end{tabular}\n"
      ],
      "text/plain": [
       "  Cliente_ID Producto_ID Demanda_uni_equil\n",
       "1 15766      1212        3                \n",
       "2 15766      1216        4                \n",
       "3 15766      1238        4                \n",
       "4 15766      1240        4                \n",
       "5 15766      1242        3                \n",
       "6 15766      1250        5                "
      ]
     },
     "metadata": {},
     "output_type": "display_data"
    }
   ],
   "source": [
    "head(train)"
   ]
  },
  {
   "cell_type": "code",
   "execution_count": 7,
   "metadata": {
    "collapsed": false
   },
   "outputs": [
    {
     "data": {
      "text/html": [
       "<dl class=dl-horizontal>\n",
       "\t<dt>Cliente_ID</dt>\n",
       "\t\t<dd>\"numeric\"</dd>\n",
       "\t<dt>Producto_ID</dt>\n",
       "\t\t<dd>\"numeric\"</dd>\n",
       "\t<dt>Demanda_uni_equil</dt>\n",
       "\t\t<dd>\"numeric\"</dd>\n",
       "</dl>\n"
      ],
      "text/latex": [
       "\\begin{description*}\n",
       "\\item[Cliente\\textbackslash{}\\_ID] \"numeric\"\n",
       "\\item[Producto\\textbackslash{}\\_ID] \"numeric\"\n",
       "\\item[Demanda\\textbackslash{}\\_uni\\textbackslash{}\\_equil] \"numeric\"\n",
       "\\end{description*}\n"
      ],
      "text/markdown": [
       "Cliente_ID\n",
       ":   \"numeric\"Producto_ID\n",
       ":   \"numeric\"Demanda_uni_equil\n",
       ":   \"numeric\"\n",
       "\n"
      ],
      "text/plain": [
       "       Cliente_ID       Producto_ID Demanda_uni_equil \n",
       "        \"numeric\"         \"numeric\"         \"numeric\" "
      ]
     },
     "metadata": {},
     "output_type": "display_data"
    }
   ],
   "source": [
    "sapply(train,class)"
   ]
  },
  {
   "cell_type": "markdown",
   "metadata": {},
   "source": [
    "set a table key to enable fast aggregations"
   ]
  },
  {
   "cell_type": "code",
   "execution_count": 8,
   "metadata": {
    "collapsed": true
   },
   "outputs": [],
   "source": [
    "setkey(train, Producto_ID, Cliente_ID)"
   ]
  },
  {
   "cell_type": "code",
   "execution_count": 24,
   "metadata": {
    "collapsed": true
   },
   "outputs": [],
   "source": [
    "median <- train[,median(Demanda_uni_equil)] # overall median"
   ]
  },
  {
   "cell_type": "code",
   "execution_count": 32,
   "metadata": {
    "collapsed": false
   },
   "outputs": [],
   "source": [
    "#calculate product overall median -> M2\n",
    "median_Prod <- train[, median(Demanda_uni_equil), by = Producto_ID]\n",
    "setnames(median_Prod, \"V1\",\"M2\")"
   ]
  },
  {
   "cell_type": "code",
   "execution_count": 34,
   "metadata": {
    "collapsed": true
   },
   "outputs": [],
   "source": [
    "#calculate the client and product median -> M3\n",
    "median_Client_Prod <- train[, median(Demanda_uni_equil),by = .(Producto_ID,Cliente_ID)]\n",
    "setnames(median_Client_Prod,\"V1\",\"M3\")"
   ]
  },
  {
   "cell_type": "markdown",
   "metadata": {},
   "source": [
    "# Scoring"
   ]
  },
  {
   "cell_type": "code",
   "execution_count": 36,
   "metadata": {
    "collapsed": false
   },
   "outputs": [
    {
     "name": "stdout",
     "output_type": "stream",
     "text": [
      "\r",
      "Read 1.7% of 6999251 rows\r",
      "Read 20.7% of 6999251 rows\r",
      "Read 41.9% of 6999251 rows\r",
      "Read 62.9% of 6999251 rows\r",
      "Read 84.2% of 6999251 rows\r",
      "Read 6999251 rows and 3 (of 7) columns from 0.234 GB file in 00:00:07\n"
     ]
    }
   ],
   "source": [
    "test <- fread(file.path(raw,\"test.csv\"), \n",
    "               select = c('id','Cliente_ID', 'Producto_ID'),\n",
    "               colClasses=c(Cliente_ID=\"numeric\",Producto_ID=\"numeric\"))"
   ]
  },
  {
   "cell_type": "code",
   "execution_count": 40,
   "metadata": {
    "collapsed": false
   },
   "outputs": [
    {
     "data": {
      "text/html": [
       "<dl class=dl-horizontal>\n",
       "\t<dt>id</dt>\n",
       "\t\t<dd>\"integer\"</dd>\n",
       "\t<dt>Cliente_ID</dt>\n",
       "\t\t<dd>\"numeric\"</dd>\n",
       "\t<dt>Producto_ID</dt>\n",
       "\t\t<dd>\"numeric\"</dd>\n",
       "</dl>\n"
      ],
      "text/latex": [
       "\\begin{description*}\n",
       "\\item[id] \"integer\"\n",
       "\\item[Cliente\\textbackslash{}\\_ID] \"numeric\"\n",
       "\\item[Producto\\textbackslash{}\\_ID] \"numeric\"\n",
       "\\end{description*}\n"
      ],
      "text/markdown": [
       "id\n",
       ":   \"integer\"Cliente_ID\n",
       ":   \"numeric\"Producto_ID\n",
       ":   \"numeric\"\n",
       "\n"
      ],
      "text/plain": [
       "         id  Cliente_ID Producto_ID \n",
       "  \"integer\"   \"numeric\"   \"numeric\" "
      ]
     },
     "metadata": {},
     "output_type": "display_data"
    }
   ],
   "source": [
    "sapply(test, class)\n",
    "setkey(test, Producto_ID, Cliente_ID)"
   ]
  },
  {
   "cell_type": "code",
   "execution_count": 41,
   "metadata": {
    "collapsed": true
   },
   "outputs": [],
   "source": [
    "# add product and client and product medians\n",
    "submit <- merge(test, median_Client_Prod, all.x = TRUE)\n",
    "submit$M2 <- merge(test, median_Prod, by = \"Producto_ID\", all.x = TRUE)$M2"
   ]
  },
  {
   "cell_type": "code",
   "execution_count": 42,
   "metadata": {
    "collapsed": true
   },
   "outputs": [],
   "source": [
    "submit$Pred <- submit$M3"
   ]
  },
  {
   "cell_type": "code",
   "execution_count": 43,
   "metadata": {
    "collapsed": true
   },
   "outputs": [],
   "source": [
    "# where median by product and client is null use median by product (M2)\n",
    "submit[is.na(M3)]$Pred <- submit[is.na(M3)]$M2"
   ]
  },
  {
   "cell_type": "code",
   "execution_count": 44,
   "metadata": {
    "collapsed": true
   },
   "outputs": [],
   "source": [
    "# where median by product is null use overall median\n",
    "submit[is.na(Pred)]$Pred <- median"
   ]
  },
  {
   "cell_type": "code",
   "execution_count": 45,
   "metadata": {
    "collapsed": true
   },
   "outputs": [],
   "source": [
    "setnames(submit,\"Pred\",\"Demanda_uni_equil\")"
   ]
  },
  {
   "cell_type": "code",
   "execution_count": 46,
   "metadata": {
    "collapsed": false
   },
   "outputs": [
    {
     "data": {
      "text/html": [
       "<table>\n",
       "<thead><tr><th></th><th scope=col>Producto_ID</th><th scope=col>Cliente_ID</th><th scope=col>id</th><th scope=col>M3</th><th scope=col>M2</th><th scope=col>Demanda_uni_equil</th></tr></thead>\n",
       "<tbody>\n",
       "\t<tr><th scope=row>1</th><td>41     </td><td> 681747</td><td>6236398</td><td>1430   </td><td> 70.0  </td><td>1430.0 </td></tr>\n",
       "\t<tr><th scope=row>2</th><td>41     </td><td>2284385</td><td>1678163</td><td> 110   </td><td> 70.0  </td><td> 110.0 </td></tr>\n",
       "\t<tr><th scope=row>3</th><td>41     </td><td>2482890</td><td>3458287</td><td> 400   </td><td> 70.0  </td><td> 400.0 </td></tr>\n",
       "\t<tr><th scope=row>4</th><td>53     </td><td>  26372</td><td>2690233</td><td> 138   </td><td>119.5  </td><td> 138.0 </td></tr>\n",
       "\t<tr><th scope=row>5</th><td>53     </td><td>1000006</td><td>1288534</td><td>  NA   </td><td>119.5  </td><td> 119.5 </td></tr>\n",
       "\t<tr><th scope=row>6</th><td>53     </td><td>1216931</td><td>1127055</td><td> 440   </td><td>119.5  </td><td> 440.0 </td></tr>\n",
       "</tbody>\n",
       "</table>\n"
      ],
      "text/latex": [
       "\\begin{tabular}{r|llllll}\n",
       "  & Producto\\_ID & Cliente\\_ID & id & M3 & M2 & Demanda\\_uni\\_equil\\\\\n",
       "\\hline\n",
       "\t1 & 41      &  681747 & 6236398 & 1430    &  70.0   & 1430.0 \\\\\n",
       "\t2 & 41      & 2284385 & 1678163 &  110    &  70.0   &  110.0 \\\\\n",
       "\t3 & 41      & 2482890 & 3458287 &  400    &  70.0   &  400.0 \\\\\n",
       "\t4 & 53      &   26372 & 2690233 &  138    & 119.5   &  138.0 \\\\\n",
       "\t5 & 53      & 1000006 & 1288534 &   NA    & 119.5   &  119.5 \\\\\n",
       "\t6 & 53      & 1216931 & 1127055 &  440    & 119.5   &  440.0 \\\\\n",
       "\\end{tabular}\n"
      ],
      "text/plain": [
       "  Producto_ID Cliente_ID id      M3   M2    Demanda_uni_equil\n",
       "1 41           681747    6236398 1430  70.0 1430.0           \n",
       "2 41          2284385    1678163  110  70.0  110.0           \n",
       "3 41          2482890    3458287  400  70.0  400.0           \n",
       "4 53            26372    2690233  138 119.5  138.0           \n",
       "5 53          1000006    1288534   NA 119.5  119.5           \n",
       "6 53          1216931    1127055  440 119.5  440.0           "
      ]
     },
     "metadata": {},
     "output_type": "display_data"
    }
   ],
   "source": [
    "head(submit)"
   ]
  },
  {
   "cell_type": "code",
   "execution_count": 49,
   "metadata": {
    "collapsed": true
   },
   "outputs": [],
   "source": [
    "# Write out submission file.\n",
    "# Any results you write to the current directory are saved as output.\n",
    "write.csv(submit[,.(id,Demanda_uni_equil)],file.path(sub,\"submission3.csv\"), row.names = FALSE)"
   ]
  },
  {
   "cell_type": "code",
   "execution_count": 51,
   "metadata": {
    "collapsed": false
   },
   "outputs": [
    {
     "data": {
      "text/html": [
       "3.5"
      ],
      "text/latex": [
       "3.5"
      ],
      "text/markdown": [
       "3.5"
      ],
      "text/plain": [
       "[1] 3.5"
      ]
     },
     "metadata": {},
     "output_type": "display_data"
    }
   ],
   "source": [
    "head(submit[,median(Demanda_uni_equil)])"
   ]
  },
  {
   "cell_type": "markdown",
   "metadata": {},
   "source": [
    "# Example"
   ]
  },
  {
   "cell_type": "code",
   "execution_count": 36,
   "metadata": {
    "collapsed": false
   },
   "outputs": [],
   "source": [
    "library(data.table)\n",
    "#library(xgboost)\n",
    "\n",
    "train=fread('C:/Users/568377/Cognizant/Data Science/kaggle/Bimbo Bread/raw/train.csv', nrows = 1000000, select = c(\"Semana\",'Cliente_ID', 'Producto_ID', 'Agencia_ID', 'Ruta_SAK', 'Demanda_uni_equil'))\n",
    "test=fread('C:/Users/568377/Cognizant/Data Science/kaggle/Bimbo Bread/raw/test.csv', nrows = 1000000, select = c(\"Semana\",'id','Cliente_ID', 'Producto_ID', 'Agencia_ID', 'Ruta_SAK'))"
   ]
  },
  {
   "cell_type": "code",
   "execution_count": 37,
   "metadata": {
    "collapsed": false
   },
   "outputs": [
    {
     "data": {
      "text/html": [
       "<table>\n",
       "<thead><tr><th></th><th scope=col>Semana</th><th scope=col>Agencia_ID</th><th scope=col>Ruta_SAK</th><th scope=col>Cliente_ID</th><th scope=col>Producto_ID</th><th scope=col>Demanda_uni_equil</th><th scope=col>id</th><th scope=col>target</th></tr></thead>\n",
       "<tbody>\n",
       "</tbody>\n",
       "</table>\n"
      ],
      "text/latex": [
       "\\begin{tabular}{r|llllllll}\n",
       "  & Semana & Agencia\\_ID & Ruta\\_SAK & Cliente\\_ID & Producto\\_ID & Demanda\\_uni\\_equil & id & target\\\\\n",
       "\\hline\n",
       "\\end{tabular}\n"
      ],
      "text/plain": [
       "     Semana Agencia_ID Ruta_SAK Cliente_ID Producto_ID Demanda_uni_equil id\n",
       "     target"
      ]
     },
     "metadata": {},
     "output_type": "display_data"
    },
    {
     "data": {
      "text/html": [
       "<table>\n",
       "<thead><tr><th></th><th scope=col>Semana</th><th scope=col>Agencia_ID</th><th scope=col>Ruta_SAK</th><th scope=col>Cliente_ID</th><th scope=col>Producto_ID</th><th scope=col>id</th><th scope=col>target</th></tr></thead>\n",
       "<tbody>\n",
       "</tbody>\n",
       "</table>\n"
      ],
      "text/latex": [
       "\\begin{tabular}{r|lllllll}\n",
       "  & Semana & Agencia\\_ID & Ruta\\_SAK & Cliente\\_ID & Producto\\_ID & id & target\\\\\n",
       "\\hline\n",
       "\\end{tabular}\n"
      ],
      "text/plain": [
       "     Semana Agencia_ID Ruta_SAK Cliente_ID Producto_ID id target"
      ]
     },
     "metadata": {},
     "output_type": "display_data"
    },
    {
     "data": {
      "text/html": [
       "<table>\n",
       "<thead><tr><th></th><th scope=col>Semana</th><th scope=col>Agencia_ID</th><th scope=col>Ruta_SAK</th><th scope=col>Cliente_ID</th><th scope=col>Producto_ID</th><th scope=col>id</th><th scope=col>target</th><th scope=col>tst</th></tr></thead>\n",
       "<tbody>\n",
       "</tbody>\n",
       "</table>\n"
      ],
      "text/latex": [
       "\\begin{tabular}{r|llllllll}\n",
       "  & Semana & Agencia\\_ID & Ruta\\_SAK & Cliente\\_ID & Producto\\_ID & id & target & tst\\\\\n",
       "\\hline\n",
       "\\end{tabular}\n"
      ],
      "text/plain": [
       "     Semana Agencia_ID Ruta_SAK Cliente_ID Producto_ID id target tst"
      ]
     },
     "metadata": {},
     "output_type": "display_data"
    },
    {
     "data": {
      "text/html": [
       "<table>\n",
       "<thead><tr><th></th><th scope=col>id</th><th scope=col>Semana</th><th scope=col>Agencia_ID</th><th scope=col>Ruta_SAK</th><th scope=col>Cliente_ID</th><th scope=col>Producto_ID</th><th scope=col>target</th><th scope=col>tst</th></tr></thead>\n",
       "<tbody>\n",
       "\t<tr><th scope=row>1</th><td> 0     </td><td>11     </td><td> 4037  </td><td>2209   </td><td>4639078</td><td>35305  </td><td>0      </td><td>1      </td></tr>\n",
       "\t<tr><th scope=row>2</th><td> 1     </td><td>11     </td><td> 2237  </td><td>1226   </td><td>4705135</td><td> 1238  </td><td>0      </td><td>1      </td></tr>\n",
       "\t<tr><th scope=row>3</th><td> 2     </td><td>10     </td><td> 2045  </td><td>2831   </td><td>4549769</td><td>32940  </td><td>0      </td><td>1      </td></tr>\n",
       "\t<tr><th scope=row>4</th><td> 3     </td><td>11     </td><td> 1227  </td><td>4448   </td><td>4717855</td><td>43066  </td><td>0      </td><td>1      </td></tr>\n",
       "\t<tr><th scope=row>5</th><td> 4     </td><td>11     </td><td> 1219  </td><td>1130   </td><td> 966351</td><td> 1277  </td><td>0      </td><td>1      </td></tr>\n",
       "\t<tr><th scope=row>6</th><td> 5     </td><td>11     </td><td> 1146  </td><td>6601   </td><td>1741414</td><td>  972  </td><td>0      </td><td>1      </td></tr>\n",
       "\t<tr><th scope=row>7</th><td> 6     </td><td>11     </td><td> 2057  </td><td>4507   </td><td>4659766</td><td> 1232  </td><td>0      </td><td>1      </td></tr>\n",
       "\t<tr><th scope=row>8</th><td> 7     </td><td>10     </td><td> 1612  </td><td>2837   </td><td>4414012</td><td>35305  </td><td>0      </td><td>1      </td></tr>\n",
       "\t<tr><th scope=row>9</th><td> 8     </td><td>10     </td><td> 1349  </td><td>1223   </td><td> 397854</td><td> 1240  </td><td>0      </td><td>1      </td></tr>\n",
       "\t<tr><th scope=row>10</th><td> 9     </td><td>11     </td><td> 1461  </td><td>1203   </td><td>1646915</td><td>43203  </td><td>0      </td><td>1      </td></tr>\n",
       "\t<tr><th scope=row>11</th><td>10     </td><td>11     </td><td> 1124  </td><td>1118   </td><td>4555688</td><td> 1278  </td><td>0      </td><td>1      </td></tr>\n",
       "\t<tr><th scope=row>12</th><td>11     </td><td>10     </td><td> 1336  </td><td>1069   </td><td>4387996</td><td> 2233  </td><td>0      </td><td>1      </td></tr>\n",
       "\t<tr><th scope=row>13</th><td>12     </td><td>11     </td><td> 1239  </td><td>1125   </td><td> 290608</td><td> 4270  </td><td>0      </td><td>1      </td></tr>\n",
       "\t<tr><th scope=row>14</th><td>13     </td><td>10     </td><td> 1217  </td><td>1143   </td><td>4446449</td><td> 1240  </td><td>0      </td><td>1      </td></tr>\n",
       "\t<tr><th scope=row>15</th><td>14     </td><td>10     </td><td> 1312  </td><td>2056   </td><td>  69110</td><td>43274  </td><td>0      </td><td>1      </td></tr>\n",
       "\t<tr><th scope=row>16</th><td>15     </td><td>11     </td><td> 1227  </td><td>2115   </td><td>1034925</td><td>37361  </td><td>0      </td><td>1      </td></tr>\n",
       "\t<tr><th scope=row>17</th><td>16     </td><td>11     </td><td> 2071  </td><td>1203   </td><td>  91580</td><td>43200  </td><td>0      </td><td>1      </td></tr>\n",
       "\t<tr><th scope=row>18</th><td>17     </td><td>11     </td><td> 3211  </td><td>1016   </td><td> 325074</td><td> 1150  </td><td>0      </td><td>1      </td></tr>\n",
       "\t<tr><th scope=row>19</th><td>18     </td><td>10     </td><td> 1629  </td><td>1612   </td><td>2325923</td><td> 4270  </td><td>0      </td><td>1      </td></tr>\n",
       "\t<tr><th scope=row>20</th><td>19     </td><td>11     </td><td>23719  </td><td>2813   </td><td>4752270</td><td>35456  </td><td>0      </td><td>1      </td></tr>\n",
       "\t<tr><th scope=row>21</th><td>20     </td><td>11     </td><td> 1347  </td><td>2153   </td><td>2257091</td><td>30552  </td><td>0      </td><td>1      </td></tr>\n",
       "\t<tr><th scope=row>22</th><td>21     </td><td>11     </td><td> 2653  </td><td>1048   </td><td>5885765</td><td> 1125  </td><td>0      </td><td>1      </td></tr>\n",
       "\t<tr><th scope=row>23</th><td>22     </td><td>10     </td><td> 1477  </td><td>4714   </td><td>4670562</td><td>35525  </td><td>0      </td><td>1      </td></tr>\n",
       "\t<tr><th scope=row>24</th><td>23     </td><td>11     </td><td> 1232  </td><td>1211   </td><td> 245366</td><td> 1150  </td><td>0      </td><td>1      </td></tr>\n",
       "\t<tr><th scope=row>25</th><td>24     </td><td>11     </td><td> 2216  </td><td>1151   </td><td>2197573</td><td> 1232  </td><td>0      </td><td>1      </td></tr>\n",
       "\t<tr><th scope=row>26</th><td>25     </td><td>11     </td><td> 1227  </td><td>2822   </td><td>3342223</td><td>43285  </td><td>0      </td><td>1      </td></tr>\n",
       "\t<tr><th scope=row>27</th><td>26     </td><td>10     </td><td> 3214  </td><td>1627   </td><td>4721398</td><td>36920  </td><td>0      </td><td>1      </td></tr>\n",
       "\t<tr><th scope=row>28</th><td>27     </td><td>11     </td><td> 1420  </td><td>2134   </td><td>1500391</td><td>37361  </td><td>0      </td><td>1      </td></tr>\n",
       "\t<tr><th scope=row>29</th><td>28     </td><td>11     </td><td> 1137  </td><td>1064   </td><td>4461695</td><td> 2233  </td><td>0      </td><td>1      </td></tr>\n",
       "\t<tr><th scope=row>30</th><td>29     </td><td>11     </td><td> 2012  </td><td>1158   </td><td>1485041</td><td>41938  </td><td>0      </td><td>1      </td></tr>\n",
       "\t<tr><th scope=row>...</th><td>...</td><td>...</td><td>...</td><td>...</td><td>...</td><td>...</td><td>...</td><td>...</td></tr>\n",
       "\t<tr><th scope=row>999971</th><td>999970 </td><td>10     </td><td> 1453  </td><td>2032   </td><td>1056353</td><td>37058  </td><td>0      </td><td>1      </td></tr>\n",
       "\t<tr><th scope=row>999972</th><td>999971 </td><td>10     </td><td> 1622  </td><td>1158   </td><td> 228247</td><td> 1212  </td><td>0      </td><td>1      </td></tr>\n",
       "\t<tr><th scope=row>999973</th><td>999972 </td><td>10     </td><td> 1534  </td><td>2113   </td><td> 621754</td><td>32940  </td><td>0      </td><td>1      </td></tr>\n",
       "\t<tr><th scope=row>999974</th><td>999973 </td><td>10     </td><td> 1138  </td><td>1420   </td><td> 967274</td><td> 1230  </td><td>0      </td><td>1      </td></tr>\n",
       "\t<tr><th scope=row>999975</th><td>999974 </td><td>10     </td><td> 1628  </td><td>2158   </td><td> 327677</td><td>43058  </td><td>0      </td><td>1      </td></tr>\n",
       "\t<tr><th scope=row>999976</th><td>999975 </td><td>10     </td><td> 1625  </td><td>1286   </td><td>2410212</td><td>40447  </td><td>0      </td><td>1      </td></tr>\n",
       "\t<tr><th scope=row>999977</th><td>999976 </td><td>10     </td><td> 1111  </td><td>1627   </td><td>  22296</td><td>  325  </td><td>0      </td><td>1      </td></tr>\n",
       "\t<tr><th scope=row>999978</th><td>999977 </td><td>11     </td><td> 1911  </td><td>2807   </td><td>  91106</td><td>43058  </td><td>0      </td><td>1      </td></tr>\n",
       "\t<tr><th scope=row>999979</th><td>999978 </td><td>10     </td><td> 2045  </td><td>4416   </td><td>1419994</td><td>43147  </td><td>0      </td><td>1      </td></tr>\n",
       "\t<tr><th scope=row>999980</th><td>999979 </td><td>10     </td><td> 1633  </td><td>1018   </td><td> 105174</td><td> 1109  </td><td>0      </td><td>1      </td></tr>\n",
       "\t<tr><th scope=row>999981</th><td>999980 </td><td>10     </td><td>22090  </td><td>5101   </td><td>2501975</td><td> 1242  </td><td>0      </td><td>1      </td></tr>\n",
       "\t<tr><th scope=row>999982</th><td>999981 </td><td>10     </td><td> 1461  </td><td>1212   </td><td> 143807</td><td>43220  </td><td>0      </td><td>1      </td></tr>\n",
       "\t<tr><th scope=row>999983</th><td>999982 </td><td>10     </td><td> 1239  </td><td>4509   </td><td>4514086</td><td>35309  </td><td>0      </td><td>1      </td></tr>\n",
       "\t<tr><th scope=row>999984</th><td>999983 </td><td>11     </td><td> 1215  </td><td>2109   </td><td>1594463</td><td>36747  </td><td>0      </td><td>1      </td></tr>\n",
       "\t<tr><th scope=row>999985</th><td>999984 </td><td>11     </td><td> 1637  </td><td>1233   </td><td> 749925</td><td> 1278  </td><td>0      </td><td>1      </td></tr>\n",
       "\t<tr><th scope=row>999986</th><td>999985 </td><td>10     </td><td> 1387  </td><td>2001   </td><td> 410237</td><td>43147  </td><td>0      </td><td>1      </td></tr>\n",
       "\t<tr><th scope=row>999987</th><td>999986 </td><td>11     </td><td>23899  </td><td>1021   </td><td>2501225</td><td>   73  </td><td>0      </td><td>1      </td></tr>\n",
       "\t<tr><th scope=row>999988</th><td>999987 </td><td>10     </td><td> 1614  </td><td>2855   </td><td> 277289</td><td>43069  </td><td>0      </td><td>1      </td></tr>\n",
       "\t<tr><th scope=row>999989</th><td>999988 </td><td>11     </td><td> 2216  </td><td>1208   </td><td>1936021</td><td> 1216  </td><td>0      </td><td>1      </td></tr>\n",
       "\t<tr><th scope=row>999990</th><td>999989 </td><td>10     </td><td> 1453  </td><td>2031   </td><td>  91382</td><td>31514  </td><td>0      </td><td>1      </td></tr>\n",
       "\t<tr><th scope=row>999991</th><td>999990 </td><td>11     </td><td> 1552  </td><td>1031   </td><td>4475685</td><td>46876  </td><td>0      </td><td>1      </td></tr>\n",
       "\t<tr><th scope=row>999992</th><td>999991 </td><td>11     </td><td> 1373  </td><td>6607   </td><td>2235546</td><td> 4270  </td><td>0      </td><td>1      </td></tr>\n",
       "\t<tr><th scope=row>999993</th><td>999992 </td><td>10     </td><td> 1126  </td><td>1203   </td><td> 723139</td><td> 1278  </td><td>0      </td><td>1      </td></tr>\n",
       "\t<tr><th scope=row>999994</th><td>999993 </td><td>11     </td><td> 1118  </td><td>1013   </td><td> 670336</td><td> 1129  </td><td>0      </td><td>1      </td></tr>\n",
       "\t<tr><th scope=row>999995</th><td>999994 </td><td>11     </td><td> 1315  </td><td>2854   </td><td>1496204</td><td>32940  </td><td>0      </td><td>1      </td></tr>\n",
       "\t<tr><th scope=row>999996</th><td>999995 </td><td>11     </td><td> 1476  </td><td>4704   </td><td>  36870</td><td>35456  </td><td>0      </td><td>1      </td></tr>\n",
       "\t<tr><th scope=row>999997</th><td>999996 </td><td>11     </td><td> 1622  </td><td>1051   </td><td>1161575</td><td> 1125  </td><td>0      </td><td>1      </td></tr>\n",
       "\t<tr><th scope=row>999998</th><td>999997 </td><td>10     </td><td> 2629  </td><td>1158   </td><td> 274953</td><td> 1216  </td><td>0      </td><td>1      </td></tr>\n",
       "\t<tr><th scope=row>999999</th><td>999998 </td><td>10     </td><td> 2629  </td><td>4453   </td><td>2040267</td><td>36746  </td><td>0      </td><td>1      </td></tr>\n",
       "\t<tr><th scope=row>1000000</th><td>999999 </td><td>11     </td><td> 1312  </td><td>1003   </td><td>  69413</td><td>35727  </td><td>0      </td><td>1      </td></tr>\n",
       "</tbody>\n",
       "</table>\n"
      ],
      "text/latex": [
       "\\begin{tabular}{r|llllllll}\n",
       "  & id & Semana & Agencia\\_ID & Ruta\\_SAK & Cliente\\_ID & Producto\\_ID & target & tst\\\\\n",
       "\\hline\n",
       "\t1 &  0      & 11      &  4037   & 2209    & 4639078 & 35305   & 0       & 1      \\\\\n",
       "\t2 &  1      & 11      &  2237   & 1226    & 4705135 &  1238   & 0       & 1      \\\\\n",
       "\t3 &  2      & 10      &  2045   & 2831    & 4549769 & 32940   & 0       & 1      \\\\\n",
       "\t4 &  3      & 11      &  1227   & 4448    & 4717855 & 43066   & 0       & 1      \\\\\n",
       "\t5 &  4      & 11      &  1219   & 1130    &  966351 &  1277   & 0       & 1      \\\\\n",
       "\t6 &  5      & 11      &  1146   & 6601    & 1741414 &   972   & 0       & 1      \\\\\n",
       "\t7 &  6      & 11      &  2057   & 4507    & 4659766 &  1232   & 0       & 1      \\\\\n",
       "\t8 &  7      & 10      &  1612   & 2837    & 4414012 & 35305   & 0       & 1      \\\\\n",
       "\t9 &  8      & 10      &  1349   & 1223    &  397854 &  1240   & 0       & 1      \\\\\n",
       "\t10 &  9      & 11      &  1461   & 1203    & 1646915 & 43203   & 0       & 1      \\\\\n",
       "\t11 & 10      & 11      &  1124   & 1118    & 4555688 &  1278   & 0       & 1      \\\\\n",
       "\t12 & 11      & 10      &  1336   & 1069    & 4387996 &  2233   & 0       & 1      \\\\\n",
       "\t13 & 12      & 11      &  1239   & 1125    &  290608 &  4270   & 0       & 1      \\\\\n",
       "\t14 & 13      & 10      &  1217   & 1143    & 4446449 &  1240   & 0       & 1      \\\\\n",
       "\t15 & 14      & 10      &  1312   & 2056    &   69110 & 43274   & 0       & 1      \\\\\n",
       "\t16 & 15      & 11      &  1227   & 2115    & 1034925 & 37361   & 0       & 1      \\\\\n",
       "\t17 & 16      & 11      &  2071   & 1203    &   91580 & 43200   & 0       & 1      \\\\\n",
       "\t18 & 17      & 11      &  3211   & 1016    &  325074 &  1150   & 0       & 1      \\\\\n",
       "\t19 & 18      & 10      &  1629   & 1612    & 2325923 &  4270   & 0       & 1      \\\\\n",
       "\t20 & 19      & 11      & 23719   & 2813    & 4752270 & 35456   & 0       & 1      \\\\\n",
       "\t21 & 20      & 11      &  1347   & 2153    & 2257091 & 30552   & 0       & 1      \\\\\n",
       "\t22 & 21      & 11      &  2653   & 1048    & 5885765 &  1125   & 0       & 1      \\\\\n",
       "\t23 & 22      & 10      &  1477   & 4714    & 4670562 & 35525   & 0       & 1      \\\\\n",
       "\t24 & 23      & 11      &  1232   & 1211    &  245366 &  1150   & 0       & 1      \\\\\n",
       "\t25 & 24      & 11      &  2216   & 1151    & 2197573 &  1232   & 0       & 1      \\\\\n",
       "\t26 & 25      & 11      &  1227   & 2822    & 3342223 & 43285   & 0       & 1      \\\\\n",
       "\t27 & 26      & 10      &  3214   & 1627    & 4721398 & 36920   & 0       & 1      \\\\\n",
       "\t28 & 27      & 11      &  1420   & 2134    & 1500391 & 37361   & 0       & 1      \\\\\n",
       "\t29 & 28      & 11      &  1137   & 1064    & 4461695 &  2233   & 0       & 1      \\\\\n",
       "\t30 & 29      & 11      &  2012   & 1158    & 1485041 & 41938   & 0       & 1      \\\\\n",
       "\t... & ... & ... & ... & ... & ... & ... & ... & ...\\\\\n",
       "\t999971 & 999970  & 10      &  1453   & 2032    & 1056353 & 37058   & 0       & 1      \\\\\n",
       "\t999972 & 999971  & 10      &  1622   & 1158    &  228247 &  1212   & 0       & 1      \\\\\n",
       "\t999973 & 999972  & 10      &  1534   & 2113    &  621754 & 32940   & 0       & 1      \\\\\n",
       "\t999974 & 999973  & 10      &  1138   & 1420    &  967274 &  1230   & 0       & 1      \\\\\n",
       "\t999975 & 999974  & 10      &  1628   & 2158    &  327677 & 43058   & 0       & 1      \\\\\n",
       "\t999976 & 999975  & 10      &  1625   & 1286    & 2410212 & 40447   & 0       & 1      \\\\\n",
       "\t999977 & 999976  & 10      &  1111   & 1627    &   22296 &   325   & 0       & 1      \\\\\n",
       "\t999978 & 999977  & 11      &  1911   & 2807    &   91106 & 43058   & 0       & 1      \\\\\n",
       "\t999979 & 999978  & 10      &  2045   & 4416    & 1419994 & 43147   & 0       & 1      \\\\\n",
       "\t999980 & 999979  & 10      &  1633   & 1018    &  105174 &  1109   & 0       & 1      \\\\\n",
       "\t999981 & 999980  & 10      & 22090   & 5101    & 2501975 &  1242   & 0       & 1      \\\\\n",
       "\t999982 & 999981  & 10      &  1461   & 1212    &  143807 & 43220   & 0       & 1      \\\\\n",
       "\t999983 & 999982  & 10      &  1239   & 4509    & 4514086 & 35309   & 0       & 1      \\\\\n",
       "\t999984 & 999983  & 11      &  1215   & 2109    & 1594463 & 36747   & 0       & 1      \\\\\n",
       "\t999985 & 999984  & 11      &  1637   & 1233    &  749925 &  1278   & 0       & 1      \\\\\n",
       "\t999986 & 999985  & 10      &  1387   & 2001    &  410237 & 43147   & 0       & 1      \\\\\n",
       "\t999987 & 999986  & 11      & 23899   & 1021    & 2501225 &    73   & 0       & 1      \\\\\n",
       "\t999988 & 999987  & 10      &  1614   & 2855    &  277289 & 43069   & 0       & 1      \\\\\n",
       "\t999989 & 999988  & 11      &  2216   & 1208    & 1936021 &  1216   & 0       & 1      \\\\\n",
       "\t999990 & 999989  & 10      &  1453   & 2031    &   91382 & 31514   & 0       & 1      \\\\\n",
       "\t999991 & 999990  & 11      &  1552   & 1031    & 4475685 & 46876   & 0       & 1      \\\\\n",
       "\t999992 & 999991  & 11      &  1373   & 6607    & 2235546 &  4270   & 0       & 1      \\\\\n",
       "\t999993 & 999992  & 10      &  1126   & 1203    &  723139 &  1278   & 0       & 1      \\\\\n",
       "\t999994 & 999993  & 11      &  1118   & 1013    &  670336 &  1129   & 0       & 1      \\\\\n",
       "\t999995 & 999994  & 11      &  1315   & 2854    & 1496204 & 32940   & 0       & 1      \\\\\n",
       "\t999996 & 999995  & 11      &  1476   & 4704    &   36870 & 35456   & 0       & 1      \\\\\n",
       "\t999997 & 999996  & 11      &  1622   & 1051    & 1161575 &  1125   & 0       & 1      \\\\\n",
       "\t999998 & 999997  & 10      &  2629   & 1158    &  274953 &  1216   & 0       & 1      \\\\\n",
       "\t999999 & 999998  & 10      &  2629   & 4453    & 2040267 & 36746   & 0       & 1      \\\\\n",
       "\t1000000 & 999999  & 11      &  1312   & 1003    &   69413 & 35727   & 0       & 1      \\\\\n",
       "\\end{tabular}\n"
      ],
      "text/plain": [
       "        id     Semana Agencia_ID Ruta_SAK Cliente_ID Producto_ID target tst\n",
       "1        0     11      4037      2209     4639078    35305       0      1  \n",
       "2        1     11      2237      1226     4705135     1238       0      1  \n",
       "3        2     10      2045      2831     4549769    32940       0      1  \n",
       "4        3     11      1227      4448     4717855    43066       0      1  \n",
       "5        4     11      1219      1130      966351     1277       0      1  \n",
       "6        5     11      1146      6601     1741414      972       0      1  \n",
       "7        6     11      2057      4507     4659766     1232       0      1  \n",
       "8        7     10      1612      2837     4414012    35305       0      1  \n",
       "9        8     10      1349      1223      397854     1240       0      1  \n",
       "10       9     11      1461      1203     1646915    43203       0      1  \n",
       "11      10     11      1124      1118     4555688     1278       0      1  \n",
       "12      11     10      1336      1069     4387996     2233       0      1  \n",
       "13      12     11      1239      1125      290608     4270       0      1  \n",
       "14      13     10      1217      1143     4446449     1240       0      1  \n",
       "15      14     10      1312      2056       69110    43274       0      1  \n",
       "16      15     11      1227      2115     1034925    37361       0      1  \n",
       "17      16     11      2071      1203       91580    43200       0      1  \n",
       "18      17     11      3211      1016      325074     1150       0      1  \n",
       "19      18     10      1629      1612     2325923     4270       0      1  \n",
       "20      19     11     23719      2813     4752270    35456       0      1  \n",
       "21      20     11      1347      2153     2257091    30552       0      1  \n",
       "22      21     11      2653      1048     5885765     1125       0      1  \n",
       "23      22     10      1477      4714     4670562    35525       0      1  \n",
       "24      23     11      1232      1211      245366     1150       0      1  \n",
       "25      24     11      2216      1151     2197573     1232       0      1  \n",
       "26      25     11      1227      2822     3342223    43285       0      1  \n",
       "27      26     10      3214      1627     4721398    36920       0      1  \n",
       "28      27     11      1420      2134     1500391    37361       0      1  \n",
       "29      28     11      1137      1064     4461695     2233       0      1  \n",
       "30      29     11      2012      1158     1485041    41938       0      1  \n",
       "...     ...    ...    ...        ...      ...        ...         ...    ...\n",
       "999971  999970 10      1453      2032     1056353    37058       0      1  \n",
       "999972  999971 10      1622      1158      228247     1212       0      1  \n",
       "999973  999972 10      1534      2113      621754    32940       0      1  \n",
       "999974  999973 10      1138      1420      967274     1230       0      1  \n",
       "999975  999974 10      1628      2158      327677    43058       0      1  \n",
       "999976  999975 10      1625      1286     2410212    40447       0      1  \n",
       "999977  999976 10      1111      1627       22296      325       0      1  \n",
       "999978  999977 11      1911      2807       91106    43058       0      1  \n",
       "999979  999978 10      2045      4416     1419994    43147       0      1  \n",
       "999980  999979 10      1633      1018      105174     1109       0      1  \n",
       "999981  999980 10     22090      5101     2501975     1242       0      1  \n",
       "999982  999981 10      1461      1212      143807    43220       0      1  \n",
       "999983  999982 10      1239      4509     4514086    35309       0      1  \n",
       "999984  999983 11      1215      2109     1594463    36747       0      1  \n",
       "999985  999984 11      1637      1233      749925     1278       0      1  \n",
       "999986  999985 10      1387      2001      410237    43147       0      1  \n",
       "999987  999986 11     23899      1021     2501225       73       0      1  \n",
       "999988  999987 10      1614      2855      277289    43069       0      1  \n",
       "999989  999988 11      2216      1208     1936021     1216       0      1  \n",
       "999990  999989 10      1453      2031       91382    31514       0      1  \n",
       "999991  999990 11      1552      1031     4475685    46876       0      1  \n",
       "999992  999991 11      1373      6607     2235546     4270       0      1  \n",
       "999993  999992 10      1126      1203      723139     1278       0      1  \n",
       "999994  999993 11      1118      1013      670336     1129       0      1  \n",
       "999995  999994 11      1315      2854     1496204    32940       0      1  \n",
       "999996  999995 11      1476      4704       36870    35456       0      1  \n",
       "999997  999996 11      1622      1051     1161575     1125       0      1  \n",
       "999998  999997 10      2629      1158      274953     1216       0      1  \n",
       "999999  999998 10      2629      4453     2040267    36746       0      1  \n",
       "1000000 999999 11      1312      1003       69413    35727       0      1  "
      ]
     },
     "metadata": {},
     "output_type": "display_data"
    }
   ],
   "source": [
    "# Cut the train set to 8 and 9 weeks (Semana) for using only one week lags for target variable.\n",
    "# If you have enough memory, you can set up condition Semana>3 on the next row for using lagged values of target variable for 5 weeks. \n",
    "train=train[Semana>7,]\n",
    "\n",
    "train$id=0\n",
    "train[,target:=Demanda_uni_equil]\n",
    "train[,Demanda_uni_equil:=NULL]\n",
    "train[,tst:=0]\n",
    "test$target=0\n",
    "test[,tst:=1]\n",
    "data=rbind(train,test)\n",
    "rm(test)  \n",
    "rm(train)"
   ]
  },
  {
   "cell_type": "code",
   "execution_count": 38,
   "metadata": {
    "collapsed": true
   },
   "outputs": [],
   "source": [
    "# Creating features for one week lagged values of target variable \n",
    "data1<-data[,.(Semana=Semana+1,Cliente_ID,Producto_ID,target)]\n",
    "data_fin=merge(data,data1[Semana>8,.(targetl1=mean(target)), by=.(Semana,Cliente_ID,Producto_ID)],all.x=T, by=c(\"Semana\",\"Cliente_ID\",\"Producto_ID\"))"
   ]
  },
  {
   "cell_type": "code",
   "execution_count": 39,
   "metadata": {
    "collapsed": false
   },
   "outputs": [
    {
     "data": {
      "text/html": [
       "<table>\n",
       "<thead><tr><th></th><th scope=col>Semana</th><th scope=col>Agencia_ID</th><th scope=col>Ruta_SAK</th><th scope=col>Cliente_ID</th><th scope=col>Producto_ID</th><th scope=col>id</th><th scope=col>target</th><th scope=col>tst</th></tr></thead>\n",
       "<tbody>\n",
       "\t<tr><th scope=row>1</th><td>11     </td><td>4037   </td><td>2209   </td><td>4639078</td><td>35305  </td><td>0      </td><td>0      </td><td>1      </td></tr>\n",
       "\t<tr><th scope=row>2</th><td>11     </td><td>2237   </td><td>1226   </td><td>4705135</td><td> 1238  </td><td>1      </td><td>0      </td><td>1      </td></tr>\n",
       "\t<tr><th scope=row>3</th><td>10     </td><td>2045   </td><td>2831   </td><td>4549769</td><td>32940  </td><td>2      </td><td>0      </td><td>1      </td></tr>\n",
       "\t<tr><th scope=row>4</th><td>11     </td><td>1227   </td><td>4448   </td><td>4717855</td><td>43066  </td><td>3      </td><td>0      </td><td>1      </td></tr>\n",
       "\t<tr><th scope=row>5</th><td>11     </td><td>1219   </td><td>1130   </td><td> 966351</td><td> 1277  </td><td>4      </td><td>0      </td><td>1      </td></tr>\n",
       "\t<tr><th scope=row>6</th><td>11     </td><td>1146   </td><td>6601   </td><td>1741414</td><td>  972  </td><td>5      </td><td>0      </td><td>1      </td></tr>\n",
       "</tbody>\n",
       "</table>\n"
      ],
      "text/latex": [
       "\\begin{tabular}{r|llllllll}\n",
       "  & Semana & Agencia\\_ID & Ruta\\_SAK & Cliente\\_ID & Producto\\_ID & id & target & tst\\\\\n",
       "\\hline\n",
       "\t1 & 11      & 4037    & 2209    & 4639078 & 35305   & 0       & 0       & 1      \\\\\n",
       "\t2 & 11      & 2237    & 1226    & 4705135 &  1238   & 1       & 0       & 1      \\\\\n",
       "\t3 & 10      & 2045    & 2831    & 4549769 & 32940   & 2       & 0       & 1      \\\\\n",
       "\t4 & 11      & 1227    & 4448    & 4717855 & 43066   & 3       & 0       & 1      \\\\\n",
       "\t5 & 11      & 1219    & 1130    &  966351 &  1277   & 4       & 0       & 1      \\\\\n",
       "\t6 & 11      & 1146    & 6601    & 1741414 &   972   & 5       & 0       & 1      \\\\\n",
       "\\end{tabular}\n"
      ],
      "text/plain": [
       "  Semana Agencia_ID Ruta_SAK Cliente_ID Producto_ID id target tst\n",
       "1 11     4037       2209     4639078    35305       0  0      1  \n",
       "2 11     2237       1226     4705135     1238       1  0      1  \n",
       "3 10     2045       2831     4549769    32940       2  0      1  \n",
       "4 11     1227       4448     4717855    43066       3  0      1  \n",
       "5 11     1219       1130      966351     1277       4  0      1  \n",
       "6 11     1146       6601     1741414      972       5  0      1  "
      ]
     },
     "metadata": {},
     "output_type": "display_data"
    },
    {
     "data": {
      "text/html": [
       "<table>\n",
       "<thead><tr><th></th><th scope=col>Semana</th><th scope=col>Cliente_ID</th><th scope=col>Producto_ID</th><th scope=col>target</th></tr></thead>\n",
       "<tbody>\n",
       "\t<tr><th scope=row>1</th><td>12     </td><td>4639078</td><td>35305  </td><td>0      </td></tr>\n",
       "\t<tr><th scope=row>2</th><td>12     </td><td>4705135</td><td> 1238  </td><td>0      </td></tr>\n",
       "\t<tr><th scope=row>3</th><td>11     </td><td>4549769</td><td>32940  </td><td>0      </td></tr>\n",
       "\t<tr><th scope=row>4</th><td>12     </td><td>4717855</td><td>43066  </td><td>0      </td></tr>\n",
       "\t<tr><th scope=row>5</th><td>12     </td><td> 966351</td><td> 1277  </td><td>0      </td></tr>\n",
       "\t<tr><th scope=row>6</th><td>12     </td><td>1741414</td><td>  972  </td><td>0      </td></tr>\n",
       "</tbody>\n",
       "</table>\n"
      ],
      "text/latex": [
       "\\begin{tabular}{r|llll}\n",
       "  & Semana & Cliente\\_ID & Producto\\_ID & target\\\\\n",
       "\\hline\n",
       "\t1 & 12      & 4639078 & 35305   & 0      \\\\\n",
       "\t2 & 12      & 4705135 &  1238   & 0      \\\\\n",
       "\t3 & 11      & 4549769 & 32940   & 0      \\\\\n",
       "\t4 & 12      & 4717855 & 43066   & 0      \\\\\n",
       "\t5 & 12      &  966351 &  1277   & 0      \\\\\n",
       "\t6 & 12      & 1741414 &   972   & 0      \\\\\n",
       "\\end{tabular}\n"
      ],
      "text/plain": [
       "  Semana Cliente_ID Producto_ID target\n",
       "1 12     4639078    35305       0     \n",
       "2 12     4705135     1238       0     \n",
       "3 11     4549769    32940       0     \n",
       "4 12     4717855    43066       0     \n",
       "5 12      966351     1277       0     \n",
       "6 12     1741414      972       0     "
      ]
     },
     "metadata": {},
     "output_type": "display_data"
    },
    {
     "data": {
      "text/html": [
       "<table>\n",
       "<thead><tr><th></th><th scope=col>Semana</th><th scope=col>Cliente_ID</th><th scope=col>Producto_ID</th><th scope=col>Agencia_ID</th><th scope=col>Ruta_SAK</th><th scope=col>id</th><th scope=col>target</th><th scope=col>tst</th><th scope=col>targetl1</th></tr></thead>\n",
       "<tbody>\n",
       "\t<tr><th scope=row>1</th><td>10    </td><td>60    </td><td>33267 </td><td>2061  </td><td>7238  </td><td>448555</td><td>0     </td><td>1     </td><td>NA    </td></tr>\n",
       "\t<tr><th scope=row>2</th><td>10    </td><td>60    </td><td>34258 </td><td>2061  </td><td>7238  </td><td>271105</td><td>0     </td><td>1     </td><td>NA    </td></tr>\n",
       "\t<tr><th scope=row>3</th><td>10    </td><td>65    </td><td>34802 </td><td>2061  </td><td>7250  </td><td>756957</td><td>0     </td><td>1     </td><td>NA    </td></tr>\n",
       "\t<tr><th scope=row>4</th><td>10    </td><td>65    </td><td>35145 </td><td>2061  </td><td>7250  </td><td>256436</td><td>0     </td><td>1     </td><td>NA    </td></tr>\n",
       "\t<tr><th scope=row>5</th><td>10    </td><td>65    </td><td>35305 </td><td>2061  </td><td>7250  </td><td>592764</td><td>0     </td><td>1     </td><td>NA    </td></tr>\n",
       "\t<tr><th scope=row>6</th><td>10    </td><td>65    </td><td>43200 </td><td>2061  </td><td>7250  </td><td>172582</td><td>0     </td><td>1     </td><td>NA    </td></tr>\n",
       "</tbody>\n",
       "</table>\n"
      ],
      "text/latex": [
       "\\begin{tabular}{r|lllllllll}\n",
       "  & Semana & Cliente\\_ID & Producto\\_ID & Agencia\\_ID & Ruta\\_SAK & id & target & tst & targetl1\\\\\n",
       "\\hline\n",
       "\t1 & 10     & 60     & 33267  & 2061   & 7238   & 448555 & 0      & 1      & NA    \\\\\n",
       "\t2 & 10     & 60     & 34258  & 2061   & 7238   & 271105 & 0      & 1      & NA    \\\\\n",
       "\t3 & 10     & 65     & 34802  & 2061   & 7250   & 756957 & 0      & 1      & NA    \\\\\n",
       "\t4 & 10     & 65     & 35145  & 2061   & 7250   & 256436 & 0      & 1      & NA    \\\\\n",
       "\t5 & 10     & 65     & 35305  & 2061   & 7250   & 592764 & 0      & 1      & NA    \\\\\n",
       "\t6 & 10     & 65     & 43200  & 2061   & 7250   & 172582 & 0      & 1      & NA    \\\\\n",
       "\\end{tabular}\n"
      ],
      "text/plain": [
       "  Semana Cliente_ID Producto_ID Agencia_ID Ruta_SAK id     target tst targetl1\n",
       "1 10     60         33267       2061       7238     448555 0      1   NA      \n",
       "2 10     60         34258       2061       7238     271105 0      1   NA      \n",
       "3 10     65         34802       2061       7250     756957 0      1   NA      \n",
       "4 10     65         35145       2061       7250     256436 0      1   NA      \n",
       "5 10     65         35305       2061       7250     592764 0      1   NA      \n",
       "6 10     65         43200       2061       7250     172582 0      1   NA      "
      ]
     },
     "metadata": {},
     "output_type": "display_data"
    }
   ],
   "source": [
    "head(data);head(data1);head(data_fin)"
   ]
  },
  {
   "cell_type": "code",
   "execution_count": 40,
   "metadata": {
    "collapsed": true
   },
   "outputs": [],
   "source": [
    "library(plyr)"
   ]
  },
  {
   "cell_type": "code",
   "execution_count": 41,
   "metadata": {
    "collapsed": false
   },
   "outputs": [
    {
     "data": {
      "text/plain": [
       "\n",
       "    0 \n",
       "16186 "
      ]
     },
     "metadata": {},
     "output_type": "display_data"
    }
   ],
   "source": [
    "table(data_fin$targetl1)"
   ]
  },
  {
   "cell_type": "code",
   "execution_count": 44,
   "metadata": {
    "collapsed": true
   },
   "outputs": [],
   "source": [
    "a <- c(0,1,2); b <- c(0,0,0)"
   ]
  },
  {
   "cell_type": "code",
   "execution_count": 45,
   "metadata": {
    "collapsed": false
   },
   "outputs": [
    {
     "data": {
      "text/html": [
       "1"
      ],
      "text/latex": [
       "1"
      ],
      "text/markdown": [
       "1"
      ],
      "text/plain": [
       "[1] 1"
      ]
     },
     "metadata": {},
     "output_type": "display_data"
    },
    {
     "data": {
      "text/html": [
       "0"
      ],
      "text/latex": [
       "0"
      ],
      "text/markdown": [
       "0"
      ],
      "text/plain": [
       "[1] 0"
      ]
     },
     "metadata": {},
     "output_type": "display_data"
    }
   ],
   "source": [
    "mean(a); mean(b)"
   ]
  },
  {
   "cell_type": "code",
   "execution_count": null,
   "metadata": {
    "collapsed": true
   },
   "outputs": [],
   "source": []
  }
 ],
 "metadata": {
  "kernelspec": {
   "display_name": "R",
   "language": "R",
   "name": "ir"
  },
  "language_info": {
   "codemirror_mode": "r",
   "file_extension": ".r",
   "mimetype": "text/x-r-source",
   "name": "R",
   "pygments_lexer": "r",
   "version": "3.2.2"
  }
 },
 "nbformat": 4,
 "nbformat_minor": 0
}
