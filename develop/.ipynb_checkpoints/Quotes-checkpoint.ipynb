{
 "cells": [
  {
   "cell_type": "markdown",
   "metadata": {
    "collapsed": true
   },
   "source": [
    "# Quotes"
   ]
  },
  {
   "cell_type": "markdown",
   "metadata": {},
   "source": [
    "<font face=\"Bazooka\">Correlation does not imply causation, but it does waggle its eyebrows suggestively and gesture furtively while mouthing 'look over there'.</font> *xkcd*"
   ]
  },
  {
   "cell_type": "markdown",
   "metadata": {
    "collapsed": false
   },
   "source": [
    "Mehr denn je gehört die Zukunft jenen, die sich der Gegenwart stellen: denjenigen, die kontinuierlich daran arbeiten in Zeiten großer Veränderungen effizienter und produktiver zu werden. Denen, die unermüdlich in Innovationen investieren, um Unternehmen zu transformieren und Veränderungen zu fördern. Die Zukunft gehört Unternehmen, die ihr Geschäftsmodell und Wachstumsziele immer wieder herausfordern und unermüdlich neue Wege suchen. - *cognizant*"
   ]
  },
  {
   "cell_type": "code",
   "execution_count": null,
   "metadata": {
    "collapsed": false
   },
   "outputs": [],
   "source": []
  },
  {
   "cell_type": "code",
   "execution_count": null,
   "metadata": {
    "collapsed": true
   },
   "outputs": [],
   "source": []
  },
  {
   "cell_type": "code",
   "execution_count": null,
   "metadata": {
    "collapsed": true
   },
   "outputs": [],
   "source": [
    "# Random font picker\n",
    "import pandas as pd\n",
    "import random\n",
    "f=random.choice(pd.read_csv(\"../data/fontnames.data\").values)[0]\n",
    "f"
   ]
  }
 ],
 "metadata": {
  "kernelspec": {
   "display_name": "Python 3",
   "language": "python",
   "name": "python3"
  },
  "language_info": {
   "codemirror_mode": {
    "name": "ipython",
    "version": 3
   },
   "file_extension": ".py",
   "mimetype": "text/x-python",
   "name": "python",
   "nbconvert_exporter": "python",
   "pygments_lexer": "ipython3",
   "version": "3.5.1"
  }
 },
 "nbformat": 4,
 "nbformat_minor": 0
}
