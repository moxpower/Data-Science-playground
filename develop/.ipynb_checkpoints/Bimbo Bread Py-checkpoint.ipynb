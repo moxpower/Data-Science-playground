{
 "cells": [
  {
   "cell_type": "markdown",
   "metadata": {},
   "source": [
    "<img src='../img/bimbo.png'>"
   ]
  },
  {
   "cell_type": "markdown",
   "metadata": {},
   "source": [
    "- Task: Demand = Sales - Returns\n",
    "- Create holdout test set"
   ]
  },
  {
   "cell_type": "markdown",
   "metadata": {},
   "source": [
    "## Data exploration"
   ]
  },
  {
   "cell_type": "code",
   "execution_count": 1,
   "metadata": {
    "collapsed": false
   },
   "outputs": [],
   "source": [
    "#jupyter nbconvert --to python \"Bimbo Bread Py.ipynb\"\n",
    "\n",
    "import pandas as pd\n",
    "import numpy as np\n",
    "import os\n",
    "import matplotlib\n",
    "matplotlib.use(\"Agg\")\n",
    "import matplotlib.pyplot as plt\n",
    "#%matplotlib inline\n",
    "from sklearn.cross_validation import train_test_split\n",
    "import xgboost as xgb\n",
    "import operator\n",
    "\n",
    "dir_sub = \"C:/Users/568377/Cognizant/Data Science/kaggle/Bimbo Bread/submissions/\"\n",
    "dir_raw = \"C:/Users/568377/Cognizant/Data Science/kaggle/Bimbo Bread/raw/\""
   ]
  },
  {
   "cell_type": "code",
   "execution_count": 4,
   "metadata": {
    "collapsed": false
   },
   "outputs": [],
   "source": [
    "subm = pd.read_csv(os.path.join(dir_raw,\"sample_submission.csv\"))\n",
    "prod = pd.read_csv(os.path.join(dir_raw,\"producto_tabla.csv\"))\n",
    "town_state = pd.read_csv(os.path.join(dir_raw,\"town_state.csv\"))\n",
    "client = pd.read_csv(os.path.join(dir_raw,\"cliente_tabla.csv\"))\n",
    "test = pd.read_csv(os.path.join(dir_raw,\"test.csv\"), nrows = 10000)\n",
    "train = pd.read_csv(os.path.join(dir_raw,\"train.csv\"), nrows = 10000)"
   ]
  },
  {
   "cell_type": "code",
   "execution_count": 3,
   "metadata": {
    "collapsed": false
   },
   "outputs": [
    {
     "name": "stdout",
     "output_type": "stream",
     "text": [
      "Reading test data...\n",
      "Done\n"
     ]
    }
   ],
   "source": [
    "print(\"Reading test data...\")\n",
    "test = pd.read_csv(os.path.join(dir_raw,\"test.csv\"))\n",
    "print(\"Done\")"
   ]
  },
  {
   "cell_type": "code",
   "execution_count": 3,
   "metadata": {
    "collapsed": false
   },
   "outputs": [
    {
     "name": "stdout",
     "output_type": "stream",
     "text": [
      "Reading train data...\n",
      "first batch finished\n",
      "second batch finished\n",
      "Done\n"
     ]
    }
   ],
   "source": [
    "print(\"Reading train data...\")\n",
    "train_1 = pd.read_csv(os.path.join(dir_raw,\"train/xaa\"))\n",
    "print(\"...1. batch finished...\")\n",
    "train_2 = pd.read_csv(os.path.join(dir_raw,\"train/xab\"))\n",
    "print(\"...2. batch finished...\")\n",
    "print(\"Done\")"
   ]
  },
  {
   "cell_type": "code",
   "execution_count": 4,
   "metadata": {
    "collapsed": true
   },
   "outputs": [],
   "source": [
    "train = pd.concat([train_1,train_2]) # not working properly"
   ]
  },
  {
   "cell_type": "code",
   "execution_count": 7,
   "metadata": {
    "collapsed": false
   },
   "outputs": [
    {
     "data": {
      "text/html": [
       "<div>\n",
       "<table border=\"1\" class=\"dataframe\">\n",
       "  <thead>\n",
       "    <tr style=\"text-align: right;\">\n",
       "      <th></th>\n",
       "      <th>Semana</th>\n",
       "      <th>Agencia_ID</th>\n",
       "      <th>Canal_ID</th>\n",
       "      <th>Ruta_SAK</th>\n",
       "      <th>Cliente_ID</th>\n",
       "      <th>Producto_ID</th>\n",
       "      <th>Venta_uni_hoy</th>\n",
       "      <th>Venta_hoy</th>\n",
       "      <th>Dev_uni_proxima</th>\n",
       "      <th>Dev_proxima</th>\n",
       "      <th>Demanda_uni_equil</th>\n",
       "    </tr>\n",
       "  </thead>\n",
       "  <tbody>\n",
       "    <tr>\n",
       "      <th>0</th>\n",
       "      <td>3</td>\n",
       "      <td>1110</td>\n",
       "      <td>7</td>\n",
       "      <td>3301</td>\n",
       "      <td>15766</td>\n",
       "      <td>1212</td>\n",
       "      <td>3</td>\n",
       "      <td>25.14</td>\n",
       "      <td>0</td>\n",
       "      <td>0.0</td>\n",
       "      <td>3</td>\n",
       "    </tr>\n",
       "    <tr>\n",
       "      <th>1</th>\n",
       "      <td>3</td>\n",
       "      <td>1110</td>\n",
       "      <td>7</td>\n",
       "      <td>3301</td>\n",
       "      <td>15766</td>\n",
       "      <td>1216</td>\n",
       "      <td>4</td>\n",
       "      <td>33.52</td>\n",
       "      <td>0</td>\n",
       "      <td>0.0</td>\n",
       "      <td>4</td>\n",
       "    </tr>\n",
       "    <tr>\n",
       "      <th>2</th>\n",
       "      <td>3</td>\n",
       "      <td>1110</td>\n",
       "      <td>7</td>\n",
       "      <td>3301</td>\n",
       "      <td>15766</td>\n",
       "      <td>1238</td>\n",
       "      <td>4</td>\n",
       "      <td>39.32</td>\n",
       "      <td>0</td>\n",
       "      <td>0.0</td>\n",
       "      <td>4</td>\n",
       "    </tr>\n",
       "    <tr>\n",
       "      <th>3</th>\n",
       "      <td>3</td>\n",
       "      <td>1110</td>\n",
       "      <td>7</td>\n",
       "      <td>3301</td>\n",
       "      <td>15766</td>\n",
       "      <td>1240</td>\n",
       "      <td>4</td>\n",
       "      <td>33.52</td>\n",
       "      <td>0</td>\n",
       "      <td>0.0</td>\n",
       "      <td>4</td>\n",
       "    </tr>\n",
       "    <tr>\n",
       "      <th>4</th>\n",
       "      <td>3</td>\n",
       "      <td>1110</td>\n",
       "      <td>7</td>\n",
       "      <td>3301</td>\n",
       "      <td>15766</td>\n",
       "      <td>1242</td>\n",
       "      <td>3</td>\n",
       "      <td>22.92</td>\n",
       "      <td>0</td>\n",
       "      <td>0.0</td>\n",
       "      <td>3</td>\n",
       "    </tr>\n",
       "  </tbody>\n",
       "</table>\n",
       "</div>"
      ],
      "text/plain": [
       "   Semana  Agencia_ID  Canal_ID  Ruta_SAK  Cliente_ID  Producto_ID  \\\n",
       "0       3        1110         7      3301       15766         1212   \n",
       "1       3        1110         7      3301       15766         1216   \n",
       "2       3        1110         7      3301       15766         1238   \n",
       "3       3        1110         7      3301       15766         1240   \n",
       "4       3        1110         7      3301       15766         1242   \n",
       "\n",
       "   Venta_uni_hoy  Venta_hoy  Dev_uni_proxima  Dev_proxima  Demanda_uni_equil  \n",
       "0              3      25.14                0          0.0                  3  \n",
       "1              4      33.52                0          0.0                  4  \n",
       "2              4      39.32                0          0.0                  4  \n",
       "3              4      33.52                0          0.0                  4  \n",
       "4              3      22.92                0          0.0                  3  "
      ]
     },
     "execution_count": 7,
     "metadata": {},
     "output_type": "execute_result"
    }
   ],
   "source": [
    "train.head()"
   ]
  },
  {
   "cell_type": "code",
   "execution_count": 11,
   "metadata": {
    "collapsed": false
   },
   "outputs": [
    {
     "data": {
      "text/plain": [
       "Semana                 int64\n",
       "Agencia_ID             int64\n",
       "Canal_ID               int64\n",
       "Ruta_SAK               int64\n",
       "Cliente_ID             int64\n",
       "Producto_ID            int64\n",
       "Venta_uni_hoy          int64\n",
       "Venta_hoy            float64\n",
       "Dev_uni_proxima        int64\n",
       "Dev_proxima          float64\n",
       "Demanda_uni_equil      int64\n",
       "dtype: object"
      ]
     },
     "execution_count": 11,
     "metadata": {},
     "output_type": "execute_result"
    }
   ],
   "source": [
    "train.dtypes"
   ]
  },
  {
   "cell_type": "code",
   "execution_count": 5,
   "metadata": {
    "collapsed": false
   },
   "outputs": [],
   "source": [
    "import sqlite3\n",
    "\n",
    "dbfile = os.path.join(dir_raw,\"train/train.sqlite\")\n",
    "cxn = sqlite3.connect(dbfile)\n",
    "c = cxn.cursor()"
   ]
  },
  {
   "cell_type": "code",
   "execution_count": 9,
   "metadata": {
    "collapsed": false
   },
   "outputs": [],
   "source": [
    "train_1.to_sql(name='train_1', con = cxn, if_exists='replace')\n",
    "train_2.to_sql(name='train_2', con = cxn, if_exists='replace')"
   ]
  },
  {
   "cell_type": "code",
   "execution_count": 10,
   "metadata": {
    "collapsed": false
   },
   "outputs": [
    {
     "ename": "MemoryError",
     "evalue": "",
     "output_type": "error",
     "traceback": [
      "\u001b[1;31m---------------------------------------------------------------------------\u001b[0m",
      "\u001b[1;31mMemoryError\u001b[0m                               Traceback (most recent call last)",
      "\u001b[1;32m<ipython-input-10-99db0b49f1a2>\u001b[0m in \u001b[0;36m<module>\u001b[1;34m()\u001b[0m\n\u001b[0;32m      2\u001b[0m \u001b[1;31m# MIGHT HAVE TO ADJUST ABOVE FOR CELL AND PATIENT PARAMS IN DEFINED FUNCTION\u001b[0m\u001b[1;33m\u001b[0m\u001b[1;33m\u001b[0m\u001b[0m\n\u001b[0;32m      3\u001b[0m \u001b[1;33m\u001b[0m\u001b[0m\n\u001b[1;32m----> 4\u001b[1;33m \u001b[0mmerged\u001b[0m \u001b[1;33m=\u001b[0m \u001b[0mpd\u001b[0m\u001b[1;33m.\u001b[0m\u001b[0mread_sql\u001b[0m\u001b[1;33m(\u001b[0m\u001b[0mstrSQL\u001b[0m\u001b[1;33m,\u001b[0m \u001b[0mcxn\u001b[0m\u001b[1;33m)\u001b[0m\u001b[1;33m\u001b[0m\u001b[0m\n\u001b[0m",
      "\u001b[1;32mC:\\Users\\568377\\AppData\\Local\\Continuum\\Anaconda3\\lib\\site-packages\\pandas\\io\\sql.py\u001b[0m in \u001b[0;36mread_sql\u001b[1;34m(sql, con, index_col, coerce_float, params, parse_dates, columns, chunksize)\u001b[0m\n\u001b[0;32m    497\u001b[0m             \u001b[0msql\u001b[0m\u001b[1;33m,\u001b[0m \u001b[0mindex_col\u001b[0m\u001b[1;33m=\u001b[0m\u001b[0mindex_col\u001b[0m\u001b[1;33m,\u001b[0m \u001b[0mparams\u001b[0m\u001b[1;33m=\u001b[0m\u001b[0mparams\u001b[0m\u001b[1;33m,\u001b[0m\u001b[1;33m\u001b[0m\u001b[0m\n\u001b[0;32m    498\u001b[0m             \u001b[0mcoerce_float\u001b[0m\u001b[1;33m=\u001b[0m\u001b[0mcoerce_float\u001b[0m\u001b[1;33m,\u001b[0m \u001b[0mparse_dates\u001b[0m\u001b[1;33m=\u001b[0m\u001b[0mparse_dates\u001b[0m\u001b[1;33m,\u001b[0m\u001b[1;33m\u001b[0m\u001b[0m\n\u001b[1;32m--> 499\u001b[1;33m             chunksize=chunksize)\n\u001b[0m\u001b[0;32m    500\u001b[0m \u001b[1;33m\u001b[0m\u001b[0m\n\u001b[0;32m    501\u001b[0m     \u001b[1;32mtry\u001b[0m\u001b[1;33m:\u001b[0m\u001b[1;33m\u001b[0m\u001b[0m\n",
      "\u001b[1;32mC:\\Users\\568377\\AppData\\Local\\Continuum\\Anaconda3\\lib\\site-packages\\pandas\\io\\sql.py\u001b[0m in \u001b[0;36mread_query\u001b[1;34m(self, sql, index_col, coerce_float, params, parse_dates, chunksize)\u001b[0m\n\u001b[0;32m   1611\u001b[0m             frame = _wrap_result(data, columns, index_col=index_col,\n\u001b[0;32m   1612\u001b[0m                                  \u001b[0mcoerce_float\u001b[0m\u001b[1;33m=\u001b[0m\u001b[0mcoerce_float\u001b[0m\u001b[1;33m,\u001b[0m\u001b[1;33m\u001b[0m\u001b[0m\n\u001b[1;32m-> 1613\u001b[1;33m                                  parse_dates=parse_dates)\n\u001b[0m\u001b[0;32m   1614\u001b[0m             \u001b[1;32mreturn\u001b[0m \u001b[0mframe\u001b[0m\u001b[1;33m\u001b[0m\u001b[0m\n\u001b[0;32m   1615\u001b[0m \u001b[1;33m\u001b[0m\u001b[0m\n",
      "\u001b[1;32mC:\\Users\\568377\\AppData\\Local\\Continuum\\Anaconda3\\lib\\site-packages\\pandas\\io\\sql.py\u001b[0m in \u001b[0;36m_wrap_result\u001b[1;34m(data, columns, index_col, coerce_float, parse_dates)\u001b[0m\n\u001b[0;32m    135\u001b[0m \u001b[1;33m\u001b[0m\u001b[0m\n\u001b[0;32m    136\u001b[0m     frame = DataFrame.from_records(data, columns=columns,\n\u001b[1;32m--> 137\u001b[1;33m                                    coerce_float=coerce_float)\n\u001b[0m\u001b[0;32m    138\u001b[0m \u001b[1;33m\u001b[0m\u001b[0m\n\u001b[0;32m    139\u001b[0m     \u001b[0m_parse_date_columns\u001b[0m\u001b[1;33m(\u001b[0m\u001b[0mframe\u001b[0m\u001b[1;33m,\u001b[0m \u001b[0mparse_dates\u001b[0m\u001b[1;33m)\u001b[0m\u001b[1;33m\u001b[0m\u001b[0m\n",
      "\u001b[1;32mC:\\Users\\568377\\AppData\\Local\\Continuum\\Anaconda3\\lib\\site-packages\\pandas\\core\\frame.py\u001b[0m in \u001b[0;36mfrom_records\u001b[1;34m(cls, data, index, exclude, columns, coerce_float, nrows)\u001b[0m\n\u001b[0;32m    979\u001b[0m         \u001b[1;32melse\u001b[0m\u001b[1;33m:\u001b[0m\u001b[1;33m\u001b[0m\u001b[0m\n\u001b[0;32m    980\u001b[0m             arrays, arr_columns = _to_arrays(data, columns,\n\u001b[1;32m--> 981\u001b[1;33m                                              coerce_float=coerce_float)\n\u001b[0m\u001b[0;32m    982\u001b[0m \u001b[1;33m\u001b[0m\u001b[0m\n\u001b[0;32m    983\u001b[0m             \u001b[0marr_columns\u001b[0m \u001b[1;33m=\u001b[0m \u001b[0m_ensure_index\u001b[0m\u001b[1;33m(\u001b[0m\u001b[0marr_columns\u001b[0m\u001b[1;33m)\u001b[0m\u001b[1;33m\u001b[0m\u001b[0m\n",
      "\u001b[1;32mC:\\Users\\568377\\AppData\\Local\\Continuum\\Anaconda3\\lib\\site-packages\\pandas\\core\\frame.py\u001b[0m in \u001b[0;36m_to_arrays\u001b[1;34m(data, columns, coerce_float, dtype)\u001b[0m\n\u001b[0;32m   5350\u001b[0m     \u001b[1;32mif\u001b[0m \u001b[0misinstance\u001b[0m\u001b[1;33m(\u001b[0m\u001b[0mdata\u001b[0m\u001b[1;33m[\u001b[0m\u001b[1;36m0\u001b[0m\u001b[1;33m]\u001b[0m\u001b[1;33m,\u001b[0m \u001b[1;33m(\u001b[0m\u001b[0mlist\u001b[0m\u001b[1;33m,\u001b[0m \u001b[0mtuple\u001b[0m\u001b[1;33m)\u001b[0m\u001b[1;33m)\u001b[0m\u001b[1;33m:\u001b[0m\u001b[1;33m\u001b[0m\u001b[0m\n\u001b[0;32m   5351\u001b[0m         return _list_to_arrays(data, columns, coerce_float=coerce_float,\n\u001b[1;32m-> 5352\u001b[1;33m                                dtype=dtype)\n\u001b[0m\u001b[0;32m   5353\u001b[0m     \u001b[1;32melif\u001b[0m \u001b[0misinstance\u001b[0m\u001b[1;33m(\u001b[0m\u001b[0mdata\u001b[0m\u001b[1;33m[\u001b[0m\u001b[1;36m0\u001b[0m\u001b[1;33m]\u001b[0m\u001b[1;33m,\u001b[0m \u001b[0mcollections\u001b[0m\u001b[1;33m.\u001b[0m\u001b[0mMapping\u001b[0m\u001b[1;33m)\u001b[0m\u001b[1;33m:\u001b[0m\u001b[1;33m\u001b[0m\u001b[0m\n\u001b[0;32m   5354\u001b[0m         return _list_of_dict_to_arrays(data, columns,\n",
      "\u001b[1;32mC:\\Users\\568377\\AppData\\Local\\Continuum\\Anaconda3\\lib\\site-packages\\pandas\\core\\frame.py\u001b[0m in \u001b[0;36m_list_to_arrays\u001b[1;34m(data, columns, coerce_float, dtype)\u001b[0m\n\u001b[0;32m   5424\u001b[0m \u001b[1;32mdef\u001b[0m \u001b[0m_list_to_arrays\u001b[0m\u001b[1;33m(\u001b[0m\u001b[0mdata\u001b[0m\u001b[1;33m,\u001b[0m \u001b[0mcolumns\u001b[0m\u001b[1;33m,\u001b[0m \u001b[0mcoerce_float\u001b[0m\u001b[1;33m=\u001b[0m\u001b[1;32mFalse\u001b[0m\u001b[1;33m,\u001b[0m \u001b[0mdtype\u001b[0m\u001b[1;33m=\u001b[0m\u001b[1;32mNone\u001b[0m\u001b[1;33m)\u001b[0m\u001b[1;33m:\u001b[0m\u001b[1;33m\u001b[0m\u001b[0m\n\u001b[0;32m   5425\u001b[0m     \u001b[1;32mif\u001b[0m \u001b[0mlen\u001b[0m\u001b[1;33m(\u001b[0m\u001b[0mdata\u001b[0m\u001b[1;33m)\u001b[0m \u001b[1;33m>\u001b[0m \u001b[1;36m0\u001b[0m \u001b[1;32mand\u001b[0m \u001b[0misinstance\u001b[0m\u001b[1;33m(\u001b[0m\u001b[0mdata\u001b[0m\u001b[1;33m[\u001b[0m\u001b[1;36m0\u001b[0m\u001b[1;33m]\u001b[0m\u001b[1;33m,\u001b[0m \u001b[0mtuple\u001b[0m\u001b[1;33m)\u001b[0m\u001b[1;33m:\u001b[0m\u001b[1;33m\u001b[0m\u001b[0m\n\u001b[1;32m-> 5426\u001b[1;33m         \u001b[0mcontent\u001b[0m \u001b[1;33m=\u001b[0m \u001b[0mlist\u001b[0m\u001b[1;33m(\u001b[0m\u001b[0mlib\u001b[0m\u001b[1;33m.\u001b[0m\u001b[0mto_object_array_tuples\u001b[0m\u001b[1;33m(\u001b[0m\u001b[0mdata\u001b[0m\u001b[1;33m)\u001b[0m\u001b[1;33m.\u001b[0m\u001b[0mT\u001b[0m\u001b[1;33m)\u001b[0m\u001b[1;33m\u001b[0m\u001b[0m\n\u001b[0m\u001b[0;32m   5427\u001b[0m     \u001b[1;32melse\u001b[0m\u001b[1;33m:\u001b[0m\u001b[1;33m\u001b[0m\u001b[0m\n\u001b[0;32m   5428\u001b[0m         \u001b[1;31m# list of lists\u001b[0m\u001b[1;33m\u001b[0m\u001b[1;33m\u001b[0m\u001b[0m\n",
      "\u001b[1;32mpandas\\src\\inference.pyx\u001b[0m in \u001b[0;36mpandas.lib.to_object_array_tuples (pandas\\lib.c:63661)\u001b[1;34m()\u001b[0m\n",
      "\u001b[1;31mMemoryError\u001b[0m: "
     ]
    }
   ],
   "source": [
    "strSQL = 'SELECT * FROM train_1 UNION SELECT * FROM train_2;'\n",
    "# MIGHT HAVE TO ADJUST ABOVE FOR CELL AND PATIENT PARAMS IN DEFINED FUNCTION\n",
    "\n",
    "merged = pd.read_sql(strSQL, cxn)"
   ]
  },
  {
   "cell_type": "code",
   "execution_count": null,
   "metadata": {
    "collapsed": true
   },
   "outputs": [],
   "source": []
  },
  {
   "cell_type": "code",
   "execution_count": null,
   "metadata": {
    "collapsed": true
   },
   "outputs": [],
   "source": []
  },
  {
   "cell_type": "code",
   "execution_count": null,
   "metadata": {
    "collapsed": true
   },
   "outputs": [],
   "source": []
  },
  {
   "cell_type": "code",
   "execution_count": null,
   "metadata": {
    "collapsed": true
   },
   "outputs": [],
   "source": []
  },
  {
   "cell_type": "markdown",
   "metadata": {},
   "source": [
    "### Features"
   ]
  },
  {
   "cell_type": "markdown",
   "metadata": {},
   "source": [
    "#### Product"
   ]
  },
  {
   "cell_type": "code",
   "execution_count": 4,
   "metadata": {
    "collapsed": false
   },
   "outputs": [],
   "source": [
    "# prod.head()"
   ]
  },
  {
   "cell_type": "code",
   "execution_count": 5,
   "metadata": {
    "collapsed": false
   },
   "outputs": [
    {
     "name": "stderr",
     "output_type": "stream",
     "text": [
      "c:\\users\\568377\\appdata\\local\\programs\\python\\python35-32\\lib\\site-packages\\ipykernel\\__main__.py:8: FutureWarning: convert_objects is deprecated.  Use the data-type specific converters pd.to_datetime, pd.to_timedelta and pd.to_numeric.\n",
      "c:\\users\\568377\\appdata\\local\\programs\\python\\python35-32\\lib\\site-packages\\ipykernel\\__main__.py:9: FutureWarning: convert_objects is deprecated.  Use the data-type specific converters pd.to_datetime, pd.to_timedelta and pd.to_numeric.\n"
     ]
    }
   ],
   "source": [
    "# extract weight and volume from product name\n",
    "prod['unit_g'] = prod['NombreProducto'].str.extract(\"([0-9]+)(g )\", expand=True)[1]\n",
    "prod['amount_g'] = prod['NombreProducto'].str.extract(\"([0-9]+)(g )\", expand=True)[0]\n",
    "prod['unit_ml'] = prod['NombreProducto'].str.extract(\"([0-9]+)(ml )\", expand=True)[1]\n",
    "prod['amount_ml'] = prod['NombreProducto'].str.extract(\"([0-9]+)(ml )\", expand=True)[0]\n",
    "\n",
    "# make numeric\n",
    "prod['amount_g'] = prod['amount_g'].convert_objects(convert_numeric=True)\n",
    "prod['amount_ml'] = prod['amount_ml'].convert_objects(convert_numeric=True)"
   ]
  },
  {
   "cell_type": "code",
   "execution_count": 6,
   "metadata": {
    "collapsed": false
   },
   "outputs": [],
   "source": [
    "# prod"
   ]
  },
  {
   "cell_type": "code",
   "execution_count": 7,
   "metadata": {
    "collapsed": false
   },
   "outputs": [
    {
     "data": {
      "text/plain": [
       "<matplotlib.text.Text at 0xc377ab0>"
      ]
     },
     "execution_count": 7,
     "metadata": {},
     "output_type": "execute_result"
    },
    {
     "data": {
      "image/png": "[encoded data removed]",
      "text/plain": [
       "<matplotlib.figure.Figure at 0x93957d0>"
      ]
     },
     "metadata": {},
     "output_type": "display_data"
    }
   ],
   "source": [
    "# show distribution of weight / volume\n",
    "fig, axs = plt.subplots(1,2)\n",
    "bins_ml=[i for i in range(0,1000,50)]\n",
    "bins_g=[i for i in range(0,2000,100)]\n",
    "\n",
    "prod['amount_ml'].hist(ax=axs[0],bins=bins_ml,alpha=0.5)\n",
    "axs[0].set_xlabel(\"ml\")\n",
    "prod['amount_g'].hist(ax=axs[1],bins=bins_g,alpha=0.5)\n",
    "axs[1].set_xlabel(\"g\")"
   ]
  },
  {
   "cell_type": "markdown",
   "metadata": {},
   "source": [
    "# NEXT STEPS\n",
    "- Categorize food\n",
    "- Quota of large items\n",
    "- How new is item?\n",
    "\n",
    "#### Town/State"
   ]
  },
  {
   "cell_type": "code",
   "execution_count": 8,
   "metadata": {
    "collapsed": false
   },
   "outputs": [],
   "source": [
    "# town_state.head()"
   ]
  },
  {
   "cell_type": "code",
   "execution_count": 9,
   "metadata": {
    "collapsed": true
   },
   "outputs": [],
   "source": [
    "# make lowercase\n",
    "town_state['Town'] = town_state['Town'].str.lower()\n",
    "town_state['State'] = town_state['State'].str.lower()\n",
    "# separate zip, town_name\n",
    "town_state['zip'] = town_state['Town'].str[:4]\n",
    "town_state['town_name'] = town_state['Town'].str[5:]"
   ]
  },
  {
   "cell_type": "code",
   "execution_count": 10,
   "metadata": {
    "collapsed": false
   },
   "outputs": [],
   "source": [
    "# town_state.head()"
   ]
  },
  {
   "cell_type": "code",
   "execution_count": 11,
   "metadata": {
    "collapsed": false
   },
   "outputs": [],
   "source": [
    "# check uniques\n",
    "# len(town_state['Town'].unique()), len(town_state['zip'].unique()), len(town_state['town_name'].unique())\n",
    "##town_state = town_state.groupby('zip')\n",
    "##town_state['Town'].str[4].unique() -> clean"
   ]
  },
  {
   "cell_type": "code",
   "execution_count": 12,
   "metadata": {
    "collapsed": false
   },
   "outputs": [
    {
     "data": {
      "text/plain": [
       "array(['2152', '2169'], dtype=object)"
      ]
     },
     "execution_count": 12,
     "metadata": {},
     "output_type": "execute_result"
    }
   ],
   "source": [
    "# twice, similar zips have different town_names\n",
    "df = town_state.groupby('zip').Town.nunique()\n",
    "df[df==2] #3 entries with different town names\n",
    "double_town_names = np.array(df[df==2].index)\n",
    "double_town_names # zips"
   ]
  },
  {
   "cell_type": "code",
   "execution_count": 13,
   "metadata": {
    "collapsed": false
   },
   "outputs": [
    {
     "data": {
      "text/plain": [
       "'3216'"
      ]
     },
     "execution_count": 13,
     "metadata": {},
     "output_type": "execute_result"
    }
   ],
   "source": [
    "town_state['zip'].max() #max zip number"
   ]
  },
  {
   "cell_type": "code",
   "execution_count": 14,
   "metadata": {
    "collapsed": false
   },
   "outputs": [
    {
     "data": {
      "text/html": [
       "<div>\n",
       "<table border=\"1\" class=\"dataframe\">\n",
       "  <thead>\n",
       "    <tr style=\"text-align: right;\">\n",
       "      <th></th>\n",
       "      <th>Agencia_ID</th>\n",
       "      <th>Town</th>\n",
       "      <th>State</th>\n",
       "      <th>zip</th>\n",
       "      <th>town_name</th>\n",
       "    </tr>\n",
       "  </thead>\n",
       "  <tbody>\n",
       "    <tr>\n",
       "      <th>199</th>\n",
       "      <td>1524</td>\n",
       "      <td>2152 cruce de anden noroeste</td>\n",
       "      <td>baja california norte</td>\n",
       "      <td>2152</td>\n",
       "      <td>cruce de anden noroeste</td>\n",
       "    </tr>\n",
       "    <tr>\n",
       "      <th>371</th>\n",
       "      <td>2022</td>\n",
       "      <td>2152 altamirano_bm</td>\n",
       "      <td>guerrero</td>\n",
       "      <td>2152</td>\n",
       "      <td>altamirano_bm</td>\n",
       "    </tr>\n",
       "    <tr>\n",
       "      <th>583</th>\n",
       "      <td>21529</td>\n",
       "      <td>2152 altamirano_bm</td>\n",
       "      <td>guerrero</td>\n",
       "      <td>2152</td>\n",
       "      <td>altamirano_bm</td>\n",
       "    </tr>\n",
       "  </tbody>\n",
       "</table>\n",
       "</div>"
      ],
      "text/plain": [
       "     Agencia_ID                          Town                  State   zip  \\\n",
       "199        1524  2152 cruce de anden noroeste  baja california norte  2152   \n",
       "371        2022            2152 altamirano_bm               guerrero  2152   \n",
       "583       21529            2152 altamirano_bm               guerrero  2152   \n",
       "\n",
       "                   town_name  \n",
       "199  cruce de anden noroeste  \n",
       "371            altamirano_bm  \n",
       "583            altamirano_bm  "
      ]
     },
     "execution_count": 14,
     "metadata": {},
     "output_type": "execute_result"
    }
   ],
   "source": [
    "town_state[town_state['zip'] == double_town_names[0]]"
   ]
  },
  {
   "cell_type": "code",
   "execution_count": 15,
   "metadata": {
    "collapsed": false
   },
   "outputs": [
    {
     "data": {
      "text/html": [
       "<div>\n",
       "<table border=\"1\" class=\"dataframe\">\n",
       "  <thead>\n",
       "    <tr style=\"text-align: right;\">\n",
       "      <th></th>\n",
       "      <th>Agencia_ID</th>\n",
       "      <th>Town</th>\n",
       "      <th>State</th>\n",
       "      <th>zip</th>\n",
       "      <th>town_name</th>\n",
       "    </tr>\n",
       "  </thead>\n",
       "  <tbody>\n",
       "    <tr>\n",
       "      <th>199</th>\n",
       "      <td>1524</td>\n",
       "      <td>9999 cruce de anden noroeste</td>\n",
       "      <td>baja california norte</td>\n",
       "      <td>9999</td>\n",
       "      <td>cruce de anden noroeste</td>\n",
       "    </tr>\n",
       "  </tbody>\n",
       "</table>\n",
       "</div>"
      ],
      "text/plain": [
       "     Agencia_ID                          Town                  State   zip  \\\n",
       "199        1524  9999 cruce de anden noroeste  baja california norte  9999   \n",
       "\n",
       "                   town_name  \n",
       "199  cruce de anden noroeste  "
      ]
     },
     "execution_count": 15,
     "metadata": {},
     "output_type": "execute_result"
    }
   ],
   "source": [
    "town_state.loc[199,'zip']=9999\n",
    "town_state.loc[199,'Town']=\"9999 cruce de anden noroeste\"\n",
    "town_state[town_state['zip'] == 9999]"
   ]
  },
  {
   "cell_type": "code",
   "execution_count": 16,
   "metadata": {
    "collapsed": false
   },
   "outputs": [
    {
     "data": {
      "text/html": [
       "<div>\n",
       "<table border=\"1\" class=\"dataframe\">\n",
       "  <thead>\n",
       "    <tr style=\"text-align: right;\">\n",
       "      <th></th>\n",
       "      <th>Agencia_ID</th>\n",
       "      <th>Town</th>\n",
       "      <th>State</th>\n",
       "      <th>zip</th>\n",
       "      <th>town_name</th>\n",
       "    </tr>\n",
       "  </thead>\n",
       "  <tbody>\n",
       "    <tr>\n",
       "      <th>311</th>\n",
       "      <td>1694</td>\n",
       "      <td>2169 cruce de andén sureste</td>\n",
       "      <td>puebla</td>\n",
       "      <td>2169</td>\n",
       "      <td>cruce de andén sureste</td>\n",
       "    </tr>\n",
       "    <tr>\n",
       "      <th>372</th>\n",
       "      <td>2023</td>\n",
       "      <td>2169 pinotepa</td>\n",
       "      <td>oaxaca</td>\n",
       "      <td>2169</td>\n",
       "      <td>pinotepa</td>\n",
       "    </tr>\n",
       "    <tr>\n",
       "      <th>599</th>\n",
       "      <td>21699</td>\n",
       "      <td>2169 pinotepa</td>\n",
       "      <td>oaxaca</td>\n",
       "      <td>2169</td>\n",
       "      <td>pinotepa</td>\n",
       "    </tr>\n",
       "  </tbody>\n",
       "</table>\n",
       "</div>"
      ],
      "text/plain": [
       "     Agencia_ID                         Town   State   zip  \\\n",
       "311        1694  2169 cruce de andén sureste  puebla  2169   \n",
       "372        2023                2169 pinotepa  oaxaca  2169   \n",
       "599       21699                2169 pinotepa  oaxaca  2169   \n",
       "\n",
       "                  town_name  \n",
       "311  cruce de andén sureste  \n",
       "372                pinotepa  \n",
       "599                pinotepa  "
      ]
     },
     "execution_count": 16,
     "metadata": {},
     "output_type": "execute_result"
    }
   ],
   "source": [
    "town_state[town_state['zip'] == double_town_names[1]]"
   ]
  },
  {
   "cell_type": "code",
   "execution_count": 17,
   "metadata": {
    "collapsed": false
   },
   "outputs": [
    {
     "data": {
      "text/html": [
       "<div>\n",
       "<table border=\"1\" class=\"dataframe\">\n",
       "  <thead>\n",
       "    <tr style=\"text-align: right;\">\n",
       "      <th></th>\n",
       "      <th>Agencia_ID</th>\n",
       "      <th>Town</th>\n",
       "      <th>State</th>\n",
       "      <th>zip</th>\n",
       "      <th>town_name</th>\n",
       "    </tr>\n",
       "  </thead>\n",
       "  <tbody>\n",
       "    <tr>\n",
       "      <th>311</th>\n",
       "      <td>1694</td>\n",
       "      <td>9998 cruce de andén sureste</td>\n",
       "      <td>puebla</td>\n",
       "      <td>9998</td>\n",
       "      <td>cruce de andén sureste</td>\n",
       "    </tr>\n",
       "  </tbody>\n",
       "</table>\n",
       "</div>"
      ],
      "text/plain": [
       "     Agencia_ID                         Town   State   zip  \\\n",
       "311        1694  9998 cruce de andén sureste  puebla  9998   \n",
       "\n",
       "                  town_name  \n",
       "311  cruce de andén sureste  "
      ]
     },
     "execution_count": 17,
     "metadata": {},
     "output_type": "execute_result"
    }
   ],
   "source": [
    "town_state.loc[311,'zip']=9998\n",
    "town_state.loc[311,'Town']=\"9998 cruce de andén sureste\"\n",
    "town_state[town_state['zip'] == 9998]"
   ]
  },
  {
   "cell_type": "code",
   "execution_count": 18,
   "metadata": {
    "collapsed": false
   },
   "outputs": [],
   "source": [
    "# town_state.head()"
   ]
  },
  {
   "cell_type": "code",
   "execution_count": 19,
   "metadata": {
    "collapsed": false
   },
   "outputs": [],
   "source": [
    "# len(town_state['Town'].unique()), len(town_state['zip'].unique()), len(town_state['town_name'].unique())"
   ]
  },
  {
   "cell_type": "code",
   "execution_count": 20,
   "metadata": {
    "collapsed": true
   },
   "outputs": [],
   "source": [
    "df1 = town_state.groupby('town_name').zip.nunique()"
   ]
  },
  {
   "cell_type": "code",
   "execution_count": 21,
   "metadata": {
    "collapsed": false
   },
   "outputs": [
    {
     "data": {
      "text/plain": [
       "town_name\n",
       "los mochis    2\n",
       "pinotepa      2\n",
       "Name: zip, dtype: int64"
      ]
     },
     "execution_count": 21,
     "metadata": {},
     "output_type": "execute_result"
    }
   ],
   "source": [
    "df1[df1==2]"
   ]
  },
  {
   "cell_type": "code",
   "execution_count": 22,
   "metadata": {
    "collapsed": false
   },
   "outputs": [
    {
     "data": {
      "text/plain": [
       "array(['los mochis', 'pinotepa'], dtype=object)"
      ]
     },
     "execution_count": 22,
     "metadata": {},
     "output_type": "execute_result"
    }
   ],
   "source": [
    "df1[df1==2] #3 entries with different town names\n",
    "double_zip_names = np.array(df1[df1==2].index)\n",
    "double_zip_names # zips"
   ]
  },
  {
   "cell_type": "code",
   "execution_count": 23,
   "metadata": {
    "collapsed": false
   },
   "outputs": [
    {
     "data": {
      "text/html": [
       "<div>\n",
       "<table border=\"1\" class=\"dataframe\">\n",
       "  <thead>\n",
       "    <tr style=\"text-align: right;\">\n",
       "      <th></th>\n",
       "      <th>Agencia_ID</th>\n",
       "      <th>Town</th>\n",
       "      <th>State</th>\n",
       "      <th>zip</th>\n",
       "      <th>town_name</th>\n",
       "    </tr>\n",
       "  </thead>\n",
       "  <tbody>\n",
       "    <tr>\n",
       "      <th>211</th>\n",
       "      <td>1544</td>\n",
       "      <td>2561 los mochis</td>\n",
       "      <td>sinaloa</td>\n",
       "      <td>2561</td>\n",
       "      <td>los mochis</td>\n",
       "    </tr>\n",
       "    <tr>\n",
       "      <th>227</th>\n",
       "      <td>1564</td>\n",
       "      <td>2561 los mochis</td>\n",
       "      <td>sinaloa</td>\n",
       "      <td>2561</td>\n",
       "      <td>los mochis</td>\n",
       "    </tr>\n",
       "    <tr>\n",
       "      <th>248</th>\n",
       "      <td>1598</td>\n",
       "      <td>2561 los mochis</td>\n",
       "      <td>sinaloa</td>\n",
       "      <td>2561</td>\n",
       "      <td>los mochis</td>\n",
       "    </tr>\n",
       "    <tr>\n",
       "      <th>498</th>\n",
       "      <td>2655</td>\n",
       "      <td>2655 los mochis</td>\n",
       "      <td>sinaloa</td>\n",
       "      <td>2655</td>\n",
       "      <td>los mochis</td>\n",
       "    </tr>\n",
       "    <tr>\n",
       "      <th>774</th>\n",
       "      <td>25619</td>\n",
       "      <td>2561 los mochis</td>\n",
       "      <td>sinaloa</td>\n",
       "      <td>2561</td>\n",
       "      <td>los mochis</td>\n",
       "    </tr>\n",
       "  </tbody>\n",
       "</table>\n",
       "</div>"
      ],
      "text/plain": [
       "     Agencia_ID             Town    State   zip   town_name\n",
       "211        1544  2561 los mochis  sinaloa  2561  los mochis\n",
       "227        1564  2561 los mochis  sinaloa  2561  los mochis\n",
       "248        1598  2561 los mochis  sinaloa  2561  los mochis\n",
       "498        2655  2655 los mochis  sinaloa  2655  los mochis\n",
       "774       25619  2561 los mochis  sinaloa  2561  los mochis"
      ]
     },
     "execution_count": 23,
     "metadata": {},
     "output_type": "execute_result"
    }
   ],
   "source": [
    "town_state[town_state['town_name'] == double_zip_names[0]] #towns can have multiple zip codes!!! :)"
   ]
  },
  {
   "cell_type": "code",
   "execution_count": 24,
   "metadata": {
    "collapsed": false
   },
   "outputs": [
    {
     "data": {
      "text/html": [
       "<div>\n",
       "<table border=\"1\" class=\"dataframe\">\n",
       "  <thead>\n",
       "    <tr style=\"text-align: right;\">\n",
       "      <th></th>\n",
       "      <th>Agencia_ID</th>\n",
       "      <th>Town</th>\n",
       "      <th>State</th>\n",
       "      <th>zip</th>\n",
       "      <th>town_name</th>\n",
       "    </tr>\n",
       "  </thead>\n",
       "  <tbody>\n",
       "    <tr>\n",
       "      <th>372</th>\n",
       "      <td>2023</td>\n",
       "      <td>2169 pinotepa</td>\n",
       "      <td>oaxaca</td>\n",
       "      <td>2169</td>\n",
       "      <td>pinotepa</td>\n",
       "    </tr>\n",
       "    <tr>\n",
       "      <th>387</th>\n",
       "      <td>2055</td>\n",
       "      <td>2055 pinotepa</td>\n",
       "      <td>puebla</td>\n",
       "      <td>2055</td>\n",
       "      <td>pinotepa</td>\n",
       "    </tr>\n",
       "    <tr>\n",
       "      <th>599</th>\n",
       "      <td>21699</td>\n",
       "      <td>2169 pinotepa</td>\n",
       "      <td>oaxaca</td>\n",
       "      <td>2169</td>\n",
       "      <td>pinotepa</td>\n",
       "    </tr>\n",
       "  </tbody>\n",
       "</table>\n",
       "</div>"
      ],
      "text/plain": [
       "     Agencia_ID           Town   State   zip town_name\n",
       "372        2023  2169 pinotepa  oaxaca  2169  pinotepa\n",
       "387        2055  2055 pinotepa  puebla  2055  pinotepa\n",
       "599       21699  2169 pinotepa  oaxaca  2169  pinotepa"
      ]
     },
     "execution_count": 24,
     "metadata": {},
     "output_type": "execute_result"
    }
   ],
   "source": [
    "town_state[town_state['town_name'] == double_zip_names[1]] #ID 387 interferes with town_name. If town_name big effect, look here. Test here for improvement."
   ]
  },
  {
   "cell_type": "code",
   "execution_count": 25,
   "metadata": {
    "collapsed": false
   },
   "outputs": [],
   "source": [
    "# town_state.head()"
   ]
  },
  {
   "cell_type": "code",
   "execution_count": 26,
   "metadata": {
    "collapsed": true
   },
   "outputs": [],
   "source": [
    "# Create new category city type:\n",
    "town_state['town_name_corpus'] = town_state['town_name']\n",
    "town_state['town_name_type'] = \"\""
   ]
  },
  {
   "cell_type": "code",
   "execution_count": 27,
   "metadata": {
    "collapsed": false
   },
   "outputs": [],
   "source": [
    "# add town_name_type and add \"ag\"\n",
    "town_state.loc[town_state['town_name_corpus'].str[:4] == \"ag. \", 'town_name_type'] = \"ag\"\n",
    "# remove ag from town_name_corpus\n",
    "town_state.loc[town_state['town_name_corpus'].str[:4] == \"ag. \", 'town_name_corpus'] = town_state.loc[town_state['town_name_corpus'].str[:4] == \"ag. \", 'town_name_corpus'].str[4:]\n",
    "\n",
    "town_state.loc[town_state['town_name_corpus'].str[:3] == \"ag.\", 'town_name_type'] = \"ag\"\n",
    "town_state.loc[town_state['town_name_corpus'].str[:3] == \"ag.\", 'town_name_corpus'] = town_state.loc[town_state['town_name_corpus'].str[:3] == \"ag.\", 'town_name_corpus'].str[3:]\n",
    "\n",
    "town_state.loc[town_state['town_name_corpus'].str[:4] == \"cd. \", 'town_name_type'] = \"cd\"\n",
    "town_state.loc[town_state['town_name_corpus'].str[:4] == \"cd. \", 'town_name_corpus'] = town_state.loc[town_state['town_name_corpus'].str[:4] == \"cd. \", 'town_name_corpus'].str[4:]"
   ]
  },
  {
   "cell_type": "code",
   "execution_count": 28,
   "metadata": {
    "collapsed": false
   },
   "outputs": [],
   "source": [
    "#town_state.head()\n",
    "#sorted(town_state['town_name'].str[:30].unique())"
   ]
  },
  {
   "cell_type": "markdown",
   "metadata": {},
   "source": [
    "#### Client"
   ]
  },
  {
   "cell_type": "code",
   "execution_count": 29,
   "metadata": {
    "collapsed": false
   },
   "outputs": [
    {
     "data": {
      "text/html": [
       "<div>\n",
       "<table border=\"1\" class=\"dataframe\">\n",
       "  <thead>\n",
       "    <tr style=\"text-align: right;\">\n",
       "      <th></th>\n",
       "      <th>Cliente_ID</th>\n",
       "      <th>NombreCliente</th>\n",
       "    </tr>\n",
       "  </thead>\n",
       "  <tbody>\n",
       "    <tr>\n",
       "      <th>935357</th>\n",
       "      <td>11011586</td>\n",
       "      <td>OXXO PETEN</td>\n",
       "    </tr>\n",
       "    <tr>\n",
       "      <th>935358</th>\n",
       "      <td>11693264</td>\n",
       "      <td>SUPER ABARROTES MARY</td>\n",
       "    </tr>\n",
       "    <tr>\n",
       "      <th>935359</th>\n",
       "      <td>19988629</td>\n",
       "      <td>NO IDENTIFICADO</td>\n",
       "    </tr>\n",
       "    <tr>\n",
       "      <th>935360</th>\n",
       "      <td>99999999</td>\n",
       "      <td>NO IDENTIFICADO</td>\n",
       "    </tr>\n",
       "    <tr>\n",
       "      <th>935361</th>\n",
       "      <td>2015152015</td>\n",
       "      <td>NO IDENTIFICADO</td>\n",
       "    </tr>\n",
       "  </tbody>\n",
       "</table>\n",
       "</div>"
      ],
      "text/plain": [
       "        Cliente_ID         NombreCliente\n",
       "935357    11011586            OXXO PETEN\n",
       "935358    11693264  SUPER ABARROTES MARY\n",
       "935359    19988629       NO IDENTIFICADO\n",
       "935360    99999999       NO IDENTIFICADO\n",
       "935361  2015152015       NO IDENTIFICADO"
      ]
     },
     "execution_count": 29,
     "metadata": {},
     "output_type": "execute_result"
    }
   ],
   "source": [
    "#client = pd.read_csv(os.path.join(dir_raw,\"cliente_tabla.csv\"))\n",
    "client.tail()\n",
    "#len(client)"
   ]
  },
  {
   "cell_type": "code",
   "execution_count": 30,
   "metadata": {
    "collapsed": false
   },
   "outputs": [
    {
     "data": {
      "text/plain": [
       "'client[\\'NombreCliente\\'] = client[\\'NombreCliente\\'].str.lower()\\nclient = pd.read_csv(os.path.join(dir_raw,\"cliente_tabla.csv\"))\\nclient = client.groupby([\\'Cliente_ID\\', \\'NombreCliente\\'])\\n#client = client.drop_duplicates(subset=[\\'Cliente_ID\\', \\'NombreCliente\\'], keep=False)\\nclient.tail()\\nlen(client)\\n\\ndf1 = client.groupby(\\'Cliente_ID\\').NombreCliente.nunique()\\ndf1[df1!=1]\\n\\ntestclient = client[client[\\'Cliente_ID\\'] == 4]\\ntestclient\\n\\ntestclient.loc[4][\\'NombreCliente\\'] == testclient.loc[5][\\'NombreCliente\\']\\n'"
      ]
     },
     "execution_count": 30,
     "metadata": {},
     "output_type": "execute_result"
    }
   ],
   "source": [
    "\"\"\"client['NombreCliente'] = client['NombreCliente'].str.lower()\n",
    "client = pd.read_csv(os.path.join(dir_raw,\"cliente_tabla.csv\"))\n",
    "client = client.groupby(['Cliente_ID', 'NombreCliente'])\n",
    "#client = client.drop_duplicates(subset=['Cliente_ID', 'NombreCliente'], keep=False)\n",
    "client.tail()\n",
    "len(client)\n",
    "\n",
    "df1 = client.groupby('Cliente_ID').NombreCliente.nunique()\n",
    "df1[df1!=1]\n",
    "\n",
    "testclient = client[client['Cliente_ID'] == 4]\n",
    "testclient\n",
    "\n",
    "testclient.loc[4]['NombreCliente'] == testclient.loc[5]['NombreCliente']\n",
    "\"\"\""
   ]
  },
  {
   "cell_type": "code",
   "execution_count": 31,
   "metadata": {
    "collapsed": false
   },
   "outputs": [
    {
     "data": {
      "text/html": [
       "<div>\n",
       "<table border=\"1\" class=\"dataframe\">\n",
       "  <thead>\n",
       "    <tr style=\"text-align: right;\">\n",
       "      <th></th>\n",
       "      <th>id</th>\n",
       "      <th>Semana</th>\n",
       "      <th>Agencia_ID</th>\n",
       "      <th>Canal_ID</th>\n",
       "      <th>Ruta_SAK</th>\n",
       "      <th>Cliente_ID</th>\n",
       "      <th>Producto_ID</th>\n",
       "    </tr>\n",
       "  </thead>\n",
       "  <tbody>\n",
       "    <tr>\n",
       "      <th>0</th>\n",
       "      <td>0</td>\n",
       "      <td>11</td>\n",
       "      <td>4037</td>\n",
       "      <td>1</td>\n",
       "      <td>2209</td>\n",
       "      <td>4639078</td>\n",
       "      <td>35305</td>\n",
       "    </tr>\n",
       "    <tr>\n",
       "      <th>1</th>\n",
       "      <td>1</td>\n",
       "      <td>11</td>\n",
       "      <td>2237</td>\n",
       "      <td>1</td>\n",
       "      <td>1226</td>\n",
       "      <td>4705135</td>\n",
       "      <td>1238</td>\n",
       "    </tr>\n",
       "    <tr>\n",
       "      <th>2</th>\n",
       "      <td>2</td>\n",
       "      <td>10</td>\n",
       "      <td>2045</td>\n",
       "      <td>1</td>\n",
       "      <td>2831</td>\n",
       "      <td>4549769</td>\n",
       "      <td>32940</td>\n",
       "    </tr>\n",
       "    <tr>\n",
       "      <th>3</th>\n",
       "      <td>3</td>\n",
       "      <td>11</td>\n",
       "      <td>1227</td>\n",
       "      <td>1</td>\n",
       "      <td>4448</td>\n",
       "      <td>4717855</td>\n",
       "      <td>43066</td>\n",
       "    </tr>\n",
       "    <tr>\n",
       "      <th>4</th>\n",
       "      <td>4</td>\n",
       "      <td>11</td>\n",
       "      <td>1219</td>\n",
       "      <td>1</td>\n",
       "      <td>1130</td>\n",
       "      <td>966351</td>\n",
       "      <td>1277</td>\n",
       "    </tr>\n",
       "  </tbody>\n",
       "</table>\n",
       "</div>"
      ],
      "text/plain": [
       "   id  Semana  Agencia_ID  Canal_ID  Ruta_SAK  Cliente_ID  Producto_ID\n",
       "0   0      11        4037         1      2209     4639078        35305\n",
       "1   1      11        2237         1      1226     4705135         1238\n",
       "2   2      10        2045         1      2831     4549769        32940\n",
       "3   3      11        1227         1      4448     4717855        43066\n",
       "4   4      11        1219         1      1130      966351         1277"
      ]
     },
     "execution_count": 31,
     "metadata": {},
     "output_type": "execute_result"
    }
   ],
   "source": [
    "test.head()"
   ]
  },
  {
   "cell_type": "code",
   "execution_count": 32,
   "metadata": {
    "collapsed": false
   },
   "outputs": [
    {
     "data": {
      "text/html": [
       "<div>\n",
       "<table border=\"1\" class=\"dataframe\">\n",
       "  <thead>\n",
       "    <tr style=\"text-align: right;\">\n",
       "      <th></th>\n",
       "      <th>Semana</th>\n",
       "      <th>Agencia_ID</th>\n",
       "      <th>Canal_ID</th>\n",
       "      <th>Ruta_SAK</th>\n",
       "      <th>Cliente_ID</th>\n",
       "      <th>Producto_ID</th>\n",
       "      <th>Venta_uni_hoy</th>\n",
       "      <th>Venta_hoy</th>\n",
       "      <th>Dev_uni_proxima</th>\n",
       "      <th>Dev_proxima</th>\n",
       "      <th>Demanda_uni_equil</th>\n",
       "    </tr>\n",
       "  </thead>\n",
       "  <tbody>\n",
       "    <tr>\n",
       "      <th>0</th>\n",
       "      <td>3</td>\n",
       "      <td>1110</td>\n",
       "      <td>7</td>\n",
       "      <td>3301</td>\n",
       "      <td>15766</td>\n",
       "      <td>1212</td>\n",
       "      <td>3</td>\n",
       "      <td>25.14</td>\n",
       "      <td>0</td>\n",
       "      <td>0.0</td>\n",
       "      <td>3</td>\n",
       "    </tr>\n",
       "    <tr>\n",
       "      <th>1</th>\n",
       "      <td>3</td>\n",
       "      <td>1110</td>\n",
       "      <td>7</td>\n",
       "      <td>3301</td>\n",
       "      <td>15766</td>\n",
       "      <td>1216</td>\n",
       "      <td>4</td>\n",
       "      <td>33.52</td>\n",
       "      <td>0</td>\n",
       "      <td>0.0</td>\n",
       "      <td>4</td>\n",
       "    </tr>\n",
       "    <tr>\n",
       "      <th>2</th>\n",
       "      <td>3</td>\n",
       "      <td>1110</td>\n",
       "      <td>7</td>\n",
       "      <td>3301</td>\n",
       "      <td>15766</td>\n",
       "      <td>1238</td>\n",
       "      <td>4</td>\n",
       "      <td>39.32</td>\n",
       "      <td>0</td>\n",
       "      <td>0.0</td>\n",
       "      <td>4</td>\n",
       "    </tr>\n",
       "    <tr>\n",
       "      <th>3</th>\n",
       "      <td>3</td>\n",
       "      <td>1110</td>\n",
       "      <td>7</td>\n",
       "      <td>3301</td>\n",
       "      <td>15766</td>\n",
       "      <td>1240</td>\n",
       "      <td>4</td>\n",
       "      <td>33.52</td>\n",
       "      <td>0</td>\n",
       "      <td>0.0</td>\n",
       "      <td>4</td>\n",
       "    </tr>\n",
       "    <tr>\n",
       "      <th>4</th>\n",
       "      <td>3</td>\n",
       "      <td>1110</td>\n",
       "      <td>7</td>\n",
       "      <td>3301</td>\n",
       "      <td>15766</td>\n",
       "      <td>1242</td>\n",
       "      <td>3</td>\n",
       "      <td>22.92</td>\n",
       "      <td>0</td>\n",
       "      <td>0.0</td>\n",
       "      <td>3</td>\n",
       "    </tr>\n",
       "  </tbody>\n",
       "</table>\n",
       "</div>"
      ],
      "text/plain": [
       "   Semana  Agencia_ID  Canal_ID  Ruta_SAK  Cliente_ID  Producto_ID  \\\n",
       "0       3        1110         7      3301       15766         1212   \n",
       "1       3        1110         7      3301       15766         1216   \n",
       "2       3        1110         7      3301       15766         1238   \n",
       "3       3        1110         7      3301       15766         1240   \n",
       "4       3        1110         7      3301       15766         1242   \n",
       "\n",
       "   Venta_uni_hoy  Venta_hoy  Dev_uni_proxima  Dev_proxima  Demanda_uni_equil  \n",
       "0              3      25.14                0          0.0                  3  \n",
       "1              4      33.52                0          0.0                  4  \n",
       "2              4      39.32                0          0.0                  4  \n",
       "3              4      33.52                0          0.0                  4  \n",
       "4              3      22.92                0          0.0                  3  "
      ]
     },
     "execution_count": 32,
     "metadata": {},
     "output_type": "execute_result"
    }
   ],
   "source": [
    "train.head()"
   ]
  },
  {
   "cell_type": "markdown",
   "metadata": {},
   "source": [
    "## Merge product ID, train"
   ]
  },
  {
   "cell_type": "code",
   "execution_count": 33,
   "metadata": {
    "collapsed": false
   },
   "outputs": [
    {
     "data": {
      "text/html": [
       "<div>\n",
       "<table border=\"1\" class=\"dataframe\">\n",
       "  <thead>\n",
       "    <tr style=\"text-align: right;\">\n",
       "      <th></th>\n",
       "      <th>Semana</th>\n",
       "      <th>Agencia_ID</th>\n",
       "      <th>Canal_ID</th>\n",
       "      <th>Ruta_SAK</th>\n",
       "      <th>Cliente_ID</th>\n",
       "      <th>Producto_ID</th>\n",
       "      <th>Venta_uni_hoy</th>\n",
       "      <th>Venta_hoy</th>\n",
       "      <th>Dev_uni_proxima</th>\n",
       "      <th>Dev_proxima</th>\n",
       "      <th>Demanda_uni_equil</th>\n",
       "    </tr>\n",
       "  </thead>\n",
       "  <tbody>\n",
       "    <tr>\n",
       "      <th>499995</th>\n",
       "      <td>3</td>\n",
       "      <td>1120</td>\n",
       "      <td>1</td>\n",
       "      <td>2116</td>\n",
       "      <td>1182439</td>\n",
       "      <td>31588</td>\n",
       "      <td>1</td>\n",
       "      <td>11.53</td>\n",
       "      <td>0</td>\n",
       "      <td>0.0</td>\n",
       "      <td>1</td>\n",
       "    </tr>\n",
       "    <tr>\n",
       "      <th>499996</th>\n",
       "      <td>3</td>\n",
       "      <td>1120</td>\n",
       "      <td>1</td>\n",
       "      <td>2116</td>\n",
       "      <td>1182439</td>\n",
       "      <td>35841</td>\n",
       "      <td>4</td>\n",
       "      <td>27.68</td>\n",
       "      <td>0</td>\n",
       "      <td>0.0</td>\n",
       "      <td>4</td>\n",
       "    </tr>\n",
       "    <tr>\n",
       "      <th>499997</th>\n",
       "      <td>3</td>\n",
       "      <td>1120</td>\n",
       "      <td>1</td>\n",
       "      <td>2116</td>\n",
       "      <td>1182439</td>\n",
       "      <td>36746</td>\n",
       "      <td>2</td>\n",
       "      <td>23.06</td>\n",
       "      <td>0</td>\n",
       "      <td>0.0</td>\n",
       "      <td>2</td>\n",
       "    </tr>\n",
       "    <tr>\n",
       "      <th>499998</th>\n",
       "      <td>3</td>\n",
       "      <td>1120</td>\n",
       "      <td>1</td>\n",
       "      <td>2116</td>\n",
       "      <td>1182439</td>\n",
       "      <td>36747</td>\n",
       "      <td>1</td>\n",
       "      <td>11.53</td>\n",
       "      <td>0</td>\n",
       "      <td>0.0</td>\n",
       "      <td>1</td>\n",
       "    </tr>\n",
       "    <tr>\n",
       "      <th>499999</th>\n",
       "      <td>3</td>\n",
       "      <td>1120</td>\n",
       "      <td>1</td>\n",
       "      <td>2116</td>\n",
       "      <td>1243274</td>\n",
       "      <td>30532</td>\n",
       "      <td>3</td>\n",
       "      <td>23.34</td>\n",
       "      <td>0</td>\n",
       "      <td>0.0</td>\n",
       "      <td>3</td>\n",
       "    </tr>\n",
       "  </tbody>\n",
       "</table>\n",
       "</div>"
      ],
      "text/plain": [
       "        Semana  Agencia_ID  Canal_ID  Ruta_SAK  Cliente_ID  Producto_ID  \\\n",
       "499995       3        1120         1      2116     1182439        31588   \n",
       "499996       3        1120         1      2116     1182439        35841   \n",
       "499997       3        1120         1      2116     1182439        36746   \n",
       "499998       3        1120         1      2116     1182439        36747   \n",
       "499999       3        1120         1      2116     1243274        30532   \n",
       "\n",
       "        Venta_uni_hoy  Venta_hoy  Dev_uni_proxima  Dev_proxima  \\\n",
       "499995              1      11.53                0          0.0   \n",
       "499996              4      27.68                0          0.0   \n",
       "499997              2      23.06                0          0.0   \n",
       "499998              1      11.53                0          0.0   \n",
       "499999              3      23.34                0          0.0   \n",
       "\n",
       "        Demanda_uni_equil  \n",
       "499995                  1  \n",
       "499996                  4  \n",
       "499997                  2  \n",
       "499998                  1  \n",
       "499999                  3  "
      ]
     },
     "execution_count": 33,
     "metadata": {},
     "output_type": "execute_result"
    }
   ],
   "source": [
    "train.tail()"
   ]
  },
  {
   "cell_type": "code",
   "execution_count": 34,
   "metadata": {
    "collapsed": false
   },
   "outputs": [],
   "source": [
    "train = pd.read_csv(os.path.join(dir_raw,\"train.csv\"), nrows=500000)\n",
    "test = pd.read_csv(os.path.join(dir_raw,\"test.csv\"), nrows=500000)"
   ]
  },
  {
   "cell_type": "code",
   "execution_count": 35,
   "metadata": {
    "collapsed": false
   },
   "outputs": [],
   "source": [
    "train = pd.merge(train, prod, on='Producto_ID', how='left')\n",
    "train = pd.merge(train, town_state, on='Agencia_ID', how='left')\n",
    "#train = pd.merge(train, client, on='Cliente_ID', how='left') # no \n",
    "\n",
    "test = pd.merge(test, prod, on='Producto_ID', how='left')\n",
    "test = pd.merge(test, town_state, on='Agencia_ID', how='left')\n",
    "#test = pd.merge(test, client, on='Cliente_ID', how='left') # no "
   ]
  },
  {
   "cell_type": "code",
   "execution_count": null,
   "metadata": {
    "collapsed": true
   },
   "outputs": [],
   "source": []
  },
  {
   "cell_type": "code",
   "execution_count": null,
   "metadata": {
    "collapsed": true
   },
   "outputs": [],
   "source": []
  },
  {
   "cell_type": "markdown",
   "metadata": {},
   "source": [
    "# XGBOOST"
   ]
  },
  {
   "cell_type": "markdown",
   "metadata": {},
   "source": [
    "https://www.kaggle.com/cast42/rossmann-store-sales/xgboost-in-python-with-rmspe-v2/code"
   ]
  },
  {
   "cell_type": "code",
   "execution_count": 36,
   "metadata": {
    "collapsed": true
   },
   "outputs": [],
   "source": [
    "features = ['Semana',\n",
    " 'Agencia_ID',\n",
    " 'Canal_ID',\n",
    " 'Ruta_SAK',\n",
    " 'Cliente_ID',\n",
    " 'Producto_ID',\n",
    " #'Venta_uni_hoy',\n",
    " #'Venta_hoy',\n",
    " #'Dev_uni_proxima',\n",
    " #'Dev_proxima',\n",
    " #'Demanda_uni_equil',\n",
    " 'amount_g',\n",
    " 'amount_ml']"
   ]
  },
  {
   "cell_type": "code",
   "execution_count": 37,
   "metadata": {
    "collapsed": false
   },
   "outputs": [],
   "source": [
    "#replace nan\n",
    "train=train.fillna(-999)\n",
    "test=test.fillna(-999)"
   ]
  },
  {
   "cell_type": "code",
   "execution_count": 38,
   "metadata": {
    "collapsed": false
   },
   "outputs": [],
   "source": [
    "params = {\"objective\": \"reg:linear\",\n",
    "          \"booster\" : \"gbtree\",\n",
    "          \"eta\": 0.3,\n",
    "          \"max_depth\": 10,\n",
    "          \"subsample\": 0.9,\n",
    "          \"colsample_bytree\": 0.7,\n",
    "          \"silent\": 1,\n",
    "          \"seed\": 1301\n",
    "          }\n",
    "num_boost_round = 300"
   ]
  },
  {
   "cell_type": "code",
   "execution_count": 39,
   "metadata": {
    "collapsed": false
   },
   "outputs": [
    {
     "name": "stdout",
     "output_type": "stream",
     "text": [
      "Train a XGBoost model\n"
     ]
    }
   ],
   "source": [
    "print(\"Train a XGBoost model\")\n",
    "X_train, X_valid = train_test_split(train, test_size=0.012, random_state=10)\n",
    "y_train = X_train.Demanda_uni_equil\n",
    "y_valid = X_valid.Demanda_uni_equil\n",
    "dtrain = xgb.DMatrix(X_train[features], y_train, missing=-999)\n",
    "dvalid = xgb.DMatrix(X_valid[features], y_valid, missing=-999)\n"
   ]
  },
  {
   "cell_type": "code",
   "execution_count": 42,
   "metadata": {
    "collapsed": false
   },
   "outputs": [
    {
     "name": "stderr",
     "output_type": "stream",
     "text": [
      "Will train until eval error hasn't decreased in 100 rounds.\n",
      "[0]\ttrain-rmse:15.896315\teval-rmse:18.789330\n",
      "[1]\ttrain-rmse:14.089788\teval-rmse:17.607273\n",
      "[2]\ttrain-rmse:12.557151\teval-rmse:16.456392\n",
      "[3]\ttrain-rmse:11.718679\teval-rmse:15.856224\n",
      "[4]\ttrain-rmse:10.773622\teval-rmse:15.425581\n",
      "[5]\ttrain-rmse:10.425425\teval-rmse:15.245467\n",
      "[6]\ttrain-rmse:9.900363\teval-rmse:14.796491\n",
      "[7]\ttrain-rmse:9.766807\teval-rmse:14.702899\n",
      "[8]\ttrain-rmse:9.522253\teval-rmse:14.657779\n",
      "[9]\ttrain-rmse:9.340682\teval-rmse:14.579513\n",
      "[10]\ttrain-rmse:9.026814\teval-rmse:14.413356\n",
      "[11]\ttrain-rmse:8.794036\teval-rmse:14.378044\n",
      "[12]\ttrain-rmse:8.762915\teval-rmse:14.371868\n",
      "[13]\ttrain-rmse:8.594522\teval-rmse:14.411255\n",
      "[14]\ttrain-rmse:8.422456\teval-rmse:14.409367\n",
      "[15]\ttrain-rmse:8.275208\teval-rmse:14.333763\n",
      "[16]\ttrain-rmse:8.188867\teval-rmse:14.333721\n",
      "[17]\ttrain-rmse:8.078202\teval-rmse:14.174934\n",
      "[18]\ttrain-rmse:8.065357\teval-rmse:14.168135\n",
      "[19]\ttrain-rmse:8.022655\teval-rmse:14.164859\n",
      "[20]\ttrain-rmse:7.985723\teval-rmse:14.173925\n",
      "[21]\ttrain-rmse:7.914083\teval-rmse:14.157951\n",
      "[22]\ttrain-rmse:7.761221\teval-rmse:14.025599\n",
      "[23]\ttrain-rmse:7.731087\teval-rmse:14.026072\n",
      "[24]\ttrain-rmse:7.672085\teval-rmse:13.980230\n",
      "[25]\ttrain-rmse:7.663300\teval-rmse:13.959629\n",
      "[26]\ttrain-rmse:7.658206\teval-rmse:13.955866\n",
      "[27]\ttrain-rmse:7.639453\teval-rmse:13.937945\n",
      "[28]\ttrain-rmse:7.619738\teval-rmse:13.964261\n",
      "[29]\ttrain-rmse:7.566501\teval-rmse:13.945243\n",
      "[30]\ttrain-rmse:7.513064\teval-rmse:13.941318\n",
      "[31]\ttrain-rmse:7.474190\teval-rmse:13.956438\n",
      "[32]\ttrain-rmse:7.430857\teval-rmse:13.946596\n",
      "[33]\ttrain-rmse:7.424164\teval-rmse:13.922976\n",
      "[34]\ttrain-rmse:7.369869\teval-rmse:13.971251\n",
      "[35]\ttrain-rmse:7.281352\teval-rmse:13.910019\n",
      "[36]\ttrain-rmse:7.228730\teval-rmse:13.913439\n",
      "[37]\ttrain-rmse:7.186730\teval-rmse:13.909103\n",
      "[38]\ttrain-rmse:7.132756\teval-rmse:13.863068\n",
      "[39]\ttrain-rmse:7.088353\teval-rmse:13.834372\n",
      "[40]\ttrain-rmse:7.058658\teval-rmse:13.812167\n",
      "[41]\ttrain-rmse:7.032812\teval-rmse:13.809772\n",
      "[42]\ttrain-rmse:7.000108\teval-rmse:13.793052\n",
      "[43]\ttrain-rmse:6.973604\teval-rmse:13.791295\n",
      "[44]\ttrain-rmse:6.968608\teval-rmse:13.788767\n",
      "[45]\ttrain-rmse:6.960358\teval-rmse:13.786498\n",
      "[46]\ttrain-rmse:6.922911\teval-rmse:13.784328\n",
      "[47]\ttrain-rmse:6.854948\teval-rmse:13.773706\n",
      "[48]\ttrain-rmse:6.816684\teval-rmse:13.769440\n",
      "[49]\ttrain-rmse:6.804964\teval-rmse:13.782006\n",
      "[50]\ttrain-rmse:6.796777\teval-rmse:13.785547\n",
      "[51]\ttrain-rmse:6.750842\teval-rmse:13.773265\n",
      "[52]\ttrain-rmse:6.736606\teval-rmse:13.786963\n",
      "[53]\ttrain-rmse:6.725296\teval-rmse:13.616812\n",
      "[54]\ttrain-rmse:6.714952\teval-rmse:13.614782\n",
      "[55]\ttrain-rmse:6.656123\teval-rmse:13.632379\n",
      "[56]\ttrain-rmse:6.637444\teval-rmse:13.640656\n",
      "[57]\ttrain-rmse:6.607826\teval-rmse:13.640078\n",
      "[58]\ttrain-rmse:6.599268\teval-rmse:13.641877\n",
      "[59]\ttrain-rmse:6.586845\teval-rmse:13.498275\n",
      "[60]\ttrain-rmse:6.558200\teval-rmse:13.492683\n",
      "[61]\ttrain-rmse:6.543807\teval-rmse:13.415998\n",
      "[62]\ttrain-rmse:6.521356\teval-rmse:13.430046\n",
      "[63]\ttrain-rmse:6.507451\teval-rmse:13.413594\n",
      "[64]\ttrain-rmse:6.487392\teval-rmse:13.419117\n",
      "[65]\ttrain-rmse:6.483619\teval-rmse:13.417415\n",
      "[66]\ttrain-rmse:6.476695\teval-rmse:13.410303\n",
      "[67]\ttrain-rmse:6.420107\teval-rmse:13.415451\n",
      "[68]\ttrain-rmse:6.392137\teval-rmse:13.407845\n",
      "[69]\ttrain-rmse:6.373219\teval-rmse:13.410134\n",
      "[70]\ttrain-rmse:6.353477\teval-rmse:13.409591\n",
      "[71]\ttrain-rmse:6.331234\teval-rmse:13.407882\n",
      "[72]\ttrain-rmse:6.317186\teval-rmse:13.408130\n",
      "[73]\ttrain-rmse:6.308537\teval-rmse:13.405349\n",
      "[74]\ttrain-rmse:6.304781\teval-rmse:13.402501\n",
      "[75]\ttrain-rmse:6.303321\teval-rmse:13.402802\n",
      "[76]\ttrain-rmse:6.282230\teval-rmse:13.399938\n",
      "[77]\ttrain-rmse:6.277889\teval-rmse:13.404884\n",
      "[78]\ttrain-rmse:6.275830\teval-rmse:13.406906\n",
      "[79]\ttrain-rmse:6.263855\teval-rmse:13.417319\n",
      "[80]\ttrain-rmse:6.243086\teval-rmse:13.425882\n",
      "[81]\ttrain-rmse:6.230588\teval-rmse:13.423277\n",
      "[82]\ttrain-rmse:6.226148\teval-rmse:13.422075\n",
      "[83]\ttrain-rmse:6.207190\teval-rmse:13.436974\n",
      "[84]\ttrain-rmse:6.205994\teval-rmse:13.433225\n",
      "[85]\ttrain-rmse:6.190967\teval-rmse:13.431429\n",
      "[86]\ttrain-rmse:6.167355\teval-rmse:13.412354\n",
      "[87]\ttrain-rmse:6.160548\teval-rmse:13.428276\n",
      "[88]\ttrain-rmse:6.148619\teval-rmse:13.428270\n",
      "[89]\ttrain-rmse:6.138411\teval-rmse:13.417356\n",
      "[90]\ttrain-rmse:6.123461\teval-rmse:13.419168\n",
      "[91]\ttrain-rmse:6.117465\teval-rmse:13.416869\n",
      "[92]\ttrain-rmse:6.106899\teval-rmse:13.408322\n",
      "[93]\ttrain-rmse:6.092880\teval-rmse:13.398200\n",
      "[94]\ttrain-rmse:6.087471\teval-rmse:13.395282\n",
      "[95]\ttrain-rmse:6.073928\teval-rmse:13.394691\n",
      "[96]\ttrain-rmse:6.073024\teval-rmse:13.391060\n",
      "[97]\ttrain-rmse:6.071563\teval-rmse:13.393306\n",
      "[98]\ttrain-rmse:6.064828\teval-rmse:13.392984\n",
      "[99]\ttrain-rmse:6.063463\teval-rmse:13.392575\n",
      "[100]\ttrain-rmse:6.053110\teval-rmse:13.391449\n",
      "[101]\ttrain-rmse:6.041946\teval-rmse:13.390079\n",
      "[102]\ttrain-rmse:6.028460\teval-rmse:13.389467\n",
      "[103]\ttrain-rmse:6.027476\teval-rmse:13.389048\n",
      "[104]\ttrain-rmse:6.014907\teval-rmse:13.380218\n",
      "[105]\ttrain-rmse:6.014083\teval-rmse:13.380776\n",
      "[106]\ttrain-rmse:5.991988\teval-rmse:13.379180\n",
      "[107]\ttrain-rmse:5.990971\teval-rmse:13.381535\n",
      "[108]\ttrain-rmse:5.974818\teval-rmse:13.376490\n",
      "[109]\ttrain-rmse:5.965075\teval-rmse:13.374366\n",
      "[110]\ttrain-rmse:5.950423\teval-rmse:13.365436\n",
      "[111]\ttrain-rmse:5.940045\teval-rmse:13.414713\n",
      "[112]\ttrain-rmse:5.932907\teval-rmse:13.414419\n",
      "[113]\ttrain-rmse:5.923812\teval-rmse:13.428023\n",
      "[114]\ttrain-rmse:5.921430\teval-rmse:13.422559\n",
      "[115]\ttrain-rmse:5.909412\teval-rmse:13.419540\n",
      "[116]\ttrain-rmse:5.900210\teval-rmse:13.421263\n",
      "[117]\ttrain-rmse:5.897267\teval-rmse:13.419242\n",
      "[118]\ttrain-rmse:5.884397\teval-rmse:13.418297\n",
      "[119]\ttrain-rmse:5.883554\teval-rmse:13.421245\n",
      "[120]\ttrain-rmse:5.882162\teval-rmse:13.416972\n",
      "[121]\ttrain-rmse:5.870575\teval-rmse:13.379348\n",
      "[122]\ttrain-rmse:5.856213\teval-rmse:13.371469\n",
      "[123]\ttrain-rmse:5.855444\teval-rmse:13.374304\n",
      "[124]\ttrain-rmse:5.848226\teval-rmse:13.374603\n",
      "[125]\ttrain-rmse:5.841395\teval-rmse:13.383534\n",
      "[126]\ttrain-rmse:5.828023\teval-rmse:13.381202\n",
      "[127]\ttrain-rmse:5.826297\teval-rmse:13.381885\n",
      "[128]\ttrain-rmse:5.818173\teval-rmse:13.358695\n",
      "[129]\ttrain-rmse:5.807280\teval-rmse:13.235212\n",
      "[130]\ttrain-rmse:5.806660\teval-rmse:13.235789\n",
      "[131]\ttrain-rmse:5.797744\teval-rmse:13.239921\n",
      "[132]\ttrain-rmse:5.797106\teval-rmse:13.240146\n",
      "[133]\ttrain-rmse:5.793132\teval-rmse:13.235977\n",
      "[134]\ttrain-rmse:5.778955\teval-rmse:13.318695\n",
      "[135]\ttrain-rmse:5.778698\teval-rmse:13.312253\n",
      "[136]\ttrain-rmse:5.776874\teval-rmse:13.311126\n",
      "[137]\ttrain-rmse:5.768470\teval-rmse:13.309545\n",
      "[138]\ttrain-rmse:5.758545\teval-rmse:13.330295\n",
      "[139]\ttrain-rmse:5.750136\teval-rmse:13.328855\n",
      "[140]\ttrain-rmse:5.742264\teval-rmse:13.331442\n",
      "[141]\ttrain-rmse:5.733117\teval-rmse:13.328698\n",
      "[142]\ttrain-rmse:5.726758\teval-rmse:13.328408\n",
      "[143]\ttrain-rmse:5.726028\teval-rmse:13.329623\n",
      "[144]\ttrain-rmse:5.713098\teval-rmse:13.335073\n",
      "[145]\ttrain-rmse:5.703248\teval-rmse:13.328916\n",
      "[146]\ttrain-rmse:5.697215\teval-rmse:13.329930\n",
      "[147]\ttrain-rmse:5.694388\teval-rmse:13.329478\n",
      "[148]\ttrain-rmse:5.691061\teval-rmse:13.324750\n",
      "[149]\ttrain-rmse:5.686340\teval-rmse:13.323380\n",
      "[150]\ttrain-rmse:5.677740\teval-rmse:13.322490\n",
      "[151]\ttrain-rmse:5.674132\teval-rmse:13.322503\n",
      "[152]\ttrain-rmse:5.668246\teval-rmse:13.322286\n",
      "[153]\ttrain-rmse:5.658639\teval-rmse:13.322766\n",
      "[154]\ttrain-rmse:5.650933\teval-rmse:13.322361\n",
      "[155]\ttrain-rmse:5.644466\teval-rmse:13.323268\n",
      "[156]\ttrain-rmse:5.641916\teval-rmse:13.317824\n",
      "[157]\ttrain-rmse:5.633286\teval-rmse:13.316641\n",
      "[158]\ttrain-rmse:5.629544\teval-rmse:13.374225\n",
      "[159]\ttrain-rmse:5.624970\teval-rmse:13.342772\n",
      "[160]\ttrain-rmse:5.619783\teval-rmse:13.339779\n",
      "[161]\ttrain-rmse:5.616992\teval-rmse:13.339790\n",
      "[162]\ttrain-rmse:5.610821\teval-rmse:13.305508\n",
      "[163]\ttrain-rmse:5.603110\teval-rmse:13.294516\n",
      "[164]\ttrain-rmse:5.590425\teval-rmse:13.293001\n",
      "[165]\ttrain-rmse:5.589684\teval-rmse:13.296443\n",
      "[166]\ttrain-rmse:5.585074\teval-rmse:13.286711\n",
      "[167]\ttrain-rmse:5.578675\teval-rmse:13.283324\n",
      "[168]\ttrain-rmse:5.574880\teval-rmse:13.287873\n",
      "[169]\ttrain-rmse:5.562993\teval-rmse:13.281158\n",
      "[170]\ttrain-rmse:5.557064\teval-rmse:13.280072\n",
      "[171]\ttrain-rmse:5.547155\teval-rmse:13.283017\n",
      "[172]\ttrain-rmse:5.540463\teval-rmse:13.289983\n",
      "[173]\ttrain-rmse:5.539813\teval-rmse:13.290792\n",
      "[174]\ttrain-rmse:5.531772\teval-rmse:13.290649\n",
      "[175]\ttrain-rmse:5.531539\teval-rmse:13.291063\n",
      "[176]\ttrain-rmse:5.523992\teval-rmse:13.272863\n",
      "[177]\ttrain-rmse:5.523871\teval-rmse:13.271784\n",
      "[178]\ttrain-rmse:5.521478\teval-rmse:13.268089\n",
      "[179]\ttrain-rmse:5.515171\teval-rmse:13.268080\n",
      "[180]\ttrain-rmse:5.504316\teval-rmse:13.264966\n",
      "[181]\ttrain-rmse:5.500544\teval-rmse:13.263666\n",
      "[182]\ttrain-rmse:5.491478\teval-rmse:13.266100\n",
      "[183]\ttrain-rmse:5.489366\teval-rmse:13.262768\n",
      "[184]\ttrain-rmse:5.482862\teval-rmse:13.262050\n",
      "[185]\ttrain-rmse:5.478407\teval-rmse:13.257071\n",
      "[186]\ttrain-rmse:5.475436\teval-rmse:13.256498\n",
      "[187]\ttrain-rmse:5.471765\teval-rmse:13.252815\n",
      "[188]\ttrain-rmse:5.471521\teval-rmse:13.251599\n",
      "[189]\ttrain-rmse:5.458449\teval-rmse:13.244727\n",
      "[190]\ttrain-rmse:5.455981\teval-rmse:13.249318\n",
      "[191]\ttrain-rmse:5.439981\teval-rmse:13.248725\n",
      "[192]\ttrain-rmse:5.434692\teval-rmse:13.247736\n",
      "[193]\ttrain-rmse:5.422804\teval-rmse:13.246812\n",
      "[194]\ttrain-rmse:5.418004\teval-rmse:13.244557\n",
      "[195]\ttrain-rmse:5.411058\teval-rmse:13.242021\n",
      "[196]\ttrain-rmse:5.410879\teval-rmse:13.244534\n",
      "[197]\ttrain-rmse:5.404934\teval-rmse:13.248015\n",
      "[198]\ttrain-rmse:5.401569\teval-rmse:13.248019\n",
      "[199]\ttrain-rmse:5.398058\teval-rmse:13.247748\n",
      "[200]\ttrain-rmse:5.392717\teval-rmse:13.246361\n",
      "[201]\ttrain-rmse:5.379030\teval-rmse:13.241697\n",
      "[202]\ttrain-rmse:5.378667\teval-rmse:13.241824\n",
      "[203]\ttrain-rmse:5.368376\teval-rmse:13.240975\n",
      "[204]\ttrain-rmse:5.364304\teval-rmse:13.240948\n",
      "[205]\ttrain-rmse:5.355032\teval-rmse:13.234548\n",
      "[206]\ttrain-rmse:5.349632\teval-rmse:13.233900\n",
      "[207]\ttrain-rmse:5.341570\teval-rmse:13.228025\n",
      "[208]\ttrain-rmse:5.338726\teval-rmse:13.227643\n",
      "[209]\ttrain-rmse:5.337536\teval-rmse:13.225944\n",
      "[210]\ttrain-rmse:5.330626\teval-rmse:13.224906\n",
      "[211]\ttrain-rmse:5.330161\teval-rmse:13.222121\n",
      "[212]\ttrain-rmse:5.321424\teval-rmse:13.221756\n",
      "[213]\ttrain-rmse:5.317745\teval-rmse:13.221404\n",
      "[214]\ttrain-rmse:5.308358\teval-rmse:13.224463\n",
      "[215]\ttrain-rmse:5.302987\teval-rmse:13.220760\n",
      "[216]\ttrain-rmse:5.300516\teval-rmse:13.214952\n",
      "[217]\ttrain-rmse:5.297503\teval-rmse:13.218508\n",
      "[218]\ttrain-rmse:5.291564\teval-rmse:13.217439\n",
      "[219]\ttrain-rmse:5.282918\teval-rmse:13.208638\n",
      "[220]\ttrain-rmse:5.274298\teval-rmse:13.205287\n",
      "[221]\ttrain-rmse:5.272448\teval-rmse:13.205194\n",
      "[222]\ttrain-rmse:5.264994\teval-rmse:13.204024\n",
      "[223]\ttrain-rmse:5.262585\teval-rmse:13.204793\n",
      "[224]\ttrain-rmse:5.261427\teval-rmse:13.202080\n",
      "[225]\ttrain-rmse:5.256188\teval-rmse:13.202512\n",
      "[226]\ttrain-rmse:5.251649\teval-rmse:13.202625\n",
      "[227]\ttrain-rmse:5.251555\teval-rmse:13.202457\n",
      "[228]\ttrain-rmse:5.247988\teval-rmse:13.201068\n",
      "[229]\ttrain-rmse:5.246014\teval-rmse:13.199334\n",
      "[230]\ttrain-rmse:5.243702\teval-rmse:13.199509\n",
      "[231]\ttrain-rmse:5.242424\teval-rmse:13.198272\n",
      "[232]\ttrain-rmse:5.241359\teval-rmse:13.198051\n",
      "[233]\ttrain-rmse:5.241231\teval-rmse:13.197982\n",
      "[234]\ttrain-rmse:5.237980\teval-rmse:13.198000\n",
      "[235]\ttrain-rmse:5.234656\teval-rmse:13.197585\n",
      "[236]\ttrain-rmse:5.227057\teval-rmse:13.198416\n",
      "[237]\ttrain-rmse:5.218995\teval-rmse:13.199203\n",
      "[238]\ttrain-rmse:5.217114\teval-rmse:13.194947\n",
      "[239]\ttrain-rmse:5.215688\teval-rmse:13.195405\n",
      "[240]\ttrain-rmse:5.212158\teval-rmse:13.189186\n",
      "[241]\ttrain-rmse:5.208643\teval-rmse:13.188347\n",
      "[242]\ttrain-rmse:5.192542\teval-rmse:13.171692\n",
      "[243]\ttrain-rmse:5.182610\teval-rmse:13.169012\n",
      "[244]\ttrain-rmse:5.170098\teval-rmse:13.170774\n",
      "[245]\ttrain-rmse:5.159865\teval-rmse:13.182817\n",
      "[246]\ttrain-rmse:5.141109\teval-rmse:13.182322\n",
      "[247]\ttrain-rmse:5.138986\teval-rmse:13.181519\n",
      "[248]\ttrain-rmse:5.133969\teval-rmse:13.184548\n",
      "[249]\ttrain-rmse:5.131305\teval-rmse:13.178479\n",
      "[250]\ttrain-rmse:5.115983\teval-rmse:13.175334\n",
      "[251]\ttrain-rmse:5.115856\teval-rmse:13.176385\n",
      "[252]\ttrain-rmse:5.108912\teval-rmse:13.176787\n",
      "[253]\ttrain-rmse:5.098691\teval-rmse:13.177228\n",
      "[254]\ttrain-rmse:5.095622\teval-rmse:13.176584\n",
      "[255]\ttrain-rmse:5.086868\teval-rmse:13.177157\n",
      "[256]\ttrain-rmse:5.079633\teval-rmse:13.179629\n",
      "[257]\ttrain-rmse:5.072591\teval-rmse:13.177167\n",
      "[258]\ttrain-rmse:5.067198\teval-rmse:13.176358\n",
      "[259]\ttrain-rmse:5.065041\teval-rmse:13.174642\n",
      "[260]\ttrain-rmse:5.054045\teval-rmse:13.177670\n",
      "[261]\ttrain-rmse:5.046527\teval-rmse:13.180684\n",
      "[262]\ttrain-rmse:5.039079\teval-rmse:13.179398\n",
      "[263]\ttrain-rmse:5.038253\teval-rmse:13.178851\n",
      "[264]\ttrain-rmse:5.032401\teval-rmse:13.177977\n",
      "[265]\ttrain-rmse:5.026080\teval-rmse:13.177326\n",
      "[266]\ttrain-rmse:5.022633\teval-rmse:13.175974\n",
      "[267]\ttrain-rmse:5.021066\teval-rmse:13.168399\n",
      "[268]\ttrain-rmse:5.014580\teval-rmse:13.168482\n",
      "[269]\ttrain-rmse:5.010279\teval-rmse:13.167085\n",
      "[270]\ttrain-rmse:5.009365\teval-rmse:13.166805\n",
      "[271]\ttrain-rmse:5.008941\teval-rmse:13.167266\n",
      "[272]\ttrain-rmse:5.004812\teval-rmse:13.165564\n",
      "[273]\ttrain-rmse:4.998382\teval-rmse:13.165433\n",
      "[274]\ttrain-rmse:4.993364\teval-rmse:13.164595\n",
      "[275]\ttrain-rmse:4.974261\teval-rmse:13.164673\n",
      "[276]\ttrain-rmse:4.974084\teval-rmse:13.166762\n",
      "[277]\ttrain-rmse:4.973444\teval-rmse:13.166586\n",
      "[278]\ttrain-rmse:4.970952\teval-rmse:13.172716\n",
      "[279]\ttrain-rmse:4.970167\teval-rmse:13.172919\n",
      "[280]\ttrain-rmse:4.963651\teval-rmse:13.171825\n",
      "[281]\ttrain-rmse:4.960797\teval-rmse:13.165638\n",
      "[282]\ttrain-rmse:4.951345\teval-rmse:13.164325\n",
      "[283]\ttrain-rmse:4.944170\teval-rmse:13.163845\n",
      "[284]\ttrain-rmse:4.940397\teval-rmse:13.163402\n",
      "[285]\ttrain-rmse:4.938550\teval-rmse:13.162891\n",
      "[286]\ttrain-rmse:4.929537\teval-rmse:13.163362\n",
      "[287]\ttrain-rmse:4.926575\teval-rmse:13.162166\n",
      "[288]\ttrain-rmse:4.924796\teval-rmse:13.153968\n",
      "[289]\ttrain-rmse:4.920784\teval-rmse:13.153353\n",
      "[290]\ttrain-rmse:4.907437\teval-rmse:13.145414\n",
      "[291]\ttrain-rmse:4.905206\teval-rmse:13.143492\n",
      "[292]\ttrain-rmse:4.903414\teval-rmse:13.143189\n",
      "[293]\ttrain-rmse:4.901578\teval-rmse:13.140381\n",
      "[294]\ttrain-rmse:4.897799\teval-rmse:13.141918\n",
      "[295]\ttrain-rmse:4.893160\teval-rmse:13.142653\n",
      "[296]\ttrain-rmse:4.886957\teval-rmse:13.147697\n",
      "[297]\ttrain-rmse:4.886794\teval-rmse:13.147457\n",
      "[298]\ttrain-rmse:4.879253\teval-rmse:13.145649\n",
      "[299]\ttrain-rmse:4.875381\teval-rmse:13.147257\n"
     ]
    }
   ],
   "source": [
    "watchlist = [(dtrain, 'train'), (dvalid, 'eval')]\n",
    "gbm = xgb.train(params, dtrain, num_boost_round, evals=watchlist, \\\n",
    "  early_stopping_rounds=100,  verbose_eval=True) # add feval=rmspe_xg for scoring"
   ]
  },
  {
   "cell_type": "code",
   "execution_count": null,
   "metadata": {
    "collapsed": true
   },
   "outputs": [],
   "source": [
    "#print(\"Validating\")\n",
    "#yhat = gbm.predict(xgb.DMatrix(X_valid[features]))\n",
    "#error = rmspe(X_valid.Sales.values, np.expm1(yhat))\n",
    "#print('RMSPE: {:.6f}'.format(error))\n",
    "\n",
    "print(\"Make predictions on the test set\")\n",
    "dtest = xgb.DMatrix(test[features])\n",
    "test_probs = gbm.predict(dtest)"
   ]
  },
  {
   "cell_type": "code",
   "execution_count": 65,
   "metadata": {
    "collapsed": false
   },
   "outputs": [],
   "source": [
    "# Make Submission\n",
    "result = pd.DataFrame({'id': test['id'], 'Demanda_uni_equil': test_probs})\n",
    "result = result[['id','Demanda_uni_equil']]\n",
    "result.to_csv(os.path.join(dir_sub, \"submission_4.csv\"), cols=[\"id\",\"Demanda_uni_equil\"], index=False)"
   ]
  },
  {
   "cell_type": "code",
   "execution_count": 66,
   "metadata": {
    "collapsed": false
   },
   "outputs": [
    {
     "data": {
      "text/html": [
       "<div>\n",
       "<table border=\"1\" class=\"dataframe\">\n",
       "  <thead>\n",
       "    <tr style=\"text-align: right;\">\n",
       "      <th></th>\n",
       "      <th>id</th>\n",
       "      <th>Demanda_uni_equil</th>\n",
       "    </tr>\n",
       "  </thead>\n",
       "  <tbody>\n",
       "    <tr>\n",
       "      <th>0</th>\n",
       "      <td>0</td>\n",
       "      <td>3.799973</td>\n",
       "    </tr>\n",
       "    <tr>\n",
       "      <th>1</th>\n",
       "      <td>1</td>\n",
       "      <td>2.022983</td>\n",
       "    </tr>\n",
       "    <tr>\n",
       "      <th>2</th>\n",
       "      <td>2</td>\n",
       "      <td>0.763591</td>\n",
       "    </tr>\n",
       "    <tr>\n",
       "      <th>3</th>\n",
       "      <td>3</td>\n",
       "      <td>5.723403</td>\n",
       "    </tr>\n",
       "    <tr>\n",
       "      <th>4</th>\n",
       "      <td>4</td>\n",
       "      <td>8.690198</td>\n",
       "    </tr>\n",
       "  </tbody>\n",
       "</table>\n",
       "</div>"
      ],
      "text/plain": [
       "   id  Demanda_uni_equil\n",
       "0   0           3.799973\n",
       "1   1           2.022983\n",
       "2   2           0.763591\n",
       "3   3           5.723403\n",
       "4   4           8.690198"
      ]
     },
     "execution_count": 66,
     "metadata": {},
     "output_type": "execute_result"
    }
   ],
   "source": [
    "result.head()"
   ]
  },
  {
   "cell_type": "code",
   "execution_count": 67,
   "metadata": {
    "collapsed": true
   },
   "outputs": [],
   "source": [
    "resultcsv = pd.read_csv(os.path.join(dir_sub,\"submission_5.csv\"))"
   ]
  },
  {
   "cell_type": "code",
   "execution_count": 68,
   "metadata": {
    "collapsed": false
   },
   "outputs": [
    {
     "data": {
      "text/html": [
       "<div>\n",
       "<table border=\"1\" class=\"dataframe\">\n",
       "  <thead>\n",
       "    <tr style=\"text-align: right;\">\n",
       "      <th></th>\n",
       "      <th>id</th>\n",
       "      <th>Demanda_uni_equil</th>\n",
       "    </tr>\n",
       "  </thead>\n",
       "  <tbody>\n",
       "    <tr>\n",
       "      <th>0</th>\n",
       "      <td>0</td>\n",
       "      <td>3.799973</td>\n",
       "    </tr>\n",
       "    <tr>\n",
       "      <th>1</th>\n",
       "      <td>1</td>\n",
       "      <td>2.022983</td>\n",
       "    </tr>\n",
       "    <tr>\n",
       "      <th>2</th>\n",
       "      <td>2</td>\n",
       "      <td>0.763591</td>\n",
       "    </tr>\n",
       "    <tr>\n",
       "      <th>3</th>\n",
       "      <td>3</td>\n",
       "      <td>5.723403</td>\n",
       "    </tr>\n",
       "    <tr>\n",
       "      <th>4</th>\n",
       "      <td>4</td>\n",
       "      <td>8.690198</td>\n",
       "    </tr>\n",
       "  </tbody>\n",
       "</table>\n",
       "</div>"
      ],
      "text/plain": [
       "   id  Demanda_uni_equil\n",
       "0   0           3.799973\n",
       "1   1           2.022983\n",
       "2   2           0.763591\n",
       "3   3           5.723403\n",
       "4   4           8.690198"
      ]
     },
     "execution_count": 68,
     "metadata": {},
     "output_type": "execute_result"
    }
   ],
   "source": [
    "resultcsv.head()"
   ]
  },
  {
   "cell_type": "code",
   "execution_count": null,
   "metadata": {
    "collapsed": true
   },
   "outputs": [],
   "source": []
  },
  {
   "cell_type": "markdown",
   "metadata": {
    "collapsed": false
   },
   "source": [
    "# NEXT STEPS"
   ]
  },
  {
   "cell_type": "code",
   "execution_count": null,
   "metadata": {
    "collapsed": true
   },
   "outputs": [],
   "source": [
    "\"\"\"# onehotencode categorical features\n",
    "from sklearn.preprocessing import OneHotEncoder\n",
    ">>> enc = OneHotEncoder()\n",
    "\n",
    "# run script in command line\n",
    "\"\"\""
   ]
  },
  {
   "cell_type": "code",
   "execution_count": null,
   "metadata": {
    "collapsed": true
   },
   "outputs": [],
   "source": []
  },
  {
   "cell_type": "code",
   "execution_count": null,
   "metadata": {
    "collapsed": true
   },
   "outputs": [],
   "source": []
  },
  {
   "cell_type": "markdown",
   "metadata": {
    "collapsed": true
   },
   "source": [
    "http://nbviewer.jupyter.org/github/JohanManders/ROSSMANN-KAGGLE/blob/master/ROSSMANN%20STORE%20SALES%20COMPETITION%20KAGGLE.ipynb"
   ]
  },
  {
   "cell_type": "markdown",
   "metadata": {},
   "source": [
    "# Archive"
   ]
  },
  {
   "cell_type": "markdown",
   "metadata": {},
   "source": [
    "#### sub2"
   ]
  },
  {
   "cell_type": "code",
   "execution_count": 85,
   "metadata": {
    "collapsed": false
   },
   "outputs": [],
   "source": [
    "train = pd.read_csv(os.path.join(dir_raw,\"sample_submission.csv\"))"
   ]
  },
  {
   "cell_type": "code",
   "execution_count": 86,
   "metadata": {
    "collapsed": false
   },
   "outputs": [],
   "source": [
    "train[\"Demanda_uni_equil\"]=6"
   ]
  },
  {
   "cell_type": "code",
   "execution_count": 87,
   "metadata": {
    "collapsed": false
   },
   "outputs": [],
   "source": [
    "train.to_csv(os.path.join(dir_sub, \"submission_2.csv\"), index=False)"
   ]
  },
  {
   "cell_type": "code",
   "execution_count": null,
   "metadata": {
    "collapsed": true
   },
   "outputs": [],
   "source": []
  }
 ],
 "metadata": {
  "anaconda-cloud": {},
  "kernelspec": {
   "display_name": "Python [Root]",
   "language": "python",
   "name": "Python [Root]"
  },
  "language_info": {
   "codemirror_mode": {
    "name": "ipython",
    "version": 3
   },
   "file_extension": ".py",
   "mimetype": "text/x-python",
   "name": "python",
   "nbconvert_exporter": "python",
   "pygments_lexer": "ipython3",
   "version": "3.5.2"
  }
 },
 "nbformat": 4,
 "nbformat_minor": 0
}
