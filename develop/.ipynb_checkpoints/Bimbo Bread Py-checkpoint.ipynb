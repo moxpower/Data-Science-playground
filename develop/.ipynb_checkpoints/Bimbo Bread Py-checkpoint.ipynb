{
 "cells": [
  {
   "cell_type": "markdown",
   "metadata": {},
   "source": [
    "<img src='../img/bimbo.png'>"
   ]
  },
  {
   "cell_type": "markdown",
   "metadata": {},
   "source": [
    "- Task: Demand = Sales - Returns\n",
    "- Create holdout test set"
   ]
  },
  {
   "cell_type": "markdown",
   "metadata": {},
   "source": [
    "## Data exploration"
   ]
  },
  {
   "cell_type": "code",
   "execution_count": 64,
   "metadata": {
    "collapsed": false
   },
   "outputs": [],
   "source": [
    "import pandas as pd\n",
    "import numpy as np\n",
    "import os\n",
    "dir_sub = \"C:/Users/568377/Cognizant/Data Science/kaggle/Bimbo Bread/submissions/\"\n",
    "dir_raw = \"C:/Users/568377/Cognizant/Data Science/kaggle/Bimbo Bread/raw/\""
   ]
  },
  {
   "cell_type": "code",
   "execution_count": 228,
   "metadata": {
    "collapsed": true
   },
   "outputs": [],
   "source": [
    "subm = pd.read_csv(os.path.join(dir_raw,\"sample_submission.csv\"))\n",
    "prod = pd.read_csv(os.path.join(dir_raw,\"producto_tabla.csv\"))\n",
    "town_state = pd.read_csv(os.path.join(dir_raw,\"town_state.csv\"))\n",
    "client = pd.read_csv(os.path.join(dir_raw,\"cliente_tabla.csv\"))"
   ]
  },
  {
   "cell_type": "code",
   "execution_count": 66,
   "metadata": {
    "collapsed": false
   },
   "outputs": [],
   "source": [
    "test = pd.read_csv(os.path.join(dir_raw,\"test.csv\"), nrows=500000)\n",
    "train = pd.read_csv(os.path.join(dir_raw,\"train.csv\"), nrows=500000)"
   ]
  },
  {
   "cell_type": "markdown",
   "metadata": {},
   "source": [
    "### Features"
   ]
  },
  {
   "cell_type": "markdown",
   "metadata": {},
   "source": [
    "#### Product"
   ]
  },
  {
   "cell_type": "code",
   "execution_count": 229,
   "metadata": {
    "collapsed": false
   },
   "outputs": [
    {
     "data": {
      "text/html": [
       "<div>\n",
       "<table border=\"1\" class=\"dataframe\">\n",
       "  <thead>\n",
       "    <tr style=\"text-align: right;\">\n",
       "      <th></th>\n",
       "      <th>Producto_ID</th>\n",
       "      <th>NombreProducto</th>\n",
       "    </tr>\n",
       "  </thead>\n",
       "  <tbody>\n",
       "    <tr>\n",
       "      <th>0</th>\n",
       "      <td>0</td>\n",
       "      <td>NO IDENTIFICADO 0</td>\n",
       "    </tr>\n",
       "    <tr>\n",
       "      <th>1</th>\n",
       "      <td>9</td>\n",
       "      <td>Capuccino Moka 750g NES 9</td>\n",
       "    </tr>\n",
       "    <tr>\n",
       "      <th>2</th>\n",
       "      <td>41</td>\n",
       "      <td>Bimbollos Ext sAjonjoli 6p 480g BIM 41</td>\n",
       "    </tr>\n",
       "    <tr>\n",
       "      <th>3</th>\n",
       "      <td>53</td>\n",
       "      <td>Burritos Sincro 170g CU LON 53</td>\n",
       "    </tr>\n",
       "    <tr>\n",
       "      <th>4</th>\n",
       "      <td>72</td>\n",
       "      <td>Div Tira Mini Doradita 4p 45g TR 72</td>\n",
       "    </tr>\n",
       "  </tbody>\n",
       "</table>\n",
       "</div>"
      ],
      "text/plain": [
       "   Producto_ID                          NombreProducto\n",
       "0            0                       NO IDENTIFICADO 0\n",
       "1            9               Capuccino Moka 750g NES 9\n",
       "2           41  Bimbollos Ext sAjonjoli 6p 480g BIM 41\n",
       "3           53          Burritos Sincro 170g CU LON 53\n",
       "4           72     Div Tira Mini Doradita 4p 45g TR 72"
      ]
     },
     "execution_count": 229,
     "metadata": {},
     "output_type": "execute_result"
    }
   ],
   "source": [
    "prod.head() #TO BE DONE"
   ]
  },
  {
   "cell_type": "markdown",
   "metadata": {},
   "source": [
    "#### Town/State"
   ]
  },
  {
   "cell_type": "code",
   "execution_count": 230,
   "metadata": {
    "collapsed": false
   },
   "outputs": [
    {
     "data": {
      "text/html": [
       "<div>\n",
       "<table border=\"1\" class=\"dataframe\">\n",
       "  <thead>\n",
       "    <tr style=\"text-align: right;\">\n",
       "      <th></th>\n",
       "      <th>Agencia_ID</th>\n",
       "      <th>Town</th>\n",
       "      <th>State</th>\n",
       "    </tr>\n",
       "  </thead>\n",
       "  <tbody>\n",
       "    <tr>\n",
       "      <th>0</th>\n",
       "      <td>1110</td>\n",
       "      <td>2008 AG. LAGO FILT</td>\n",
       "      <td>MÉXICO, D.F.</td>\n",
       "    </tr>\n",
       "    <tr>\n",
       "      <th>1</th>\n",
       "      <td>1111</td>\n",
       "      <td>2002 AG. AZCAPOTZALCO</td>\n",
       "      <td>MÉXICO, D.F.</td>\n",
       "    </tr>\n",
       "    <tr>\n",
       "      <th>2</th>\n",
       "      <td>1112</td>\n",
       "      <td>2004 AG. CUAUTITLAN</td>\n",
       "      <td>ESTADO DE MÉXICO</td>\n",
       "    </tr>\n",
       "    <tr>\n",
       "      <th>3</th>\n",
       "      <td>1113</td>\n",
       "      <td>2008 AG. LAGO FILT</td>\n",
       "      <td>MÉXICO, D.F.</td>\n",
       "    </tr>\n",
       "    <tr>\n",
       "      <th>4</th>\n",
       "      <td>1114</td>\n",
       "      <td>2029 AG.IZTAPALAPA 2</td>\n",
       "      <td>MÉXICO, D.F.</td>\n",
       "    </tr>\n",
       "  </tbody>\n",
       "</table>\n",
       "</div>"
      ],
      "text/plain": [
       "   Agencia_ID                   Town             State\n",
       "0        1110     2008 AG. LAGO FILT      MÉXICO, D.F.\n",
       "1        1111  2002 AG. AZCAPOTZALCO      MÉXICO, D.F.\n",
       "2        1112    2004 AG. CUAUTITLAN  ESTADO DE MÉXICO\n",
       "3        1113     2008 AG. LAGO FILT      MÉXICO, D.F.\n",
       "4        1114   2029 AG.IZTAPALAPA 2      MÉXICO, D.F."
      ]
     },
     "execution_count": 230,
     "metadata": {},
     "output_type": "execute_result"
    }
   ],
   "source": [
    "town_state.head()"
   ]
  },
  {
   "cell_type": "code",
   "execution_count": 231,
   "metadata": {
    "collapsed": true
   },
   "outputs": [],
   "source": [
    "#lowercase\n",
    "town_state['Town'] = town_state['Town'].str.lower()\n",
    "town_state['State'] = town_state['State'].str.lower()\n",
    "#separate zip, town_name\n",
    "town_state['zip'] = town_state['Town'].str[:4]\n",
    "town_state['town_name'] = town_state['Town'].str[5:]"
   ]
  },
  {
   "cell_type": "code",
   "execution_count": 232,
   "metadata": {
    "collapsed": false
   },
   "outputs": [
    {
     "data": {
      "text/html": [
       "<div>\n",
       "<table border=\"1\" class=\"dataframe\">\n",
       "  <thead>\n",
       "    <tr style=\"text-align: right;\">\n",
       "      <th></th>\n",
       "      <th>Agencia_ID</th>\n",
       "      <th>Town</th>\n",
       "      <th>State</th>\n",
       "      <th>zip</th>\n",
       "      <th>town_name</th>\n",
       "    </tr>\n",
       "  </thead>\n",
       "  <tbody>\n",
       "    <tr>\n",
       "      <th>0</th>\n",
       "      <td>1110</td>\n",
       "      <td>2008 ag. lago filt</td>\n",
       "      <td>méxico, d.f.</td>\n",
       "      <td>2008</td>\n",
       "      <td>ag. lago filt</td>\n",
       "    </tr>\n",
       "    <tr>\n",
       "      <th>1</th>\n",
       "      <td>1111</td>\n",
       "      <td>2002 ag. azcapotzalco</td>\n",
       "      <td>méxico, d.f.</td>\n",
       "      <td>2002</td>\n",
       "      <td>ag. azcapotzalco</td>\n",
       "    </tr>\n",
       "    <tr>\n",
       "      <th>2</th>\n",
       "      <td>1112</td>\n",
       "      <td>2004 ag. cuautitlan</td>\n",
       "      <td>estado de méxico</td>\n",
       "      <td>2004</td>\n",
       "      <td>ag. cuautitlan</td>\n",
       "    </tr>\n",
       "    <tr>\n",
       "      <th>3</th>\n",
       "      <td>1113</td>\n",
       "      <td>2008 ag. lago filt</td>\n",
       "      <td>méxico, d.f.</td>\n",
       "      <td>2008</td>\n",
       "      <td>ag. lago filt</td>\n",
       "    </tr>\n",
       "    <tr>\n",
       "      <th>4</th>\n",
       "      <td>1114</td>\n",
       "      <td>2029 ag.iztapalapa 2</td>\n",
       "      <td>méxico, d.f.</td>\n",
       "      <td>2029</td>\n",
       "      <td>ag.iztapalapa 2</td>\n",
       "    </tr>\n",
       "  </tbody>\n",
       "</table>\n",
       "</div>"
      ],
      "text/plain": [
       "   Agencia_ID                   Town             State   zip         town_name\n",
       "0        1110     2008 ag. lago filt      méxico, d.f.  2008     ag. lago filt\n",
       "1        1111  2002 ag. azcapotzalco      méxico, d.f.  2002  ag. azcapotzalco\n",
       "2        1112    2004 ag. cuautitlan  estado de méxico  2004    ag. cuautitlan\n",
       "3        1113     2008 ag. lago filt      méxico, d.f.  2008     ag. lago filt\n",
       "4        1114   2029 ag.iztapalapa 2      méxico, d.f.  2029   ag.iztapalapa 2"
      ]
     },
     "execution_count": 232,
     "metadata": {},
     "output_type": "execute_result"
    }
   ],
   "source": [
    "town_state.head()"
   ]
  },
  {
   "cell_type": "code",
   "execution_count": 233,
   "metadata": {
    "collapsed": false
   },
   "outputs": [
    {
     "data": {
      "text/plain": [
       "(259, 257, 257)"
      ]
     },
     "execution_count": 233,
     "metadata": {},
     "output_type": "execute_result"
    }
   ],
   "source": [
    "len(town_state['Town'].unique()), len(town_state['zip'].unique()), len(town_state['town_name'].unique())\n",
    "##town_state = town_state.groupby('zip')\n",
    "##town_state['Town'].str[4].unique() -> clean"
   ]
  },
  {
   "cell_type": "code",
   "execution_count": 234,
   "metadata": {
    "collapsed": false
   },
   "outputs": [
    {
     "data": {
      "text/plain": [
       "array(['2152', '2169'], dtype=object)"
      ]
     },
     "execution_count": 234,
     "metadata": {},
     "output_type": "execute_result"
    }
   ],
   "source": [
    "# 2 times similar zips have different town_names\n",
    "df = town_state.groupby('zip').Town.nunique()\n",
    "df[df==2] #3 entries with different town names\n",
    "double_town_names = np.array(df[df==2].index)\n",
    "double_town_names # zips"
   ]
  },
  {
   "cell_type": "code",
   "execution_count": 235,
   "metadata": {
    "collapsed": false
   },
   "outputs": [
    {
     "data": {
      "text/plain": [
       "'3216'"
      ]
     },
     "execution_count": 235,
     "metadata": {},
     "output_type": "execute_result"
    }
   ],
   "source": [
    "town_state['zip'].max() #max zip number"
   ]
  },
  {
   "cell_type": "code",
   "execution_count": 236,
   "metadata": {
    "collapsed": false
   },
   "outputs": [
    {
     "data": {
      "text/html": [
       "<div>\n",
       "<table border=\"1\" class=\"dataframe\">\n",
       "  <thead>\n",
       "    <tr style=\"text-align: right;\">\n",
       "      <th></th>\n",
       "      <th>Agencia_ID</th>\n",
       "      <th>Town</th>\n",
       "      <th>State</th>\n",
       "      <th>zip</th>\n",
       "      <th>town_name</th>\n",
       "    </tr>\n",
       "  </thead>\n",
       "  <tbody>\n",
       "    <tr>\n",
       "      <th>199</th>\n",
       "      <td>1524</td>\n",
       "      <td>2152 cruce de anden noroeste</td>\n",
       "      <td>baja california norte</td>\n",
       "      <td>2152</td>\n",
       "      <td>cruce de anden noroeste</td>\n",
       "    </tr>\n",
       "    <tr>\n",
       "      <th>371</th>\n",
       "      <td>2022</td>\n",
       "      <td>2152 altamirano_bm</td>\n",
       "      <td>guerrero</td>\n",
       "      <td>2152</td>\n",
       "      <td>altamirano_bm</td>\n",
       "    </tr>\n",
       "    <tr>\n",
       "      <th>583</th>\n",
       "      <td>21529</td>\n",
       "      <td>2152 altamirano_bm</td>\n",
       "      <td>guerrero</td>\n",
       "      <td>2152</td>\n",
       "      <td>altamirano_bm</td>\n",
       "    </tr>\n",
       "  </tbody>\n",
       "</table>\n",
       "</div>"
      ],
      "text/plain": [
       "     Agencia_ID                          Town                  State   zip  \\\n",
       "199        1524  2152 cruce de anden noroeste  baja california norte  2152   \n",
       "371        2022            2152 altamirano_bm               guerrero  2152   \n",
       "583       21529            2152 altamirano_bm               guerrero  2152   \n",
       "\n",
       "                   town_name  \n",
       "199  cruce de anden noroeste  \n",
       "371            altamirano_bm  \n",
       "583            altamirano_bm  "
      ]
     },
     "execution_count": 236,
     "metadata": {},
     "output_type": "execute_result"
    }
   ],
   "source": [
    "town_state[town_state['zip'] == double_town_names[0]]"
   ]
  },
  {
   "cell_type": "code",
   "execution_count": 237,
   "metadata": {
    "collapsed": false
   },
   "outputs": [
    {
     "data": {
      "text/html": [
       "<div>\n",
       "<table border=\"1\" class=\"dataframe\">\n",
       "  <thead>\n",
       "    <tr style=\"text-align: right;\">\n",
       "      <th></th>\n",
       "      <th>Agencia_ID</th>\n",
       "      <th>Town</th>\n",
       "      <th>State</th>\n",
       "      <th>zip</th>\n",
       "      <th>town_name</th>\n",
       "    </tr>\n",
       "  </thead>\n",
       "  <tbody>\n",
       "    <tr>\n",
       "      <th>199</th>\n",
       "      <td>1524</td>\n",
       "      <td>9999 cruce de anden noroeste</td>\n",
       "      <td>baja california norte</td>\n",
       "      <td>9999</td>\n",
       "      <td>cruce de anden noroeste</td>\n",
       "    </tr>\n",
       "  </tbody>\n",
       "</table>\n",
       "</div>"
      ],
      "text/plain": [
       "     Agencia_ID                          Town                  State   zip  \\\n",
       "199        1524  9999 cruce de anden noroeste  baja california norte  9999   \n",
       "\n",
       "                   town_name  \n",
       "199  cruce de anden noroeste  "
      ]
     },
     "execution_count": 237,
     "metadata": {},
     "output_type": "execute_result"
    }
   ],
   "source": [
    "town_state.loc[199,'zip']=9999\n",
    "town_state.loc[199,'Town']=\"9999 cruce de anden noroeste\"\n",
    "town_state[town_state['zip'] == 9999]"
   ]
  },
  {
   "cell_type": "code",
   "execution_count": 238,
   "metadata": {
    "collapsed": false
   },
   "outputs": [
    {
     "data": {
      "text/html": [
       "<div>\n",
       "<table border=\"1\" class=\"dataframe\">\n",
       "  <thead>\n",
       "    <tr style=\"text-align: right;\">\n",
       "      <th></th>\n",
       "      <th>Agencia_ID</th>\n",
       "      <th>Town</th>\n",
       "      <th>State</th>\n",
       "      <th>zip</th>\n",
       "      <th>town_name</th>\n",
       "    </tr>\n",
       "  </thead>\n",
       "  <tbody>\n",
       "    <tr>\n",
       "      <th>311</th>\n",
       "      <td>1694</td>\n",
       "      <td>2169 cruce de andén sureste</td>\n",
       "      <td>puebla</td>\n",
       "      <td>2169</td>\n",
       "      <td>cruce de andén sureste</td>\n",
       "    </tr>\n",
       "    <tr>\n",
       "      <th>372</th>\n",
       "      <td>2023</td>\n",
       "      <td>2169 pinotepa</td>\n",
       "      <td>oaxaca</td>\n",
       "      <td>2169</td>\n",
       "      <td>pinotepa</td>\n",
       "    </tr>\n",
       "    <tr>\n",
       "      <th>599</th>\n",
       "      <td>21699</td>\n",
       "      <td>2169 pinotepa</td>\n",
       "      <td>oaxaca</td>\n",
       "      <td>2169</td>\n",
       "      <td>pinotepa</td>\n",
       "    </tr>\n",
       "  </tbody>\n",
       "</table>\n",
       "</div>"
      ],
      "text/plain": [
       "     Agencia_ID                         Town   State   zip  \\\n",
       "311        1694  2169 cruce de andén sureste  puebla  2169   \n",
       "372        2023                2169 pinotepa  oaxaca  2169   \n",
       "599       21699                2169 pinotepa  oaxaca  2169   \n",
       "\n",
       "                  town_name  \n",
       "311  cruce de andén sureste  \n",
       "372                pinotepa  \n",
       "599                pinotepa  "
      ]
     },
     "execution_count": 238,
     "metadata": {},
     "output_type": "execute_result"
    }
   ],
   "source": [
    "town_state[town_state['zip'] == double_town_names[1]]"
   ]
  },
  {
   "cell_type": "code",
   "execution_count": 239,
   "metadata": {
    "collapsed": false
   },
   "outputs": [
    {
     "data": {
      "text/html": [
       "<div>\n",
       "<table border=\"1\" class=\"dataframe\">\n",
       "  <thead>\n",
       "    <tr style=\"text-align: right;\">\n",
       "      <th></th>\n",
       "      <th>Agencia_ID</th>\n",
       "      <th>Town</th>\n",
       "      <th>State</th>\n",
       "      <th>zip</th>\n",
       "      <th>town_name</th>\n",
       "    </tr>\n",
       "  </thead>\n",
       "  <tbody>\n",
       "    <tr>\n",
       "      <th>311</th>\n",
       "      <td>1694</td>\n",
       "      <td>9998 cruce de andén sureste</td>\n",
       "      <td>puebla</td>\n",
       "      <td>9998</td>\n",
       "      <td>cruce de andén sureste</td>\n",
       "    </tr>\n",
       "  </tbody>\n",
       "</table>\n",
       "</div>"
      ],
      "text/plain": [
       "     Agencia_ID                         Town   State   zip  \\\n",
       "311        1694  9998 cruce de andén sureste  puebla  9998   \n",
       "\n",
       "                  town_name  \n",
       "311  cruce de andén sureste  "
      ]
     },
     "execution_count": 239,
     "metadata": {},
     "output_type": "execute_result"
    }
   ],
   "source": [
    "town_state.loc[311,'zip']=9998\n",
    "town_state.loc[311,'Town']=\"9998 cruce de andén sureste\"\n",
    "town_state[town_state['zip'] == 9998]"
   ]
  },
  {
   "cell_type": "code",
   "execution_count": 240,
   "metadata": {
    "collapsed": false
   },
   "outputs": [
    {
     "data": {
      "text/html": [
       "<div>\n",
       "<table border=\"1\" class=\"dataframe\">\n",
       "  <thead>\n",
       "    <tr style=\"text-align: right;\">\n",
       "      <th></th>\n",
       "      <th>Agencia_ID</th>\n",
       "      <th>Town</th>\n",
       "      <th>State</th>\n",
       "      <th>zip</th>\n",
       "      <th>town_name</th>\n",
       "    </tr>\n",
       "  </thead>\n",
       "  <tbody>\n",
       "    <tr>\n",
       "      <th>0</th>\n",
       "      <td>1110</td>\n",
       "      <td>2008 ag. lago filt</td>\n",
       "      <td>méxico, d.f.</td>\n",
       "      <td>2008</td>\n",
       "      <td>ag. lago filt</td>\n",
       "    </tr>\n",
       "    <tr>\n",
       "      <th>1</th>\n",
       "      <td>1111</td>\n",
       "      <td>2002 ag. azcapotzalco</td>\n",
       "      <td>méxico, d.f.</td>\n",
       "      <td>2002</td>\n",
       "      <td>ag. azcapotzalco</td>\n",
       "    </tr>\n",
       "    <tr>\n",
       "      <th>2</th>\n",
       "      <td>1112</td>\n",
       "      <td>2004 ag. cuautitlan</td>\n",
       "      <td>estado de méxico</td>\n",
       "      <td>2004</td>\n",
       "      <td>ag. cuautitlan</td>\n",
       "    </tr>\n",
       "    <tr>\n",
       "      <th>3</th>\n",
       "      <td>1113</td>\n",
       "      <td>2008 ag. lago filt</td>\n",
       "      <td>méxico, d.f.</td>\n",
       "      <td>2008</td>\n",
       "      <td>ag. lago filt</td>\n",
       "    </tr>\n",
       "    <tr>\n",
       "      <th>4</th>\n",
       "      <td>1114</td>\n",
       "      <td>2029 ag.iztapalapa 2</td>\n",
       "      <td>méxico, d.f.</td>\n",
       "      <td>2029</td>\n",
       "      <td>ag.iztapalapa 2</td>\n",
       "    </tr>\n",
       "  </tbody>\n",
       "</table>\n",
       "</div>"
      ],
      "text/plain": [
       "   Agencia_ID                   Town             State   zip         town_name\n",
       "0        1110     2008 ag. lago filt      méxico, d.f.  2008     ag. lago filt\n",
       "1        1111  2002 ag. azcapotzalco      méxico, d.f.  2002  ag. azcapotzalco\n",
       "2        1112    2004 ag. cuautitlan  estado de méxico  2004    ag. cuautitlan\n",
       "3        1113     2008 ag. lago filt      méxico, d.f.  2008     ag. lago filt\n",
       "4        1114   2029 ag.iztapalapa 2      méxico, d.f.  2029   ag.iztapalapa 2"
      ]
     },
     "execution_count": 240,
     "metadata": {},
     "output_type": "execute_result"
    }
   ],
   "source": [
    "town_state.head()"
   ]
  },
  {
   "cell_type": "code",
   "execution_count": 241,
   "metadata": {
    "collapsed": false
   },
   "outputs": [
    {
     "data": {
      "text/plain": [
       "(259, 259, 257)"
      ]
     },
     "execution_count": 241,
     "metadata": {},
     "output_type": "execute_result"
    }
   ],
   "source": [
    "len(town_state['Town'].unique()), len(town_state['zip'].unique()), len(town_state['town_name'].unique())"
   ]
  },
  {
   "cell_type": "code",
   "execution_count": 242,
   "metadata": {
    "collapsed": true
   },
   "outputs": [],
   "source": [
    "df1 = town_state.groupby('town_name').zip.nunique()"
   ]
  },
  {
   "cell_type": "code",
   "execution_count": 243,
   "metadata": {
    "collapsed": false
   },
   "outputs": [
    {
     "data": {
      "text/plain": [
       "town_name\n",
       "los mochis    2\n",
       "pinotepa      2\n",
       "Name: zip, dtype: int64"
      ]
     },
     "execution_count": 243,
     "metadata": {},
     "output_type": "execute_result"
    }
   ],
   "source": [
    "df1[df1==2]"
   ]
  },
  {
   "cell_type": "code",
   "execution_count": 244,
   "metadata": {
    "collapsed": false
   },
   "outputs": [
    {
     "data": {
      "text/plain": [
       "array(['los mochis', 'pinotepa'], dtype=object)"
      ]
     },
     "execution_count": 244,
     "metadata": {},
     "output_type": "execute_result"
    }
   ],
   "source": [
    "df1[df1==2] #3 entries with different town names\n",
    "double_zip_names = np.array(df1[df1==2].index)\n",
    "double_zip_names # zips"
   ]
  },
  {
   "cell_type": "code",
   "execution_count": 245,
   "metadata": {
    "collapsed": false
   },
   "outputs": [
    {
     "data": {
      "text/html": [
       "<div>\n",
       "<table border=\"1\" class=\"dataframe\">\n",
       "  <thead>\n",
       "    <tr style=\"text-align: right;\">\n",
       "      <th></th>\n",
       "      <th>Agencia_ID</th>\n",
       "      <th>Town</th>\n",
       "      <th>State</th>\n",
       "      <th>zip</th>\n",
       "      <th>town_name</th>\n",
       "    </tr>\n",
       "  </thead>\n",
       "  <tbody>\n",
       "    <tr>\n",
       "      <th>211</th>\n",
       "      <td>1544</td>\n",
       "      <td>2561 los mochis</td>\n",
       "      <td>sinaloa</td>\n",
       "      <td>2561</td>\n",
       "      <td>los mochis</td>\n",
       "    </tr>\n",
       "    <tr>\n",
       "      <th>227</th>\n",
       "      <td>1564</td>\n",
       "      <td>2561 los mochis</td>\n",
       "      <td>sinaloa</td>\n",
       "      <td>2561</td>\n",
       "      <td>los mochis</td>\n",
       "    </tr>\n",
       "    <tr>\n",
       "      <th>248</th>\n",
       "      <td>1598</td>\n",
       "      <td>2561 los mochis</td>\n",
       "      <td>sinaloa</td>\n",
       "      <td>2561</td>\n",
       "      <td>los mochis</td>\n",
       "    </tr>\n",
       "    <tr>\n",
       "      <th>498</th>\n",
       "      <td>2655</td>\n",
       "      <td>2655 los mochis</td>\n",
       "      <td>sinaloa</td>\n",
       "      <td>2655</td>\n",
       "      <td>los mochis</td>\n",
       "    </tr>\n",
       "    <tr>\n",
       "      <th>774</th>\n",
       "      <td>25619</td>\n",
       "      <td>2561 los mochis</td>\n",
       "      <td>sinaloa</td>\n",
       "      <td>2561</td>\n",
       "      <td>los mochis</td>\n",
       "    </tr>\n",
       "  </tbody>\n",
       "</table>\n",
       "</div>"
      ],
      "text/plain": [
       "     Agencia_ID             Town    State   zip   town_name\n",
       "211        1544  2561 los mochis  sinaloa  2561  los mochis\n",
       "227        1564  2561 los mochis  sinaloa  2561  los mochis\n",
       "248        1598  2561 los mochis  sinaloa  2561  los mochis\n",
       "498        2655  2655 los mochis  sinaloa  2655  los mochis\n",
       "774       25619  2561 los mochis  sinaloa  2561  los mochis"
      ]
     },
     "execution_count": 245,
     "metadata": {},
     "output_type": "execute_result"
    }
   ],
   "source": [
    "town_state[town_state['town_name'] == double_zip_names[0]] #towns can have multiple zip codes!!! :)"
   ]
  },
  {
   "cell_type": "code",
   "execution_count": 246,
   "metadata": {
    "collapsed": false
   },
   "outputs": [
    {
     "data": {
      "text/html": [
       "<div>\n",
       "<table border=\"1\" class=\"dataframe\">\n",
       "  <thead>\n",
       "    <tr style=\"text-align: right;\">\n",
       "      <th></th>\n",
       "      <th>Agencia_ID</th>\n",
       "      <th>Town</th>\n",
       "      <th>State</th>\n",
       "      <th>zip</th>\n",
       "      <th>town_name</th>\n",
       "    </tr>\n",
       "  </thead>\n",
       "  <tbody>\n",
       "    <tr>\n",
       "      <th>372</th>\n",
       "      <td>2023</td>\n",
       "      <td>2169 pinotepa</td>\n",
       "      <td>oaxaca</td>\n",
       "      <td>2169</td>\n",
       "      <td>pinotepa</td>\n",
       "    </tr>\n",
       "    <tr>\n",
       "      <th>387</th>\n",
       "      <td>2055</td>\n",
       "      <td>2055 pinotepa</td>\n",
       "      <td>puebla</td>\n",
       "      <td>2055</td>\n",
       "      <td>pinotepa</td>\n",
       "    </tr>\n",
       "    <tr>\n",
       "      <th>599</th>\n",
       "      <td>21699</td>\n",
       "      <td>2169 pinotepa</td>\n",
       "      <td>oaxaca</td>\n",
       "      <td>2169</td>\n",
       "      <td>pinotepa</td>\n",
       "    </tr>\n",
       "  </tbody>\n",
       "</table>\n",
       "</div>"
      ],
      "text/plain": [
       "     Agencia_ID           Town   State   zip town_name\n",
       "372        2023  2169 pinotepa  oaxaca  2169  pinotepa\n",
       "387        2055  2055 pinotepa  puebla  2055  pinotepa\n",
       "599       21699  2169 pinotepa  oaxaca  2169  pinotepa"
      ]
     },
     "execution_count": 246,
     "metadata": {},
     "output_type": "execute_result"
    }
   ],
   "source": [
    "town_state[town_state['town_name'] == double_zip_names[1]] #ID 387 interferes with town_name. If town_name big effect, look here. Test here for improvement."
   ]
  },
  {
   "cell_type": "code",
   "execution_count": 247,
   "metadata": {
    "collapsed": false
   },
   "outputs": [
    {
     "data": {
      "text/html": [
       "<div>\n",
       "<table border=\"1\" class=\"dataframe\">\n",
       "  <thead>\n",
       "    <tr style=\"text-align: right;\">\n",
       "      <th></th>\n",
       "      <th>Agencia_ID</th>\n",
       "      <th>Town</th>\n",
       "      <th>State</th>\n",
       "      <th>zip</th>\n",
       "      <th>town_name</th>\n",
       "    </tr>\n",
       "  </thead>\n",
       "  <tbody>\n",
       "    <tr>\n",
       "      <th>0</th>\n",
       "      <td>1110</td>\n",
       "      <td>2008 ag. lago filt</td>\n",
       "      <td>méxico, d.f.</td>\n",
       "      <td>2008</td>\n",
       "      <td>ag. lago filt</td>\n",
       "    </tr>\n",
       "    <tr>\n",
       "      <th>1</th>\n",
       "      <td>1111</td>\n",
       "      <td>2002 ag. azcapotzalco</td>\n",
       "      <td>méxico, d.f.</td>\n",
       "      <td>2002</td>\n",
       "      <td>ag. azcapotzalco</td>\n",
       "    </tr>\n",
       "    <tr>\n",
       "      <th>2</th>\n",
       "      <td>1112</td>\n",
       "      <td>2004 ag. cuautitlan</td>\n",
       "      <td>estado de méxico</td>\n",
       "      <td>2004</td>\n",
       "      <td>ag. cuautitlan</td>\n",
       "    </tr>\n",
       "    <tr>\n",
       "      <th>3</th>\n",
       "      <td>1113</td>\n",
       "      <td>2008 ag. lago filt</td>\n",
       "      <td>méxico, d.f.</td>\n",
       "      <td>2008</td>\n",
       "      <td>ag. lago filt</td>\n",
       "    </tr>\n",
       "    <tr>\n",
       "      <th>4</th>\n",
       "      <td>1114</td>\n",
       "      <td>2029 ag.iztapalapa 2</td>\n",
       "      <td>méxico, d.f.</td>\n",
       "      <td>2029</td>\n",
       "      <td>ag.iztapalapa 2</td>\n",
       "    </tr>\n",
       "  </tbody>\n",
       "</table>\n",
       "</div>"
      ],
      "text/plain": [
       "   Agencia_ID                   Town             State   zip         town_name\n",
       "0        1110     2008 ag. lago filt      méxico, d.f.  2008     ag. lago filt\n",
       "1        1111  2002 ag. azcapotzalco      méxico, d.f.  2002  ag. azcapotzalco\n",
       "2        1112    2004 ag. cuautitlan  estado de méxico  2004    ag. cuautitlan\n",
       "3        1113     2008 ag. lago filt      méxico, d.f.  2008     ag. lago filt\n",
       "4        1114   2029 ag.iztapalapa 2      méxico, d.f.  2029   ag.iztapalapa 2"
      ]
     },
     "execution_count": 247,
     "metadata": {},
     "output_type": "execute_result"
    }
   ],
   "source": [
    "town_state.head()"
   ]
  },
  {
   "cell_type": "markdown",
   "metadata": {},
   "source": [
    "# NEXT STEP"
   ]
  },
  {
   "cell_type": "code",
   "execution_count": null,
   "metadata": {
    "collapsed": true
   },
   "outputs": [],
   "source": [
    "# cd. ag. separate them and create new column with classifier"
   ]
  },
  {
   "cell_type": "code",
   "execution_count": 252,
   "metadata": {
    "collapsed": false
   },
   "outputs": [
    {
     "data": {
      "text/plain": [
       "['acap',\n",
       " 'acay',\n",
       " 'acuñ',\n",
       " 'aero',\n",
       " 'ag. ',\n",
       " 'ag.h',\n",
       " 'ag.i',\n",
       " 'ag.m',\n",
       " 'ag.p',\n",
       " 'ag.t',\n",
       " 'agen',\n",
       " 'agua',\n",
       " 'alta',\n",
       " 'apan',\n",
       " 'apat',\n",
       " 'apiz',\n",
       " 'arri',\n",
       " 'atla',\n",
       " 'atot',\n",
       " 'autl',\n",
       " 'azca',\n",
       " 'bi_s',\n",
       " 'blm_',\n",
       " 'bw_g',\n",
       " 'cabo',\n",
       " 'camp',\n",
       " 'cana',\n",
       " 'canc',\n",
       " 'card',\n",
       " 'casa',\n",
       " 'cava',\n",
       " 'cd g',\n",
       " 'cd. ',\n",
       " 'cela',\n",
       " 'chal',\n",
       " 'chet',\n",
       " 'chih',\n",
       " 'chil',\n",
       " 'ciud',\n",
       " 'coat',\n",
       " 'coli',\n",
       " 'coma',\n",
       " 'comi',\n",
       " 'conv',\n",
       " 'cord',\n",
       " 'cozu',\n",
       " 'cruc',\n",
       " 'cuah',\n",
       " 'cuau',\n",
       " 'cubi',\n",
       " 'cuer',\n",
       " 'culi',\n",
       " 'deli',\n",
       " 'dura',\n",
       " 'emil',\n",
       " 'ense',\n",
       " 'esca',\n",
       " 'esco',\n",
       " 'fres',\n",
       " 'gome',\n",
       " 'gonz',\n",
       " 'gran',\n",
       " 'guad',\n",
       " 'guam',\n",
       " 'guay',\n",
       " 'guer',\n",
       " 'herm',\n",
       " 'hida',\n",
       " 'huaj',\n",
       " 'igua',\n",
       " 'indu',\n",
       " 'irap',\n",
       " 'isla',\n",
       " 'ixte',\n",
       " 'izuc',\n",
       " 'jala',\n",
       " 'joju',\n",
       " 'juar',\n",
       " 'juxt',\n",
       " 'la f',\n",
       " 'la p',\n",
       " 'lago',\n",
       " 'lare',\n",
       " 'las ',\n",
       " 'laza',\n",
       " 'leon',\n",
       " 'libe',\n",
       " 'lina',\n",
       " 'linc',\n",
       " 'los ',\n",
       " 'manz',\n",
       " 'mara',\n",
       " 'mari',\n",
       " 'mart',\n",
       " 'mata',\n",
       " 'mate',\n",
       " 'maza',\n",
       " 'meri',\n",
       " 'mexi',\n",
       " 'mina',\n",
       " 'mitr',\n",
       " 'moct',\n",
       " 'monc',\n",
       " 'more',\n",
       " 'nauc',\n",
       " 'navo',\n",
       " 'noga',\n",
       " 'nort',\n",
       " 'nuev',\n",
       " 'oaxa',\n",
       " 'ocot',\n",
       " 'ojin',\n",
       " 'oriz',\n",
       " 'pach',\n",
       " 'palo',\n",
       " 'parr',\n",
       " 'pied',\n",
       " 'pino',\n",
       " 'play',\n",
       " 'poza',\n",
       " 'pueb',\n",
       " 'puer',\n",
       " 'quer',\n",
       " 'reyn',\n",
       " 'rio ',\n",
       " 'ruiz',\n",
       " 'sabi',\n",
       " 'sala',\n",
       " 'sali',\n",
       " 'salt',\n",
       " 'san ',\n",
       " 'sant',\n",
       " 'send',\n",
       " 'tamp',\n",
       " 'tapa',\n",
       " 'teca',\n",
       " 'teco',\n",
       " 'tehu',\n",
       " 'teka',\n",
       " 'tepa',\n",
       " 'tepe',\n",
       " 'tepi',\n",
       " 'texc',\n",
       " 'tezi',\n",
       " 'tier',\n",
       " 'tiju',\n",
       " 'tlaq',\n",
       " 'tolu',\n",
       " 'torr',\n",
       " 'tuxp',\n",
       " 'tuxt',\n",
       " 'uria',\n",
       " 'urua',\n",
       " 'vall',\n",
       " 'vera',\n",
       " 'vict',\n",
       " 'wond',\n",
       " 'zaca',\n",
       " 'zamo',\n",
       " 'zapo',\n",
       " 'zihu',\n",
       " 'zita']"
      ]
     },
     "execution_count": 252,
     "metadata": {},
     "output_type": "execute_result"
    }
   ],
   "source": [
    "sorted(town_state['town_name'].str[:4].unique())"
   ]
  },
  {
   "cell_type": "code",
   "execution_count": 255,
   "metadata": {
    "collapsed": false
   },
   "outputs": [
    {
     "data": {
      "text/plain": [
       "['acaponeta',\n",
       " 'acapulco cos',\n",
       " 'acapulco esc',\n",
       " 'acapulco san',\n",
       " 'acayucan',\n",
       " 'acuña',\n",
       " 'aeropuerto',\n",
       " 'ag. atizapan',\n",
       " 'ag. azcapotz',\n",
       " 'ag. centro',\n",
       " 'ag. ceylan',\n",
       " 'ag. coacalco',\n",
       " 'ag. cuautitl',\n",
       " 'ag. ixtapalu',\n",
       " 'ag. iztapala',\n",
       " 'ag. la villa',\n",
       " 'ag. lago fil',\n",
       " 'ag. los reye',\n",
       " 'ag. mega nau',\n",
       " 'ag. mixcoac',\n",
       " 'ag. neza',\n",
       " 'ag. pantitla',\n",
       " 'ag. rojo gom',\n",
       " 'ag. san anto',\n",
       " 'ag. san lore',\n",
       " 'ag. santa cl',\n",
       " 'ag. santa lu',\n",
       " 'ag. tepalcat',\n",
       " 'ag. tepeji d',\n",
       " 'ag. tepozotl',\n",
       " 'ag. texcoco',\n",
       " 'ag. tizayuca',\n",
       " 'ag. tultitla',\n",
       " 'ag. vallejo',\n",
       " 'ag. xalostoc',\n",
       " 'ag. xochimil',\n",
       " 'ag.huejutla',\n",
       " 'ag.iztapalap',\n",
       " 'ag.mixquiahu',\n",
       " 'ag.pachuca',\n",
       " 'ag.tulancing',\n",
       " 'agencia suan',\n",
       " 'agua prieta',\n",
       " 'aguascalient',\n",
       " 'altamirano_b',\n",
       " 'apan',\n",
       " 'apatzingan',\n",
       " 'apizaco mari',\n",
       " 'arriaga_bm',\n",
       " 'atlacomulco',\n",
       " 'atotonilco',\n",
       " 'autlan_bm',\n",
       " 'azcapotzalco',\n",
       " 'bi_san franc',\n",
       " 'blm_ag. camp',\n",
       " 'bw_guasave',\n",
       " 'caborca',\n",
       " 'campeche',\n",
       " 'cananea',\n",
       " 'cancun ii',\n",
       " 'cancun_bm',\n",
       " 'cardenas',\n",
       " 'casas grande',\n",
       " 'cavazos',\n",
       " 'cd guzman',\n",
       " 'cd. constitu',\n",
       " 'cd. mante',\n",
       " 'cd. obregon',\n",
       " 'cd. valles',\n",
       " 'celaya indus',\n",
       " 'celaya norpo',\n",
       " 'chalco_bm',\n",
       " 'chetumal',\n",
       " 'chihuahua bi',\n",
       " 'chihuahua ma',\n",
       " 'chilpancingo',\n",
       " 'ciudad del c',\n",
       " 'ciudad serdá',\n",
       " 'coatzacoalco',\n",
       " 'colima bimbo',\n",
       " 'comalcalco',\n",
       " 'comitan',\n",
       " 'conveniencia',\n",
       " 'cordoba',\n",
       " 'cozumel',\n",
       " 'cruce de and',\n",
       " 'cuahutemoc',\n",
       " 'cuautla',\n",
       " 'cubilete',\n",
       " 'cuernavaca b',\n",
       " 'cuernavaca c',\n",
       " 'culiacan bim',\n",
       " 'culiacan mar',\n",
       " 'delicias bim',\n",
       " 'durango bimb',\n",
       " 'emiliano zap',\n",
       " 'ensenada ii',\n",
       " 'escarcega',\n",
       " 'escobedo',\n",
       " 'fresnillo bi',\n",
       " 'gomez palaci',\n",
       " 'gonzalez gal',\n",
       " 'granjas mari',\n",
       " 'guadalajara',\n",
       " 'guamuchil',\n",
       " 'guaymas',\n",
       " 'guerrero neg',\n",
       " 'hermosillo s',\n",
       " 'hidalgo bimb',\n",
       " 'huajuapan',\n",
       " 'iguala',\n",
       " 'industrial',\n",
       " 'irapuato gua',\n",
       " 'irapuato san',\n",
       " 'isla',\n",
       " 'ixtepec',\n",
       " 'izucar de ma',\n",
       " 'jalapa i',\n",
       " 'jojutla_bm',\n",
       " 'juarez',\n",
       " 'juarez bimbo',\n",
       " 'juxtlahuaca',\n",
       " 'la fe',\n",
       " 'la paz',\n",
       " 'la peñita',\n",
       " 'la piedad',\n",
       " 'lagos de mor',\n",
       " 'laredo',\n",
       " 'las torres',\n",
       " 'lazaro carde',\n",
       " 'leon mileniu',\n",
       " 'leon san jua',\n",
       " 'libertad',\n",
       " 'linares',\n",
       " 'lincoln',\n",
       " 'los mochis',\n",
       " 'manzanillo b',\n",
       " 'maravatio',\n",
       " 'mariano oter',\n",
       " 'martinez de ',\n",
       " 'matamoros bi',\n",
       " 'matehuala bi',\n",
       " 'mazatlan bim',\n",
       " 'mazatlan mar',\n",
       " 'merida norte',\n",
       " 'merida sur',\n",
       " 'mexicali pla',\n",
       " 'mexicali pon',\n",
       " 'minatitlan',\n",
       " 'mitras',\n",
       " 'moctezuma',\n",
       " 'monclova bim',\n",
       " 'morelia abas',\n",
       " 'morelia la h',\n",
       " 'naucalpan ii',\n",
       " 'navojoa',\n",
       " 'nogales_bw',\n",
       " 'norte',\n",
       " 'nuevo ideal',\n",
       " 'nuevo laredo',\n",
       " 'oaxaca bimbo',\n",
       " 'oaxaca marin',\n",
       " 'ocotlan bimb',\n",
       " 'ojinaga',\n",
       " 'orizaba',\n",
       " 'pachuca ii',\n",
       " 'palomar',\n",
       " 'parral bimbo',\n",
       " 'piedras negr',\n",
       " 'pinotepa',\n",
       " 'playa del ca',\n",
       " 'poza rica',\n",
       " 'puebla norte',\n",
       " 'puebla sur b',\n",
       " 'puebla sur m',\n",
       " 'puerto escon',\n",
       " 'puerto peñas',\n",
       " 'puerto valla',\n",
       " 'queretaro ba',\n",
       " 'queretaro sa',\n",
       " 'reynosa bimb',\n",
       " 'reynosa mari',\n",
       " 'rio verde bi',\n",
       " 'ruiz cortine',\n",
       " 'sabinas',\n",
       " 'salamanca',\n",
       " 'salina cruz',\n",
       " 'saltillo bim',\n",
       " 'saltillo mar',\n",
       " 'san andres',\n",
       " 'san cristoba',\n",
       " 'san jose del',\n",
       " 'san juan del',\n",
       " 'san lucas',\n",
       " 'san luis pot',\n",
       " 'san luis r.c',\n",
       " 'san luis rey',\n",
       " 'san martin t',\n",
       " 'san miguel d',\n",
       " 'san nicolas',\n",
       " 'san pedro',\n",
       " 'san quintín',\n",
       " 'santa ana',\n",
       " 'santa catari',\n",
       " 'santa rosali',\n",
       " 'santiago ixc',\n",
       " 'sendero auto',\n",
       " 'tampico bimb',\n",
       " 'tampico mari',\n",
       " 'tapachula',\n",
       " 'tecate',\n",
       " 'tecoman',\n",
       " 'tehuacan mar',\n",
       " 'tekax',\n",
       " 'tepatitlan b',\n",
       " 'tepeaca',\n",
       " 'tepic bimbo',\n",
       " 'texcoco wond',\n",
       " 'teziutlan',\n",
       " 'tierra blanc',\n",
       " 'tijuana el f',\n",
       " 'tijuana gato',\n",
       " 'tijuana paci',\n",
       " 'tijuana rosa',\n",
       " 'tlaqueparque',\n",
       " 'toluca aerop',\n",
       " 'toluca centr',\n",
       " 'toluca ponie',\n",
       " 'toluca san a',\n",
       " 'torreon',\n",
       " 'tuxpam',\n",
       " 'tuxtepec',\n",
       " 'tuxtla',\n",
       " 'uriangato',\n",
       " 'uruapan',\n",
       " 'valladolid',\n",
       " 'veracruz nor',\n",
       " 'veracruz sur',\n",
       " 'victoria bim',\n",
       " 'wonder guerr',\n",
       " 'wonder la ra',\n",
       " 'zacatecas bi',\n",
       " 'zacatecas ma',\n",
       " 'zacatlan',\n",
       " 'zamora mader',\n",
       " 'zapopan bimb',\n",
       " 'zihuatanejo',\n",
       " 'zitacuaro']"
      ]
     },
     "execution_count": 255,
     "metadata": {},
     "output_type": "execute_result"
    }
   ],
   "source": [
    "sorted(town_state['town_name'].str[:12].unique())"
   ]
  },
  {
   "cell_type": "code",
   "execution_count": null,
   "metadata": {
    "collapsed": true
   },
   "outputs": [],
   "source": []
  },
  {
   "cell_type": "code",
   "execution_count": null,
   "metadata": {
    "collapsed": true
   },
   "outputs": [],
   "source": []
  },
  {
   "cell_type": "markdown",
   "metadata": {},
   "source": [
    "#### Client"
   ]
  },
  {
   "cell_type": "code",
   "execution_count": 257,
   "metadata": {
    "collapsed": false
   },
   "outputs": [
    {
     "data": {
      "text/html": [
       "<div>\n",
       "<table border=\"1\" class=\"dataframe\">\n",
       "  <thead>\n",
       "    <tr style=\"text-align: right;\">\n",
       "      <th></th>\n",
       "      <th>Cliente_ID</th>\n",
       "      <th>NombreCliente</th>\n",
       "    </tr>\n",
       "  </thead>\n",
       "  <tbody>\n",
       "    <tr>\n",
       "      <th>0</th>\n",
       "      <td>0</td>\n",
       "      <td>SIN NOMBRE</td>\n",
       "    </tr>\n",
       "    <tr>\n",
       "      <th>1</th>\n",
       "      <td>1</td>\n",
       "      <td>OXXO XINANTECATL</td>\n",
       "    </tr>\n",
       "    <tr>\n",
       "      <th>2</th>\n",
       "      <td>2</td>\n",
       "      <td>SIN NOMBRE</td>\n",
       "    </tr>\n",
       "    <tr>\n",
       "      <th>3</th>\n",
       "      <td>3</td>\n",
       "      <td>EL MORENO</td>\n",
       "    </tr>\n",
       "    <tr>\n",
       "      <th>4</th>\n",
       "      <td>4</td>\n",
       "      <td>SDN SER  DE ALIM  CUERPO SA CIA  DE INT</td>\n",
       "    </tr>\n",
       "  </tbody>\n",
       "</table>\n",
       "</div>"
      ],
      "text/plain": [
       "   Cliente_ID                            NombreCliente\n",
       "0           0                               SIN NOMBRE\n",
       "1           1                         OXXO XINANTECATL\n",
       "2           2                               SIN NOMBRE\n",
       "3           3                                EL MORENO\n",
       "4           4  SDN SER  DE ALIM  CUERPO SA CIA  DE INT"
      ]
     },
     "execution_count": 257,
     "metadata": {},
     "output_type": "execute_result"
    }
   ],
   "source": [
    "client.head()"
   ]
  },
  {
   "cell_type": "code",
   "execution_count": 153,
   "metadata": {
    "collapsed": false
   },
   "outputs": [
    {
     "data": {
      "text/html": [
       "<div>\n",
       "<table border=\"1\" class=\"dataframe\">\n",
       "  <thead>\n",
       "    <tr style=\"text-align: right;\">\n",
       "      <th></th>\n",
       "      <th>id</th>\n",
       "      <th>Semana</th>\n",
       "      <th>Agencia_ID</th>\n",
       "      <th>Canal_ID</th>\n",
       "      <th>Ruta_SAK</th>\n",
       "      <th>Cliente_ID</th>\n",
       "      <th>Producto_ID</th>\n",
       "    </tr>\n",
       "  </thead>\n",
       "  <tbody>\n",
       "    <tr>\n",
       "      <th>0</th>\n",
       "      <td>0</td>\n",
       "      <td>11</td>\n",
       "      <td>4037</td>\n",
       "      <td>1</td>\n",
       "      <td>2209</td>\n",
       "      <td>4639078</td>\n",
       "      <td>35305</td>\n",
       "    </tr>\n",
       "    <tr>\n",
       "      <th>1</th>\n",
       "      <td>1</td>\n",
       "      <td>11</td>\n",
       "      <td>2237</td>\n",
       "      <td>1</td>\n",
       "      <td>1226</td>\n",
       "      <td>4705135</td>\n",
       "      <td>1238</td>\n",
       "    </tr>\n",
       "    <tr>\n",
       "      <th>2</th>\n",
       "      <td>2</td>\n",
       "      <td>10</td>\n",
       "      <td>2045</td>\n",
       "      <td>1</td>\n",
       "      <td>2831</td>\n",
       "      <td>4549769</td>\n",
       "      <td>32940</td>\n",
       "    </tr>\n",
       "    <tr>\n",
       "      <th>3</th>\n",
       "      <td>3</td>\n",
       "      <td>11</td>\n",
       "      <td>1227</td>\n",
       "      <td>1</td>\n",
       "      <td>4448</td>\n",
       "      <td>4717855</td>\n",
       "      <td>43066</td>\n",
       "    </tr>\n",
       "    <tr>\n",
       "      <th>4</th>\n",
       "      <td>4</td>\n",
       "      <td>11</td>\n",
       "      <td>1219</td>\n",
       "      <td>1</td>\n",
       "      <td>1130</td>\n",
       "      <td>966351</td>\n",
       "      <td>1277</td>\n",
       "    </tr>\n",
       "  </tbody>\n",
       "</table>\n",
       "</div>"
      ],
      "text/plain": [
       "   id  Semana  Agencia_ID  Canal_ID  Ruta_SAK  Cliente_ID  Producto_ID\n",
       "0   0      11        4037         1      2209     4639078        35305\n",
       "1   1      11        2237         1      1226     4705135         1238\n",
       "2   2      10        2045         1      2831     4549769        32940\n",
       "3   3      11        1227         1      4448     4717855        43066\n",
       "4   4      11        1219         1      1130      966351         1277"
      ]
     },
     "execution_count": 153,
     "metadata": {},
     "output_type": "execute_result"
    }
   ],
   "source": [
    "test.head()"
   ]
  },
  {
   "cell_type": "code",
   "execution_count": 154,
   "metadata": {
    "collapsed": false
   },
   "outputs": [
    {
     "data": {
      "text/html": [
       "<div>\n",
       "<table border=\"1\" class=\"dataframe\">\n",
       "  <thead>\n",
       "    <tr style=\"text-align: right;\">\n",
       "      <th></th>\n",
       "      <th>Semana</th>\n",
       "      <th>Agencia_ID</th>\n",
       "      <th>Canal_ID</th>\n",
       "      <th>Ruta_SAK</th>\n",
       "      <th>Cliente_ID</th>\n",
       "      <th>Producto_ID</th>\n",
       "      <th>Venta_uni_hoy</th>\n",
       "      <th>Venta_hoy</th>\n",
       "      <th>Dev_uni_proxima</th>\n",
       "      <th>Dev_proxima</th>\n",
       "      <th>Demanda_uni_equil</th>\n",
       "    </tr>\n",
       "  </thead>\n",
       "  <tbody>\n",
       "    <tr>\n",
       "      <th>0</th>\n",
       "      <td>3</td>\n",
       "      <td>1110</td>\n",
       "      <td>7</td>\n",
       "      <td>3301</td>\n",
       "      <td>15766</td>\n",
       "      <td>1212</td>\n",
       "      <td>3</td>\n",
       "      <td>25.14</td>\n",
       "      <td>0</td>\n",
       "      <td>0.0</td>\n",
       "      <td>3</td>\n",
       "    </tr>\n",
       "    <tr>\n",
       "      <th>1</th>\n",
       "      <td>3</td>\n",
       "      <td>1110</td>\n",
       "      <td>7</td>\n",
       "      <td>3301</td>\n",
       "      <td>15766</td>\n",
       "      <td>1216</td>\n",
       "      <td>4</td>\n",
       "      <td>33.52</td>\n",
       "      <td>0</td>\n",
       "      <td>0.0</td>\n",
       "      <td>4</td>\n",
       "    </tr>\n",
       "    <tr>\n",
       "      <th>2</th>\n",
       "      <td>3</td>\n",
       "      <td>1110</td>\n",
       "      <td>7</td>\n",
       "      <td>3301</td>\n",
       "      <td>15766</td>\n",
       "      <td>1238</td>\n",
       "      <td>4</td>\n",
       "      <td>39.32</td>\n",
       "      <td>0</td>\n",
       "      <td>0.0</td>\n",
       "      <td>4</td>\n",
       "    </tr>\n",
       "    <tr>\n",
       "      <th>3</th>\n",
       "      <td>3</td>\n",
       "      <td>1110</td>\n",
       "      <td>7</td>\n",
       "      <td>3301</td>\n",
       "      <td>15766</td>\n",
       "      <td>1240</td>\n",
       "      <td>4</td>\n",
       "      <td>33.52</td>\n",
       "      <td>0</td>\n",
       "      <td>0.0</td>\n",
       "      <td>4</td>\n",
       "    </tr>\n",
       "    <tr>\n",
       "      <th>4</th>\n",
       "      <td>3</td>\n",
       "      <td>1110</td>\n",
       "      <td>7</td>\n",
       "      <td>3301</td>\n",
       "      <td>15766</td>\n",
       "      <td>1242</td>\n",
       "      <td>3</td>\n",
       "      <td>22.92</td>\n",
       "      <td>0</td>\n",
       "      <td>0.0</td>\n",
       "      <td>3</td>\n",
       "    </tr>\n",
       "  </tbody>\n",
       "</table>\n",
       "</div>"
      ],
      "text/plain": [
       "   Semana  Agencia_ID  Canal_ID  Ruta_SAK  Cliente_ID  Producto_ID  \\\n",
       "0       3        1110         7      3301       15766         1212   \n",
       "1       3        1110         7      3301       15766         1216   \n",
       "2       3        1110         7      3301       15766         1238   \n",
       "3       3        1110         7      3301       15766         1240   \n",
       "4       3        1110         7      3301       15766         1242   \n",
       "\n",
       "   Venta_uni_hoy  Venta_hoy  Dev_uni_proxima  Dev_proxima  Demanda_uni_equil  \n",
       "0              3      25.14                0          0.0                  3  \n",
       "1              4      33.52                0          0.0                  4  \n",
       "2              4      39.32                0          0.0                  4  \n",
       "3              4      33.52                0          0.0                  4  \n",
       "4              3      22.92                0          0.0                  3  "
      ]
     },
     "execution_count": 154,
     "metadata": {},
     "output_type": "execute_result"
    }
   ],
   "source": [
    "train.head()"
   ]
  },
  {
   "cell_type": "markdown",
   "metadata": {},
   "source": [
    "# Feature engineering"
   ]
  },
  {
   "cell_type": "markdown",
   "metadata": {},
   "source": [
    "https://www.kaggle.com/cast42/rossmann-store-sales/xgboost-in-python-with-rmspe-v2/code"
   ]
  },
  {
   "cell_type": "code",
   "execution_count": 2,
   "metadata": {
    "collapsed": false
   },
   "outputs": [
    {
     "ename": "ImportError",
     "evalue": "No module named 'xgboost'",
     "output_type": "error",
     "traceback": [
      "\u001b[1;31m---------------------------------------------------------------------------\u001b[0m",
      "\u001b[1;31mImportError\u001b[0m                               Traceback (most recent call last)",
      "\u001b[1;32m<ipython-input-2-ee4b17fadb0e>\u001b[0m in \u001b[0;36m<module>\u001b[1;34m()\u001b[0m\n\u001b[0;32m      2\u001b[0m \u001b[1;32mimport\u001b[0m \u001b[0mnumpy\u001b[0m \u001b[1;32mas\u001b[0m \u001b[0mnp\u001b[0m\u001b[1;33m\u001b[0m\u001b[0m\n\u001b[0;32m      3\u001b[0m \u001b[1;32mfrom\u001b[0m \u001b[0msklearn\u001b[0m\u001b[1;33m.\u001b[0m\u001b[0mcross_validation\u001b[0m \u001b[1;32mimport\u001b[0m \u001b[0mtrain_test_split\u001b[0m\u001b[1;33m\u001b[0m\u001b[0m\n\u001b[1;32m----> 4\u001b[1;33m \u001b[1;32mimport\u001b[0m \u001b[0mxgboost\u001b[0m \u001b[1;32mas\u001b[0m \u001b[0mxgb\u001b[0m\u001b[1;33m\u001b[0m\u001b[0m\n\u001b[0m\u001b[0;32m      5\u001b[0m \u001b[1;32mimport\u001b[0m \u001b[0moperator\u001b[0m\u001b[1;33m\u001b[0m\u001b[0m\n\u001b[0;32m      6\u001b[0m \u001b[1;32mimport\u001b[0m \u001b[0mmatplotlib\u001b[0m\u001b[1;33m\u001b[0m\u001b[0m\n",
      "\u001b[1;31mImportError\u001b[0m: No module named 'xgboost'"
     ]
    }
   ],
   "source": [
    "import pandas as pd\n",
    "import numpy as np\n",
    "from sklearn.cross_validation import train_test_split\n",
    "import xgboost as xgb\n",
    "import operator\n",
    "import matplotlib"
   ]
  },
  {
   "cell_type": "markdown",
   "metadata": {},
   "source": [
    "# sub 2"
   ]
  },
  {
   "cell_type": "code",
   "execution_count": 85,
   "metadata": {
    "collapsed": false
   },
   "outputs": [],
   "source": [
    "train = pd.read_csv(os.path.join(dir_raw,\"sample_submission.csv\"))"
   ]
  },
  {
   "cell_type": "code",
   "execution_count": 86,
   "metadata": {
    "collapsed": false
   },
   "outputs": [],
   "source": [
    "train[\"Demanda_uni_equil\"]=6"
   ]
  },
  {
   "cell_type": "code",
   "execution_count": 87,
   "metadata": {
    "collapsed": false
   },
   "outputs": [],
   "source": [
    "train.to_csv(os.path.join(dir_sub, \"submission_2.csv\"), index=False)"
   ]
  }
 ],
 "metadata": {
  "kernelspec": {
   "display_name": "Python 3",
   "language": "python",
   "name": "python3"
  },
  "language_info": {
   "codemirror_mode": {
    "name": "ipython",
    "version": 3
   },
   "file_extension": ".py",
   "mimetype": "text/x-python",
   "name": "python",
   "nbconvert_exporter": "python",
   "pygments_lexer": "ipython3",
   "version": "3.5.1"
  }
 },
 "nbformat": 4,
 "nbformat_minor": 0
}
