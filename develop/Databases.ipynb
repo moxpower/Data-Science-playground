{
 "cells": [
  {
   "cell_type": "code",
   "execution_count": null,
   "metadata": {
    "collapsed": true
   },
   "outputs": [],
   "source": [
    "Relational databases (RDBMS) are optimized for\n",
    "    - manipulating large datasets\n",
    "    - providing concurrent data access to multiple users\n",
    "    - maintaining data consistency\n",
    "    - persistence"
   ]
  },
  {
   "cell_type": "code",
   "execution_count": null,
   "metadata": {
    "collapsed": true
   },
   "outputs": [],
   "source": [
    "Databases designed to\n",
    "- minimiye data redundancy\n",
    "- model attributes and relationships\n",
    "- enable data consistency\n",
    "- merge/join data into single view\n",
    "- support transactions and security"
   ]
  },
  {
   "cell_type": "markdown",
   "metadata": {},
   "source": [
    "<img src=\"../img/Terminology R vs RDBMS.png\" width=\"400\">"
   ]
  },
  {
   "cell_type": "code",
   "execution_count": null,
   "metadata": {
    "collapsed": true
   },
   "outputs": [],
   "source": [
    "ODBC\n",
    "- RODBC\n",
    "DBI-Based\n",
    "- RJDBC\n",
    "- R"
   ]
  }
 ],
 "metadata": {
  "kernelspec": {
   "display_name": "R",
   "language": "R",
   "name": "ir"
  },
  "language_info": {
   "codemirror_mode": "r",
   "file_extension": ".r",
   "mimetype": "text/x-r-source",
   "name": "R",
   "pygments_lexer": "r",
   "version": "3.2.2"
  }
 },
 "nbformat": 4,
 "nbformat_minor": 0
}
