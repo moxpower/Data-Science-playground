{
 "cells": [
  {
   "cell_type": "markdown",
   "metadata": {},
   "source": [
    "Problem:\n",
    "- überhöhte Bestände geführt\n",
    "- Engpässe\n",
    "- Auslastung Produktion kann nicht optimiert werden (Reduktion von Materialbeständen)\n",
    "- Langfristige Planung "
   ]
  },
  {
   "cell_type": "markdown",
   "metadata": {},
   "source": [
    "Aktuelles Vorgehen:\n",
    "- Hochrechnung von vorhandenen Daten\n",
    "- Prognosemodell\n",
    "- Berechnung von Planung und prog. Planung\n",
    "- prog. Planung an SAP übergeben\n",
    "- Problem: Bedarfsmengen nur teilweise vorhanden\n",
    "- Problem: Falsche Planungsdaten in einigen Ländern aus pol. Gründen"
   ]
  },
  {
   "cell_type": "markdown",
   "metadata": {},
   "source": [
    "Prognosemodell:\n",
    "- Exponentielle Glättung 1. Ordnung\n",
    "    - Glättungsfaktoren $\\alpha, \\beta, \\gamma$ sollen manuell als Einstellungsoption\n",
    "- Gewichteter gleitender Mittelwert\n",
    "- Trend\n",
    "- Trend/Saison\n",
    "    - 1/(T-$\\tau$) als Einstellungsoption\n",
    "- Selbstständig optimales Prognoseverfahren finden\n",
    "- Datenbereinigung\n",
    "- "
   ]
  },
  {
   "cell_type": "markdown",
   "metadata": {},
   "source": [
    "Daten\n",
    "- Materialnummer\n",
    "- Verbrauchsdaten\n",
    "- Kundennummer\n",
    "- Klassifizierung\n"
   ]
  },
  {
   "cell_type": "code",
   "execution_count": null,
   "metadata": {
    "collapsed": true
   },
   "outputs": [],
   "source": []
  }
 ],
 "metadata": {
  "kernelspec": {
   "display_name": "R",
   "language": "R",
   "name": "ir"
  },
  "language_info": {
   "codemirror_mode": "r",
   "file_extension": ".r",
   "mimetype": "text/x-r-source",
   "name": "R",
   "pygments_lexer": "r",
   "version": "3.2.2"
  }
 },
 "nbformat": 4,
 "nbformat_minor": 0
}
