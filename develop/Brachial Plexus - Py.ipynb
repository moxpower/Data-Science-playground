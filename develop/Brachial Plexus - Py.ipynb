{
 "cells": [
  {
   "cell_type": "markdown",
   "metadata": {},
   "source": [
    "<img src='https://upload.wikimedia.org/wikipedia/commons/3/3a/Gray808.png'>"
   ]
  },
  {
   "cell_type": "markdown",
   "metadata": {},
   "source": [
    "**Task**: segment a collection of nerves called the Brachial Plexus (BP) in ultrasound images"
   ]
  },
  {
   "cell_type": "markdown",
   "metadata": {
    "collapsed": true
   },
   "source": [
    "# visualization of prepared data"
   ]
  },
  {
   "cell_type": "code",
   "execution_count": 21,
   "metadata": {
    "collapsed": false
   },
   "outputs": [],
   "source": [
    "import numpy as np\n",
    "import pandas as pd\n",
    "\n",
    "imgs_id_test = np.load('../src/brachial/imgs_id_test.npy')\n",
    "imgs_mask_train = np.load('../src/brachial/imgs_mask_train.npy')\n",
    "imgs_test = np.load('../src/brachial/imgs_test.npy')\n",
    "imgs_train = np.load('../src/brachial/imgs_train.npy')"
   ]
  },
  {
   "cell_type": "markdown",
   "metadata": {},
   "source": [
    "**id** of each test picture:"
   ]
  },
  {
   "cell_type": "code",
   "execution_count": 4,
   "metadata": {
    "collapsed": false
   },
   "outputs": [
    {
     "data": {
      "text/plain": [
       "array([ 1, 10,  2,  3,  4,  5,  6,  7,  8,  9])"
      ]
     },
     "execution_count": 4,
     "metadata": {},
     "output_type": "execute_result"
    }
   ],
   "source": [
    "imgs_id_test"
   ]
  },
  {
   "cell_type": "markdown",
   "metadata": {},
   "source": [
    "test img **representation**"
   ]
  },
  {
   "cell_type": "code",
   "execution_count": 64,
   "metadata": {
    "collapsed": false
   },
   "outputs": [
    {
     "ename": "ImportError",
     "evalue": "No module named 'matplotlib'",
     "output_type": "error",
     "traceback": [
      "\u001b[1;31m---------------------------------------------------------------------------\u001b[0m",
      "\u001b[1;31mImportError\u001b[0m                               Traceback (most recent call last)",
      "\u001b[1;32m<ipython-input-64-fa5920b104d3>\u001b[0m in \u001b[0;36m<module>\u001b[1;34m()\u001b[0m\n\u001b[0;32m      1\u001b[0m \u001b[0mdf_test\u001b[0m \u001b[1;33m=\u001b[0m \u001b[0mpd\u001b[0m\u001b[1;33m.\u001b[0m\u001b[0mPanel4D\u001b[0m\u001b[1;33m(\u001b[0m\u001b[0mimgs_test\u001b[0m\u001b[1;33m)\u001b[0m\u001b[1;33m\u001b[0m\u001b[0m\n\u001b[1;32m----> 2\u001b[1;33m \u001b[0mdf_test\u001b[0m\u001b[1;33m[\u001b[0m\u001b[1;36m1\u001b[0m\u001b[1;33m]\u001b[0m\u001b[1;33m[\u001b[0m\u001b[1;36m0\u001b[0m\u001b[1;33m]\u001b[0m\u001b[1;33m.\u001b[0m\u001b[0mhist\u001b[0m\u001b[1;33m(\u001b[0m\u001b[1;33m)\u001b[0m\u001b[1;33m\u001b[0m\u001b[0m\n\u001b[0m",
      "\u001b[1;32mc:\\users\\568377\\appdata\\local\\programs\\python\\python35-32\\lib\\site-packages\\pandas\\tools\\plotting.py\u001b[0m in \u001b[0;36mhist_frame\u001b[1;34m(data, column, by, grid, xlabelsize, xrot, ylabelsize, yrot, ax, sharex, sharey, figsize, layout, bins, **kwds)\u001b[0m\n\u001b[0;32m   2891\u001b[0m     fig, axes = _subplots(naxes=naxes, ax=ax, squeeze=False,\n\u001b[0;32m   2892\u001b[0m                           \u001b[0msharex\u001b[0m\u001b[1;33m=\u001b[0m\u001b[0msharex\u001b[0m\u001b[1;33m,\u001b[0m \u001b[0msharey\u001b[0m\u001b[1;33m=\u001b[0m\u001b[0msharey\u001b[0m\u001b[1;33m,\u001b[0m \u001b[0mfigsize\u001b[0m\u001b[1;33m=\u001b[0m\u001b[0mfigsize\u001b[0m\u001b[1;33m,\u001b[0m\u001b[1;33m\u001b[0m\u001b[0m\n\u001b[1;32m-> 2893\u001b[1;33m                           layout=layout)\n\u001b[0m\u001b[0;32m   2894\u001b[0m     \u001b[0m_axes\u001b[0m \u001b[1;33m=\u001b[0m \u001b[0m_flatten\u001b[0m\u001b[1;33m(\u001b[0m\u001b[0maxes\u001b[0m\u001b[1;33m)\u001b[0m\u001b[1;33m\u001b[0m\u001b[0m\n\u001b[0;32m   2895\u001b[0m \u001b[1;33m\u001b[0m\u001b[0m\n",
      "\u001b[1;32mc:\\users\\568377\\appdata\\local\\programs\\python\\python35-32\\lib\\site-packages\\pandas\\tools\\plotting.py\u001b[0m in \u001b[0;36m_subplots\u001b[1;34m(naxes, sharex, sharey, squeeze, subplot_kw, ax, layout, layout_type, **fig_kw)\u001b[0m\n\u001b[0;32m   3334\u001b[0m     \u001b[0mplt\u001b[0m\u001b[1;33m.\u001b[0m\u001b[0msubplots\u001b[0m\u001b[1;33m(\u001b[0m\u001b[1;36m2\u001b[0m\u001b[1;33m,\u001b[0m \u001b[1;36m2\u001b[0m\u001b[1;33m,\u001b[0m \u001b[0msubplot_kw\u001b[0m\u001b[1;33m=\u001b[0m\u001b[0mdict\u001b[0m\u001b[1;33m(\u001b[0m\u001b[0mpolar\u001b[0m\u001b[1;33m=\u001b[0m\u001b[1;32mTrue\u001b[0m\u001b[1;33m)\u001b[0m\u001b[1;33m)\u001b[0m\u001b[1;33m\u001b[0m\u001b[0m\n\u001b[0;32m   3335\u001b[0m     \"\"\"\n\u001b[1;32m-> 3336\u001b[1;33m     \u001b[1;32mimport\u001b[0m \u001b[0mmatplotlib\u001b[0m\u001b[1;33m.\u001b[0m\u001b[0mpyplot\u001b[0m \u001b[1;32mas\u001b[0m \u001b[0mplt\u001b[0m\u001b[1;33m\u001b[0m\u001b[0m\n\u001b[0m\u001b[0;32m   3337\u001b[0m \u001b[1;33m\u001b[0m\u001b[0m\n\u001b[0;32m   3338\u001b[0m     \u001b[1;32mif\u001b[0m \u001b[0msubplot_kw\u001b[0m \u001b[1;32mis\u001b[0m \u001b[1;32mNone\u001b[0m\u001b[1;33m:\u001b[0m\u001b[1;33m\u001b[0m\u001b[0m\n",
      "\u001b[1;31mImportError\u001b[0m: No module named 'matplotlib'"
     ]
    }
   ],
   "source": [
    "df_test = pd.Panel4D(imgs_test)\n",
    "df_test[1][0].hist()"
   ]
  },
  {
   "cell_type": "code",
   "execution_count": 56,
   "metadata": {
    "collapsed": false
   },
   "outputs": [
    {
     "data": {
      "text/html": [
       "<div>\n",
       "<table border=\"1\" class=\"dataframe\">\n",
       "  <thead>\n",
       "    <tr style=\"text-align: right;\">\n",
       "      <th></th>\n",
       "      <th>1</th>\n",
       "    </tr>\n",
       "  </thead>\n",
       "  <tbody>\n",
       "    <tr>\n",
       "      <th>415</th>\n",
       "      <td>42</td>\n",
       "    </tr>\n",
       "    <tr>\n",
       "      <th>416</th>\n",
       "      <td>42</td>\n",
       "    </tr>\n",
       "    <tr>\n",
       "      <th>417</th>\n",
       "      <td>42</td>\n",
       "    </tr>\n",
       "    <tr>\n",
       "      <th>418</th>\n",
       "      <td>42</td>\n",
       "    </tr>\n",
       "    <tr>\n",
       "      <th>419</th>\n",
       "      <td>42</td>\n",
       "    </tr>\n",
       "  </tbody>\n",
       "</table>\n",
       "</div>"
      ],
      "text/plain": [
       "      1\n",
       "415  42\n",
       "416  42\n",
       "417  42\n",
       "418  42\n",
       "419  42"
      ]
     },
     "execution_count": 56,
     "metadata": {},
     "output_type": "execute_result"
    }
   ],
   "source": [
    "sorted(df_test[1][0][1].unique())\n",
    "dfr_test = pd.DataFrame(df_test[1][0][1])\n",
    "dfr_test.tail()"
   ]
  },
  {
   "cell_type": "code",
   "execution_count": 19,
   "metadata": {
    "collapsed": false
   },
   "outputs": [
    {
     "data": {
      "text/plain": [
       "((10, 1, 420, 580),\n",
       " array([  0, 255, 255, 255, 255, 255, 255, 255, 255, 255, 255, 250, 240,\n",
       "        244, 246, 245, 239, 236, 238, 240, 246, 250, 255, 252, 244, 239,\n",
       "        245, 250, 254, 255, 255, 255, 255, 251, 248, 247, 247, 246, 245,\n",
       "        247, 250, 247, 239, 243, 250, 253, 255, 255, 255, 255, 255, 255,\n",
       "        255, 255, 255, 255, 255, 255, 255, 255, 255, 255, 255, 255, 255,\n",
       "        251, 248, 247, 246, 246, 246, 241, 241, 246, 255, 255, 255, 255,\n",
       "        244, 240, 244, 248, 255, 255, 255, 255, 244, 248, 255, 255, 255,\n",
       "        255, 255, 255, 255, 255, 255, 255, 255, 255, 255, 255, 255, 255,\n",
       "        255, 253, 250, 247, 245, 245, 247, 251, 255, 255, 255, 255, 255,\n",
       "        255, 255, 255, 255, 255, 255, 255, 255, 255, 255, 255, 255, 255,\n",
       "        255, 255, 255, 255, 255, 255, 255, 255, 255, 255, 255, 255, 255,\n",
       "        255, 255, 255, 255, 255, 255, 255, 255, 255, 255, 255, 255, 255,\n",
       "        255, 255, 255, 255, 255, 254, 251, 250, 248, 248, 255, 255, 255,\n",
       "        255, 255, 255, 250, 247, 255, 253, 246, 243, 243, 246, 255, 255,\n",
       "        255, 255, 255, 255, 247, 247, 247, 247, 251, 245, 251, 255, 255,\n",
       "        255, 255, 255, 255, 255, 255, 255, 255, 255, 255, 255, 255, 255,\n",
       "        255, 255, 255, 255, 255, 255, 252, 244, 244, 252, 255, 255, 255,\n",
       "        254, 238, 239, 241, 244, 248, 252, 255, 255, 255, 255, 248, 244,\n",
       "        247, 248, 252, 253, 252, 248, 243, 239, 238, 237, 233, 231, 231,\n",
       "        230, 230, 230, 231, 231, 232, 233, 233, 233, 235, 235, 244, 246,\n",
       "        252, 254, 255, 255, 255, 255, 255, 255, 255, 255, 255, 255, 255,\n",
       "        255, 255, 255, 255, 255, 255, 255, 255, 255, 255, 255, 255, 255,\n",
       "        255, 255, 255, 255, 255, 255, 249, 242, 123,  96, 193, 201, 231,\n",
       "        229, 222, 219, 204, 207, 210, 212, 211, 207, 196, 195, 121, 116,\n",
       "        206, 206, 235, 239, 241, 240, 237, 232, 228, 228, 230, 235, 244,\n",
       "        250, 255, 253, 246, 241, 233, 232, 230, 229, 229, 232, 236, 237,\n",
       "        234, 235, 229, 222, 207, 212, 220, 225, 239, 239, 239, 239, 229,\n",
       "        225, 215, 211, 210, 210, 210, 210, 187, 184, 178, 176, 185, 189,\n",
       "        194, 197, 183, 186, 193, 197, 199, 198, 189, 183, 162, 159, 157,\n",
       "        156, 165, 175, 192, 201, 208, 207, 204, 203, 210, 218, 235, 244,\n",
       "        244, 241, 241, 246, 255, 255, 255, 255, 255, 255, 255, 255, 255,\n",
       "        255, 255, 255, 255, 255, 255, 255, 255, 255, 255, 255, 255, 255,\n",
       "        255, 255, 255, 255, 255, 255, 255, 255, 255, 255, 255, 255, 255,\n",
       "        255, 255, 255, 251, 248, 253, 255, 255, 255, 255, 255, 255, 255,\n",
       "        255, 255, 255, 251, 247, 247, 250, 251, 243, 235, 235, 243, 244,\n",
       "        248, 255, 255, 255, 255, 255, 253, 250, 251, 255, 255, 255, 255,\n",
       "        255, 254, 246, 243, 248, 254, 255, 255, 255, 255, 255, 255, 255,\n",
       "        255, 255, 249, 234, 226, 215, 218, 221, 222, 212, 211, 213, 217,\n",
       "        232, 235, 240, 241, 240, 239, 237, 237, 249, 255, 255, 255, 255,\n",
       "        247, 244, 251, 255, 255, 255, 255, 255, 255, 255, 255, 255, 248,\n",
       "        234, 226, 213, 205, 203, 207, 217, 220, 225, 226, 226, 222, 215,\n",
       "        213, 226, 227, 232, 235, 239, 241, 241, 240, 241, 242, 244, 244,\n",
       "        240, 233, 219, 211, 213, 224, 229, 225, 206, 189, 172, 172, 182,\n",
       "        185, 194, 199, 199, 192, 193, 200, 203, 203, 204, 205, 194, 191,\n",
       "        184, 182, 182, 184, 186, 185, 177, 172], dtype=uint8))"
      ]
     },
     "execution_count": 19,
     "metadata": {},
     "output_type": "execute_result"
    }
   ],
   "source": [
    "imgs_test.shape, imgs_test[1][0][1]"
   ]
  },
  {
   "cell_type": "code",
   "execution_count": null,
   "metadata": {
    "collapsed": true
   },
   "outputs": [],
   "source": []
  },
  {
   "cell_type": "markdown",
   "metadata": {},
   "source": [
    "train mask"
   ]
  },
  {
   "cell_type": "code",
   "execution_count": 12,
   "metadata": {
    "collapsed": false
   },
   "outputs": [
    {
     "data": {
      "text/plain": [
       "(numpy.ndarray, (12, 1, 420, 580))"
      ]
     },
     "execution_count": 12,
     "metadata": {},
     "output_type": "execute_result"
    }
   ],
   "source": [
    "type(imgs_mask_train), (imgs_mask_train.shape)"
   ]
  },
  {
   "cell_type": "code",
   "execution_count": null,
   "metadata": {
    "collapsed": true
   },
   "outputs": [],
   "source": [
    "\n"
   ]
  }
 ],
 "metadata": {
  "kernelspec": {
   "display_name": "Python 3",
   "language": "python",
   "name": "python3"
  },
  "language_info": {
   "codemirror_mode": {
    "name": "ipython",
    "version": 3
   },
   "file_extension": ".py",
   "mimetype": "text/x-python",
   "name": "python",
   "nbconvert_exporter": "python",
   "pygments_lexer": "ipython3",
   "version": "3.5.1"
  }
 },
 "nbformat": 4,
 "nbformat_minor": 0
}
