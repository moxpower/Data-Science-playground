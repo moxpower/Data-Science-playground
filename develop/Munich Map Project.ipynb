{
 "cells": [
  {
   "cell_type": "markdown",
   "metadata": {
    "collapsed": true
   },
   "source": [
    "- https://bost.ocks.org/mike/leaflet/\n",
    "\n",
    "- nice maps: qmap https://journal.r-project.org/archive/2013-1/kahle-wickham.pdf\n",
    "- voronoi maps: http://flowingdata.com/2016/04/12/voronoi-diagram-and-delaunay-triangulation-in-r/\n",
    "- simple voronoi: http://letstalkdata.com/2014/05/creating-voronoi-diagrams-with-ggplot/\n",
    "- **Voronoi in maps**: https://www.r-bloggers.com/making-staticinteractive-voronoi-map-layers-in-ggplotleaflet/\n",
    "- **cool examples**: http://rstudio-pubs-static.s3.amazonaws.com/10823_e15ce99b55424ac9ad57c2ca11bf636c.html\n",
    "- map with long, lat range: http://stackoverflow.com/questions/17843580/how-to-get-a-map-within-the-latitude-and-longitude-range\n",
    "- spatial maps: http://bcb.dfci.harvard.edu/~aedin/courses/R/CDC/maps.html\n",
    "- mapping d3js: https://maptimeboston.github.io/d3-maptime/#/87\n",
    "\n",
    "- Duane,Read example: http://iquantny.tumblr.com/post/91809411809/mapping-duane-reade-a-look-at-nycs-drugstore\n"
   ]
  },
  {
   "cell_type": "markdown",
   "metadata": {},
   "source": [
    "Google API\n",
    "- "
   ]
  },
  {
   "cell_type": "code",
   "execution_count": null,
   "metadata": {
    "collapsed": true
   },
   "outputs": [],
   "source": [
    "Ideas:\n",
    "- MonteCarlo calculate mean walking distance to store https://www.r-bloggers.com/placement-an-r-package-to-access-the-google-maps-api/"
   ]
  },
  {
   "cell_type": "code",
   "execution_count": null,
   "metadata": {
    "collapsed": true
   },
   "outputs": [],
   "source": []
  },
  {
   "cell_type": "code",
   "execution_count": null,
   "metadata": {
    "collapsed": true
   },
   "outputs": [],
   "source": []
  },
  {
   "cell_type": "code",
   "execution_count": null,
   "metadata": {
    "collapsed": true
   },
   "outputs": [],
   "source": [
    "replace green parts in map with black"
   ]
  },
  {
   "cell_type": "code",
   "execution_count": null,
   "metadata": {
    "collapsed": true
   },
   "outputs": [],
   "source": [
    "require(ggplot2)\n",
    "require(ggmap)\n",
    "require(deldir) #for voronoi\n",
    "require(rgeos)\n",
    "setwd(\"C:\\\\Users\\\\568377\\\\Cognizant\\\\Munich Map\")\n",
    "#png(file=\"muc2.png\",800,800)\n",
    "\n",
    "# Supermarket Voronois:\n",
    "lat <- c(48.1320456, 48.1415466, 48.1296192)\n",
    "long <- c(11.5474201, 11.5694688, 11.5836718)\n",
    "df <- data.frame(lat,long)\n",
    "df <- data.frame(lat = rnorm(20,48.1320456,0.02),long = rnorm(20,11.5474201,0.01))\n",
    "voronoi <- deldir(df$long, df$lat)\n",
    "vv <- apply(voronoi$dirsgs, 1, FUN=function(X) {\n",
    "  readWKT(sprintf(\"LINESTRING(%s %s, %s %s)\", X[1], X[2], X[3], X[4]))\n",
    "})\n",
    "pp <- gPolygonize(vv)\n",
    "wp <- fortify(pp)\n",
    "\n",
    "# Munich map\n",
    "q <- get_map(\"Munich\", zoom=13, source=\"stamen\", maptype=\"watercolor\")\n",
    "basemap <- ggmap(q, extent=\"device\")\n",
    "\n",
    "# Plot\n",
    "basemap + geom_polygon(aes(x = long, y = lat, group = group, fill = id), data = wp, alpha=0.5) +geom_point(data=df, aes(x=long, y=lat), color=\"black\", size=2, alpha=0.5)\n",
    "graphics.off()\n"
   ]
  }
 ],
 "metadata": {
  "anaconda-cloud": {},
  "kernelspec": {
   "display_name": "R",
   "language": "R",
   "name": "ir"
  }
 },
 "nbformat": 4,
 "nbformat_minor": 0
}
