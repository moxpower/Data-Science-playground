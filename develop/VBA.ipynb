{
 "cells": [
  {
   "cell_type": "markdown",
   "metadata": {},
   "source": [
    "- Shift cells\n",
    "- List comments\n",
    "- Show all relationships between cells"
   ]
  },
  {
   "cell_type": "markdown",
   "metadata": {},
   "source": [
    "# Shift cells"
   ]
  },
  {
   "cell_type": "code",
   "execution_count": null,
   "metadata": {
    "collapsed": true
   },
   "outputs": [],
   "source": [
    "Sub Shift()\n",
    "    ActiveCell.Select\n",
    "    Selection.Cut\n",
    "    ActiveCell.Offset(-1, 1).Select\n",
    "    ActiveSheet.Paste\n",
    "    ActiveCell.Offset(2, -1).Select\n",
    "    Selection.Cut\n",
    "    ActiveCell.Offset(-2, 2).Select\n",
    "    ActiveSheet.Paste\n",
    "    ActiveCell.Offset(4, -2).Select\n",
    "End Sub"
   ]
  },
  {
   "cell_type": "markdown",
   "metadata": {},
   "source": [
    "# List comments"
   ]
  },
  {
   "cell_type": "code",
   "execution_count": null,
   "metadata": {
    "collapsed": true
   },
   "outputs": [],
   "source": [
    "Sub ShowCommentsAllSheets()\n",
    "'Source: https://www.extendoffice.com/documents/excel/679-list-all-comments-workbook.html\n",
    "Dim commrange As Range\n",
    "Dim rng As Range\n",
    "Dim ws As Worksheet\n",
    "Dim newWs As Worksheet\n",
    "Set newWs = Application.Worksheets.Add\n",
    "newWs.Range(\"A1\").Resize(1, 4).Value = Array(\"Sheet\", \"Address\", \"Value\", \"Comment\")\n",
    "Application.ScreenUpdating = False\n",
    "On Error Resume Next\n",
    "For Each ws In Application.ActiveWorkbook.Worksheets\n",
    "    Set commrange = ws.Cells.SpecialCells(xlCellTypeComments)\n",
    "    If Not commrange Is Nothing Then\n",
    "        i = newWs.Cells(Rows.Count, 1).End(xlUp).Row\n",
    "        For Each rng In commrange\n",
    "            i = i + 1\n",
    "            newWs.Cells(i, 1).Resize(1, 4).Value = Array(ws.Name, rng.Address, rng.Value, rng.Comment.Text)\n",
    "        Next\n",
    "    End If\n",
    "    Set commrange = Nothing\n",
    "Next\n",
    "newWs.Cells.WrapText = False\n",
    "Application.ScreenUpdating = True\n",
    "End Sub"
   ]
  },
  {
   "cell_type": "markdown",
   "metadata": {},
   "source": [
    "# Show all relationships between cells"
   ]
  },
  {
   "cell_type": "markdown",
   "metadata": {},
   "source": [
    "https://support.office.com/en-us/article/Display-the-relationships-between-formulas-and-cells-a59bef2b-3701-46bf-8ff1-d3518771d507"
   ]
  },
  {
   "cell_type": "code",
   "execution_count": null,
   "metadata": {
    "collapsed": true
   },
   "outputs": [],
   "source": []
  }
 ],
 "metadata": {
  "anaconda-cloud": {},
  "kernelspec": {
   "display_name": "Python [Root]",
   "language": "python",
   "name": "Python [Root]"
  },
  "language_info": {
   "codemirror_mode": {
    "name": "ipython",
    "version": 3
   },
   "file_extension": ".py",
   "mimetype": "text/x-python",
   "name": "python",
   "nbconvert_exporter": "python",
   "pygments_lexer": "ipython3",
   "version": "3.5.2"
  }
 },
 "nbformat": 4,
 "nbformat_minor": 0
}
