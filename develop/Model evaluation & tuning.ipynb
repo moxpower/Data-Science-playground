{
 "cells": [
  {
   "cell_type": "markdown",
   "metadata": {},
   "source": [
    "# How accurate does the model predict class A?\n",
    "(Quality of a binary test)"
   ]
  },
  {
   "cell_type": "markdown",
   "metadata": {},
   "source": [
    "When A, rate of detection: True positive rate <font color='blue'>**Recall/Sensitivity**</font>\n",
    "\n",
    "When NOT-A, rate of detection: True negatives rate <font color='blue'>**Specificity**</font>\n",
    "\n",
    "### <center>Confusion matrix</center>\n",
    "![title](../img/ROC.png)"
   ]
  },
  {
   "cell_type": "markdown",
   "metadata": {},
   "source": [
    "## ROC curve\n",
    "(How good are True positives and False positives separated)\n",
    "\n",
    "[Info](https://www.medcalc.org/manual/roc-curves.php)\n",
    "[Explanation](https://www.youtube.com/watch?v=21Igj5Pr6u4)"
   ]
  },
  {
   "cell_type": "markdown",
   "metadata": {},
   "source": [
    "![roc curve](../img/roc_curve.png)"
   ]
  },
  {
   "cell_type": "markdown",
   "metadata": {},
   "source": [
    "*(1-spec)* : When Not-A, rate of false positives: False positive rate "
   ]
  },
  {
   "cell_type": "markdown",
   "metadata": {},
   "source": [
    "<img src=\"../img/sens-spec.png\" width=\"400\">"
   ]
  },
  {
   "cell_type": "markdown",
   "metadata": {},
   "source": [
    "<img src=\"../img/AUC.png\" width=\"400\">"
   ]
  },
  {
   "cell_type": "code",
   "execution_count": null,
   "metadata": {
    "collapsed": true
   },
   "outputs": [],
   "source": []
  }
 ],
 "metadata": {
  "kernelspec": {
   "display_name": "R",
   "language": "R",
   "name": "ir"
  },
  "language_info": {
   "codemirror_mode": "r",
   "file_extension": ".r",
   "mimetype": "text/x-r-source",
   "name": "R",
   "pygments_lexer": "r",
   "version": "3.2.2"
  }
 },
 "nbformat": 4,
 "nbformat_minor": 0
}
