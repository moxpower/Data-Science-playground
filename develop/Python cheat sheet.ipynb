{
 "cells": [
  {
   "cell_type": "markdown",
   "metadata": {
    "toc": true
   },
   "source": [
    "<h1>Table of Contents<span class=\"tocSkip\"></span></h1>\n",
    "<div class=\"toc\" style=\"margin-top: 1em;\"><ul class=\"toc-item\"><li><span><a href=\"#Cheat-sheets\" data-toc-modified-id=\"Cheat-sheets-1\">Cheat sheets</a></span></li><li><span><a href=\"#Documentation\" data-toc-modified-id=\"Documentation-2\">Documentation</a></span></li><li><span><a href=\"#Object-orientation\" data-toc-modified-id=\"Object-orientation-3\">Object orientation</a></span><ul class=\"toc-item\"><li><span><a href=\"#Classes\" data-toc-modified-id=\"Classes-3.1\">Classes</a></span></li><li><span><a href=\"#Methods\" data-toc-modified-id=\"Methods-3.2\">Methods</a></span></li></ul></li><li><span><a href=\"#Python-commands\" data-toc-modified-id=\"Python-commands-4\">Python commands</a></span><ul class=\"toc-item\"><li><span><a href=\"#Logic\" data-toc-modified-id=\"Logic-4.1\">Logic</a></span></li><li><span><a href=\"#Navigation\" data-toc-modified-id=\"Navigation-4.2\">Navigation</a></span><ul class=\"toc-item\"><li><ul class=\"toc-item\"><li><span><a href=\"#Directory\" data-toc-modified-id=\"Directory-4.2.0.1\">Directory</a></span></li><li><span><a href=\"#Comment\" data-toc-modified-id=\"Comment-4.2.0.2\">Comment</a></span></li><li><span><a href=\"#Import-&amp;-export-files\" data-toc-modified-id=\"Import-&amp;-export-files-4.2.0.3\">Import &amp; export files</a></span></li><li><span><a href=\"#Execute-other-files\" data-toc-modified-id=\"Execute-other-files-4.2.0.4\">Execute other files</a></span></li></ul></li></ul></li><li><span><a href=\"#Inspect-Objects\" data-toc-modified-id=\"Inspect-Objects-4.3\">Inspect Objects</a></span></li><li><span><a href=\"#Arrays\" data-toc-modified-id=\"Arrays-4.4\">Arrays</a></span></li><li><span><a href=\"#DataFrames\" data-toc-modified-id=\"DataFrames-4.5\">DataFrames</a></span></li><li><span><a href=\"#Dict\" data-toc-modified-id=\"Dict-4.6\">Dict</a></span></li><li><span><a href=\"#Strings\" data-toc-modified-id=\"Strings-4.7\">Strings</a></span></li><li><span><a href=\"#Lists-&amp;-List-Comprehension\" data-toc-modified-id=\"Lists-&amp;-List-Comprehension-4.8\">Lists &amp; List Comprehension</a></span></li><li><span><a href=\"#Functions\" data-toc-modified-id=\"Functions-4.9\">Functions</a></span></li><li><span><a href=\"#Loops\" data-toc-modified-id=\"Loops-4.10\">Loops</a></span></li><li><span><a href=\"#Time\" data-toc-modified-id=\"Time-4.11\">Time</a></span></li></ul></li><li><span><a href=\"#Machine-Learning\" data-toc-modified-id=\"Machine-Learning-5\">Machine Learning</a></span><ul class=\"toc-item\"><li><span><a href=\"#NLP-\" data-toc-modified-id=\"NLP--5.1\">NLP <a id=\"nlp\"></a></a></span><ul class=\"toc-item\"><li><span><a href=\"#LDA---Latent-Dirichlet-Allocation-\" data-toc-modified-id=\"LDA---Latent-Dirichlet-Allocation--5.1.1\">LDA - Latent Dirichlet Allocation <a id=\"nlp\"></a></a></span></li><li><span><a href=\"#Word-Embedding\" data-toc-modified-id=\"Word-Embedding-5.1.2\">Word Embedding</a></span></li></ul></li></ul></li><li><span><a href=\"#Libraries\" data-toc-modified-id=\"Libraries-6\">Libraries</a></span><ul class=\"toc-item\"><li><ul class=\"toc-item\"><li><span><a href=\"#Regex\" data-toc-modified-id=\"Regex-6.0.1\">Regex</a></span></li></ul></li><li><span><a href=\"#For-Piping\" data-toc-modified-id=\"For-Piping-6.1\">For Piping</a></span><ul class=\"toc-item\"><li><span><a href=\"#dfply\" data-toc-modified-id=\"dfply-6.1.1\">dfply</a></span></li><li><span><a href=\"#pandas-ply\" data-toc-modified-id=\"pandas-ply-6.1.2\">pandas-ply</a></span></li><li><span><a href=\"#dplython\" data-toc-modified-id=\"dplython-6.1.3\">dplython</a></span></li><li><span><a href=\"#Pipe\" data-toc-modified-id=\"Pipe-6.1.4\">Pipe</a></span></li></ul></li><li><span><a href=\"#Missingno---Data-Completeness\" data-toc-modified-id=\"Missingno---Data-Completeness-6.2\">Missingno - Data Completeness</a></span></li><li><span><a href=\"#Pandas\" data-toc-modified-id=\"Pandas-6.3\">Pandas</a></span><ul class=\"toc-item\"><li><ul class=\"toc-item\"><li><span><a href=\"#Import\" data-toc-modified-id=\"Import-6.3.0.1\">Import</a></span></li><li><span><a href=\"#group-by\" data-toc-modified-id=\"group-by-6.3.0.2\">group by</a></span></li><li><span><a href=\"#Print-library-documentation:\" data-toc-modified-id=\"Print-library-documentation:-6.3.0.3\">Print library documentation:</a></span></li></ul></li></ul></li></ul></li><li><span><a href=\"#Google-API\" data-toc-modified-id=\"Google-API-7\">Google API</a></span></li><li><span><a href=\"#Virtual-Environments\" data-toc-modified-id=\"Virtual-Environments-8\">Virtual Environments</a></span></li><li><span><a href=\"#Pip\" data-toc-modified-id=\"Pip-9\">Pip</a></span></li><li><span><a href=\"#Unit-test\" data-toc-modified-id=\"Unit-test-10\">Unit test</a></span><ul class=\"toc-item\"><li><ul class=\"toc-item\"><li><span><a href=\"#Scrapy-unit-testing\" data-toc-modified-id=\"Scrapy-unit-testing-10.0.1\">Scrapy unit testing</a></span></li></ul></li></ul></li><li><span><a href=\"#Visualisation\" data-toc-modified-id=\"Visualisation-11\">Visualisation</a></span></li><li><span><a href=\"#Tools\" data-toc-modified-id=\"Tools-12\">Tools</a></span></li><li><span><a href=\"#Sublime\" data-toc-modified-id=\"Sublime-13\">Sublime</a></span></li><li><span><a href=\"#jupyter-notebook\" data-toc-modified-id=\"jupyter-notebook-14\">jupyter notebook</a></span><ul class=\"toc-item\"><li><ul class=\"toc-item\"><li><span><a href=\"#Embed-videos\" data-toc-modified-id=\"Embed-videos-14.0.1\">Embed videos</a></span></li></ul></li></ul></li><li><span><a href=\"#Scrapy\" data-toc-modified-id=\"Scrapy-15\">Scrapy</a></span></li></ul></div>"
   ]
  },
  {
   "cell_type": "markdown",
   "metadata": {},
   "source": [
    "<img src='../img/python.jpg' width=600>"
   ]
  },
  {
   "cell_type": "markdown",
   "metadata": {
    "collapsed": true
   },
   "source": [
    "Pythonic python!"
   ]
  },
  {
   "cell_type": "markdown",
   "metadata": {},
   "source": [
    "<a id='cheat'></a>\n",
    "# Cheat sheets"
   ]
  },
  {
   "cell_type": "markdown",
   "metadata": {},
   "source": [
    "- https://github.com/adam-p/markdown-here/wiki/Markdown-Cheatsheet\n",
    "- [Organize python environment](https://medium.com/@henriquebastos/the-definitive-guide-to-setup-my-python-workspace-628d68552e14#.sp4hu5df4)"
   ]
  },
  {
   "cell_type": "markdown",
   "metadata": {},
   "source": [
    "# Documentation"
   ]
  },
  {
   "cell_type": "code",
   "execution_count": null,
   "metadata": {},
   "outputs": [],
   "source": [
    "https://swcarpentry.github.io/2014-01-31-ucsb/lessons/jk-python/reproducible_workflow.html\n",
    "    "
   ]
  },
  {
   "cell_type": "markdown",
   "metadata": {},
   "source": [
    "<a id='Objects'></a>\n",
    "# Object orientation"
   ]
  },
  {
   "cell_type": "markdown",
   "metadata": {},
   "source": [
    "## Classes"
   ]
  },
  {
   "cell_type": "markdown",
   "metadata": {},
   "source": [
    "## Methods"
   ]
  },
  {
   "cell_type": "code",
   "execution_count": null,
   "metadata": {
    "collapsed": true
   },
   "outputs": [],
   "source": [
    "@staticmethod\n",
    "# A staticmethod is a way of putting a function into a class (because it logically belongs there), while indicating that it does not require access to the class\n",
    "# A staticmethod does not reference to the instance of the class"
   ]
  },
  {
   "cell_type": "markdown",
   "metadata": {},
   "source": [
    "<a id='Python commands'></a>\n",
    "# Python commands"
   ]
  },
  {
   "cell_type": "markdown",
   "metadata": {},
   "source": [
    "## Logic"
   ]
  },
  {
   "cell_type": "code",
   "execution_count": null,
   "metadata": {},
   "outputs": [],
   "source": []
  },
  {
   "cell_type": "markdown",
   "metadata": {
    "heading_collapsed": true
   },
   "source": [
    "## Navigation"
   ]
  },
  {
   "cell_type": "markdown",
   "metadata": {
    "hidden": true
   },
   "source": [
    "<a id='dir'></a>\n",
    "#### Directory"
   ]
  },
  {
   "cell_type": "code",
   "execution_count": null,
   "metadata": {
    "collapsed": true,
    "hidden": true
   },
   "outputs": [],
   "source": [
    "# List all files in directory\n",
    "import os\n",
    "os.listdir()"
   ]
  },
  {
   "cell_type": "code",
   "execution_count": null,
   "metadata": {
    "collapsed": true,
    "hidden": true
   },
   "outputs": [],
   "source": [
    "# list all files in directory\n",
    "goble.goble()"
   ]
  },
  {
   "cell_type": "code",
   "execution_count": null,
   "metadata": {
    "collapsed": true,
    "hidden": true
   },
   "outputs": [],
   "source": [
    "# join paths\n",
    "rea\n",
    "dir = \"C:/Users/568377/Cognizant/Data Science/kaggle/Bimbo Bread/submissions/\"\n",
    "os.path.join(dir, \"submission_2.csv\")\n",
    "# join multiple paths\n",
    "os.path.join(dir, 'relative','path','to','file','you','want')\n",
    "\n",
    "# set directory\n",
    "os.chdir(dir)"
   ]
  },
  {
   "cell_type": "code",
   "execution_count": null,
   "metadata": {
    "collapsed": true,
    "hidden": true
   },
   "outputs": [],
   "source": [
    "# Test if file exists\n",
    "import os.path\n",
    "os.path.isfile(fname) "
   ]
  },
  {
   "cell_type": "markdown",
   "metadata": {
    "hidden": true
   },
   "source": [
    "#### Comment"
   ]
  },
  {
   "cell_type": "code",
   "execution_count": null,
   "metadata": {
    "collapsed": true,
    "hidden": true
   },
   "outputs": [],
   "source": [
    "# comment line\n",
    "\"\"\"\n",
    "multiline comment\n",
    "\"\"\""
   ]
  },
  {
   "cell_type": "markdown",
   "metadata": {
    "hidden": true
   },
   "source": [
    "#### Import & export files"
   ]
  },
  {
   "cell_type": "code",
   "execution_count": null,
   "metadata": {
    "collapsed": true,
    "hidden": true
   },
   "outputs": [],
   "source": [
    "# save as csv\n",
    "with open(filename, 'wb') as f:\n",
    "    f.write(response.body)\n",
    "    \n",
    "# write integers to csv\n",
    "with open(\"logs.csv\", 'w') as f:\n",
    "    writer = csv.writer(f)\n",
    "    writer.writerows(zip(itertools.repeat(logging.INFO,1),itertools.repeat(logging.INFO)))"
   ]
  },
  {
   "cell_type": "markdown",
   "metadata": {
    "hidden": true
   },
   "source": [
    "#### Execute other files"
   ]
  },
  {
   "cell_type": "code",
   "execution_count": null,
   "metadata": {
    "collapsed": true,
    "hidden": true
   },
   "outputs": [],
   "source": [
    "#service.py\n",
    "import test1\n",
    "\n",
    "def service_func():\n",
    "    print(\"service func\")\n",
    "\n",
    "if __name__ == '__main__':\n",
    "    # service.py executed as script\n",
    "    # do something\n",
    "    service_func()\n",
    "    test1.some_func()\n",
    "\n",
    "#test1.py\n",
    "def some_func():\n",
    "    print(\"some func\")\n",
    "    \n",
    "if __name__ == '__main__':\n",
    "    # test1.py executed as script\n",
    "    # do something\n",
    "    some_func()"
   ]
  },
  {
   "cell_type": "code",
   "execution_count": null,
   "metadata": {
    "collapsed": true,
    "hidden": true
   },
   "outputs": [],
   "source": [
    "# Open plist file\n",
    "import plistlib\n",
    "pl = plistlib.readPlist(\"categories.plist\")"
   ]
  },
  {
   "cell_type": "markdown",
   "metadata": {
    "hidden": true
   },
   "source": [
    "<a id='inspect'></a>\n",
    "[back to top](#top)\n",
    "## Inspect Objects"
   ]
  },
  {
   "cell_type": "code",
   "execution_count": null,
   "metadata": {
    "collapsed": true,
    "hidden": true
   },
   "outputs": [],
   "source": [
    "type()\n",
    "dir()\n",
    "id()\n",
    "getattr()\n",
    "hasattr()\n",
    "globals()\n",
    "locals()\n",
    "callable()"
   ]
  },
  {
   "cell_type": "code",
   "execution_count": null,
   "metadata": {
    "collapsed": true,
    "hidden": true
   },
   "outputs": [],
   "source": []
  },
  {
   "cell_type": "markdown",
   "metadata": {
    "hidden": true
   },
   "source": [
    "<a id='arr'></a>\n",
    "[back to top](#top)\n",
    "## Arrays"
   ]
  },
  {
   "cell_type": "code",
   "execution_count": null,
   "metadata": {
    "collapsed": true,
    "hidden": true
   },
   "outputs": [],
   "source": [
    "# Dimensions\n",
    "import numpy as np\n",
    "arr = [[1,2],[1,2]]\n",
    "arr = np.array(arr)\n",
    "arr.shape"
   ]
  },
  {
   "cell_type": "markdown",
   "metadata": {
    "hidden": true
   },
   "source": [
    "**Filter first column** of multicolumn array"
   ]
  },
  {
   "cell_type": "code",
   "execution_count": null,
   "metadata": {
    "collapsed": true,
    "hidden": true
   },
   "outputs": [],
   "source": [
    "arr[:,0]"
   ]
  },
  {
   "cell_type": "markdown",
   "metadata": {},
   "source": [
    "## DataFrames"
   ]
  },
  {
   "cell_type": "code",
   "execution_count": null,
   "metadata": {
    "collapsed": true
   },
   "outputs": [],
   "source": [
    "# Create DataFrame\n",
    "df= pd.DataFrame(columns=['a','b'])\n",
    "\n",
    "# Append line\n",
    "df.loc[len(df)] = [\"hey\",\"value\"]\n",
    "\n",
    "# Append DataFrame\n",
    "df = df1.append([df2,df3,df4] , ignore_index=True)\n",
    "\n",
    "# export to csv\n",
    "df.to_csv(\"logs.csv\", sep='\\t', encoding='utf-8', index=False)\n",
    "\n",
    "# Describe DataFrame\n"
   ]
  },
  {
   "cell_type": "markdown",
   "metadata": {},
   "source": [
    "## Dict"
   ]
  },
  {
   "cell_type": "markdown",
   "metadata": {},
   "source": [
    "**Find** item in dict on value of subitem:"
   ]
  },
  {
   "cell_type": "code",
   "execution_count": null,
   "metadata": {
    "collapsed": true
   },
   "outputs": [],
   "source": [
    "my_dict = {\"Max\":{'age':27,'ec':'blue'}, \"Evi\":{'age':33,'ec':'blue'}}\n",
    "for key, item in my_dict.items():\n",
    "    if item['age'] == 27:\n",
    "        print key, \": eye color\", item['ec']"
   ]
  },
  {
   "cell_type": "markdown",
   "metadata": {},
   "source": [
    "**Remove** dict items:"
   ]
  },
  {
   "cell_type": "code",
   "execution_count": null,
   "metadata": {
    "collapsed": true,
    "scrolled": true
   },
   "outputs": [],
   "source": [
    "my_dict.pop(\"Max\", 0)"
   ]
  },
  {
   "cell_type": "markdown",
   "metadata": {},
   "source": [
    "**Transform** Dict to list:"
   ]
  },
  {
   "cell_type": "code",
   "execution_count": null,
   "metadata": {
    "collapsed": true
   },
   "outputs": [],
   "source": [
    "def dict_to_list(key,normalizer):\n",
    "    new_list=[]\n",
    "\n",
    "    for i in data_dict:\n",
    "        if data_dict[i][key]==\"NaN\" or data_dict[i][normalizer]==\"NaN\":\n",
    "            new_list.append(0.)\n",
    "        elif data_dict[i][key]>=0:\n",
    "            new_list.append(float(data_dict[i][key])/float(data_dict[i][normalizer]))\n",
    "    return new_list"
   ]
  },
  {
   "cell_type": "code",
   "execution_count": null,
   "metadata": {
    "collapsed": true
   },
   "outputs": [],
   "source": [
    "#Transform string to float\n",
    "df['col'] = df['col'].astype(float)"
   ]
  },
  {
   "cell_type": "markdown",
   "metadata": {},
   "source": [
    "## Strings"
   ]
  },
  {
   "cell_type": "code",
   "execution_count": null,
   "metadata": {
    "collapsed": true
   },
   "outputs": [],
   "source": [
    "# join strings\n",
    "''.join(string)\n",
    "\n",
    "# strip strings\n",
    "string.strip()"
   ]
  },
  {
   "cell_type": "markdown",
   "metadata": {},
   "source": [
    "## Lists & List Comprehension"
   ]
  },
  {
   "cell_type": "code",
   "execution_count": null,
   "metadata": {
    "collapsed": true
   },
   "outputs": [],
   "source": [
    "print '\\n'.join(str(p) for p in myList) "
   ]
  },
  {
   "cell_type": "code",
   "execution_count": null,
   "metadata": {},
   "outputs": [],
   "source": [
    "[x for x in myList]\n",
    "[x for x in myList if x not in yourList]\n",
    "[(x,y) for x in myList for y in yourList]"
   ]
  },
  {
   "cell_type": "markdown",
   "metadata": {},
   "source": [
    "## Functions"
   ]
  },
  {
   "cell_type": "code",
   "execution_count": null,
   "metadata": {
    "collapsed": true
   },
   "outputs": [],
   "source": [
    "def reader():\n",
    "    # 0 Read main link\n",
    "    dir = os.path.dirname(__file__)\n",
    "    linksfile = os.path.join(dir,'Main_links.csv') #main links HAVE to have this form: http://www.website.com NOT www.website.com\n",
    "    # 0.1 Pass company and main link\n",
    "    links = pd.read_csv(linksfile, sep=',')\n",
    "    companies = links['Company_name'].tolist()\n",
    "    main_links = links['Main_link']\n",
    "    company = companies[0]\n",
    "    main_link = main_links[0]\n",
    "    return company, main_link, dir"
   ]
  },
  {
   "cell_type": "markdown",
   "metadata": {},
   "source": [
    "<a id='loops'></a>\n",
    "[back to top](#top)\n",
    "## Loops"
   ]
  },
  {
   "cell_type": "code",
   "execution_count": null,
   "metadata": {
    "collapsed": true
   },
   "outputs": [],
   "source": [
    "a = 1000000\n",
    "for i in xrange(1000000):\n",
    "    a = a + 0.000001\n",
    "a = a - 1000000\n",
    "print a"
   ]
  },
  {
   "cell_type": "code",
   "execution_count": null,
   "metadata": {},
   "outputs": [],
   "source": [
    "for i, name in enumerate(names):\n",
    "    "
   ]
  },
  {
   "cell_type": "markdown",
   "metadata": {
    "collapsed": true,
    "heading_collapsed": true
   },
   "source": [
    "## Time"
   ]
  },
  {
   "cell_type": "code",
   "execution_count": null,
   "metadata": {
    "collapsed": true,
    "hidden": true
   },
   "outputs": [],
   "source": [
    "import datetime from datetime\n",
    "datetime.now().strftime(\"%Y-%m-%d %H'%M'%S\")"
   ]
  },
  {
   "cell_type": "markdown",
   "metadata": {},
   "source": [
    "# Machine Learning"
   ]
  },
  {
   "cell_type": "markdown",
   "metadata": {},
   "source": [
    "## NLP <a id='nlp'></a>"
   ]
  },
  {
   "cell_type": "markdown",
   "metadata": {},
   "source": [
    "### LDA - Latent Dirichlet Allocation <a id='nlp'></a>"
   ]
  },
  {
   "cell_type": "code",
   "execution_count": null,
   "metadata": {
    "collapsed": true
   },
   "outputs": [],
   "source": [
    "dictionary = corpora.Dictionary(texts)\n",
    "    \n",
    "# convert tokenized documents into a document-term matrix\n",
    "corpus = [dictionary.doc2bow(text) for text in texts]\n",
    "\n",
    "# generate LDA model\n",
    "ldamodel = gensim.models.ldamodel.LdaModel(corpus, num_topics=2, id2word = dictionary, passes=20)\n",
    "# num_topics: \n",
    "\n",
    "# review topics\n",
    "print(ldamodel.print_topics(num_topics=3, num_words=3))"
   ]
  },
  {
   "cell_type": "markdown",
   "metadata": {
    "collapsed": true
   },
   "source": [
    "### Word Embedding"
   ]
  },
  {
   "cell_type": "code",
   "execution_count": null,
   "metadata": {},
   "outputs": [],
   "source": [
    "def createTopAttributes(pic_name): #for i in range(3):#input_pictures:\n",
    "    picture_tags_score = [(y,x,scoreSimilarity(y, x)) for x in Attributes for y in df_pic_labels['unigram'][df_pic_labels['InputPicture'] == pic_name]]#input_pictures[i]]]\n",
    "    df1 = pd.DataFrame(picture_tags_score)\n",
    "    return df1.groupby(1).max().sort_values(2, ascending=False).index.values[0:6].tolist()"
   ]
  },
  {
   "cell_type": "code",
   "execution_count": null,
   "metadata": {},
   "outputs": [],
   "source": []
  },
  {
   "cell_type": "code",
   "execution_count": null,
   "metadata": {},
   "outputs": [],
   "source": []
  },
  {
   "cell_type": "code",
   "execution_count": null,
   "metadata": {},
   "outputs": [],
   "source": []
  },
  {
   "cell_type": "markdown",
   "metadata": {},
   "source": [
    "<a id='lib'></a>\n",
    "[back to top](#top)\n",
    "# Libraries"
   ]
  },
  {
   "cell_type": "markdown",
   "metadata": {},
   "source": [
    "### Regex"
   ]
  },
  {
   "cell_type": "markdown",
   "metadata": {},
   "source": [
    "[regex testing](https://regex101.com/r/cU5lC2/1)"
   ]
  },
  {
   "cell_type": "markdown",
   "metadata": {},
   "source": [
    "[What does this regex mean](https://stackoverflow.com/questions/22937618/reference-what-does-this-regex-mean/22944075#22944075)"
   ]
  },
  {
   "cell_type": "markdown",
   "metadata": {},
   "source": [
    "[capture regex expression from string](https://github.com/noprompt/frak)"
   ]
  },
  {
   "cell_type": "markdown",
   "metadata": {},
   "source": [
    "## For Piping"
   ]
  },
  {
   "cell_type": "markdown",
   "metadata": {},
   "source": [
    "### dfply"
   ]
  },
  {
   "cell_type": "code",
   "execution_count": null,
   "metadata": {},
   "outputs": [],
   "source": [
    "diamonds >> select(starts_with('c')) >> head(2)"
   ]
  },
  {
   "cell_type": "markdown",
   "metadata": {},
   "source": [
    "### pandas-ply"
   ]
  },
  {
   "cell_type": "markdown",
   "metadata": {},
   "source": [
    "### dplython"
   ]
  },
  {
   "cell_type": "markdown",
   "metadata": {},
   "source": [
    "### Pipe"
   ]
  },
  {
   "cell_type": "code",
   "execution_count": null,
   "metadata": {},
   "outputs": [],
   "source": [
    "https://github.com/JulienPalard/Pipe\n",
    "    \n",
    ">>> [1, 2, 3] | add\n",
    "6"
   ]
  },
  {
   "cell_type": "code",
   "execution_count": null,
   "metadata": {},
   "outputs": [],
   "source": []
  },
  {
   "cell_type": "markdown",
   "metadata": {},
   "source": [
    "## Missingno - Data Completeness"
   ]
  },
  {
   "cell_type": "code",
   "execution_count": null,
   "metadata": {},
   "outputs": [],
   "source": [
    "import missingno as msno\n",
    "%matplotlib inline"
   ]
  },
  {
   "cell_type": "code",
   "execution_count": null,
   "metadata": {},
   "outputs": [],
   "source": [
    "msno.matrix(data)"
   ]
  },
  {
   "cell_type": "markdown",
   "metadata": {},
   "source": [
    "[Reference](https://github.com/ResidentMario/missingno)"
   ]
  },
  {
   "cell_type": "markdown",
   "metadata": {
    "collapsed": true
   },
   "source": [
    "<a id='pandas'></a>\n",
    "## Pandas"
   ]
  },
  {
   "cell_type": "code",
   "execution_count": 1,
   "metadata": {
    "collapsed": true
   },
   "outputs": [],
   "source": [
    "import pandas as pd"
   ]
  },
  {
   "cell_type": "code",
   "execution_count": 13,
   "metadata": {},
   "outputs": [
    {
     "name": "stderr",
     "output_type": "stream",
     "text": [
      "C:\\Anaconda3\\lib\\site-packages\\ipykernel_launcher.py:1: ParserWarning: Falling back to the 'python' engine because the 'c' engine does not support regex separators (separators > 1 char and different from '\\s+' are interpreted as regex); you can avoid this warning by specifying engine='python'.\n",
      "  \"\"\"Entry point for launching an IPython kernel.\n"
     ]
    }
   ],
   "source": [
    "df = pd.read_csv(\"C:/Users/568377/Desktop/ali_cabin_preb.csv\", nrows=5, delimiter='\\t', encoding='ascii')"
   ]
  },
  {
   "cell_type": "code",
   "execution_count": null,
   "metadata": {},
   "outputs": [],
   "source": [
    "# Settings\n",
    "pd.set_option('display.max_colwidth', -1) # Don't truncate single columns\n",
    "pd.set_option('display.expand_frame_repr',False) # Display all columns in the same line\n",
    "# Show entire dataframe\n",
    "with pd.option_context('display.max_rows', None, 'display.max_columns', 3):\n",
    "    print(dfPrelim.name)\n",
    "\n",
    "# Read csv\n",
    "train = pd.read_csv(\"input/bimbo/sample_submission.csv\", nrows=5)\n",
    "train = pd.read_csv(\"input/bimbo/sample_submission.csv\", nrows=5, index_col='Origin')\n",
    "\n",
    "# Print Column Names\n",
    "list(my_dataframe.columns.values)\n",
    "\n",
    "# Save csv\n",
    "df.to_csv(file_name, sep='\\t', encoding='utf-8')\n",
    "\n",
    "# Show column headers\n",
    "list(my_dataframe.columns.values)\n",
    "\n",
    "# Df header\n",
    "DataFrame.head(n=5)[source]\n",
    "\n",
    "# Exclude columns\n",
    "df2 = df[df.columns.difference(['B', 'D'])]\n",
    "\n",
    "# Sort column\n",
    "df.sort_values(by = 'colname')\n",
    "pd.concat([pic_categories.head()]*5, ignore_index=True).sort(['Pic_id','Description_unigram'])\n",
    "sorted(x,reverse=True) # Create sorted array\n",
    "\n",
    "# Update value based on condition\n",
    "df.loc[df['name'] == \"sers\",'unique'] = True\n",
    "\n",
    "# Update values based on condition: is string in array\n",
    "words = ['sers','sers2']\n",
    "df.loc[df['name'].isin(words),'unique'] = 'Treffer' # Updates column unique if name matched one of the items in words\n",
    "\n",
    "# Open csv containing umlauts\n",
    "df = pd.read_csv(\"data.csv\", encoding='ISO-8859-1')\n",
    "\n",
    "# Create dataframe from series\n",
    "US = pd.DataFrame({'US_states': US_states, 'US_pop': US_pop, 'US_area': US_area}) # US_states being an ndarray\n",
    "\n",
    "# Reset index\n",
    "s.reset_index(drop=True)\n",
    "\n",
    "# Select columns\n",
    "df.ix[:,'favorit']\n",
    "\n",
    "# Drop columns\n",
    "df.drop(['Column1','Column2'], axis=1, inplace=True)\n",
    "\n",
    "# Dropna drop nans\n",
    "df.dropna()\n",
    "\n",
    "df[df.col1.isnull()]\n",
    "df[df.col1.notnull()]\n",
    "\n",
    "# Filter by header\n",
    "spike_cols = [col for col in df.columns if 'spike' in col]\n",
    "\n",
    "# Transform to date\n",
    "pd.to_datetime(con_occ['TR_DATE'])\n",
    "\n",
    "# Replace\n",
    "df.replace[('hi','ho','he'),(1,2,3)]\n",
    "\n",
    "# Set column as index\n",
    "data.set_index('Locality', inplace=True)\n",
    "\n",
    "# Set index as column\n",
    "data.reset_index(level=0, inplace=True)\n",
    "\n",
    "# Query by Index\n",
    "df_group_pcts[df_group_pcts.index.get_level_values('OpAirline').isin(['LH'])]\n",
    "\n",
    "# Filter rows where value is not in \n",
    "df[(df['col1']>df['col2']) & (~df.col3.isin(['string']))]\n",
    "\n",
    "# First two letters in a string (left)\n",
    "df['state'].str[:2]\n",
    "\n",
    "\n",
    "# Search & find columns by values in columns\n",
    "df1 = df.apply(lambda a: 'irst' in a.values, axis= 0)\n",
    "df1[df1 == True]\n",
    "\n",
    "# Search & Find columns by values in column headers\n",
    "df.filter(regex='(?i).egmen').head()\n",
    "# Regex documentation https://docs.python.org/2/library/re.html\n",
    "\n",
    "# Df header\n",
    "DataFrame.head(n=5)[source]\n",
    "\n",
    "# Count duplicates\n",
    "count_dup = series1.groupby(series1).count()\n",
    "\n",
    "# Count unique values\n",
    "df['SERIES_NAME'].value_counts()"
   ]
  },
  {
   "cell_type": "markdown",
   "metadata": {},
   "source": [
    "#### Import"
   ]
  },
  {
   "cell_type": "code",
   "execution_count": null,
   "metadata": {
    "collapsed": true
   },
   "outputs": [],
   "source": [
    "# Open csv containing umlauts\n",
    "df = pd.read_csv(\"data.csv\", encoding='ISO-8859-1')\n",
    "\n",
    "# Create dataframe\n",
    "df = pd.DataFrame(input)\n",
    "US = pd.DataFrame({'US_states': US_states, 'US_pop': US_pop, 'US_area': US_area}) # US_states being an ndarray\n",
    "\n",
    "# Reset index\n",
    "s.reset_index(drop=True)\n",
    "\n",
    "# Select columns\n",
    "df.ix[:,'favorit']\n",
    "\n",
    "# Filter by header\n",
    "spike_cols = [col for col in df.columns if 'spike' in col.lower()]\n",
    "\n",
    "# Unique values of multiple Series\n",
    "[df[a].unique() for a in age]\n",
    "\n",
    "# Transform to date\n",
    "pd.to_datetime(con_occ['TR_DATE'])\n",
    "\n",
    "# Compare two times\n",
    "dfPerm['Diff'] =  dfPerm['sch'].subtract(dfPerm['por']).astype('timedelta64[D]')\n",
    "\n",
    "# convert to date time datetime\n",
    "dfPerm.sch = pd.to_datetime(dfPerm.sch)\n",
    "\n",
    "# Replace\n",
    "df.replace[('hi','ho','he'),(1,2,3)]\n",
    "\n",
    "# Split Column by string character\n",
    "df_split = df[0].apply(lambda x: pd.Series(str(x).split(',')))\n",
    "\n",
    "# DataFrame to dict (preserving duplicate IDs)\n",
    "dict = {k: g[1].tolist() for k,g in df_split.groupby(0)}\n",
    "# DataFrame to dict (not preserving duplicate IDs)\n",
    "mydict = dict(zip(df.id, df.value))\n",
    "\n",
    "# Date and time\n",
    "pd.to_datetime('2015-01-01')\n",
    "\n",
    "# Count unique NAN values\n",
    "df[pd.isnull(df['DestGVG'])].groupby('DestCC_Name')['DestCC_Name'].nunique()\n",
    "\n",
    "# Write on subset of dataframe"
   ]
  },
  {
   "cell_type": "markdown",
   "metadata": {},
   "source": [
    "#### group by"
   ]
  },
  {
   "cell_type": "code",
   "execution_count": null,
   "metadata": {},
   "outputs": [],
   "source": [
    "The group by function needs an aggregation function to start working:"
   ]
  },
  {
   "cell_type": "code",
   "execution_count": null,
   "metadata": {},
   "outputs": [],
   "source": [
    "df = pd.DataFrame({'A': 'a a b'.split(), 'B': [1,2,3], 'C': [4,6, 5]})\n",
    "g = df.groupby('A')\n",
    "g.apply(lambda x: x) # function applies but grouping does not happen\n",
    "g.apply(lambda x: x.max()) # grouping happens and function is applied"
   ]
  },
  {
   "cell_type": "code",
   "execution_count": null,
   "metadata": {},
   "outputs": [],
   "source": [
    "g.apply(lambda x: list(x['unigram'])) # group and make list"
   ]
  },
  {
   "cell_type": "code",
   "execution_count": null,
   "metadata": {},
   "outputs": [],
   "source": []
  },
  {
   "cell_type": "markdown",
   "metadata": {},
   "source": [
    "   - [folium](https://www.dataquest.io/blog/data-science-portfolio-project/) <img src='../img/folium.png' width=\"200\">\n",
    "   - numpy\n",
    "   - scipy\n",
    "   - pandas\n",
    "   - matplotlib\n",
    "   - nltk\n",
    "   - [statsmodels](http://statsmodels.sourceforge.net/) <img src='../img/statsmodel.png' width=\"200\">\n",
    "   - [Mlpy](http://mlpy.sourceforge.net/) (machine learning) <img src='../img/mlpy.png' width=\"200\">\n",
    "   - [GraphLab Create](https://pypi.python.org/pypi/GraphLab-Create) (create large-scale, high-performance data products)\n",
    "   - [PUlp](http://www.galvanize.com/blog/seven-python-tools-all-data-scientists-should-know-how-to-use/#.V3Idwvl940M) (linear programming)\n",
    "   - [Spark](http://www.galvanize.com/blog/seven-python-tools-all-data-scientists-should-know-how-to-use/#.V3Idwvl940M)\n",
    "   Machine learning:\n",
    "   - Deep learning\n",
    "     - [keras (for Theano and TensorFlow)](http://keras.io/)"
   ]
  },
  {
   "cell_type": "markdown",
   "metadata": {},
   "source": [
    "#### Print library documentation:"
   ]
  },
  {
   "cell_type": "code",
   "execution_count": null,
   "metadata": {
    "collapsed": true
   },
   "outputs": [],
   "source": [
    "print(os.__doc__)"
   ]
  },
  {
   "cell_type": "markdown",
   "metadata": {},
   "source": [
    "<a id='google'></a>\n",
    "[back to top](#top)"
   ]
  },
  {
   "cell_type": "markdown",
   "metadata": {},
   "source": [
    "# Google API"
   ]
  },
  {
   "cell_type": "code",
   "execution_count": null,
   "metadata": {
    "collapsed": true
   },
   "outputs": [],
   "source": [
    "#Setup\n",
    "https://cloud.google.com/python/setup"
   ]
  },
  {
   "cell_type": "code",
   "execution_count": null,
   "metadata": {
    "collapsed": true
   },
   "outputs": [],
   "source": [
    "# Set application key variable\n",
    "set GOOGLE_APPLICATION_CREDENTIALS=<path_to_service_account_file>"
   ]
  },
  {
   "cell_type": "markdown",
   "metadata": {},
   "source": [
    "<a id='virtualenv'></a>\n",
    "[back to top](#top)"
   ]
  },
  {
   "cell_type": "markdown",
   "metadata": {},
   "source": [
    "# Virtual Environments"
   ]
  },
  {
   "cell_type": "markdown",
   "metadata": {},
   "source": [
    "<a id='pip'></a>\n",
    "[back to top](#top)"
   ]
  },
  {
   "cell_type": "markdown",
   "metadata": {},
   "source": [
    "# Pip"
   ]
  },
  {
   "cell_type": "markdown",
   "metadata": {
    "collapsed": true
   },
   "source": [
    "[Create your own pip program](https://marthall.github.io/blog/how-to-package-a-python-app/)"
   ]
  },
  {
   "cell_type": "markdown",
   "metadata": {},
   "source": [
    "<a id='unittest'></a>\n",
    "[back to top](#top)"
   ]
  },
  {
   "cell_type": "markdown",
   "metadata": {
    "heading_collapsed": true
   },
   "source": [
    "# Unit test"
   ]
  },
  {
   "cell_type": "markdown",
   "metadata": {
    "hidden": true
   },
   "source": [
    "- pytest (pyUnit)\n",
    "- unittest\n",
    "\n",
    "### Scrapy unit testing"
   ]
  },
  {
   "cell_type": "markdown",
   "metadata": {
    "hidden": true
   },
   "source": [
    "- Betamax http://stackoverflow.com/questions/6456304/scrapy-unit-testing\n",
    "- fake responses plus Unittest http://stackoverflow.com/questions/6456304/scrapy-unit-testing\n"
   ]
  },
  {
   "cell_type": "code",
   "execution_count": null,
   "metadata": {
    "collapsed": true,
    "hidden": true
   },
   "outputs": [],
   "source": []
  },
  {
   "cell_type": "code",
   "execution_count": null,
   "metadata": {
    "collapsed": true,
    "hidden": true
   },
   "outputs": [],
   "source": []
  },
  {
   "cell_type": "markdown",
   "metadata": {
    "collapsed": true,
    "hidden": true
   },
   "source": [
    "<a id='vis'></a>\n",
    "[back to top](#top)"
   ]
  },
  {
   "cell_type": "markdown",
   "metadata": {},
   "source": [
    "# Visualisation"
   ]
  },
  {
   "cell_type": "markdown",
   "metadata": {},
   "source": [
    "Embed interactive maps into jupyter notebook:\n",
    "https://www.opendatascience.com/blog/embedding-interactive-maps-into-an-ipython-notebook/"
   ]
  },
  {
   "cell_type": "code",
   "execution_count": null,
   "metadata": {
    "collapsed": true
   },
   "outputs": [],
   "source": [
    "bins=[i for i in range(0,2000,100)]\n",
    "ax=df.hist(bins=bins,alpha=0.5)\n",
    "ax.set_xlabel(\"x label\")"
   ]
  },
  {
   "cell_type": "markdown",
   "metadata": {},
   "source": [
    "<a id='tools'></a>\n",
    "[back to top](#top)"
   ]
  },
  {
   "cell_type": "markdown",
   "metadata": {},
   "source": [
    "# Tools"
   ]
  },
  {
   "cell_type": "markdown",
   "metadata": {},
   "source": [
    "<a id='sublime'></a>\n",
    "[back to top](#top)\n",
    "# Sublime"
   ]
  },
  {
   "cell_type": "code",
   "execution_count": null,
   "metadata": {
    "collapsed": true
   },
   "outputs": [],
   "source": [
    "# Anaconda package\n",
    "http://damnwidget.github.io/anaconda/"
   ]
  },
  {
   "cell_type": "code",
   "execution_count": null,
   "metadata": {
    "collapsed": true
   },
   "outputs": [],
   "source": [
    "# Settings\n",
    "https://realpython.com/blog/python/setting-up-sublime-text-3-for-full-stack-python-development/"
   ]
  },
  {
   "cell_type": "markdown",
   "metadata": {
    "collapsed": true
   },
   "source": [
    "<a id='notebook'></a>\n",
    "[back to top](#top)\n",
    "# jupyter notebook"
   ]
  },
  {
   "cell_type": "code",
   "execution_count": null,
   "metadata": {
    "collapsed": true
   },
   "outputs": [],
   "source": [
    "# pip install\n",
    "# !pip install --user prettyplotlib"
   ]
  },
  {
   "cell_type": "code",
   "execution_count": null,
   "metadata": {
    "collapsed": true
   },
   "outputs": [],
   "source": [
    "# Use the Python import command to set the system path. For example:\n",
    "# import sys, os\n",
    "\n",
    "# sys.path.append(\"\".join([os.environ[\"HOME\"],\"/.local/lib/python2.7/site-packages\"]))"
   ]
  },
  {
   "cell_type": "markdown",
   "metadata": {},
   "source": [
    "### Embed videos"
   ]
  },
  {
   "cell_type": "code",
   "execution_count": null,
   "metadata": {
    "collapsed": true
   },
   "outputs": [],
   "source": [
    "from IPython.display import HTML\n",
    "\n",
    "# Youtube\n",
    "HTML('<iframe width=\"560\" height=\"315\" src=\"https://www.youtube.com/embed/S_f2qV2_U00?rel=0&amp;controls=0&amp;showinfo=0\" frameborder=\"0\" allowfullscreen></iframe>')\n",
    "\n",
    "# Vimeo\n",
    "HTML('<iframe src=\"https://player.vimeo.com/video/26763844?title=0&byline=0&portrait=0\" width=\"700\" height=\"394\" frameborder=\"0\" webkitallowfullscreen mozallowfullscreen allowfullscreen></iframe><p><a href=\"https://vimeo.com/26763844\">BAXTER DURY - CLAIRE (Dir Cut)</a> from <a href=\"https://vimeo.com/dannysangra\">Danny Sangra</a> on <a href=\"https://vimeo.com\">Vimeo</a>.</p>')"
   ]
  },
  {
   "cell_type": "markdown",
   "metadata": {
    "collapsed": true
   },
   "source": [
    "<a id='scrapy'></a>\n",
    "[back to top](#top)"
   ]
  },
  {
   "cell_type": "markdown",
   "metadata": {},
   "source": [
    "# Scrapy"
   ]
  },
  {
   "cell_type": "markdown",
   "metadata": {},
   "source": [
    "- [basic spider properties](https://doc.scrapy.org/en/latest/topics/spiders.html#scrapy-spider)\n",
    "- [tutorials](https://potentpages.com/web-crawler-development/tutorials/scrapy/)"
   ]
  },
  {
   "cell_type": "code",
   "execution_count": null,
   "metadata": {
    "collapsed": true
   },
   "outputs": [],
   "source": [
    "# normalize whitespace in xpath\n",
    "html = response.xpath('normalize-space(//body)').extract()"
   ]
  },
  {
   "cell_type": "code",
   "execution_count": null,
   "metadata": {
    "collapsed": true
   },
   "outputs": [],
   "source": []
  },
  {
   "cell_type": "code",
   "execution_count": null,
   "metadata": {
    "collapsed": true
   },
   "outputs": [],
   "source": []
  },
  {
   "cell_type": "code",
   "execution_count": null,
   "metadata": {
    "collapsed": true
   },
   "outputs": [],
   "source": [
    "#inspect response\n",
    "scrapy.shell.inspect_response"
   ]
  }
 ],
 "metadata": {
  "anaconda-cloud": {},
  "kernelspec": {
   "display_name": "Python 3",
   "language": "python",
   "name": "python3"
  },
  "language_info": {
   "codemirror_mode": {
    "name": "ipython",
    "version": 3
   },
   "file_extension": ".py",
   "mimetype": "text/x-python",
   "name": "python",
   "nbconvert_exporter": "python",
   "pygments_lexer": "ipython3",
   "version": "3.6.1"
  },
  "toc": {
   "nav_menu": {
    "height": "222px",
    "width": "492px"
   },
   "number_sections": false,
   "sideBar": true,
   "skip_h1_title": false,
   "toc_cell": true,
   "toc_position": {},
   "toc_section_display": "block",
   "toc_window_display": true
  }
 },
 "nbformat": 4,
 "nbformat_minor": 1
}
