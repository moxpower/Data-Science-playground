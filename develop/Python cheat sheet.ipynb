{
 "cells": [
  {
   "cell_type": "markdown",
   "metadata": {},
   "source": [
    " "
   ]
  },
  {
   "cell_type": "markdown",
   "metadata": {},
   "source": [
    "<img src='https://www.python.org/static/opengraph-icon-200x200.png' width=200>"
   ]
  },
  {
   "cell_type": "markdown",
   "metadata": {
    "collapsed": true
   },
   "source": [
    "Pythonic python!\n",
    "\n",
    "[Organize python environment](https://medium.com/@henriquebastos/the-definitive-guide-to-setup-my-python-workspace-628d68552e14#.sp4hu5df4)"
   ]
  },
  {
   "cell_type": "markdown",
   "metadata": {},
   "source": [
    "#### Table of Content\n",
    "<a id='top'></a>\n",
    "- [Cheat Sheets](#cheat)\n",
    "- [Python commands](#pythoncommands)\n",
    "    - [Directory & Files](#dir)\n",
    "    - [Arrays](#arr)\n",
    "    - [Loops](#loops)\n",
    "- [Libraries](#lib)\n",
    "    - [Pandas](#pandas)\n",
    "- [Visualisation](#vis)\n",
    "- [Tools](#tools)\n",
    "    - [jupyter Notebook](#notebook)\n",
    "- [Frameworks](#frameworks)\n",
    "    - [scrapy](#scrapy)"
   ]
  },
  {
   "cell_type": "markdown",
   "metadata": {},
   "source": [
    " "
   ]
  },
  {
   "cell_type": "markdown",
   "metadata": {},
   "source": [
    "# Cheat sheets"
   ]
  },
  {
   "cell_type": "markdown",
   "metadata": {},
   "source": [
    "https://github.com/adam-p/markdown-here/wiki/Markdown-Cheatsheet"
   ]
  },
  {
   "cell_type": "markdown",
   "metadata": {},
   "source": [
    "<a id='dir'></a>\n",
    "## Directory"
   ]
  },
  {
   "cell_type": "code",
   "execution_count": null,
   "metadata": {
    "collapsed": true
   },
   "outputs": [],
   "source": [
    "# List all files in directory\n",
    "import os\n",
    "os.listdir()"
   ]
  },
  {
   "cell_type": "code",
   "execution_count": null,
   "metadata": {
    "collapsed": false
   },
   "outputs": [],
   "source": [
    "# join paths\n",
    "dir = \"C:/Users/568377/Cognizant/Data Science/kaggle/Bimbo Bread/submissions/\"\n",
    "os.path.join(dir, \"submission_2.csv\")\n",
    "# join multiple paths\n",
    "os.path.join(dir, 'relative','path','to','file','you','want')"
   ]
  },
  {
   "cell_type": "markdown",
   "metadata": {},
   "source": [
    "#### Import & export files"
   ]
  },
  {
   "cell_type": "code",
   "execution_count": null,
   "metadata": {
    "collapsed": true
   },
   "outputs": [],
   "source": [
    "# save as csv\n",
    "with open(filename, 'wb') as f:\n",
    "    f.write(response.body)\n",
    "    \n",
    "# write integers to csv\n",
    "with open(\"logs.csv\", 'w') as f:\n",
    "    writer = csv.writer(f)\n",
    "    writer.writerows(zip(itertools.repeat(logging.INFO,1),itertools.repeat(logging.INFO)))"
   ]
  },
  {
   "cell_type": "markdown",
   "metadata": {},
   "source": [
    "#### Execute other files"
   ]
  },
  {
   "cell_type": "code",
   "execution_count": null,
   "metadata": {
    "collapsed": true
   },
   "outputs": [],
   "source": [
    "#service.py\n",
    "import test1\n",
    "\n",
    "def service_func():\n",
    "    print(\"service func\")\n",
    "\n",
    "if __name__ == '__main__':\n",
    "    # service.py executed as script\n",
    "    # do something\n",
    "    service_func()\n",
    "    test1.some_func()\n",
    "\n",
    "#test1.py\n",
    "def some_func():\n",
    "    print(\"some func\")\n",
    "    \n",
    "if __name__ == '__main__':\n",
    "    # test1.py executed as script\n",
    "    # do something\n",
    "    some_func()"
   ]
  },
  {
   "cell_type": "markdown",
   "metadata": {},
   "source": [
    "<a id='arr'></a>\n",
    "[back to top](#top)\n",
    "## Arrays"
   ]
  },
  {
   "cell_type": "code",
   "execution_count": null,
   "metadata": {
    "collapsed": true
   },
   "outputs": [],
   "source": [
    "# Dimensions\n",
    "import numpy as np\n",
    "arr = [[1,2],[1,2]]\n",
    "arr = np.array(arr)\n",
    "arr.shape"
   ]
  },
  {
   "cell_type": "markdown",
   "metadata": {},
   "source": [
    "**Filter first column** of multicolumn array"
   ]
  },
  {
   "cell_type": "code",
   "execution_count": null,
   "metadata": {
    "collapsed": false
   },
   "outputs": [],
   "source": [
    "arr[:,0]"
   ]
  },
  {
   "cell_type": "markdown",
   "metadata": {},
   "source": [
    "## DataFrames"
   ]
  },
  {
   "cell_type": "code",
   "execution_count": null,
   "metadata": {
    "collapsed": true
   },
   "outputs": [],
   "source": [
    "# Create DataFrame\n",
    "df= pd.DataFrame(columns=['a','b'])\n",
    "\n",
    "# Append line\n",
    "df.loc[len(df)] = [\"hey\",\"value\"]\n",
    "\n",
    "# export to csv\n",
    "df.to_csv(\"logs.csv\", sep='\\t', encoding='utf-8')"
   ]
  },
  {
   "cell_type": "code",
   "execution_count": null,
   "metadata": {
    "collapsed": true
   },
   "outputs": [],
   "source": []
  },
  {
   "cell_type": "code",
   "execution_count": null,
   "metadata": {
    "collapsed": true
   },
   "outputs": [],
   "source": []
  },
  {
   "cell_type": "markdown",
   "metadata": {},
   "source": [
    "## Dict"
   ]
  },
  {
   "cell_type": "markdown",
   "metadata": {},
   "source": [
    "**Find** item in dict on value of subitem:"
   ]
  },
  {
   "cell_type": "code",
   "execution_count": null,
   "metadata": {
    "collapsed": false
   },
   "outputs": [],
   "source": [
    "my_dict = {\"Max\":{'age':27,'ec':'blue'}, \"Evi\":{'age':33,'ec':'blue'}}\n",
    "for key, item in my_dict.items():\n",
    "    if item['age'] == 27:\n",
    "        print key, \": eye color\", item['ec']"
   ]
  },
  {
   "cell_type": "markdown",
   "metadata": {},
   "source": [
    "**Remove** dict items:"
   ]
  },
  {
   "cell_type": "code",
   "execution_count": null,
   "metadata": {
    "collapsed": false,
    "scrolled": true
   },
   "outputs": [],
   "source": [
    "my_dict.pop(\"Max\", 0)"
   ]
  },
  {
   "cell_type": "markdown",
   "metadata": {
    "collapsed": false
   },
   "source": [
    "**Transform** Dict to list:"
   ]
  },
  {
   "cell_type": "code",
   "execution_count": null,
   "metadata": {
    "collapsed": true
   },
   "outputs": [],
   "source": [
    "def dict_to_list(key,normalizer):\n",
    "    new_list=[]\n",
    "\n",
    "    for i in data_dict:\n",
    "        if data_dict[i][key]==\"NaN\" or data_dict[i][normalizer]==\"NaN\":\n",
    "            new_list.append(0.)\n",
    "        elif data_dict[i][key]>=0:\n",
    "            new_list.append(float(data_dict[i][key])/float(data_dict[i][normalizer]))\n",
    "    return new_list"
   ]
  },
  {
   "cell_type": "markdown",
   "metadata": {},
   "source": [
    "### Strings"
   ]
  },
  {
   "cell_type": "code",
   "execution_count": null,
   "metadata": {
    "collapsed": true
   },
   "outputs": [],
   "source": [
    "# join strings\n"
   ]
  },
  {
   "cell_type": "markdown",
   "metadata": {},
   "source": [
    "<a id='loops'></a>\n",
    "[back to top](#top)\n",
    "# Loops"
   ]
  },
  {
   "cell_type": "code",
   "execution_count": null,
   "metadata": {
    "collapsed": true
   },
   "outputs": [],
   "source": [
    "a = 1000000\n",
    "for i in xrange(1000000):\n",
    "    a = a + 0.000001\n",
    "a = a - 1000000\n",
    "print a"
   ]
  },
  {
   "cell_type": "markdown",
   "metadata": {
    "collapsed": true
   },
   "source": [
    "<a id='pandas'></a>\n",
    "[back to top](#top)\n",
    "# Pandas"
   ]
  },
  {
   "cell_type": "code",
   "execution_count": null,
   "metadata": {
    "collapsed": true
   },
   "outputs": [],
   "source": [
    "# read csv\n",
    "train = pd.read_csv(\"input/bimbo/sample_submission.csv\")"
   ]
  },
  {
   "cell_type": "markdown",
   "metadata": {
    "collapsed": true
   },
   "source": [
    "show column headers:"
   ]
  },
  {
   "cell_type": "code",
   "execution_count": null,
   "metadata": {
    "collapsed": true
   },
   "outputs": [],
   "source": [
    "list(my_dataframe.columns.values)"
   ]
  },
  {
   "cell_type": "markdown",
   "metadata": {
    "collapsed": true
   },
   "source": [
    "<a id='lib'></a>\n",
    "[back to top](#top)\n",
    "# Libraries"
   ]
  },
  {
   "cell_type": "markdown",
   "metadata": {},
   "source": [
    "   - [folium](https://www.dataquest.io/blog/data-science-portfolio-project/) <img src='../img/folium.png' width=\"200\">\n",
    "   - numpy\n",
    "   - scipy\n",
    "   - pandas\n",
    "   - matplotlib\n",
    "   - nltk\n",
    "   - [statsmodels](http://statsmodels.sourceforge.net/) <img src='../img/statsmodel.png' width=\"200\">\n",
    "   - [Mlpy](http://mlpy.sourceforge.net/) (machine learning) <img src='../img/mlpy.png' width=\"200\">\n",
    "   - [GraphLab Create](https://pypi.python.org/pypi/GraphLab-Create) (create large-scale, high-performance data products)\n",
    "   - [PUlp](http://www.galvanize.com/blog/seven-python-tools-all-data-scientists-should-know-how-to-use/#.V3Idwvl940M) (linear programming)\n",
    "   - [Spark](http://www.galvanize.com/blog/seven-python-tools-all-data-scientists-should-know-how-to-use/#.V3Idwvl940M)\n",
    "   Machine learning:\n",
    "   - Deep learning\n",
    "     - [keras (for Theano and TensorFlow)](http://keras.io/)"
   ]
  },
  {
   "cell_type": "markdown",
   "metadata": {},
   "source": [
    "#### Print library documentation:"
   ]
  },
  {
   "cell_type": "code",
   "execution_count": null,
   "metadata": {
    "collapsed": true
   },
   "outputs": [],
   "source": [
    "print(os.__doc__)"
   ]
  },
  {
   "cell_type": "markdown",
   "metadata": {
    "collapsed": true
   },
   "source": [
    "<a id='vis'></a>\n",
    "[back to top](#top)"
   ]
  },
  {
   "cell_type": "markdown",
   "metadata": {},
   "source": [
    "# Visualisation"
   ]
  },
  {
   "cell_type": "markdown",
   "metadata": {},
   "source": [
    "Embed interactive maps into jupyter notebook:\n",
    "https://www.opendatascience.com/blog/embedding-interactive-maps-into-an-ipython-notebook/"
   ]
  },
  {
   "cell_type": "code",
   "execution_count": null,
   "metadata": {
    "collapsed": false
   },
   "outputs": [],
   "source": [
    "bins=[i for i in range(0,2000,100)]\n",
    "ax=df.hist(bins=bins,alpha=0.5)\n",
    "ax.set_xlabel(\"x label\")"
   ]
  },
  {
   "cell_type": "markdown",
   "metadata": {},
   "source": [
    "<a id='notebook'></a>\n",
    "[back to top](#top)"
   ]
  },
  {
   "cell_type": "markdown",
   "metadata": {
    "collapsed": true
   },
   "source": [
    "# jupyter notebook"
   ]
  },
  {
   "cell_type": "code",
   "execution_count": null,
   "metadata": {
    "collapsed": true
   },
   "outputs": [],
   "source": [
    "# pip install\n",
    "# !pip install --user prettyplotlib"
   ]
  },
  {
   "cell_type": "code",
   "execution_count": null,
   "metadata": {
    "collapsed": true
   },
   "outputs": [],
   "source": [
    "# Use the Python import command to set the system path. For example:\n",
    "# import sys, os\n",
    "\n",
    "# sys.path.append(\"\".join([os.environ[\"HOME\"],\"/.local/lib/python2.7/site-packages\"]))"
   ]
  },
  {
   "cell_type": "markdown",
   "metadata": {
    "collapsed": true
   },
   "source": [
    "<a id='scrapy'></a>\n",
    "[back to top](#top)"
   ]
  },
  {
   "cell_type": "markdown",
   "metadata": {},
   "source": [
    "# Scrapy"
   ]
  },
  {
   "cell_type": "markdown",
   "metadata": {},
   "source": [
    "- [basic spider properties](https://doc.scrapy.org/en/latest/topics/spiders.html#scrapy-spider)\n",
    "- [tutorials](https://potentpages.com/web-crawler-development/tutorials/scrapy/)"
   ]
  },
  {
   "cell_type": "code",
   "execution_count": null,
   "metadata": {
    "collapsed": true
   },
   "outputs": [],
   "source": [
    "# normalize whitespace in xpath\n",
    "html = response.xpath('normalize-space(//body)').extract()"
   ]
  },
  {
   "cell_type": "code",
   "execution_count": null,
   "metadata": {
    "collapsed": true
   },
   "outputs": [],
   "source": []
  },
  {
   "cell_type": "code",
   "execution_count": null,
   "metadata": {
    "collapsed": true
   },
   "outputs": [],
   "source": []
  },
  {
   "cell_type": "code",
   "execution_count": null,
   "metadata": {
    "collapsed": true
   },
   "outputs": [],
   "source": [
    "#inspect response\n",
    "scrapy.shell.inspect_response"
   ]
  },
  {
   "cell_type": "code",
   "execution_count": null,
   "metadata": {
    "collapsed": true
   },
   "outputs": [],
   "source": []
  }
 ],
 "metadata": {
  "anaconda-cloud": {},
  "kernelspec": {
   "display_name": "Python [Root]",
   "language": "python",
   "name": "Python [Root]"
  },
  "language_info": {
   "codemirror_mode": {
    "name": "ipython",
    "version": 3
   },
   "file_extension": ".py",
   "mimetype": "text/x-python",
   "name": "python",
   "nbconvert_exporter": "python",
   "pygments_lexer": "ipython3",
   "version": "3.5.2"
  }
 },
 "nbformat": 4,
 "nbformat_minor": 0
}
