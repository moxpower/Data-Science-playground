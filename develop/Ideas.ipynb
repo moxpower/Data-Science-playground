{
 "cells": [
  {
   "cell_type": "code",
   "execution_count": null,
   "metadata": {
    "collapsed": true
   },
   "outputs": [],
   "source": [
    "Visualization: \n",
    "Who talks with whom: http://mbostock.github.io/d3/talk/20111116/bundle.html\n",
    "\n",
    "All projects and tools: http://vizuly.io/product/halo/?demo=d3js\n",
    "Per project and tool description: http://www.visualcinnamon.com/2014/12/using-data-storytelling-with-chord.html\n",
    "\n",
    "Ankes network represented: http://vax.herokuapp.com/tour\n",
    "\n",
    "R\n",
    "Cool R projects https://www.r-project.org/other-projects.html\n",
    "tidyR\n",
    "knittR\n",
    "\n",
    "People\n",
    "Who asked me for advice, catch up\n",
    "    \n",
    "    \n",
    "Split data into load files"
   ]
  },
  {
   "cell_type": "markdown",
   "metadata": {},
   "source": [
    "### NEXT BIOSUPERMARKT IN München"
   ]
  },
  {
   "cell_type": "code",
   "execution_count": null,
   "metadata": {
    "collapsed": true
   },
   "outputs": [],
   "source": []
  }
 ],
 "metadata": {
  "kernelspec": {
   "display_name": "R",
   "language": "R",
   "name": "ir"
  },
  "language_info": {
   "codemirror_mode": "r",
   "file_extension": ".r",
   "mimetype": "text/x-r-source",
   "name": "R",
   "pygments_lexer": "r",
   "version": "3.2.2"
  }
 },
 "nbformat": 4,
 "nbformat_minor": 0
}
