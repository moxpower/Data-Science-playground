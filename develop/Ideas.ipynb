{
 "cells": [
  {
   "cell_type": "code",
   "execution_count": null,
   "metadata": {
    "collapsed": true
   },
   "outputs": [],
   "source": [
    "Visualization: \n",
    "Who talks with whom: http://mbostock.github.io/d3/talk/20111116/bundle.html\n",
    "\n",
    "Per project and tool description: http://www.visualcinnamon.com/2014/12/using-data-storytelling-with-chord.html\n",
    "\n",
    "Ankes network represented: http://vax.herokuapp.com/tour\n",
    "\n",
    "R\n",
    "Cool R projects https://www.r-project.org/other-projects.html\n",
    "tidyR\n",
    "knittR\n",
    "\n",
    "People\n",
    "Who asked me for advice, catch up\n",
    "\n",
    "\n",
    "Split data into load files (R, Hadley)\n",
    "\n",
    "Blog post including ShinyApp\n",
    "    \n",
    "blog post include jupyter https://www.quora.com/How-can-I-embed-ipython-notebook-file-in-my-website"
   ]
  },
  {
   "cell_type": "markdown",
   "metadata": {},
   "source": [
    "# Text understanding automation"
   ]
  },
  {
   "cell_type": "markdown",
   "metadata": {},
   "source": [
    "- Highlight verb, subject\n",
    "- See who edited what"
   ]
  },
  {
   "cell_type": "markdown",
   "metadata": {},
   "source": [
    "### NEXT BIOSUPERMARKT IN München"
   ]
  },
  {
   "cell_type": "code",
   "execution_count": null,
   "metadata": {
    "collapsed": true
   },
   "outputs": [],
   "source": [
    "Binder to Schule -> http://docs.mybinder.org/faq"
   ]
  },
  {
   "cell_type": "code",
   "execution_count": null,
   "metadata": {
    "collapsed": true
   },
   "outputs": [],
   "source": [
    "build an automatic jupyter notebook overview\n",
    "- How are automated resource programs written\n",
    "- what is the purpose of the program? Be informed? Have all the resources available?"
   ]
  },
  {
   "cell_type": "markdown",
   "metadata": {},
   "source": [
    "# Ideas turned into projects"
   ]
  },
  {
   "cell_type": "code",
   "execution_count": null,
   "metadata": {
    "collapsed": true
   },
   "outputs": [],
   "source": [
    "- All projects and tools: http://vizuly.io/product/halo/?demo=d3js"
   ]
  },
  {
   "cell_type": "code",
   "execution_count": null,
   "metadata": {
    "collapsed": true
   },
   "outputs": [],
   "source": []
  }
 ],
 "metadata": {
  "kernelspec": {
   "display_name": "R",
   "language": "R",
   "name": "ir"
  },
  "language_info": {
   "codemirror_mode": "r",
   "file_extension": ".r",
   "mimetype": "text/x-r-source",
   "name": "R",
   "pygments_lexer": "r",
   "version": "3.2.2"
  }
 },
 "nbformat": 4,
 "nbformat_minor": 0
}
