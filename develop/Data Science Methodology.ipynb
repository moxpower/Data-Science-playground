{
 "cells": [
  {
   "cell_type": "markdown",
   "metadata": {},
   "source": [
    "# Why Data Science?\n",
    "- Solve problems, answer questions\n",
    "- Gain insights through modeling, predict outcomes, discover patterns\n",
    "\n",
    "### Rapidly evolving technologies\n",
    "- Platform growth\n",
    "- In-database analytics\n",
    "- Text analysis\n",
    "- Automation\n",
    "\n",
    "# Methodology provides guiding strategy\n",
    "\n",
    "- [Interesting reads](#interesting_read)\n",
    "<a id='topper'></a>"
   ]
  },
  {
   "cell_type": "markdown",
   "metadata": {},
   "source": [
    "CRISP-DM\n",
    "<img src=\"../img/CRISP-DM.png\" width=\"500\">"
   ]
  },
  {
   "cell_type": "markdown",
   "metadata": {},
   "source": [
    "## Business Understanding\n",
    "<img src=\"../img/Business Understanding.png\" width=\"500\">\n",
    "[Example on hospital readmission rates:](https://www.youtube.com/watch?v=LS8dNyK4VEk)\n",
    "- Goal definition\n",
    "- Background\n",
    "- Kick-off\n",
    "    - Project team\n",
    "    - Workshop gain business understanding, launch first project\n",
    "- Use case\n",
    "    - Define Business problem and solution\n",
    "    - Business sponsor critical to success"
   ]
  },
  {
   "cell_type": "markdown",
   "metadata": {},
   "source": [
    "## Analytic approach\n",
    "<img src=\"../img/Analytic Approach.png\" width=\"500\">\n",
    "[Example](https://www.youtube.com/watch?v=1bulLw3bKLE)\n",
    "- Requirements\n",
    "    - Define appropriate approach\n",
    "    - Business requirements for model\n",
    "- Appropriate model\n",
    "    - Predictive model\n",
    "    - Decision tree classification (as example)\n",
    "        - Reasons why chosing this methodology"
   ]
  },
  {
   "cell_type": "markdown",
   "metadata": {},
   "source": [
    "## Data compilation\n",
    "<img src=\"../img/Data compilation.png\" width=\"500\">\n",
    "[Example](https://www.youtube.com/watch?v=2dJkm8QfO5Q)\n",
    "- Data requirements\n",
    "    - Define and select\n",
    "    - Content, formats, representations suitable for Analytic model\n",
    "- Data collection\n",
    "    - Available data sources\n",
    "    - Data wanted but not readily available\n",
    "    - Data merging\n",
    "- Data understanding\n",
    "    - Descriptive statistics\n",
    "    - Data quality\n",
    "    - Iterative data collection and understanding"
   ]
  },
  {
   "cell_type": "markdown",
   "metadata": {},
   "source": [
    "## Data preparation\n",
    "<img src=\"../img/Data prep.png\" width=\"500\">\n",
    "[Example](https://www.youtube.com/watch?v=Y5fQs5R_Dvk)\n",
    "- Define outcome data format & content\n",
    "- Aggregate records\n",
    "- Additional data collection\n",
    "- Completed data set\n",
    "- Training & testing set"
   ]
  },
  {
   "cell_type": "markdown",
   "metadata": {},
   "source": [
    "## Data modeling\n",
    "<img src=\"../img/Data modeling.png\" width=\"500\">\n",
    "[Example](https://www.youtube.com/watch?v=KLCpSyrDAwA)"
   ]
  },
  {
   "cell_type": "markdown",
   "metadata": {},
   "source": [
    "## Data evaluation\n",
    "<img src=\"../img/Data evaluation.png\" width=\"500\">\n",
    "[Example](https://www.youtube.com/watch?v=-2LENlEIwig)\n",
    "- Does it properly address the business problem?"
   ]
  },
  {
   "cell_type": "markdown",
   "metadata": {},
   "source": [
    "## Deployment & Feedback\n",
    "<img src=\"../img/Deployment Feedback.png\" width=\"500\">\n",
    "[Example](https://www.youtube.com/watch?v=CA7gQdcPr58)\n",
    "- Iterative nature of problem solving in data-science\n",
    "- Feedback, refinement, redeployment\n",
    "- Deployment\n",
    "    - Assimilate knowledge for business\n",
    "    - Application requirements (e.g. easy to use, automation)\n",
    "    - Additional requirements (e.g. training)\n",
    "- Feedback\n",
    "    - Define review process\n",
    "    - Track user/recipient of outcome\n",
    "    - Measure effectiveness of intervention\n",
    "- Refinement & redeployment\n",
    "    - Refine model\n",
    "    - Review & refine intervention actions"
   ]
  },
  {
   "cell_type": "markdown",
   "metadata": {
    "collapsed": true
   },
   "source": [
    "<a id='interesting_read'></a>\n",
    "[back to top](#topper)"
   ]
  },
  {
   "cell_type": "markdown",
   "metadata": {
    "collapsed": true
   },
   "source": [
    "# Interesting reads"
   ]
  },
  {
   "cell_type": "markdown",
   "metadata": {},
   "source": [
    "- [Google's rules for Machine Learning](http://martin.zinkevich.org/rules_of_ml/rules_of_ml.pdf?imm_mid=0ec531&cmp=em-data-na-na-newsltr_20170118)"
   ]
  },
  {
   "cell_type": "code",
   "execution_count": null,
   "metadata": {
    "collapsed": true
   },
   "outputs": [],
   "source": [
    "blasudbas cfdasbnskfas\n",
    "dbaksdlad dnsaudasudb\n",
    "bjasdnasidu bisdanaidsj\n",
    "adsdasdu dasjiodjaosid"
   ]
  }
 ],
 "metadata": {
  "kernelspec": {
   "display_name": "Python [Root]",
   "language": "python",
   "name": "Python [Root]"
  },
  "language_info": {
   "codemirror_mode": {
    "name": "ipython",
    "version": 3
   },
   "file_extension": ".py",
   "mimetype": "text/x-python",
   "name": "python",
   "nbconvert_exporter": "python",
   "pygments_lexer": "ipython3",
   "version": "3.5.2"
  }
 },
 "nbformat": 4,
 "nbformat_minor": 0
}
