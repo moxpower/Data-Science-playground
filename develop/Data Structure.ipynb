{
 "cells": [
  {
   "cell_type": "markdown",
   "metadata": {},
   "source": [
    "# Hash table"
   ]
  },
  {
   "cell_type": "markdown",
   "metadata": {},
   "source": [
    "Hash table is a data structure used to implement an associative array, a structure that can map keys to values.<br>\n",
    "**Hash functions assign keys to buckets in an array.**"
   ]
  },
  {
   "cell_type": "markdown",
   "metadata": {},
   "source": [
    "In **SQL**, hashtables are used to store temporary data."
   ]
  },
  {
   "cell_type": "markdown",
   "metadata": {},
   "source": [
    "# Big O notation"
   ]
  },
  {
   "cell_type": "markdown",
   "metadata": {},
   "source": [
    "- describes performance/complexity of algorithm\n",
    "- can describe execution time or space used"
   ]
  },
  {
   "cell_type": "markdown",
   "metadata": {},
   "source": [
    "- O(1) - will execute in same time regardless of size of input data\n",
    "- O(N) - performance grows linearly - calling every element\n",
    "- O(N^2) - nested iterations\n",
    "- O(2^N) - recursive calling of function\n",
    "- O(log N) - seperating the dataset in halves over each iteration (Doubling the size of input data here has little effect e.g. binary search)"
   ]
  },
  {
   "cell_type": "code",
   "execution_count": null,
   "metadata": {
    "collapsed": true
   },
   "outputs": [],
   "source": []
  }
 ],
 "metadata": {
  "kernelspec": {
   "display_name": "Python 3",
   "language": "python",
   "name": "python3"
  },
  "language_info": {
   "codemirror_mode": {
    "name": "ipython",
    "version": 3
   },
   "file_extension": ".py",
   "mimetype": "text/x-python",
   "name": "python",
   "nbconvert_exporter": "python",
   "pygments_lexer": "ipython3",
   "version": "3.5.1"
  }
 },
 "nbformat": 4,
 "nbformat_minor": 0
}
