{
 "cells": [
  {
   "cell_type": "code",
   "execution_count": 16,
   "metadata": {
    "collapsed": true
   },
   "outputs": [],
   "source": [
    "import nltk\n",
    "import itertools\n",
    "from itertools import chain\n",
    "from nltk.corpus import wordnet as wn"
   ]
  },
  {
   "cell_type": "code",
   "execution_count": 7,
   "metadata": {
    "collapsed": false
   },
   "outputs": [
    {
     "name": "stdout",
     "output_type": "stream",
     "text": [
      "Meaning 0 <bound method Synset.name of Synset('dog.n.01')>\n",
      "Definition: <bound method Synset.definition of Synset('dog.n.01')>\n",
      "Meaning 1 <bound method Synset.name of Synset('frump.n.01')>\n",
      "Definition: <bound method Synset.definition of Synset('frump.n.01')>\n",
      "Meaning 2 <bound method Synset.name of Synset('dog.n.03')>\n",
      "Definition: <bound method Synset.definition of Synset('dog.n.03')>\n",
      "Meaning 3 <bound method Synset.name of Synset('cad.n.01')>\n",
      "Definition: <bound method Synset.definition of Synset('cad.n.01')>\n",
      "Meaning 4 <bound method Synset.name of Synset('frank.n.02')>\n",
      "Definition: <bound method Synset.definition of Synset('frank.n.02')>\n",
      "Meaning 5 <bound method Synset.name of Synset('pawl.n.01')>\n",
      "Definition: <bound method Synset.definition of Synset('pawl.n.01')>\n",
      "Meaning 6 <bound method Synset.name of Synset('andiron.n.01')>\n",
      "Definition: <bound method Synset.definition of Synset('andiron.n.01')>\n",
      "Meaning 7 <bound method Synset.name of Synset('chase.v.01')>\n",
      "Definition: <bound method Synset.definition of Synset('chase.v.01')>\n"
     ]
    }
   ],
   "source": [
    "for i,j in enumerate(wn.synsets('dog')):\n",
    "    print(\"Meaning\",i,j.name)\n",
    "    print(\"Definition:\", j.definition)\n",
    "#  print(\"Meaning\" + str(i) + \"NLTK ID:\" + str(j.name))\n",
    "#  print(\"Definition:\" + j.definition)"
   ]
  },
  {
   "cell_type": "code",
   "execution_count": 13,
   "metadata": {
    "collapsed": false
   },
   "outputs": [
    {
     "name": "stdout",
     "output_type": "stream",
     "text": [
      "Meaning 0 NLTK ID: dog.n.01\n",
      "Definition: a member of the genus Canis (probably descended from the common wolf) that has been domesticated by man since prehistoric times; occurs in many breeds\n",
      "Synonyms: dog, domestic_dog, Canis_familiaris\n",
      "Meaning 1 NLTK ID: frump.n.01\n",
      "Definition: a dull unattractive unpleasant girl or woman\n",
      "Synonyms: frump, dog\n",
      "Meaning 2 NLTK ID: dog.n.03\n",
      "Definition: informal term for a man\n",
      "Synonyms: dog\n",
      "Meaning 3 NLTK ID: cad.n.01\n",
      "Definition: someone who is morally reprehensible\n",
      "Synonyms: cad, bounder, blackguard, dog, hound, heel\n",
      "Meaning 4 NLTK ID: frank.n.02\n",
      "Definition: a smooth-textured sausage of minced beef or pork usually smoked; often served on a bread roll\n",
      "Synonyms: frank, frankfurter, hotdog, hot_dog, dog, wiener, wienerwurst, weenie\n",
      "Meaning 5 NLTK ID: pawl.n.01\n",
      "Definition: a hinged catch that fits into a notch of a ratchet to move a wheel forward or prevent it from moving backward\n",
      "Synonyms: pawl, detent, click, dog\n",
      "Meaning 6 NLTK ID: andiron.n.01\n",
      "Definition: metal supports for logs in a fireplace\n",
      "Synonyms: andiron, firedog, dog, dog-iron\n",
      "Meaning 7 NLTK ID: chase.v.01\n",
      "Definition: go after with the intent to catch\n",
      "Synonyms: chase, chase_after, trail, tail, tag, give_chase, dog, go_after, track\n"
     ]
    }
   ],
   "source": [
    "for i,j in enumerate(wn.synsets('dog')):\n",
    "    print(\"Meaning\",i,\"NLTK ID:\", j.name())\n",
    "    print(\"Definition:\",j.definition())\n",
    "    print(\"Synonyms:\", \", \".join(j.lemma_names()))"
   ]
  },
  {
   "cell_type": "code",
   "execution_count": 20,
   "metadata": {
    "collapsed": false
   },
   "outputs": [
    {
     "name": "stdout",
     "output_type": "stream",
     "text": [
      "Meaning 0 NLTK ID: fact.n.01\n",
      "Hypernyms: information\n",
      "Hyponyms: case, detail, item, point, general, matter_of_fact, observation, particular, specific, reason, score, truth\n",
      "Meaning 1 NLTK ID: fact.n.02\n",
      "Hypernyms: information, info\n",
      "Hyponyms: basics, rudiments, index, index_number, indicant, indicator, record, record_book, book\n",
      "Meaning 2 NLTK ID: fact.n.03\n",
      "Hypernyms: reality, realness, realism\n",
      "Hyponyms: \n",
      "Meaning 3 NLTK ID: fact.n.04\n",
      "Hypernyms: concept, conception, construct\n",
      "Hyponyms: \n"
     ]
    }
   ],
   "source": [
    "for i,j in enumerate(wn.synsets('fact')):\n",
    "    print(\"Meaning\",i,\"NLTK ID:\", j.name())\n",
    "    print(\"Hypernyms:\",\", \".join(list(chain(*[l.lemma_names() for l in j.hypernyms()]))))\n",
    "    print(\"Hyponyms:\", \", \".join(list(chain(*[l.lemma_names() for l in j.hyponyms()]))))"
   ]
  },
  {
   "cell_type": "code",
   "execution_count": 21,
   "metadata": {
    "collapsed": true
   },
   "outputs": [],
   "source": [
    "prod = [\"tire\",\"transport\"]"
   ]
  },
  {
   "cell_type": "code",
   "execution_count": 90,
   "metadata": {
    "collapsed": false
   },
   "outputs": [
    {
     "name": "stdout",
     "output_type": "stream",
     "text": [
      "Synonyms for TIRE:\n",
      "\n",
      "bore\n",
      "exhaust\n",
      "fag\n",
      "fag_out\n",
      "fatigue\n",
      "jade\n",
      "outwear\n",
      "pall\n",
      "play_out\n",
      "run_down\n",
      "sap\n",
      "tire\n",
      "tire_out\n",
      "tyre\n",
      "wear\n",
      "wear_down\n",
      "wear_out\n",
      "wear_upon\n",
      "weary\n",
      "\n",
      "\n",
      "Synonyms for TRANSPORT:\n",
      "\n",
      "carry\n",
      "channel\n",
      "channelise\n",
      "channelize\n",
      "conveyance\n",
      "delight\n",
      "ecstasy\n",
      "enchant\n",
      "enrapture\n",
      "enthral\n",
      "enthrall\n",
      "exaltation\n",
      "rapture\n",
      "raptus\n",
      "ravish\n",
      "send\n",
      "ship\n",
      "shipping\n",
      "tape_drive\n",
      "tape_transport\n",
      "transfer\n",
      "transferral\n",
      "transmit\n",
      "transport\n",
      "transportation\n",
      "\n",
      "\n"
     ]
    }
   ],
   "source": [
    "for l in prod:\n",
    "    syn = []\n",
    "    for i,j in enumerate(wn.synsets(l)):\n",
    "        for i in j.lemma_names():\n",
    "            syn.append(i.lower())#syn.append(\", \".join(list(chain([l for l in j.lemma_names()]))))\n",
    "    print(\"Synonyms for \" + l.upper() + \":\\n\")\n",
    "    print('\\n'.join(str(p) for p in sorted(set(list(syn)))))\n",
    "    #print(sorted(set(list(syn))))\n",
    "    print(\"\\n\")"
   ]
  },
  {
   "cell_type": "code",
   "execution_count": null,
   "metadata": {
    "collapsed": true
   },
   "outputs": [],
   "source": []
  }
 ],
 "metadata": {
  "kernelspec": {
   "display_name": "Python [Root]",
   "language": "python",
   "name": "Python [Root]"
  },
  "language_info": {
   "codemirror_mode": {
    "name": "ipython",
    "version": 3
   },
   "file_extension": ".py",
   "mimetype": "text/x-python",
   "name": "python",
   "nbconvert_exporter": "python",
   "pygments_lexer": "ipython3",
   "version": "3.5.2"
  }
 },
 "nbformat": 4,
 "nbformat_minor": 0
}
