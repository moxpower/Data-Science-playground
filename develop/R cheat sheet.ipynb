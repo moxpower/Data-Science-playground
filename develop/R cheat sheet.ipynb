{
 "cells": [
  {
   "cell_type": "markdown",
   "metadata": {},
   "source": [
    "<a id='top'></a>"
   ]
  },
  {
   "cell_type": "markdown",
   "metadata": {},
   "source": [
    "<img src=\"https://www.rstudio.com/wp-content/uploads/2014/06/RStudio-Ball.png\" width=\"100\">"
   ]
  },
  {
   "cell_type": "markdown",
   "metadata": {},
   "source": [
    "- Code snippets! -> Visual Studio\n",
    "- [R for Data Science book](http://r4ds.had.co.nz/data-visualisation.html)\n",
    "- Use pipes %>%"
   ]
  },
  {
   "cell_type": "markdown",
   "metadata": {},
   "source": [
    "#### Table of contents\n",
    "- [Pipes](#pipes)\n",
    "- [Microsoft R Server (SparkR)](#mrserver)"
   ]
  },
  {
   "cell_type": "markdown",
   "metadata": {},
   "source": [
    "# R Befehle"
   ]
  },
  {
   "cell_type": "markdown",
   "metadata": {},
   "source": [
    "### Directory & files"
   ]
  },
  {
   "cell_type": "code",
   "execution_count": null,
   "metadata": {
    "collapsed": true
   },
   "outputs": [],
   "source": [
    "setwd(\"C:\\\\Users\\\\ts93856\\\\Desktop\\\\datasource\") # Set working directory\n",
    "infile <- file.path(dirName, fileName) # merge filename and pathname"
   ]
  },
  {
   "cell_type": "markdown",
   "metadata": {},
   "source": [
    "### Comments"
   ]
  },
  {
   "cell_type": "code",
   "execution_count": null,
   "metadata": {
    "collapsed": true
   },
   "outputs": [],
   "source": [
    "Ctrl + Shift + C # for multiline comments in R Studio"
   ]
  },
  {
   "cell_type": "markdown",
   "metadata": {},
   "source": [
    "### Packages"
   ]
  },
  {
   "cell_type": "code",
   "execution_count": null,
   "metadata": {
    "collapsed": true
   },
   "outputs": [],
   "source": [
    "#import packages\n",
    "install.packages(\"jsonlite\") # ,dependencies=TRUE)\n",
    "library(e1071)"
   ]
  },
  {
   "cell_type": "markdown",
   "metadata": {},
   "source": [
    "### Import data"
   ]
  },
  {
   "cell_type": "code",
   "execution_count": null,
   "metadata": {
    "collapsed": true
   },
   "outputs": [],
   "source": [
    "jd <- jsonlite::fromJSON(\"https://.../json?address=1699+Amphitheatre+Parkway,+Mountain+View,+CA\") # online source\n",
    "bn = read.csv(\"https:...csv?accessType=DOWNLOAD\") # header = TRUE, stringAsFactors = FALSE # local source\n",
    "jd$results$address_components[[1]]$long_name # ???\n",
    "# httr package"
   ]
  },
  {
   "cell_type": "markdown",
   "metadata": {},
   "source": [
    "### Transform data"
   ]
  },
  {
   "cell_type": "markdown",
   "metadata": {},
   "source": [
    "#### Remove columns"
   ]
  },
  {
   "cell_type": "code",
   "execution_count": null,
   "metadata": {
    "collapsed": true
   },
   "outputs": [],
   "source": [
    "df$firstcol <- NULL ## remove columns we don't need"
   ]
  },
  {
   "cell_type": "markdown",
   "metadata": {},
   "source": [
    "#### Subset of dataframe"
   ]
  },
  {
   "cell_type": "code",
   "execution_count": null,
   "metadata": {
    "collapsed": true
   },
   "outputs": [],
   "source": [
    "df[,c(\"col_1\",\"col_2\")]\n",
    "subset(df, diameter < 1) # with condition"
   ]
  },
  {
   "cell_type": "markdown",
   "metadata": {},
   "source": [
    "#### Apply function"
   ]
  },
  {
   "cell_type": "code",
   "execution_count": null,
   "metadata": {
    "collapsed": true
   },
   "outputs": [],
   "source": [
    "eeframe[, catList] <- lapply(eeframe[, catList], function(x) as.factor(as.character(x))) ## apply function to column\n",
    "\n",
    "# string transformation\n",
    "names(eeframe) <- gsub(\"\\\\.\", \"\", names(eeframe)) # grep/ gsub - http://www.inside-r.org/r-doc/base/sub\n",
    "## convert csv in xdf (Xdf files store data in compressed and optimized format)"
   ]
  },
  {
   "cell_type": "markdown",
   "metadata": {},
   "source": [
    "### Data overview"
   ]
  },
  {
   "cell_type": "code",
   "execution_count": null,
   "metadata": {
    "collapsed": true
   },
   "outputs": [],
   "source": [
    "str(bn)\n",
    "head(bn)\n",
    "summary(bn)\n",
    "summary(bn$First.Name)\n",
    "dim(bn)"
   ]
  },
  {
   "cell_type": "code",
   "execution_count": null,
   "metadata": {
    "collapsed": true
   },
   "outputs": [],
   "source": [
    "#assign vector\n",
    "names(poker_vector) <- c(\"Monday\", \"Tuesday\", \"Wednesday\", \"Thursday\", \"Friday\")\n",
    "\n",
    "matrix(1:9, byrow=TRUE, nrow  =3)"
   ]
  },
  {
   "cell_type": "markdown",
   "metadata": {},
   "source": [
    "### connect dfs"
   ]
  },
  {
   "cell_type": "code",
   "execution_count": null,
   "metadata": {
    "collapsed": true
   },
   "outputs": [],
   "source": [
    "cbind(matrix1,matrix2) # neben einander\n",
    "rbind(matrix1,matrix2) # unter einander"
   ]
  },
  {
   "cell_type": "code",
   "execution_count": null,
   "metadata": {
    "collapsed": true
   },
   "outputs": [],
   "source": [
    "#vectors can be transformed to factors\n",
    "# Gender vector\n",
    "gender_vector <- c(\"Male\", \"Female\", \"Female\", \"Male\", \"Male\")\n",
    "\n",
    "# Convert gender_vector to a factor\n",
    "factor_gender_vector <- factor(gender_vector)"
   ]
  },
  {
   "cell_type": "markdown",
   "metadata": {},
   "source": [
    "### Subset of dataframe"
   ]
  },
  {
   "cell_type": "code",
   "execution_count": null,
   "metadata": {
    "collapsed": true
   },
   "outputs": [],
   "source": [
    "df[,c(\"col_1\",\"col_2\")]\n",
    "subset(df, diameter < 1) # with condition"
   ]
  },
  {
   "cell_type": "markdown",
   "metadata": {},
   "source": [
    "### Sort"
   ]
  },
  {
   "cell_type": "code",
   "execution_count": null,
   "metadata": {
    "collapsed": true
   },
   "outputs": [],
   "source": [
    "positions <-  order(planets_df$diameter) # order() to create positions\n",
    "planets_df[positions,] # sort using 'positions'"
   ]
  },
  {
   "cell_type": "code",
   "execution_count": 2,
   "metadata": {
    "collapsed": false
   },
   "outputs": [
    {
     "ename": "ERROR",
     "evalue": "Error in parse(text = x, srcfile = src): <text>:119:41: unerwartetes Symbol\n118: #hmisc package\n119: r <- aregImpute(~Ozone + Solar.R + Wind ...\n                                             ^\n",
     "output_type": "error",
     "traceback": [
      "Error in parse(text = x, srcfile = src): <text>:119:41: unerwartetes Symbol\n118: #hmisc package\n119: r <- aregImpute(~Ozone + Solar.R + Wind ...\n                                             ^\nTraceback:\n"
     ]
    }
   ],
   "source": [
    "# The workspace\n",
    "# http://www.statmethods.net/interface/workspace.html\n",
    "\n",
    "#data frames\n",
    "fr <- data.frame(c(\"hi\",\"ho\"), c(1,2), c(TRUE,FALSE))\n",
    "\n",
    "\n",
    "\n",
    "\n",
    "\n",
    "\n",
    "#foreach:\n",
    "\n",
    "install.packages(\"foreach\")\n",
    "library(foreach)\n",
    "foreach(i=1:10) %do%\n",
    "  rnorm(i)\n",
    "\n",
    "#for the foreach, we can use parallel computing\n",
    "install.packages(\"doParallel\")\n",
    "library(doParallel)\n",
    "\n",
    "#or cluster computing\n",
    "cl < makeCluster(4) # from the doParallel\n",
    "registerDoParallel(cl)\n",
    "\n",
    "df <- data.frame(ID=c(1,3,4), name=c(\"Steve\",\"mike\",\"Mary\"), c(32,24,52),c(80,90,100))\n",
    "colnames(df) <- c(\"ID\", \"Name\", \"2013\", \"2014\")\n",
    "df\n",
    "df2 <- reshape(df, varying=c(\"2013\",\"2014\"), v.names=\"Percent\", time...)\n",
    "install.packages(\"reshape\")\n",
    "library(reshape)\n",
    "\n",
    "# reshaping\n",
    "df3 <- melt(df, id=c(\"ID\",\"Name\"))\n",
    "\n",
    "#merging\n",
    "mrg <- merge(fr1, fr2, by=\"ID\")\n",
    "\n",
    "#transpose\n",
    "carmpg <- mtcars[order(-mtcars$mpg),]\n",
    "carmpg <- carmpg[1:10,c(1,2,4,6)]\n",
    "carmpg <- data.frame(t(carmpg))\n",
    "carmpg$Fiat.128\n",
    "\n",
    "#aggregate\n",
    "ag <- aggregate(mtcars$mpg, list(mtcars$hp), mean)\n",
    "\n",
    "#remove NAs\n",
    "aq <-na.omit(airquality)\n",
    "#remove NAs selectively\n",
    "airquality[complete.cases(airquality[,c(1,3,4,5,6)]),]\n",
    "#hmisc package\n",
    "r <- aregImpute(~Ozone + Solar.R + Wind ...)\n",
    "\n",
    "#slice the df\n",
    "cut(airquality$Temp, breaks=c(0,80,100,150), labels=c(\"cold\",\"nice\",\"hot\"))\n",
    "\n",
    "##Data analysis\n",
    "#modeling functions\n",
    "lm #linear modeling\n",
    "glm\n",
    "aov #analysis of variance\n",
    "\n",
    "t.test\n",
    "TukeyHSD #creates sets of confidence intervals\n",
    "predict\n",
    "\n",
    "#helper functions for more analysis\n",
    "coef\n",
    "residuals\n",
    "fitted\n",
    "confint #confidence interval\n",
    "\n",
    "\n",
    "\n",
    "##Data analysis\n",
    "#linear modeling\n",
    "lml <- lm(trees$Volume ~ trees$Height + trees$Girth) #trees$Volume is dependent variable, trees$Height + trees$Girth effects it)\n",
    "summary(lml)\n",
    "plot(lml)\n",
    "lm2 <- lm(mpg ~ cyl + disp + hp + wt, data=mtcars) #instead of mtcars.wt each time\n",
    "\n",
    "#Variance analysis\n",
    "boxplot(Speed ~ Expt, data=morley)\n",
    "a <- aov(Speed ~ Expt, data=morley)\n",
    "summary(a)\n",
    "\n",
    "#R Coef Function\n",
    "lmf <- lm(lv ~lg + trees$Height)\n",
    "summary(lmf)\n",
    "x <- coef(lmf)\n",
    "x\n",
    "\n",
    "#R Fitted function\n",
    "lmf <- lm(mpg ~ disp, data=mtcars)\n",
    "plot(fitted(lmf), residuals(lmf))\n",
    "abline(h=0) # ususally there is not a line displayed in the plot above\n",
    "\n",
    "#R residual function\n",
    "lmf <- lm(mtcars$mpg ~ mtcars$disp)\n",
    "residuals(lmf)\n",
    "summary(lmf)\n",
    "summary(residuals(lmf))\n",
    "plot(fitted(lmf), residuals(lmf)) #what are the fitted lmfs?\n",
    "abline(h=0)\n",
    "\n",
    "#Covariance matrix\n",
    "lmf <- lm(trees$Volume ~ trees$Girth + trees$Height)\n",
    "vcov(lmf)\n",
    "\n",
    "#Confidence interval\n",
    "plot(faithful$eruptions, faithful$waiting)\n",
    "lme <- lm(eruptions ~ waiting, data=faithful)\n",
    "summary(lme)\n",
    "ci <- confint(lme, level=0.95)\n",
    "\n",
    "#Generalized linear model\n",
    "m <- glm(cyl ~ disp + hp, data=mtcars, family=poisson)\n",
    "params <- data.frame(hp=110, disp=160)\n",
    "predict(m, params, type=\"response\")\n",
    "\n",
    "#T Test\n",
    "r <- rnorm(100, 1000, 100) # (# of items, mean, standard deviation)\n",
    "tt <- t.test(r, mu=1000)\n",
    "str(tt)\n",
    "\n",
    "#TukeyHSD Test\n",
    "a <- aov(Speed ~ factor(Expt), data=morley)\n",
    "TukeyHSD(a)\n",
    "boxplot(Speed ~ Expt, data=morley)\n",
    "plot(TukeyHSD(a))\n",
    "\n",
    "#Predict Function\n",
    "plot(eruptions ~ waiting, data=faithful)\n",
    "lme <- lm(eruptions ~ waiting, data=faithful)\n",
    "dfe <- data.frame(waiting=50)\n",
    "predict(lme, dfe, interval=\"predict\", level=0.95)\n",
    "\n",
    "#Time Series\n",
    "tsdata <- ts(sample(1:100, 24), start=c(2013,1), end=c(2014,12), frequency=12, deltat=1/12)\n",
    "str(tsdata)\n",
    "f <- stl(AirPassengers, s.window=\"period\")\n",
    "library(forecast)\n",
    "f <- ets(AirPassengers)\n",
    "plot(forecast(f,12))\n",
    "f <- auto.arima(AirPassengers)\n",
    "\n",
    "\n",
    "# Pipes for Data Selection\n",
    "# dplyr\n",
    "library(dplyr)\n",
    "frame1 <- mutate(frame1, Col4 = Col2 + Col3) #Create new column with new calculated \n",
    "frame1 <- group_by(frame1, Col1)\n",
    "frame1 <- distinct(frame1, Col2) #search for duplicates\n",
    "frame1 <- sample_frac(frame1, 0.5) #create a sample (for a fraction of the data)\n",
    "frame1 <- sample_n(frame1, 200)\n",
    "frame1 <- summarize(frame1, m1 = mean(Col1))\n",
    "## frame the dataframe (pipe)\n",
    "frame1 <- frame1 %>%\n",
    "            filter(Col1 == 2013) %>%\n",
    "            mutate(Col4 = Col2 + Col3)\n",
    "\n",
    "inner_join(a, b, by = colName)\n",
    "\n",
    "\n",
    "# >>>> Machine learning <<<<\n",
    "# Two-way comparison\n",
    "prop.table(table(train$Survived, train$Child),1)\n",
    "# \n",
    "\n",
    "\n",
    "#plots\n",
    "library(ggplot2)\n",
    "qplot(eruptions, waiting, data=faithful, color=waiting, size=eruptions, geom=c(\"point\",\"smooth\"), method=\"lm\")"
   ]
  },
  {
   "cell_type": "markdown",
   "metadata": {},
   "source": [
    "# R functions"
   ]
  },
  {
   "cell_type": "markdown",
   "metadata": {},
   "source": [
    "## Scale"
   ]
  },
  {
   "cell_type": "code",
   "execution_count": null,
   "metadata": {
    "collapsed": true
   },
   "outputs": [],
   "source": [
    "scale(dataScale$A, center = TRUE, scale  = FALSE)\n",
    "z[,scalelist] <- lapply(y[,scalelist], function(x) as.numeric(scale(x)))"
   ]
  },
  {
   "cell_type": "markdown",
   "metadata": {},
   "source": [
    "## lapply"
   ]
  },
  {
   "cell_type": "markdown",
   "metadata": {
    "collapsed": false
   },
   "source": [
    "- R version of for loop\n",
    "- use lapply to iterate over a path\n",
    "- apply functions to columns"
   ]
  },
  {
   "cell_type": "code",
   "execution_count": null,
   "metadata": {
    "collapsed": true
   },
   "outputs": [],
   "source": [
    "lapply(mortgageCsvPaths, FUN = function(csv_file) {\n",
    "    rxImport(inData = csv_file,\n",
    "            outFile = mortageXdf,\n",
    "            append = file.exists(mortgageXdf))\n",
    "})"
   ]
  },
  {
   "cell_type": "markdown",
   "metadata": {},
   "source": [
    "#### Remove empty columns"
   ]
  },
  {
   "cell_type": "code",
   "execution_count": null,
   "metadata": {
    "collapsed": true
   },
   "outputs": [],
   "source": [
    "rm(train)"
   ]
  },
  {
   "cell_type": "markdown",
   "metadata": {},
   "source": [
    "<a id='pipes'></a>\n",
    "[back to top](#top)"
   ]
  },
  {
   "cell_type": "markdown",
   "metadata": {},
   "source": [
    "# Pipes %>%\n",
    "Read it as \"then\""
   ]
  },
  {
   "cell_type": "markdown",
   "metadata": {},
   "source": [
    "flights %>%   \n",
    "group_by(dest) %>%   \n",
    "arrange(desc(arr_delay))"
   ]
  },
  {
   "cell_type": "markdown",
   "metadata": {},
   "source": [
    "- you cannot use $assign(), get(), load()$ with the pipe, unless you specify the environment \"x\" %>% assign(100, envir = env)"
   ]
  },
  {
   "cell_type": "markdown",
   "metadata": {},
   "source": [
    "When not to use the pipe:\n",
    "- You have multiple inputs or outputs. If there isn’t one primary object being transformed, but two or more objects being combined together, don’t use the pipe.\n",
    "- Your pipes get longer than five or six lines"
   ]
  },
  {
   "cell_type": "markdown",
   "metadata": {
    "collapsed": true
   },
   "source": [
    "#### Examples"
   ]
  },
  {
   "cell_type": "code",
   "execution_count": 3,
   "metadata": {
    "collapsed": true
   },
   "outputs": [
    {
     "name": "stderr",
     "output_type": "stream",
     "text": [
      "\n",
      "Attaching package: 'dplyr'\n",
      "\n",
      "Die folgenden Objekte sind maskiert von 'package:stats':\n",
      "\n",
      "    filter, lag\n",
      "\n",
      "Die folgenden Objekte sind maskiert von 'package:base':\n",
      "\n",
      "    intersect, setdiff, setequal, union\n",
      "\n"
     ]
    }
   ],
   "source": [
    "library(babynames) # data package\n",
    "library(dplyr)     # provides data manipulating functions.\n",
    "library(magrittr)  # ceci n'est pas un pipe\n",
    "library(ggplot2)   # for graphics"
   ]
  },
  {
   "cell_type": "code",
   "execution_count": 4,
   "metadata": {
    "collapsed": false
   },
   "outputs": [
    {
     "data": {
      "image/png": "[encoded data removed]",
      "image/svg+xml": [
       "<?xml version=\"1.0\" encoding=\"UTF-8\"?>\n",
       "<svg xmlns=\"http://www.w3.org/2000/svg\" xmlns:xlink=\"http://www.w3.org/1999/xlink\" width=\"504pt\" height=\"504pt\" viewBox=\"0 0 504 504\" version=\"1.1\">\n",
       "<defs>\n",
       "<g>\n",
       "<symbol overflow=\"visible\" id=\"glyph0-0\">\n",
       "<path style=\"stroke:none;\" d=\"M 0.398438 -3.390625 C 0.398438 -4.199219 0.480469 -4.851563 0.648438 -5.351563 C 0.8125 -5.84375 1.0625 -6.226563 1.394531 -6.496094 C 1.722656 -6.761719 2.136719 -6.894531 2.640625 -6.898438 C 3.003906 -6.894531 3.328125 -6.820313 3.609375 -6.675781 C 3.886719 -6.523438 4.113281 -6.3125 4.296875 -6.035156 C 4.476563 -5.753906 4.621094 -5.410156 4.722656 -5.011719 C 4.824219 -4.605469 4.875 -4.066406 4.878906 -3.390625 C 4.875 -2.582031 4.792969 -1.929688 4.628906 -1.4375 C 4.464844 -0.9375 4.214844 -0.554688 3.886719 -0.289063 C 3.554688 -0.015625 3.140625 0.117188 2.640625 0.117188 C 1.972656 0.117188 1.453125 -0.117188 1.078125 -0.59375 C 0.625 -1.164063 0.398438 -2.097656 0.398438 -3.390625 Z M 1.265625 -3.390625 C 1.265625 -2.257813 1.394531 -1.507813 1.660156 -1.136719 C 1.921875 -0.761719 2.25 -0.574219 2.640625 -0.578125 C 3.023438 -0.574219 3.347656 -0.761719 3.613281 -1.140625 C 3.875 -1.511719 4.007813 -2.261719 4.011719 -3.390625 C 4.007813 -4.519531 3.875 -5.269531 3.613281 -5.644531 C 3.347656 -6.011719 3.019531 -6.199219 2.628906 -6.203125 C 2.238281 -6.199219 1.929688 -6.035156 1.703125 -5.710938 C 1.410156 -5.289063 1.265625 -4.515625 1.265625 -3.390625 Z M 1.265625 -3.390625 \"/>\n",
       "</symbol>\n",
       "<symbol overflow=\"visible\" id=\"glyph0-1\">\n",
       "<path style=\"stroke:none;\" d=\"M 4.832031 -0.8125 L 4.832031 0 L 0.289063 0 C 0.28125 -0.203125 0.316406 -0.398438 0.390625 -0.585938 C 0.503906 -0.894531 0.6875 -1.199219 0.945313 -1.5 C 1.195313 -1.796875 1.5625 -2.140625 2.046875 -2.539063 C 2.789063 -3.148438 3.296875 -3.636719 3.5625 -3.996094 C 3.824219 -4.351563 3.953125 -4.6875 3.957031 -5.011719 C 3.953125 -5.339844 3.835938 -5.621094 3.597656 -5.855469 C 3.355469 -6.082031 3.042969 -6.199219 2.664063 -6.203125 C 2.253906 -6.199219 1.929688 -6.078125 1.6875 -5.835938 C 1.441406 -5.589844 1.316406 -5.25 1.316406 -4.824219 L 0.449219 -4.914063 C 0.507813 -5.558594 0.730469 -6.050781 1.121094 -6.390625 C 1.503906 -6.726563 2.023438 -6.894531 2.679688 -6.898438 C 3.335938 -6.894531 3.859375 -6.714844 4.246094 -6.351563 C 4.628906 -5.984375 4.820313 -5.53125 4.824219 -4.992188 C 4.820313 -4.714844 4.765625 -4.441406 4.652344 -4.179688 C 4.539063 -3.910156 4.351563 -3.632813 4.09375 -3.339844 C 3.832031 -3.046875 3.398438 -2.644531 2.792969 -2.132813 C 2.285156 -1.707031 1.960938 -1.417969 1.816406 -1.265625 C 1.671875 -1.113281 1.550781 -0.960938 1.460938 -0.8125 Z M 4.832031 -0.8125 \"/>\n",
       "</symbol>\n",
       "<symbol overflow=\"visible\" id=\"glyph0-2\">\n",
       "<path style=\"stroke:none;\" d=\"M 3.101563 0 L 3.101563 -1.644531 L 0.121094 -1.644531 L 0.121094 -2.417969 L 3.257813 -6.871094 L 3.945313 -6.871094 L 3.945313 -2.417969 L 4.875 -2.417969 L 4.875 -1.644531 L 3.945313 -1.644531 L 3.945313 0 Z M 3.101563 -2.417969 L 3.101563 -5.515625 L 0.953125 -2.417969 Z M 3.101563 -2.417969 \"/>\n",
       "</symbol>\n",
       "<symbol overflow=\"visible\" id=\"glyph0-3\">\n",
       "<path style=\"stroke:none;\" d=\"M 4.777344 -5.1875 L 3.9375 -5.125 C 3.859375 -5.453125 3.75 -5.691406 3.617188 -5.84375 C 3.386719 -6.082031 3.105469 -6.203125 2.773438 -6.207031 C 2.5 -6.203125 2.265625 -6.128906 2.066406 -5.980469 C 1.796875 -5.785156 1.585938 -5.503906 1.4375 -5.132813 C 1.28125 -4.757813 1.203125 -4.226563 1.199219 -3.542969 C 1.398438 -3.851563 1.648438 -4.082031 1.945313 -4.230469 C 2.238281 -4.378906 2.542969 -4.453125 2.867188 -4.457031 C 3.425781 -4.453125 3.90625 -4.246094 4.304688 -3.835938 C 4.699219 -3.417969 4.898438 -2.882813 4.898438 -2.230469 C 4.898438 -1.796875 4.804688 -1.394531 4.617188 -1.027344 C 4.429688 -0.652344 4.171875 -0.371094 3.851563 -0.175781 C 3.523438 0.0195313 3.15625 0.117188 2.746094 0.117188 C 2.039063 0.117188 1.464844 -0.140625 1.023438 -0.65625 C 0.578125 -1.171875 0.355469 -2.023438 0.359375 -3.214844 C 0.355469 -4.539063 0.601563 -5.503906 1.097656 -6.113281 C 1.519531 -6.632813 2.097656 -6.894531 2.828125 -6.898438 C 3.363281 -6.894531 3.804688 -6.746094 4.152344 -6.445313 C 4.496094 -6.140625 4.703125 -5.71875 4.777344 -5.1875 Z M 1.332031 -2.226563 C 1.328125 -1.933594 1.390625 -1.652344 1.515625 -1.390625 C 1.636719 -1.121094 1.808594 -0.921875 2.035156 -0.785156 C 2.253906 -0.644531 2.488281 -0.574219 2.734375 -0.578125 C 3.085938 -0.574219 3.390625 -0.71875 3.648438 -1.007813 C 3.902344 -1.292969 4.03125 -1.683594 4.035156 -2.179688 C 4.03125 -2.652344 3.90625 -3.023438 3.65625 -3.300781 C 3.402344 -3.570313 3.082031 -3.707031 2.699219 -3.710938 C 2.316406 -3.707031 1.992188 -3.570313 1.730469 -3.300781 C 1.460938 -3.023438 1.328125 -2.667969 1.332031 -2.226563 Z M 1.332031 -2.226563 \"/>\n",
       "</symbol>\n",
       "<symbol overflow=\"visible\" id=\"glyph0-4\">\n",
       "<path style=\"stroke:none;\" d=\"M 3.578125 0 L 2.734375 0 L 2.734375 -5.375 C 2.527344 -5.179688 2.261719 -4.988281 1.933594 -4.792969 C 1.601563 -4.597656 1.304688 -4.453125 1.046875 -4.359375 L 1.046875 -5.175781 C 1.515625 -5.394531 1.925781 -5.664063 2.28125 -5.980469 C 2.632813 -6.292969 2.882813 -6.597656 3.03125 -6.898438 L 3.578125 -6.898438 Z M 3.578125 0 \"/>\n",
       "</symbol>\n",
       "<symbol overflow=\"visible\" id=\"glyph0-5\">\n",
       "<path style=\"stroke:none;\" d=\"M 1.695313 -3.726563 C 1.34375 -3.851563 1.085938 -4.03125 0.917969 -4.273438 C 0.746094 -4.507813 0.660156 -4.792969 0.664063 -5.128906 C 0.660156 -5.625 0.839844 -6.046875 1.203125 -6.386719 C 1.558594 -6.726563 2.039063 -6.894531 2.640625 -6.898438 C 3.238281 -6.894531 3.71875 -6.722656 4.085938 -6.375 C 4.449219 -6.027344 4.632813 -5.601563 4.636719 -5.105469 C 4.632813 -4.78125 4.550781 -4.503906 4.382813 -4.269531 C 4.214844 -4.03125 3.960938 -3.851563 3.625 -3.726563 C 4.042969 -3.585938 4.363281 -3.363281 4.585938 -3.058594 C 4.804688 -2.753906 4.914063 -2.386719 4.917969 -1.964844 C 4.914063 -1.371094 4.707031 -0.878906 4.292969 -0.480469 C 3.875 -0.0820313 3.328125 0.117188 2.652344 0.117188 C 1.972656 0.117188 1.425781 -0.0820313 1.011719 -0.484375 C 0.59375 -0.882813 0.386719 -1.382813 0.390625 -1.988281 C 0.386719 -2.429688 0.5 -2.804688 0.730469 -3.109375 C 0.953125 -3.410156 1.273438 -3.617188 1.695313 -3.726563 Z M 1.527344 -5.15625 C 1.523438 -4.828125 1.628906 -4.5625 1.839844 -4.359375 C 2.050781 -4.152344 2.320313 -4.046875 2.65625 -4.050781 C 2.976563 -4.046875 3.246094 -4.148438 3.457031 -4.355469 C 3.664063 -4.558594 3.765625 -4.8125 3.769531 -5.109375 C 3.765625 -5.417969 3.660156 -5.675781 3.445313 -5.890625 C 3.230469 -6.097656 2.964844 -6.203125 2.648438 -6.207031 C 2.324219 -6.203125 2.054688 -6.101563 1.84375 -5.894531 C 1.628906 -5.6875 1.523438 -5.441406 1.527344 -5.15625 Z M 1.257813 -1.984375 C 1.253906 -1.738281 1.308594 -1.503906 1.425781 -1.28125 C 1.535156 -1.054688 1.707031 -0.882813 1.933594 -0.761719 C 2.160156 -0.636719 2.402344 -0.574219 2.664063 -0.578125 C 3.0625 -0.574219 3.394531 -0.703125 3.660156 -0.964844 C 3.921875 -1.222656 4.054688 -1.550781 4.054688 -1.953125 C 4.054688 -2.355469 3.917969 -2.691406 3.648438 -2.960938 C 3.375 -3.222656 3.035156 -3.355469 2.632813 -3.359375 C 2.234375 -3.355469 1.90625 -3.226563 1.648438 -2.964844 C 1.382813 -2.703125 1.253906 -2.375 1.257813 -1.984375 Z M 1.257813 -1.984375 \"/>\n",
       "</symbol>\n",
       "<symbol overflow=\"visible\" id=\"glyph0-6\">\n",
       "<path style=\"stroke:none;\" d=\"M 0.453125 -5.972656 L 0.453125 -6.78125 L 4.902344 -6.78125 L 4.902344 -6.125 C 4.460938 -5.65625 4.027344 -5.039063 3.601563 -4.269531 C 3.167969 -3.496094 2.835938 -2.703125 2.605469 -1.890625 C 2.433594 -1.3125 2.324219 -0.683594 2.28125 0 L 1.414063 0 C 1.421875 -0.539063 1.53125 -1.191406 1.734375 -1.960938 C 1.9375 -2.722656 2.226563 -3.460938 2.609375 -4.175781 C 2.984375 -4.882813 3.390625 -5.480469 3.820313 -5.972656 Z M 0.453125 -5.972656 \"/>\n",
       "</symbol>\n",
       "<symbol overflow=\"visible\" id=\"glyph0-7\">\n",
       "<path style=\"stroke:none;\" d=\"M 0.398438 -1.800781 L 1.285156 -1.875 C 1.347656 -1.441406 1.5 -1.117188 1.742188 -0.902344 C 1.976563 -0.683594 2.265625 -0.574219 2.605469 -0.578125 C 3.007813 -0.574219 3.351563 -0.726563 3.636719 -1.035156 C 3.914063 -1.339844 4.054688 -1.746094 4.058594 -2.253906 C 4.054688 -2.734375 3.917969 -3.113281 3.652344 -3.394531 C 3.378906 -3.667969 3.027344 -3.808594 2.59375 -3.8125 C 2.316406 -3.808594 2.070313 -3.746094 1.855469 -3.625 C 1.632813 -3.5 1.460938 -3.339844 1.339844 -3.144531 L 0.546875 -3.25 L 1.214844 -6.777344 L 4.632813 -6.777344 L 4.632813 -5.972656 L 1.890625 -5.972656 L 1.519531 -4.125 C 1.925781 -4.410156 2.359375 -4.550781 2.816406 -4.554688 C 3.414063 -4.550781 3.921875 -4.34375 4.335938 -3.929688 C 4.746094 -3.511719 4.949219 -2.976563 4.953125 -2.328125 C 4.949219 -1.703125 4.769531 -1.167969 4.410156 -0.71875 C 3.96875 -0.160156 3.367188 0.117188 2.605469 0.117188 C 1.976563 0.117188 1.464844 -0.0546875 1.074219 -0.40625 C 0.675781 -0.753906 0.453125 -1.21875 0.398438 -1.800781 Z M 0.398438 -1.800781 \"/>\n",
       "</symbol>\n",
       "<symbol overflow=\"visible\" id=\"glyph0-8\">\n",
       "<path style=\"stroke:none;\" d=\"M 0.523438 -1.589844 L 1.335938 -1.664063 C 1.402344 -1.28125 1.53125 -1.003906 1.726563 -0.835938 C 1.917969 -0.660156 2.167969 -0.574219 2.476563 -0.578125 C 2.730469 -0.574219 2.957031 -0.632813 3.15625 -0.753906 C 3.347656 -0.871094 3.507813 -1.03125 3.636719 -1.230469 C 3.757813 -1.425781 3.863281 -1.691406 3.949219 -2.03125 C 4.035156 -2.367188 4.078125 -2.710938 4.078125 -3.066406 C 4.078125 -3.097656 4.074219 -3.15625 4.074219 -3.234375 C 3.902344 -2.964844 3.671875 -2.746094 3.382813 -2.578125 C 3.085938 -2.410156 2.769531 -2.324219 2.433594 -2.328125 C 1.859375 -2.324219 1.378906 -2.53125 0.988281 -2.945313 C 0.59375 -3.355469 0.398438 -3.898438 0.398438 -4.578125 C 0.398438 -5.273438 0.601563 -5.835938 1.015625 -6.261719 C 1.421875 -6.683594 1.9375 -6.894531 2.558594 -6.898438 C 3.003906 -6.894531 3.414063 -6.777344 3.785156 -6.539063 C 4.152344 -6.296875 4.433594 -5.953125 4.628906 -5.511719 C 4.820313 -5.0625 4.914063 -4.417969 4.917969 -3.578125 C 4.914063 -2.695313 4.820313 -1.996094 4.628906 -1.476563 C 4.4375 -0.957031 4.152344 -0.558594 3.777344 -0.289063 C 3.398438 -0.015625 2.957031 0.117188 2.457031 0.117188 C 1.914063 0.117188 1.476563 -0.03125 1.136719 -0.328125 C 0.796875 -0.625 0.589844 -1.042969 0.523438 -1.589844 Z M 3.980469 -4.621094 C 3.976563 -5.101563 3.847656 -5.484375 3.59375 -5.773438 C 3.332031 -6.054688 3.023438 -6.199219 2.664063 -6.203125 C 2.285156 -6.199219 1.957031 -6.046875 1.683594 -5.742188 C 1.402344 -5.433594 1.265625 -5.035156 1.265625 -4.550781 C 1.265625 -4.109375 1.394531 -3.753906 1.660156 -3.484375 C 1.921875 -3.207031 2.25 -3.070313 2.640625 -3.074219 C 3.027344 -3.070313 3.347656 -3.207031 3.601563 -3.484375 C 3.851563 -3.753906 3.976563 -4.132813 3.980469 -4.621094 Z M 3.980469 -4.621094 \"/>\n",
       "</symbol>\n",
       "<symbol overflow=\"visible\" id=\"glyph0-9\">\n",
       "<path style=\"stroke:none;\" d=\"M 0.789063 0 L 0.789063 -6.871094 L 5.421875 -6.871094 L 5.421875 -6.0625 L 1.695313 -6.0625 L 1.695313 -3.933594 L 4.921875 -3.933594 L 4.921875 -3.121094 L 1.695313 -3.121094 L 1.695313 0 Z M 0.789063 0 \"/>\n",
       "</symbol>\n",
       "<symbol overflow=\"visible\" id=\"glyph0-10\">\n",
       "<path style=\"stroke:none;\" d=\"M 0.710938 0 L 0.710938 -6.871094 L 2.082031 -6.871094 L 3.707031 -2.007813 C 3.855469 -1.550781 3.964844 -1.210938 4.035156 -0.988281 C 4.109375 -1.234375 4.230469 -1.601563 4.402344 -2.089844 L 6.046875 -6.871094 L 7.269531 -6.871094 L 7.269531 0 L 6.394531 0 L 6.394531 -5.75 L 4.398438 0 L 3.578125 0 L 1.589844 -5.851563 L 1.589844 0 Z M 0.710938 0 \"/>\n",
       "</symbol>\n",
       "<symbol overflow=\"visible\" id=\"glyph1-0\">\n",
       "<path style=\"stroke:none;\" d=\"M 0.742188 2.398438 L 0.625 1.40625 C 0.855469 1.46875 1.058594 1.5 1.230469 1.5 C 1.464844 1.5 1.652344 1.460938 1.792969 1.382813 C 1.933594 1.304688 2.046875 1.195313 2.140625 1.054688 C 2.203125 0.949219 2.3125 0.6875 2.460938 0.269531 C 2.480469 0.207031 2.511719 0.121094 2.554688 0.0117188 L 0.195313 -6.222656 L 1.328125 -6.222656 L 2.625 -2.617188 C 2.789063 -2.160156 2.9375 -1.679688 3.078125 -1.179688 C 3.195313 -1.660156 3.339844 -2.132813 3.507813 -2.59375 L 4.839844 -6.222656 L 5.894531 -6.222656 L 3.527344 0.105469 C 3.273438 0.789063 3.074219 1.257813 2.9375 1.515625 C 2.746094 1.863281 2.53125 2.117188 2.292969 2.28125 C 2.046875 2.4375 1.757813 2.519531 1.421875 2.523438 C 1.214844 2.519531 0.988281 2.476563 0.742188 2.398438 Z M 0.742188 2.398438 \"/>\n",
       "</symbol>\n",
       "<symbol overflow=\"visible\" id=\"glyph1-1\">\n",
       "<path style=\"stroke:none;\" d=\"M 5.050781 -2.003906 L 6.140625 -1.867188 C 5.96875 -1.230469 5.648438 -0.738281 5.183594 -0.386719 C 4.71875 -0.0351563 4.125 0.140625 3.40625 0.140625 C 2.492188 0.140625 1.769531 -0.136719 1.238281 -0.699219 C 0.699219 -1.253906 0.433594 -2.042969 0.4375 -3.058594 C 0.433594 -4.105469 0.703125 -4.917969 1.246094 -5.496094 C 1.78125 -6.074219 2.480469 -6.363281 3.34375 -6.363281 C 4.175781 -6.363281 4.855469 -6.078125 5.382813 -5.511719 C 5.910156 -4.945313 6.175781 -4.148438 6.175781 -3.125 C 6.175781 -3.058594 6.171875 -2.964844 6.171875 -2.84375 L 1.53125 -2.84375 C 1.5625 -2.15625 1.757813 -1.632813 2.109375 -1.269531 C 2.457031 -0.90625 2.890625 -0.726563 3.410156 -0.726563 C 3.796875 -0.726563 4.125 -0.828125 4.402344 -1.03125 C 4.671875 -1.234375 4.890625 -1.558594 5.050781 -2.003906 Z M 1.585938 -3.710938 L 5.0625 -3.710938 C 5.015625 -4.226563 4.882813 -4.621094 4.664063 -4.886719 C 4.328125 -5.292969 3.890625 -5.496094 3.359375 -5.496094 C 2.871094 -5.496094 2.464844 -5.332031 2.136719 -5.007813 C 1.804688 -4.683594 1.621094 -4.25 1.585938 -3.710938 Z M 1.585938 -3.710938 \"/>\n",
       "</symbol>\n",
       "<symbol overflow=\"visible\" id=\"glyph1-2\">\n",
       "<path style=\"stroke:none;\" d=\"M 4.851563 -0.765625 C 4.460938 -0.433594 4.082031 -0.199219 3.722656 -0.0625 C 3.355469 0.0742188 2.96875 0.140625 2.5625 0.140625 C 1.875 0.140625 1.351563 -0.0234375 0.984375 -0.359375 C 0.617188 -0.6875 0.433594 -1.117188 0.433594 -1.640625 C 0.433594 -1.945313 0.5 -2.222656 0.640625 -2.472656 C 0.777344 -2.722656 0.960938 -2.925781 1.1875 -3.082031 C 1.410156 -3.234375 1.664063 -3.347656 1.945313 -3.429688 C 2.152344 -3.476563 2.464844 -3.53125 2.882813 -3.585938 C 3.734375 -3.6875 4.359375 -3.808594 4.765625 -3.949219 C 4.765625 -4.089844 4.769531 -4.179688 4.769531 -4.226563 C 4.769531 -4.648438 4.667969 -4.953125 4.46875 -5.132813 C 4.199219 -5.371094 3.800781 -5.488281 3.269531 -5.492188 C 2.769531 -5.488281 2.402344 -5.402344 2.167969 -5.230469 C 1.933594 -5.054688 1.757813 -4.746094 1.648438 -4.304688 L 0.617188 -4.445313 C 0.707031 -4.886719 0.863281 -5.242188 1.078125 -5.515625 C 1.289063 -5.78125 1.597656 -5.992188 2.007813 -6.140625 C 2.410156 -6.289063 2.882813 -6.363281 3.421875 -6.363281 C 3.953125 -6.363281 4.382813 -6.300781 4.714844 -6.175781 C 5.046875 -6.050781 5.292969 -5.890625 5.449219 -5.703125 C 5.605469 -5.511719 5.714844 -5.273438 5.777344 -4.984375 C 5.808594 -4.804688 5.824219 -4.480469 5.828125 -4.015625 L 5.828125 -2.609375 C 5.824219 -1.625 5.847656 -1.003906 5.894531 -0.746094 C 5.941406 -0.484375 6.03125 -0.238281 6.164063 0 L 5.0625 0 C 4.953125 -0.21875 4.882813 -0.472656 4.851563 -0.765625 Z M 4.765625 -3.125 C 4.375 -2.964844 3.800781 -2.832031 3.039063 -2.726563 C 2.605469 -2.660156 2.300781 -2.589844 2.121094 -2.515625 C 1.941406 -2.433594 1.800781 -2.320313 1.703125 -2.171875 C 1.605469 -2.019531 1.558594 -1.851563 1.558594 -1.671875 C 1.558594 -1.386719 1.664063 -1.152344 1.875 -0.96875 C 2.085938 -0.777344 2.398438 -0.683594 2.8125 -0.6875 C 3.21875 -0.683594 3.578125 -0.773438 3.894531 -0.953125 C 4.210938 -1.128906 4.445313 -1.371094 4.59375 -1.679688 C 4.707031 -1.917969 4.761719 -2.269531 4.765625 -2.734375 Z M 4.765625 -3.125 \"/>\n",
       "</symbol>\n",
       "<symbol overflow=\"visible\" id=\"glyph1-3\">\n",
       "<path style=\"stroke:none;\" d=\"M 0.78125 0 L 0.78125 -6.222656 L 1.726563 -6.222656 L 1.726563 -5.28125 C 1.96875 -5.71875 2.191406 -6.011719 2.398438 -6.152344 C 2.601563 -6.292969 2.828125 -6.363281 3.078125 -6.363281 C 3.429688 -6.363281 3.792969 -6.25 4.160156 -6.023438 L 3.796875 -5.046875 C 3.539063 -5.195313 3.28125 -5.273438 3.023438 -5.273438 C 2.792969 -5.273438 2.585938 -5.203125 2.402344 -5.066406 C 2.214844 -4.925781 2.082031 -4.734375 2.007813 -4.488281 C 1.890625 -4.113281 1.832031 -3.703125 1.835938 -3.257813 L 1.835938 0 Z M 0.78125 0 \"/>\n",
       "</symbol>\n",
       "<symbol overflow=\"visible\" id=\"glyph2-0\">\n",
       "<path style=\"stroke:none;\" d=\"M -0.941406 -3.09375 L -0.0117188 -3.246094 C 0.0507813 -2.949219 0.0820313 -2.683594 0.0820313 -2.449219 C 0.0820313 -2.066406 0.0234375 -1.769531 -0.0976563 -1.558594 C -0.21875 -1.347656 -0.378906 -1.199219 -0.574219 -1.113281 C -0.769531 -1.027344 -1.183594 -0.984375 -1.820313 -0.984375 L -5.402344 -0.984375 L -5.402344 -0.210938 L -6.222656 -0.210938 L -6.222656 -0.984375 L -7.765625 -0.984375 L -8.398438 -2.035156 L -6.222656 -2.035156 L -6.222656 -3.09375 L -5.402344 -3.09375 L -5.402344 -2.035156 L -1.761719 -2.03125 C -1.460938 -2.027344 -1.269531 -2.046875 -1.183594 -2.085938 C -1.097656 -2.125 -1.027344 -2.183594 -0.976563 -2.269531 C -0.925781 -2.351563 -0.902344 -2.472656 -0.902344 -2.632813 C -0.902344 -2.742188 -0.914063 -2.898438 -0.941406 -3.09375 Z M -0.941406 -3.09375 \"/>\n",
       "</symbol>\n",
       "<symbol overflow=\"visible\" id=\"glyph2-1\">\n",
       "<path style=\"stroke:none;\" d=\"M -3.109375 -0.398438 C -4.261719 -0.398438 -5.117188 -0.71875 -5.671875 -1.359375 C -6.132813 -1.894531 -6.363281 -2.546875 -6.363281 -3.316406 C -6.363281 -4.171875 -6.082031 -4.871094 -5.519531 -5.414063 C -4.957031 -5.953125 -4.183594 -6.222656 -3.199219 -6.226563 C -2.394531 -6.222656 -1.761719 -6.101563 -1.308594 -5.867188 C -0.847656 -5.625 -0.492188 -5.277344 -0.238281 -4.820313 C 0.015625 -4.359375 0.140625 -3.859375 0.140625 -3.316406 C 0.140625 -2.441406 -0.136719 -1.734375 -0.695313 -1.203125 C -1.253906 -0.664063 -2.058594 -0.398438 -3.109375 -0.398438 Z M -3.109375 -1.484375 C -2.308594 -1.480469 -1.710938 -1.65625 -1.320313 -2.003906 C -0.921875 -2.347656 -0.726563 -2.785156 -0.726563 -3.316406 C -0.726563 -3.839844 -0.925781 -4.273438 -1.324219 -4.621094 C -1.722656 -4.96875 -2.328125 -5.144531 -3.144531 -5.144531 C -3.914063 -5.144531 -4.496094 -4.96875 -4.894531 -4.617188 C -5.289063 -4.265625 -5.488281 -3.832031 -5.492188 -3.316406 C -5.488281 -2.789063 -5.292969 -2.351563 -4.898438 -2.003906 C -4.5 -1.65625 -3.902344 -1.480469 -3.109375 -1.484375 Z M -3.109375 -1.484375 \"/>\n",
       "</symbol>\n",
       "<symbol overflow=\"visible\" id=\"glyph2-2\">\n",
       "<path style=\"stroke:none;\" d=\"M -0.765625 -4.851563 C -0.433594 -4.460938 -0.199219 -4.082031 -0.0625 -3.722656 C 0.0742188 -3.355469 0.140625 -2.96875 0.140625 -2.5625 C 0.140625 -1.875 -0.0234375 -1.351563 -0.359375 -0.984375 C -0.6875 -0.617188 -1.117188 -0.433594 -1.640625 -0.433594 C -1.945313 -0.433594 -2.222656 -0.5 -2.472656 -0.640625 C -2.722656 -0.777344 -2.925781 -0.960938 -3.082031 -1.1875 C -3.234375 -1.410156 -3.347656 -1.664063 -3.429688 -1.945313 C -3.476563 -2.152344 -3.53125 -2.464844 -3.585938 -2.882813 C -3.6875 -3.734375 -3.808594 -4.359375 -3.949219 -4.765625 C -4.089844 -4.765625 -4.179688 -4.769531 -4.226563 -4.769531 C -4.648438 -4.769531 -4.953125 -4.667969 -5.132813 -4.46875 C -5.371094 -4.199219 -5.488281 -3.800781 -5.492188 -3.269531 C -5.488281 -2.773438 -5.402344 -2.40625 -5.230469 -2.171875 C -5.054688 -1.933594 -4.746094 -1.757813 -4.304688 -1.648438 L -4.445313 -0.617188 C -4.886719 -0.707031 -5.242188 -0.863281 -5.515625 -1.078125 C -5.78125 -1.292969 -5.992188 -1.601563 -6.140625 -2.011719 C -6.289063 -2.414063 -6.363281 -2.886719 -6.363281 -3.421875 C -6.363281 -3.953125 -6.300781 -4.382813 -6.175781 -4.714844 C -6.050781 -5.046875 -5.890625 -5.292969 -5.703125 -5.449219 C -5.511719 -5.605469 -5.273438 -5.714844 -4.984375 -5.777344 C -4.804688 -5.808594 -4.480469 -5.824219 -4.015625 -5.828125 L -2.605469 -5.828125 C -1.625 -5.824219 -1.003906 -5.847656 -0.746094 -5.894531 C -0.480469 -5.941406 -0.234375 -6.03125 0 -6.164063 L 0 -5.0625 C -0.21875 -4.953125 -0.472656 -4.882813 -0.765625 -4.851563 Z M -3.121094 -4.765625 C -2.960938 -4.375 -2.828125 -3.800781 -2.726563 -3.039063 C -2.660156 -2.605469 -2.589844 -2.300781 -2.515625 -2.121094 C -2.433594 -1.941406 -2.320313 -1.800781 -2.171875 -1.703125 C -2.019531 -1.605469 -1.851563 -1.558594 -1.671875 -1.558594 C -1.386719 -1.558594 -1.152344 -1.664063 -0.964844 -1.875 C -0.773438 -2.085938 -0.679688 -2.398438 -0.683594 -2.8125 C -0.679688 -3.21875 -0.769531 -3.578125 -0.949219 -3.894531 C -1.128906 -4.210938 -1.371094 -4.445313 -1.679688 -4.59375 C -1.917969 -4.707031 -2.269531 -4.761719 -2.734375 -4.765625 Z M -3.121094 -4.765625 \"/>\n",
       "</symbol>\n",
       "<symbol overflow=\"visible\" id=\"glyph2-3\">\n",
       "<path style=\"stroke:none;\" d=\"M 0 -0.765625 L -8.589844 -0.769531 L -8.589844 -1.824219 L 0 -1.820313 Z M 0 -0.765625 \"/>\n",
       "</symbol>\n",
       "<symbol overflow=\"visible\" id=\"glyph3-0\">\n",
       "<path style=\"stroke:none;\" d=\"M 0.226563 -1.421875 L 1.546875 -1.621094 C 1.601563 -1.363281 1.714844 -1.167969 1.890625 -1.039063 C 2.058594 -0.902344 2.296875 -0.835938 2.609375 -0.839844 C 2.945313 -0.835938 3.203125 -0.898438 3.378906 -1.027344 C 3.492188 -1.109375 3.550781 -1.226563 3.554688 -1.378906 C 3.550781 -1.472656 3.519531 -1.554688 3.460938 -1.625 C 3.390625 -1.683594 3.242188 -1.742188 3.019531 -1.800781 C 1.953125 -2.03125 1.28125 -2.246094 1 -2.441406 C 0.601563 -2.707031 0.402344 -3.082031 0.40625 -3.5625 C 0.402344 -3.992188 0.574219 -4.351563 0.917969 -4.648438 C 1.257813 -4.9375 1.785156 -5.085938 2.503906 -5.089844 C 3.179688 -5.085938 3.6875 -4.976563 4.019531 -4.757813 C 4.351563 -4.535156 4.578125 -4.207031 4.707031 -3.773438 L 3.464844 -3.542969 C 3.40625 -3.734375 3.304688 -3.882813 3.160156 -3.988281 C 3.007813 -4.089844 2.796875 -4.140625 2.527344 -4.144531 C 2.175781 -4.140625 1.929688 -4.09375 1.78125 -4 C 1.679688 -3.925781 1.628906 -3.835938 1.632813 -3.730469 C 1.628906 -3.632813 1.671875 -3.554688 1.761719 -3.492188 C 1.878906 -3.402344 2.289063 -3.277344 2.992188 -3.121094 C 3.691406 -2.960938 4.179688 -2.765625 4.460938 -2.535156 C 4.734375 -2.296875 4.875 -1.96875 4.875 -1.554688 C 4.875 -1.09375 4.683594 -0.703125 4.300781 -0.378906 C 3.917969 -0.0507813 3.351563 0.109375 2.609375 0.113281 C 1.929688 0.109375 1.394531 -0.0234375 1 -0.296875 C 0.601563 -0.570313 0.34375 -0.945313 0.226563 -1.421875 Z M 0.226563 -1.421875 \"/>\n",
       "</symbol>\n",
       "<symbol overflow=\"visible\" id=\"glyph3-1\">\n",
       "<path style=\"stroke:none;\" d=\"M 3.570313 -1.585938 L 4.882813 -1.363281 C 4.710938 -0.878906 4.445313 -0.511719 4.085938 -0.261719 C 3.71875 -0.0117188 3.265625 0.109375 2.71875 0.113281 C 1.851563 0.109375 1.210938 -0.167969 0.796875 -0.734375 C 0.46875 -1.183594 0.304688 -1.757813 0.304688 -2.453125 C 0.304688 -3.273438 0.519531 -3.917969 0.949219 -4.386719 C 1.378906 -4.851563 1.921875 -5.085938 2.585938 -5.089844 C 3.324219 -5.085938 3.910156 -4.839844 4.339844 -4.355469 C 4.765625 -3.863281 4.96875 -3.117188 4.953125 -2.109375 L 1.65625 -2.109375 C 1.660156 -1.71875 1.765625 -1.414063 1.972656 -1.195313 C 2.171875 -0.976563 2.425781 -0.867188 2.734375 -0.871094 C 2.9375 -0.867188 3.109375 -0.921875 3.253906 -1.039063 C 3.390625 -1.148438 3.496094 -1.332031 3.570313 -1.585938 Z M 3.648438 -2.914063 C 3.636719 -3.292969 3.539063 -3.585938 3.351563 -3.785156 C 3.164063 -3.980469 2.933594 -4.078125 2.667969 -4.082031 C 2.375 -4.078125 2.136719 -3.972656 1.953125 -3.769531 C 1.761719 -3.554688 1.671875 -3.269531 1.679688 -2.914063 Z M 3.648438 -2.914063 \"/>\n",
       "</symbol>\n",
       "<symbol overflow=\"visible\" id=\"glyph3-2\">\n",
       "<path style=\"stroke:none;\" d=\"M 0.0546875 0 L 1.851563 -2.5625 L 0.132813 -4.976563 L 1.738281 -4.976563 L 2.621094 -3.609375 L 3.546875 -4.976563 L 5.09375 -4.976563 L 3.40625 -2.621094 L 5.25 0 L 3.632813 0 L 2.621094 -1.542969 L 1.597656 0 Z M 0.0546875 0 \"/>\n",
       "</symbol>\n",
       "<symbol overflow=\"visible\" id=\"glyph4-0\">\n",
       "<path style=\"stroke:none;\" d=\"M 1.097656 0 L 1.097656 -10.308594 L 2.496094 -10.308594 L 7.910156 -2.214844 L 7.910156 -10.308594 L 9.21875 -10.308594 L 9.21875 0 L 7.820313 0 L 2.40625 -8.101563 L 2.40625 0 Z M 1.097656 0 \"/>\n",
       "</symbol>\n",
       "<symbol overflow=\"visible\" id=\"glyph4-1\">\n",
       "<path style=\"stroke:none;\" d=\"M 5.820313 -0.921875 C 5.347656 -0.519531 4.898438 -0.238281 4.464844 -0.078125 C 4.03125 0.0859375 3.566406 0.164063 3.074219 0.167969 C 2.25 0.164063 1.617188 -0.0351563 1.179688 -0.433594 C 0.734375 -0.832031 0.515625 -1.34375 0.519531 -1.96875 C 0.515625 -2.332031 0.597656 -2.664063 0.769531 -2.96875 C 0.933594 -3.269531 1.152344 -3.511719 1.421875 -3.699219 C 1.691406 -3.878906 1.996094 -4.019531 2.335938 -4.113281 C 2.582031 -4.175781 2.957031 -4.238281 3.460938 -4.304688 C 4.480469 -4.421875 5.230469 -4.566406 5.714844 -4.738281 C 5.714844 -4.910156 5.71875 -5.019531 5.722656 -5.070313 C 5.71875 -5.582031 5.597656 -5.945313 5.363281 -6.160156 C 5.035156 -6.441406 4.554688 -6.585938 3.921875 -6.589844 C 3.324219 -6.585938 2.886719 -6.480469 2.605469 -6.273438 C 2.320313 -6.0625 2.109375 -5.695313 1.976563 -5.167969 L 0.738281 -5.335938 C 0.847656 -5.863281 1.03125 -6.292969 1.292969 -6.621094 C 1.546875 -6.945313 1.917969 -7.195313 2.410156 -7.371094 C 2.894531 -7.546875 3.460938 -7.632813 4.105469 -7.636719 C 4.742188 -7.632813 5.261719 -7.558594 5.660156 -7.410156 C 6.058594 -7.257813 6.351563 -7.070313 6.539063 -6.84375 C 6.726563 -6.617188 6.855469 -6.328125 6.933594 -5.984375 C 6.972656 -5.765625 6.996094 -5.378906 6.996094 -4.816406 L 6.996094 -3.128906 C 6.996094 -1.949219 7.019531 -1.203125 7.074219 -0.894531 C 7.125 -0.582031 7.234375 -0.285156 7.398438 0 L 6.074219 0 C 5.941406 -0.261719 5.855469 -0.566406 5.820313 -0.921875 Z M 5.714844 -3.746094 C 5.253906 -3.554688 4.566406 -3.398438 3.648438 -3.269531 C 3.125 -3.191406 2.757813 -3.105469 2.542969 -3.015625 C 2.328125 -2.917969 2.160156 -2.78125 2.046875 -2.605469 C 1.925781 -2.421875 1.867188 -2.222656 1.871094 -2.003906 C 1.867188 -1.664063 1.996094 -1.382813 2.253906 -1.160156 C 2.507813 -0.933594 2.882813 -0.820313 3.375 -0.824219 C 3.859375 -0.820313 4.292969 -0.925781 4.675781 -1.140625 C 5.054688 -1.351563 5.332031 -1.644531 5.511719 -2.019531 C 5.644531 -2.300781 5.710938 -2.722656 5.714844 -3.285156 Z M 5.714844 -3.746094 \"/>\n",
       "</symbol>\n",
       "<symbol overflow=\"visible\" id=\"glyph4-2\">\n",
       "<path style=\"stroke:none;\" d=\"M 0.949219 0 L 0.949219 -7.46875 L 2.082031 -7.46875 L 2.082031 -6.417969 C 2.3125 -6.78125 2.625 -7.078125 3.015625 -7.300781 C 3.402344 -7.523438 3.84375 -7.632813 4.34375 -7.636719 C 4.894531 -7.632813 5.351563 -7.519531 5.707031 -7.289063 C 6.058594 -7.058594 6.304688 -6.738281 6.453125 -6.328125 C 7.039063 -7.199219 7.808594 -7.632813 8.761719 -7.636719 C 9.496094 -7.632813 10.066406 -7.429688 10.46875 -7.019531 C 10.863281 -6.609375 11.0625 -5.976563 11.066406 -5.125 L 11.066406 0 L 9.808594 0 L 9.808594 -4.703125 C 9.808594 -5.207031 9.765625 -5.570313 9.683594 -5.796875 C 9.601563 -6.015625 9.453125 -6.195313 9.238281 -6.335938 C 9.019531 -6.46875 8.765625 -6.539063 8.480469 -6.539063 C 7.949219 -6.539063 7.515625 -6.363281 7.171875 -6.015625 C 6.824219 -5.664063 6.648438 -5.105469 6.652344 -4.339844 L 6.652344 0 L 5.386719 0 L 5.386719 -4.851563 C 5.382813 -5.414063 5.28125 -5.835938 5.074219 -6.117188 C 4.867188 -6.398438 4.527344 -6.539063 4.0625 -6.539063 C 3.703125 -6.539063 3.375 -6.445313 3.074219 -6.257813 C 2.769531 -6.070313 2.550781 -5.792969 2.417969 -5.433594 C 2.28125 -5.070313 2.214844 -4.550781 2.214844 -3.875 L 2.214844 0 Z M 0.949219 0 \"/>\n",
       "</symbol>\n",
       "<symbol overflow=\"visible\" id=\"glyph4-3\">\n",
       "<path style=\"stroke:none;\" d=\"M 6.0625 -2.40625 L 7.367188 -2.242188 C 7.15625 -1.476563 6.777344 -0.882813 6.222656 -0.464844 C 5.664063 -0.0429688 4.949219 0.164063 4.085938 0.167969 C 2.988281 0.164063 2.121094 -0.167969 1.484375 -0.839844 C 0.84375 -1.507813 0.527344 -2.453125 0.527344 -3.671875 C 0.527344 -4.925781 0.847656 -5.898438 1.496094 -6.59375 C 2.140625 -7.285156 2.980469 -7.632813 4.015625 -7.636719 C 5.007813 -7.632813 5.824219 -7.292969 6.460938 -6.617188 C 7.089844 -5.933594 7.40625 -4.976563 7.410156 -3.746094 C 7.40625 -3.667969 7.402344 -3.558594 7.402344 -3.410156 L 1.835938 -3.410156 C 1.878906 -2.589844 2.113281 -1.960938 2.53125 -1.523438 C 2.945313 -1.085938 3.464844 -0.867188 4.09375 -0.871094 C 4.554688 -0.867188 4.949219 -0.988281 5.28125 -1.234375 C 5.605469 -1.476563 5.867188 -1.867188 6.0625 -2.40625 Z M 1.90625 -4.449219 L 6.074219 -4.449219 C 6.015625 -5.074219 5.855469 -5.546875 5.597656 -5.863281 C 5.191406 -6.347656 4.667969 -6.589844 4.027344 -6.59375 C 3.441406 -6.589844 2.953125 -6.398438 2.5625 -6.011719 C 2.164063 -5.621094 1.945313 -5.097656 1.90625 -4.449219 Z M 1.90625 -4.449219 \"/>\n",
       "</symbol>\n",
       "<symbol overflow=\"visible\" id=\"glyph4-4\">\n",
       "<path style=\"stroke:none;\" d=\"M 0.441406 -2.230469 L 1.695313 -2.425781 C 1.761719 -1.921875 1.957031 -1.535156 2.28125 -1.269531 C 2.597656 -1 3.046875 -0.867188 3.628906 -0.871094 C 4.207031 -0.867188 4.640625 -0.984375 4.921875 -1.226563 C 5.203125 -1.460938 5.34375 -1.738281 5.34375 -2.058594 C 5.34375 -2.339844 5.21875 -2.566406 4.972656 -2.734375 C 4.796875 -2.84375 4.363281 -2.988281 3.675781 -3.164063 C 2.746094 -3.398438 2.105469 -3.597656 1.746094 -3.769531 C 1.386719 -3.9375 1.113281 -4.175781 0.929688 -4.480469 C 0.742188 -4.78125 0.648438 -5.117188 0.652344 -5.484375 C 0.648438 -5.816406 0.726563 -6.125 0.878906 -6.410156 C 1.03125 -6.691406 1.238281 -6.925781 1.503906 -7.117188 C 1.699219 -7.257813 1.96875 -7.378906 2.308594 -7.484375 C 2.648438 -7.582031 3.011719 -7.632813 3.402344 -7.636719 C 3.984375 -7.632813 4.5 -7.550781 4.945313 -7.382813 C 5.386719 -7.210938 5.710938 -6.980469 5.925781 -6.695313 C 6.132813 -6.40625 6.28125 -6.019531 6.363281 -5.539063 L 5.125 -5.371094 C 5.066406 -5.753906 4.902344 -6.054688 4.636719 -6.269531 C 4.363281 -6.484375 3.984375 -6.589844 3.496094 -6.59375 C 2.910156 -6.589844 2.496094 -6.496094 2.25 -6.304688 C 2 -6.113281 1.875 -5.886719 1.878906 -5.632813 C 1.875 -5.464844 1.925781 -5.316406 2.03125 -5.1875 C 2.132813 -5.046875 2.292969 -4.9375 2.515625 -4.851563 C 2.640625 -4.804688 3.015625 -4.695313 3.636719 -4.527344 C 4.527344 -4.285156 5.152344 -4.089844 5.507813 -3.9375 C 5.859375 -3.785156 6.136719 -3.5625 6.339844 -3.273438 C 6.542969 -2.980469 6.644531 -2.621094 6.644531 -2.195313 C 6.644531 -1.769531 6.519531 -1.371094 6.273438 -1 C 6.027344 -0.625 5.671875 -0.335938 5.210938 -0.136719 C 4.742188 0.0664063 4.21875 0.164063 3.636719 0.167969 C 2.664063 0.164063 1.921875 -0.0351563 1.414063 -0.433594 C 0.902344 -0.835938 0.578125 -1.433594 0.441406 -2.230469 Z M 0.441406 -2.230469 \"/>\n",
       "</symbol>\n",
       "<symbol overflow=\"visible\" id=\"glyph4-5\">\n",
       "<path style=\"stroke:none;\" d=\"\"/>\n",
       "</symbol>\n",
       "<symbol overflow=\"visible\" id=\"glyph4-6\">\n",
       "<path style=\"stroke:none;\" d=\"M 3.710938 -1.132813 L 3.894531 -0.015625 C 3.535156 0.0585938 3.214844 0.09375 2.9375 0.0976563 C 2.476563 0.09375 2.121094 0.0234375 1.871094 -0.117188 C 1.613281 -0.261719 1.4375 -0.453125 1.335938 -0.691406 C 1.230469 -0.925781 1.175781 -1.421875 1.179688 -2.1875 L 1.179688 -6.484375 L 0.253906 -6.484375 L 0.253906 -7.46875 L 1.179688 -7.46875 L 1.179688 -9.316406 L 2.441406 -10.074219 L 2.441406 -7.46875 L 3.710938 -7.46875 L 3.710938 -6.484375 L 2.441406 -6.484375 L 2.441406 -2.117188 C 2.4375 -1.75 2.460938 -1.519531 2.507813 -1.417969 C 2.550781 -1.316406 2.621094 -1.234375 2.722656 -1.171875 C 2.820313 -1.109375 2.964844 -1.078125 3.15625 -1.082031 C 3.292969 -1.078125 3.476563 -1.09375 3.710938 -1.132813 Z M 3.710938 -1.132813 \"/>\n",
       "</symbol>\n",
       "<symbol overflow=\"visible\" id=\"glyph4-7\">\n",
       "<path style=\"stroke:none;\" d=\"M 0.933594 0 L 0.933594 -7.46875 L 2.074219 -7.46875 L 2.074219 -6.335938 C 2.363281 -6.859375 2.628906 -7.210938 2.878906 -7.382813 C 3.121094 -7.550781 3.394531 -7.632813 3.691406 -7.636719 C 4.117188 -7.632813 4.550781 -7.496094 4.992188 -7.226563 L 4.554688 -6.054688 C 4.242188 -6.234375 3.933594 -6.328125 3.628906 -6.328125 C 3.347656 -6.328125 3.101563 -6.242188 2.882813 -6.078125 C 2.660156 -5.90625 2.5 -5.675781 2.410156 -5.386719 C 2.265625 -4.933594 2.195313 -4.441406 2.199219 -3.910156 L 2.199219 0 Z M 0.933594 0 \"/>\n",
       "</symbol>\n",
       "<symbol overflow=\"visible\" id=\"glyph4-8\">\n",
       "<path style=\"stroke:none;\" d=\"M 0.957031 -8.851563 L 0.957031 -10.308594 L 2.222656 -10.308594 L 2.222656 -8.851563 Z M 0.957031 0 L 0.957031 -7.46875 L 2.222656 -7.46875 L 2.222656 0 Z M 0.957031 0 \"/>\n",
       "</symbol>\n",
       "<symbol overflow=\"visible\" id=\"glyph4-9\">\n",
       "<path style=\"stroke:none;\" d=\"M 0.949219 0 L 0.949219 -7.46875 L 2.089844 -7.46875 L 2.089844 -6.40625 C 2.632813 -7.222656 3.425781 -7.632813 4.464844 -7.636719 C 4.914063 -7.632813 5.328125 -7.554688 5.707031 -7.394531 C 6.082031 -7.230469 6.363281 -7.015625 6.554688 -6.757813 C 6.738281 -6.492188 6.867188 -6.179688 6.945313 -5.820313 C 6.988281 -5.582031 7.011719 -5.171875 7.015625 -4.589844 L 7.015625 0 L 5.75 0 L 5.75 -4.542969 C 5.746094 -5.054688 5.699219 -5.441406 5.601563 -5.699219 C 5.503906 -5.953125 5.328125 -6.15625 5.078125 -6.308594 C 4.824219 -6.460938 4.53125 -6.539063 4.199219 -6.539063 C 3.65625 -6.539063 3.191406 -6.367188 2.800781 -6.023438 C 2.410156 -5.679688 2.214844 -5.03125 2.214844 -4.078125 L 2.214844 0 Z M 0.949219 0 \"/>\n",
       "</symbol>\n",
       "<symbol overflow=\"visible\" id=\"glyph4-10\">\n",
       "<path style=\"stroke:none;\" d=\"M 0.71875 0.617188 L 1.949219 0.800781 C 1.996094 1.179688 2.136719 1.457031 2.375 1.632813 C 2.6875 1.863281 3.117188 1.980469 3.664063 1.984375 C 4.246094 1.980469 4.699219 1.863281 5.019531 1.632813 C 5.335938 1.394531 5.550781 1.066406 5.667969 0.648438 C 5.730469 0.386719 5.761719 -0.152344 5.757813 -0.976563 C 5.203125 -0.324219 4.515625 0 3.691406 0 C 2.664063 0 1.867188 -0.367188 1.308594 -1.109375 C 0.742188 -1.847656 0.460938 -2.738281 0.464844 -3.777344 C 0.460938 -4.484375 0.589844 -5.140625 0.851563 -5.746094 C 1.105469 -6.347656 1.480469 -6.8125 1.972656 -7.144531 C 2.460938 -7.46875 3.035156 -7.632813 3.699219 -7.636719 C 4.574219 -7.632813 5.300781 -7.277344 5.878906 -6.566406 L 5.878906 -7.46875 L 7.046875 -7.46875 L 7.046875 -1.011719 C 7.042969 0.148438 6.925781 0.96875 6.691406 1.457031 C 6.453125 1.941406 6.078125 2.324219 5.566406 2.609375 C 5.050781 2.886719 4.417969 3.027344 3.671875 3.03125 C 2.777344 3.027344 2.058594 2.828125 1.511719 2.429688 C 0.960938 2.027344 0.695313 1.421875 0.71875 0.617188 Z M 1.765625 -3.867188 C 1.761719 -2.886719 1.957031 -2.171875 2.347656 -1.722656 C 2.734375 -1.269531 3.222656 -1.042969 3.8125 -1.046875 C 4.390625 -1.042969 4.878906 -1.265625 5.273438 -1.71875 C 5.664063 -2.164063 5.859375 -2.867188 5.863281 -3.824219 C 5.859375 -4.734375 5.65625 -5.421875 5.253906 -5.890625 C 4.847656 -6.351563 4.359375 -6.585938 3.789063 -6.589844 C 3.222656 -6.585938 2.746094 -6.355469 2.355469 -5.902344 C 1.960938 -5.441406 1.761719 -4.765625 1.765625 -3.867188 Z M 1.765625 -3.867188 \"/>\n",
       "</symbol>\n",
       "<symbol overflow=\"visible\" id=\"glyph4-11\">\n",
       "<path style=\"stroke:none;\" d=\"M 2.328125 0 L 0.0429688 -7.46875 L 1.351563 -7.46875 L 2.539063 -3.15625 L 2.980469 -1.554688 C 2.996094 -1.628906 3.125 -2.144531 3.367188 -3.09375 L 4.554688 -7.46875 L 5.855469 -7.46875 L 6.976563 -3.136719 L 7.347656 -1.707031 L 7.777344 -3.148438 L 9.054688 -7.46875 L 10.285156 -7.46875 L 7.953125 0 L 6.636719 0 L 5.449219 -4.472656 L 5.160156 -5.746094 L 3.648438 0 Z M 2.328125 0 \"/>\n",
       "</symbol>\n",
       "<symbol overflow=\"visible\" id=\"glyph4-12\">\n",
       "<path style=\"stroke:none;\" d=\"M 0.949219 0 L 0.949219 -10.308594 L 2.214844 -10.308594 L 2.214844 -6.609375 C 2.804688 -7.292969 3.546875 -7.632813 4.449219 -7.636719 C 5 -7.632813 5.480469 -7.523438 5.890625 -7.308594 C 6.296875 -7.085938 6.589844 -6.785156 6.765625 -6.402344 C 6.941406 -6.015625 7.03125 -5.457031 7.03125 -4.730469 L 7.03125 0 L 5.765625 0 L 5.765625 -4.730469 C 5.765625 -5.359375 5.625 -5.820313 5.351563 -6.113281 C 5.074219 -6.398438 4.6875 -6.542969 4.191406 -6.546875 C 3.8125 -6.542969 3.460938 -6.445313 3.132813 -6.253906 C 2.800781 -6.054688 2.566406 -5.792969 2.425781 -5.460938 C 2.285156 -5.128906 2.214844 -4.667969 2.214844 -4.085938 L 2.214844 0 Z M 0.949219 0 \"/>\n",
       "</symbol>\n",
       "<symbol overflow=\"visible\" id=\"glyph4-13\">\n",
       "<path style=\"stroke:none;\" d=\"M 1.011719 -6.660156 L 0.660156 -8.621094 L 0.660156 -10.308594 L 2.101563 -10.308594 L 2.101563 -8.621094 L 1.785156 -6.660156 Z M 3.339844 -6.660156 L 2.996094 -8.621094 L 2.996094 -10.308594 L 4.4375 -10.308594 L 4.4375 -8.621094 L 4.097656 -6.660156 Z M 3.339844 -6.660156 \"/>\n",
       "</symbol>\n",
       "<symbol overflow=\"visible\" id=\"glyph4-14\">\n",
       "<path style=\"stroke:none;\" d=\"M 0.648438 -3.3125 L 1.933594 -3.425781 C 1.992188 -2.90625 2.132813 -2.484375 2.355469 -2.15625 C 2.578125 -1.824219 2.921875 -1.554688 3.394531 -1.351563 C 3.859375 -1.144531 4.386719 -1.042969 4.976563 -1.046875 C 5.492188 -1.042969 5.953125 -1.121094 6.355469 -1.277344 C 6.75 -1.433594 7.046875 -1.644531 7.246094 -1.914063 C 7.4375 -2.183594 7.535156 -2.476563 7.539063 -2.796875 C 7.535156 -3.117188 7.441406 -3.402344 7.257813 -3.644531 C 7.066406 -3.886719 6.757813 -4.089844 6.328125 -4.253906 C 6.050781 -4.359375 5.4375 -4.523438 4.492188 -4.753906 C 3.542969 -4.980469 2.878906 -5.195313 2.503906 -5.398438 C 2.007813 -5.652344 1.640625 -5.972656 1.402344 -6.359375 C 1.15625 -6.738281 1.035156 -7.167969 1.039063 -7.644531 C 1.035156 -8.160156 1.183594 -8.644531 1.480469 -9.101563 C 1.773438 -9.550781 2.207031 -9.894531 2.777344 -10.132813 C 3.34375 -10.363281 3.972656 -10.480469 4.667969 -10.484375 C 5.429688 -10.480469 6.105469 -10.359375 6.691406 -10.113281 C 7.273438 -9.867188 7.71875 -9.503906 8.035156 -9.027344 C 8.347656 -8.546875 8.519531 -8.003906 8.542969 -7.402344 L 7.234375 -7.304688 C 7.160156 -7.953125 6.921875 -8.445313 6.519531 -8.78125 C 6.113281 -9.113281 5.515625 -9.28125 4.726563 -9.28125 C 3.898438 -9.28125 3.296875 -9.128906 2.921875 -8.828125 C 2.542969 -8.523438 2.355469 -8.160156 2.355469 -7.734375 C 2.355469 -7.363281 2.488281 -7.058594 2.757813 -6.820313 C 3.015625 -6.578125 3.699219 -6.332031 4.8125 -6.085938 C 5.917969 -5.832031 6.679688 -5.613281 7.09375 -5.429688 C 7.691406 -5.148438 8.132813 -4.796875 8.421875 -4.375 C 8.703125 -3.949219 8.847656 -3.460938 8.851563 -2.910156 C 8.847656 -2.359375 8.691406 -1.84375 8.378906 -1.359375 C 8.066406 -0.875 7.613281 -0.496094 7.027344 -0.226563 C 6.433594 0.0429688 5.773438 0.175781 5.042969 0.175781 C 4.105469 0.175781 3.324219 0.0429688 2.695313 -0.230469 C 2.0625 -0.5 1.566406 -0.910156 1.210938 -1.457031 C 0.851563 -2 0.664063 -2.617188 0.648438 -3.3125 Z M 0.648438 -3.3125 \"/>\n",
       "</symbol>\n",
       "</g>\n",
       "<clipPath id=\"clip1\">\n",
       "  <path d=\"M 56.773438 31.90625 L 433.589844 31.90625 L 433.589844 468.050781 L 56.773438 468.050781 Z M 56.773438 31.90625 \"/>\n",
       "</clipPath>\n",
       "</defs>\n",
       "<g id=\"surface1\">\n",
       "<rect x=\"0\" y=\"0\" width=\"504\" height=\"504\" style=\"fill:rgb(100%,100%,100%);fill-opacity:1;stroke:none;\"/>\n",
       "<rect x=\"0\" y=\"0\" width=\"504\" height=\"504\" style=\"fill:rgb(100%,100%,100%);fill-opacity:1;stroke:none;\"/>\n",
       "<path style=\"fill:none;stroke-width:1.062992;stroke-linecap:round;stroke-linejoin:round;stroke:rgb(100%,100%,100%);stroke-opacity:1;stroke-miterlimit:10;\" d=\"M 0 504 L 504 504 L 504 0 L 0 0 Z M 0 504 \"/>\n",
       "<g clip-path=\"url(#clip1)\" clip-rule=\"nonzero\">\n",
       "<path style=\" stroke:none;fill-rule:nonzero;fill:rgb(89.803922%,89.803922%,89.803922%);fill-opacity:1;\" d=\"M 56.773438 467.050781 L 432.589844 467.050781 L 432.589844 31.90625 L 56.773438 31.90625 Z M 56.773438 467.050781 \"/>\n",
       "<path style=\"fill:none;stroke-width:0.531496;stroke-linecap:butt;stroke-linejoin:round;stroke:rgb(94.901961%,94.901961%,94.901961%);stroke-opacity:1;stroke-miterlimit:10;\" d=\"M 56.773438 390.449219 L 432.585938 390.449219 \"/>\n",
       "<path style=\"fill:none;stroke-width:0.531496;stroke-linecap:butt;stroke-linejoin:round;stroke:rgb(94.901961%,94.901961%,94.901961%);stroke-opacity:1;stroke-miterlimit:10;\" d=\"M 56.773438 274 L 432.585938 274 \"/>\n",
       "<path style=\"fill:none;stroke-width:0.531496;stroke-linecap:butt;stroke-linejoin:round;stroke:rgb(94.901961%,94.901961%,94.901961%);stroke-opacity:1;stroke-miterlimit:10;\" d=\"M 56.773438 157.550781 L 432.585938 157.550781 \"/>\n",
       "<path style=\"fill:none;stroke-width:0.531496;stroke-linecap:butt;stroke-linejoin:round;stroke:rgb(94.901961%,94.901961%,94.901961%);stroke-opacity:1;stroke-miterlimit:10;\" d=\"M 56.773438 41.101563 L 432.585938 41.101563 \"/>\n",
       "<path style=\"fill:none;stroke-width:0.531496;stroke-linecap:butt;stroke-linejoin:round;stroke:rgb(94.901961%,94.901961%,94.901961%);stroke-opacity:1;stroke-miterlimit:10;\" d=\"M 93.121094 467.050781 L 93.121094 31.90625 \"/>\n",
       "<path style=\"fill:none;stroke-width:0.531496;stroke-linecap:butt;stroke-linejoin:round;stroke:rgb(94.901961%,94.901961%,94.901961%);stroke-opacity:1;stroke-miterlimit:10;\" d=\"M 157.339844 467.050781 L 157.339844 31.90625 \"/>\n",
       "<path style=\"fill:none;stroke-width:0.531496;stroke-linecap:butt;stroke-linejoin:round;stroke:rgb(94.901961%,94.901961%,94.901961%);stroke-opacity:1;stroke-miterlimit:10;\" d=\"M 221.558594 467.050781 L 221.558594 31.90625 \"/>\n",
       "<path style=\"fill:none;stroke-width:0.531496;stroke-linecap:butt;stroke-linejoin:round;stroke:rgb(94.901961%,94.901961%,94.901961%);stroke-opacity:1;stroke-miterlimit:10;\" d=\"M 285.78125 467.050781 L 285.78125 31.90625 \"/>\n",
       "<path style=\"fill:none;stroke-width:0.531496;stroke-linecap:butt;stroke-linejoin:round;stroke:rgb(94.901961%,94.901961%,94.901961%);stroke-opacity:1;stroke-miterlimit:10;\" d=\"M 350 467.050781 L 350 31.90625 \"/>\n",
       "<path style=\"fill:none;stroke-width:0.531496;stroke-linecap:butt;stroke-linejoin:round;stroke:rgb(94.901961%,94.901961%,94.901961%);stroke-opacity:1;stroke-miterlimit:10;\" d=\"M 414.21875 467.050781 L 414.21875 31.90625 \"/>\n",
       "<path style=\"fill:none;stroke-width:1.062992;stroke-linecap:butt;stroke-linejoin:round;stroke:rgb(100%,100%,100%);stroke-opacity:1;stroke-miterlimit:10;\" d=\"M 56.773438 448.675781 L 432.585938 448.675781 \"/>\n",
       "<path style=\"fill:none;stroke-width:1.062992;stroke-linecap:butt;stroke-linejoin:round;stroke:rgb(100%,100%,100%);stroke-opacity:1;stroke-miterlimit:10;\" d=\"M 56.773438 332.226563 L 432.585938 332.226563 \"/>\n",
       "<path style=\"fill:none;stroke-width:1.062992;stroke-linecap:butt;stroke-linejoin:round;stroke:rgb(100%,100%,100%);stroke-opacity:1;stroke-miterlimit:10;\" d=\"M 56.773438 215.777344 L 432.585938 215.777344 \"/>\n",
       "<path style=\"fill:none;stroke-width:1.062992;stroke-linecap:butt;stroke-linejoin:round;stroke:rgb(100%,100%,100%);stroke-opacity:1;stroke-miterlimit:10;\" d=\"M 56.773438 99.328125 L 432.585938 99.328125 \"/>\n",
       "<path style=\"fill:none;stroke-width:1.062992;stroke-linecap:butt;stroke-linejoin:round;stroke:rgb(100%,100%,100%);stroke-opacity:1;stroke-miterlimit:10;\" d=\"M 61.011719 467.050781 L 61.011719 31.90625 \"/>\n",
       "<path style=\"fill:none;stroke-width:1.062992;stroke-linecap:butt;stroke-linejoin:round;stroke:rgb(100%,100%,100%);stroke-opacity:1;stroke-miterlimit:10;\" d=\"M 125.230469 467.050781 L 125.230469 31.90625 \"/>\n",
       "<path style=\"fill:none;stroke-width:1.062992;stroke-linecap:butt;stroke-linejoin:round;stroke:rgb(100%,100%,100%);stroke-opacity:1;stroke-miterlimit:10;\" d=\"M 189.449219 467.050781 L 189.449219 31.90625 \"/>\n",
       "<path style=\"fill:none;stroke-width:1.062992;stroke-linecap:butt;stroke-linejoin:round;stroke:rgb(100%,100%,100%);stroke-opacity:1;stroke-miterlimit:10;\" d=\"M 253.671875 467.050781 L 253.671875 31.90625 \"/>\n",
       "<path style=\"fill:none;stroke-width:1.062992;stroke-linecap:butt;stroke-linejoin:round;stroke:rgb(100%,100%,100%);stroke-opacity:1;stroke-miterlimit:10;\" d=\"M 317.890625 467.050781 L 317.890625 31.90625 \"/>\n",
       "<path style=\"fill:none;stroke-width:1.062992;stroke-linecap:butt;stroke-linejoin:round;stroke:rgb(100%,100%,100%);stroke-opacity:1;stroke-miterlimit:10;\" d=\"M 382.109375 467.050781 L 382.109375 31.90625 \"/>\n",
       "<path style=\"fill:none;stroke-width:1.062992;stroke-linecap:butt;stroke-linejoin:round;stroke:rgb(97.254902%,46.27451%,42.745098%);stroke-opacity:1;stroke-miterlimit:1;\" d=\"M 73.855469 446.265625 L 76.421875 446.253906 L 78.992188 445.730469 L 81.5625 445.59375 L 84.128906 445.273438 L 86.699219 444.898438 L 89.265625 444.589844 L 91.835938 444.808594 L 94.40625 444.164063 L 96.972656 443.488281 L 99.542969 443.296875 L 102.109375 443.570313 L 104.679688 442.964844 L 107.25 443.238281 L 109.816406 442.601563 L 112.386719 442.65625 L 114.953125 442.464844 L 117.523438 442.933594 L 120.09375 442.363281 L 122.660156 442.851563 L 125.230469 441.628906 L 127.800781 443.144531 L 130.367188 442.289063 L 132.9375 442.484375 L 135.503906 442.398438 L 138.074219 441.992188 L 140.644531 441.730469 L 143.210938 441.640625 L 145.78125 441.078125 L 148.347656 441.234375 L 150.917969 440.1875 L 153.488281 439.445313 L 156.054688 436.53125 L 158.625 434.132813 L 161.195313 430.03125 L 163.761719 423.988281 L 166.332031 422.648438 L 168.898438 422.40625 L 171.46875 421.949219 L 174.039063 423.929688 L 176.605469 425.171875 L 179.175781 426.441406 L 181.742188 428 L 184.3125 429.257813 L 186.882813 430.480469 L 189.449219 433.269531 L 192.019531 434.578125 L 194.585938 435.179688 L 197.15625 436.988281 L 199.726563 437.867188 L 202.292969 438.660156 L 204.863281 439.675781 L 207.433594 439.878906 L 210 441.363281 L 212.570313 441.472656 L 215.136719 442.136719 L 217.707031 441.847656 L 220.277344 441.984375 L 222.84375 441.949219 L 225.414063 441.207031 L 227.980469 440.429688 L 230.550781 439.324219 L 233.121094 437.445313 L 235.6875 436.40625 L 238.257813 436.773438 L 240.824219 437.054688 L 243.394531 431.984375 L 245.964844 429.996094 L 248.53125 427.089844 L 251.101563 425.160156 L 253.671875 425.070313 L 256.238281 425.578125 L 258.808594 423.464844 L 261.375 423.191406 L 263.945313 421.9375 L 266.515625 419.855469 L 269.082031 418.707031 L 271.652344 417.296875 L 274.21875 417.328125 L 276.789063 413.898438 L 279.359375 411.050781 L 281.925781 407.5 L 284.496094 404.703125 L 287.0625 401.375 L 289.632813 393.71875 L 292.203125 382.910156 L 294.769531 379.253906 L 297.339844 357.984375 L 299.910156 361.828125 L 302.476563 351.726563 L 305.046875 342.851563 L 307.613281 346.21875 L 310.183594 334.996094 L 312.753906 333.9375 L 315.320313 335.597656 L 317.890625 344.480469 L 320.457031 347.777344 L 323.027344 344.5625 L 325.597656 340.882813 L 328.164063 341.523438 L 330.734375 327.730469 L 333.304688 312.546875 L 335.871094 304.667969 L 338.441406 291.5625 L 341.007813 290.414063 L 343.578125 292.550781 L 346.148438 294.886719 L 348.714844 295.445313 L 351.285156 292.0625 L 353.851563 291.027344 L 356.421875 281.371094 L 358.992188 295.457031 L 361.558594 314.257813 L 364.128906 331.417969 L 366.695313 347.351563 L 369.265625 360.003906 L 371.835938 368.140625 L 374.402344 380.523438 L 376.972656 388.152344 L 379.542969 392.761719 L 382.109375 396.691406 L 384.679688 398.492188 L 387.246094 400.347656 L 389.816406 403.421875 L 392.386719 404.109375 L 394.953125 405.957031 L 397.523438 406.671875 L 400.089844 410.484375 L 402.660156 412.378906 L 405.230469 410.078125 L 407.796875 408.566406 L 410.367188 409.535156 L 412.933594 409.238281 L 415.503906 411.855469 \"/>\n",
       "<path style=\"fill:none;stroke-width:1.062992;stroke-linecap:butt;stroke-linejoin:round;stroke:rgb(0%,74.901961%,76.862745%);stroke-opacity:1;stroke-miterlimit:1;\" d=\"M 73.855469 447.039063 L 76.421875 447.273438 L 78.992188 446.773438 L 81.5625 447.203125 L 84.128906 446.976563 L 86.699219 447.023438 L 89.265625 446.882813 L 91.835938 447.082031 L 94.40625 446.691406 L 96.972656 447.027344 L 99.542969 446.992188 L 102.109375 447.070313 L 104.679688 446.785156 L 107.25 446.75 L 109.816406 446.882813 L 112.386719 446.667969 L 114.953125 446.765625 L 117.523438 446.683594 L 120.09375 446.441406 L 122.660156 446.679688 L 125.230469 446.050781 L 127.800781 446.796875 L 130.367188 446.394531 L 132.9375 446.199219 L 135.503906 446.316406 L 138.074219 446.007813 L 140.644531 446.144531 L 143.210938 445.480469 L 145.78125 445.402344 L 148.347656 444.890625 L 150.917969 444.097656 L 153.488281 443.203125 L 156.054688 437.605469 L 158.625 435.390625 L 161.195313 430.484375 L 163.761719 425.433594 L 166.332031 424.390625 L 168.898438 423.8125 L 171.46875 423.066406 L 174.039063 425.566406 L 176.605469 424.496094 L 179.175781 423.796875 L 181.742188 425.207031 L 184.3125 426.199219 L 186.882813 426.339844 L 189.449219 427.476563 L 192.019531 429.207031 L 194.585938 428.710938 L 197.15625 430.417969 L 199.726563 430.703125 L 202.292969 431.320313 L 204.863281 431.730469 L 207.433594 431.003906 L 210 432.128906 L 212.570313 431.332031 L 215.136719 429.308594 L 217.707031 427.726563 L 220.277344 425.273438 L 222.84375 418.554688 L 225.414063 413.125 L 227.980469 401.261719 L 230.550781 385.464844 L 233.121094 365.535156 L 235.6875 356.8125 L 238.257813 352.253906 L 240.824219 338.894531 L 243.394531 295.671875 L 245.964844 236.8125 L 248.53125 215.339844 L 251.101563 176.386719 L 253.671875 160.816406 L 256.238281 120.066406 L 258.808594 92.386719 L 261.375 88.277344 L 263.945313 67.1875 L 266.515625 55.996094 L 269.082031 51.6875 L 271.652344 55.984375 L 274.21875 82.972656 L 276.789063 80.617188 L 279.359375 82.046875 L 281.925781 96.480469 L 284.496094 111.589844 L 287.0625 130.425781 L 289.632813 134.820313 L 292.203125 155.945313 L 294.769531 164.089844 L 297.339844 169.867188 L 299.910156 184.132813 L 302.476563 177.664063 L 305.046875 177.9375 L 307.613281 209.824219 L 310.183594 248.179688 L 312.753906 272.527344 L 315.320313 269.773438 L 317.890625 276.410156 L 320.457031 278.628906 L 323.027344 280.574219 L 325.597656 280.132813 L 328.164063 279.90625 L 330.734375 281.402344 L 333.304688 277.332031 L 335.871094 271.222656 L 338.441406 258.363281 L 341.007813 254.296875 L 343.578125 249.667969 L 346.148438 254.398438 L 348.714844 256.382813 L 351.285156 254.546875 L 353.851563 245.003906 L 356.421875 244.898438 L 358.992188 263.722656 L 361.558594 283.644531 L 364.128906 298.789063 L 366.695313 312.085938 L 369.265625 326.902344 L 371.835938 338.175781 L 374.402344 347.039063 L 376.972656 355.277344 L 379.542969 361.476563 L 382.109375 366.789063 L 384.679688 374.1875 L 387.246094 380.082031 L 389.816406 383.488281 L 392.386719 389.292969 L 394.953125 391.636719 L 397.523438 394.46875 L 400.089844 397.613281 L 402.660156 401.460938 L 405.230469 404.972656 L 407.796875 408.394531 L 410.367188 410.351563 L 412.933594 409.960938 L 415.503906 412.6875 \"/>\n",
       "</g>\n",
       "<g style=\"fill:rgb(49.803922%,49.803922%,49.803922%);fill-opacity:1;\">\n",
       "  <use xlink:href=\"#glyph0-0\" x=\"44.34375\" y=\"452.113281\"/>\n",
       "</g>\n",
       "<g style=\"fill:rgb(49.803922%,49.803922%,49.803922%);fill-opacity:1;\">\n",
       "  <use xlink:href=\"#glyph0-1\" x=\"22.988281\" y=\"335.660156\"/>\n",
       "  <use xlink:href=\"#glyph0-0\" x=\"28.327344\" y=\"335.660156\"/>\n",
       "  <use xlink:href=\"#glyph0-0\" x=\"33.666406\" y=\"335.660156\"/>\n",
       "  <use xlink:href=\"#glyph0-0\" x=\"39.005469\" y=\"335.660156\"/>\n",
       "  <use xlink:href=\"#glyph0-0\" x=\"44.344531\" y=\"335.660156\"/>\n",
       "</g>\n",
       "<g style=\"fill:rgb(49.803922%,49.803922%,49.803922%);fill-opacity:1;\">\n",
       "  <use xlink:href=\"#glyph0-2\" x=\"22.988281\" y=\"219.210938\"/>\n",
       "  <use xlink:href=\"#glyph0-0\" x=\"28.327344\" y=\"219.210938\"/>\n",
       "  <use xlink:href=\"#glyph0-0\" x=\"33.666406\" y=\"219.210938\"/>\n",
       "  <use xlink:href=\"#glyph0-0\" x=\"39.005469\" y=\"219.210938\"/>\n",
       "  <use xlink:href=\"#glyph0-0\" x=\"44.344531\" y=\"219.210938\"/>\n",
       "</g>\n",
       "<g style=\"fill:rgb(49.803922%,49.803922%,49.803922%);fill-opacity:1;\">\n",
       "  <use xlink:href=\"#glyph0-3\" x=\"22.988281\" y=\"102.761719\"/>\n",
       "  <use xlink:href=\"#glyph0-0\" x=\"28.327344\" y=\"102.761719\"/>\n",
       "  <use xlink:href=\"#glyph0-0\" x=\"33.666406\" y=\"102.761719\"/>\n",
       "  <use xlink:href=\"#glyph0-0\" x=\"39.005469\" y=\"102.761719\"/>\n",
       "  <use xlink:href=\"#glyph0-0\" x=\"44.344531\" y=\"102.761719\"/>\n",
       "</g>\n",
       "<path style=\"fill:none;stroke-width:1.062992;stroke-linecap:butt;stroke-linejoin:round;stroke:rgb(49.803922%,49.803922%,49.803922%);stroke-opacity:1;stroke-miterlimit:10;\" d=\"M 52.519531 448.675781 L 56.773438 448.675781 \"/>\n",
       "<path style=\"fill:none;stroke-width:1.062992;stroke-linecap:butt;stroke-linejoin:round;stroke:rgb(49.803922%,49.803922%,49.803922%);stroke-opacity:1;stroke-miterlimit:10;\" d=\"M 52.519531 332.226563 L 56.773438 332.226563 \"/>\n",
       "<path style=\"fill:none;stroke-width:1.062992;stroke-linecap:butt;stroke-linejoin:round;stroke:rgb(49.803922%,49.803922%,49.803922%);stroke-opacity:1;stroke-miterlimit:10;\" d=\"M 52.519531 215.777344 L 56.773438 215.777344 \"/>\n",
       "<path style=\"fill:none;stroke-width:1.062992;stroke-linecap:butt;stroke-linejoin:round;stroke:rgb(49.803922%,49.803922%,49.803922%);stroke-opacity:1;stroke-miterlimit:10;\" d=\"M 52.519531 99.328125 L 56.773438 99.328125 \"/>\n",
       "<path style=\"fill:none;stroke-width:1.062992;stroke-linecap:butt;stroke-linejoin:round;stroke:rgb(49.803922%,49.803922%,49.803922%);stroke-opacity:1;stroke-miterlimit:10;\" d=\"M 61.011719 471.304688 L 61.011719 467.050781 \"/>\n",
       "<path style=\"fill:none;stroke-width:1.062992;stroke-linecap:butt;stroke-linejoin:round;stroke:rgb(49.803922%,49.803922%,49.803922%);stroke-opacity:1;stroke-miterlimit:10;\" d=\"M 125.230469 471.304688 L 125.230469 467.050781 \"/>\n",
       "<path style=\"fill:none;stroke-width:1.062992;stroke-linecap:butt;stroke-linejoin:round;stroke:rgb(49.803922%,49.803922%,49.803922%);stroke-opacity:1;stroke-miterlimit:10;\" d=\"M 189.449219 471.304688 L 189.449219 467.050781 \"/>\n",
       "<path style=\"fill:none;stroke-width:1.062992;stroke-linecap:butt;stroke-linejoin:round;stroke:rgb(49.803922%,49.803922%,49.803922%);stroke-opacity:1;stroke-miterlimit:10;\" d=\"M 253.671875 471.304688 L 253.671875 467.050781 \"/>\n",
       "<path style=\"fill:none;stroke-width:1.062992;stroke-linecap:butt;stroke-linejoin:round;stroke:rgb(49.803922%,49.803922%,49.803922%);stroke-opacity:1;stroke-miterlimit:10;\" d=\"M 317.890625 471.304688 L 317.890625 467.050781 \"/>\n",
       "<path style=\"fill:none;stroke-width:1.062992;stroke-linecap:butt;stroke-linejoin:round;stroke:rgb(49.803922%,49.803922%,49.803922%);stroke-opacity:1;stroke-miterlimit:10;\" d=\"M 382.109375 471.304688 L 382.109375 467.050781 \"/>\n",
       "<g style=\"fill:rgb(49.803922%,49.803922%,49.803922%);fill-opacity:1;\">\n",
       "  <use xlink:href=\"#glyph0-4\" x=\"50.332031\" y=\"481.011719\"/>\n",
       "  <use xlink:href=\"#glyph0-5\" x=\"55.671094\" y=\"481.011719\"/>\n",
       "  <use xlink:href=\"#glyph0-6\" x=\"61.010156\" y=\"481.011719\"/>\n",
       "  <use xlink:href=\"#glyph0-7\" x=\"66.349219\" y=\"481.011719\"/>\n",
       "</g>\n",
       "<g style=\"fill:rgb(49.803922%,49.803922%,49.803922%);fill-opacity:1;\">\n",
       "  <use xlink:href=\"#glyph0-4\" x=\"114.550781\" y=\"481.011719\"/>\n",
       "  <use xlink:href=\"#glyph0-8\" x=\"119.889844\" y=\"481.011719\"/>\n",
       "  <use xlink:href=\"#glyph0-0\" x=\"125.228906\" y=\"481.011719\"/>\n",
       "  <use xlink:href=\"#glyph0-0\" x=\"130.567969\" y=\"481.011719\"/>\n",
       "</g>\n",
       "<g style=\"fill:rgb(49.803922%,49.803922%,49.803922%);fill-opacity:1;\">\n",
       "  <use xlink:href=\"#glyph0-4\" x=\"178.769531\" y=\"481.011719\"/>\n",
       "  <use xlink:href=\"#glyph0-8\" x=\"184.108594\" y=\"481.011719\"/>\n",
       "  <use xlink:href=\"#glyph0-1\" x=\"189.447656\" y=\"481.011719\"/>\n",
       "  <use xlink:href=\"#glyph0-7\" x=\"194.786719\" y=\"481.011719\"/>\n",
       "</g>\n",
       "<g style=\"fill:rgb(49.803922%,49.803922%,49.803922%);fill-opacity:1;\">\n",
       "  <use xlink:href=\"#glyph0-4\" x=\"242.992188\" y=\"481.011719\"/>\n",
       "  <use xlink:href=\"#glyph0-8\" x=\"248.33125\" y=\"481.011719\"/>\n",
       "  <use xlink:href=\"#glyph0-7\" x=\"253.670313\" y=\"481.011719\"/>\n",
       "  <use xlink:href=\"#glyph0-0\" x=\"259.009375\" y=\"481.011719\"/>\n",
       "</g>\n",
       "<g style=\"fill:rgb(49.803922%,49.803922%,49.803922%);fill-opacity:1;\">\n",
       "  <use xlink:href=\"#glyph0-4\" x=\"307.210938\" y=\"481.011719\"/>\n",
       "  <use xlink:href=\"#glyph0-8\" x=\"312.55\" y=\"481.011719\"/>\n",
       "  <use xlink:href=\"#glyph0-6\" x=\"317.889063\" y=\"481.011719\"/>\n",
       "  <use xlink:href=\"#glyph0-7\" x=\"323.228125\" y=\"481.011719\"/>\n",
       "</g>\n",
       "<g style=\"fill:rgb(49.803922%,49.803922%,49.803922%);fill-opacity:1;\">\n",
       "  <use xlink:href=\"#glyph0-1\" x=\"371.429688\" y=\"481.011719\"/>\n",
       "  <use xlink:href=\"#glyph0-0\" x=\"376.76875\" y=\"481.011719\"/>\n",
       "  <use xlink:href=\"#glyph0-0\" x=\"382.107813\" y=\"481.011719\"/>\n",
       "  <use xlink:href=\"#glyph0-0\" x=\"387.446875\" y=\"481.011719\"/>\n",
       "</g>\n",
       "<g style=\"fill:rgb(0%,0%,0%);fill-opacity:1;\">\n",
       "  <use xlink:href=\"#glyph1-0\" x=\"233.007813\" y=\"493.199219\"/>\n",
       "  <use xlink:href=\"#glyph1-1\" x=\"239.007813\" y=\"493.199219\"/>\n",
       "  <use xlink:href=\"#glyph1-2\" x=\"245.681641\" y=\"493.199219\"/>\n",
       "  <use xlink:href=\"#glyph1-3\" x=\"252.355469\" y=\"493.199219\"/>\n",
       "</g>\n",
       "<g style=\"fill:rgb(0%,0%,0%);fill-opacity:1;\">\n",
       "  <use xlink:href=\"#glyph2-0\" x=\"19.390625\" y=\"260.820313\"/>\n",
       "  <use xlink:href=\"#glyph2-1\" x=\"19.390625\" y=\"257.486328\"/>\n",
       "  <use xlink:href=\"#glyph2-0\" x=\"19.390625\" y=\"250.8125\"/>\n",
       "  <use xlink:href=\"#glyph2-2\" x=\"19.390625\" y=\"247.478516\"/>\n",
       "  <use xlink:href=\"#glyph2-3\" x=\"19.390625\" y=\"240.804688\"/>\n",
       "</g>\n",
       "<path style=\" stroke:none;fill-rule:nonzero;fill:rgb(100%,100%,100%);fill-opacity:1;\" d=\"M 442.621094 277.171875 L 479.566406 277.171875 L 479.566406 221.789063 L 442.621094 221.789063 Z M 442.621094 277.171875 \"/>\n",
       "<g style=\"fill:rgb(0%,0%,0%);fill-opacity:1;\">\n",
       "  <use xlink:href=\"#glyph3-0\" x=\"446.875\" y=\"233.476563\"/>\n",
       "  <use xlink:href=\"#glyph3-1\" x=\"452.214063\" y=\"233.476563\"/>\n",
       "  <use xlink:href=\"#glyph3-2\" x=\"457.553125\" y=\"233.476563\"/>\n",
       "</g>\n",
       "<path style=\"fill-rule:nonzero;fill:rgb(94.901961%,94.901961%,94.901961%);fill-opacity:1;stroke-width:1.062992;stroke-linecap:round;stroke-linejoin:round;stroke:rgb(100%,100%,100%);stroke-opacity:1;stroke-miterlimit:10;\" d=\"M 446.875 255.640625 L 464.15625 255.640625 L 464.15625 238.359375 L 446.875 238.359375 Z M 446.875 255.640625 \"/>\n",
       "<path style=\"fill:none;stroke-width:1.062992;stroke-linecap:butt;stroke-linejoin:round;stroke:rgb(97.254902%,46.27451%,42.745098%);stroke-opacity:1;stroke-miterlimit:10;\" d=\"M 448.601563 247 L 462.425781 247 \"/>\n",
       "<path style=\"fill-rule:nonzero;fill:rgb(94.901961%,94.901961%,94.901961%);fill-opacity:1;stroke-width:1.062992;stroke-linecap:round;stroke-linejoin:round;stroke:rgb(100%,100%,100%);stroke-opacity:1;stroke-miterlimit:10;\" d=\"M 446.875 272.917969 L 464.15625 272.917969 L 464.15625 255.636719 L 446.875 255.636719 Z M 446.875 272.917969 \"/>\n",
       "<path style=\"fill:none;stroke-width:1.062992;stroke-linecap:butt;stroke-linejoin:round;stroke:rgb(0%,74.901961%,76.862745%);stroke-opacity:1;stroke-miterlimit:10;\" d=\"M 448.601563 264.28125 L 462.425781 264.28125 \"/>\n",
       "<g style=\"fill:rgb(0%,0%,0%);fill-opacity:1;\">\n",
       "  <use xlink:href=\"#glyph0-9\" x=\"466.3125\" y=\"250.4375\"/>\n",
       "</g>\n",
       "<g style=\"fill:rgb(0%,0%,0%);fill-opacity:1;\">\n",
       "  <use xlink:href=\"#glyph0-10\" x=\"466.3125\" y=\"267.714844\"/>\n",
       "</g>\n",
       "<g style=\"fill:rgb(0%,0%,0%);fill-opacity:1;\">\n",
       "  <use xlink:href=\"#glyph4-0\" x=\"163.539063\" y=\"28.308594\"/>\n",
       "  <use xlink:href=\"#glyph4-1\" x=\"173.938281\" y=\"28.308594\"/>\n",
       "  <use xlink:href=\"#glyph4-2\" x=\"181.946875\" y=\"28.308594\"/>\n",
       "  <use xlink:href=\"#glyph4-3\" x=\"193.942187\" y=\"28.308594\"/>\n",
       "  <use xlink:href=\"#glyph4-4\" x=\"201.950781\" y=\"28.308594\"/>\n",
       "  <use xlink:href=\"#glyph4-5\" x=\"209.150781\" y=\"28.308594\"/>\n",
       "  <use xlink:href=\"#glyph4-4\" x=\"213.151562\" y=\"28.308594\"/>\n",
       "  <use xlink:href=\"#glyph4-6\" x=\"220.351562\" y=\"28.308594\"/>\n",
       "  <use xlink:href=\"#glyph4-1\" x=\"224.352344\" y=\"28.308594\"/>\n",
       "  <use xlink:href=\"#glyph4-7\" x=\"232.360937\" y=\"28.308594\"/>\n",
       "  <use xlink:href=\"#glyph4-6\" x=\"237.15625\" y=\"28.308594\"/>\n",
       "  <use xlink:href=\"#glyph4-8\" x=\"241.157031\" y=\"28.308594\"/>\n",
       "  <use xlink:href=\"#glyph4-9\" x=\"244.35625\" y=\"28.308594\"/>\n",
       "  <use xlink:href=\"#glyph4-10\" x=\"252.364844\" y=\"28.308594\"/>\n",
       "  <use xlink:href=\"#glyph4-5\" x=\"260.373437\" y=\"28.308594\"/>\n",
       "  <use xlink:href=\"#glyph4-11\" x=\"264.374219\" y=\"28.308594\"/>\n",
       "  <use xlink:href=\"#glyph4-8\" x=\"274.773437\" y=\"28.308594\"/>\n",
       "  <use xlink:href=\"#glyph4-6\" x=\"277.972656\" y=\"28.308594\"/>\n",
       "  <use xlink:href=\"#glyph4-12\" x=\"281.973437\" y=\"28.308594\"/>\n",
       "  <use xlink:href=\"#glyph4-5\" x=\"289.982031\" y=\"28.308594\"/>\n",
       "  <use xlink:href=\"#glyph4-13\" x=\"293.982812\" y=\"28.308594\"/>\n",
       "  <use xlink:href=\"#glyph4-14\" x=\"299.094531\" y=\"28.308594\"/>\n",
       "  <use xlink:href=\"#glyph4-6\" x=\"308.699219\" y=\"28.308594\"/>\n",
       "  <use xlink:href=\"#glyph4-3\" x=\"312.7\" y=\"28.308594\"/>\n",
       "  <use xlink:href=\"#glyph4-13\" x=\"320.708594\" y=\"28.308594\"/>\n",
       "</g>\n",
       "</g>\n",
       "</svg>\n"
      ],
      "text/plain": [
       "plot without title"
      ]
     },
     "metadata": {
      "image/svg+xml": {
       "isolated": true
      }
     },
     "output_type": "display_data"
    }
   ],
   "source": [
    "babynames %>%\n",
    "    filter(name %>% substr(1, 3) %>% equals(\"Ste\")) %>%\n",
    "    group_by(year, sex) %>%\n",
    "    summarize(total = sum(n)) %>%\n",
    "    qplot(year, total, color = sex, data = ., geom = \"line\") %>%\n",
    "    add(ggtitle('Names starting with \"Ste\"')) %>%\n",
    "    print"
   ]
  },
  {
   "cell_type": "code",
   "execution_count": 5,
   "metadata": {
    "collapsed": false
   },
   "outputs": [
    {
     "data": {
      "text/plain": []
     },
     "metadata": {},
     "output_type": "display_data"
    },
    {
     "data": {
      "image/png": "[encoded data removed]",
      "image/svg+xml": [
       "<?xml version=\"1.0\" encoding=\"UTF-8\"?>\n",
       "<svg xmlns=\"http://www.w3.org/2000/svg\" xmlns:xlink=\"http://www.w3.org/1999/xlink\" width=\"504pt\" height=\"504pt\" viewBox=\"0 0 504 504\" version=\"1.1\">\n",
       "<defs>\n",
       "<g>\n",
       "<symbol overflow=\"visible\" id=\"glyph0-0\">\n",
       "<path style=\"stroke:none;\" d=\"M 3.101563 0 L 3.101563 -1.644531 L 0.121094 -1.644531 L 0.121094 -2.417969 L 3.257813 -6.871094 L 3.945313 -6.871094 L 3.945313 -2.417969 L 4.875 -2.417969 L 4.875 -1.644531 L 3.945313 -1.644531 L 3.945313 0 Z M 3.101563 -2.417969 L 3.101563 -5.515625 L 0.953125 -2.417969 Z M 3.101563 -2.417969 \"/>\n",
       "</symbol>\n",
       "<symbol overflow=\"visible\" id=\"glyph0-1\">\n",
       "<path style=\"stroke:none;\" d=\"M 0.398438 -1.800781 L 1.285156 -1.875 C 1.347656 -1.441406 1.5 -1.117188 1.742188 -0.902344 C 1.976563 -0.683594 2.265625 -0.574219 2.605469 -0.578125 C 3.007813 -0.574219 3.351563 -0.726563 3.636719 -1.035156 C 3.914063 -1.339844 4.054688 -1.746094 4.058594 -2.253906 C 4.054688 -2.734375 3.917969 -3.113281 3.652344 -3.394531 C 3.378906 -3.667969 3.027344 -3.808594 2.59375 -3.8125 C 2.316406 -3.808594 2.070313 -3.746094 1.855469 -3.625 C 1.632813 -3.5 1.460938 -3.339844 1.339844 -3.144531 L 0.546875 -3.25 L 1.214844 -6.777344 L 4.632813 -6.777344 L 4.632813 -5.972656 L 1.890625 -5.972656 L 1.519531 -4.125 C 1.925781 -4.410156 2.359375 -4.550781 2.816406 -4.554688 C 3.414063 -4.550781 3.921875 -4.34375 4.335938 -3.929688 C 4.746094 -3.511719 4.949219 -2.976563 4.953125 -2.328125 C 4.949219 -1.703125 4.769531 -1.167969 4.410156 -0.71875 C 3.96875 -0.160156 3.367188 0.117188 2.605469 0.117188 C 1.976563 0.117188 1.464844 -0.0546875 1.074219 -0.40625 C 0.675781 -0.753906 0.453125 -1.21875 0.398438 -1.800781 Z M 0.398438 -1.800781 \"/>\n",
       "</symbol>\n",
       "<symbol overflow=\"visible\" id=\"glyph0-2\">\n",
       "<path style=\"stroke:none;\" d=\"M 4.777344 -5.1875 L 3.9375 -5.125 C 3.859375 -5.453125 3.75 -5.691406 3.617188 -5.84375 C 3.386719 -6.082031 3.105469 -6.203125 2.773438 -6.207031 C 2.5 -6.203125 2.265625 -6.128906 2.066406 -5.980469 C 1.796875 -5.785156 1.585938 -5.503906 1.4375 -5.132813 C 1.28125 -4.757813 1.203125 -4.226563 1.199219 -3.542969 C 1.398438 -3.851563 1.648438 -4.082031 1.945313 -4.230469 C 2.238281 -4.378906 2.542969 -4.453125 2.867188 -4.457031 C 3.425781 -4.453125 3.90625 -4.246094 4.304688 -3.835938 C 4.699219 -3.417969 4.898438 -2.882813 4.898438 -2.230469 C 4.898438 -1.796875 4.804688 -1.394531 4.617188 -1.027344 C 4.429688 -0.652344 4.171875 -0.371094 3.851563 -0.175781 C 3.523438 0.0195313 3.15625 0.117188 2.746094 0.117188 C 2.039063 0.117188 1.464844 -0.140625 1.023438 -0.65625 C 0.578125 -1.171875 0.355469 -2.023438 0.359375 -3.214844 C 0.355469 -4.539063 0.601563 -5.503906 1.097656 -6.113281 C 1.519531 -6.632813 2.097656 -6.894531 2.828125 -6.898438 C 3.363281 -6.894531 3.804688 -6.746094 4.152344 -6.445313 C 4.496094 -6.140625 4.703125 -5.71875 4.777344 -5.1875 Z M 1.332031 -2.226563 C 1.328125 -1.933594 1.390625 -1.652344 1.515625 -1.390625 C 1.636719 -1.121094 1.808594 -0.921875 2.035156 -0.785156 C 2.253906 -0.644531 2.488281 -0.574219 2.734375 -0.578125 C 3.085938 -0.574219 3.390625 -0.71875 3.648438 -1.007813 C 3.902344 -1.292969 4.03125 -1.683594 4.035156 -2.179688 C 4.03125 -2.652344 3.90625 -3.023438 3.65625 -3.300781 C 3.402344 -3.570313 3.082031 -3.707031 2.699219 -3.710938 C 2.316406 -3.707031 1.992188 -3.570313 1.730469 -3.300781 C 1.460938 -3.023438 1.328125 -2.667969 1.332031 -2.226563 Z M 1.332031 -2.226563 \"/>\n",
       "</symbol>\n",
       "<symbol overflow=\"visible\" id=\"glyph0-3\">\n",
       "<path style=\"stroke:none;\" d=\"M 0.453125 -5.972656 L 0.453125 -6.78125 L 4.902344 -6.78125 L 4.902344 -6.125 C 4.460938 -5.65625 4.027344 -5.039063 3.601563 -4.269531 C 3.167969 -3.496094 2.835938 -2.703125 2.605469 -1.890625 C 2.433594 -1.3125 2.324219 -0.683594 2.28125 0 L 1.414063 0 C 1.421875 -0.539063 1.53125 -1.191406 1.734375 -1.960938 C 1.9375 -2.722656 2.226563 -3.460938 2.609375 -4.175781 C 2.984375 -4.882813 3.390625 -5.480469 3.820313 -5.972656 Z M 0.453125 -5.972656 \"/>\n",
       "</symbol>\n",
       "<symbol overflow=\"visible\" id=\"glyph0-4\">\n",
       "<path style=\"stroke:none;\" d=\"M 1.695313 -3.726563 C 1.34375 -3.851563 1.085938 -4.03125 0.917969 -4.273438 C 0.746094 -4.507813 0.660156 -4.792969 0.664063 -5.128906 C 0.660156 -5.625 0.839844 -6.046875 1.203125 -6.386719 C 1.558594 -6.726563 2.039063 -6.894531 2.640625 -6.898438 C 3.238281 -6.894531 3.71875 -6.722656 4.085938 -6.375 C 4.449219 -6.027344 4.632813 -5.601563 4.636719 -5.105469 C 4.632813 -4.78125 4.550781 -4.503906 4.382813 -4.269531 C 4.214844 -4.03125 3.960938 -3.851563 3.625 -3.726563 C 4.042969 -3.585938 4.363281 -3.363281 4.585938 -3.058594 C 4.804688 -2.753906 4.914063 -2.386719 4.917969 -1.964844 C 4.914063 -1.371094 4.707031 -0.878906 4.292969 -0.480469 C 3.875 -0.0820313 3.328125 0.117188 2.652344 0.117188 C 1.972656 0.117188 1.425781 -0.0820313 1.011719 -0.484375 C 0.59375 -0.882813 0.386719 -1.382813 0.390625 -1.988281 C 0.386719 -2.429688 0.5 -2.804688 0.730469 -3.109375 C 0.953125 -3.410156 1.273438 -3.617188 1.695313 -3.726563 Z M 1.527344 -5.15625 C 1.523438 -4.828125 1.628906 -4.5625 1.839844 -4.359375 C 2.050781 -4.152344 2.320313 -4.046875 2.65625 -4.050781 C 2.976563 -4.046875 3.246094 -4.148438 3.457031 -4.355469 C 3.664063 -4.558594 3.765625 -4.8125 3.769531 -5.109375 C 3.765625 -5.417969 3.660156 -5.675781 3.445313 -5.890625 C 3.230469 -6.097656 2.964844 -6.203125 2.648438 -6.207031 C 2.324219 -6.203125 2.054688 -6.101563 1.84375 -5.894531 C 1.628906 -5.6875 1.523438 -5.441406 1.527344 -5.15625 Z M 1.257813 -1.984375 C 1.253906 -1.738281 1.308594 -1.503906 1.425781 -1.28125 C 1.535156 -1.054688 1.707031 -0.882813 1.933594 -0.761719 C 2.160156 -0.636719 2.402344 -0.574219 2.664063 -0.578125 C 3.0625 -0.574219 3.394531 -0.703125 3.660156 -0.964844 C 3.921875 -1.222656 4.054688 -1.550781 4.054688 -1.953125 C 4.054688 -2.355469 3.917969 -2.691406 3.648438 -2.960938 C 3.375 -3.222656 3.035156 -3.355469 2.632813 -3.359375 C 2.234375 -3.355469 1.90625 -3.226563 1.648438 -2.964844 C 1.382813 -2.703125 1.253906 -2.375 1.257813 -1.984375 Z M 1.257813 -1.984375 \"/>\n",
       "</symbol>\n",
       "<symbol overflow=\"visible\" id=\"glyph0-5\">\n",
       "<path style=\"stroke:none;\" d=\"M 3.578125 0 L 2.734375 0 L 2.734375 -5.375 C 2.527344 -5.179688 2.261719 -4.988281 1.933594 -4.792969 C 1.601563 -4.597656 1.304688 -4.453125 1.046875 -4.359375 L 1.046875 -5.175781 C 1.515625 -5.394531 1.925781 -5.664063 2.28125 -5.980469 C 2.632813 -6.292969 2.882813 -6.597656 3.03125 -6.898438 L 3.578125 -6.898438 Z M 3.578125 0 \"/>\n",
       "</symbol>\n",
       "<symbol overflow=\"visible\" id=\"glyph0-6\">\n",
       "<path style=\"stroke:none;\" d=\"M 0.398438 -3.390625 C 0.398438 -4.199219 0.480469 -4.851563 0.648438 -5.351563 C 0.8125 -5.84375 1.0625 -6.226563 1.394531 -6.496094 C 1.722656 -6.761719 2.136719 -6.894531 2.640625 -6.898438 C 3.003906 -6.894531 3.328125 -6.820313 3.609375 -6.675781 C 3.886719 -6.523438 4.113281 -6.3125 4.296875 -6.035156 C 4.476563 -5.753906 4.621094 -5.410156 4.722656 -5.011719 C 4.824219 -4.605469 4.875 -4.066406 4.878906 -3.390625 C 4.875 -2.582031 4.792969 -1.929688 4.628906 -1.4375 C 4.464844 -0.9375 4.214844 -0.554688 3.886719 -0.289063 C 3.554688 -0.015625 3.140625 0.117188 2.640625 0.117188 C 1.972656 0.117188 1.453125 -0.117188 1.078125 -0.59375 C 0.625 -1.164063 0.398438 -2.097656 0.398438 -3.390625 Z M 1.265625 -3.390625 C 1.265625 -2.257813 1.394531 -1.507813 1.660156 -1.136719 C 1.921875 -0.761719 2.25 -0.574219 2.640625 -0.578125 C 3.023438 -0.574219 3.347656 -0.761719 3.613281 -1.140625 C 3.875 -1.511719 4.007813 -2.261719 4.011719 -3.390625 C 4.007813 -4.519531 3.875 -5.269531 3.613281 -5.644531 C 3.347656 -6.011719 3.019531 -6.199219 2.628906 -6.203125 C 2.238281 -6.199219 1.929688 -6.035156 1.703125 -5.710938 C 1.410156 -5.289063 1.265625 -4.515625 1.265625 -3.390625 Z M 1.265625 -3.390625 \"/>\n",
       "</symbol>\n",
       "<symbol overflow=\"visible\" id=\"glyph0-7\">\n",
       "<path style=\"stroke:none;\" d=\"M 4.832031 -0.8125 L 4.832031 0 L 0.289063 0 C 0.28125 -0.203125 0.316406 -0.398438 0.390625 -0.585938 C 0.503906 -0.894531 0.6875 -1.199219 0.945313 -1.5 C 1.195313 -1.796875 1.5625 -2.140625 2.046875 -2.539063 C 2.789063 -3.148438 3.296875 -3.636719 3.5625 -3.996094 C 3.824219 -4.351563 3.953125 -4.6875 3.957031 -5.011719 C 3.953125 -5.339844 3.835938 -5.621094 3.597656 -5.855469 C 3.355469 -6.082031 3.042969 -6.199219 2.664063 -6.203125 C 2.253906 -6.199219 1.929688 -6.078125 1.6875 -5.835938 C 1.441406 -5.589844 1.316406 -5.25 1.316406 -4.824219 L 0.449219 -4.914063 C 0.507813 -5.558594 0.730469 -6.050781 1.121094 -6.390625 C 1.503906 -6.726563 2.023438 -6.894531 2.679688 -6.898438 C 3.335938 -6.894531 3.859375 -6.714844 4.246094 -6.351563 C 4.628906 -5.984375 4.820313 -5.53125 4.824219 -4.992188 C 4.820313 -4.714844 4.765625 -4.441406 4.652344 -4.179688 C 4.539063 -3.910156 4.351563 -3.632813 4.09375 -3.339844 C 3.832031 -3.046875 3.398438 -2.644531 2.792969 -2.132813 C 2.285156 -1.707031 1.960938 -1.417969 1.816406 -1.265625 C 1.671875 -1.113281 1.550781 -0.960938 1.460938 -0.8125 Z M 4.832031 -0.8125 \"/>\n",
       "</symbol>\n",
       "<symbol overflow=\"visible\" id=\"glyph0-8\">\n",
       "<path style=\"stroke:none;\" d=\"M 0.402344 -1.8125 L 1.246094 -1.925781 C 1.339844 -1.445313 1.503906 -1.101563 1.738281 -0.894531 C 1.96875 -0.679688 2.253906 -0.574219 2.59375 -0.578125 C 2.988281 -0.574219 3.324219 -0.710938 3.597656 -0.988281 C 3.871094 -1.261719 4.007813 -1.601563 4.007813 -2.011719 C 4.007813 -2.394531 3.878906 -2.714844 3.628906 -2.96875 C 3.371094 -3.21875 3.050781 -3.34375 2.664063 -3.347656 C 2.5 -3.34375 2.300781 -3.3125 2.066406 -3.253906 L 2.160156 -3.992188 C 2.214844 -3.984375 2.261719 -3.984375 2.296875 -3.984375 C 2.65625 -3.984375 2.976563 -4.078125 3.265625 -4.265625 C 3.550781 -4.453125 3.695313 -4.742188 3.699219 -5.132813 C 3.695313 -5.441406 3.589844 -5.695313 3.382813 -5.902344 C 3.171875 -6.101563 2.902344 -6.203125 2.574219 -6.207031 C 2.242188 -6.203125 1.96875 -6.101563 1.753906 -5.894531 C 1.53125 -5.6875 1.390625 -5.378906 1.332031 -4.96875 L 0.488281 -5.117188 C 0.585938 -5.679688 0.820313 -6.121094 1.1875 -6.433594 C 1.550781 -6.742188 2.007813 -6.894531 2.554688 -6.898438 C 2.929688 -6.894531 3.273438 -6.816406 3.589844 -6.65625 C 3.902344 -6.496094 4.144531 -6.277344 4.3125 -6 C 4.480469 -5.71875 4.5625 -5.421875 4.566406 -5.113281 C 4.5625 -4.8125 4.484375 -4.542969 4.324219 -4.300781 C 4.164063 -4.058594 3.925781 -3.863281 3.617188 -3.722656 C 4.019531 -3.625 4.335938 -3.429688 4.5625 -3.136719 C 4.785156 -2.839844 4.898438 -2.472656 4.902344 -2.03125 C 4.898438 -1.425781 4.679688 -0.917969 4.246094 -0.503906 C 3.804688 -0.0898438 3.25 0.117188 2.585938 0.121094 C 1.980469 0.117188 1.480469 -0.0585938 1.085938 -0.417969 C 0.683594 -0.773438 0.457031 -1.238281 0.402344 -1.8125 Z M 0.402344 -1.8125 \"/>\n",
       "</symbol>\n",
       "<symbol overflow=\"visible\" id=\"glyph1-0\">\n",
       "<path style=\"stroke:none;\" d=\"M 0.789063 0 L 0.789063 -6.222656 L 1.734375 -6.222656 L 1.734375 -5.351563 C 1.929688 -5.648438 2.1875 -5.894531 2.511719 -6.082031 C 2.835938 -6.269531 3.207031 -6.363281 3.621094 -6.363281 C 4.082031 -6.363281 4.457031 -6.265625 4.753906 -6.074219 C 5.042969 -5.882813 5.253906 -5.617188 5.378906 -5.273438 C 5.871094 -6 6.511719 -6.363281 7.300781 -6.363281 C 7.917969 -6.363281 8.390625 -6.191406 8.722656 -5.847656 C 9.054688 -5.503906 9.222656 -4.976563 9.222656 -4.273438 L 9.222656 0 L 8.171875 0 L 8.171875 -3.921875 C 8.167969 -4.339844 8.132813 -4.644531 8.070313 -4.832031 C 8 -5.015625 7.878906 -5.164063 7.699219 -5.277344 C 7.519531 -5.390625 7.308594 -5.449219 7.066406 -5.449219 C 6.628906 -5.449219 6.265625 -5.300781 5.976563 -5.011719 C 5.6875 -4.71875 5.542969 -4.253906 5.542969 -3.617188 L 5.542969 0 L 4.488281 0 L 4.488281 -4.042969 C 4.488281 -4.511719 4.402344 -4.863281 4.230469 -5.097656 C 4.058594 -5.332031 3.777344 -5.449219 3.386719 -5.449219 C 3.089844 -5.449219 2.8125 -5.371094 2.5625 -5.214844 C 2.308594 -5.058594 2.128906 -4.828125 2.015625 -4.527344 C 1.898438 -4.226563 1.839844 -3.792969 1.84375 -3.226563 L 1.84375 0 Z M 0.789063 0 \"/>\n",
       "</symbol>\n",
       "<symbol overflow=\"visible\" id=\"glyph1-1\">\n",
       "<path style=\"stroke:none;\" d=\"M 0.789063 2.382813 L 0.789063 -6.222656 L 1.75 -6.222656 L 1.75 -5.414063 C 1.976563 -5.730469 2.234375 -5.964844 2.519531 -6.125 C 2.800781 -6.28125 3.144531 -6.363281 3.554688 -6.363281 C 4.082031 -6.363281 4.550781 -6.226563 4.960938 -5.953125 C 5.363281 -5.679688 5.671875 -5.292969 5.882813 -4.792969 C 6.089844 -4.292969 6.191406 -3.746094 6.195313 -3.15625 C 6.191406 -2.519531 6.078125 -1.945313 5.851563 -1.4375 C 5.621094 -0.921875 5.289063 -0.53125 4.855469 -0.265625 C 4.417969 0.0078125 3.960938 0.140625 3.480469 0.140625 C 3.128906 0.140625 2.8125 0.0664063 2.535156 -0.0820313 C 2.253906 -0.230469 2.023438 -0.417969 1.84375 -0.644531 L 1.84375 2.382813 Z M 1.746094 -3.078125 C 1.746094 -2.273438 1.90625 -1.683594 2.230469 -1.300781 C 2.554688 -0.917969 2.949219 -0.726563 3.410156 -0.726563 C 3.878906 -0.726563 4.277344 -0.921875 4.613281 -1.320313 C 4.945313 -1.710938 5.113281 -2.328125 5.117188 -3.164063 C 5.113281 -3.953125 4.949219 -4.546875 4.625 -4.945313 C 4.296875 -5.339844 3.910156 -5.535156 3.457031 -5.539063 C 3.003906 -5.535156 2.605469 -5.324219 2.261719 -4.90625 C 1.917969 -4.484375 1.746094 -3.875 1.746094 -3.078125 Z M 1.746094 -3.078125 \"/>\n",
       "</symbol>\n",
       "<symbol overflow=\"visible\" id=\"glyph1-2\">\n",
       "<path style=\"stroke:none;\" d=\"M 0.597656 0.515625 L 1.625 0.667969 C 1.664063 0.980469 1.785156 1.210938 1.980469 1.359375 C 2.242188 1.554688 2.597656 1.652344 3.054688 1.652344 C 3.539063 1.652344 3.917969 1.554688 4.183594 1.359375 C 4.449219 1.164063 4.628906 0.890625 4.722656 0.539063 C 4.777344 0.324219 4.800781 -0.125 4.796875 -0.8125 C 4.335938 -0.269531 3.761719 0 3.078125 0 C 2.21875 0 1.558594 -0.308594 1.089844 -0.925781 C 0.621094 -1.542969 0.386719 -2.28125 0.386719 -3.148438 C 0.386719 -3.738281 0.492188 -4.285156 0.707031 -4.789063 C 0.921875 -5.289063 1.234375 -5.679688 1.644531 -5.953125 C 2.050781 -6.226563 2.53125 -6.363281 3.082031 -6.363281 C 3.816406 -6.363281 4.421875 -6.066406 4.898438 -5.472656 L 4.898438 -6.222656 L 5.871094 -6.222656 L 5.871094 -0.84375 C 5.871094 0.125 5.769531 0.808594 5.574219 1.214844 C 5.375 1.613281 5.0625 1.933594 4.636719 2.171875 C 4.207031 2.402344 3.683594 2.519531 3.058594 2.523438 C 2.316406 2.519531 1.714844 2.351563 1.257813 2.023438 C 0.800781 1.6875 0.582031 1.1875 0.597656 0.515625 Z M 1.46875 -3.222656 C 1.464844 -2.40625 1.628906 -1.808594 1.957031 -1.4375 C 2.28125 -1.058594 2.6875 -0.871094 3.175781 -0.875 C 3.660156 -0.871094 4.066406 -1.058594 4.394531 -1.433594 C 4.722656 -1.804688 4.886719 -2.390625 4.886719 -3.1875 C 4.886719 -3.945313 4.714844 -4.519531 4.378906 -4.910156 C 4.039063 -5.296875 3.632813 -5.488281 3.15625 -5.492188 C 2.683594 -5.488281 2.285156 -5.296875 1.960938 -4.917969 C 1.628906 -4.535156 1.464844 -3.972656 1.46875 -3.222656 Z M 1.46875 -3.222656 \"/>\n",
       "</symbol>\n",
       "<symbol overflow=\"visible\" id=\"glyph2-0\">\n",
       "<path style=\"stroke:none;\" d=\"M -2.277344 -4.851563 L -2.144531 -5.890625 C -1.425781 -5.773438 -0.863281 -5.484375 -0.464844 -5.019531 C -0.0585938 -4.550781 0.140625 -3.976563 0.140625 -3.296875 C 0.140625 -2.445313 -0.136719 -1.761719 -0.695313 -1.246094 C -1.25 -0.726563 -2.046875 -0.46875 -3.085938 -0.46875 C -3.753906 -0.46875 -4.34375 -0.578125 -4.851563 -0.800781 C -5.355469 -1.023438 -5.730469 -1.363281 -5.984375 -1.820313 C -6.234375 -2.273438 -6.363281 -2.769531 -6.363281 -3.304688 C -6.363281 -3.980469 -6.191406 -4.53125 -5.847656 -4.964844 C -5.503906 -5.390625 -5.019531 -5.667969 -4.394531 -5.789063 L -4.234375 -4.765625 C -4.652344 -4.664063 -4.96875 -4.492188 -5.179688 -4.246094 C -5.390625 -3.996094 -5.496094 -3.695313 -5.496094 -3.347656 C -5.496094 -2.8125 -5.304688 -2.382813 -4.921875 -2.050781 C -4.539063 -1.71875 -3.9375 -1.550781 -3.117188 -1.554688 C -2.28125 -1.550781 -1.671875 -1.710938 -1.292969 -2.035156 C -0.914063 -2.351563 -0.726563 -2.769531 -0.726563 -3.289063 C -0.726563 -3.695313 -0.851563 -4.042969 -1.105469 -4.324219 C -1.359375 -4.601563 -1.75 -4.777344 -2.277344 -4.851563 Z M -2.277344 -4.851563 \"/>\n",
       "</symbol>\n",
       "<symbol overflow=\"visible\" id=\"glyph2-1\">\n",
       "<path style=\"stroke:none;\" d=\"M 2.398438 -0.742188 L 1.40625 -0.625 C 1.46875 -0.855469 1.5 -1.058594 1.5 -1.230469 C 1.5 -1.464844 1.460938 -1.652344 1.382813 -1.792969 C 1.304688 -1.933594 1.195313 -2.046875 1.054688 -2.140625 C 0.949219 -2.203125 0.6875 -2.3125 0.269531 -2.460938 C 0.210938 -2.480469 0.125 -2.511719 0.0117188 -2.554688 L -6.222656 -0.195313 L -6.222656 -1.332031 L -2.617188 -2.625 C -2.160156 -2.789063 -1.679688 -2.9375 -1.175781 -3.078125 C -1.65625 -3.195313 -2.128906 -3.339844 -2.59375 -3.507813 L -6.222656 -4.839844 L -6.222656 -5.894531 L 0.105469 -3.527344 C 0.789063 -3.273438 1.257813 -3.074219 1.519531 -2.9375 C 1.863281 -2.746094 2.117188 -2.53125 2.28125 -2.289063 C 2.4375 -2.042969 2.519531 -1.753906 2.523438 -1.421875 C 2.519531 -1.214844 2.476563 -0.988281 2.398438 -0.742188 Z M 2.398438 -0.742188 \"/>\n",
       "</symbol>\n",
       "<symbol overflow=\"visible\" id=\"glyph2-2\">\n",
       "<path style=\"stroke:none;\" d=\"M 0 -0.765625 L -8.589844 -0.769531 L -8.589844 -1.824219 L 0 -1.820313 Z M 0 -0.765625 \"/>\n",
       "</symbol>\n",
       "</g>\n",
       "<clipPath id=\"clip1\">\n",
       "  <path d=\"M 35.414063 14.398438 L 490.597656 14.398438 L 490.597656 468.050781 L 35.414063 468.050781 Z M 35.414063 14.398438 \"/>\n",
       "</clipPath>\n",
       "</defs>\n",
       "<g id=\"surface6\">\n",
       "<rect x=\"0\" y=\"0\" width=\"504\" height=\"504\" style=\"fill:rgb(100%,100%,100%);fill-opacity:1;stroke:none;\"/>\n",
       "<rect x=\"0\" y=\"0\" width=\"504\" height=\"504\" style=\"fill:rgb(100%,100%,100%);fill-opacity:1;stroke:none;\"/>\n",
       "<path style=\"fill:none;stroke-width:1.062992;stroke-linecap:round;stroke-linejoin:round;stroke:rgb(100%,100%,100%);stroke-opacity:1;stroke-miterlimit:10;\" d=\"M 0 504 L 504 504 L 504 0 L 0 0 Z M 0 504 \"/>\n",
       "<g clip-path=\"url(#clip1)\" clip-rule=\"nonzero\">\n",
       "<path style=\" stroke:none;fill-rule:nonzero;fill:rgb(89.803922%,89.803922%,89.803922%);fill-opacity:1;\" d=\"M 35.414063 467.050781 L 489.597656 467.050781 L 489.597656 14.398438 L 35.414063 14.398438 Z M 35.414063 467.050781 \"/>\n",
       "<path style=\"fill:none;stroke-width:0.531496;stroke-linecap:butt;stroke-linejoin:round;stroke:rgb(94.901961%,94.901961%,94.901961%);stroke-opacity:1;stroke-miterlimit:10;\" d=\"M 35.414063 395.039063 L 489.601563 395.039063 \"/>\n",
       "<path style=\"fill:none;stroke-width:0.531496;stroke-linecap:butt;stroke-linejoin:round;stroke:rgb(94.901961%,94.901961%,94.901961%);stroke-opacity:1;stroke-miterlimit:10;\" d=\"M 35.414063 292.164063 L 489.601563 292.164063 \"/>\n",
       "<path style=\"fill:none;stroke-width:0.531496;stroke-linecap:butt;stroke-linejoin:round;stroke:rgb(94.901961%,94.901961%,94.901961%);stroke-opacity:1;stroke-miterlimit:10;\" d=\"M 35.414063 189.289063 L 489.601563 189.289063 \"/>\n",
       "<path style=\"fill:none;stroke-width:0.531496;stroke-linecap:butt;stroke-linejoin:round;stroke:rgb(94.901961%,94.901961%,94.901961%);stroke-opacity:1;stroke-miterlimit:10;\" d=\"M 35.414063 86.414063 L 489.601563 86.414063 \"/>\n",
       "<path style=\"fill:none;stroke-width:0.531496;stroke-linecap:butt;stroke-linejoin:round;stroke:rgb(94.901961%,94.901961%,94.901961%);stroke-opacity:1;stroke-miterlimit:10;\" d=\"M 92.957031 467.050781 L 92.957031 14.398438 \"/>\n",
       "<path style=\"fill:none;stroke-width:0.531496;stroke-linecap:butt;stroke-linejoin:round;stroke:rgb(94.901961%,94.901961%,94.901961%);stroke-opacity:1;stroke-miterlimit:10;\" d=\"M 180.808594 467.050781 L 180.808594 14.398438 \"/>\n",
       "<path style=\"fill:none;stroke-width:0.531496;stroke-linecap:butt;stroke-linejoin:round;stroke:rgb(94.901961%,94.901961%,94.901961%);stroke-opacity:1;stroke-miterlimit:10;\" d=\"M 268.65625 467.050781 L 268.65625 14.398438 \"/>\n",
       "<path style=\"fill:none;stroke-width:0.531496;stroke-linecap:butt;stroke-linejoin:round;stroke:rgb(94.901961%,94.901961%,94.901961%);stroke-opacity:1;stroke-miterlimit:10;\" d=\"M 356.507813 467.050781 L 356.507813 14.398438 \"/>\n",
       "<path style=\"fill:none;stroke-width:0.531496;stroke-linecap:butt;stroke-linejoin:round;stroke:rgb(94.901961%,94.901961%,94.901961%);stroke-opacity:1;stroke-miterlimit:10;\" d=\"M 444.355469 467.050781 L 444.355469 14.398438 \"/>\n",
       "<path style=\"fill:none;stroke-width:1.062992;stroke-linecap:butt;stroke-linejoin:round;stroke:rgb(100%,100%,100%);stroke-opacity:1;stroke-miterlimit:10;\" d=\"M 35.414063 446.476563 L 489.601563 446.476563 \"/>\n",
       "<path style=\"fill:none;stroke-width:1.062992;stroke-linecap:butt;stroke-linejoin:round;stroke:rgb(100%,100%,100%);stroke-opacity:1;stroke-miterlimit:10;\" d=\"M 35.414063 343.601563 L 489.601563 343.601563 \"/>\n",
       "<path style=\"fill:none;stroke-width:1.062992;stroke-linecap:butt;stroke-linejoin:round;stroke:rgb(100%,100%,100%);stroke-opacity:1;stroke-miterlimit:10;\" d=\"M 35.414063 240.726563 L 489.601563 240.726563 \"/>\n",
       "<path style=\"fill:none;stroke-width:1.062992;stroke-linecap:butt;stroke-linejoin:round;stroke:rgb(100%,100%,100%);stroke-opacity:1;stroke-miterlimit:10;\" d=\"M 35.414063 137.851563 L 489.601563 137.851563 \"/>\n",
       "<path style=\"fill:none;stroke-width:1.062992;stroke-linecap:butt;stroke-linejoin:round;stroke:rgb(100%,100%,100%);stroke-opacity:1;stroke-miterlimit:10;\" d=\"M 35.414063 34.976563 L 489.601563 34.976563 \"/>\n",
       "<path style=\"fill:none;stroke-width:1.062992;stroke-linecap:butt;stroke-linejoin:round;stroke:rgb(100%,100%,100%);stroke-opacity:1;stroke-miterlimit:10;\" d=\"M 49.03125 467.050781 L 49.03125 14.398438 \"/>\n",
       "<path style=\"fill:none;stroke-width:1.062992;stroke-linecap:butt;stroke-linejoin:round;stroke:rgb(100%,100%,100%);stroke-opacity:1;stroke-miterlimit:10;\" d=\"M 136.882813 467.050781 L 136.882813 14.398438 \"/>\n",
       "<path style=\"fill:none;stroke-width:1.062992;stroke-linecap:butt;stroke-linejoin:round;stroke:rgb(100%,100%,100%);stroke-opacity:1;stroke-miterlimit:10;\" d=\"M 224.730469 467.050781 L 224.730469 14.398438 \"/>\n",
       "<path style=\"fill:none;stroke-width:1.062992;stroke-linecap:butt;stroke-linejoin:round;stroke:rgb(100%,100%,100%);stroke-opacity:1;stroke-miterlimit:10;\" d=\"M 312.582031 467.050781 L 312.582031 14.398438 \"/>\n",
       "<path style=\"fill:none;stroke-width:1.062992;stroke-linecap:butt;stroke-linejoin:round;stroke:rgb(100%,100%,100%);stroke-opacity:1;stroke-miterlimit:10;\" d=\"M 400.433594 467.050781 L 400.433594 14.398438 \"/>\n",
       "<path style=\"fill:none;stroke-width:1.062992;stroke-linecap:butt;stroke-linejoin:round;stroke:rgb(100%,100%,100%);stroke-opacity:1;stroke-miterlimit:10;\" d=\"M 488.28125 467.050781 L 488.28125 14.398438 \"/>\n",
       "<path style=\" stroke:none;fill-rule:nonzero;fill:rgb(0%,0%,0%);fill-opacity:1;\" d=\"M 244.429688 240.726563 C 244.429688 243.558594 240.175781 243.558594 240.175781 240.726563 C 240.175781 237.890625 244.429688 237.890625 244.429688 240.726563 \"/>\n",
       "<path style=\" stroke:none;fill-rule:nonzero;fill:rgb(0%,0%,0%);fill-opacity:1;\" d=\"M 244.429688 240.726563 C 244.429688 243.558594 240.175781 243.558594 240.175781 240.726563 C 240.175781 237.890625 244.429688 237.890625 244.429688 240.726563 \"/>\n",
       "<path style=\" stroke:none;fill-rule:nonzero;fill:rgb(0%,0%,0%);fill-opacity:1;\" d=\"M 276.054688 446.476563 C 276.054688 449.3125 271.800781 449.3125 271.800781 446.476563 C 271.800781 443.640625 276.054688 443.640625 276.054688 446.476563 \"/>\n",
       "<path style=\" stroke:none;fill-rule:nonzero;fill:rgb(0%,0%,0%);fill-opacity:1;\" d=\"M 251.457031 240.726563 C 251.457031 243.558594 247.203125 243.558594 247.203125 240.726563 C 247.203125 237.890625 251.457031 237.890625 251.457031 240.726563 \"/>\n",
       "<path style=\" stroke:none;fill-rule:nonzero;fill:rgb(0%,0%,0%);fill-opacity:1;\" d=\"M 204.015625 34.976563 C 204.015625 37.808594 199.765625 37.808594 199.765625 34.976563 C 199.765625 32.140625 204.015625 32.140625 204.015625 34.976563 \"/>\n",
       "<path style=\" stroke:none;fill-rule:nonzero;fill:rgb(0%,0%,0%);fill-opacity:1;\" d=\"M 193.476563 240.726563 C 193.476563 243.558594 189.222656 243.558594 189.222656 240.726563 C 189.222656 237.890625 193.476563 237.890625 193.476563 240.726563 \"/>\n",
       "<path style=\" stroke:none;fill-rule:nonzero;fill:rgb(0%,0%,0%);fill-opacity:1;\" d=\"M 126.710938 34.976563 C 126.710938 37.808594 122.457031 37.808594 122.457031 34.976563 C 122.457031 32.140625 126.710938 32.140625 126.710938 34.976563 \"/>\n",
       "<path style=\" stroke:none;fill-rule:nonzero;fill:rgb(0%,0%,0%);fill-opacity:1;\" d=\"M 304.167969 446.476563 C 304.167969 449.3125 299.914063 449.3125 299.914063 446.476563 C 299.914063 443.640625 304.167969 443.640625 304.167969 446.476563 \"/>\n",
       "<path style=\" stroke:none;fill-rule:nonzero;fill:rgb(0%,0%,0%);fill-opacity:1;\" d=\"M 276.054688 446.476563 C 276.054688 449.3125 271.800781 449.3125 271.800781 446.476563 C 271.800781 443.640625 276.054688 443.640625 276.054688 446.476563 \"/>\n",
       "<path style=\" stroke:none;fill-rule:nonzero;fill:rgb(0%,0%,0%);fill-opacity:1;\" d=\"M 212.800781 240.726563 C 212.800781 243.558594 208.550781 243.558594 208.550781 240.726563 C 208.550781 237.890625 212.800781 237.890625 212.800781 240.726563 \"/>\n",
       "<path style=\" stroke:none;fill-rule:nonzero;fill:rgb(0%,0%,0%);fill-opacity:1;\" d=\"M 188.203125 240.726563 C 188.203125 243.558594 183.953125 243.558594 183.953125 240.726563 C 183.953125 237.890625 188.203125 237.890625 188.203125 240.726563 \"/>\n",
       "<path style=\" stroke:none;fill-rule:nonzero;fill:rgb(0%,0%,0%);fill-opacity:1;\" d=\"M 163.605469 34.976563 C 163.605469 37.808594 159.355469 37.808594 159.355469 34.976563 C 159.355469 32.140625 163.605469 32.140625 163.605469 34.976563 \"/>\n",
       "<path style=\" stroke:none;fill-rule:nonzero;fill:rgb(0%,0%,0%);fill-opacity:1;\" d=\"M 179.417969 34.976563 C 179.417969 37.808594 175.167969 37.808594 175.167969 34.976563 C 175.167969 32.140625 179.417969 32.140625 179.417969 34.976563 \"/>\n",
       "<path style=\" stroke:none;fill-rule:nonzero;fill:rgb(0%,0%,0%);fill-opacity:1;\" d=\"M 142.523438 34.976563 C 142.523438 37.808594 138.269531 37.808594 138.269531 34.976563 C 138.269531 32.140625 142.523438 32.140625 142.523438 34.976563 \"/>\n",
       "<path style=\" stroke:none;fill-rule:nonzero;fill:rgb(0%,0%,0%);fill-opacity:1;\" d=\"M 58.1875 34.976563 C 58.1875 37.808594 53.933594 37.808594 53.933594 34.976563 C 53.933594 32.140625 58.1875 32.140625 58.1875 34.976563 \"/>\n",
       "<path style=\" stroke:none;fill-rule:nonzero;fill:rgb(0%,0%,0%);fill-opacity:1;\" d=\"M 58.1875 34.976563 C 58.1875 37.808594 53.933594 37.808594 53.933594 34.976563 C 53.933594 32.140625 58.1875 32.140625 58.1875 34.976563 \"/>\n",
       "<path style=\" stroke:none;fill-rule:nonzero;fill:rgb(0%,0%,0%);fill-opacity:1;\" d=\"M 133.738281 34.976563 C 133.738281 37.808594 129.484375 37.808594 129.484375 34.976563 C 129.484375 32.140625 133.738281 32.140625 133.738281 34.976563 \"/>\n",
       "<path style=\" stroke:none;fill-rule:nonzero;fill:rgb(0%,0%,0%);fill-opacity:1;\" d=\"M 444.726563 446.476563 C 444.726563 449.3125 440.472656 449.3125 440.472656 446.476563 C 440.472656 443.640625 444.726563 443.640625 444.726563 446.476563 \"/>\n",
       "<path style=\" stroke:none;fill-rule:nonzero;fill:rgb(0%,0%,0%);fill-opacity:1;\" d=\"M 409.585938 446.476563 C 409.585938 449.3125 405.335938 449.3125 405.335938 446.476563 C 405.335938 443.640625 409.585938 443.640625 409.585938 446.476563 \"/>\n",
       "<path style=\" stroke:none;fill-rule:nonzero;fill:rgb(0%,0%,0%);fill-opacity:1;\" d=\"M 471.082031 446.476563 C 471.082031 449.3125 466.828125 449.3125 466.828125 446.476563 C 466.828125 443.640625 471.082031 443.640625 471.082031 446.476563 \"/>\n",
       "<path style=\" stroke:none;fill-rule:nonzero;fill:rgb(0%,0%,0%);fill-opacity:1;\" d=\"M 253.214844 446.476563 C 253.214844 449.3125 248.960938 449.3125 248.960938 446.476563 C 248.960938 443.640625 253.214844 443.640625 253.214844 446.476563 \"/>\n",
       "<path style=\" stroke:none;fill-rule:nonzero;fill:rgb(0%,0%,0%);fill-opacity:1;\" d=\"M 147.792969 34.976563 C 147.792969 37.808594 143.542969 37.808594 143.542969 34.976563 C 143.542969 32.140625 147.792969 32.140625 147.792969 34.976563 \"/>\n",
       "<path style=\" stroke:none;fill-rule:nonzero;fill:rgb(0%,0%,0%);fill-opacity:1;\" d=\"M 142.523438 34.976563 C 142.523438 37.808594 138.269531 37.808594 138.269531 34.976563 C 138.269531 32.140625 142.523438 32.140625 142.523438 34.976563 \"/>\n",
       "<path style=\" stroke:none;fill-rule:nonzero;fill:rgb(0%,0%,0%);fill-opacity:1;\" d=\"M 109.140625 34.976563 C 109.140625 37.808594 104.886719 37.808594 104.886719 34.976563 C 104.886719 32.140625 109.140625 32.140625 109.140625 34.976563 \"/>\n",
       "<path style=\" stroke:none;fill-rule:nonzero;fill:rgb(0%,0%,0%);fill-opacity:1;\" d=\"M 212.800781 34.976563 C 212.800781 37.808594 208.550781 37.808594 208.550781 34.976563 C 208.550781 32.140625 212.800781 32.140625 212.800781 34.976563 \"/>\n",
       "<path style=\" stroke:none;fill-rule:nonzero;fill:rgb(0%,0%,0%);fill-opacity:1;\" d=\"M 355.121094 446.476563 C 355.121094 449.3125 350.867188 449.3125 350.867188 446.476563 C 350.867188 443.640625 355.121094 443.640625 355.121094 446.476563 \"/>\n",
       "<path style=\" stroke:none;fill-rule:nonzero;fill:rgb(0%,0%,0%);fill-opacity:1;\" d=\"M 332.277344 446.476563 C 332.277344 449.3125 328.027344 449.3125 328.027344 446.476563 C 328.027344 443.640625 332.277344 443.640625 332.277344 446.476563 \"/>\n",
       "<path style=\" stroke:none;fill-rule:nonzero;fill:rgb(0%,0%,0%);fill-opacity:1;\" d=\"M 409.585938 446.476563 C 409.585938 449.3125 405.335938 449.3125 405.335938 446.476563 C 405.335938 443.640625 409.585938 443.640625 409.585938 446.476563 \"/>\n",
       "<path style=\" stroke:none;fill-rule:nonzero;fill:rgb(0%,0%,0%);fill-opacity:1;\" d=\"M 153.0625 34.976563 C 153.0625 37.808594 148.8125 37.808594 148.8125 34.976563 C 148.8125 32.140625 153.0625 32.140625 153.0625 34.976563 \"/>\n",
       "<path style=\" stroke:none;fill-rule:nonzero;fill:rgb(0%,0%,0%);fill-opacity:1;\" d=\"M 221.585938 240.726563 C 221.585938 243.558594 217.335938 243.558594 217.335938 240.726563 C 217.335938 237.890625 221.585938 237.890625 221.585938 240.726563 \"/>\n",
       "<path style=\" stroke:none;fill-rule:nonzero;fill:rgb(0%,0%,0%);fill-opacity:1;\" d=\"M 139.007813 34.976563 C 139.007813 37.808594 134.757813 37.808594 134.757813 34.976563 C 134.757813 32.140625 139.007813 32.140625 139.007813 34.976563 \"/>\n",
       "<path style=\" stroke:none;fill-rule:nonzero;fill:rgb(0%,0%,0%);fill-opacity:1;\" d=\"M 251.457031 446.476563 C 251.457031 449.3125 247.203125 449.3125 247.203125 446.476563 C 247.203125 443.640625 251.457031 443.640625 251.457031 446.476563 \"/>\n",
       "</g>\n",
       "<g style=\"fill:rgb(49.803922%,49.803922%,49.803922%);fill-opacity:1;\">\n",
       "  <use xlink:href=\"#glyph0-0\" x=\"22.988281\" y=\"449.914063\"/>\n",
       "</g>\n",
       "<g style=\"fill:rgb(49.803922%,49.803922%,49.803922%);fill-opacity:1;\">\n",
       "  <use xlink:href=\"#glyph0-1\" x=\"22.988281\" y=\"347.039063\"/>\n",
       "</g>\n",
       "<g style=\"fill:rgb(49.803922%,49.803922%,49.803922%);fill-opacity:1;\">\n",
       "  <use xlink:href=\"#glyph0-2\" x=\"22.988281\" y=\"244.160156\"/>\n",
       "</g>\n",
       "<g style=\"fill:rgb(49.803922%,49.803922%,49.803922%);fill-opacity:1;\">\n",
       "  <use xlink:href=\"#glyph0-3\" x=\"22.988281\" y=\"141.285156\"/>\n",
       "</g>\n",
       "<g style=\"fill:rgb(49.803922%,49.803922%,49.803922%);fill-opacity:1;\">\n",
       "  <use xlink:href=\"#glyph0-4\" x=\"22.988281\" y=\"38.410156\"/>\n",
       "</g>\n",
       "<path style=\"fill:none;stroke-width:1.062992;stroke-linecap:butt;stroke-linejoin:round;stroke:rgb(49.803922%,49.803922%,49.803922%);stroke-opacity:1;stroke-miterlimit:10;\" d=\"M 31.164063 446.476563 L 35.414063 446.476563 \"/>\n",
       "<path style=\"fill:none;stroke-width:1.062992;stroke-linecap:butt;stroke-linejoin:round;stroke:rgb(49.803922%,49.803922%,49.803922%);stroke-opacity:1;stroke-miterlimit:10;\" d=\"M 31.164063 343.601563 L 35.414063 343.601563 \"/>\n",
       "<path style=\"fill:none;stroke-width:1.062992;stroke-linecap:butt;stroke-linejoin:round;stroke:rgb(49.803922%,49.803922%,49.803922%);stroke-opacity:1;stroke-miterlimit:10;\" d=\"M 31.164063 240.726563 L 35.414063 240.726563 \"/>\n",
       "<path style=\"fill:none;stroke-width:1.062992;stroke-linecap:butt;stroke-linejoin:round;stroke:rgb(49.803922%,49.803922%,49.803922%);stroke-opacity:1;stroke-miterlimit:10;\" d=\"M 31.164063 137.851563 L 35.414063 137.851563 \"/>\n",
       "<path style=\"fill:none;stroke-width:1.062992;stroke-linecap:butt;stroke-linejoin:round;stroke:rgb(49.803922%,49.803922%,49.803922%);stroke-opacity:1;stroke-miterlimit:10;\" d=\"M 31.164063 34.976563 L 35.414063 34.976563 \"/>\n",
       "<path style=\"fill:none;stroke-width:1.062992;stroke-linecap:butt;stroke-linejoin:round;stroke:rgb(49.803922%,49.803922%,49.803922%);stroke-opacity:1;stroke-miterlimit:10;\" d=\"M 49.03125 471.304688 L 49.03125 467.050781 \"/>\n",
       "<path style=\"fill:none;stroke-width:1.062992;stroke-linecap:butt;stroke-linejoin:round;stroke:rgb(49.803922%,49.803922%,49.803922%);stroke-opacity:1;stroke-miterlimit:10;\" d=\"M 136.882813 471.304688 L 136.882813 467.050781 \"/>\n",
       "<path style=\"fill:none;stroke-width:1.062992;stroke-linecap:butt;stroke-linejoin:round;stroke:rgb(49.803922%,49.803922%,49.803922%);stroke-opacity:1;stroke-miterlimit:10;\" d=\"M 224.730469 471.304688 L 224.730469 467.050781 \"/>\n",
       "<path style=\"fill:none;stroke-width:1.062992;stroke-linecap:butt;stroke-linejoin:round;stroke:rgb(49.803922%,49.803922%,49.803922%);stroke-opacity:1;stroke-miterlimit:10;\" d=\"M 312.582031 471.304688 L 312.582031 467.050781 \"/>\n",
       "<path style=\"fill:none;stroke-width:1.062992;stroke-linecap:butt;stroke-linejoin:round;stroke:rgb(49.803922%,49.803922%,49.803922%);stroke-opacity:1;stroke-miterlimit:10;\" d=\"M 400.433594 471.304688 L 400.433594 467.050781 \"/>\n",
       "<path style=\"fill:none;stroke-width:1.062992;stroke-linecap:butt;stroke-linejoin:round;stroke:rgb(49.803922%,49.803922%,49.803922%);stroke-opacity:1;stroke-miterlimit:10;\" d=\"M 488.28125 471.304688 L 488.28125 467.050781 \"/>\n",
       "<g style=\"fill:rgb(49.803922%,49.803922%,49.803922%);fill-opacity:1;\">\n",
       "  <use xlink:href=\"#glyph0-5\" x=\"43.691406\" y=\"481.011719\"/>\n",
       "  <use xlink:href=\"#glyph0-6\" x=\"49.030469\" y=\"481.011719\"/>\n",
       "</g>\n",
       "<g style=\"fill:rgb(49.803922%,49.803922%,49.803922%);fill-opacity:1;\">\n",
       "  <use xlink:href=\"#glyph0-5\" x=\"131.542969\" y=\"481.011719\"/>\n",
       "  <use xlink:href=\"#glyph0-1\" x=\"136.882031\" y=\"481.011719\"/>\n",
       "</g>\n",
       "<g style=\"fill:rgb(49.803922%,49.803922%,49.803922%);fill-opacity:1;\">\n",
       "  <use xlink:href=\"#glyph0-7\" x=\"219.390625\" y=\"481.011719\"/>\n",
       "  <use xlink:href=\"#glyph0-6\" x=\"224.729688\" y=\"481.011719\"/>\n",
       "</g>\n",
       "<g style=\"fill:rgb(49.803922%,49.803922%,49.803922%);fill-opacity:1;\">\n",
       "  <use xlink:href=\"#glyph0-7\" x=\"307.242188\" y=\"481.011719\"/>\n",
       "  <use xlink:href=\"#glyph0-1\" x=\"312.58125\" y=\"481.011719\"/>\n",
       "</g>\n",
       "<g style=\"fill:rgb(49.803922%,49.803922%,49.803922%);fill-opacity:1;\">\n",
       "  <use xlink:href=\"#glyph0-8\" x=\"395.09375\" y=\"481.011719\"/>\n",
       "  <use xlink:href=\"#glyph0-6\" x=\"400.432813\" y=\"481.011719\"/>\n",
       "</g>\n",
       "<g style=\"fill:rgb(49.803922%,49.803922%,49.803922%);fill-opacity:1;\">\n",
       "  <use xlink:href=\"#glyph0-8\" x=\"482.941406\" y=\"481.011719\"/>\n",
       "  <use xlink:href=\"#glyph0-1\" x=\"488.280469\" y=\"481.011719\"/>\n",
       "</g>\n",
       "<g style=\"fill:rgb(0%,0%,0%);fill-opacity:1;\">\n",
       "  <use xlink:href=\"#glyph1-0\" x=\"250.835938\" y=\"493.199219\"/>\n",
       "  <use xlink:href=\"#glyph1-1\" x=\"260.832031\" y=\"493.199219\"/>\n",
       "  <use xlink:href=\"#glyph1-2\" x=\"267.505859\" y=\"493.199219\"/>\n",
       "</g>\n",
       "<g style=\"fill:rgb(0%,0%,0%);fill-opacity:1;\">\n",
       "  <use xlink:href=\"#glyph2-0\" x=\"19.390625\" y=\"248.058594\"/>\n",
       "  <use xlink:href=\"#glyph2-1\" x=\"19.390625\" y=\"242.058594\"/>\n",
       "  <use xlink:href=\"#glyph2-2\" x=\"19.390625\" y=\"236.058594\"/>\n",
       "</g>\n",
       "</g>\n",
       "</svg>\n"
      ],
      "text/plain": [
       "plot without title"
      ]
     },
     "metadata": {
      "image/svg+xml": {
       "isolated": true
      }
     },
     "output_type": "display_data"
    }
   ],
   "source": [
    "mtcars %>% qplot(mpg, cyl, data=.)"
   ]
  },
  {
   "cell_type": "code",
   "execution_count": 7,
   "metadata": {
    "collapsed": false
   },
   "outputs": [
    {
     "name": "stdout",
     "output_type": "stream",
     "text": [
      "structure(list(mpg = c(21, 21, 22.8, 21.4, 18.7, 18.1), cyl = c(6, \n",
      "6, 4, 6, 8, 6), disp = c(160, 160, 108, 258, 360, 225), hp = c(110, \n",
      "110, 93, 110, 175, 105), drat = c(3.9, 3.9, 3.85, 3.08, 3.15, \n",
      "2.76), wt = c(2.62, 2.875, 2.32, 3.215, 3.44, 3.46), qsec = c(16.46, \n",
      "17.02, 18.61, 19.44, 17.02, 20.22), vs = c(0, 0, 1, 1, 0, 1), \n",
      "    am = c(1, 1, 1, 0, 0, 0), gear = c(4, 4, 4, 3, 3, 3), carb = c(4, \n",
      "    4, 1, 1, 2, 1)), .Names = c(\"mpg\", \"cyl\", \"disp\", \"hp\", \"drat\", \n",
      "\"wt\", \"qsec\", \"vs\", \"am\", \"gear\", \"carb\"), row.names = c(\"Mazda RX4\", \n",
      "\"Mazda RX4 Wag\", \"Datsun 710\", \"Hornet 4 Drive\", \"Hornet Sportabout\", \n",
      "\"Valiant\"), class = \"data.frame\")\n"
     ]
    }
   ],
   "source": [
    "dput(head(mtcars))"
   ]
  },
  {
   "cell_type": "code",
   "execution_count": null,
   "metadata": {
    "collapsed": true
   },
   "outputs": [],
   "source": []
  },
  {
   "cell_type": "markdown",
   "metadata": {},
   "source": [
    "# Packages"
   ]
  },
  {
   "cell_type": "code",
   "execution_count": null,
   "metadata": {
    "collapsed": true
   },
   "outputs": [],
   "source": [
    "- \n",
    "- [Machine Learning packages](http://www.r-bloggers.com/what-are-the-best-machine-learning-packages-in-r/)\n",
    "- tidyr"
   ]
  },
  {
   "cell_type": "markdown",
   "metadata": {},
   "source": [
    "<a id='mrserver'></a>\n",
    "[back to top](#top)"
   ]
  },
  {
   "cell_type": "markdown",
   "metadata": {},
   "source": [
    "# Microsoft R Server"
   ]
  },
  {
   "cell_type": "code",
   "execution_count": null,
   "metadata": {
    "collapsed": true
   },
   "outputs": [],
   "source": [
    "https://spark.apache.org/docs/1.6.0/sparkr.html #SparkR documentation "
   ]
  },
  {
   "cell_type": "code",
   "execution_count": null,
   "metadata": {
    "collapsed": true
   },
   "outputs": [],
   "source": [
    "rxHadoopListFiles(\"/\") # List files"
   ]
  },
  {
   "cell_type": "code",
   "execution_count": null,
   "metadata": {
    "collapsed": true
   },
   "outputs": [],
   "source": [
    "library(SparkR)\n",
    "\n",
    "# read csv -> https://github.com/databricks/spark-csv\n",
    "Sys.setenv('SPARKR_SUBMIT_ARGS'='\"--packages\" \"com.databricks:spark-csv_2.10:1.4.0\" \"sparkr-shell\"') # context for csv import\n",
    "\n",
    "sc <- sparkR.init()\n",
    "sqlContext <- sparkRSQL.init(sc)\n",
    "\n",
    "# usually you would precise the schema of the csv, if not: inferSchema = \"true\"\n",
    " customSchema <- structType(\n",
    "   structField(\"Semana\", \"integer\"),\n",
    "   structField(\"Agencia_ID\", \"integer\"),\n",
    "   structField(\"Canal_ID\", \"integer\"))\n",
    "train <- read.df(sqlContext, \"/train.csv\", header= \"true\", source = \"com.databricks.spark.csv\", inferSchema = \"true\")\n",
    "# alternative: SparkDf <- createDataFrame(sqlContext,faithful), but must be parquet, json or sql\n",
    "cache(train)\n",
    "system.time(head(train))"
   ]
  },
  {
   "cell_type": "markdown",
   "metadata": {},
   "source": [
    "#### Add/change column"
   ]
  },
  {
   "cell_type": "code",
   "execution_count": null,
   "metadata": {
    "collapsed": true
   },
   "outputs": [],
   "source": [
    "train = train %>% withColumn(\"id\", lit(0))"
   ]
  },
  {
   "cell_type": "markdown",
   "metadata": {},
   "source": [
    "#### Rename column"
   ]
  },
  {
   "cell_type": "code",
   "execution_count": null,
   "metadata": {
    "collapsed": true
   },
   "outputs": [],
   "source": [
    "train <- withColumnRenamed(train, \"col\", \"new_col\")"
   ]
  },
  {
   "cell_type": "code",
   "execution_count": null,
   "metadata": {
    "collapsed": true
   },
   "outputs": [],
   "source": []
  },
  {
   "cell_type": "markdown",
   "metadata": {},
   "source": [
    "Doesn't run in memory, but on-disk storage\n",
    "- Multi-threading\n",
    "- Parallel processing\n",
    "- On-disk data storage (Hard drive storage and not RAM builds computational limit)\n",
    "- Can work on a cluster"
   ]
  },
  {
   "cell_type": "code",
   "execution_count": 2,
   "metadata": {
    "collapsed": true
   },
   "outputs": [
    {
     "ename": "ERROR",
     "evalue": "Error in eval(expr, envir, enclos): konnte Funktion \"rxSetComputeContext\" nicht finden\n",
     "output_type": "error",
     "traceback": [
      "Error in eval(expr, envir, enclos): konnte Funktion \"rxSetComputeContext\" nicht finden\nTraceback:\n"
     ]
    }
   ],
   "source": [
    "# Use different context accessing distributed or parallel computing\n",
    "rxSetComputeContext( LocalParallel() )\n",
    "rxSetComputeContext( RxHadoopMR(...))"
   ]
  },
  {
   "cell_type": "markdown",
   "metadata": {},
   "source": [
    "#### how it works"
   ]
  },
  {
   "cell_type": "markdown",
   "metadata": {},
   "source": [
    "Parallel External Memory Algorithms\n",
    "1. A chunk/subset of data is extracted from the main dataset\n",
    "2. An intermediate result is calculated from that chunk of data\n",
    "3. The intermediate results are combined into a final dataset"
   ]
  },
  {
   "cell_type": "markdown",
   "metadata": {},
   "source": [
    "Available Algorithms are not the same as open-source R algorithms:\n",
    "- linear regression (rxLinMod)\n",
    "- K-means (rxKmeans)\n",
    "- ..."
   ]
  },
  {
   "cell_type": "markdown",
   "metadata": {},
   "source": [
    "- native data format: XDF File (chunk-oriented (fast to append), column-oriented, pre-computed metadata)"
   ]
  },
  {
   "cell_type": "markdown",
   "metadata": {},
   "source": [
    "#### examples"
   ]
  },
  {
   "cell_type": "code",
   "execution_count": 6,
   "metadata": {
    "collapsed": true
   },
   "outputs": [
    {
     "ename": "ERROR",
     "evalue": "Error in eval(expr, envir, enclos): konnte Funktion \"rxGetOption\" nicht finden\n",
     "output_type": "error",
     "traceback": [
      "Error in eval(expr, envir, enclos): konnte Funktion \"rxGetOption\" nicht finden\nTraceback:\n"
     ]
    }
   ],
   "source": [
    "# Sample data directory\n",
    "rxGetOption(\"SampleDataDir\")\n",
    "# sample data files\n",
    "list.files(\n",
    "rxGetOption(\"sampleDataDir\")\n",
    ")"
   ]
  },
  {
   "cell_type": "code",
   "execution_count": null,
   "metadata": {
    "collapsed": true
   },
   "outputs": [],
   "source": [
    "xdfPath <- tempfile(fileext = \".xdf\")\n",
    "xdfPath\n",
    "file.exists(xdfPath)\n",
    "\n",
    "# Read the CSV into the new XDF filehttps://compass.esa.cognizant.com/psp/ESA89PRD/EMPLOYEE/ERP/?cmd=login&languageCd=GER\n",
    "rxImport(inData = csvPath, outFile = xdfPath)\n",
    "\n",
    "#check results\n",
    "rxGetInfo(xdfPath, getVarInfo = TRUE)"
   ]
  },
  {
   "cell_type": "code",
   "execution_count": null,
   "metadata": {
    "collapsed": true
   },
   "outputs": [],
   "source": []
  },
  {
   "cell_type": "code",
   "execution_count": null,
   "metadata": {
    "collapsed": true
   },
   "outputs": [],
   "source": []
  },
  {
   "cell_type": "code",
   "execution_count": 1,
   "metadata": {
    "collapsed": false
   },
   "outputs": [
    {
     "data": {
      "text/html": [
       "<pre class=language-r><code>function (x) \n",
       "{\n",
       "    x + 1\n",
       "}</code></pre>"
      ],
      "text/latex": [
       "\\begin{minted}{r}\n",
       "function (x) \n",
       "\\{\n",
       "    x + 1\n",
       "\\}\n",
       "\\end{minted}"
      ],
      "text/markdown": [
       "```r\n",
       "function (x) \n",
       "{\n",
       "    x + 1\n",
       "}\n",
       "```"
      ],
      "text/plain": [
       "function(x){x+1}"
      ]
     },
     "metadata": {},
     "output_type": "display_data"
    }
   ],
   "source": [
    "function(x){x+1}"
   ]
  },
  {
   "cell_type": "code",
   "execution_count": null,
   "metadata": {
    "collapsed": true
   },
   "outputs": [],
   "source": []
  }
 ],
 "metadata": {
  "anaconda-cloud": {},
  "kernelspec": {
   "display_name": "R",
   "language": "R",
   "name": "ir"
  },
  "language_info": {
   "codemirror_mode": "r",
   "file_extension": ".r",
   "mimetype": "text/x-r-source",
   "name": "R",
   "pygments_lexer": "r",
   "version": "3.2.2"
  }
 },
 "nbformat": 4,
 "nbformat_minor": 0
}
