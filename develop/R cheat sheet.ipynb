{
 "cells": [
  {
   "cell_type": "markdown",
   "metadata": {},
   "source": [
    "<a id='top'></a>"
   ]
  },
  {
   "cell_type": "markdown",
   "metadata": {},
   "source": [
    "<img src=\"https://www.rstudio.com/wp-content/uploads/2014/06/RStudio-Ball.png\" width=\"100\">"
   ]
  },
  {
   "cell_type": "markdown",
   "metadata": {},
   "source": [
    "- Code snippets! -> Visual Studio\n",
    "- [R for Data Science book](http://r4ds.had.co.nz/data-visualisation.html)\n",
    "- Use pipes %>%"
   ]
  },
  {
   "cell_type": "markdown",
   "metadata": {},
   "source": [
    "#### Table of contents\n",
    "- [R commands](#commands)\n",
    "- [Plots](#plot)\n",
    "- [Pipes](#pipes)\n",
    "- [Microsoft R Server (SparkR)](#mrserver)"
   ]
  },
  {
   "cell_type": "markdown",
   "metadata": {},
   "source": [
    "<a id='commands'></a>"
   ]
  },
  {
   "cell_type": "markdown",
   "metadata": {},
   "source": [
    "# R Commands"
   ]
  },
  {
   "cell_type": "code",
   "execution_count": null,
   "metadata": {
    "collapsed": true
   },
   "outputs": [],
   "source": [
    "?merge #help"
   ]
  },
  {
   "cell_type": "markdown",
   "metadata": {},
   "source": [
    "### Directory & files"
   ]
  },
  {
   "cell_type": "code",
   "execution_count": null,
   "metadata": {
    "collapsed": true
   },
   "outputs": [],
   "source": [
    "# http://www.statmethods.net/interface/workspace.html\n",
    "ls()\n",
    "getwd()\n",
    "setwd(\"C:\\\\Users\\\\ts93856\\\\Desktop\\\\datasource\") # Set working directory\n",
    "infile <- file.path(dirName, fileName) # merge filename and pathname\n",
    "q() #quit R"
   ]
  },
  {
   "cell_type": "markdown",
   "metadata": {},
   "source": [
    "### Comments"
   ]
  },
  {
   "cell_type": "code",
   "execution_count": null,
   "metadata": {
    "collapsed": true
   },
   "outputs": [],
   "source": [
    "Ctrl + Shift + C # multiline comments in R Studio"
   ]
  },
  {
   "cell_type": "markdown",
   "metadata": {},
   "source": [
    "### Packages"
   ]
  },
  {
   "cell_type": "code",
   "execution_count": null,
   "metadata": {
    "collapsed": true
   },
   "outputs": [],
   "source": [
    "#import packages\n",
    "install.packages(\"jsonlite\") # ,dependencies=TRUE)\n",
    "library(e1071)"
   ]
  },
  {
   "cell_type": "markdown",
   "metadata": {},
   "source": [
    "### Import data"
   ]
  },
  {
   "cell_type": "code",
   "execution_count": null,
   "metadata": {
    "collapsed": true
   },
   "outputs": [],
   "source": [
    "jd <- jsonlite::fromJSON(\"https://.../json?address=1699+Amphitheatre+Parkway,+Mountain+View,+CA\") # online source\n",
    "bn = read.csv(\"https:...csv?accessType=DOWNLOAD\") # header = TRUE, stringAsFactors = FALSE # local source\n",
    "jd$results$address_components[[1]]$long_name # ???\n",
    "# httr package"
   ]
  },
  {
   "cell_type": "markdown",
   "metadata": {},
   "source": [
    "### Samples"
   ]
  },
  {
   "cell_type": "code",
   "execution_count": null,
   "metadata": {
    "collapsed": true
   },
   "outputs": [],
   "source": [
    "#df\n",
    "mtcars\n",
    "fr <- data.frame(c(\"hi\",\"ho\"), c(1,2), c(TRUE,FALSE))\n",
    "\n",
    "#matrix\n",
    "matrix(1:9, byrow=TRUE, nrow  =3)"
   ]
  },
  {
   "cell_type": "markdown",
   "metadata": {},
   "source": [
    "### Data overview"
   ]
  },
  {
   "cell_type": "code",
   "execution_count": null,
   "metadata": {
    "collapsed": true
   },
   "outputs": [],
   "source": [
    "str(bn)\n",
    "head(bn)\n",
    "summary(bn)\n",
    "summary(bn$First.Name)\n",
    "dim(bn)\n",
    "nrow(bn)\n",
    "class(bn)\n",
    "table(bn$col1) #show number of occursions\n",
    "count(bn$col1) #from package plyr"
   ]
  },
  {
   "cell_type": "markdown",
   "metadata": {},
   "source": [
    "### Transform data"
   ]
  },
  {
   "cell_type": "markdown",
   "metadata": {},
   "source": [
    "#### Column names"
   ]
  },
  {
   "cell_type": "code",
   "execution_count": null,
   "metadata": {
    "collapsed": true
   },
   "outputs": [],
   "source": [
    "colnames(df)\n",
    "colnames(df) <- c(\"col1\", \"col2\", \"col3\")"
   ]
  },
  {
   "cell_type": "markdown",
   "metadata": {},
   "source": [
    "#### Remove columns"
   ]
  },
  {
   "cell_type": "code",
   "execution_count": null,
   "metadata": {
    "collapsed": true
   },
   "outputs": [],
   "source": [
    "df$firstcol <- NULL ## remove columns we don't need"
   ]
  },
  {
   "cell_type": "code",
   "execution_count": null,
   "metadata": {
    "collapsed": true
   },
   "outputs": [],
   "source": [
    "#Remove NAs\n"
   ]
  },
  {
   "cell_type": "markdown",
   "metadata": {},
   "source": [
    "#### Subset of dataframe"
   ]
  },
  {
   "cell_type": "code",
   "execution_count": null,
   "metadata": {
    "collapsed": true
   },
   "outputs": [],
   "source": [
    "df[,c(\"col_1\",\"col_2\")]\n",
    "subset(df, diameter < 1) # with condition"
   ]
  },
  {
   "cell_type": "markdown",
   "metadata": {},
   "source": [
    "#### Apply function"
   ]
  },
  {
   "cell_type": "code",
   "execution_count": null,
   "metadata": {
    "collapsed": true
   },
   "outputs": [],
   "source": [
    "df$col1 <- df$col1 +2\n",
    "\n",
    "df[, catList] <- lapply(df[, catList], function(x) as.factor(as.character(x))) ## apply function to column\n",
    "\n",
    "# string transformation\n",
    "names(eeframe) <- gsub(\"\\\\.\", \"\", names(eeframe)) # grep/ gsub - http://www.inside-r.org/r-doc/base/sub\n",
    "## convert csv in xdf (Xdf files store data in compressed and optimized format)"
   ]
  },
  {
   "cell_type": "markdown",
   "metadata": {},
   "source": [
    "### connect dfs"
   ]
  },
  {
   "cell_type": "code",
   "execution_count": null,
   "metadata": {
    "collapsed": true
   },
   "outputs": [],
   "source": [
    "cbind(matrix1,matrix2) # neben einander\n",
    "rbind(matrix1,matrix2) # unter einander"
   ]
  },
  {
   "cell_type": "code",
   "execution_count": null,
   "metadata": {
    "collapsed": true
   },
   "outputs": [],
   "source": [
    "#vectors can be transformed to factors\n",
    "# Gender vector\n",
    "gender_vector <- c(\"Male\", \"Female\", \"Female\", \"Male\", \"Male\")\n",
    "\n",
    "# Convert gender_vector to a factor\n",
    "factor_gender_vector <- factor(gender_vector)"
   ]
  },
  {
   "cell_type": "markdown",
   "metadata": {},
   "source": [
    "### Subset of dataframe"
   ]
  },
  {
   "cell_type": "code",
   "execution_count": null,
   "metadata": {
    "collapsed": true
   },
   "outputs": [],
   "source": [
    "df[,c(\"col_1\",\"col_2\")]\n",
    "subset(df, diameter < 1) # with condition"
   ]
  },
  {
   "cell_type": "markdown",
   "metadata": {},
   "source": [
    "### Sort"
   ]
  },
  {
   "cell_type": "code",
   "execution_count": null,
   "metadata": {
    "collapsed": true
   },
   "outputs": [],
   "source": [
    "positions <-  order(planets_df$diameter) # order() to create positions\n",
    "planets_df[positions,] # sort using 'positions'"
   ]
  },
  {
   "cell_type": "code",
   "execution_count": null,
   "metadata": {
    "collapsed": true
   },
   "outputs": [],
   "source": [
    "#assign vector\n",
    "names(poker_vector) <- c(\"Monday\", \"Tuesday\", \"Wednesday\", \"Thursday\", \"Friday\")\n",
    "\n",
    "\n",
    "#foreach:\n",
    "\n",
    "install.packages(\"foreach\")\n",
    "library(foreach)\n",
    "foreach(i=1:10) %do%\n",
    "  rnorm(i)\n",
    "\n",
    "#for the foreach, we can use parallel computing\n",
    "install.packages(\"doParallel\")\n",
    "library(doParallel)\n",
    "\n",
    "#or cluster computing\n",
    "cl < makeCluster(4) # from the doParallel\n",
    "registerDoParallel(cl)\n",
    "\n",
    "df <- data.frame(ID=c(1,3,4), name=c(\"Steve\",\"mike\",\"Mary\"), c(32,24,52),c(80,90,100))\n",
    "\n",
    "df2 <- reshape(df, varying=c(\"2013\",\"2014\"), v.names=\"Percent\", time...)\n",
    "install.packages(\"reshape\")\n",
    "library(reshape)\n",
    "\n",
    "# reshaping\n",
    "df3 <- melt(df, id=c(\"ID\",\"Name\"))\n",
    "\n",
    "#merging\n",
    "mrg <- merge(fr1, fr2, by=\"ID\")\n",
    "\n",
    "#transpose\n",
    "carmpg <- mtcars[order(-mtcars$mpg),]\n",
    "carmpg <- carmpg[1:10,c(1,2,4,6)]\n",
    "carmpg <- data.frame(t(carmpg))\n",
    "carmpg$Fiat.128\n",
    "\n",
    "#aggregate\n",
    "ag <- aggregate(mtcars$mpg, list(mtcars$hp), mean)\n",
    "\n",
    "#remove NAs\n",
    "aq <-na.omit(airquality)\n",
    "#remove NAs selectively\n",
    "airquality[complete.cases(airquality[,c(1,3,4,5,6)]),]\n",
    "#hmisc package\n",
    "r <- aregImpute(~Ozone + Solar.R + Wind ...)\n",
    "\n",
    "#slice the df\n",
    "cut(airquality$Temp, breaks=c(0,80,100,150), labels=c(\"cold\",\"nice\",\"hot\"))"
   ]
  },
  {
   "cell_type": "markdown",
   "metadata": {},
   "source": [
    "# Data analysis"
   ]
  },
  {
   "cell_type": "code",
   "execution_count": null,
   "metadata": {
    "collapsed": true
   },
   "outputs": [],
   "source": [
    "#modeling functions\n",
    "lm #linear modeling\n",
    "glm\n",
    "aov #analysis of variance\n",
    "\n",
    "t.test\n",
    "TukeyHSD #creates sets of confidence intervals\n",
    "predict\n",
    "\n",
    "#helper functions for more analysis\n",
    "coef\n",
    "residuals\n",
    "fitted\n",
    "confint #confidence interval\n",
    "\n",
    "\n",
    "\n",
    "##Data analysis\n",
    "#linear modeling\n",
    "lml <- lm(trees$Volume ~ trees$Height + trees$Girth) #trees$Volume is dependent variable, trees$Height + trees$Girth effects it)\n",
    "summary(lml)\n",
    "plot(lml)\n",
    "lm2 <- lm(mpg ~ cyl + disp + hp + wt, data=mtcars) #instead of mtcars.wt each time\n",
    "\n",
    "#Variance analysis\n",
    "boxplot(Speed ~ Expt, data=morley)\n",
    "a <- aov(Speed ~ Expt, data=morley)\n",
    "summary(a)\n",
    "\n",
    "#R Coef Function\n",
    "lmf <- lm(lv ~lg + trees$Height)\n",
    "summary(lmf)\n",
    "x <- coef(lmf)\n",
    "x\n",
    "\n",
    "#R Fitted function\n",
    "lmf <- lm(mpg ~ disp, data=mtcars)\n",
    "plot(fitted(lmf), residuals(lmf))\n",
    "abline(h=0) # ususally there is not a line displayed in the plot above\n",
    "\n",
    "#R residual function\n",
    "lmf <- lm(mtcars$mpg ~ mtcars$disp)\n",
    "residuals(lmf)\n",
    "summary(lmf)\n",
    "summary(residuals(lmf))\n",
    "plot(fitted(lmf), residuals(lmf)) #what are the fitted lmfs?\n",
    "abline(h=0)\n",
    "\n",
    "#Covariance matrix\n",
    "lmf <- lm(trees$Volume ~ trees$Girth + trees$Height)\n",
    "vcov(lmf)\n",
    "\n",
    "#Confidence interval\n",
    "plot(faithful$eruptions, faithful$waiting)\n",
    "lme <- lm(eruptions ~ waiting, data=faithful)\n",
    "summary(lme)\n",
    "ci <- confint(lme, level=0.95)\n",
    "\n",
    "#Generalized linear model\n",
    "m <- glm(cyl ~ disp + hp, data=mtcars, family=poisson)\n",
    "params <- data.frame(hp=110, disp=160)\n",
    "predict(m, params, type=\"response\")\n",
    "\n",
    "#T Test\n",
    "r <- rnorm(100, 1000, 100) # (# of items, mean, standard deviation)\n",
    "tt <- t.test(r, mu=1000)\n",
    "str(tt)\n",
    "\n",
    "#TukeyHSD Test\n",
    "a <- aov(Speed ~ factor(Expt), data=morley)\n",
    "TukeyHSD(a)\n",
    "boxplot(Speed ~ Expt, data=morley)\n",
    "plot(TukeyHSD(a))\n",
    "\n",
    "#Predict Function\n",
    "plot(eruptions ~ waiting, data=faithful)\n",
    "lme <- lm(eruptions ~ waiting, data=faithful)\n",
    "dfe <- data.frame(waiting=50)\n",
    "predict(lme, dfe, interval=\"predict\", level=0.95)\n",
    "\n",
    "#plot\n",
    "library(ggplot2)\n",
    "qplot(eruptions, waiting, data=faithful, color=waiting, size=eruptions, geom=c(\"point\",\"smooth\"), method=\"lm\")"
   ]
  },
  {
   "cell_type": "markdown",
   "metadata": {},
   "source": [
    "### Time series"
   ]
  },
  {
   "cell_type": "code",
   "execution_count": 2,
   "metadata": {
    "collapsed": false
   },
   "outputs": [
    {
     "ename": "ERROR",
     "evalue": "Error in parse(text = x, srcfile = src): <text>:119:41: unerwartetes Symbol\n118: #hmisc package\n119: r <- aregImpute(~Ozone + Solar.R + Wind ...\n                                             ^\n",
     "output_type": "error",
     "traceback": [
      "Error in parse(text = x, srcfile = src): <text>:119:41: unerwartetes Symbol\n118: #hmisc package\n119: r <- aregImpute(~Ozone + Solar.R + Wind ...\n                                             ^\nTraceback:\n"
     ]
    }
   ],
   "source": [
    "tsdata <- ts(sample(1:100, 24), start=c(2013,1), end=c(2014,12), frequency=12, deltat=1/12)\n",
    "str(tsdata)\n",
    "f <- stl(AirPassengers, s.window=\"period\")\n",
    "library(forecast)\n",
    "f <- ets(AirPassengers)\n",
    "plot(forecast(f,12))\n",
    "f <- auto.arima(AirPassengers)\n",
    "\n",
    "\n",
    "\n",
    "\n",
    "\n",
    "# >>>> Machine learning <<<<\n",
    "# Two-way comparison\n",
    "prop.table(table(train$Survived, train$Child),1)\n",
    "# "
   ]
  },
  {
   "cell_type": "markdown",
   "metadata": {},
   "source": [
    "# R functions"
   ]
  },
  {
   "cell_type": "markdown",
   "metadata": {},
   "source": [
    "### Scale"
   ]
  },
  {
   "cell_type": "code",
   "execution_count": null,
   "metadata": {
    "collapsed": true
   },
   "outputs": [],
   "source": [
    "scale(dataScale$A, center = TRUE, scale  = FALSE)\n",
    "z[,scalelist] <- lapply(y[,scalelist], function(x) as.numeric(scale(x)))"
   ]
  },
  {
   "cell_type": "markdown",
   "metadata": {},
   "source": [
    "### lapply"
   ]
  },
  {
   "cell_type": "markdown",
   "metadata": {
    "collapsed": false
   },
   "source": [
    "- R version of for loop\n",
    "- use lapply to iterate over a path\n",
    "- apply functions to columns"
   ]
  },
  {
   "cell_type": "code",
   "execution_count": null,
   "metadata": {
    "collapsed": true
   },
   "outputs": [],
   "source": [
    "lapply(mortgageCsvPaths, FUN = function(csv_file) {\n",
    "    rxImport(inData = csv_file,\n",
    "            outFile = mortageXdf,\n",
    "            append = file.exists(mortgageXdf))\n",
    "})"
   ]
  },
  {
   "cell_type": "markdown",
   "metadata": {},
   "source": [
    "#### Remove empty columns"
   ]
  },
  {
   "cell_type": "code",
   "execution_count": null,
   "metadata": {
    "collapsed": true
   },
   "outputs": [],
   "source": [
    "rm(train)"
   ]
  },
  {
   "cell_type": "markdown",
   "metadata": {},
   "source": [
    "<a id='plot'></a>\n",
    "[back to top](#top)"
   ]
  },
  {
   "cell_type": "markdown",
   "metadata": {},
   "source": [
    "# Plots"
   ]
  },
  {
   "cell_type": "code",
   "execution_count": null,
   "metadata": {
    "collapsed": true
   },
   "outputs": [],
   "source": [
    "library(ggplot2)\n",
    "library(magrittr)"
   ]
  },
  {
   "cell_type": "code",
   "execution_count": null,
   "metadata": {
    "collapsed": true
   },
   "outputs": [],
   "source": [
    "#histogram\n"
   ]
  },
  {
   "cell_type": "code",
   "execution_count": null,
   "metadata": {
    "collapsed": true
   },
   "outputs": [],
   "source": [
    "# bar\n",
    "http://docs.ggplot2.org/0.9.3.1/geom_bar.html"
   ]
  },
  {
   "cell_type": "markdown",
   "metadata": {},
   "source": [
    "<a id='pipes'></a>\n",
    "[back to top](#top)"
   ]
  },
  {
   "cell_type": "markdown",
   "metadata": {},
   "source": [
    "# Pipes (for data selection)"
   ]
  },
  {
   "cell_type": "code",
   "execution_count": null,
   "metadata": {
    "collapsed": false
   },
   "outputs": [],
   "source": [
    "library(magrittr) # https://www.r-statistics.com/2014/08/simpler-r-coding-with-pipes-the-present-and-future-of-the-magrittr-package/\n",
    "library(dplyr)"
   ]
  },
  {
   "cell_type": "code",
   "execution_count": 9,
   "metadata": {
    "collapsed": true
   },
   "outputs": [],
   "source": [
    "#%>% \"then\""
   ]
  },
  {
   "cell_type": "markdown",
   "metadata": {},
   "source": [
    "flights %>%   \n",
    "group_by(dest) %>%   \n",
    "arrange(desc(arr_delay))"
   ]
  },
  {
   "cell_type": "markdown",
   "metadata": {},
   "source": [
    "- you cannot use $assign(), get(), load()$ with the pipe, unless you specify the environment \"x\" %>% assign(100, envir = env)"
   ]
  },
  {
   "cell_type": "markdown",
   "metadata": {},
   "source": [
    "When not to use the pipe:\n",
    "- You have multiple inputs or outputs. If there isn’t one primary object being transformed, but two or more objects being combined together, don’t use the pipe.\n",
    "- Your pipes get longer than five or six lines"
   ]
  },
  {
   "cell_type": "markdown",
   "metadata": {
    "collapsed": true
   },
   "source": [
    "#### Examples"
   ]
  },
  {
   "cell_type": "code",
   "execution_count": null,
   "metadata": {
    "collapsed": true
   },
   "outputs": [],
   "source": [
    "# sort\n"
   ]
  },
  {
   "cell_type": "code",
   "execution_count": null,
   "metadata": {
    "collapsed": true
   },
   "outputs": [],
   "source": [
    "# filter + summarise\n",
    "mtcars %>%\n",
    "dplyr::filter(., cyl == 6) %>%\n",
    "dplyr::summarise(sum(mpg))"
   ]
  },
  {
   "cell_type": "code",
   "execution_count": null,
   "metadata": {
    "collapsed": false
   },
   "outputs": [],
   "source": [
    "# filter + group + summarize + plot\n",
    "library(babynames) # data package\n",
    "babynames %>%\n",
    "    filter(name %>% substr(1, 3) %>% equals(\"Ste\")) %>%\n",
    "    group_by(year, sex) %>%\n",
    "    summarize(total = sum(n)) %>%\n",
    "    qplot(year, total, color = sex, data = ., geom = \"line\") %>%\n",
    "    add(ggtitle('Names starting with \"Ste\"')) %>%\n",
    "    print"
   ]
  },
  {
   "cell_type": "code",
   "execution_count": null,
   "metadata": {
    "collapsed": false
   },
   "outputs": [],
   "source": [
    "# filter + head\n",
    "df %>%\n",
    "+ dplyr::filter(., col1 ==2) %>%\n",
    "+ head()"
   ]
  },
  {
   "cell_type": "code",
   "execution_count": null,
   "metadata": {
    "collapsed": true
   },
   "outputs": [],
   "source": [
    "# else...\n",
    "frame1 <- mutate(frame1, Col4 = Col2 + Col3) #Create new column with new calculated \n",
    "frame1 <- group_by(frame1, Col1)\n",
    "frame1 <- distinct(frame1, Col2) #search for duplicates\n",
    "frame1 <- sample_frac(frame1, 0.5) #create a sample (for a fraction of the data)\n",
    "frame1 <- sample_n(frame1, 200)\n",
    "frame1 <- summarize(frame1, m1 = mean(Col1))\n",
    "## frame the dataframe (pipe)\n",
    "frame1 <- frame1 %>%\n",
    "            filter(Col1 == 2013) %>%\n",
    "            mutate(Col4 = Col2 + Col3)\n",
    "inner_join(a, b, by = colName)"
   ]
  },
  {
   "cell_type": "markdown",
   "metadata": {},
   "source": [
    "# Packages"
   ]
  },
  {
   "cell_type": "code",
   "execution_count": null,
   "metadata": {
    "collapsed": true
   },
   "outputs": [],
   "source": [
    "- dplyr\n",
    "- [Machine Learning packages](http://www.r-bloggers.com/what-are-the-best-machine-learning-packages-in-r/)\n",
    "- tidyr"
   ]
  },
  {
   "cell_type": "markdown",
   "metadata": {},
   "source": [
    "<a id='mrserver'></a>\n",
    "[back to top](#top)"
   ]
  },
  {
   "cell_type": "markdown",
   "metadata": {},
   "source": [
    "# R Server"
   ]
  },
  {
   "cell_type": "code",
   "execution_count": null,
   "metadata": {
    "collapsed": true
   },
   "outputs": [],
   "source": [
    "https://spark.apache.org/docs/1.6.0/sparkr.html #SparkR documentation "
   ]
  },
  {
   "cell_type": "code",
   "execution_count": null,
   "metadata": {
    "collapsed": true
   },
   "outputs": [],
   "source": [
    "rxHadoopListFiles(\"/\") # List files"
   ]
  },
  {
   "cell_type": "code",
   "execution_count": null,
   "metadata": {
    "collapsed": true
   },
   "outputs": [],
   "source": [
    "library(SparkR)\n",
    "\n",
    "# read csv -> https://github.com/databricks/spark-csv\n",
    "Sys.setenv('SPARKR_SUBMIT_ARGS'='\"--packages\" \"com.databricks:spark-csv_2.10:1.4.0\" \"sparkr-shell\"') # context for csv import\n",
    "\n",
    "sc <- sparkR.init()\n",
    "sqlContext <- sparkRSQL.init(sc)\n",
    "\n",
    "# usually you would precise the schema of the csv, if not: inferSchema = \"true\"\n",
    " customSchema <- structType(\n",
    "   structField(\"Semana\", \"integer\"),\n",
    "   structField(\"Agencia_ID\", \"integer\"),\n",
    "   structField(\"Canal_ID\", \"integer\"))\n",
    "train <- read.df(sqlContext, \"/train.csv\", header= \"true\", source = \"com.databricks.spark.csv\", inferSchema = \"true\")\n",
    "# alternative: SparkDf <- createDataFrame(sqlContext,faithful), but must be parquet, json or sql\n",
    "cache(train)\n",
    "system.time(head(train))"
   ]
  },
  {
   "cell_type": "markdown",
   "metadata": {},
   "source": [
    "#### Add/change column"
   ]
  },
  {
   "cell_type": "code",
   "execution_count": null,
   "metadata": {
    "collapsed": true
   },
   "outputs": [],
   "source": [
    "train = train %>% withColumn(\"id\", lit(0))"
   ]
  },
  {
   "cell_type": "markdown",
   "metadata": {},
   "source": [
    "#### Rename column"
   ]
  },
  {
   "cell_type": "code",
   "execution_count": null,
   "metadata": {
    "collapsed": true
   },
   "outputs": [],
   "source": [
    "train <- withColumnRenamed(train, \"col\", \"new_col\")"
   ]
  },
  {
   "cell_type": "markdown",
   "metadata": {},
   "source": [
    "#### Dataframes"
   ]
  },
  {
   "cell_type": "code",
   "execution_count": null,
   "metadata": {
    "collapsed": true
   },
   "outputs": [],
   "source": [
    "# doku: https://spark.apache.org/docs/1.5.1/sparkr.html\n",
    "mtrdd <- createDataFrame(sqlContext, mtcars) # Create RDD from dataframe"
   ]
  },
  {
   "cell_type": "code",
   "execution_count": null,
   "metadata": {
    "collapsed": true
   },
   "outputs": [],
   "source": [
    "https://www.r-bloggers.com/read-from-hdfs-with-r-brief-overview-of-sparkr/ # Read files from hdfs "
   ]
  },
  {
   "cell_type": "markdown",
   "metadata": {},
   "source": [
    "Doesn't run in memory, but on-disk storage\n",
    "- Multi-threading\n",
    "- Parallel processing\n",
    "- On-disk data storage (Hard drive storage and not RAM builds computational limit)\n",
    "- Can work on a cluster"
   ]
  },
  {
   "cell_type": "code",
   "execution_count": 2,
   "metadata": {
    "collapsed": true
   },
   "outputs": [
    {
     "ename": "ERROR",
     "evalue": "Error in eval(expr, envir, enclos): konnte Funktion \"rxSetComputeContext\" nicht finden\n",
     "output_type": "error",
     "traceback": [
      "Error in eval(expr, envir, enclos): konnte Funktion \"rxSetComputeContext\" nicht finden\nTraceback:\n"
     ]
    }
   ],
   "source": [
    "# Use different context accessing distributed or parallel computing\n",
    "rxSetComputeContext( LocalParallel() )\n",
    "rxSetComputeContext( RxHadoopMR(...))"
   ]
  },
  {
   "cell_type": "markdown",
   "metadata": {},
   "source": [
    "#### how it works"
   ]
  },
  {
   "cell_type": "markdown",
   "metadata": {},
   "source": [
    "Parallel External Memory Algorithms\n",
    "1. A chunk/subset of data is extracted from the main dataset\n",
    "2. An intermediate result is calculated from that chunk of data\n",
    "3. The intermediate results are combined into a final dataset"
   ]
  },
  {
   "cell_type": "markdown",
   "metadata": {},
   "source": [
    "Available Algorithms are not the same as open-source R algorithms:\n",
    "- linear regression (rxLinMod)\n",
    "- K-means (rxKmeans)\n",
    "- ..."
   ]
  },
  {
   "cell_type": "markdown",
   "metadata": {},
   "source": [
    "- native data format: XDF File (chunk-oriented (fast to append), column-oriented, pre-computed metadata)"
   ]
  },
  {
   "cell_type": "markdown",
   "metadata": {},
   "source": [
    "#### examples"
   ]
  },
  {
   "cell_type": "code",
   "execution_count": null,
   "metadata": {
    "collapsed": false
   },
   "outputs": [],
   "source": [
    "# Sample data directory\n",
    "rxGetOption(\"SampleDataDir\")\n",
    "# sample data files\n",
    "list.files(\n",
    "rxGetOption(\"sampleDataDir\")\n",
    ")"
   ]
  },
  {
   "cell_type": "code",
   "execution_count": null,
   "metadata": {
    "collapsed": true
   },
   "outputs": [],
   "source": [
    "xdfPath <- tempfile(fileext = \".xdf\")\n",
    "xdfPath\n",
    "file.exists(xdfPath)\n",
    "\n",
    "# Read the CSV into the new XDF filehttps://compass.esa.cognizant.com/psp/ESA89PRD/EMPLOYEE/ERP/?cmd=login&languageCd=GER\n",
    "rxImport(inData = csvPath, outFile = xdfPath)\n",
    "\n",
    "#check results\n",
    "rxGetInfo(xdfPath, getVarInfo = TRUE)"
   ]
  },
  {
   "cell_type": "markdown",
   "metadata": {},
   "source": [
    "# Visualization"
   ]
  },
  {
   "cell_type": "code",
   "execution_count": null,
   "metadata": {
    "collapsed": true
   },
   "outputs": [],
   "source": [
    "library(ggplot2)\n",
    "qplot(eruptions, waiting, data=faithful, color=waiting, size=eruptions, geom=c(\"point\",\"smooth\"), method=\"lm\")"
   ]
  }
 ],
 "metadata": {
  "anaconda-cloud": {},
  "kernelspec": {
   "display_name": "R",
   "language": "R",
   "name": "ir"
  },
  "language_info": {
   "codemirror_mode": "r",
   "file_extension": ".r",
   "mimetype": "text/x-r-source",
   "name": "R",
   "pygments_lexer": "r",
   "version": "3.2.2"
  }
 },
 "nbformat": 4,
 "nbformat_minor": 0
}
