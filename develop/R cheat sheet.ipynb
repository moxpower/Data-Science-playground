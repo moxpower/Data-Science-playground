{
 "cells": [
  {
   "cell_type": "markdown",
   "metadata": {},
   "source": [
    "<a id='top'></a>"
   ]
  },
  {
   "cell_type": "markdown",
   "metadata": {},
   "source": [
    "<img src=\"https://www.rstudio.com/wp-content/uploads/2014/06/RStudio-Ball.png\" width=\"100\">"
   ]
  },
  {
   "cell_type": "raw",
   "metadata": {},
   "source": [
    "- Code snippets! -> Visual Studio\n",
    "- [R for Data Science book](http://r4ds.had.co.nz/data-visualisation.html)\n",
    "- [Cheat Sheets (RStudio)](https://www.rstudio.com/resources/cheatsheets/)\n",
    "- Use pipes %>%"
   ]
  },
  {
   "cell_type": "markdown",
   "metadata": {},
   "source": [
    "#### Table of contents\n",
    "- [R commands](#commands)\n",
    "    - [Sampling](#sampling)\n",
    "- [Create data samples](#data_samples)\n",
    "- [Plots](#plot)\n",
    "- [Pipes](#pipes)\n",
    "- Packages\n",
    "    - [mlr](#mlr)\n",
    "    - [roc](#roc)\n",
    "- Microsoft R Server:\n",
    "    - [RevoScaleR](#RevoScaleR)\n",
    "    - [SparkR](#sparkr)\n",
    "- [Database](#database)\n",
    "- Web:\n",
    "    - [Shiny](#shiny)\n",
    "    - [AzureML](#AzureML)\n",
    "    - [GoogleAPI](#Google)"
   ]
  },
  {
   "cell_type": "markdown",
   "metadata": {},
   "source": [
    "<a id='commands'></a>"
   ]
  },
  {
   "cell_type": "markdown",
   "metadata": {},
   "source": [
    "# **R Commands**"
   ]
  },
  {
   "cell_type": "code",
   "execution_count": null,
   "metadata": {
    "collapsed": true
   },
   "outputs": [],
   "source": [
    "?merge #help"
   ]
  },
  {
   "cell_type": "markdown",
   "metadata": {},
   "source": [
    "### Directory & files"
   ]
  },
  {
   "cell_type": "code",
   "execution_count": null,
   "metadata": {
    "collapsed": true
   },
   "outputs": [],
   "source": [
    "# http://www.statmethods.net/interface/workspace.html\n",
    "list.files()\n",
    "getwd()\n",
    "setwd(\"C:\\\\Users\\\\ts93856\\\\Desktop\\\\datasource\") # Set working directory\n",
    "infile <- file.path(dirName, fileName) # merge filename and pathname\n",
    "q() #quit R"
   ]
  },
  {
   "cell_type": "markdown",
   "metadata": {},
   "source": [
    "#### Workspace"
   ]
  },
  {
   "cell_type": "code",
   "execution_count": null,
   "metadata": {
    "collapsed": true
   },
   "outputs": [],
   "source": [
    "rm(list = ls()) #removes objects in workspace\n",
    "\n",
    "save.image() #save workspace\n",
    "load(\".RData\") #load (does not append, loads) objects"
   ]
  },
  {
   "cell_type": "markdown",
   "metadata": {},
   "source": [
    "#### Read data"
   ]
  },
  {
   "cell_type": "code",
   "execution_count": null,
   "metadata": {
    "collapsed": true
   },
   "outputs": [],
   "source": [
    "# CSV\n",
    "setwd(\"C:\\\\Users\\\\568377\\\\Cognizant\\\\Lufthansa\\\\LH SMILE\\\\Dashboard\")\n",
    "dir <- getwd()\n",
    "File <- file.path(dir,\"Model Score Conversion - MockUp.csv\")\n",
    "Scores <- read.csv(File, sep = \";\")"
   ]
  },
  {
   "cell_type": "code",
   "execution_count": null,
   "metadata": {
    "collapsed": true
   },
   "outputs": [],
   "source": [
    "# Parquet\n",
    "Sys.setenv(SPARK_HOME= \"C:\\\\Users\\\\Documents\\\\Code\\\\Spark\\\\spark-2.1.0-bin-hadoop2.7\")\n",
    ".libPaths(c(file.path(Sys.getenv(\"SPARK_HOME\"), \"R\", \"lib\"), .libPaths()))\n",
    "library('SparkR')\n",
    "file_to_read = \"C:\\\\Users\\\\IdeaProjects\\\\src\\\\test\\\\resources\\\\sample\\\\test\\\\part-r-1fcbe.gz.parquet\"\n",
    "# initialize sparkContext which starts a new Spark session\n",
    "sc <- sparkR.session(master=\"local\")\n",
    "# initialize sqlContext\n",
    "sq <- sparkR.session(sc)\n",
    "# load parquet file into a Spark data frame and coerce into R data frame\n",
    "df <- read.parquet(file_to_read)\n",
    "# terminate Spark session\n",
    "sparkR.stop()"
   ]
  },
  {
   "cell_type": "markdown",
   "metadata": {},
   "source": [
    "### Data formats"
   ]
  },
  {
   "cell_type": "markdown",
   "metadata": {},
   "source": [
    "numeric:\n",
    "<img src=\"../img/Datatypes R numeric.png\" width=\"400\">\n",
    "various:\n",
    "<img src=\"../img/Datatypes R various.png\" width=\"400\">\n"
   ]
  },
  {
   "cell_type": "markdown",
   "metadata": {},
   "source": [
    "#### List"
   ]
  },
  {
   "cell_type": "code",
   "execution_count": null,
   "metadata": {
    "collapsed": true
   },
   "outputs": [],
   "source": [
    "Lists can store different data formats:\n",
    "b <- list(my_vector,my_matrix,my_df)\n",
    "my_list <- list(vec = my_vector, mat = my_matrix, df = my_df) # with names\n",
    "my_list$vec[1]"
   ]
  },
  {
   "cell_type": "markdown",
   "metadata": {},
   "source": [
    "#### Number of cores"
   ]
  },
  {
   "cell_type": "code",
   "execution_count": null,
   "metadata": {
    "collapsed": true
   },
   "outputs": [],
   "source": [
    "parallel:::detectCores()\n",
    "Sys.getenv('NUMBER_OF_PROCESSORS')"
   ]
  },
  {
   "cell_type": "markdown",
   "metadata": {},
   "source": [
    "#### Enable parallelization"
   ]
  },
  {
   "cell_type": "code",
   "execution_count": null,
   "metadata": {
    "collapsed": true
   },
   "outputs": [],
   "source": [
    "library(doParallel)\n",
    "cl <- makeCluster(detectCores())\n",
    "registerDoParallel(cl)\n",
    "# # machine learning code goes in here\n",
    "# stopCluster(cl)"
   ]
  },
  {
   "cell_type": "code",
   "execution_count": null,
   "metadata": {
    "collapsed": true
   },
   "outputs": [],
   "source": []
  },
  {
   "cell_type": "markdown",
   "metadata": {},
   "source": [
    "### Comments"
   ]
  },
  {
   "cell_type": "code",
   "execution_count": null,
   "metadata": {
    "collapsed": true
   },
   "outputs": [],
   "source": [
    "Ctrl + Shift + C # multiline comments in R Studio"
   ]
  },
  {
   "cell_type": "markdown",
   "metadata": {},
   "source": [
    "### Print"
   ]
  },
  {
   "cell_type": "code",
   "execution_count": null,
   "metadata": {
    "collapsed": true
   },
   "outputs": [],
   "source": [
    "print(a)\n",
    "print(\"Hello\")\n",
    "print(paste0(\"Sensitivity: \", a)) # variables and text\n",
    "\n",
    "#print returns argument. print is generic function. cat only valid \n",
    "#for atomic types (logical, integer, real, character). can be used\n",
    "#to write string to file\n",
    "cat(\"hey\")\n",
    "cat('\"blub\"','\"blib\"',file=\"blubblib.txt\",sep=\"\\n\")"
   ]
  },
  {
   "cell_type": "markdown",
   "metadata": {},
   "source": [
    "### Packages"
   ]
  },
  {
   "cell_type": "code",
   "execution_count": null,
   "metadata": {
    "collapsed": false
   },
   "outputs": [],
   "source": [
    "#import packages\n",
    "install.packages(\"jsonlite\") # ,dependencies=TRUE)\n",
    "library(e1071)\n",
    "require(jpeg)\n",
    "#multiple\n",
    "x<-c(\"DiagrammeR\",\"dplyr\")\n",
    "lapply(x, require, character.only = TRUE)"
   ]
  },
  {
   "cell_type": "markdown",
   "metadata": {},
   "source": [
    "[Require designed to work in functions](https://stackoverflow.com/questions/5595512/what-is-the-difference-between-require-and-library#_=_)"
   ]
  },
  {
   "cell_type": "markdown",
   "metadata": {},
   "source": [
    "### Import data"
   ]
  },
  {
   "cell_type": "code",
   "execution_count": null,
   "metadata": {
    "collapsed": true
   },
   "outputs": [],
   "source": [
    "# read from csv\n",
    "import csv\n",
    "bn = read.csv(\"https:...csv?accessType=DOWNLOAD\") # header = TRUE, stringAsFactors = FALSE # local source\n",
    "\n",
    "# read from json\n",
    "jd <- jsonlite::fromJSON(\"https://.../json?address=1699+Amphitheatre+Parkway,+Mountain+View,+CA\") # online source\n",
    "jd$results$address_components[[1]]$long_name # ???\n",
    "# httr package\n",
    "\n",
    "# read from Excel\n",
    "library(gdata) # needs Perl\n",
    "mydata <- read.xls(\"Claims.xls\", sheet=1)\n",
    "\n",
    "library(xlsx)\n",
    "mydata <- read.xlsx(\"Claims\", sheetName=\"Data\")\n",
    "\n",
    "# read from text\n",
    "s <- scan(\"http://bla/kings.dat)\",skip=3)\n",
    "\n",
    "# read from SPSS\n",
    "library(Hmisc)\n",
    "mydata <- spss.get(\"mydata.por\", use.value.labels=TRUE)\n",
    "\n",
    "# read from SAS\n",
    "library(HMisc)\n",
    "mydata <- sasxport.get(\"mydata.xpt\")\n",
    "\n",
    "library(foreign)\n",
    "mydata <- read.ssd(\"./data\",\"datafile\", sascmd\"./Applications/sas.exe\")\n",
    "\n",
    "library(Hmisc)\n",
    "mydata <- sas.get(\"~/data\",\"datafile\")\n",
    "\n",
    "# Built in datasets\n",
    "data()"
   ]
  },
  {
   "cell_type": "markdown",
   "metadata": {},
   "source": [
    "### Save/load dataframes"
   ]
  },
  {
   "cell_type": "code",
   "execution_count": null,
   "metadata": {
    "collapsed": true
   },
   "outputs": [],
   "source": [
    "# for a single object:\n",
    "saveRDS(train, file=\"train.Rda\")\n",
    "train <- readRDS(file=\"train.Rda\")\n",
    "\n",
    "# for multiple objects:\n",
    "save(train,file=\"train.Rda\")\n",
    "save(list=c(\"df1\",\"df2\"), file=\"multi.Rda\")\n",
    "load(\"train.Rda\")\n",
    "\n",
    "# for all objects\n",
    "save.image(\"all.Rda\")\n",
    "load(\"all.Rda\")"
   ]
  },
  {
   "cell_type": "code",
   "execution_count": null,
   "metadata": {
    "collapsed": true
   },
   "outputs": [],
   "source": [
    "# Save RData\n",
    "save.image()\n",
    "load(\".RData\")"
   ]
  },
  {
   "cell_type": "markdown",
   "metadata": {},
   "source": [
    "### Samples"
   ]
  },
  {
   "cell_type": "code",
   "execution_count": null,
   "metadata": {
    "collapsed": true
   },
   "outputs": [],
   "source": [
    "#df\n",
    "mtcars\n",
    "fr <- data.frame(c(\"hi\",\"ho\"), c(1,2), c(TRUE,FALSE))\n",
    "\n",
    "#matrix\n",
    "matrix(1:9, byrow=TRUE, nrow  =3)"
   ]
  },
  {
   "cell_type": "markdown",
   "metadata": {},
   "source": [
    "### Data overview"
   ]
  },
  {
   "cell_type": "code",
   "execution_count": null,
   "metadata": {
    "collapsed": false
   },
   "outputs": [],
   "source": [
    "str(bn)\n",
    "head(bn)\n",
    "summary(bn)\n",
    "summary(bn$First.Name)\n",
    "dim(bn)\n",
    "nrow(bn)\n",
    "class(bn) # how generic functions apply to object\n",
    "mode(x) # the storage mode of the object\n",
    "table(bn$col1) #show number of occursions\n",
    "count(bn$col1) #from package plyr\n",
    "view(df)"
   ]
  },
  {
   "cell_type": "code",
   "execution_count": null,
   "metadata": {
    "collapsed": true
   },
   "outputs": [],
   "source": [
    "# Duplicates?\n",
    "anyDuplicated(the_array)"
   ]
  },
  {
   "cell_type": "markdown",
   "metadata": {},
   "source": [
    "### Transform data"
   ]
  },
  {
   "cell_type": "markdown",
   "metadata": {},
   "source": [
    "#### Column names"
   ]
  },
  {
   "cell_type": "code",
   "execution_count": null,
   "metadata": {
    "collapsed": true
   },
   "outputs": [],
   "source": [
    "colnames(df)\n",
    "colnames(df) <- c(\"col1\", \"col2\", \"col3\")\n",
    "names(poker_vector) <- c(\"Monday\", \"Tuesday\", \"Wednesday\", \"Thursday\", \"Friday\")\n",
    "\n",
    "#Difference names vs colnames: \n",
    "# colnames also works for matrices, names does not\n",
    "# can use names to set/get the names of vectors"
   ]
  },
  {
   "cell_type": "markdown",
   "metadata": {},
   "source": [
    "#### Remove columns"
   ]
  },
  {
   "cell_type": "code",
   "execution_count": null,
   "metadata": {
    "collapsed": true
   },
   "outputs": [],
   "source": [
    "df$firstcol <- NULL ## remove columns we don't need"
   ]
  },
  {
   "cell_type": "code",
   "execution_count": null,
   "metadata": {
    "collapsed": true
   },
   "outputs": [],
   "source": [
    "#Remove NAs\n",
    "aq <-na.omit(airquality)\n",
    "\n",
    "#Remove NAs selectively\n",
    "airquality[complete.cases(airquality[,c(1,3,4,5,6)]),]"
   ]
  },
  {
   "cell_type": "markdown",
   "metadata": {},
   "source": [
    "#### Subset of dataframe"
   ]
  },
  {
   "cell_type": "code",
   "execution_count": null,
   "metadata": {
    "collapsed": true
   },
   "outputs": [],
   "source": [
    "df[,c(\"col_1\",\"col_2\")]\n",
    "subset(df, diameter < 1) # with condition\n",
    "subset(df, substr(this_column, start=1, stop=7)==\"Manufac\")"
   ]
  },
  {
   "cell_type": "markdown",
   "metadata": {},
   "source": [
    "#### Order"
   ]
  },
  {
   "cell_type": "code",
   "execution_count": null,
   "metadata": {
    "collapsed": true
   },
   "outputs": [],
   "source": [
    "a <- c(100, 10, 1000)\n",
    "order(a) # 2 1 3"
   ]
  },
  {
   "cell_type": "markdown",
   "metadata": {},
   "source": [
    "#### Apply function"
   ]
  },
  {
   "cell_type": "code",
   "execution_count": null,
   "metadata": {
    "collapsed": true
   },
   "outputs": [],
   "source": [
    "df$col1 <- df$col1 +2\n",
    "\n",
    "df[, catList] <- lapply(df[, catList], function(x) as.factor(as.character(x))) ## apply function to column\n",
    "\n",
    "# string transformation\n",
    "names(eeframe) <- gsub(\"\\\\.\", \"\", names(eeframe)) # grep/ gsub - http://www.inside-r.org/r-doc/base/sub\n",
    "## convert csv in xdf (Xdf files store data in compressed and optimized format)"
   ]
  },
  {
   "cell_type": "markdown",
   "metadata": {},
   "source": [
    "#### Sum of columns"
   ]
  },
  {
   "cell_type": "code",
   "execution_count": null,
   "metadata": {
    "collapsed": true
   },
   "outputs": [],
   "source": [
    "rowSums(df)"
   ]
  },
  {
   "cell_type": "markdown",
   "metadata": {},
   "source": [
    "#### Factors"
   ]
  },
  {
   "cell_type": "code",
   "execution_count": null,
   "metadata": {
    "collapsed": true
   },
   "outputs": [],
   "source": [
    "speed <- c(\"fast\",\"slow\",\"slow\",\"slow\",\"insane\")\n",
    "facvec <- factor(speed, ordered=T, levels=c(\"slow\",\"fast\",\"insane\"))"
   ]
  },
  {
   "cell_type": "markdown",
   "metadata": {},
   "source": [
    "#### Melt"
   ]
  },
  {
   "cell_type": "code",
   "execution_count": null,
   "metadata": {
    "collapsed": true
   },
   "outputs": [],
   "source": [
    "# reshape into long format\n",
    "df2 <- reshape2::melt(df, id=c(\"ID\",\"Name\"))"
   ]
  },
  {
   "cell_type": "markdown",
   "metadata": {},
   "source": [
    "### connect/append dfs"
   ]
  },
  {
   "cell_type": "code",
   "execution_count": null,
   "metadata": {
    "collapsed": true
   },
   "outputs": [],
   "source": [
    "cbind(matrix1,matrix2) # nebeneinander\n",
    "rbind(matrix1,matrix2) # untereinander"
   ]
  },
  {
   "cell_type": "code",
   "execution_count": null,
   "metadata": {
    "collapsed": true
   },
   "outputs": [],
   "source": [
    "#merging\n",
    "mrg <- merge(fr1, fr2, by=\"ID\")"
   ]
  },
  {
   "cell_type": "code",
   "execution_count": null,
   "metadata": {
    "collapsed": true
   },
   "outputs": [],
   "source": [
    "#vectors can be transformed to factors\n",
    "# Gender vector\n",
    "gender_vector <- c(\"Male\", \"Female\", \"Female\", \"Male\", \"Male\")\n",
    "\n",
    "# Convert gender_vector to a factor\n",
    "factor_gender_vector <- factor(gender_vector)"
   ]
  },
  {
   "cell_type": "markdown",
   "metadata": {},
   "source": [
    "### Sort"
   ]
  },
  {
   "cell_type": "code",
   "execution_count": null,
   "metadata": {
    "collapsed": true
   },
   "outputs": [],
   "source": [
    "positions <-  order(planets_df$diameter) # order() to create positions\n",
    "planets_df[positions,] # sort using 'positions'"
   ]
  },
  {
   "cell_type": "code",
   "execution_count": null,
   "metadata": {
    "collapsed": true
   },
   "outputs": [],
   "source": [
    "#foreach: (this is not R way to do things)\n",
    "# require(foreach)\n",
    "# foreach(i=1:10) %do%\n",
    "# rnorm(i)\n",
    "\n",
    "#for the foreach, we can use parallel computing\n",
    "install.packages(\"doParallel\")\n",
    "library(doParallel)\n",
    "\n",
    "#or cluster computing\n",
    "cl < makeCluster(4) # from the doParallel\n",
    "registerDoParallel(cl)\n",
    "\n",
    "df2 <- reshape(df, varying=c(\"2013\",\"2014\"), v.names=\"Percent\", time...)\n",
    "install.packages(\"reshape\")\n",
    "library(reshape)\n",
    "\n",
    "#transpose\n",
    "carmpg <- mtcars[order(-mtcars$mpg),]\n",
    "carmpg <- carmpg[1:10,c(1,2,4,6)]\n",
    "carmpg <- data.frame(t(carmpg))\n",
    "carmpg$Fiat.128\n",
    "\n",
    "#aggregate\n",
    "ag <- aggregate(mtcars$mpg, list(mtcars$hp), mean)\n",
    "\n",
    "#hmisc package\n",
    "r <- aregImpute(~Ozone + Solar.R + Wind ...)\n",
    "\n",
    "#slice the df\n",
    "cut(airquality$Temp, breaks=c(0,80,100,150), labels=c(\"cold\",\"nice\",\"hot\"))"
   ]
  },
  {
   "cell_type": "markdown",
   "metadata": {},
   "source": [
    "# Data analysis"
   ]
  },
  {
   "cell_type": "code",
   "execution_count": null,
   "metadata": {
    "collapsed": true
   },
   "outputs": [],
   "source": [
    "#modeling functions\n",
    "lm #linear modeling\n",
    "glm\n",
    "aov #analysis of variance\n",
    "\n",
    "t.test\n",
    "TukeyHSD #creates sets of confidence intervals\n",
    "predict\n",
    "\n",
    "#helper functions for more analysis\n",
    "coef\n",
    "residuals\n",
    "fitted\n",
    "confint #confidence interval\n",
    "\n",
    "\n",
    "\n",
    "##Data analysis\n",
    "#linear modeling\n",
    "lml <- lm(trees$Volume ~ trees$Height + trees$Girth) #trees$Volume is dependent variable, trees$Height + trees$Girth effects it)\n",
    "summary(lml)\n",
    "plot(lml)\n",
    "lm2 <- lm(mpg ~ cyl + disp + hp + wt, data=mtcars) #instead of mtcars.wt each time\n",
    "\n",
    "#Variance analysis\n",
    "boxplot(Speed ~ Expt, data=morley)\n",
    "a <- aov(Speed ~ Expt, data=morley)\n",
    "summary(a)\n",
    "\n",
    "#R Coef Function\n",
    "lmf <- lm(lv ~lg + trees$Height)\n",
    "summary(lmf)\n",
    "x <- coef(lmf)\n",
    "x\n",
    "\n",
    "#R Fitted function\n",
    "lmf <- lm(mpg ~ disp, data=mtcars)\n",
    "plot(fitted(lmf), residuals(lmf))\n",
    "abline(h=0) # ususally there is not a line displayed in the plot above\n",
    "\n",
    "#R residual function\n",
    "lmf <- lm(mtcars$mpg ~ mtcars$disp)\n",
    "residuals(lmf)\n",
    "summary(lmf)\n",
    "summary(residuals(lmf))\n",
    "plot(fitted(lmf), residuals(lmf)) #what are the fitted lmfs?\n",
    "abline(h=0)\n",
    "\n",
    "#Covariance matrix\n",
    "lmf <- lm(trees$Volume ~ trees$Girth + trees$Height)\n",
    "vcov(lmf)\n",
    "\n",
    "#Confidence interval\n",
    "plot(faithful$eruptions, faithful$waiting)\n",
    "lme <- lm(eruptions ~ waiting, data=faithful)\n",
    "summary(lme)\n",
    "ci <- confint(lme, level=0.95)\n",
    "\n",
    "#Generalized linear model\n",
    "m <- glm(cyl ~ disp + hp, data=mtcars, family=poisson)\n",
    "params <- data.frame(hp=110, disp=160)\n",
    "predict(m, params, type=\"response\")\n",
    "\n",
    "#T Test\n",
    "r <- rnorm(100, 1000, 100) # (# of items, mean, standard deviation)\n",
    "tt <- t.test(r, mu=1000)\n",
    "str(tt)\n",
    "\n",
    "#TukeyHSD Test\n",
    "a <- aov(Speed ~ factor(Expt), data=morley)\n",
    "TukeyHSD(a)\n",
    "boxplot(Speed ~ Expt, data=morley)\n",
    "plot(TukeyHSD(a))\n",
    "\n",
    "#Predict Function\n",
    "plot(eruptions ~ waiting, data=faithful)\n",
    "lme <- lm(eruptions ~ waiting, data=faithful)\n",
    "dfe <- data.frame(waiting=50)\n",
    "predict(lme, dfe, interval=\"predict\", level=0.95)\n",
    "\n",
    "#plot\n",
    "library(ggplot2)\n",
    "qplot(eruptions, waiting, data=faithful, color=waiting, size=eruptions, geom=c(\"point\",\"smooth\"), method=\"lm\")"
   ]
  },
  {
   "cell_type": "markdown",
   "metadata": {},
   "source": [
    "### Time series"
   ]
  },
  {
   "cell_type": "code",
   "execution_count": null,
   "metadata": {
    "collapsed": false
   },
   "outputs": [],
   "source": [
    "tsdata <- ts(sample(1:100, 24), start=c(2013,1), end=c(2014,12), frequency=12, deltat=1/12)\n",
    "str(tsdata)\n",
    "f <- stl(AirPassengers, s.window=\"period\")\n",
    "library(forecast)\n",
    "f <- ets(AirPassengers)\n",
    "plot(forecast(f,12))\n",
    "f <- auto.arima(AirPassengers)\n",
    "\n",
    "\n",
    "\n",
    "\n",
    "\n",
    "# >>>> Machine learning <<<<\n",
    "# Two-way comparison\n",
    "prop.table(table(train$Survived, train$Child),1)\n",
    "# "
   ]
  },
  {
   "cell_type": "markdown",
   "metadata": {},
   "source": [
    "# R functions"
   ]
  },
  {
   "cell_type": "markdown",
   "metadata": {},
   "source": [
    "### Scale"
   ]
  },
  {
   "cell_type": "code",
   "execution_count": null,
   "metadata": {
    "collapsed": true
   },
   "outputs": [],
   "source": [
    "scale(dataScale$A, center = TRUE, scale  = FALSE)\n",
    "z[,scalelist] <- lapply(y[,scalelist], function(x) as.numeric(scale(x)))"
   ]
  },
  {
   "cell_type": "markdown",
   "metadata": {},
   "source": [
    "### lapply"
   ]
  },
  {
   "cell_type": "markdown",
   "metadata": {
    "collapsed": false
   },
   "source": [
    "- R version of for loop\n",
    "- use lapply to iterate over a path\n",
    "- apply functions to columns"
   ]
  },
  {
   "cell_type": "code",
   "execution_count": null,
   "metadata": {
    "collapsed": true
   },
   "outputs": [],
   "source": [
    "lapply(mortgageCsvPaths, FUN = function(csv_file) {\n",
    "    rxImport(inData = csv_file,\n",
    "            outFile = mortageXdf,\n",
    "            append = file.exists(mortgageXdf))\n",
    "})"
   ]
  },
  {
   "cell_type": "markdown",
   "metadata": {},
   "source": [
    "#### Remove empty columns"
   ]
  },
  {
   "cell_type": "code",
   "execution_count": null,
   "metadata": {
    "collapsed": true
   },
   "outputs": [],
   "source": [
    "rm(train)"
   ]
  },
  {
   "cell_type": "markdown",
   "metadata": {},
   "source": [
    "<a id='plot'></a>\n",
    "[back to top](#top)"
   ]
  },
  {
   "cell_type": "markdown",
   "metadata": {},
   "source": [
    "## Sampling"
   ]
  },
  {
   "cell_type": "code",
   "execution_count": null,
   "metadata": {
    "collapsed": true
   },
   "outputs": [],
   "source": [
    "caret, ?createFolds"
   ]
  },
  {
   "cell_type": "markdown",
   "metadata": {},
   "source": [
    "<a id='data_samples'></a>\n",
    "[back to top](#top)"
   ]
  },
  {
   "cell_type": "markdown",
   "metadata": {},
   "source": [
    "# Data samples"
   ]
  },
  {
   "cell_type": "code",
   "execution_count": null,
   "metadata": {
    "collapsed": true
   },
   "outputs": [],
   "source": [
    "seq(10) #create sequence from 1 to 10"
   ]
  },
  {
   "cell_type": "code",
   "execution_count": null,
   "metadata": {
    "collapsed": true
   },
   "outputs": [],
   "source": [
    "rep(1:10,10)\n",
    "rep(1:10,each=10)"
   ]
  },
  {
   "cell_type": "markdown",
   "metadata": {},
   "source": [
    "<a id='plot'></a>\n",
    "[back to top](#top)"
   ]
  },
  {
   "cell_type": "markdown",
   "metadata": {},
   "source": [
    "# Plots"
   ]
  },
  {
   "cell_type": "code",
   "execution_count": null,
   "metadata": {
    "collapsed": true
   },
   "outputs": [],
   "source": [
    "require(ggplot2)\n",
    "require(ggmap)"
   ]
  },
  {
   "cell_type": "code",
   "execution_count": null,
   "metadata": {
    "collapsed": true
   },
   "outputs": [],
   "source": [
    "# ggplot cheatsheat\n",
    "https://www.rstudio.com/wp-content/uploads/2015/12/ggplot2-cheatsheet-2.0.pdf"
   ]
  },
  {
   "cell_type": "code",
   "execution_count": null,
   "metadata": {
    "collapsed": true
   },
   "outputs": [],
   "source": [
    "#histogram\n",
    "plot(hist(X,xlim = c(0.3,0.8),breaks = seq(0.3,0.8,0.1))$counts)"
   ]
  },
  {
   "cell_type": "code",
   "execution_count": null,
   "metadata": {
    "collapsed": true
   },
   "outputs": [],
   "source": [
    "# bar\n",
    "http://docs.ggplot2.org/0.9.3.1/geom_bar.html"
   ]
  },
  {
   "cell_type": "code",
   "execution_count": null,
   "metadata": {
    "collapsed": true
   },
   "outputs": [],
   "source": [
    "# boxplot\n",
    "ggplot(data = entropy_merged, aes(x=label, y=Entropy)) + geom_boxplot(outlier.shape=NA) + #avoid plotting outliers twice\n",
    "    geom_jitter(position=position_jitter(width=0.1, height=0))"
   ]
  },
  {
   "cell_type": "code",
   "execution_count": null,
   "metadata": {
    "collapsed": true
   },
   "outputs": [],
   "source": [
    "# violin plot\n",
    "g <- ggplot(entropy_merged, aes(x=label, y=Entropy))\n",
    "g + geom_violin(alpha=0.5, color=\"gray\")+geom_jitter(alpha=0.5,aes(color=label),position =position_jitter(width=0.1))\n",
    "#source: http://zevross.com/blog/2014/08/04/beautiful-plotting-in-r-a-ggplot2-cheatsheet-3/"
   ]
  },
  {
   "cell_type": "code",
   "execution_count": null,
   "metadata": {
    "collapsed": true
   },
   "outputs": [],
   "source": [
    "#facet_grid\n",
    "gplot(df, aes(variable, value, group=1))  + geom_point() + geom_line(colour=\"black\")\n",
    " + facet_grid( ~ rounds) + theme(axis.text.x = element_text(angle = 90, vjust = 0, hjust = 1)) +\n",
    "xlab(\"Algorithmic Iterations\") + ylab(\"Angular Difference to previously recorded checkpoint\") + ggtitle(paste0(\"The Max of scalar products during training per bootstrap-round - Layer \",j))"
   ]
  },
  {
   "cell_type": "code",
   "execution_count": null,
   "metadata": {
    "collapsed": true
   },
   "outputs": [],
   "source": [
    "# multiple plots in one box\n",
    "g1 <- ggplot(subset(output.melt, substr(variable, start=1, stop=3)==\"AUC\"), aes(x=Round, y=value, color=variable)) + geom_point(size = 4, alpha=0.5) + coord_cartesian(ylim=c(0,1)) + theme(text = element_text(size=20),legend.title = element_blank()) + ylab(\"AUC\") +scale_colour_manual(labels = c(\"valid\", \"eval\"), values = c(\"blue\", \"red\"))\n",
    "g2 <- ggplot(subset(output.melt, substr(variable, start=1, stop=3)==\"Acc\"), aes(x=Round, y=value/100, color=variable)) + geom_point(size = 4, alpha=0.5) + coord_cartesian(ylim=c(0,1)) + theme(text = element_text(size=20),legend.title = element_blank()) + ylab(\"Accuracy\")+scale_colour_manual(labels = c(\"valid\", \"eval\"), values = c(\"blue\", \"red\"))\n",
    "g3 <- ggplot(subset(output.melt, substr(variable, start=1, stop=3)==\"Sen\"), aes(x=Round, y=value, color=variable)) + geom_point(size = 4, alpha=0.5) + coord_cartesian(ylim=c(0,1)) + theme(text = element_text(size=20),legend.title = element_blank()) + ylab(\"Sensitivity\")+scale_colour_manual(labels = c(\"valid\", \"eval\"), values = c(\"blue\", \"red\"))\n",
    "g4 <- ggplot(subset(output.melt, substr(variable, start=1, stop=3)==\"Spe\"), aes(x=Round, y=value, color=variable)) + geom_point(size = 4, alpha=0.5) + coord_cartesian(ylim=c(0,1)) + theme(text = element_text(size=20),legend.title = element_blank()) + ylab(\"Specificity\")+scale_colour_manual(labels = c(\"valid\", \"eval\"), values = c(\"blue\", \"red\"))\n",
    "\n",
    "grid.arrange(g1,g2,g3,g4, nrow=2, ncol=2)"
   ]
  },
  {
   "cell_type": "code",
   "execution_count": null,
   "metadata": {
    "collapsed": true
   },
   "outputs": [],
   "source": [
    "# Plotting guide http://zevross.com/blog/2014/08/04/beautiful-plotting-in-r-a-ggplot2-cheatsheet-3/"
   ]
  },
  {
   "cell_type": "code",
   "execution_count": null,
   "metadata": {
    "collapsed": true
   },
   "outputs": [],
   "source": [
    "# SVDS style guide\n",
    "# https://github.com/jbwhit/svds-style/blob/master/notebooks/How-to-plot-good-and-use-SVDS-style-good-too.ipynb"
   ]
  },
  {
   "cell_type": "code",
   "execution_count": null,
   "metadata": {
    "collapsed": true
   },
   "outputs": [],
   "source": [
    "# nice plotting\n",
    "# http://gforge.se/2013/02/exporting-nice-plots-in-r/"
   ]
  },
  {
   "cell_type": "markdown",
   "metadata": {
    "collapsed": true
   },
   "source": [
    "[pick colors for plot](http://deanattali.com/blog/plot-colour-helper/)"
   ]
  },
  {
   "cell_type": "code",
   "execution_count": null,
   "metadata": {
    "collapsed": true
   },
   "outputs": [],
   "source": [
    "#### Maps"
   ]
  },
  {
   "cell_type": "code",
   "execution_count": null,
   "metadata": {
    "collapsed": true
   },
   "outputs": [],
   "source": [
    "windows(60,60)\n",
    "q <- get_map(\"Munich\", zoom=13, source=\"stamen\", maptype=\"watercolor\")\n",
    "basemap <- ggmap(q, extent=\"device\")\n",
    "basemap"
   ]
  },
  {
   "cell_type": "markdown",
   "metadata": {},
   "source": [
    "#### Save plots"
   ]
  },
  {
   "cell_type": "code",
   "execution_count": null,
   "metadata": {
    "collapsed": true
   },
   "outputs": [],
   "source": [
    "#Option1\n",
    "d <- windows(60,60)\n",
    "q <- get_map(\"Munich\", zoom=13, source=\"stamen\", maptype=\"watercolor\")\n",
    "basemap <- ggmap(q, extent=\"device\")\n",
    "ggsave(\"muc.png\", device=d)\n",
    "graphics.off()\n",
    "\n",
    "#Option2\n",
    "png(file=\"muc2.png\",800,800)\n",
    "q <- get_map(\"Munich\", zoom=13, source=\"stamen\", maptype=\"watercolor\")\n",
    "basemap <- ggmap(q, extent=\"device\")\n",
    "basemap\n",
    "graphics.off()"
   ]
  },
  {
   "cell_type": "markdown",
   "metadata": {},
   "source": [
    "<a id='pipes'></a>\n",
    "[back to top](#top)"
   ]
  },
  {
   "cell_type": "markdown",
   "metadata": {},
   "source": [
    "# Pipes (for data selection)"
   ]
  },
  {
   "cell_type": "code",
   "execution_count": null,
   "metadata": {
    "collapsed": false
   },
   "outputs": [],
   "source": [
    "library(magrittr) # https://www.r-statistics.com/2014/08/simpler-r-coding-with-pipes-the-present-and-future-of-the-magrittr-package/\n",
    "library(dplyr)"
   ]
  },
  {
   "cell_type": "code",
   "execution_count": null,
   "metadata": {
    "collapsed": true
   },
   "outputs": [],
   "source": [
    "#%>% \"then\""
   ]
  },
  {
   "cell_type": "markdown",
   "metadata": {},
   "source": [
    "flights %>%   \n",
    "group_by(dest) %>%   \n",
    "arrange(desc(arr_delay))"
   ]
  },
  {
   "cell_type": "markdown",
   "metadata": {},
   "source": [
    "- you cannot use $assign(), get(), load()$ with the pipe, unless you specify the environment \"x\" %>% assign(100, envir = env)"
   ]
  },
  {
   "cell_type": "markdown",
   "metadata": {},
   "source": [
    "When not to use the pipe:\n",
    "- You have multiple inputs or outputs. If there isn’t one primary object being transformed, but two or more objects being combined together, don’t use the pipe.\n",
    "- Your pipes get longer than five or six lines"
   ]
  },
  {
   "cell_type": "markdown",
   "metadata": {
    "collapsed": true
   },
   "source": [
    "#### Examples"
   ]
  },
  {
   "cell_type": "code",
   "execution_count": null,
   "metadata": {
    "collapsed": true
   },
   "outputs": [],
   "source": [
    "# sort\n"
   ]
  },
  {
   "cell_type": "code",
   "execution_count": null,
   "metadata": {
    "collapsed": true
   },
   "outputs": [],
   "source": [
    "# filter + summarise\n",
    "mtcars %>%\n",
    "dplyr::filter(., cyl == 6) %>%\n",
    "dplyr::summarise(sum(mpg))"
   ]
  },
  {
   "cell_type": "code",
   "execution_count": null,
   "metadata": {
    "collapsed": true
   },
   "outputs": [],
   "source": [
    "# count group occurences\n",
    "count_type_1 <- train %>% filter(label %>% equals(1))"
   ]
  },
  {
   "cell_type": "code",
   "execution_count": null,
   "metadata": {
    "collapsed": false
   },
   "outputs": [],
   "source": [
    "# filter + group + summarize + plot\n",
    "library(babynames) # data package\n",
    "babynames %>%\n",
    "    filter(name %>% substr(1, 3) %>% equals(\"Ste\")) %>%\n",
    "    group_by(year, sex) %>%\n",
    "    summarize(total = sum(n)) %>%\n",
    "    qplot(year, total, color = sex, data = ., geom = \"line\") %>%\n",
    "    add(ggtitle('Names starting with \"Ste\"')) %>%\n",
    "    print"
   ]
  },
  {
   "cell_type": "code",
   "execution_count": null,
   "metadata": {
    "collapsed": false
   },
   "outputs": [],
   "source": [
    "# filter + head\n",
    "df %>%\n",
    "+ dplyr::filter(., col1 ==2) %>%\n",
    "+ head()"
   ]
  },
  {
   "cell_type": "code",
   "execution_count": null,
   "metadata": {
    "collapsed": true
   },
   "outputs": [],
   "source": [
    "# else...\n",
    "frame1 <- mutate(frame1, Col4 = Col2 + Col3) #Create new column with new calculated \n",
    "frame1 <- group_by(frame1, Col1)\n",
    "frame1 <- distinct(frame1, Col2) #search for duplicates\n",
    "frame1 <- sample_frac(frame1, 0.5) #create a sample (for a fraction of the data)\n",
    "frame1 <- sample_n(frame1, 200)\n",
    "frame1 <- summarize(frame1, m1 = mean(Col1))\n",
    "## frame the dataframe (pipe)\n",
    "frame1 <- frame1 %>%\n",
    "            filter(Col1 == 2013) %>%\n",
    "            mutate(Col4 = Col2 + Col3)\n",
    "inner_join(a, b, by = colName)"
   ]
  },
  {
   "cell_type": "markdown",
   "metadata": {},
   "source": [
    "# Packages"
   ]
  },
  {
   "cell_type": "code",
   "execution_count": null,
   "metadata": {
    "collapsed": true
   },
   "outputs": [],
   "source": [
    "- dplyr\n",
    "- [Machine Learning packages](http://www.r-bloggers.com/what-are-the-best-machine-learning-packages-in-r/)\n",
    "- tidyr"
   ]
  },
  {
   "cell_type": "markdown",
   "metadata": {},
   "source": [
    "<a id='mlr'></a>\n",
    "[back to top](#top)"
   ]
  },
  {
   "cell_type": "markdown",
   "metadata": {},
   "source": [
    "# mlr"
   ]
  },
  {
   "cell_type": "code",
   "execution_count": null,
   "metadata": {
    "collapsed": true
   },
   "outputs": [],
   "source": [
    "## Generate the task\n",
    "task = makeClassifTask(data = iris, target = \"Species\")\n",
    "\n",
    "## Generate the learner\n",
    "lrn = makeLearner(\"classif.lda\")\n",
    "\n",
    "## Train the learner\n",
    "mod = train(lrn, task)\n"
   ]
  },
  {
   "cell_type": "markdown",
   "metadata": {},
   "source": [
    "<a id='roc'></a>\n",
    "[back to top](#top)"
   ]
  },
  {
   "cell_type": "markdown",
   "metadata": {},
   "source": [
    "#### ROC"
   ]
  },
  {
   "cell_type": "code",
   "execution_count": null,
   "metadata": {
    "collapsed": true
   },
   "outputs": [],
   "source": []
  },
  {
   "cell_type": "code",
   "execution_count": null,
   "metadata": {
    "collapsed": true
   },
   "outputs": [],
   "source": []
  },
  {
   "cell_type": "markdown",
   "metadata": {},
   "source": [
    "<a id='RevoScaleR'></a>\n",
    "[back to top](#top)"
   ]
  },
  {
   "cell_type": "markdown",
   "metadata": {},
   "source": [
    "# R Server - RevoScaleR"
   ]
  },
  {
   "cell_type": "code",
   "execution_count": null,
   "metadata": {
    "collapsed": true
   },
   "outputs": [],
   "source": [
    "####\n",
    "# Vocabulary\n",
    "####\n",
    "\n",
    "# xdf - external data frame\n",
    "# PEMA - parallel external memory algorithms"
   ]
  },
  {
   "cell_type": "code",
   "execution_count": null,
   "metadata": {
    "collapsed": true
   },
   "outputs": [],
   "source": [
    "####\n",
    "# Help\n",
    "####\n",
    "rxOptions()\n",
    "sampleDataDir <- rxOptions()[[\"sampleDataDir\"]]\n",
    "args(rxSummary)"
   ]
  },
  {
   "cell_type": "code",
   "execution_count": null,
   "metadata": {
    "collapsed": true
   },
   "outputs": [],
   "source": [
    "####\n",
    "# Compute context\n",
    "####"
   ]
  },
  {
   "cell_type": "code",
   "execution_count": null,
   "metadata": {
    "collapsed": true
   },
   "outputs": [],
   "source": [
    "####\n",
    "# Read in data - save in xdf binary format (recommended)\n",
    "####\n",
    "\n",
    "dataDir <- \"../data\"\n",
    "AirlineCsv <- file.path(dataDir, \"2007.csv\")\n",
    "AirlineXdf <- file.path(dataDir, \"2007.xdf\")\n",
    "rxImport(inData = AirlineCsv, outFile = AirlineXdf, overwrite = TRUE)"
   ]
  },
  {
   "cell_type": "code",
   "execution_count": null,
   "metadata": {
    "collapsed": true
   },
   "outputs": [],
   "source": [
    "####\n",
    "# Inspect data\n",
    "####\n",
    "\n",
    "rxOptions(reportProgress = 0)\n",
    "rxGetInfo(data = AirlineXdf, getVarInfo = TRUE, varsToKeep = c(\"ArrDelay\",\"DepDelay\",\"Distance\"))\n",
    "rxGetVarInfo(data = AirlineXdf)\n",
    "str(GetVarInfoObject[1])"
   ]
  },
  {
   "cell_type": "code",
   "execution_count": null,
   "metadata": {
    "collapsed": true
   },
   "outputs": [],
   "source": [
    "# Summarize Variables\n",
    "rxSummary(~DepDelay + Distance, data = AirlineXdf)\n",
    "rxQuantile(varName = \"Open\", data = DJIAdata)\n",
    "# Count of variables\n",
    "print(rxCrossTabs(~DayOfWeek, data = DJIAdata), headers=TRUE)\n",
    "# Histogram\n",
    "rxHistogram(~DepDelay, data = AirlineXdf, xAxisMinMax = c(-50, 250))\n",
    "rxHistogram(~airSpeed, data = newAirlineXdf, rowSelection=(airSpeed>50) & (airSpeed<750),scales=list(x=list(at=seq(100,700,by=1000))),xlab=list(label=\"Air Speed\"),ylab=list(label=\"Frequency\"),numBreaks=5000,xNumTicks=40)"
   ]
  },
  {
   "cell_type": "code",
   "execution_count": null,
   "metadata": {
    "collapsed": false
   },
   "outputs": [],
   "source": [
    "AirlineXdf <- file.path(dataDir, \"2007_AirSpeed.xdf\")\n",
    "rxDataStep(inData = AirlineXdf, outFile = newAirlineXdf, varsToKeep = c(\"AirTime\",\"Distance\",\"DepDelay\",\"ArrDelay\"),transforms = list(airSpeed = Distance / AirTime),overwrite=TRUE)"
   ]
  },
  {
   "cell_type": "code",
   "execution_count": null,
   "metadata": {
    "collapsed": true
   },
   "outputs": [],
   "source": [
    "# Correlations\n",
    "rxCor(formula = ~DepDelay + ArrDelay + airSpeed, data = newAirlineXdf)"
   ]
  },
  {
   "cell_type": "code",
   "execution_count": null,
   "metadata": {
    "collapsed": true
   },
   "outputs": [],
   "source": [
    "# linear model\n",
    "reg1 <- rxLinMod(formula = airSpeed ~ DepDelay, data = newAirlineXdf)"
   ]
  },
  {
   "cell_type": "markdown",
   "metadata": {},
   "source": [
    "<a id='sparkr'></a>\n",
    "[back to top](#top)"
   ]
  },
  {
   "cell_type": "markdown",
   "metadata": {},
   "source": [
    "# R Server - SparkR"
   ]
  },
  {
   "cell_type": "code",
   "execution_count": null,
   "metadata": {
    "collapsed": true
   },
   "outputs": [],
   "source": [
    "# https://spark.apache.org/docs/1.6.0/sparkr.html - Documentation"
   ]
  },
  {
   "cell_type": "code",
   "execution_count": null,
   "metadata": {
    "collapsed": true
   },
   "outputs": [],
   "source": [
    "rxHadoopListFiles(\"/\") # List files"
   ]
  },
  {
   "cell_type": "code",
   "execution_count": null,
   "metadata": {
    "collapsed": true
   },
   "outputs": [],
   "source": [
    "# Spark context\n",
    "library(SparkR) \n",
    "Sys.setenv('SPARKR_SUBMIT_ARGS'='\"--packages\" \"com.databricks:spark-csv_2.10:1.4.0\" \"sparkr-shell\"') # context for csv import read csv -> https://github.com/databricks/spark-csv\n",
    "sc <- sparkR.init()\n",
    "sqlContext <- sparkRSQL.init(sc)"
   ]
  },
  {
   "cell_type": "markdown",
   "metadata": {},
   "source": [
    "#### Read files "
   ]
  },
  {
   "cell_type": "markdown",
   "metadata": {},
   "source": [
    "https://www.r-bloggers.com/read-from-hdfs-with-r-brief-overview-of-sparkr/ # Read files from hdfs "
   ]
  },
  {
   "cell_type": "markdown",
   "metadata": {},
   "source": [
    "#### Read csv"
   ]
  },
  {
   "cell_type": "code",
   "execution_count": null,
   "metadata": {
    "collapsed": true
   },
   "outputs": [],
   "source": [
    "# usually you would precise the schema of the csv, if not: inferSchema = \"true\"\n",
    " customSchema <- structType(\n",
    "   structField(\"Semana\", \"integer\"),\n",
    "   structField(\"Agencia_ID\", \"integer\"),\n",
    "   structField(\"Canal_ID\", \"integer\"))\n",
    "train <- read.df(sqlContext, \"/train.csv\", header= \"true\", source = \"com.databricks.spark.csv\", inferSchema = \"true\")\n",
    "# alternative: SparkDf <- createDataFrame(sqlContext,faithful), but must be parquet, json or sql\n",
    "cache(train)\n",
    "system.time(head(train))"
   ]
  },
  {
   "cell_type": "markdown",
   "metadata": {},
   "source": [
    "#### Create dataframe"
   ]
  },
  {
   "cell_type": "code",
   "execution_count": null,
   "metadata": {
    "collapsed": true
   },
   "outputs": [],
   "source": [
    "# doku: https://spark.apache.org/docs/1.5.1/sparkr.html\n",
    "mtrdd <- createDataFrame(sqlContext, mtcars) # Create RDD from dataframe"
   ]
  },
  {
   "cell_type": "markdown",
   "metadata": {},
   "source": [
    "#### Add/change column"
   ]
  },
  {
   "cell_type": "code",
   "execution_count": null,
   "metadata": {
    "collapsed": true
   },
   "outputs": [],
   "source": [
    "train = train %>% withColumn(\"id\", lit(0))"
   ]
  },
  {
   "cell_type": "markdown",
   "metadata": {},
   "source": [
    "#### Rename column"
   ]
  },
  {
   "cell_type": "code",
   "execution_count": null,
   "metadata": {
    "collapsed": true
   },
   "outputs": [],
   "source": [
    "train <- withColumnRenamed(train, \"col\", \"new_col\")"
   ]
  },
  {
   "cell_type": "markdown",
   "metadata": {},
   "source": [
    "### Characteristics"
   ]
  },
  {
   "cell_type": "markdown",
   "metadata": {},
   "source": [
    "Doesn't run in memory, but on-disk storage\n",
    "- Multi-threading\n",
    "- Parallel processing\n",
    "- On-disk data storage (Hard drive storage and not RAM builds computational limit)\n",
    "- Can work on a cluster"
   ]
  },
  {
   "cell_type": "code",
   "execution_count": null,
   "metadata": {
    "collapsed": true
   },
   "outputs": [],
   "source": [
    "# Use different context accessing distributed or parallel computing\n",
    "rxSetComputeContext( LocalParallel() )\n",
    "rxSetComputeContext( RxHadoopMR(...))"
   ]
  },
  {
   "cell_type": "markdown",
   "metadata": {},
   "source": [
    "#### how it works"
   ]
  },
  {
   "cell_type": "markdown",
   "metadata": {},
   "source": [
    "Parallel External Memory Algorithms\n",
    "1. A chunk/subset of data is extracted from the main dataset\n",
    "2. An intermediate result is calculated from that chunk of data\n",
    "3. The intermediate results are combined into a final dataset"
   ]
  },
  {
   "cell_type": "markdown",
   "metadata": {},
   "source": [
    "Available Algorithms are not the same as open-source R algorithms:\n",
    "- linear regression (rxLinMod)\n",
    "- K-means (rxKmeans)\n",
    "- ..."
   ]
  },
  {
   "cell_type": "markdown",
   "metadata": {},
   "source": [
    "- native data format: XDF File (chunk-oriented (fast to append), column-oriented, pre-computed metadata)"
   ]
  },
  {
   "cell_type": "markdown",
   "metadata": {},
   "source": [
    "#### examples"
   ]
  },
  {
   "cell_type": "code",
   "execution_count": null,
   "metadata": {
    "collapsed": false
   },
   "outputs": [],
   "source": [
    "# Sample data directory\n",
    "rxGetOption(\"SampleDataDir\")\n",
    "# sample data files\n",
    "list.files(\n",
    "rxGetOption(\"sampleDataDir\")\n",
    ")"
   ]
  },
  {
   "cell_type": "code",
   "execution_count": null,
   "metadata": {
    "collapsed": true
   },
   "outputs": [],
   "source": [
    "xdfPath <- tempfile(fileext = \".xdf\")\n",
    "xdfPath\n",
    "file.exists(xdfPath)\n",
    "\n",
    "# Read the CSV into the new XDF filehttps://compass.esa.cognizant.com/psp/ESA89PRD/EMPLOYEE/ERP/?cmd=login&languageCd=GER\n",
    "rxImport(inData = csvPath, outFile = xdfPath)\n",
    "\n",
    "#check results\n",
    "rxGetInfo(xdfPath, getVarInfo = TRUE)"
   ]
  },
  {
   "cell_type": "markdown",
   "metadata": {},
   "source": [
    "<a id='database'></a>\n",
    "[back to top](#top)"
   ]
  },
  {
   "cell_type": "markdown",
   "metadata": {},
   "source": [
    "# Database"
   ]
  },
  {
   "cell_type": "code",
   "execution_count": null,
   "metadata": {
    "collapsed": true
   },
   "outputs": [],
   "source": [
    "# In R, you can connect to database servers\n",
    "# Packages:\n",
    "# ODBC: RODBC\n",
    "# DBI-Based:\n",
    "#  JDBC: RJDBC\n",
    "#  Database specific: RMySQL, RPostgreSQL, ROracle, RSQLite\n",
    "\n",
    "require(RJDBC)\n",
    "\n",
    "drv JDBC(\"com.ibm.db2.jcc.D2Driver\", \"db2jcct4.jar\", identifier.quote=\"'\") #first argument is driver downloaded on local pc\n",
    "conn <- dbConnect(drv, \"jdbc:db2://184.172.106.180:50000/SAMPLEDB\",\"db2inst1\",\"passw0!rd\")\n",
    "\n",
    "query <- paste(\"select * from US_FUEL\")\n",
    "rs <- dbSendQuery(conn, query)\n",
    "\n",
    "df <- fetch(rs, -1)\n",
    "best_fe <- max(df$COMB_FE_FUEL, na.rm=TRUE)\n",
    "cat(\"bla\")\n",
    "print(df[df$COMB_FE_FUEL==best_fe,c(1:4)])\n",
    "\n",
    "dbDisconnect(conn)\n",
    "\n",
    "# For ODBC, driver musst be installed\n",
    "require(RODBC)\n",
    "dsns"
   ]
  },
  {
   "cell_type": "markdown",
   "metadata": {},
   "source": [
    "# Visualization"
   ]
  },
  {
   "cell_type": "code",
   "execution_count": null,
   "metadata": {
    "collapsed": true
   },
   "outputs": [],
   "source": [
    "require(ggplot2)\n",
    "qplot(eruptions, waiting, data=faithful, color=waiting, size=eruptions, geom=c(\"point\",\"smooth\"), method=\"lm\")"
   ]
  },
  {
   "cell_type": "code",
   "execution_count": null,
   "metadata": {
    "collapsed": false
   },
   "outputs": [],
   "source": [
    "startx <- -50\n",
    "endx <- 50\n",
    "x = seq(from=startx, to=endx, by=0.1)\n",
    "y <- sqrt(50^2-x^2)\n",
    "y <- y * 2\n",
    "x <- x + 150\n",
    "plot(x,y)"
   ]
  },
  {
   "cell_type": "markdown",
   "metadata": {
    "collapsed": true
   },
   "source": [
    "<a id='shiny'></a>\n",
    "[back to top](#top)"
   ]
  },
  {
   "cell_type": "markdown",
   "metadata": {},
   "source": [
    "# Shiny"
   ]
  },
  {
   "cell_type": "markdown",
   "metadata": {},
   "source": [
    "www.shiny.rstudio.com\n",
    "\n",
    "www.rstudio.com/products/shiny/shiny-server/\n",
    "\n",
    "[shiny tips and tricks](http://deanattali.com/blog/advanced-shiny-tips/)"
   ]
  },
  {
   "cell_type": "markdown",
   "metadata": {},
   "source": [
    "Minimal viable version:"
   ]
  },
  {
   "cell_type": "code",
   "execution_count": null,
   "metadata": {
    "collapsed": true
   },
   "outputs": [],
   "source": [
    "require(shiny)\n",
    "ui <- fluidPage(\"Hello World\")\n",
    "\n",
    "server <- function(input, output){}\n",
    "\n",
    "shinyApp(ui = ui, server = server)"
   ]
  },
  {
   "cell_type": "markdown",
   "metadata": {},
   "source": [
    "Add Input() and Output() functions in fluidPage"
   ]
  },
  {
   "cell_type": "markdown",
   "metadata": {},
   "source": [
    "Sample input:"
   ]
  },
  {
   "cell_type": "code",
   "execution_count": null,
   "metadata": {
    "collapsed": true
   },
   "outputs": [],
   "source": [
    "sliderInput(inputId = \"num\", label = \"This is the label\", ..) #see requirements by ?sliderInput"
   ]
  },
  {
   "cell_type": "markdown",
   "metadata": {},
   "source": [
    "Sample output:"
   ]
  },
  {
   "cell_type": "code",
   "execution_count": null,
   "metadata": {
    "collapsed": true
   },
   "outputs": [],
   "source": [
    "plotOutput(\"hist\")"
   ]
  },
  {
   "cell_type": "markdown",
   "metadata": {},
   "source": [
    "If you build an output object, you need to save output in server command"
   ]
  },
  {
   "cell_type": "code",
   "execution_count": null,
   "metadata": {
    "collapsed": true
   },
   "outputs": [],
   "source": [
    "server <- function(input, output){\n",
    "    output$hist <- renderPlot({\n",
    "        title <- \"bla\"\n",
    "        hist(rnorm(100), main = title)\n",
    "    })curr\n",
    "}"
   ]
  },
  {
   "cell_type": "markdown",
   "metadata": {},
   "source": [
    "Save app as app.R, or ui.R and server.R"
   ]
  },
  {
   "cell_type": "markdown",
   "metadata": {},
   "source": [
    "use isolate() to prevent other parts of the app update when updating one value"
   ]
  },
  {
   "cell_type": "markdown",
   "metadata": {
    "collapsed": true
   },
   "source": [
    "<a id='AzureML'></a>\n",
    "[back to top](#top)"
   ]
  },
  {
   "cell_type": "markdown",
   "metadata": {},
   "source": [
    "# AzureML"
   ]
  },
  {
   "cell_type": "markdown",
   "metadata": {},
   "source": [
    "[Upload R package to AzureML](https://blogs.msdn.microsoft.com/benjguin/2014/09/24/how-to-upload-an-r-package-to-azure-machine-learning/)"
   ]
  },
  {
   "cell_type": "markdown",
   "metadata": {},
   "source": [
    "[MXNet on Azure](https://blogs.technet.microsoft.com/machinelearning/2016/09/15/building-deep-neural-networks-in-the-cloud-with-azure-gpu-vms-mxnet-and-microsoft-r-server/)"
   ]
  },
  {
   "cell_type": "markdown",
   "metadata": {},
   "source": [
    "[DataScience VM](https://docs.microsoft.com/en-us/azure/machine-learning/machine-learning-data-science-vm-do-ten-things)\n",
    "[part 2](https://docs.microsoft.com/en-us/azure/machine-learning/machine-learning-data-science-virtual-machines)\n",
    "[provision](https://docs.microsoft.com/en-us/azure/machine-learning/machine-learning-data-science-provision-vm)"
   ]
  },
  {
   "cell_type": "code",
   "execution_count": null,
   "metadata": {
    "collapsed": true
   },
   "outputs": [],
   "source": []
  },
  {
   "cell_type": "code",
   "execution_count": null,
   "metadata": {
    "collapsed": true
   },
   "outputs": [],
   "source": []
  },
  {
   "cell_type": "code",
   "execution_count": null,
   "metadata": {
    "collapsed": true
   },
   "outputs": [],
   "source": []
  },
  {
   "cell_type": "code",
   "execution_count": null,
   "metadata": {
    "collapsed": true
   },
   "outputs": [],
   "source": []
  },
  {
   "cell_type": "markdown",
   "metadata": {},
   "source": [
    "<a id='GoogleAPI'></a>\n",
    "[back to top](#top)"
   ]
  },
  {
   "cell_type": "markdown",
   "metadata": {},
   "source": [
    "# Google API"
   ]
  },
  {
   "cell_type": "code",
   "execution_count": null,
   "metadata": {
    "collapsed": true
   },
   "outputs": [],
   "source": []
  },
  {
   "cell_type": "code",
   "execution_count": null,
   "metadata": {
    "collapsed": true
   },
   "outputs": [],
   "source": []
  },
  {
   "cell_type": "code",
   "execution_count": null,
   "metadata": {
    "collapsed": true
   },
   "outputs": [],
   "source": []
  },
  {
   "cell_type": "code",
   "execution_count": null,
   "metadata": {
    "collapsed": true
   },
   "outputs": [],
   "source": []
  },
  {
   "cell_type": "code",
   "execution_count": null,
   "metadata": {
    "collapsed": true
   },
   "outputs": [],
   "source": []
  },
  {
   "cell_type": "markdown",
   "metadata": {},
   "source": [
    "# Pro & Contra of R"
   ]
  },
  {
   "cell_type": "code",
   "execution_count": null,
   "metadata": {
    "collapsed": true
   },
   "outputs": [],
   "source": [
    "R has difficulty with\n",
    "- manipulating large datasets\n",
    "- providing concurrent access to data\n",
    "- persistence (R object level)"
   ]
  }
 ],
 "metadata": {
  "anaconda-cloud": {},
  "kernelspec": {
   "display_name": "R",
   "language": "R",
   "name": "ir"
  },
  "language_info": {
   "codemirror_mode": "r",
   "file_extension": ".r",
   "mimetype": "text/x-r-source",
   "name": "R",
   "pygments_lexer": "r",
   "version": "3.2.2"
  }
 },
 "nbformat": 4,
 "nbformat_minor": 0
}
