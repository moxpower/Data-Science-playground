{
 "cells": [
  {
   "cell_type": "markdown",
   "metadata": {},
   "source": [
    "<a id='top'></a>"
   ]
  },
  {
   "cell_type": "markdown",
   "metadata": {},
   "source": [
    "<img src=\"https://www.rstudio.com/wp-content/uploads/2014/06/RStudio-Ball.png\" width=\"100\">"
   ]
  },
  {
   "cell_type": "markdown",
   "metadata": {},
   "source": [
    "- Code snippets! -> Visual Studio\n",
    "- [R for Data Science book](http://r4ds.had.co.nz/data-visualisation.html)\n",
    "- Use pipes %>%"
   ]
  },
  {
   "cell_type": "markdown",
   "metadata": {},
   "source": [
    "#### Table of contents\n",
    "- [R commands](#commands)\n",
    "- [Data samples](#data_samples)\n",
    "- [Plots](#plot)\n",
    "- [Pipes](#pipes)\n",
    "- Microsoft R Server:\n",
    "    - [RevoScaleR](#RevoScaleR)\n",
    "    - [SparkR](#sparkr)\n",
    "- [Shiny](#shiny)"
   ]
  },
  {
   "cell_type": "markdown",
   "metadata": {},
   "source": [
    "<a id='commands'></a>"
   ]
  },
  {
   "cell_type": "markdown",
   "metadata": {},
   "source": [
    "# R Commands"
   ]
  },
  {
   "cell_type": "code",
   "execution_count": null,
   "metadata": {
    "collapsed": true
   },
   "outputs": [],
   "source": [
    "?merge #help"
   ]
  },
  {
   "cell_type": "markdown",
   "metadata": {},
   "source": [
    "### Directory & files"
   ]
  },
  {
   "cell_type": "code",
   "execution_count": null,
   "metadata": {
    "collapsed": true
   },
   "outputs": [],
   "source": [
    "# http://www.statmethods.net/interface/workspace.html\n",
    "list.files()\n",
    "getwd()\n",
    "setwd(\"C:\\\\Users\\\\ts93856\\\\Desktop\\\\datasource\") # Set working directory\n",
    "infile <- file.path(dirName, fileName) # merge filename and pathname\n",
    "q() #quit R"
   ]
  },
  {
   "cell_type": "markdown",
   "metadata": {},
   "source": [
    "#### Workspace"
   ]
  },
  {
   "cell_type": "code",
   "execution_count": null,
   "metadata": {
    "collapsed": true
   },
   "outputs": [],
   "source": [
    "rm(list = ls()) #removes objects in workspace\n",
    "\n",
    "save.image() #save workspace\n",
    "load(\".RData\") #load (does not append, loads) objects"
   ]
  },
  {
   "cell_type": "markdown",
   "metadata": {},
   "source": [
    "### Comments"
   ]
  },
  {
   "cell_type": "code",
   "execution_count": null,
   "metadata": {
    "collapsed": true
   },
   "outputs": [],
   "source": [
    "Ctrl + Shift + C # multiline comments in R Studio"
   ]
  },
  {
   "cell_type": "markdown",
   "metadata": {},
   "source": [
    "### Print"
   ]
  },
  {
   "cell_type": "code",
   "execution_count": null,
   "metadata": {
    "collapsed": true
   },
   "outputs": [],
   "source": [
    "print(a)\n",
    "print(\"Hello\")\n",
    "print(paste0(\"Sensitivity: \", a)) # variables and text"
   ]
  },
  {
   "cell_type": "markdown",
   "metadata": {},
   "source": [
    "### Packages"
   ]
  },
  {
   "cell_type": "code",
   "execution_count": null,
   "metadata": {
    "collapsed": true
   },
   "outputs": [],
   "source": [
    "#import packages\n",
    "install.packages(\"jsonlite\") # ,dependencies=TRUE)\n",
    "library(e1071)"
   ]
  },
  {
   "cell_type": "markdown",
   "metadata": {},
   "source": [
    "### Import data"
   ]
  },
  {
   "cell_type": "code",
   "execution_count": null,
   "metadata": {
    "collapsed": true
   },
   "outputs": [],
   "source": [
    "jd <- jsonlite::fromJSON(\"https://.../json?address=1699+Amphitheatre+Parkway,+Mountain+View,+CA\") # online source\n",
    "bn = read.csv(\"https:...csv?accessType=DOWNLOAD\") # header = TRUE, stringAsFactors = FALSE # local source\n",
    "jd$results$address_components[[1]]$long_name # ???\n",
    "# httr package"
   ]
  },
  {
   "cell_type": "markdown",
   "metadata": {},
   "source": [
    "### Samples"
   ]
  },
  {
   "cell_type": "code",
   "execution_count": null,
   "metadata": {
    "collapsed": true
   },
   "outputs": [],
   "source": [
    "#df\n",
    "mtcars\n",
    "fr <- data.frame(c(\"hi\",\"ho\"), c(1,2), c(TRUE,FALSE))\n",
    "\n",
    "#matrix\n",
    "matrix(1:9, byrow=TRUE, nrow  =3)"
   ]
  },
  {
   "cell_type": "markdown",
   "metadata": {},
   "source": [
    "### Data overview"
   ]
  },
  {
   "cell_type": "code",
   "execution_count": null,
   "metadata": {
    "collapsed": true
   },
   "outputs": [],
   "source": [
    "str(bn)\n",
    "head(bn)\n",
    "summary(bn)\n",
    "summary(bn$First.Name)\n",
    "dim(bn)\n",
    "nrow(bn)\n",
    "class(bn)\n",
    "table(bn$col1) #show number of occursions\n",
    "count(bn$col1) #from package plyr"
   ]
  },
  {
   "cell_type": "markdown",
   "metadata": {},
   "source": [
    "### Transform data"
   ]
  },
  {
   "cell_type": "markdown",
   "metadata": {},
   "source": [
    "#### Column names"
   ]
  },
  {
   "cell_type": "code",
   "execution_count": null,
   "metadata": {
    "collapsed": true
   },
   "outputs": [],
   "source": [
    "colnames(df)\n",
    "colnames(df) <- c(\"col1\", \"col2\", \"col3\")\n",
    "names(poker_vector) <- c(\"Monday\", \"Tuesday\", \"Wednesday\", \"Thursday\", \"Friday\")\n",
    "\n",
    "#Difference names vs colnames: \n",
    "# colnames also works for matrices, names does not\n",
    "# can use names to set/get the names of vectors"
   ]
  },
  {
   "cell_type": "markdown",
   "metadata": {},
   "source": [
    "#### Remove columns"
   ]
  },
  {
   "cell_type": "code",
   "execution_count": null,
   "metadata": {
    "collapsed": true
   },
   "outputs": [],
   "source": [
    "df$firstcol <- NULL ## remove columns we don't need"
   ]
  },
  {
   "cell_type": "code",
   "execution_count": null,
   "metadata": {
    "collapsed": true
   },
   "outputs": [],
   "source": [
    "#Remove NAs\n",
    "aq <-na.omit(airquality)\n",
    "\n",
    "#Remove NAs selectively\n",
    "airquality[complete.cases(airquality[,c(1,3,4,5,6)]),]"
   ]
  },
  {
   "cell_type": "markdown",
   "metadata": {},
   "source": [
    "#### Subset of dataframe"
   ]
  },
  {
   "cell_type": "code",
   "execution_count": null,
   "metadata": {
    "collapsed": true
   },
   "outputs": [],
   "source": [
    "df[,c(\"col_1\",\"col_2\")]\n",
    "subset(df, diameter < 1) # with condition\n",
    "subset(df, substr(this_column, start=1, stop=7)==\"Manufac\")"
   ]
  },
  {
   "cell_type": "markdown",
   "metadata": {},
   "source": [
    "#### Apply function"
   ]
  },
  {
   "cell_type": "code",
   "execution_count": null,
   "metadata": {
    "collapsed": true
   },
   "outputs": [],
   "source": [
    "df$col1 <- df$col1 +2\n",
    "\n",
    "df[, catList] <- lapply(df[, catList], function(x) as.factor(as.character(x))) ## apply function to column\n",
    "\n",
    "# string transformation\n",
    "names(eeframe) <- gsub(\"\\\\.\", \"\", names(eeframe)) # grep/ gsub - http://www.inside-r.org/r-doc/base/sub\n",
    "## convert csv in xdf (Xdf files store data in compressed and optimized format)"
   ]
  },
  {
   "cell_type": "markdown",
   "metadata": {},
   "source": [
    "#### Melt"
   ]
  },
  {
   "cell_type": "code",
   "execution_count": null,
   "metadata": {
    "collapsed": true
   },
   "outputs": [],
   "source": [
    "# reshape into long format\n",
    "df2 <- reshape2::melt(df, id=c(\"ID\",\"Name\"))"
   ]
  },
  {
   "cell_type": "markdown",
   "metadata": {},
   "source": [
    "### connect dfs"
   ]
  },
  {
   "cell_type": "code",
   "execution_count": null,
   "metadata": {
    "collapsed": true
   },
   "outputs": [],
   "source": [
    "cbind(matrix1,matrix2) # nebeneinander\n",
    "rbind(matrix1,matrix2) # untereinander"
   ]
  },
  {
   "cell_type": "code",
   "execution_count": null,
   "metadata": {
    "collapsed": true
   },
   "outputs": [],
   "source": [
    "#merging\n",
    "mrg <- merge(fr1, fr2, by=\"ID\")"
   ]
  },
  {
   "cell_type": "code",
   "execution_count": null,
   "metadata": {
    "collapsed": true
   },
   "outputs": [],
   "source": [
    "#vectors can be transformed to factors\n",
    "# Gender vector\n",
    "gender_vector <- c(\"Male\", \"Female\", \"Female\", \"Male\", \"Male\")\n",
    "\n",
    "# Convert gender_vector to a factor\n",
    "factor_gender_vector <- factor(gender_vector)"
   ]
  },
  {
   "cell_type": "markdown",
   "metadata": {},
   "source": [
    "### Sort"
   ]
  },
  {
   "cell_type": "code",
   "execution_count": null,
   "metadata": {
    "collapsed": true
   },
   "outputs": [],
   "source": [
    "positions <-  order(planets_df$diameter) # order() to create positions\n",
    "planets_df[positions,] # sort using 'positions'"
   ]
  },
  {
   "cell_type": "code",
   "execution_count": null,
   "metadata": {
    "collapsed": true
   },
   "outputs": [],
   "source": [
    "#foreach:\n",
    "\n",
    "install.packages(\"foreach\")\n",
    "library(foreach)\n",
    "foreach(i=1:10) %do%\n",
    "  rnorm(i)\n",
    "\n",
    "#for the foreach, we can use parallel computing\n",
    "install.packages(\"doParallel\")\n",
    "library(doParallel)\n",
    "\n",
    "#or cluster computing\n",
    "cl < makeCluster(4) # from the doParallel\n",
    "registerDoParallel(cl)\n",
    "\n",
    "df <- data.frame(ID=c(1,3,4), name=c(\"Steve\",\"mike\",\"Mary\"), c(32,24,52),c(80,90,100))\n",
    "\n",
    "df2 <- reshape(df, varying=c(\"2013\",\"2014\"), v.names=\"Percent\", time...)\n",
    "install.packages(\"reshape\")\n",
    "library(reshape)\n",
    "\n",
    "#transpose\n",
    "carmpg <- mtcars[order(-mtcars$mpg),]\n",
    "carmpg <- carmpg[1:10,c(1,2,4,6)]\n",
    "carmpg <- data.frame(t(carmpg))\n",
    "carmpg$Fiat.128\n",
    "\n",
    "#aggregate\n",
    "ag <- aggregate(mtcars$mpg, list(mtcars$hp), mean)\n",
    "\n",
    "#hmisc package\n",
    "r <- aregImpute(~Ozone + Solar.R + Wind ...)\n",
    "\n",
    "#slice the df\n",
    "cut(airquality$Temp, breaks=c(0,80,100,150), labels=c(\"cold\",\"nice\",\"hot\"))"
   ]
  },
  {
   "cell_type": "markdown",
   "metadata": {},
   "source": [
    "# Data analysis"
   ]
  },
  {
   "cell_type": "code",
   "execution_count": null,
   "metadata": {
    "collapsed": true
   },
   "outputs": [],
   "source": [
    "#modeling functions\n",
    "lm #linear modeling\n",
    "glm\n",
    "aov #analysis of variance\n",
    "\n",
    "t.test\n",
    "TukeyHSD #creates sets of confidence intervals\n",
    "predict\n",
    "\n",
    "#helper functions for more analysis\n",
    "coef\n",
    "residuals\n",
    "fitted\n",
    "confint #confidence interval\n",
    "\n",
    "\n",
    "\n",
    "##Data analysis\n",
    "#linear modeling\n",
    "lml <- lm(trees$Volume ~ trees$Height + trees$Girth) #trees$Volume is dependent variable, trees$Height + trees$Girth effects it)\n",
    "summary(lml)\n",
    "plot(lml)\n",
    "lm2 <- lm(mpg ~ cyl + disp + hp + wt, data=mtcars) #instead of mtcars.wt each time\n",
    "\n",
    "#Variance analysis\n",
    "boxplot(Speed ~ Expt, data=morley)\n",
    "a <- aov(Speed ~ Expt, data=morley)\n",
    "summary(a)\n",
    "\n",
    "#R Coef Function\n",
    "lmf <- lm(lv ~lg + trees$Height)\n",
    "summary(lmf)\n",
    "x <- coef(lmf)\n",
    "x\n",
    "\n",
    "#R Fitted function\n",
    "lmf <- lm(mpg ~ disp, data=mtcars)\n",
    "plot(fitted(lmf), residuals(lmf))\n",
    "abline(h=0) # ususally there is not a line displayed in the plot above\n",
    "\n",
    "#R residual function\n",
    "lmf <- lm(mtcars$mpg ~ mtcars$disp)\n",
    "residuals(lmf)\n",
    "summary(lmf)\n",
    "summary(residuals(lmf))\n",
    "plot(fitted(lmf), residuals(lmf)) #what are the fitted lmfs?\n",
    "abline(h=0)\n",
    "\n",
    "#Covariance matrix\n",
    "lmf <- lm(trees$Volume ~ trees$Girth + trees$Height)\n",
    "vcov(lmf)\n",
    "\n",
    "#Confidence interval\n",
    "plot(faithful$eruptions, faithful$waiting)\n",
    "lme <- lm(eruptions ~ waiting, data=faithful)\n",
    "summary(lme)\n",
    "ci <- confint(lme, level=0.95)\n",
    "\n",
    "#Generalized linear model\n",
    "m <- glm(cyl ~ disp + hp, data=mtcars, family=poisson)\n",
    "params <- data.frame(hp=110, disp=160)\n",
    "predict(m, params, type=\"response\")\n",
    "\n",
    "#T Test\n",
    "r <- rnorm(100, 1000, 100) # (# of items, mean, standard deviation)\n",
    "tt <- t.test(r, mu=1000)\n",
    "str(tt)\n",
    "\n",
    "#TukeyHSD Test\n",
    "a <- aov(Speed ~ factor(Expt), data=morley)\n",
    "TukeyHSD(a)\n",
    "boxplot(Speed ~ Expt, data=morley)\n",
    "plot(TukeyHSD(a))\n",
    "\n",
    "#Predict Function\n",
    "plot(eruptions ~ waiting, data=faithful)\n",
    "lme <- lm(eruptions ~ waiting, data=faithful)\n",
    "dfe <- data.frame(waiting=50)\n",
    "predict(lme, dfe, interval=\"predict\", level=0.95)\n",
    "\n",
    "#plot\n",
    "library(ggplot2)\n",
    "qplot(eruptions, waiting, data=faithful, color=waiting, size=eruptions, geom=c(\"point\",\"smooth\"), method=\"lm\")"
   ]
  },
  {
   "cell_type": "markdown",
   "metadata": {},
   "source": [
    "### Time series"
   ]
  },
  {
   "cell_type": "code",
   "execution_count": 2,
   "metadata": {
    "collapsed": false
   },
   "outputs": [
    {
     "ename": "ERROR",
     "evalue": "Error in parse(text = x, srcfile = src): <text>:119:41: unerwartetes Symbol\n118: #hmisc package\n119: r <- aregImpute(~Ozone + Solar.R + Wind ...\n                                             ^\n",
     "output_type": "error",
     "traceback": [
      "Error in parse(text = x, srcfile = src): <text>:119:41: unerwartetes Symbol\n118: #hmisc package\n119: r <- aregImpute(~Ozone + Solar.R + Wind ...\n                                             ^\nTraceback:\n"
     ]
    }
   ],
   "source": [
    "tsdata <- ts(sample(1:100, 24), start=c(2013,1), end=c(2014,12), frequency=12, deltat=1/12)\n",
    "str(tsdata)\n",
    "f <- stl(AirPassengers, s.window=\"period\")\n",
    "library(forecast)\n",
    "f <- ets(AirPassengers)\n",
    "plot(forecast(f,12))\n",
    "f <- auto.arima(AirPassengers)\n",
    "\n",
    "\n",
    "\n",
    "\n",
    "\n",
    "# >>>> Machine learning <<<<\n",
    "# Two-way comparison\n",
    "prop.table(table(train$Survived, train$Child),1)\n",
    "# "
   ]
  },
  {
   "cell_type": "markdown",
   "metadata": {},
   "source": [
    "# R functions"
   ]
  },
  {
   "cell_type": "markdown",
   "metadata": {},
   "source": [
    "### Scale"
   ]
  },
  {
   "cell_type": "code",
   "execution_count": null,
   "metadata": {
    "collapsed": true
   },
   "outputs": [],
   "source": [
    "scale(dataScale$A, center = TRUE, scale  = FALSE)\n",
    "z[,scalelist] <- lapply(y[,scalelist], function(x) as.numeric(scale(x)))"
   ]
  },
  {
   "cell_type": "markdown",
   "metadata": {},
   "source": [
    "### lapply"
   ]
  },
  {
   "cell_type": "markdown",
   "metadata": {
    "collapsed": false
   },
   "source": [
    "- R version of for loop\n",
    "- use lapply to iterate over a path\n",
    "- apply functions to columns"
   ]
  },
  {
   "cell_type": "code",
   "execution_count": null,
   "metadata": {
    "collapsed": true
   },
   "outputs": [],
   "source": [
    "lapply(mortgageCsvPaths, FUN = function(csv_file) {\n",
    "    rxImport(inData = csv_file,\n",
    "            outFile = mortageXdf,\n",
    "            append = file.exists(mortgageXdf))\n",
    "})"
   ]
  },
  {
   "cell_type": "markdown",
   "metadata": {},
   "source": [
    "#### Remove empty columns"
   ]
  },
  {
   "cell_type": "code",
   "execution_count": null,
   "metadata": {
    "collapsed": true
   },
   "outputs": [],
   "source": [
    "rm(train)"
   ]
  },
  {
   "cell_type": "markdown",
   "metadata": {},
   "source": [
    "<a id='data_samples'></a>\n",
    "[back to top](#top)"
   ]
  },
  {
   "cell_type": "markdown",
   "metadata": {},
   "source": [
    "# Data samples"
   ]
  },
  {
   "cell_type": "code",
   "execution_count": null,
   "metadata": {
    "collapsed": true
   },
   "outputs": [],
   "source": [
    "seq(10) #create sequence from 1 to 10"
   ]
  },
  {
   "cell_type": "code",
   "execution_count": null,
   "metadata": {
    "collapsed": true
   },
   "outputs": [],
   "source": []
  },
  {
   "cell_type": "markdown",
   "metadata": {},
   "source": [
    "<a id='plot'></a>\n",
    "[back to top](#top)"
   ]
  },
  {
   "cell_type": "markdown",
   "metadata": {},
   "source": [
    "# Plots"
   ]
  },
  {
   "cell_type": "code",
   "execution_count": null,
   "metadata": {
    "collapsed": true
   },
   "outputs": [],
   "source": [
    "library(ggplot2)"
   ]
  },
  {
   "cell_type": "code",
   "execution_count": null,
   "metadata": {
    "collapsed": true
   },
   "outputs": [],
   "source": [
    "# ggplot cheatsheat\n",
    "https://www.rstudio.com/wp-content/uploads/2015/12/ggplot2-cheatsheet-2.0.pdf"
   ]
  },
  {
   "cell_type": "code",
   "execution_count": null,
   "metadata": {
    "collapsed": true
   },
   "outputs": [],
   "source": [
    "#histogram\n"
   ]
  },
  {
   "cell_type": "code",
   "execution_count": null,
   "metadata": {
    "collapsed": true
   },
   "outputs": [],
   "source": [
    "# bar\n",
    "http://docs.ggplot2.org/0.9.3.1/geom_bar.html"
   ]
  },
  {
   "cell_type": "code",
   "execution_count": null,
   "metadata": {
    "collapsed": true
   },
   "outputs": [],
   "source": [
    "# boxplot\n",
    "ggplot(data = entropy_merged, aes(x=label, y=Entropy)) + geom_boxplot(outlier.shape=NA) + #avoid plotting outliers twice\n",
    "    geom_jitter(position=position_jitter(width=0.1, height=0))"
   ]
  },
  {
   "cell_type": "code",
   "execution_count": null,
   "metadata": {
    "collapsed": true
   },
   "outputs": [],
   "source": [
    "# violin plot\n",
    "g <- ggplot(entropy_merged, aes(x=label, y=Entropy))\n",
    "g + geom_violin(alpha=0.5, color=\"gray\")+geom_jitter(alpha=0.5,aes(color=label),position =position_jitter(width=0.1))\n",
    "#source: http://zevross.com/blog/2014/08/04/beautiful-plotting-in-r-a-ggplot2-cheatsheet-3/"
   ]
  },
  {
   "cell_type": "code",
   "execution_count": null,
   "metadata": {
    "collapsed": true
   },
   "outputs": [],
   "source": [
    "#facet_grid\n",
    "gplot(df, aes(variable, value, group=1))  + geom_point() + geom_line(colour=\"black\")\n",
    " + facet_grid( ~ rounds) + theme(axis.text.x = element_text(angle = 90, vjust = 0, hjust = 1)) +\n",
    "xlab(\"Algorithmic Iterations\") + ylab(\"Angular Difference to previously recorded checkpoint\") + ggtitle(paste0(\"The Max of scalar products during training per bootstrap-round - Layer \",j))"
   ]
  },
  {
   "cell_type": "code",
   "execution_count": null,
   "metadata": {
    "collapsed": true
   },
   "outputs": [],
   "source": [
    "# multiple plots in one box\n",
    "g1 <- ggplot(subset(output.melt, substr(variable, start=1, stop=3)==\"AUC\"), aes(x=Round, y=value, color=variable)) + geom_point(size = 4, alpha=0.5) + coord_cartesian(ylim=c(0,1)) + theme(text = element_text(size=20),legend.title = element_blank()) + ylab(\"AUC\") +scale_colour_manual(labels = c(\"valid\", \"eval\"), values = c(\"blue\", \"red\"))\n",
    "g2 <- ggplot(subset(output.melt, substr(variable, start=1, stop=3)==\"Acc\"), aes(x=Round, y=value/100, color=variable)) + geom_point(size = 4, alpha=0.5) + coord_cartesian(ylim=c(0,1)) + theme(text = element_text(size=20),legend.title = element_blank()) + ylab(\"Accuracy\")+scale_colour_manual(labels = c(\"valid\", \"eval\"), values = c(\"blue\", \"red\"))\n",
    "g3 <- ggplot(subset(output.melt, substr(variable, start=1, stop=3)==\"Sen\"), aes(x=Round, y=value, color=variable)) + geom_point(size = 4, alpha=0.5) + coord_cartesian(ylim=c(0,1)) + theme(text = element_text(size=20),legend.title = element_blank()) + ylab(\"Sensitivity\")+scale_colour_manual(labels = c(\"valid\", \"eval\"), values = c(\"blue\", \"red\"))\n",
    "g4 <- ggplot(subset(output.melt, substr(variable, start=1, stop=3)==\"Spe\"), aes(x=Round, y=value, color=variable)) + geom_point(size = 4, alpha=0.5) + coord_cartesian(ylim=c(0,1)) + theme(text = element_text(size=20),legend.title = element_blank()) + ylab(\"Specificity\")+scale_colour_manual(labels = c(\"valid\", \"eval\"), values = c(\"blue\", \"red\"))\n",
    "\n",
    "grid.arrange(g1,g2,g3,g4, nrow=2, ncol=2)"
   ]
  },
  {
   "cell_type": "code",
   "execution_count": null,
   "metadata": {
    "collapsed": true
   },
   "outputs": [],
   "source": [
    "# Plotting guide http://zevross.com/blog/2014/08/04/beautiful-plotting-in-r-a-ggplot2-cheatsheet-3/"
   ]
  },
  {
   "cell_type": "code",
   "execution_count": null,
   "metadata": {
    "collapsed": true
   },
   "outputs": [],
   "source": [
    "# SVDS style guide\n",
    "# https://github.com/jbwhit/svds-style/blob/master/notebooks/How-to-plot-good-and-use-SVDS-style-good-too.ipynb"
   ]
  },
  {
   "cell_type": "markdown",
   "metadata": {},
   "source": [
    "<a id='pipes'></a>\n",
    "[back to top](#top)"
   ]
  },
  {
   "cell_type": "markdown",
   "metadata": {},
   "source": [
    "# Pipes (for data selection)"
   ]
  },
  {
   "cell_type": "code",
   "execution_count": null,
   "metadata": {
    "collapsed": false
   },
   "outputs": [],
   "source": [
    "library(magrittr) # https://www.r-statistics.com/2014/08/simpler-r-coding-with-pipes-the-present-and-future-of-the-magrittr-package/\n",
    "library(dplyr)"
   ]
  },
  {
   "cell_type": "code",
   "execution_count": 9,
   "metadata": {
    "collapsed": true
   },
   "outputs": [],
   "source": [
    "#%>% \"then\""
   ]
  },
  {
   "cell_type": "markdown",
   "metadata": {},
   "source": [
    "flights %>%   \n",
    "group_by(dest) %>%   \n",
    "arrange(desc(arr_delay))"
   ]
  },
  {
   "cell_type": "markdown",
   "metadata": {},
   "source": [
    "- you cannot use $assign(), get(), load()$ with the pipe, unless you specify the environment \"x\" %>% assign(100, envir = env)"
   ]
  },
  {
   "cell_type": "markdown",
   "metadata": {},
   "source": [
    "When not to use the pipe:\n",
    "- You have multiple inputs or outputs. If there isn’t one primary object being transformed, but two or more objects being combined together, don’t use the pipe.\n",
    "- Your pipes get longer than five or six lines"
   ]
  },
  {
   "cell_type": "markdown",
   "metadata": {
    "collapsed": true
   },
   "source": [
    "#### Examples"
   ]
  },
  {
   "cell_type": "code",
   "execution_count": null,
   "metadata": {
    "collapsed": true
   },
   "outputs": [],
   "source": [
    "# sort\n"
   ]
  },
  {
   "cell_type": "code",
   "execution_count": null,
   "metadata": {
    "collapsed": true
   },
   "outputs": [],
   "source": [
    "# filter + summarise\n",
    "mtcars %>%\n",
    "dplyr::filter(., cyl == 6) %>%\n",
    "dplyr::summarise(sum(mpg))"
   ]
  },
  {
   "cell_type": "code",
   "execution_count": null,
   "metadata": {
    "collapsed": true
   },
   "outputs": [],
   "source": [
    "# count group occurences\n",
    "count_type_1 <- train %>% filter(label %>% equals(1))"
   ]
  },
  {
   "cell_type": "code",
   "execution_count": null,
   "metadata": {
    "collapsed": false
   },
   "outputs": [],
   "source": [
    "# filter + group + summarize + plot\n",
    "library(babynames) # data package\n",
    "babynames %>%\n",
    "    filter(name %>% substr(1, 3) %>% equals(\"Ste\")) %>%\n",
    "    group_by(year, sex) %>%\n",
    "    summarize(total = sum(n)) %>%\n",
    "    qplot(year, total, color = sex, data = ., geom = \"line\") %>%\n",
    "    add(ggtitle('Names starting with \"Ste\"')) %>%\n",
    "    print"
   ]
  },
  {
   "cell_type": "code",
   "execution_count": null,
   "metadata": {
    "collapsed": false
   },
   "outputs": [],
   "source": [
    "# filter + head\n",
    "df %>%\n",
    "+ dplyr::filter(., col1 ==2) %>%\n",
    "+ head()"
   ]
  },
  {
   "cell_type": "code",
   "execution_count": null,
   "metadata": {
    "collapsed": true
   },
   "outputs": [],
   "source": [
    "# else...\n",
    "frame1 <- mutate(frame1, Col4 = Col2 + Col3) #Create new column with new calculated \n",
    "frame1 <- group_by(frame1, Col1)\n",
    "frame1 <- distinct(frame1, Col2) #search for duplicates\n",
    "frame1 <- sample_frac(frame1, 0.5) #create a sample (for a fraction of the data)\n",
    "frame1 <- sample_n(frame1, 200)\n",
    "frame1 <- summarize(frame1, m1 = mean(Col1))\n",
    "## frame the dataframe (pipe)\n",
    "frame1 <- frame1 %>%\n",
    "            filter(Col1 == 2013) %>%\n",
    "            mutate(Col4 = Col2 + Col3)\n",
    "inner_join(a, b, by = colName)"
   ]
  },
  {
   "cell_type": "markdown",
   "metadata": {},
   "source": [
    "# Packages"
   ]
  },
  {
   "cell_type": "code",
   "execution_count": null,
   "metadata": {
    "collapsed": true
   },
   "outputs": [],
   "source": [
    "- dplyr\n",
    "- [Machine Learning packages](http://www.r-bloggers.com/what-are-the-best-machine-learning-packages-in-r/)\n",
    "- tidyr"
   ]
  },
  {
   "cell_type": "markdown",
   "metadata": {},
   "source": [
    "<a id='RevoScaleR'></a>\n",
    "[back to top](#top)"
   ]
  },
  {
   "cell_type": "markdown",
   "metadata": {},
   "source": [
    "# R Server - RevoScaleR"
   ]
  },
  {
   "cell_type": "code",
   "execution_count": null,
   "metadata": {
    "collapsed": true
   },
   "outputs": [],
   "source": [
    "####\n",
    "# Vocabulary\n",
    "####\n",
    "\n",
    "# xdf - external data frame\n",
    "# PEMA - parallel external memory algorithms"
   ]
  },
  {
   "cell_type": "code",
   "execution_count": null,
   "metadata": {
    "collapsed": true
   },
   "outputs": [],
   "source": [
    "####\n",
    "# Help\n",
    "####\n",
    "rxOptions()\n",
    "sampleDataDir <- rxOptions()[[\"sampleDataDir\"]]\n",
    "args(rxSummary)"
   ]
  },
  {
   "cell_type": "code",
   "execution_count": null,
   "metadata": {
    "collapsed": true
   },
   "outputs": [],
   "source": [
    "####\n",
    "# Compute context\n",
    "####"
   ]
  },
  {
   "cell_type": "code",
   "execution_count": null,
   "metadata": {
    "collapsed": true
   },
   "outputs": [],
   "source": [
    "####\n",
    "# Read in data - save in xdf binary format (recommended)\n",
    "####\n",
    "\n",
    "dataDir <- \"../data\"\n",
    "AirlineCsv <- file.path(dataDir, \"2007.csv\")\n",
    "AirlineXdf <- file.path(dataDir, \"2007.xdf\")\n",
    "rxImport(inData = AirlineCsv, outFile = AirlineXdf, overwrite = TRUE)"
   ]
  },
  {
   "cell_type": "code",
   "execution_count": null,
   "metadata": {
    "collapsed": true
   },
   "outputs": [],
   "source": [
    "####\n",
    "# Inspect data\n",
    "####\n",
    "\n",
    "rxOptions(reportProgress = 0)\n",
    "rxGetInfo(data = AirlineXdf, getVarInfo = TRUE, varsToKeep = c(\"ArrDelay\",\"DepDelay\",\"Distance\"))\n",
    "rxGetVarInfo(data = AirlineXdf)\n",
    "str(GetVarInfoObject[1])"
   ]
  },
  {
   "cell_type": "code",
   "execution_count": null,
   "metadata": {
    "collapsed": true
   },
   "outputs": [],
   "source": [
    "# Summarize Variables\n",
    "rxSummary(~DepDelay + Distance, data = AirlineXdf)\n",
    "rxQuantile(varName = \"Open\", data = DJIAdata)\n",
    "# Count of variables\n",
    "print(rxCrossTabs(~DayOfWeek, data = DJIAdata), headers=TRUE)\n",
    "# Histogram\n",
    "rxHistogram(~DepDelay, data = AirlineXdf, xAxisMinMax = c(-50, 250))\n",
    "rxHistogram(~airSpeed, data = newAirlineXdf, rowSelection=(airSpeed>50) & (airSpeed<750),scales=list(x=list(at=seq(100,700,by=1000))),xlab=list(label=\"Air Speed\"),ylab=list(label=\"Frequency\"),numBreaks=5000,xNumTicks=40)"
   ]
  },
  {
   "cell_type": "code",
   "execution_count": 5,
   "metadata": {
    "collapsed": false
   },
   "outputs": [],
   "source": [
    "AirlineXdf <- file.path(dataDir, \"2007_AirSpeed.xdf\")\n",
    "rxDataStep(inData = AirlineXdf, outFile = newAirlineXdf, varsToKeep = c(\"AirTime\",\"Distance\",\"DepDelay\",\"ArrDelay\"),transforms = list(airSpeed = Distance / AirTime),overwrite=TRUE)"
   ]
  },
  {
   "cell_type": "code",
   "execution_count": null,
   "metadata": {
    "collapsed": true
   },
   "outputs": [],
   "source": [
    "# Correlations\n",
    "rxCor(formula = ~DepDelay + ArrDelay + airSpeed, data = newAirlineXdf)"
   ]
  },
  {
   "cell_type": "code",
   "execution_count": null,
   "metadata": {
    "collapsed": true
   },
   "outputs": [],
   "source": [
    "# linear model\n",
    "reg1 <- rxLinMod(formula = airSpeed ~ DepDelay, data = newAirlineXdf)"
   ]
  },
  {
   "cell_type": "code",
   "execution_count": null,
   "metadata": {
    "collapsed": true
   },
   "outputs": [],
   "source": []
  },
  {
   "cell_type": "code",
   "execution_count": null,
   "metadata": {
    "collapsed": true
   },
   "outputs": [],
   "source": []
  },
  {
   "cell_type": "code",
   "execution_count": null,
   "metadata": {
    "collapsed": true
   },
   "outputs": [],
   "source": []
  },
  {
   "cell_type": "code",
   "execution_count": null,
   "metadata": {
    "collapsed": true
   },
   "outputs": [],
   "source": []
  },
  {
   "cell_type": "code",
   "execution_count": null,
   "metadata": {
    "collapsed": true
   },
   "outputs": [],
   "source": []
  },
  {
   "cell_type": "code",
   "execution_count": null,
   "metadata": {
    "collapsed": true
   },
   "outputs": [],
   "source": []
  },
  {
   "cell_type": "code",
   "execution_count": null,
   "metadata": {
    "collapsed": true
   },
   "outputs": [],
   "source": []
  },
  {
   "cell_type": "code",
   "execution_count": null,
   "metadata": {
    "collapsed": true
   },
   "outputs": [],
   "source": []
  },
  {
   "cell_type": "markdown",
   "metadata": {},
   "source": [
    "<a id='sparkr'></a>\n",
    "[back to top](#top)"
   ]
  },
  {
   "cell_type": "markdown",
   "metadata": {},
   "source": [
    "# R Server - SparkR"
   ]
  },
  {
   "cell_type": "code",
   "execution_count": null,
   "metadata": {
    "collapsed": true
   },
   "outputs": [],
   "source": [
    "# https://spark.apache.org/docs/1.6.0/sparkr.html - Documentation"
   ]
  },
  {
   "cell_type": "code",
   "execution_count": null,
   "metadata": {
    "collapsed": true
   },
   "outputs": [],
   "source": [
    "rxHadoopListFiles(\"/\") # List files"
   ]
  },
  {
   "cell_type": "code",
   "execution_count": null,
   "metadata": {
    "collapsed": true
   },
   "outputs": [],
   "source": [
    "# Spark context\n",
    "library(SparkR) \n",
    "Sys.setenv('SPARKR_SUBMIT_ARGS'='\"--packages\" \"com.databricks:spark-csv_2.10:1.4.0\" \"sparkr-shell\"') # context for csv import read csv -> https://github.com/databricks/spark-csv\n",
    "sc <- sparkR.init()\n",
    "sqlContext <- sparkRSQL.init(sc)"
   ]
  },
  {
   "cell_type": "markdown",
   "metadata": {},
   "source": [
    "#### Read files "
   ]
  },
  {
   "cell_type": "markdown",
   "metadata": {},
   "source": [
    "https://www.r-bloggers.com/read-from-hdfs-with-r-brief-overview-of-sparkr/ # Read files from hdfs "
   ]
  },
  {
   "cell_type": "markdown",
   "metadata": {},
   "source": [
    "#### Read csv"
   ]
  },
  {
   "cell_type": "code",
   "execution_count": null,
   "metadata": {
    "collapsed": true
   },
   "outputs": [],
   "source": [
    "# usually you would precise the schema of the csv, if not: inferSchema = \"true\"\n",
    " customSchema <- structType(\n",
    "   structField(\"Semana\", \"integer\"),\n",
    "   structField(\"Agencia_ID\", \"integer\"),\n",
    "   structField(\"Canal_ID\", \"integer\"))\n",
    "train <- read.df(sqlContext, \"/train.csv\", header= \"true\", source = \"com.databricks.spark.csv\", inferSchema = \"true\")\n",
    "# alternative: SparkDf <- createDataFrame(sqlContext,faithful), but must be parquet, json or sql\n",
    "cache(train)\n",
    "system.time(head(train))"
   ]
  },
  {
   "cell_type": "markdown",
   "metadata": {},
   "source": [
    "#### Create dataframe"
   ]
  },
  {
   "cell_type": "code",
   "execution_count": null,
   "metadata": {
    "collapsed": true
   },
   "outputs": [],
   "source": [
    "# doku: https://spark.apache.org/docs/1.5.1/sparkr.html\n",
    "mtrdd <- createDataFrame(sqlContext, mtcars) # Create RDD from dataframe"
   ]
  },
  {
   "cell_type": "markdown",
   "metadata": {},
   "source": [
    "#### Add/change column"
   ]
  },
  {
   "cell_type": "code",
   "execution_count": null,
   "metadata": {
    "collapsed": true
   },
   "outputs": [],
   "source": [
    "train = train %>% withColumn(\"id\", lit(0))"
   ]
  },
  {
   "cell_type": "markdown",
   "metadata": {},
   "source": [
    "#### Rename column"
   ]
  },
  {
   "cell_type": "code",
   "execution_count": null,
   "metadata": {
    "collapsed": true
   },
   "outputs": [],
   "source": [
    "train <- withColumnRenamed(train, \"col\", \"new_col\")"
   ]
  },
  {
   "cell_type": "markdown",
   "metadata": {},
   "source": [
    "### Characteristics"
   ]
  },
  {
   "cell_type": "markdown",
   "metadata": {},
   "source": [
    "Doesn't run in memory, but on-disk storage\n",
    "- Multi-threading\n",
    "- Parallel processing\n",
    "- On-disk data storage (Hard drive storage and not RAM builds computational limit)\n",
    "- Can work on a cluster"
   ]
  },
  {
   "cell_type": "code",
   "execution_count": 2,
   "metadata": {
    "collapsed": true
   },
   "outputs": [
    {
     "ename": "ERROR",
     "evalue": "Error in eval(expr, envir, enclos): konnte Funktion \"rxSetComputeContext\" nicht finden\n",
     "output_type": "error",
     "traceback": [
      "Error in eval(expr, envir, enclos): konnte Funktion \"rxSetComputeContext\" nicht finden\nTraceback:\n"
     ]
    }
   ],
   "source": [
    "# Use different context accessing distributed or parallel computing\n",
    "rxSetComputeContext( LocalParallel() )\n",
    "rxSetComputeContext( RxHadoopMR(...))"
   ]
  },
  {
   "cell_type": "markdown",
   "metadata": {},
   "source": [
    "#### how it works"
   ]
  },
  {
   "cell_type": "markdown",
   "metadata": {},
   "source": [
    "Parallel External Memory Algorithms\n",
    "1. A chunk/subset of data is extracted from the main dataset\n",
    "2. An intermediate result is calculated from that chunk of data\n",
    "3. The intermediate results are combined into a final dataset"
   ]
  },
  {
   "cell_type": "markdown",
   "metadata": {},
   "source": [
    "Available Algorithms are not the same as open-source R algorithms:\n",
    "- linear regression (rxLinMod)\n",
    "- K-means (rxKmeans)\n",
    "- ..."
   ]
  },
  {
   "cell_type": "markdown",
   "metadata": {},
   "source": [
    "- native data format: XDF File (chunk-oriented (fast to append), column-oriented, pre-computed metadata)"
   ]
  },
  {
   "cell_type": "markdown",
   "metadata": {},
   "source": [
    "#### examples"
   ]
  },
  {
   "cell_type": "code",
   "execution_count": null,
   "metadata": {
    "collapsed": false
   },
   "outputs": [],
   "source": [
    "# Sample data directory\n",
    "rxGetOption(\"SampleDataDir\")\n",
    "# sample data files\n",
    "list.files(\n",
    "rxGetOption(\"sampleDataDir\")\n",
    ")"
   ]
  },
  {
   "cell_type": "code",
   "execution_count": null,
   "metadata": {
    "collapsed": true
   },
   "outputs": [],
   "source": [
    "xdfPath <- tempfile(fileext = \".xdf\")\n",
    "xdfPath\n",
    "file.exists(xdfPath)\n",
    "\n",
    "# Read the CSV into the new XDF filehttps://compass.esa.cognizant.com/psp/ESA89PRD/EMPLOYEE/ERP/?cmd=login&languageCd=GER\n",
    "rxImport(inData = csvPath, outFile = xdfPath)\n",
    "\n",
    "#check results\n",
    "rxGetInfo(xdfPath, getVarInfo = TRUE)"
   ]
  },
  {
   "cell_type": "markdown",
   "metadata": {},
   "source": [
    "# Visualization"
   ]
  },
  {
   "cell_type": "code",
   "execution_count": null,
   "metadata": {
    "collapsed": true
   },
   "outputs": [],
   "source": [
    "library(ggplot2)\n",
    "qplot(eruptions, waiting, data=faithful, color=waiting, size=eruptions, geom=c(\"point\",\"smooth\"), method=\"lm\")"
   ]
  },
  {
   "cell_type": "code",
   "execution_count": null,
   "metadata": {
    "collapsed": true
   },
   "outputs": [],
   "source": []
  },
  {
   "cell_type": "code",
   "execution_count": 29,
   "metadata": {
    "collapsed": false
   },
   "outputs": [
    {
     "data": {
      "image/png": "[encoded data removed]",
      "image/svg+xml": [
       "<?xml version=\"1.0\" encoding=\"UTF-8\"?>\n",
       "<svg xmlns=\"http://www.w3.org/2000/svg\" xmlns:xlink=\"http://www.w3.org/1999/xlink\" width=\"504pt\" height=\"504pt\" viewBox=\"0 0 504 504\" version=\"1.1\">\n",
       "<defs>\n",
       "<g>\n",
       "<symbol overflow=\"visible\" id=\"glyph0-0\">\n",
       "<path style=\"stroke:none;\" d=\"M 4.46875 0 L 3.414063 0 L 3.414063 -6.71875 C 3.160156 -6.476563 2.828125 -6.234375 2.414063 -5.996094 C 2 -5.75 1.628906 -5.570313 1.304688 -5.449219 L 1.304688 -6.46875 C 1.894531 -6.742188 2.410156 -7.078125 2.851563 -7.476563 C 3.292969 -7.871094 3.605469 -8.253906 3.789063 -8.625 L 4.46875 -8.625 Z M 4.46875 0 \"/>\n",
       "</symbol>\n",
       "<symbol overflow=\"visible\" id=\"glyph0-1\">\n",
       "<path style=\"stroke:none;\" d=\"M 0.5 -4.234375 C 0.496094 -5.246094 0.601563 -6.0625 0.8125 -6.6875 C 1.019531 -7.304688 1.328125 -7.785156 1.742188 -8.121094 C 2.148438 -8.457031 2.667969 -8.625 3.296875 -8.625 C 3.757813 -8.625 4.164063 -8.53125 4.511719 -8.347656 C 4.855469 -8.160156 5.140625 -7.890625 5.371094 -7.542969 C 5.59375 -7.191406 5.773438 -6.765625 5.90625 -6.265625 C 6.035156 -5.761719 6.097656 -5.085938 6.101563 -4.234375 C 6.097656 -3.226563 5.996094 -2.414063 5.789063 -1.796875 C 5.578125 -1.175781 5.265625 -0.695313 4.859375 -0.359375 C 4.445313 -0.0195313 3.925781 0.144531 3.296875 0.148438 C 2.464844 0.144531 1.816406 -0.148438 1.347656 -0.742188 C 0.78125 -1.457031 0.496094 -2.621094 0.5 -4.234375 Z M 1.582031 -4.234375 C 1.582031 -2.824219 1.746094 -1.886719 2.074219 -1.417969 C 2.402344 -0.949219 2.808594 -0.714844 3.296875 -0.71875 C 3.777344 -0.714844 4.183594 -0.949219 4.519531 -1.421875 C 4.847656 -1.886719 5.015625 -2.824219 5.015625 -4.234375 C 5.015625 -5.648438 4.847656 -6.589844 4.519531 -7.054688 C 4.183594 -7.515625 3.773438 -7.746094 3.289063 -7.75 C 2.800781 -7.746094 2.414063 -7.542969 2.125 -7.136719 C 1.761719 -6.613281 1.582031 -5.644531 1.582031 -4.234375 Z M 1.582031 -4.234375 \"/>\n",
       "</symbol>\n",
       "<symbol overflow=\"visible\" id=\"glyph0-2\">\n",
       "<path style=\"stroke:none;\" d=\"M 6.039063 -1.015625 L 6.039063 0 L 0.363281 0 C 0.355469 -0.253906 0.394531 -0.496094 0.484375 -0.734375 C 0.628906 -1.117188 0.859375 -1.5 1.179688 -1.875 C 1.492188 -2.25 1.953125 -2.683594 2.5625 -3.175781 C 3.492188 -3.941406 4.125 -4.546875 4.453125 -4.992188 C 4.78125 -5.4375 4.945313 -5.859375 4.945313 -6.265625 C 4.945313 -6.679688 4.792969 -7.03125 4.496094 -7.320313 C 4.191406 -7.601563 3.804688 -7.746094 3.328125 -7.75 C 2.820313 -7.746094 2.414063 -7.59375 2.109375 -7.292969 C 1.804688 -6.984375 1.648438 -6.5625 1.648438 -6.03125 L 0.5625 -6.140625 C 0.632813 -6.945313 0.910156 -7.558594 1.398438 -7.988281 C 1.878906 -8.410156 2.53125 -8.625 3.351563 -8.625 C 4.171875 -8.625 4.824219 -8.394531 5.308594 -7.9375 C 5.789063 -7.480469 6.027344 -6.914063 6.03125 -6.242188 C 6.027344 -5.894531 5.957031 -5.558594 5.820313 -5.226563 C 5.675781 -4.890625 5.441406 -4.539063 5.117188 -4.175781 C 4.789063 -3.804688 4.25 -3.300781 3.492188 -2.664063 C 2.859375 -2.128906 2.453125 -1.769531 2.273438 -1.582031 C 2.09375 -1.394531 1.945313 -1.203125 1.828125 -1.015625 Z M 6.039063 -1.015625 \"/>\n",
       "</symbol>\n",
       "<symbol overflow=\"visible\" id=\"glyph0-3\">\n",
       "<path style=\"stroke:none;\" d=\"M 3.878906 0 L 3.878906 -2.054688 L 0.152344 -2.054688 L 0.152344 -3.023438 L 4.070313 -8.589844 L 4.933594 -8.589844 L 4.933594 -3.023438 L 6.09375 -3.023438 L 6.09375 -2.054688 L 4.933594 -2.054688 L 4.933594 0 Z M 3.878906 -3.023438 L 3.878906 -6.898438 L 1.1875 -3.023438 Z M 3.878906 -3.023438 \"/>\n",
       "</symbol>\n",
       "<symbol overflow=\"visible\" id=\"glyph0-4\">\n",
       "<path style=\"stroke:none;\" d=\"M 5.96875 -6.484375 L 4.921875 -6.40625 C 4.828125 -6.8125 4.695313 -7.113281 4.523438 -7.304688 C 4.234375 -7.605469 3.882813 -7.757813 3.46875 -7.757813 C 3.132813 -7.757813 2.835938 -7.664063 2.585938 -7.476563 C 2.25 -7.234375 1.988281 -6.878906 1.796875 -6.414063 C 1.605469 -5.949219 1.507813 -5.289063 1.5 -4.429688 C 1.753906 -4.8125 2.0625 -5.097656 2.433594 -5.289063 C 2.796875 -5.472656 3.183594 -5.566406 3.585938 -5.570313 C 4.289063 -5.566406 4.886719 -5.308594 5.382813 -4.792969 C 5.875 -4.277344 6.121094 -3.609375 6.125 -2.789063 C 6.121094 -2.25 6.003906 -1.746094 5.773438 -1.285156 C 5.539063 -0.820313 5.222656 -0.46875 4.816406 -0.222656 C 4.410156 0.0234375 3.949219 0.144531 3.433594 0.148438 C 2.554688 0.144531 1.835938 -0.175781 1.285156 -0.820313 C 0.726563 -1.46875 0.449219 -2.535156 0.453125 -4.019531 C 0.449219 -5.675781 0.757813 -6.882813 1.371094 -7.640625 C 1.902344 -8.296875 2.621094 -8.625 3.53125 -8.625 C 4.207031 -8.625 4.761719 -8.433594 5.195313 -8.054688 C 5.625 -7.675781 5.882813 -7.152344 5.96875 -6.484375 Z M 1.664063 -2.78125 C 1.664063 -2.417969 1.738281 -2.070313 1.894531 -1.738281 C 2.042969 -1.40625 2.261719 -1.152344 2.542969 -0.980469 C 2.820313 -0.800781 3.109375 -0.714844 3.414063 -0.71875 C 3.859375 -0.714844 4.242188 -0.894531 4.566406 -1.257813 C 4.882813 -1.613281 5.042969 -2.101563 5.046875 -2.726563 C 5.042969 -3.316406 4.886719 -3.785156 4.570313 -4.128906 C 4.25 -4.46875 3.851563 -4.640625 3.375 -4.640625 C 2.898438 -4.640625 2.492188 -4.46875 2.160156 -4.128906 C 1.828125 -3.785156 1.664063 -3.335938 1.664063 -2.78125 Z M 1.664063 -2.78125 \"/>\n",
       "</symbol>\n",
       "<symbol overflow=\"visible\" id=\"glyph0-5\">\n",
       "<path style=\"stroke:none;\" d=\"M 2.121094 -4.65625 C 1.683594 -4.816406 1.359375 -5.046875 1.148438 -5.34375 C 0.9375 -5.640625 0.832031 -5.996094 0.832031 -6.410156 C 0.832031 -7.035156 1.054688 -7.558594 1.503906 -7.984375 C 1.953125 -8.410156 2.550781 -8.625 3.296875 -8.625 C 4.042969 -8.625 4.648438 -8.40625 5.109375 -7.972656 C 5.566406 -7.535156 5.792969 -7.003906 5.796875 -6.382813 C 5.792969 -5.976563 5.6875 -5.628906 5.480469 -5.339844 C 5.269531 -5.042969 4.953125 -4.816406 4.53125 -4.65625 C 5.054688 -4.480469 5.457031 -4.203125 5.734375 -3.824219 C 6.007813 -3.4375 6.144531 -2.980469 6.148438 -2.453125 C 6.144531 -1.714844 5.886719 -1.097656 5.367188 -0.601563 C 4.84375 -0.101563 4.160156 0.144531 3.316406 0.148438 C 2.46875 0.144531 1.785156 -0.101563 1.265625 -0.605469 C 0.742188 -1.105469 0.480469 -1.734375 0.484375 -2.484375 C 0.480469 -3.039063 0.621094 -3.503906 0.910156 -3.886719 C 1.191406 -4.261719 1.597656 -4.519531 2.121094 -4.65625 Z M 1.910156 -6.445313 C 1.910156 -6.039063 2.039063 -5.707031 2.300781 -5.449219 C 2.5625 -5.191406 2.902344 -5.0625 3.320313 -5.0625 C 3.722656 -5.0625 4.054688 -5.1875 4.320313 -5.445313 C 4.578125 -5.695313 4.710938 -6.011719 4.710938 -6.386719 C 4.710938 -6.773438 4.574219 -7.097656 4.308594 -7.363281 C 4.035156 -7.625 3.703125 -7.757813 3.3125 -7.757813 C 2.90625 -7.757813 2.574219 -7.628906 2.308594 -7.371094 C 2.042969 -7.113281 1.910156 -6.804688 1.910156 -6.445313 Z M 1.570313 -2.476563 C 1.570313 -2.175781 1.640625 -1.886719 1.785156 -1.605469 C 1.925781 -1.324219 2.136719 -1.105469 2.421875 -0.949219 C 2.699219 -0.792969 3.003906 -0.714844 3.328125 -0.71875 C 3.832031 -0.714844 4.246094 -0.878906 4.578125 -1.207031 C 4.902344 -1.53125 5.066406 -1.941406 5.070313 -2.445313 C 5.066406 -2.945313 4.898438 -3.367188 4.5625 -3.703125 C 4.222656 -4.035156 3.800781 -4.199219 3.292969 -4.203125 C 2.792969 -4.199219 2.378906 -4.035156 2.058594 -3.710938 C 1.730469 -3.378906 1.570313 -2.96875 1.570313 -2.476563 Z M 1.570313 -2.476563 \"/>\n",
       "</symbol>\n",
       "<symbol overflow=\"visible\" id=\"glyph0-6\">\n",
       "<path style=\"stroke:none;\" d=\"M 0.0859375 0 L 2.359375 -3.234375 L 0.257813 -6.222656 L 1.578125 -6.222656 L 2.53125 -4.765625 C 2.710938 -4.484375 2.855469 -4.253906 2.964844 -4.066406 C 3.136719 -4.324219 3.292969 -4.550781 3.4375 -4.75 L 4.488281 -6.222656 L 5.75 -6.222656 L 3.597656 -3.292969 L 5.914063 0 L 4.617188 0 L 3.339844 -1.933594 L 3 -2.453125 L 1.367188 0 Z M 0.0859375 0 \"/>\n",
       "</symbol>\n",
       "<symbol overflow=\"visible\" id=\"glyph1-0\">\n",
       "<path style=\"stroke:none;\" d=\"M -4.234375 -0.5 C -5.246094 -0.496094 -6.0625 -0.601563 -6.6875 -0.8125 C -7.304688 -1.019531 -7.785156 -1.328125 -8.121094 -1.742188 C -8.457031 -2.152344 -8.625 -2.671875 -8.625 -3.300781 C -8.625 -3.757813 -8.53125 -4.164063 -8.347656 -4.511719 C -8.160156 -4.859375 -7.890625 -5.144531 -7.542969 -5.371094 C -7.191406 -5.59375 -6.765625 -5.773438 -6.265625 -5.90625 C -5.761719 -6.035156 -5.085938 -6.097656 -4.234375 -6.101563 C -3.222656 -6.097656 -2.410156 -5.996094 -1.792969 -5.789063 C -1.175781 -5.578125 -0.695313 -5.265625 -0.359375 -4.859375 C -0.0195313 -4.445313 0.144531 -3.925781 0.148438 -3.296875 C 0.144531 -2.464844 -0.148438 -1.816406 -0.742188 -1.347656 C -1.457031 -0.78125 -2.621094 -0.496094 -4.234375 -0.5 Z M -4.234375 -1.582031 C -2.824219 -1.582031 -1.886719 -1.746094 -1.417969 -2.074219 C -0.949219 -2.402344 -0.714844 -2.808594 -0.71875 -3.296875 C -0.714844 -3.777344 -0.949219 -4.183594 -1.421875 -4.519531 C -1.886719 -4.847656 -2.824219 -5.015625 -4.234375 -5.015625 C -5.648438 -5.015625 -6.589844 -4.847656 -7.054688 -4.519531 C -7.515625 -4.1875 -7.746094 -3.777344 -7.75 -3.289063 C -7.746094 -2.800781 -7.542969 -2.414063 -7.136719 -2.128906 C -6.613281 -1.761719 -5.644531 -1.582031 -4.234375 -1.582031 Z M -4.234375 -1.582031 \"/>\n",
       "</symbol>\n",
       "<symbol overflow=\"visible\" id=\"glyph1-1\">\n",
       "<path style=\"stroke:none;\" d=\"M -1.011719 -6.039063 L 0 -6.039063 L 0 -0.363281 C -0.253906 -0.355469 -0.496094 -0.394531 -0.734375 -0.488281 C -1.117188 -0.628906 -1.5 -0.859375 -1.875 -1.179688 C -2.25 -1.496094 -2.683594 -1.957031 -3.175781 -2.5625 C -3.941406 -3.492188 -4.546875 -4.125 -4.992188 -4.453125 C -5.4375 -4.78125 -5.859375 -4.945313 -6.265625 -4.945313 C -6.679688 -4.945313 -7.03125 -4.792969 -7.320313 -4.496094 C -7.601563 -4.195313 -7.746094 -3.808594 -7.75 -3.328125 C -7.746094 -2.820313 -7.59375 -2.414063 -7.292969 -2.109375 C -6.984375 -1.804688 -6.5625 -1.648438 -6.03125 -1.648438 L -6.140625 -0.5625 C -6.945313 -0.636719 -7.558594 -0.914063 -7.988281 -1.402344 C -8.410156 -1.882813 -8.625 -2.535156 -8.625 -3.351563 C -8.625 -4.175781 -8.394531 -4.828125 -7.9375 -5.308594 C -7.480469 -5.789063 -6.914063 -6.027344 -6.242188 -6.03125 C -5.894531 -6.027344 -5.558594 -5.957031 -5.226563 -5.820313 C -4.890625 -5.675781 -4.539063 -5.441406 -4.175781 -5.117188 C -3.804688 -4.789063 -3.300781 -4.25 -2.664063 -3.492188 C -2.128906 -2.859375 -1.769531 -2.453125 -1.582031 -2.273438 C -1.394531 -2.09375 -1.203125 -1.945313 -1.011719 -1.828125 Z M -1.011719 -6.039063 \"/>\n",
       "</symbol>\n",
       "<symbol overflow=\"visible\" id=\"glyph1-2\">\n",
       "<path style=\"stroke:none;\" d=\"M 0 -3.878906 L -2.054688 -3.878906 L -2.054688 -0.152344 L -3.023438 -0.152344 L -8.589844 -4.074219 L -8.589844 -4.933594 L -3.023438 -4.933594 L -3.023438 -6.09375 L -2.054688 -6.09375 L -2.054688 -4.933594 L 0 -4.933594 Z M -3.023438 -3.878906 L -6.898438 -3.878906 L -3.023438 -1.191406 Z M -3.023438 -3.878906 \"/>\n",
       "</symbol>\n",
       "<symbol overflow=\"visible\" id=\"glyph1-3\">\n",
       "<path style=\"stroke:none;\" d=\"M -6.484375 -5.96875 L -6.40625 -4.921875 C -6.8125 -4.828125 -7.113281 -4.695313 -7.304688 -4.523438 C -7.605469 -4.238281 -7.757813 -3.886719 -7.757813 -3.46875 C -7.757813 -3.132813 -7.664063 -2.835938 -7.476563 -2.585938 C -7.234375 -2.25 -6.878906 -1.988281 -6.414063 -1.796875 C -5.949219 -1.605469 -5.289063 -1.507813 -4.429688 -1.5 C -4.8125 -1.753906 -5.097656 -2.0625 -5.289063 -2.433594 C -5.472656 -2.796875 -5.566406 -3.183594 -5.570313 -3.585938 C -5.566406 -4.289063 -5.308594 -4.886719 -4.792969 -5.382813 C -4.277344 -5.875 -3.609375 -6.121094 -2.789063 -6.125 C -2.25 -6.121094 -1.746094 -6.003906 -1.285156 -5.773438 C -0.816406 -5.539063 -0.460938 -5.222656 -0.21875 -4.816406 C 0.0273438 -4.410156 0.144531 -3.949219 0.148438 -3.433594 C 0.144531 -2.554688 -0.175781 -1.835938 -0.820313 -1.285156 C -1.46875 -0.726563 -2.535156 -0.449219 -4.019531 -0.453125 C -5.675781 -0.449219 -6.882813 -0.757813 -7.640625 -1.371094 C -8.296875 -1.90625 -8.625 -2.625 -8.625 -3.535156 C -8.625 -4.207031 -8.433594 -4.761719 -8.054688 -5.195313 C -7.675781 -5.625 -7.152344 -5.882813 -6.484375 -5.96875 Z M -2.78125 -1.664063 C -2.417969 -1.664063 -2.070313 -1.738281 -1.738281 -1.894531 C -1.40625 -2.042969 -1.152344 -2.261719 -0.980469 -2.542969 C -0.800781 -2.820313 -0.714844 -3.109375 -0.71875 -3.414063 C -0.714844 -3.859375 -0.894531 -4.242188 -1.257813 -4.566406 C -1.613281 -4.882813 -2.101563 -5.042969 -2.722656 -5.046875 C -3.3125 -5.042969 -3.78125 -4.886719 -4.125 -4.570313 C -4.46875 -4.25 -4.640625 -3.851563 -4.640625 -3.375 C -4.640625 -2.898438 -4.46875 -2.492188 -4.128906 -2.160156 C -3.785156 -1.828125 -3.335938 -1.664063 -2.78125 -1.664063 Z M -2.78125 -1.664063 \"/>\n",
       "</symbol>\n",
       "<symbol overflow=\"visible\" id=\"glyph1-4\">\n",
       "<path style=\"stroke:none;\" d=\"M -4.65625 -2.121094 C -4.816406 -1.683594 -5.046875 -1.359375 -5.34375 -1.148438 C -5.640625 -0.9375 -5.996094 -0.832031 -6.410156 -0.832031 C -7.035156 -0.832031 -7.558594 -1.054688 -7.984375 -1.503906 C -8.410156 -1.953125 -8.625 -2.550781 -8.625 -3.300781 C -8.625 -4.046875 -8.40625 -4.652344 -7.972656 -5.109375 C -7.535156 -5.566406 -7.003906 -5.792969 -6.382813 -5.796875 C -5.976563 -5.792969 -5.628906 -5.6875 -5.339844 -5.480469 C -5.042969 -5.269531 -4.816406 -4.953125 -4.65625 -4.53125 C -4.480469 -5.054688 -4.203125 -5.457031 -3.824219 -5.734375 C -3.4375 -6.007813 -2.980469 -6.144531 -2.453125 -6.148438 C -1.714844 -6.144531 -1.097656 -5.886719 -0.601563 -5.367188 C -0.101563 -4.84375 0.144531 -4.160156 0.148438 -3.316406 C 0.144531 -2.46875 -0.101563 -1.785156 -0.605469 -1.265625 C -1.105469 -0.746094 -1.734375 -0.484375 -2.484375 -0.488281 C -3.039063 -0.484375 -3.503906 -0.625 -3.886719 -0.910156 C -4.261719 -1.191406 -4.519531 -1.597656 -4.65625 -2.121094 Z M -6.445313 -1.910156 C -6.039063 -1.910156 -5.707031 -2.039063 -5.449219 -2.300781 C -5.191406 -2.5625 -5.0625 -2.902344 -5.0625 -3.324219 C -5.0625 -3.726563 -5.1875 -4.058594 -5.445313 -4.320313 C -5.695313 -4.578125 -6.011719 -4.710938 -6.386719 -4.710938 C -6.773438 -4.710938 -7.097656 -4.574219 -7.363281 -4.308594 C -7.625 -4.039063 -7.757813 -3.707031 -7.757813 -3.3125 C -7.757813 -2.90625 -7.628906 -2.574219 -7.371094 -2.308594 C -7.113281 -2.042969 -6.804688 -1.910156 -6.445313 -1.910156 Z M -2.476563 -1.570313 C -2.175781 -1.570313 -1.886719 -1.640625 -1.605469 -1.785156 C -1.324219 -1.925781 -1.105469 -2.136719 -0.949219 -2.421875 C -0.792969 -2.699219 -0.714844 -3.003906 -0.71875 -3.328125 C -0.714844 -3.832031 -0.875 -4.246094 -1.203125 -4.578125 C -1.523438 -4.902344 -1.9375 -5.066406 -2.441406 -5.070313 C -2.945313 -5.066406 -3.367188 -4.898438 -3.703125 -4.5625 C -4.035156 -4.222656 -4.199219 -3.800781 -4.203125 -3.292969 C -4.199219 -2.796875 -4.035156 -2.382813 -3.710938 -2.058594 C -3.378906 -1.730469 -2.96875 -1.570313 -2.476563 -1.570313 Z M -2.476563 -1.570313 \"/>\n",
       "</symbol>\n",
       "<symbol overflow=\"visible\" id=\"glyph1-5\">\n",
       "<path style=\"stroke:none;\" d=\"M 0 -4.46875 L 0 -3.414063 L -6.71875 -3.417969 C -6.476563 -3.160156 -6.234375 -2.828125 -5.996094 -2.417969 C -5.75 -2.003906 -5.570313 -1.632813 -5.449219 -1.308594 L -6.46875 -1.308594 C -6.742188 -1.894531 -7.078125 -2.410156 -7.476563 -2.851563 C -7.871094 -3.292969 -8.253906 -3.605469 -8.625 -3.792969 L -8.625 -4.472656 Z M 0 -4.46875 \"/>\n",
       "</symbol>\n",
       "<symbol overflow=\"visible\" id=\"glyph1-6\">\n",
       "<path style=\"stroke:none;\" d=\"M 2.398438 -0.742188 L 1.40625 -0.625 C 1.46875 -0.855469 1.5 -1.058594 1.5 -1.230469 C 1.5 -1.464844 1.460938 -1.652344 1.382813 -1.792969 C 1.304688 -1.933594 1.195313 -2.046875 1.054688 -2.140625 C 0.949219 -2.203125 0.6875 -2.3125 0.269531 -2.460938 C 0.210938 -2.480469 0.125 -2.511719 0.0117188 -2.554688 L -6.222656 -0.195313 L -6.222656 -1.332031 L -2.617188 -2.625 C -2.160156 -2.789063 -1.679688 -2.9375 -1.175781 -3.078125 C -1.65625 -3.195313 -2.128906 -3.339844 -2.59375 -3.507813 L -6.222656 -4.839844 L -6.222656 -5.894531 L 0.105469 -3.527344 C 0.789063 -3.273438 1.257813 -3.074219 1.519531 -2.9375 C 1.863281 -2.746094 2.117188 -2.53125 2.28125 -2.289063 C 2.4375 -2.042969 2.519531 -1.753906 2.523438 -1.421875 C 2.519531 -1.214844 2.476563 -0.988281 2.398438 -0.742188 Z M 2.398438 -0.742188 \"/>\n",
       "</symbol>\n",
       "</g>\n",
       "<clipPath id=\"clip1\">\n",
       "  <path d=\"M 59.039063 59.039063 L 474.757813 59.039063 L 474.757813 431.558594 L 59.039063 431.558594 Z M 59.039063 59.039063 \"/>\n",
       "</clipPath>\n",
       "</defs>\n",
       "<g id=\"surface91\">\n",
       "<rect x=\"0\" y=\"0\" width=\"504\" height=\"504\" style=\"fill:rgb(100%,100%,100%);fill-opacity:1;stroke:none;\"/>\n",
       "<g clip-path=\"url(#clip1)\" clip-rule=\"nonzero\">\n",
       "<path style=\"fill:none;stroke-width:0.75;stroke-linecap:round;stroke-linejoin:round;stroke:rgb(0%,0%,0%);stroke-opacity:1;stroke-miterlimit:10;\" d=\"M 77.101563 416.800781 C 77.101563 420.398438 71.699219 420.398438 71.699219 416.800781 C 71.699219 413.199219 77.101563 413.199219 77.101563 416.800781 \"/>\n",
       "<path style=\"fill:none;stroke-width:0.75;stroke-linecap:round;stroke-linejoin:round;stroke:rgb(0%,0%,0%);stroke-opacity:1;stroke-miterlimit:10;\" d=\"M 77.484375 395.054688 C 77.484375 398.65625 72.085938 398.65625 72.085938 395.054688 C 72.085938 391.453125 77.484375 391.453125 77.484375 395.054688 \"/>\n",
       "<path style=\"fill:none;stroke-width:0.75;stroke-linecap:round;stroke-linejoin:round;stroke:rgb(0%,0%,0%);stroke-opacity:1;stroke-miterlimit:10;\" d=\"M 77.867188 386.0625 C 77.867188 389.664063 72.46875 389.664063 72.46875 386.0625 C 72.46875 382.460938 77.867188 382.460938 77.867188 386.0625 \"/>\n",
       "<path style=\"fill:none;stroke-width:0.75;stroke-linecap:round;stroke-linejoin:round;stroke:rgb(0%,0%,0%);stroke-opacity:1;stroke-miterlimit:10;\" d=\"M 78.253906 379.171875 C 78.253906 382.773438 72.851563 382.773438 72.851563 379.171875 C 72.851563 375.574219 78.253906 375.574219 78.253906 379.171875 \"/>\n",
       "<path style=\"fill:none;stroke-width:0.75;stroke-linecap:round;stroke-linejoin:round;stroke:rgb(0%,0%,0%);stroke-opacity:1;stroke-miterlimit:10;\" d=\"M 78.636719 373.375 C 78.636719 376.972656 73.234375 376.972656 73.234375 373.375 C 73.234375 369.773438 78.636719 369.773438 78.636719 373.375 \"/>\n",
       "<path style=\"fill:none;stroke-width:0.75;stroke-linecap:round;stroke-linejoin:round;stroke:rgb(0%,0%,0%);stroke-opacity:1;stroke-miterlimit:10;\" d=\"M 79.019531 368.273438 C 79.019531 371.871094 73.621094 371.871094 73.621094 368.273438 C 73.621094 364.671875 79.019531 364.671875 79.019531 368.273438 \"/>\n",
       "<path style=\"fill:none;stroke-width:0.75;stroke-linecap:round;stroke-linejoin:round;stroke:rgb(0%,0%,0%);stroke-opacity:1;stroke-miterlimit:10;\" d=\"M 79.402344 363.667969 C 79.402344 367.269531 74.003906 367.269531 74.003906 363.667969 C 74.003906 360.066406 79.402344 360.066406 79.402344 363.667969 \"/>\n",
       "<path style=\"fill:none;stroke-width:0.75;stroke-linecap:round;stroke-linejoin:round;stroke:rgb(0%,0%,0%);stroke-opacity:1;stroke-miterlimit:10;\" d=\"M 79.789063 359.441406 C 79.789063 363.039063 74.386719 363.039063 74.386719 359.441406 C 74.386719 355.839844 79.789063 355.839844 79.789063 359.441406 \"/>\n",
       "<path style=\"fill:none;stroke-width:0.75;stroke-linecap:round;stroke-linejoin:round;stroke:rgb(0%,0%,0%);stroke-opacity:1;stroke-miterlimit:10;\" d=\"M 80.171875 355.511719 C 80.171875 359.109375 74.773438 359.109375 74.773438 355.511719 C 74.773438 351.910156 80.171875 351.910156 80.171875 355.511719 \"/>\n",
       "<path style=\"fill:none;stroke-width:0.75;stroke-linecap:round;stroke-linejoin:round;stroke:rgb(0%,0%,0%);stroke-opacity:1;stroke-miterlimit:10;\" d=\"M 80.554688 351.824219 C 80.554688 355.425781 75.15625 355.425781 75.15625 351.824219 C 75.15625 348.226563 80.554688 348.226563 80.554688 351.824219 \"/>\n",
       "<path style=\"fill:none;stroke-width:0.75;stroke-linecap:round;stroke-linejoin:round;stroke:rgb(0%,0%,0%);stroke-opacity:1;stroke-miterlimit:10;\" d=\"M 80.941406 348.34375 C 80.941406 351.945313 75.539063 351.945313 75.539063 348.34375 C 75.539063 344.746094 80.941406 344.746094 80.941406 348.34375 \"/>\n",
       "<path style=\"fill:none;stroke-width:0.75;stroke-linecap:round;stroke-linejoin:round;stroke:rgb(0%,0%,0%);stroke-opacity:1;stroke-miterlimit:10;\" d=\"M 81.324219 345.039063 C 81.324219 348.640625 75.925781 348.640625 75.925781 345.039063 C 75.925781 341.441406 81.324219 341.441406 81.324219 345.039063 \"/>\n",
       "<path style=\"fill:none;stroke-width:0.75;stroke-linecap:round;stroke-linejoin:round;stroke:rgb(0%,0%,0%);stroke-opacity:1;stroke-miterlimit:10;\" d=\"M 81.707031 341.886719 C 81.707031 345.488281 76.308594 345.488281 76.308594 341.886719 C 76.308594 338.285156 81.707031 338.285156 81.707031 341.886719 \"/>\n",
       "<path style=\"fill:none;stroke-width:0.75;stroke-linecap:round;stroke-linejoin:round;stroke:rgb(0%,0%,0%);stroke-opacity:1;stroke-miterlimit:10;\" d=\"M 82.09375 338.867188 C 82.09375 342.46875 76.691406 342.46875 76.691406 338.867188 C 76.691406 335.265625 82.09375 335.265625 82.09375 338.867188 \"/>\n",
       "<path style=\"fill:none;stroke-width:0.75;stroke-linecap:round;stroke-linejoin:round;stroke:rgb(0%,0%,0%);stroke-opacity:1;stroke-miterlimit:10;\" d=\"M 82.476563 335.964844 C 82.476563 339.566406 77.074219 339.566406 77.074219 335.964844 C 77.074219 332.367188 82.476563 332.367188 82.476563 335.964844 \"/>\n",
       "<path style=\"fill:none;stroke-width:0.75;stroke-linecap:round;stroke-linejoin:round;stroke:rgb(0%,0%,0%);stroke-opacity:1;stroke-miterlimit:10;\" d=\"M 82.859375 333.171875 C 82.859375 336.773438 77.460938 336.773438 77.460938 333.171875 C 77.460938 329.570313 82.859375 329.570313 82.859375 333.171875 \"/>\n",
       "<path style=\"fill:none;stroke-width:0.75;stroke-linecap:round;stroke-linejoin:round;stroke:rgb(0%,0%,0%);stroke-opacity:1;stroke-miterlimit:10;\" d=\"M 83.242188 330.472656 C 83.242188 334.074219 77.84375 334.074219 77.84375 330.472656 C 77.84375 326.875 83.242188 326.875 83.242188 330.472656 \"/>\n",
       "<path style=\"fill:none;stroke-width:0.75;stroke-linecap:round;stroke-linejoin:round;stroke:rgb(0%,0%,0%);stroke-opacity:1;stroke-miterlimit:10;\" d=\"M 83.628906 327.863281 C 83.628906 331.460938 78.226563 331.460938 78.226563 327.863281 C 78.226563 324.261719 83.628906 324.261719 83.628906 327.863281 \"/>\n",
       "<path style=\"fill:none;stroke-width:0.75;stroke-linecap:round;stroke-linejoin:round;stroke:rgb(0%,0%,0%);stroke-opacity:1;stroke-miterlimit:10;\" d=\"M 84.011719 325.328125 C 84.011719 328.929688 78.613281 328.929688 78.613281 325.328125 C 78.613281 321.730469 84.011719 321.730469 84.011719 325.328125 \"/>\n",
       "<path style=\"fill:none;stroke-width:0.75;stroke-linecap:round;stroke-linejoin:round;stroke:rgb(0%,0%,0%);stroke-opacity:1;stroke-miterlimit:10;\" d=\"M 84.394531 322.871094 C 84.394531 326.472656 78.996094 326.472656 78.996094 322.871094 C 78.996094 319.269531 84.394531 319.269531 84.394531 322.871094 \"/>\n",
       "<path style=\"fill:none;stroke-width:0.75;stroke-linecap:round;stroke-linejoin:round;stroke:rgb(0%,0%,0%);stroke-opacity:1;stroke-miterlimit:10;\" d=\"M 84.78125 320.480469 C 84.78125 324.078125 79.378906 324.078125 79.378906 320.480469 C 79.378906 316.878906 84.78125 316.878906 84.78125 320.480469 \"/>\n",
       "<path style=\"fill:none;stroke-width:0.75;stroke-linecap:round;stroke-linejoin:round;stroke:rgb(0%,0%,0%);stroke-opacity:1;stroke-miterlimit:10;\" d=\"M 85.164063 318.152344 C 85.164063 321.75 79.765625 321.75 79.765625 318.152344 C 79.765625 314.550781 85.164063 314.550781 85.164063 318.152344 \"/>\n",
       "<path style=\"fill:none;stroke-width:0.75;stroke-linecap:round;stroke-linejoin:round;stroke:rgb(0%,0%,0%);stroke-opacity:1;stroke-miterlimit:10;\" d=\"M 85.546875 315.882813 C 85.546875 319.480469 80.148438 319.480469 80.148438 315.882813 C 80.148438 312.28125 85.546875 312.28125 85.546875 315.882813 \"/>\n",
       "<path style=\"fill:none;stroke-width:0.75;stroke-linecap:round;stroke-linejoin:round;stroke:rgb(0%,0%,0%);stroke-opacity:1;stroke-miterlimit:10;\" d=\"M 85.933594 313.667969 C 85.933594 317.265625 80.53125 317.265625 80.53125 313.667969 C 80.53125 310.066406 85.933594 310.066406 85.933594 313.667969 \"/>\n",
       "<path style=\"fill:none;stroke-width:0.75;stroke-linecap:round;stroke-linejoin:round;stroke:rgb(0%,0%,0%);stroke-opacity:1;stroke-miterlimit:10;\" d=\"M 86.316406 311.503906 C 86.316406 315.101563 80.914063 315.101563 80.914063 311.503906 C 80.914063 307.902344 86.316406 307.902344 86.316406 311.503906 \"/>\n",
       "<path style=\"fill:none;stroke-width:0.75;stroke-linecap:round;stroke-linejoin:round;stroke:rgb(0%,0%,0%);stroke-opacity:1;stroke-miterlimit:10;\" d=\"M 86.699219 309.386719 C 86.699219 312.984375 81.300781 312.984375 81.300781 309.386719 C 81.300781 305.785156 86.699219 305.785156 86.699219 309.386719 \"/>\n",
       "<path style=\"fill:none;stroke-width:0.75;stroke-linecap:round;stroke-linejoin:round;stroke:rgb(0%,0%,0%);stroke-opacity:1;stroke-miterlimit:10;\" d=\"M 87.085938 307.316406 C 87.085938 310.914063 81.683594 310.914063 81.683594 307.316406 C 81.683594 303.714844 87.085938 303.714844 87.085938 307.316406 \"/>\n",
       "<path style=\"fill:none;stroke-width:0.75;stroke-linecap:round;stroke-linejoin:round;stroke:rgb(0%,0%,0%);stroke-opacity:1;stroke-miterlimit:10;\" d=\"M 87.46875 305.285156 C 87.46875 308.886719 82.066406 308.886719 82.066406 305.285156 C 82.066406 301.6875 87.46875 301.6875 87.46875 305.285156 \"/>\n",
       "<path style=\"fill:none;stroke-width:0.75;stroke-linecap:round;stroke-linejoin:round;stroke:rgb(0%,0%,0%);stroke-opacity:1;stroke-miterlimit:10;\" d=\"M 87.851563 303.296875 C 87.851563 306.898438 82.453125 306.898438 82.453125 303.296875 C 82.453125 299.699219 87.851563 299.699219 87.851563 303.296875 \"/>\n",
       "<path style=\"fill:none;stroke-width:0.75;stroke-linecap:round;stroke-linejoin:round;stroke:rgb(0%,0%,0%);stroke-opacity:1;stroke-miterlimit:10;\" d=\"M 88.234375 301.347656 C 88.234375 304.949219 82.835938 304.949219 82.835938 301.347656 C 82.835938 297.75 88.234375 297.75 88.234375 301.347656 \"/>\n",
       "<path style=\"fill:none;stroke-width:0.75;stroke-linecap:round;stroke-linejoin:round;stroke:rgb(0%,0%,0%);stroke-opacity:1;stroke-miterlimit:10;\" d=\"M 88.621094 299.4375 C 88.621094 303.035156 83.21875 303.035156 83.21875 299.4375 C 83.21875 295.835938 88.621094 295.835938 88.621094 299.4375 \"/>\n",
       "<path style=\"fill:none;stroke-width:0.75;stroke-linecap:round;stroke-linejoin:round;stroke:rgb(0%,0%,0%);stroke-opacity:1;stroke-miterlimit:10;\" d=\"M 89.003906 297.558594 C 89.003906 301.15625 83.605469 301.15625 83.605469 297.558594 C 83.605469 293.957031 89.003906 293.957031 89.003906 297.558594 \"/>\n",
       "<path style=\"fill:none;stroke-width:0.75;stroke-linecap:round;stroke-linejoin:round;stroke:rgb(0%,0%,0%);stroke-opacity:1;stroke-miterlimit:10;\" d=\"M 89.386719 295.710938 C 89.386719 299.3125 83.988281 299.3125 83.988281 295.710938 C 83.988281 292.113281 89.386719 292.113281 89.386719 295.710938 \"/>\n",
       "<path style=\"fill:none;stroke-width:0.75;stroke-linecap:round;stroke-linejoin:round;stroke:rgb(0%,0%,0%);stroke-opacity:1;stroke-miterlimit:10;\" d=\"M 89.773438 293.898438 C 89.773438 297.5 84.371094 297.5 84.371094 293.898438 C 84.371094 290.296875 89.773438 290.296875 89.773438 293.898438 \"/>\n",
       "<path style=\"fill:none;stroke-width:0.75;stroke-linecap:round;stroke-linejoin:round;stroke:rgb(0%,0%,0%);stroke-opacity:1;stroke-miterlimit:10;\" d=\"M 90.15625 292.113281 C 90.15625 295.714844 84.757813 295.714844 84.757813 292.113281 C 84.757813 288.515625 90.15625 288.515625 90.15625 292.113281 \"/>\n",
       "<path style=\"fill:none;stroke-width:0.75;stroke-linecap:round;stroke-linejoin:round;stroke:rgb(0%,0%,0%);stroke-opacity:1;stroke-miterlimit:10;\" d=\"M 90.539063 290.359375 C 90.539063 293.960938 85.140625 293.960938 85.140625 290.359375 C 85.140625 286.757813 90.539063 286.757813 90.539063 290.359375 \"/>\n",
       "<path style=\"fill:none;stroke-width:0.75;stroke-linecap:round;stroke-linejoin:round;stroke:rgb(0%,0%,0%);stroke-opacity:1;stroke-miterlimit:10;\" d=\"M 90.925781 288.632813 C 90.925781 292.230469 85.523438 292.230469 85.523438 288.632813 C 85.523438 285.03125 90.925781 285.03125 90.925781 288.632813 \"/>\n",
       "<path style=\"fill:none;stroke-width:0.75;stroke-linecap:round;stroke-linejoin:round;stroke:rgb(0%,0%,0%);stroke-opacity:1;stroke-miterlimit:10;\" d=\"M 91.308594 286.933594 C 91.308594 290.53125 85.90625 290.53125 85.90625 286.933594 C 85.90625 283.332031 91.308594 283.332031 91.308594 286.933594 \"/>\n",
       "<path style=\"fill:none;stroke-width:0.75;stroke-linecap:round;stroke-linejoin:round;stroke:rgb(0%,0%,0%);stroke-opacity:1;stroke-miterlimit:10;\" d=\"M 91.691406 285.257813 C 91.691406 288.855469 86.292969 288.855469 86.292969 285.257813 C 86.292969 281.65625 91.691406 281.65625 91.691406 285.257813 \"/>\n",
       "<path style=\"fill:none;stroke-width:0.75;stroke-linecap:round;stroke-linejoin:round;stroke:rgb(0%,0%,0%);stroke-opacity:1;stroke-miterlimit:10;\" d=\"M 92.074219 283.605469 C 92.074219 287.207031 86.675781 287.207031 86.675781 283.605469 C 86.675781 280.007813 92.074219 280.007813 92.074219 283.605469 \"/>\n",
       "<path style=\"fill:none;stroke-width:0.75;stroke-linecap:round;stroke-linejoin:round;stroke:rgb(0%,0%,0%);stroke-opacity:1;stroke-miterlimit:10;\" d=\"M 92.460938 281.980469 C 92.460938 285.582031 87.058594 285.582031 87.058594 281.980469 C 87.058594 278.378906 92.460938 278.378906 92.460938 281.980469 \"/>\n",
       "<path style=\"fill:none;stroke-width:0.75;stroke-linecap:round;stroke-linejoin:round;stroke:rgb(0%,0%,0%);stroke-opacity:1;stroke-miterlimit:10;\" d=\"M 92.84375 280.375 C 92.84375 283.976563 87.445313 283.976563 87.445313 280.375 C 87.445313 276.777344 92.84375 276.777344 92.84375 280.375 \"/>\n",
       "<path style=\"fill:none;stroke-width:0.75;stroke-linecap:round;stroke-linejoin:round;stroke:rgb(0%,0%,0%);stroke-opacity:1;stroke-miterlimit:10;\" d=\"M 93.226563 278.792969 C 93.226563 282.394531 87.828125 282.394531 87.828125 278.792969 C 87.828125 275.195313 93.226563 275.195313 93.226563 278.792969 \"/>\n",
       "<path style=\"fill:none;stroke-width:0.75;stroke-linecap:round;stroke-linejoin:round;stroke:rgb(0%,0%,0%);stroke-opacity:1;stroke-miterlimit:10;\" d=\"M 93.613281 277.234375 C 93.613281 280.835938 88.210938 280.835938 88.210938 277.234375 C 88.210938 273.632813 93.613281 273.632813 93.613281 277.234375 \"/>\n",
       "<path style=\"fill:none;stroke-width:0.75;stroke-linecap:round;stroke-linejoin:round;stroke:rgb(0%,0%,0%);stroke-opacity:1;stroke-miterlimit:10;\" d=\"M 93.996094 275.695313 C 93.996094 279.292969 88.597656 279.292969 88.597656 275.695313 C 88.597656 272.09375 93.996094 272.09375 93.996094 275.695313 \"/>\n",
       "<path style=\"fill:none;stroke-width:0.75;stroke-linecap:round;stroke-linejoin:round;stroke:rgb(0%,0%,0%);stroke-opacity:1;stroke-miterlimit:10;\" d=\"M 94.378906 274.175781 C 94.378906 277.773438 88.980469 277.773438 88.980469 274.175781 C 88.980469 270.574219 94.378906 270.574219 94.378906 274.175781 \"/>\n",
       "<path style=\"fill:none;stroke-width:0.75;stroke-linecap:round;stroke-linejoin:round;stroke:rgb(0%,0%,0%);stroke-opacity:1;stroke-miterlimit:10;\" d=\"M 94.765625 272.675781 C 94.765625 276.273438 89.363281 276.273438 89.363281 272.675781 C 89.363281 269.074219 94.765625 269.074219 94.765625 272.675781 \"/>\n",
       "<path style=\"fill:none;stroke-width:0.75;stroke-linecap:round;stroke-linejoin:round;stroke:rgb(0%,0%,0%);stroke-opacity:1;stroke-miterlimit:10;\" d=\"M 95.148438 271.191406 C 95.148438 274.792969 89.746094 274.792969 89.746094 271.191406 C 89.746094 267.59375 95.148438 267.59375 95.148438 271.191406 \"/>\n",
       "<path style=\"fill:none;stroke-width:0.75;stroke-linecap:round;stroke-linejoin:round;stroke:rgb(0%,0%,0%);stroke-opacity:1;stroke-miterlimit:10;\" d=\"M 95.53125 269.730469 C 95.53125 273.328125 90.132813 273.328125 90.132813 269.730469 C 90.132813 266.128906 95.53125 266.128906 95.53125 269.730469 \"/>\n",
       "<path style=\"fill:none;stroke-width:0.75;stroke-linecap:round;stroke-linejoin:round;stroke:rgb(0%,0%,0%);stroke-opacity:1;stroke-miterlimit:10;\" d=\"M 95.914063 268.28125 C 95.914063 271.882813 90.515625 271.882813 90.515625 268.28125 C 90.515625 264.683594 95.914063 264.683594 95.914063 268.28125 \"/>\n",
       "<path style=\"fill:none;stroke-width:0.75;stroke-linecap:round;stroke-linejoin:round;stroke:rgb(0%,0%,0%);stroke-opacity:1;stroke-miterlimit:10;\" d=\"M 96.300781 266.855469 C 96.300781 270.453125 90.898438 270.453125 90.898438 266.855469 C 90.898438 263.253906 96.300781 263.253906 96.300781 266.855469 \"/>\n",
       "<path style=\"fill:none;stroke-width:0.75;stroke-linecap:round;stroke-linejoin:round;stroke:rgb(0%,0%,0%);stroke-opacity:1;stroke-miterlimit:10;\" d=\"M 96.683594 265.441406 C 96.683594 269.042969 91.285156 269.042969 91.285156 265.441406 C 91.285156 261.839844 96.683594 261.839844 96.683594 265.441406 \"/>\n",
       "<path style=\"fill:none;stroke-width:0.75;stroke-linecap:round;stroke-linejoin:round;stroke:rgb(0%,0%,0%);stroke-opacity:1;stroke-miterlimit:10;\" d=\"M 97.066406 264.046875 C 97.066406 267.644531 91.667969 267.644531 91.667969 264.046875 C 91.667969 260.445313 97.066406 260.445313 97.066406 264.046875 \"/>\n",
       "<path style=\"fill:none;stroke-width:0.75;stroke-linecap:round;stroke-linejoin:round;stroke:rgb(0%,0%,0%);stroke-opacity:1;stroke-miterlimit:10;\" d=\"M 97.453125 262.664063 C 97.453125 266.265625 92.050781 266.265625 92.050781 262.664063 C 92.050781 259.066406 97.453125 259.066406 97.453125 262.664063 \"/>\n",
       "<path style=\"fill:none;stroke-width:0.75;stroke-linecap:round;stroke-linejoin:round;stroke:rgb(0%,0%,0%);stroke-opacity:1;stroke-miterlimit:10;\" d=\"M 97.835938 261.300781 C 97.835938 264.898438 92.4375 264.898438 92.4375 261.300781 C 92.4375 257.699219 97.835938 257.699219 97.835938 261.300781 \"/>\n",
       "<path style=\"fill:none;stroke-width:0.75;stroke-linecap:round;stroke-linejoin:round;stroke:rgb(0%,0%,0%);stroke-opacity:1;stroke-miterlimit:10;\" d=\"M 98.21875 259.949219 C 98.21875 263.550781 92.820313 263.550781 92.820313 259.949219 C 92.820313 256.347656 98.21875 256.347656 98.21875 259.949219 \"/>\n",
       "<path style=\"fill:none;stroke-width:0.75;stroke-linecap:round;stroke-linejoin:round;stroke:rgb(0%,0%,0%);stroke-opacity:1;stroke-miterlimit:10;\" d=\"M 98.605469 258.613281 C 98.605469 262.214844 93.203125 262.214844 93.203125 258.613281 C 93.203125 255.015625 98.605469 255.015625 98.605469 258.613281 \"/>\n",
       "<path style=\"fill:none;stroke-width:0.75;stroke-linecap:round;stroke-linejoin:round;stroke:rgb(0%,0%,0%);stroke-opacity:1;stroke-miterlimit:10;\" d=\"M 98.988281 257.292969 C 98.988281 260.890625 93.589844 260.890625 93.589844 257.292969 C 93.589844 253.691406 98.988281 253.691406 98.988281 257.292969 \"/>\n",
       "<path style=\"fill:none;stroke-width:0.75;stroke-linecap:round;stroke-linejoin:round;stroke:rgb(0%,0%,0%);stroke-opacity:1;stroke-miterlimit:10;\" d=\"M 99.371094 255.984375 C 99.371094 259.585938 93.972656 259.585938 93.972656 255.984375 C 93.972656 252.382813 99.371094 252.382813 99.371094 255.984375 \"/>\n",
       "<path style=\"fill:none;stroke-width:0.75;stroke-linecap:round;stroke-linejoin:round;stroke:rgb(0%,0%,0%);stroke-opacity:1;stroke-miterlimit:10;\" d=\"M 99.757813 254.691406 C 99.757813 258.289063 94.355469 258.289063 94.355469 254.691406 C 94.355469 251.089844 99.757813 251.089844 99.757813 254.691406 \"/>\n",
       "<path style=\"fill:none;stroke-width:0.75;stroke-linecap:round;stroke-linejoin:round;stroke:rgb(0%,0%,0%);stroke-opacity:1;stroke-miterlimit:10;\" d=\"M 100.140625 253.410156 C 100.140625 257.007813 94.738281 257.007813 94.738281 253.410156 C 94.738281 249.808594 100.140625 249.808594 100.140625 253.410156 \"/>\n",
       "<path style=\"fill:none;stroke-width:0.75;stroke-linecap:round;stroke-linejoin:round;stroke:rgb(0%,0%,0%);stroke-opacity:1;stroke-miterlimit:10;\" d=\"M 100.523438 252.140625 C 100.523438 255.742188 95.125 255.742188 95.125 252.140625 C 95.125 248.539063 100.523438 248.539063 100.523438 252.140625 \"/>\n",
       "<path style=\"fill:none;stroke-width:0.75;stroke-linecap:round;stroke-linejoin:round;stroke:rgb(0%,0%,0%);stroke-opacity:1;stroke-miterlimit:10;\" d=\"M 100.90625 250.886719 C 100.90625 254.484375 95.507813 254.484375 95.507813 250.886719 C 95.507813 247.285156 100.90625 247.285156 100.90625 250.886719 \"/>\n",
       "<path style=\"fill:none;stroke-width:0.75;stroke-linecap:round;stroke-linejoin:round;stroke:rgb(0%,0%,0%);stroke-opacity:1;stroke-miterlimit:10;\" d=\"M 101.292969 249.640625 C 101.292969 253.242188 95.890625 253.242188 95.890625 249.640625 C 95.890625 246.042969 101.292969 246.042969 101.292969 249.640625 \"/>\n",
       "<path style=\"fill:none;stroke-width:0.75;stroke-linecap:round;stroke-linejoin:round;stroke:rgb(0%,0%,0%);stroke-opacity:1;stroke-miterlimit:10;\" d=\"M 101.675781 248.410156 C 101.675781 252.011719 96.277344 252.011719 96.277344 248.410156 C 96.277344 244.808594 101.675781 244.808594 101.675781 248.410156 \"/>\n",
       "<path style=\"fill:none;stroke-width:0.75;stroke-linecap:round;stroke-linejoin:round;stroke:rgb(0%,0%,0%);stroke-opacity:1;stroke-miterlimit:10;\" d=\"M 102.058594 247.191406 C 102.058594 250.789063 96.660156 250.789063 96.660156 247.191406 C 96.660156 243.589844 102.058594 243.589844 102.058594 247.191406 \"/>\n",
       "<path style=\"fill:none;stroke-width:0.75;stroke-linecap:round;stroke-linejoin:round;stroke:rgb(0%,0%,0%);stroke-opacity:1;stroke-miterlimit:10;\" d=\"M 102.445313 245.980469 C 102.445313 249.582031 97.042969 249.582031 97.042969 245.980469 C 97.042969 242.382813 102.445313 242.382813 102.445313 245.980469 \"/>\n",
       "<path style=\"fill:none;stroke-width:0.75;stroke-linecap:round;stroke-linejoin:round;stroke:rgb(0%,0%,0%);stroke-opacity:1;stroke-miterlimit:10;\" d=\"M 102.828125 244.785156 C 102.828125 248.386719 97.429688 248.386719 97.429688 244.785156 C 97.429688 241.183594 102.828125 241.183594 102.828125 244.785156 \"/>\n",
       "<path style=\"fill:none;stroke-width:0.75;stroke-linecap:round;stroke-linejoin:round;stroke:rgb(0%,0%,0%);stroke-opacity:1;stroke-miterlimit:10;\" d=\"M 103.210938 243.597656 C 103.210938 247.199219 97.8125 247.199219 97.8125 243.597656 C 97.8125 240 103.210938 240 103.210938 243.597656 \"/>\n",
       "<path style=\"fill:none;stroke-width:0.75;stroke-linecap:round;stroke-linejoin:round;stroke:rgb(0%,0%,0%);stroke-opacity:1;stroke-miterlimit:10;\" d=\"M 103.597656 242.421875 C 103.597656 246.023438 98.195313 246.023438 98.195313 242.421875 C 98.195313 238.824219 103.597656 238.824219 103.597656 242.421875 \"/>\n",
       "<path style=\"fill:none;stroke-width:0.75;stroke-linecap:round;stroke-linejoin:round;stroke:rgb(0%,0%,0%);stroke-opacity:1;stroke-miterlimit:10;\" d=\"M 103.980469 241.257813 C 103.980469 244.859375 98.578125 244.859375 98.578125 241.257813 C 98.578125 237.660156 103.980469 237.660156 103.980469 241.257813 \"/>\n",
       "<path style=\"fill:none;stroke-width:0.75;stroke-linecap:round;stroke-linejoin:round;stroke:rgb(0%,0%,0%);stroke-opacity:1;stroke-miterlimit:10;\" d=\"M 104.363281 240.105469 C 104.363281 243.703125 98.964844 243.703125 98.964844 240.105469 C 98.964844 236.503906 104.363281 236.503906 104.363281 240.105469 \"/>\n",
       "<path style=\"fill:none;stroke-width:0.75;stroke-linecap:round;stroke-linejoin:round;stroke:rgb(0%,0%,0%);stroke-opacity:1;stroke-miterlimit:10;\" d=\"M 104.746094 238.960938 C 104.746094 242.558594 99.347656 242.558594 99.347656 238.960938 C 99.347656 235.359375 104.746094 235.359375 104.746094 238.960938 \"/>\n",
       "<path style=\"fill:none;stroke-width:0.75;stroke-linecap:round;stroke-linejoin:round;stroke:rgb(0%,0%,0%);stroke-opacity:1;stroke-miterlimit:10;\" d=\"M 105.132813 237.824219 C 105.132813 241.425781 99.730469 241.425781 99.730469 237.824219 C 99.730469 234.226563 105.132813 234.226563 105.132813 237.824219 \"/>\n",
       "<path style=\"fill:none;stroke-width:0.75;stroke-linecap:round;stroke-linejoin:round;stroke:rgb(0%,0%,0%);stroke-opacity:1;stroke-miterlimit:10;\" d=\"M 105.515625 236.703125 C 105.515625 240.300781 100.117188 240.300781 100.117188 236.703125 C 100.117188 233.101563 105.515625 233.101563 105.515625 236.703125 \"/>\n",
       "<path style=\"fill:none;stroke-width:0.75;stroke-linecap:round;stroke-linejoin:round;stroke:rgb(0%,0%,0%);stroke-opacity:1;stroke-miterlimit:10;\" d=\"M 105.898438 235.585938 C 105.898438 239.1875 100.5 239.1875 100.5 235.585938 C 100.5 231.988281 105.898438 231.988281 105.898438 235.585938 \"/>\n",
       "<path style=\"fill:none;stroke-width:0.75;stroke-linecap:round;stroke-linejoin:round;stroke:rgb(0%,0%,0%);stroke-opacity:1;stroke-miterlimit:10;\" d=\"M 106.285156 234.480469 C 106.285156 238.082031 100.882813 238.082031 100.882813 234.480469 C 100.882813 230.882813 106.285156 230.882813 106.285156 234.480469 \"/>\n",
       "<path style=\"fill:none;stroke-width:0.75;stroke-linecap:round;stroke-linejoin:round;stroke:rgb(0%,0%,0%);stroke-opacity:1;stroke-miterlimit:10;\" d=\"M 106.667969 233.386719 C 106.667969 236.984375 101.269531 236.984375 101.269531 233.386719 C 101.269531 229.785156 106.667969 229.785156 106.667969 233.386719 \"/>\n",
       "<path style=\"fill:none;stroke-width:0.75;stroke-linecap:round;stroke-linejoin:round;stroke:rgb(0%,0%,0%);stroke-opacity:1;stroke-miterlimit:10;\" d=\"M 107.050781 232.296875 C 107.050781 235.898438 101.652344 235.898438 101.652344 232.296875 C 101.652344 228.699219 107.050781 228.699219 107.050781 232.296875 \"/>\n",
       "<path style=\"fill:none;stroke-width:0.75;stroke-linecap:round;stroke-linejoin:round;stroke:rgb(0%,0%,0%);stroke-opacity:1;stroke-miterlimit:10;\" d=\"M 107.4375 231.21875 C 107.4375 234.820313 102.035156 234.820313 102.035156 231.21875 C 102.035156 227.621094 107.4375 227.621094 107.4375 231.21875 \"/>\n",
       "<path style=\"fill:none;stroke-width:0.75;stroke-linecap:round;stroke-linejoin:round;stroke:rgb(0%,0%,0%);stroke-opacity:1;stroke-miterlimit:10;\" d=\"M 107.820313 230.148438 C 107.820313 233.75 102.421875 233.75 102.421875 230.148438 C 102.421875 226.550781 107.820313 226.550781 107.820313 230.148438 \"/>\n",
       "<path style=\"fill:none;stroke-width:0.75;stroke-linecap:round;stroke-linejoin:round;stroke:rgb(0%,0%,0%);stroke-opacity:1;stroke-miterlimit:10;\" d=\"M 108.203125 229.089844 C 108.203125 232.6875 102.804688 232.6875 102.804688 229.089844 C 102.804688 225.488281 108.203125 225.488281 108.203125 229.089844 \"/>\n",
       "<path style=\"fill:none;stroke-width:0.75;stroke-linecap:round;stroke-linejoin:round;stroke:rgb(0%,0%,0%);stroke-opacity:1;stroke-miterlimit:10;\" d=\"M 108.589844 228.035156 C 108.589844 231.636719 103.1875 231.636719 103.1875 228.035156 C 103.1875 224.4375 108.589844 224.4375 108.589844 228.035156 \"/>\n",
       "<path style=\"fill:none;stroke-width:0.75;stroke-linecap:round;stroke-linejoin:round;stroke:rgb(0%,0%,0%);stroke-opacity:1;stroke-miterlimit:10;\" d=\"M 108.972656 226.992188 C 108.972656 230.59375 103.570313 230.59375 103.570313 226.992188 C 103.570313 223.394531 108.972656 223.394531 108.972656 226.992188 \"/>\n",
       "<path style=\"fill:none;stroke-width:0.75;stroke-linecap:round;stroke-linejoin:round;stroke:rgb(0%,0%,0%);stroke-opacity:1;stroke-miterlimit:10;\" d=\"M 109.355469 225.957031 C 109.355469 229.558594 103.957031 229.558594 103.957031 225.957031 C 103.957031 222.355469 109.355469 222.355469 109.355469 225.957031 \"/>\n",
       "<path style=\"fill:none;stroke-width:0.75;stroke-linecap:round;stroke-linejoin:round;stroke:rgb(0%,0%,0%);stroke-opacity:1;stroke-miterlimit:10;\" d=\"M 109.738281 224.929688 C 109.738281 228.53125 104.339844 228.53125 104.339844 224.929688 C 104.339844 221.328125 109.738281 221.328125 109.738281 224.929688 \"/>\n",
       "<path style=\"fill:none;stroke-width:0.75;stroke-linecap:round;stroke-linejoin:round;stroke:rgb(0%,0%,0%);stroke-opacity:1;stroke-miterlimit:10;\" d=\"M 110.125 223.910156 C 110.125 227.507813 104.722656 227.507813 104.722656 223.910156 C 104.722656 220.308594 110.125 220.308594 110.125 223.910156 \"/>\n",
       "<path style=\"fill:none;stroke-width:0.75;stroke-linecap:round;stroke-linejoin:round;stroke:rgb(0%,0%,0%);stroke-opacity:1;stroke-miterlimit:10;\" d=\"M 110.507813 222.898438 C 110.507813 226.496094 105.109375 226.496094 105.109375 222.898438 C 105.109375 219.296875 110.507813 219.296875 110.507813 222.898438 \"/>\n",
       "<path style=\"fill:none;stroke-width:0.75;stroke-linecap:round;stroke-linejoin:round;stroke:rgb(0%,0%,0%);stroke-opacity:1;stroke-miterlimit:10;\" d=\"M 110.890625 221.894531 C 110.890625 225.492188 105.492188 225.492188 105.492188 221.894531 C 105.492188 218.292969 110.890625 218.292969 110.890625 221.894531 \"/>\n",
       "<path style=\"fill:none;stroke-width:0.75;stroke-linecap:round;stroke-linejoin:round;stroke:rgb(0%,0%,0%);stroke-opacity:1;stroke-miterlimit:10;\" d=\"M 111.277344 220.894531 C 111.277344 224.496094 105.875 224.496094 105.875 220.894531 C 105.875 217.296875 111.277344 217.296875 111.277344 220.894531 \"/>\n",
       "<path style=\"fill:none;stroke-width:0.75;stroke-linecap:round;stroke-linejoin:round;stroke:rgb(0%,0%,0%);stroke-opacity:1;stroke-miterlimit:10;\" d=\"M 111.660156 219.90625 C 111.660156 223.507813 106.261719 223.507813 106.261719 219.90625 C 106.261719 216.308594 111.660156 216.308594 111.660156 219.90625 \"/>\n",
       "<path style=\"fill:none;stroke-width:0.75;stroke-linecap:round;stroke-linejoin:round;stroke:rgb(0%,0%,0%);stroke-opacity:1;stroke-miterlimit:10;\" d=\"M 112.042969 218.925781 C 112.042969 222.523438 106.644531 222.523438 106.644531 218.925781 C 106.644531 215.324219 112.042969 215.324219 112.042969 218.925781 \"/>\n",
       "<path style=\"fill:none;stroke-width:0.75;stroke-linecap:round;stroke-linejoin:round;stroke:rgb(0%,0%,0%);stroke-opacity:1;stroke-miterlimit:10;\" d=\"M 112.429688 217.949219 C 112.429688 221.550781 107.027344 221.550781 107.027344 217.949219 C 107.027344 214.351563 112.429688 214.351563 112.429688 217.949219 \"/>\n",
       "<path style=\"fill:none;stroke-width:0.75;stroke-linecap:round;stroke-linejoin:round;stroke:rgb(0%,0%,0%);stroke-opacity:1;stroke-miterlimit:10;\" d=\"M 112.8125 216.984375 C 112.8125 220.582031 107.410156 220.582031 107.410156 216.984375 C 107.410156 213.382813 112.8125 213.382813 112.8125 216.984375 \"/>\n",
       "<path style=\"fill:none;stroke-width:0.75;stroke-linecap:round;stroke-linejoin:round;stroke:rgb(0%,0%,0%);stroke-opacity:1;stroke-miterlimit:10;\" d=\"M 113.195313 216.023438 C 113.195313 219.621094 107.796875 219.621094 107.796875 216.023438 C 107.796875 212.421875 113.195313 212.421875 113.195313 216.023438 \"/>\n",
       "<path style=\"fill:none;stroke-width:0.75;stroke-linecap:round;stroke-linejoin:round;stroke:rgb(0%,0%,0%);stroke-opacity:1;stroke-miterlimit:10;\" d=\"M 113.578125 215.066406 C 113.578125 218.667969 108.179688 218.667969 108.179688 215.066406 C 108.179688 211.46875 113.578125 211.46875 113.578125 215.066406 \"/>\n",
       "<path style=\"fill:none;stroke-width:0.75;stroke-linecap:round;stroke-linejoin:round;stroke:rgb(0%,0%,0%);stroke-opacity:1;stroke-miterlimit:10;\" d=\"M 113.964844 214.121094 C 113.964844 217.722656 108.5625 217.722656 108.5625 214.121094 C 108.5625 210.519531 113.964844 210.519531 113.964844 214.121094 \"/>\n",
       "<path style=\"fill:none;stroke-width:0.75;stroke-linecap:round;stroke-linejoin:round;stroke:rgb(0%,0%,0%);stroke-opacity:1;stroke-miterlimit:10;\" d=\"M 114.347656 213.179688 C 114.347656 216.78125 108.949219 216.78125 108.949219 213.179688 C 108.949219 209.582031 114.347656 209.582031 114.347656 213.179688 \"/>\n",
       "<path style=\"fill:none;stroke-width:0.75;stroke-linecap:round;stroke-linejoin:round;stroke:rgb(0%,0%,0%);stroke-opacity:1;stroke-miterlimit:10;\" d=\"M 114.730469 212.246094 C 114.730469 215.847656 109.332031 215.847656 109.332031 212.246094 C 109.332031 208.648438 114.730469 208.648438 114.730469 212.246094 \"/>\n",
       "<path style=\"fill:none;stroke-width:0.75;stroke-linecap:round;stroke-linejoin:round;stroke:rgb(0%,0%,0%);stroke-opacity:1;stroke-miterlimit:10;\" d=\"M 115.117188 211.320313 C 115.117188 214.921875 109.714844 214.921875 109.714844 211.320313 C 109.714844 207.71875 115.117188 207.71875 115.117188 211.320313 \"/>\n",
       "<path style=\"fill:none;stroke-width:0.75;stroke-linecap:round;stroke-linejoin:round;stroke:rgb(0%,0%,0%);stroke-opacity:1;stroke-miterlimit:10;\" d=\"M 115.5 210.398438 C 115.5 214 110.101563 214 110.101563 210.398438 C 110.101563 206.800781 115.5 206.800781 115.5 210.398438 \"/>\n",
       "<path style=\"fill:none;stroke-width:0.75;stroke-linecap:round;stroke-linejoin:round;stroke:rgb(0%,0%,0%);stroke-opacity:1;stroke-miterlimit:10;\" d=\"M 115.882813 209.484375 C 115.882813 213.085938 110.484375 213.085938 110.484375 209.484375 C 110.484375 205.886719 115.882813 205.886719 115.882813 209.484375 \"/>\n",
       "<path style=\"fill:none;stroke-width:0.75;stroke-linecap:round;stroke-linejoin:round;stroke:rgb(0%,0%,0%);stroke-opacity:1;stroke-miterlimit:10;\" d=\"M 116.269531 208.578125 C 116.269531 212.179688 110.867188 212.179688 110.867188 208.578125 C 110.867188 204.976563 116.269531 204.976563 116.269531 208.578125 \"/>\n",
       "<path style=\"fill:none;stroke-width:0.75;stroke-linecap:round;stroke-linejoin:round;stroke:rgb(0%,0%,0%);stroke-opacity:1;stroke-miterlimit:10;\" d=\"M 116.652344 207.675781 C 116.652344 211.277344 111.253906 211.277344 111.253906 207.675781 C 111.253906 204.078125 116.652344 204.078125 116.652344 207.675781 \"/>\n",
       "<path style=\"fill:none;stroke-width:0.75;stroke-linecap:round;stroke-linejoin:round;stroke:rgb(0%,0%,0%);stroke-opacity:1;stroke-miterlimit:10;\" d=\"M 117.035156 206.78125 C 117.035156 210.378906 111.636719 210.378906 111.636719 206.78125 C 111.636719 203.179688 117.035156 203.179688 117.035156 206.78125 \"/>\n",
       "<path style=\"fill:none;stroke-width:0.75;stroke-linecap:round;stroke-linejoin:round;stroke:rgb(0%,0%,0%);stroke-opacity:1;stroke-miterlimit:10;\" d=\"M 117.421875 205.890625 C 117.421875 209.492188 112.019531 209.492188 112.019531 205.890625 C 112.019531 202.292969 117.421875 202.292969 117.421875 205.890625 \"/>\n",
       "<path style=\"fill:none;stroke-width:0.75;stroke-linecap:round;stroke-linejoin:round;stroke:rgb(0%,0%,0%);stroke-opacity:1;stroke-miterlimit:10;\" d=\"M 117.804688 205.007813 C 117.804688 208.609375 112.402344 208.609375 112.402344 205.007813 C 112.402344 201.40625 117.804688 201.40625 117.804688 205.007813 \"/>\n",
       "<path style=\"fill:none;stroke-width:0.75;stroke-linecap:round;stroke-linejoin:round;stroke:rgb(0%,0%,0%);stroke-opacity:1;stroke-miterlimit:10;\" d=\"M 118.1875 204.128906 C 118.1875 207.730469 112.789063 207.730469 112.789063 204.128906 C 112.789063 200.53125 118.1875 200.53125 118.1875 204.128906 \"/>\n",
       "<path style=\"fill:none;stroke-width:0.75;stroke-linecap:round;stroke-linejoin:round;stroke:rgb(0%,0%,0%);stroke-opacity:1;stroke-miterlimit:10;\" d=\"M 118.570313 203.257813 C 118.570313 206.859375 113.171875 206.859375 113.171875 203.257813 C 113.171875 199.660156 118.570313 199.660156 118.570313 203.257813 \"/>\n",
       "<path style=\"fill:none;stroke-width:0.75;stroke-linecap:round;stroke-linejoin:round;stroke:rgb(0%,0%,0%);stroke-opacity:1;stroke-miterlimit:10;\" d=\"M 118.957031 202.390625 C 118.957031 205.992188 113.554688 205.992188 113.554688 202.390625 C 113.554688 198.792969 118.957031 198.792969 118.957031 202.390625 \"/>\n",
       "<path style=\"fill:none;stroke-width:0.75;stroke-linecap:round;stroke-linejoin:round;stroke:rgb(0%,0%,0%);stroke-opacity:1;stroke-miterlimit:10;\" d=\"M 119.339844 201.53125 C 119.339844 205.132813 113.941406 205.132813 113.941406 201.53125 C 113.941406 197.933594 119.339844 197.933594 119.339844 201.53125 \"/>\n",
       "<path style=\"fill:none;stroke-width:0.75;stroke-linecap:round;stroke-linejoin:round;stroke:rgb(0%,0%,0%);stroke-opacity:1;stroke-miterlimit:10;\" d=\"M 119.722656 200.675781 C 119.722656 204.277344 114.324219 204.277344 114.324219 200.675781 C 114.324219 197.078125 119.722656 197.078125 119.722656 200.675781 \"/>\n",
       "<path style=\"fill:none;stroke-width:0.75;stroke-linecap:round;stroke-linejoin:round;stroke:rgb(0%,0%,0%);stroke-opacity:1;stroke-miterlimit:10;\" d=\"M 120.109375 199.828125 C 120.109375 203.429688 114.707031 203.429688 114.707031 199.828125 C 114.707031 196.226563 120.109375 196.226563 120.109375 199.828125 \"/>\n",
       "<path style=\"fill:none;stroke-width:0.75;stroke-linecap:round;stroke-linejoin:round;stroke:rgb(0%,0%,0%);stroke-opacity:1;stroke-miterlimit:10;\" d=\"M 120.492188 198.984375 C 120.492188 202.585938 115.09375 202.585938 115.09375 198.984375 C 115.09375 195.382813 120.492188 195.382813 120.492188 198.984375 \"/>\n",
       "<path style=\"fill:none;stroke-width:0.75;stroke-linecap:round;stroke-linejoin:round;stroke:rgb(0%,0%,0%);stroke-opacity:1;stroke-miterlimit:10;\" d=\"M 120.875 198.144531 C 120.875 201.746094 115.476563 201.746094 115.476563 198.144531 C 115.476563 194.546875 120.875 194.546875 120.875 198.144531 \"/>\n",
       "<path style=\"fill:none;stroke-width:0.75;stroke-linecap:round;stroke-linejoin:round;stroke:rgb(0%,0%,0%);stroke-opacity:1;stroke-miterlimit:10;\" d=\"M 121.261719 197.3125 C 121.261719 200.914063 115.859375 200.914063 115.859375 197.3125 C 115.859375 193.714844 121.261719 193.714844 121.261719 197.3125 \"/>\n",
       "<path style=\"fill:none;stroke-width:0.75;stroke-linecap:round;stroke-linejoin:round;stroke:rgb(0%,0%,0%);stroke-opacity:1;stroke-miterlimit:10;\" d=\"M 121.644531 196.484375 C 121.644531 200.085938 116.242188 200.085938 116.242188 196.484375 C 116.242188 192.886719 121.644531 192.886719 121.644531 196.484375 \"/>\n",
       "<path style=\"fill:none;stroke-width:0.75;stroke-linecap:round;stroke-linejoin:round;stroke:rgb(0%,0%,0%);stroke-opacity:1;stroke-miterlimit:10;\" d=\"M 122.027344 195.664063 C 122.027344 199.261719 116.628906 199.261719 116.628906 195.664063 C 116.628906 192.0625 122.027344 192.0625 122.027344 195.664063 \"/>\n",
       "<path style=\"fill:none;stroke-width:0.75;stroke-linecap:round;stroke-linejoin:round;stroke:rgb(0%,0%,0%);stroke-opacity:1;stroke-miterlimit:10;\" d=\"M 122.410156 194.84375 C 122.410156 198.445313 117.011719 198.445313 117.011719 194.84375 C 117.011719 191.246094 122.410156 191.246094 122.410156 194.84375 \"/>\n",
       "<path style=\"fill:none;stroke-width:0.75;stroke-linecap:round;stroke-linejoin:round;stroke:rgb(0%,0%,0%);stroke-opacity:1;stroke-miterlimit:10;\" d=\"M 122.796875 194.035156 C 122.796875 197.632813 117.394531 197.632813 117.394531 194.035156 C 117.394531 190.433594 122.796875 190.433594 122.796875 194.035156 \"/>\n",
       "<path style=\"fill:none;stroke-width:0.75;stroke-linecap:round;stroke-linejoin:round;stroke:rgb(0%,0%,0%);stroke-opacity:1;stroke-miterlimit:10;\" d=\"M 123.179688 193.226563 C 123.179688 196.828125 117.78125 196.828125 117.78125 193.226563 C 117.78125 189.625 123.179688 189.625 123.179688 193.226563 \"/>\n",
       "<path style=\"fill:none;stroke-width:0.75;stroke-linecap:round;stroke-linejoin:round;stroke:rgb(0%,0%,0%);stroke-opacity:1;stroke-miterlimit:10;\" d=\"M 123.5625 192.425781 C 123.5625 196.023438 118.164063 196.023438 118.164063 192.425781 C 118.164063 188.824219 123.5625 188.824219 123.5625 192.425781 \"/>\n",
       "<path style=\"fill:none;stroke-width:0.75;stroke-linecap:round;stroke-linejoin:round;stroke:rgb(0%,0%,0%);stroke-opacity:1;stroke-miterlimit:10;\" d=\"M 123.949219 191.628906 C 123.949219 195.226563 118.546875 195.226563 118.546875 191.628906 C 118.546875 188.027344 123.949219 188.027344 123.949219 191.628906 \"/>\n",
       "<path style=\"fill:none;stroke-width:0.75;stroke-linecap:round;stroke-linejoin:round;stroke:rgb(0%,0%,0%);stroke-opacity:1;stroke-miterlimit:10;\" d=\"M 124.332031 190.835938 C 124.332031 194.433594 118.933594 194.433594 118.933594 190.835938 C 118.933594 187.234375 124.332031 187.234375 124.332031 190.835938 \"/>\n",
       "<path style=\"fill:none;stroke-width:0.75;stroke-linecap:round;stroke-linejoin:round;stroke:rgb(0%,0%,0%);stroke-opacity:1;stroke-miterlimit:10;\" d=\"M 124.714844 190.046875 C 124.714844 193.648438 119.316406 193.648438 119.316406 190.046875 C 119.316406 186.449219 124.714844 186.449219 124.714844 190.046875 \"/>\n",
       "<path style=\"fill:none;stroke-width:0.75;stroke-linecap:round;stroke-linejoin:round;stroke:rgb(0%,0%,0%);stroke-opacity:1;stroke-miterlimit:10;\" d=\"M 125.101563 189.265625 C 125.101563 192.867188 119.699219 192.867188 119.699219 189.265625 C 119.699219 185.664063 125.101563 185.664063 125.101563 189.265625 \"/>\n",
       "<path style=\"fill:none;stroke-width:0.75;stroke-linecap:round;stroke-linejoin:round;stroke:rgb(0%,0%,0%);stroke-opacity:1;stroke-miterlimit:10;\" d=\"M 125.484375 188.488281 C 125.484375 192.085938 120.085938 192.085938 120.085938 188.488281 C 120.085938 184.886719 125.484375 184.886719 125.484375 188.488281 \"/>\n",
       "<path style=\"fill:none;stroke-width:0.75;stroke-linecap:round;stroke-linejoin:round;stroke:rgb(0%,0%,0%);stroke-opacity:1;stroke-miterlimit:10;\" d=\"M 125.867188 187.714844 C 125.867188 191.316406 120.46875 191.316406 120.46875 187.714844 C 120.46875 184.113281 125.867188 184.113281 125.867188 187.714844 \"/>\n",
       "<path style=\"fill:none;stroke-width:0.75;stroke-linecap:round;stroke-linejoin:round;stroke:rgb(0%,0%,0%);stroke-opacity:1;stroke-miterlimit:10;\" d=\"M 126.253906 186.945313 C 126.253906 190.546875 120.851563 190.546875 120.851563 186.945313 C 120.851563 183.347656 126.253906 183.347656 126.253906 186.945313 \"/>\n",
       "<path style=\"fill:none;stroke-width:0.75;stroke-linecap:round;stroke-linejoin:round;stroke:rgb(0%,0%,0%);stroke-opacity:1;stroke-miterlimit:10;\" d=\"M 126.636719 186.183594 C 126.636719 189.78125 121.234375 189.78125 121.234375 186.183594 C 121.234375 182.582031 126.636719 182.582031 126.636719 186.183594 \"/>\n",
       "<path style=\"fill:none;stroke-width:0.75;stroke-linecap:round;stroke-linejoin:round;stroke:rgb(0%,0%,0%);stroke-opacity:1;stroke-miterlimit:10;\" d=\"M 127.019531 185.421875 C 127.019531 189.023438 121.621094 189.023438 121.621094 185.421875 C 121.621094 181.824219 127.019531 181.824219 127.019531 185.421875 \"/>\n",
       "<path style=\"fill:none;stroke-width:0.75;stroke-linecap:round;stroke-linejoin:round;stroke:rgb(0%,0%,0%);stroke-opacity:1;stroke-miterlimit:10;\" d=\"M 127.402344 184.667969 C 127.402344 188.269531 122.003906 188.269531 122.003906 184.667969 C 122.003906 181.070313 127.402344 181.070313 127.402344 184.667969 \"/>\n",
       "<path style=\"fill:none;stroke-width:0.75;stroke-linecap:round;stroke-linejoin:round;stroke:rgb(0%,0%,0%);stroke-opacity:1;stroke-miterlimit:10;\" d=\"M 127.789063 183.917969 C 127.789063 187.519531 122.386719 187.519531 122.386719 183.917969 C 122.386719 180.316406 127.789063 180.316406 127.789063 183.917969 \"/>\n",
       "<path style=\"fill:none;stroke-width:0.75;stroke-linecap:round;stroke-linejoin:round;stroke:rgb(0%,0%,0%);stroke-opacity:1;stroke-miterlimit:10;\" d=\"M 128.171875 183.171875 C 128.171875 186.773438 122.773438 186.773438 122.773438 183.171875 C 122.773438 179.574219 128.171875 179.574219 128.171875 183.171875 \"/>\n",
       "<path style=\"fill:none;stroke-width:0.75;stroke-linecap:round;stroke-linejoin:round;stroke:rgb(0%,0%,0%);stroke-opacity:1;stroke-miterlimit:10;\" d=\"M 128.554688 182.429688 C 128.554688 186.03125 123.15625 186.03125 123.15625 182.429688 C 123.15625 178.832031 128.554688 178.832031 128.554688 182.429688 \"/>\n",
       "<path style=\"fill:none;stroke-width:0.75;stroke-linecap:round;stroke-linejoin:round;stroke:rgb(0%,0%,0%);stroke-opacity:1;stroke-miterlimit:10;\" d=\"M 128.941406 181.695313 C 128.941406 185.292969 123.539063 185.292969 123.539063 181.695313 C 123.539063 178.09375 128.941406 178.09375 128.941406 181.695313 \"/>\n",
       "<path style=\"fill:none;stroke-width:0.75;stroke-linecap:round;stroke-linejoin:round;stroke:rgb(0%,0%,0%);stroke-opacity:1;stroke-miterlimit:10;\" d=\"M 129.324219 180.960938 C 129.324219 184.5625 123.925781 184.5625 123.925781 180.960938 C 123.925781 177.363281 129.324219 177.363281 129.324219 180.960938 \"/>\n",
       "<path style=\"fill:none;stroke-width:0.75;stroke-linecap:round;stroke-linejoin:round;stroke:rgb(0%,0%,0%);stroke-opacity:1;stroke-miterlimit:10;\" d=\"M 129.707031 180.234375 C 129.707031 183.832031 124.308594 183.832031 124.308594 180.234375 C 124.308594 176.632813 129.707031 176.632813 129.707031 180.234375 \"/>\n",
       "<path style=\"fill:none;stroke-width:0.75;stroke-linecap:round;stroke-linejoin:round;stroke:rgb(0%,0%,0%);stroke-opacity:1;stroke-miterlimit:10;\" d=\"M 130.09375 179.507813 C 130.09375 183.109375 124.691406 183.109375 124.691406 179.507813 C 124.691406 175.910156 130.09375 175.910156 130.09375 179.507813 \"/>\n",
       "<path style=\"fill:none;stroke-width:0.75;stroke-linecap:round;stroke-linejoin:round;stroke:rgb(0%,0%,0%);stroke-opacity:1;stroke-miterlimit:10;\" d=\"M 130.476563 178.789063 C 130.476563 182.390625 125.074219 182.390625 125.074219 178.789063 C 125.074219 175.1875 130.476563 175.1875 130.476563 178.789063 \"/>\n",
       "<path style=\"fill:none;stroke-width:0.75;stroke-linecap:round;stroke-linejoin:round;stroke:rgb(0%,0%,0%);stroke-opacity:1;stroke-miterlimit:10;\" d=\"M 130.859375 178.074219 C 130.859375 181.671875 125.460938 181.671875 125.460938 178.074219 C 125.460938 174.472656 130.859375 174.472656 130.859375 178.074219 \"/>\n",
       "<path style=\"fill:none;stroke-width:0.75;stroke-linecap:round;stroke-linejoin:round;stroke:rgb(0%,0%,0%);stroke-opacity:1;stroke-miterlimit:10;\" d=\"M 131.242188 177.359375 C 131.242188 180.960938 125.84375 180.960938 125.84375 177.359375 C 125.84375 173.761719 131.242188 173.761719 131.242188 177.359375 \"/>\n",
       "<path style=\"fill:none;stroke-width:0.75;stroke-linecap:round;stroke-linejoin:round;stroke:rgb(0%,0%,0%);stroke-opacity:1;stroke-miterlimit:10;\" d=\"M 131.628906 176.652344 C 131.628906 180.253906 126.226563 180.253906 126.226563 176.652344 C 126.226563 173.054688 131.628906 173.054688 131.628906 176.652344 \"/>\n",
       "<path style=\"fill:none;stroke-width:0.75;stroke-linecap:round;stroke-linejoin:round;stroke:rgb(0%,0%,0%);stroke-opacity:1;stroke-miterlimit:10;\" d=\"M 132.011719 175.949219 C 132.011719 179.550781 126.613281 179.550781 126.613281 175.949219 C 126.613281 172.351563 132.011719 172.351563 132.011719 175.949219 \"/>\n",
       "<path style=\"fill:none;stroke-width:0.75;stroke-linecap:round;stroke-linejoin:round;stroke:rgb(0%,0%,0%);stroke-opacity:1;stroke-miterlimit:10;\" d=\"M 132.394531 175.25 C 132.394531 178.851563 126.996094 178.851563 126.996094 175.25 C 126.996094 171.648438 132.394531 171.648438 132.394531 175.25 \"/>\n",
       "<path style=\"fill:none;stroke-width:0.75;stroke-linecap:round;stroke-linejoin:round;stroke:rgb(0%,0%,0%);stroke-opacity:1;stroke-miterlimit:10;\" d=\"M 132.78125 174.554688 C 132.78125 178.15625 127.378906 178.15625 127.378906 174.554688 C 127.378906 170.953125 132.78125 170.953125 132.78125 174.554688 \"/>\n",
       "<path style=\"fill:none;stroke-width:0.75;stroke-linecap:round;stroke-linejoin:round;stroke:rgb(0%,0%,0%);stroke-opacity:1;stroke-miterlimit:10;\" d=\"M 133.164063 173.863281 C 133.164063 177.464844 127.765625 177.464844 127.765625 173.863281 C 127.765625 170.261719 133.164063 170.261719 133.164063 173.863281 \"/>\n",
       "<path style=\"fill:none;stroke-width:0.75;stroke-linecap:round;stroke-linejoin:round;stroke:rgb(0%,0%,0%);stroke-opacity:1;stroke-miterlimit:10;\" d=\"M 133.546875 173.175781 C 133.546875 176.773438 128.148438 176.773438 128.148438 173.175781 C 128.148438 169.574219 133.546875 169.574219 133.546875 173.175781 \"/>\n",
       "<path style=\"fill:none;stroke-width:0.75;stroke-linecap:round;stroke-linejoin:round;stroke:rgb(0%,0%,0%);stroke-opacity:1;stroke-miterlimit:10;\" d=\"M 133.933594 172.492188 C 133.933594 176.089844 128.53125 176.089844 128.53125 172.492188 C 128.53125 168.890625 133.933594 168.890625 133.933594 172.492188 \"/>\n",
       "<path style=\"fill:none;stroke-width:0.75;stroke-linecap:round;stroke-linejoin:round;stroke:rgb(0%,0%,0%);stroke-opacity:1;stroke-miterlimit:10;\" d=\"M 134.316406 171.8125 C 134.316406 175.410156 128.914063 175.410156 128.914063 171.8125 C 128.914063 168.210938 134.316406 168.210938 134.316406 171.8125 \"/>\n",
       "<path style=\"fill:none;stroke-width:0.75;stroke-linecap:round;stroke-linejoin:round;stroke:rgb(0%,0%,0%);stroke-opacity:1;stroke-miterlimit:10;\" d=\"M 134.699219 171.136719 C 134.699219 174.734375 129.300781 174.734375 129.300781 171.136719 C 129.300781 167.535156 134.699219 167.535156 134.699219 171.136719 \"/>\n",
       "<path style=\"fill:none;stroke-width:0.75;stroke-linecap:round;stroke-linejoin:round;stroke:rgb(0%,0%,0%);stroke-opacity:1;stroke-miterlimit:10;\" d=\"M 135.085938 170.460938 C 135.085938 174.0625 129.683594 174.0625 129.683594 170.460938 C 129.683594 166.863281 135.085938 166.863281 135.085938 170.460938 \"/>\n",
       "<path style=\"fill:none;stroke-width:0.75;stroke-linecap:round;stroke-linejoin:round;stroke:rgb(0%,0%,0%);stroke-opacity:1;stroke-miterlimit:10;\" d=\"M 135.46875 169.792969 C 135.46875 173.394531 130.066406 173.394531 130.066406 169.792969 C 130.066406 166.195313 135.46875 166.195313 135.46875 169.792969 \"/>\n",
       "<path style=\"fill:none;stroke-width:0.75;stroke-linecap:round;stroke-linejoin:round;stroke:rgb(0%,0%,0%);stroke-opacity:1;stroke-miterlimit:10;\" d=\"M 135.851563 169.128906 C 135.851563 172.730469 130.453125 172.730469 130.453125 169.128906 C 130.453125 165.527344 135.851563 165.527344 135.851563 169.128906 \"/>\n",
       "<path style=\"fill:none;stroke-width:0.75;stroke-linecap:round;stroke-linejoin:round;stroke:rgb(0%,0%,0%);stroke-opacity:1;stroke-miterlimit:10;\" d=\"M 136.234375 168.46875 C 136.234375 172.066406 130.835938 172.066406 130.835938 168.46875 C 130.835938 164.867188 136.234375 164.867188 136.234375 168.46875 \"/>\n",
       "<path style=\"fill:none;stroke-width:0.75;stroke-linecap:round;stroke-linejoin:round;stroke:rgb(0%,0%,0%);stroke-opacity:1;stroke-miterlimit:10;\" d=\"M 136.621094 167.808594 C 136.621094 171.410156 131.21875 171.410156 131.21875 167.808594 C 131.21875 164.210938 136.621094 164.210938 136.621094 167.808594 \"/>\n",
       "<path style=\"fill:none;stroke-width:0.75;stroke-linecap:round;stroke-linejoin:round;stroke:rgb(0%,0%,0%);stroke-opacity:1;stroke-miterlimit:10;\" d=\"M 137.003906 167.15625 C 137.003906 170.753906 131.605469 170.753906 131.605469 167.15625 C 131.605469 163.554688 137.003906 163.554688 137.003906 167.15625 \"/>\n",
       "<path style=\"fill:none;stroke-width:0.75;stroke-linecap:round;stroke-linejoin:round;stroke:rgb(0%,0%,0%);stroke-opacity:1;stroke-miterlimit:10;\" d=\"M 137.386719 166.503906 C 137.386719 170.105469 131.988281 170.105469 131.988281 166.503906 C 131.988281 162.90625 137.386719 162.90625 137.386719 166.503906 \"/>\n",
       "<path style=\"fill:none;stroke-width:0.75;stroke-linecap:round;stroke-linejoin:round;stroke:rgb(0%,0%,0%);stroke-opacity:1;stroke-miterlimit:10;\" d=\"M 137.773438 165.859375 C 137.773438 169.457031 132.371094 169.457031 132.371094 165.859375 C 132.371094 162.257813 137.773438 162.257813 137.773438 165.859375 \"/>\n",
       "<path style=\"fill:none;stroke-width:0.75;stroke-linecap:round;stroke-linejoin:round;stroke:rgb(0%,0%,0%);stroke-opacity:1;stroke-miterlimit:10;\" d=\"M 138.15625 165.214844 C 138.15625 168.816406 132.757813 168.816406 132.757813 165.214844 C 132.757813 161.613281 138.15625 161.613281 138.15625 165.214844 \"/>\n",
       "<path style=\"fill:none;stroke-width:0.75;stroke-linecap:round;stroke-linejoin:round;stroke:rgb(0%,0%,0%);stroke-opacity:1;stroke-miterlimit:10;\" d=\"M 138.539063 164.574219 C 138.539063 168.175781 133.140625 168.175781 133.140625 164.574219 C 133.140625 160.976563 138.539063 160.976563 138.539063 164.574219 \"/>\n",
       "<path style=\"fill:none;stroke-width:0.75;stroke-linecap:round;stroke-linejoin:round;stroke:rgb(0%,0%,0%);stroke-opacity:1;stroke-miterlimit:10;\" d=\"M 138.925781 163.9375 C 138.925781 167.539063 133.523438 167.539063 133.523438 163.9375 C 133.523438 160.339844 138.925781 160.339844 138.925781 163.9375 \"/>\n",
       "<path style=\"fill:none;stroke-width:0.75;stroke-linecap:round;stroke-linejoin:round;stroke:rgb(0%,0%,0%);stroke-opacity:1;stroke-miterlimit:10;\" d=\"M 139.308594 163.304688 C 139.308594 166.90625 133.90625 166.90625 133.90625 163.304688 C 133.90625 159.707031 139.308594 159.707031 139.308594 163.304688 \"/>\n",
       "<path style=\"fill:none;stroke-width:0.75;stroke-linecap:round;stroke-linejoin:round;stroke:rgb(0%,0%,0%);stroke-opacity:1;stroke-miterlimit:10;\" d=\"M 139.691406 162.675781 C 139.691406 166.277344 134.292969 166.277344 134.292969 162.675781 C 134.292969 159.078125 139.691406 159.078125 139.691406 162.675781 \"/>\n",
       "<path style=\"fill:none;stroke-width:0.75;stroke-linecap:round;stroke-linejoin:round;stroke:rgb(0%,0%,0%);stroke-opacity:1;stroke-miterlimit:10;\" d=\"M 140.074219 162.050781 C 140.074219 165.652344 134.675781 165.652344 134.675781 162.050781 C 134.675781 158.449219 140.074219 158.449219 140.074219 162.050781 \"/>\n",
       "<path style=\"fill:none;stroke-width:0.75;stroke-linecap:round;stroke-linejoin:round;stroke:rgb(0%,0%,0%);stroke-opacity:1;stroke-miterlimit:10;\" d=\"M 140.460938 161.429688 C 140.460938 165.027344 135.058594 165.027344 135.058594 161.429688 C 135.058594 157.828125 140.460938 157.828125 140.460938 161.429688 \"/>\n",
       "<path style=\"fill:none;stroke-width:0.75;stroke-linecap:round;stroke-linejoin:round;stroke:rgb(0%,0%,0%);stroke-opacity:1;stroke-miterlimit:10;\" d=\"M 140.84375 160.808594 C 140.84375 164.410156 135.445313 164.410156 135.445313 160.808594 C 135.445313 157.207031 140.84375 157.207031 140.84375 160.808594 \"/>\n",
       "<path style=\"fill:none;stroke-width:0.75;stroke-linecap:round;stroke-linejoin:round;stroke:rgb(0%,0%,0%);stroke-opacity:1;stroke-miterlimit:10;\" d=\"M 141.226563 160.191406 C 141.226563 163.792969 135.828125 163.792969 135.828125 160.191406 C 135.828125 156.59375 141.226563 156.59375 141.226563 160.191406 \"/>\n",
       "<path style=\"fill:none;stroke-width:0.75;stroke-linecap:round;stroke-linejoin:round;stroke:rgb(0%,0%,0%);stroke-opacity:1;stroke-miterlimit:10;\" d=\"M 141.613281 159.578125 C 141.613281 163.179688 136.210938 163.179688 136.210938 159.578125 C 136.210938 155.980469 141.613281 155.980469 141.613281 159.578125 \"/>\n",
       "<path style=\"fill:none;stroke-width:0.75;stroke-linecap:round;stroke-linejoin:round;stroke:rgb(0%,0%,0%);stroke-opacity:1;stroke-miterlimit:10;\" d=\"M 141.996094 158.96875 C 141.996094 162.570313 136.597656 162.570313 136.597656 158.96875 C 136.597656 155.371094 141.996094 155.371094 141.996094 158.96875 \"/>\n",
       "<path style=\"fill:none;stroke-width:0.75;stroke-linecap:round;stroke-linejoin:round;stroke:rgb(0%,0%,0%);stroke-opacity:1;stroke-miterlimit:10;\" d=\"M 142.378906 158.363281 C 142.378906 161.964844 136.980469 161.964844 136.980469 158.363281 C 136.980469 154.765625 142.378906 154.765625 142.378906 158.363281 \"/>\n",
       "<path style=\"fill:none;stroke-width:0.75;stroke-linecap:round;stroke-linejoin:round;stroke:rgb(0%,0%,0%);stroke-opacity:1;stroke-miterlimit:10;\" d=\"M 142.765625 157.761719 C 142.765625 161.363281 137.363281 161.363281 137.363281 157.761719 C 137.363281 154.160156 142.765625 154.160156 142.765625 157.761719 \"/>\n",
       "<path style=\"fill:none;stroke-width:0.75;stroke-linecap:round;stroke-linejoin:round;stroke:rgb(0%,0%,0%);stroke-opacity:1;stroke-miterlimit:10;\" d=\"M 143.148438 157.164063 C 143.148438 160.761719 137.746094 160.761719 137.746094 157.164063 C 137.746094 153.5625 143.148438 153.5625 143.148438 157.164063 \"/>\n",
       "<path style=\"fill:none;stroke-width:0.75;stroke-linecap:round;stroke-linejoin:round;stroke:rgb(0%,0%,0%);stroke-opacity:1;stroke-miterlimit:10;\" d=\"M 143.53125 156.566406 C 143.53125 160.164063 138.132813 160.164063 138.132813 156.566406 C 138.132813 152.964844 143.53125 152.964844 143.53125 156.566406 \"/>\n",
       "<path style=\"fill:none;stroke-width:0.75;stroke-linecap:round;stroke-linejoin:round;stroke:rgb(0%,0%,0%);stroke-opacity:1;stroke-miterlimit:10;\" d=\"M 143.914063 155.972656 C 143.914063 159.574219 138.515625 159.574219 138.515625 155.972656 C 138.515625 152.371094 143.914063 152.371094 143.914063 155.972656 \"/>\n",
       "<path style=\"fill:none;stroke-width:0.75;stroke-linecap:round;stroke-linejoin:round;stroke:rgb(0%,0%,0%);stroke-opacity:1;stroke-miterlimit:10;\" d=\"M 144.300781 155.382813 C 144.300781 158.984375 138.898438 158.984375 138.898438 155.382813 C 138.898438 151.78125 144.300781 151.78125 144.300781 155.382813 \"/>\n",
       "<path style=\"fill:none;stroke-width:0.75;stroke-linecap:round;stroke-linejoin:round;stroke:rgb(0%,0%,0%);stroke-opacity:1;stroke-miterlimit:10;\" d=\"M 144.683594 154.796875 C 144.683594 158.394531 139.285156 158.394531 139.285156 154.796875 C 139.285156 151.195313 144.683594 151.195313 144.683594 154.796875 \"/>\n",
       "<path style=\"fill:none;stroke-width:0.75;stroke-linecap:round;stroke-linejoin:round;stroke:rgb(0%,0%,0%);stroke-opacity:1;stroke-miterlimit:10;\" d=\"M 145.066406 154.210938 C 145.066406 157.8125 139.667969 157.8125 139.667969 154.210938 C 139.667969 150.613281 145.066406 150.613281 145.066406 154.210938 \"/>\n",
       "<path style=\"fill:none;stroke-width:0.75;stroke-linecap:round;stroke-linejoin:round;stroke:rgb(0%,0%,0%);stroke-opacity:1;stroke-miterlimit:10;\" d=\"M 145.453125 153.632813 C 145.453125 157.230469 140.050781 157.230469 140.050781 153.632813 C 140.050781 150.03125 145.453125 150.03125 145.453125 153.632813 \"/>\n",
       "<path style=\"fill:none;stroke-width:0.75;stroke-linecap:round;stroke-linejoin:round;stroke:rgb(0%,0%,0%);stroke-opacity:1;stroke-miterlimit:10;\" d=\"M 145.835938 153.054688 C 145.835938 156.652344 140.4375 156.652344 140.4375 153.054688 C 140.4375 149.453125 145.835938 149.453125 145.835938 153.054688 \"/>\n",
       "<path style=\"fill:none;stroke-width:0.75;stroke-linecap:round;stroke-linejoin:round;stroke:rgb(0%,0%,0%);stroke-opacity:1;stroke-miterlimit:10;\" d=\"M 146.21875 152.480469 C 146.21875 156.078125 140.820313 156.078125 140.820313 152.480469 C 140.820313 148.878906 146.21875 148.878906 146.21875 152.480469 \"/>\n",
       "<path style=\"fill:none;stroke-width:0.75;stroke-linecap:round;stroke-linejoin:round;stroke:rgb(0%,0%,0%);stroke-opacity:1;stroke-miterlimit:10;\" d=\"M 146.605469 151.90625 C 146.605469 155.507813 141.203125 155.507813 141.203125 151.90625 C 141.203125 148.308594 146.605469 148.308594 146.605469 151.90625 \"/>\n",
       "<path style=\"fill:none;stroke-width:0.75;stroke-linecap:round;stroke-linejoin:round;stroke:rgb(0%,0%,0%);stroke-opacity:1;stroke-miterlimit:10;\" d=\"M 146.988281 151.339844 C 146.988281 154.9375 141.589844 154.9375 141.589844 151.339844 C 141.589844 147.738281 146.988281 147.738281 146.988281 151.339844 \"/>\n",
       "<path style=\"fill:none;stroke-width:0.75;stroke-linecap:round;stroke-linejoin:round;stroke:rgb(0%,0%,0%);stroke-opacity:1;stroke-miterlimit:10;\" d=\"M 147.371094 150.773438 C 147.371094 154.375 141.972656 154.375 141.972656 150.773438 C 141.972656 147.171875 147.371094 147.171875 147.371094 150.773438 \"/>\n",
       "<path style=\"fill:none;stroke-width:0.75;stroke-linecap:round;stroke-linejoin:round;stroke:rgb(0%,0%,0%);stroke-opacity:1;stroke-miterlimit:10;\" d=\"M 147.757813 150.210938 C 147.757813 153.8125 142.355469 153.8125 142.355469 150.210938 C 142.355469 146.609375 147.757813 146.609375 147.757813 150.210938 \"/>\n",
       "<path style=\"fill:none;stroke-width:0.75;stroke-linecap:round;stroke-linejoin:round;stroke:rgb(0%,0%,0%);stroke-opacity:1;stroke-miterlimit:10;\" d=\"M 148.140625 149.652344 C 148.140625 153.25 142.738281 153.25 142.738281 149.652344 C 142.738281 146.050781 148.140625 146.050781 148.140625 149.652344 \"/>\n",
       "<path style=\"fill:none;stroke-width:0.75;stroke-linecap:round;stroke-linejoin:round;stroke:rgb(0%,0%,0%);stroke-opacity:1;stroke-miterlimit:10;\" d=\"M 148.523438 149.09375 C 148.523438 152.695313 143.125 152.695313 143.125 149.09375 C 143.125 145.496094 148.523438 145.496094 148.523438 149.09375 \"/>\n",
       "<path style=\"fill:none;stroke-width:0.75;stroke-linecap:round;stroke-linejoin:round;stroke:rgb(0%,0%,0%);stroke-opacity:1;stroke-miterlimit:10;\" d=\"M 148.90625 148.539063 C 148.90625 152.140625 143.507813 152.140625 143.507813 148.539063 C 143.507813 144.941406 148.90625 144.941406 148.90625 148.539063 \"/>\n",
       "<path style=\"fill:none;stroke-width:0.75;stroke-linecap:round;stroke-linejoin:round;stroke:rgb(0%,0%,0%);stroke-opacity:1;stroke-miterlimit:10;\" d=\"M 149.292969 147.988281 C 149.292969 151.589844 143.890625 151.589844 143.890625 147.988281 C 143.890625 144.390625 149.292969 144.390625 149.292969 147.988281 \"/>\n",
       "<path style=\"fill:none;stroke-width:0.75;stroke-linecap:round;stroke-linejoin:round;stroke:rgb(0%,0%,0%);stroke-opacity:1;stroke-miterlimit:10;\" d=\"M 149.675781 147.441406 C 149.675781 151.042969 144.277344 151.042969 144.277344 147.441406 C 144.277344 143.84375 149.675781 143.84375 149.675781 147.441406 \"/>\n",
       "<path style=\"fill:none;stroke-width:0.75;stroke-linecap:round;stroke-linejoin:round;stroke:rgb(0%,0%,0%);stroke-opacity:1;stroke-miterlimit:10;\" d=\"M 150.058594 146.898438 C 150.058594 150.496094 144.660156 150.496094 144.660156 146.898438 C 144.660156 143.296875 150.058594 143.296875 150.058594 146.898438 \"/>\n",
       "<path style=\"fill:none;stroke-width:0.75;stroke-linecap:round;stroke-linejoin:round;stroke:rgb(0%,0%,0%);stroke-opacity:1;stroke-miterlimit:10;\" d=\"M 150.445313 146.355469 C 150.445313 149.953125 145.042969 149.953125 145.042969 146.355469 C 145.042969 142.753906 150.445313 142.753906 150.445313 146.355469 \"/>\n",
       "<path style=\"fill:none;stroke-width:0.75;stroke-linecap:round;stroke-linejoin:round;stroke:rgb(0%,0%,0%);stroke-opacity:1;stroke-miterlimit:10;\" d=\"M 150.828125 145.816406 C 150.828125 149.414063 145.429688 149.414063 145.429688 145.816406 C 145.429688 142.214844 150.828125 142.214844 150.828125 145.816406 \"/>\n",
       "<path style=\"fill:none;stroke-width:0.75;stroke-linecap:round;stroke-linejoin:round;stroke:rgb(0%,0%,0%);stroke-opacity:1;stroke-miterlimit:10;\" d=\"M 151.210938 145.277344 C 151.210938 148.878906 145.8125 148.878906 145.8125 145.277344 C 145.8125 141.679688 151.210938 141.679688 151.210938 145.277344 \"/>\n",
       "<path style=\"fill:none;stroke-width:0.75;stroke-linecap:round;stroke-linejoin:round;stroke:rgb(0%,0%,0%);stroke-opacity:1;stroke-miterlimit:10;\" d=\"M 151.597656 144.746094 C 151.597656 148.34375 146.195313 148.34375 146.195313 144.746094 C 146.195313 141.144531 151.597656 141.144531 151.597656 144.746094 \"/>\n",
       "<path style=\"fill:none;stroke-width:0.75;stroke-linecap:round;stroke-linejoin:round;stroke:rgb(0%,0%,0%);stroke-opacity:1;stroke-miterlimit:10;\" d=\"M 151.980469 144.214844 C 151.980469 147.8125 146.578125 147.8125 146.578125 144.214844 C 146.578125 140.613281 151.980469 140.613281 151.980469 144.214844 \"/>\n",
       "<path style=\"fill:none;stroke-width:0.75;stroke-linecap:round;stroke-linejoin:round;stroke:rgb(0%,0%,0%);stroke-opacity:1;stroke-miterlimit:10;\" d=\"M 152.363281 143.6875 C 152.363281 147.285156 146.964844 147.285156 146.964844 143.6875 C 146.964844 140.085938 152.363281 140.085938 152.363281 143.6875 \"/>\n",
       "<path style=\"fill:none;stroke-width:0.75;stroke-linecap:round;stroke-linejoin:round;stroke:rgb(0%,0%,0%);stroke-opacity:1;stroke-miterlimit:10;\" d=\"M 152.746094 143.160156 C 152.746094 146.761719 147.347656 146.761719 147.347656 143.160156 C 147.347656 139.558594 152.746094 139.558594 152.746094 143.160156 \"/>\n",
       "<path style=\"fill:none;stroke-width:0.75;stroke-linecap:round;stroke-linejoin:round;stroke:rgb(0%,0%,0%);stroke-opacity:1;stroke-miterlimit:10;\" d=\"M 153.132813 142.636719 C 153.132813 146.238281 147.730469 146.238281 147.730469 142.636719 C 147.730469 139.039063 153.132813 139.039063 153.132813 142.636719 \"/>\n",
       "<path style=\"fill:none;stroke-width:0.75;stroke-linecap:round;stroke-linejoin:round;stroke:rgb(0%,0%,0%);stroke-opacity:1;stroke-miterlimit:10;\" d=\"M 153.515625 142.117188 C 153.515625 145.71875 148.117188 145.71875 148.117188 142.117188 C 148.117188 138.515625 153.515625 138.515625 153.515625 142.117188 \"/>\n",
       "<path style=\"fill:none;stroke-width:0.75;stroke-linecap:round;stroke-linejoin:round;stroke:rgb(0%,0%,0%);stroke-opacity:1;stroke-miterlimit:10;\" d=\"M 153.898438 141.601563 C 153.898438 145.199219 148.5 145.199219 148.5 141.601563 C 148.5 138 153.898438 138 153.898438 141.601563 \"/>\n",
       "<path style=\"fill:none;stroke-width:0.75;stroke-linecap:round;stroke-linejoin:round;stroke:rgb(0%,0%,0%);stroke-opacity:1;stroke-miterlimit:10;\" d=\"M 154.285156 141.085938 C 154.285156 144.683594 148.882813 144.683594 148.882813 141.085938 C 148.882813 137.484375 154.285156 137.484375 154.285156 141.085938 \"/>\n",
       "<path style=\"fill:none;stroke-width:0.75;stroke-linecap:round;stroke-linejoin:round;stroke:rgb(0%,0%,0%);stroke-opacity:1;stroke-miterlimit:10;\" d=\"M 154.667969 140.574219 C 154.667969 144.171875 149.269531 144.171875 149.269531 140.574219 C 149.269531 136.972656 154.667969 136.972656 154.667969 140.574219 \"/>\n",
       "<path style=\"fill:none;stroke-width:0.75;stroke-linecap:round;stroke-linejoin:round;stroke:rgb(0%,0%,0%);stroke-opacity:1;stroke-miterlimit:10;\" d=\"M 155.050781 140.0625 C 155.050781 143.664063 149.652344 143.664063 149.652344 140.0625 C 149.652344 136.464844 155.050781 136.464844 155.050781 140.0625 \"/>\n",
       "<path style=\"fill:none;stroke-width:0.75;stroke-linecap:round;stroke-linejoin:round;stroke:rgb(0%,0%,0%);stroke-opacity:1;stroke-miterlimit:10;\" d=\"M 155.4375 139.558594 C 155.4375 143.15625 150.035156 143.15625 150.035156 139.558594 C 150.035156 135.957031 155.4375 135.957031 155.4375 139.558594 \"/>\n",
       "<path style=\"fill:none;stroke-width:0.75;stroke-linecap:round;stroke-linejoin:round;stroke:rgb(0%,0%,0%);stroke-opacity:1;stroke-miterlimit:10;\" d=\"M 155.820313 139.054688 C 155.820313 142.652344 150.421875 142.652344 150.421875 139.054688 C 150.421875 135.453125 155.820313 135.453125 155.820313 139.054688 \"/>\n",
       "<path style=\"fill:none;stroke-width:0.75;stroke-linecap:round;stroke-linejoin:round;stroke:rgb(0%,0%,0%);stroke-opacity:1;stroke-miterlimit:10;\" d=\"M 156.203125 138.550781 C 156.203125 142.152344 150.804688 142.152344 150.804688 138.550781 C 150.804688 134.953125 156.203125 134.953125 156.203125 138.550781 \"/>\n",
       "<path style=\"fill:none;stroke-width:0.75;stroke-linecap:round;stroke-linejoin:round;stroke:rgb(0%,0%,0%);stroke-opacity:1;stroke-miterlimit:10;\" d=\"M 156.589844 138.054688 C 156.589844 141.652344 151.1875 141.652344 151.1875 138.054688 C 151.1875 134.453125 156.589844 134.453125 156.589844 138.054688 \"/>\n",
       "<path style=\"fill:none;stroke-width:0.75;stroke-linecap:round;stroke-linejoin:round;stroke:rgb(0%,0%,0%);stroke-opacity:1;stroke-miterlimit:10;\" d=\"M 156.972656 137.558594 C 156.972656 141.15625 151.570313 141.15625 151.570313 137.558594 C 151.570313 133.957031 156.972656 133.957031 156.972656 137.558594 \"/>\n",
       "<path style=\"fill:none;stroke-width:0.75;stroke-linecap:round;stroke-linejoin:round;stroke:rgb(0%,0%,0%);stroke-opacity:1;stroke-miterlimit:10;\" d=\"M 157.355469 137.0625 C 157.355469 140.664063 151.957031 140.664063 151.957031 137.0625 C 151.957031 133.464844 157.355469 133.464844 157.355469 137.0625 \"/>\n",
       "<path style=\"fill:none;stroke-width:0.75;stroke-linecap:round;stroke-linejoin:round;stroke:rgb(0%,0%,0%);stroke-opacity:1;stroke-miterlimit:10;\" d=\"M 157.738281 136.570313 C 157.738281 140.171875 152.339844 140.171875 152.339844 136.570313 C 152.339844 132.972656 157.738281 132.972656 157.738281 136.570313 \"/>\n",
       "<path style=\"fill:none;stroke-width:0.75;stroke-linecap:round;stroke-linejoin:round;stroke:rgb(0%,0%,0%);stroke-opacity:1;stroke-miterlimit:10;\" d=\"M 158.125 136.082031 C 158.125 139.683594 152.722656 139.683594 152.722656 136.082031 C 152.722656 132.484375 158.125 132.484375 158.125 136.082031 \"/>\n",
       "<path style=\"fill:none;stroke-width:0.75;stroke-linecap:round;stroke-linejoin:round;stroke:rgb(0%,0%,0%);stroke-opacity:1;stroke-miterlimit:10;\" d=\"M 158.507813 135.597656 C 158.507813 139.199219 153.109375 139.199219 153.109375 135.597656 C 153.109375 131.996094 158.507813 131.996094 158.507813 135.597656 \"/>\n",
       "<path style=\"fill:none;stroke-width:0.75;stroke-linecap:round;stroke-linejoin:round;stroke:rgb(0%,0%,0%);stroke-opacity:1;stroke-miterlimit:10;\" d=\"M 158.890625 135.113281 C 158.890625 138.714844 153.492188 138.714844 153.492188 135.113281 C 153.492188 131.515625 158.890625 131.515625 158.890625 135.113281 \"/>\n",
       "<path style=\"fill:none;stroke-width:0.75;stroke-linecap:round;stroke-linejoin:round;stroke:rgb(0%,0%,0%);stroke-opacity:1;stroke-miterlimit:10;\" d=\"M 159.277344 134.632813 C 159.277344 138.234375 153.875 138.234375 153.875 134.632813 C 153.875 131.03125 159.277344 131.03125 159.277344 134.632813 \"/>\n",
       "<path style=\"fill:none;stroke-width:0.75;stroke-linecap:round;stroke-linejoin:round;stroke:rgb(0%,0%,0%);stroke-opacity:1;stroke-miterlimit:10;\" d=\"M 159.660156 134.152344 C 159.660156 137.753906 154.261719 137.753906 154.261719 134.152344 C 154.261719 130.554688 159.660156 130.554688 159.660156 134.152344 \"/>\n",
       "<path style=\"fill:none;stroke-width:0.75;stroke-linecap:round;stroke-linejoin:round;stroke:rgb(0%,0%,0%);stroke-opacity:1;stroke-miterlimit:10;\" d=\"M 160.042969 133.679688 C 160.042969 137.277344 154.644531 137.277344 154.644531 133.679688 C 154.644531 130.078125 160.042969 130.078125 160.042969 133.679688 \"/>\n",
       "<path style=\"fill:none;stroke-width:0.75;stroke-linecap:round;stroke-linejoin:round;stroke:rgb(0%,0%,0%);stroke-opacity:1;stroke-miterlimit:10;\" d=\"M 160.429688 133.203125 C 160.429688 136.804688 155.027344 136.804688 155.027344 133.203125 C 155.027344 129.605469 160.429688 129.605469 160.429688 133.203125 \"/>\n",
       "<path style=\"fill:none;stroke-width:0.75;stroke-linecap:round;stroke-linejoin:round;stroke:rgb(0%,0%,0%);stroke-opacity:1;stroke-miterlimit:10;\" d=\"M 160.8125 132.734375 C 160.8125 136.332031 155.410156 136.332031 155.410156 132.734375 C 155.410156 129.132813 160.8125 129.132813 160.8125 132.734375 \"/>\n",
       "<path style=\"fill:none;stroke-width:0.75;stroke-linecap:round;stroke-linejoin:round;stroke:rgb(0%,0%,0%);stroke-opacity:1;stroke-miterlimit:10;\" d=\"M 161.195313 132.265625 C 161.195313 135.863281 155.796875 135.863281 155.796875 132.265625 C 155.796875 128.664063 161.195313 128.664063 161.195313 132.265625 \"/>\n",
       "<path style=\"fill:none;stroke-width:0.75;stroke-linecap:round;stroke-linejoin:round;stroke:rgb(0%,0%,0%);stroke-opacity:1;stroke-miterlimit:10;\" d=\"M 161.578125 131.796875 C 161.578125 135.398438 156.179688 135.398438 156.179688 131.796875 C 156.179688 128.199219 161.578125 128.199219 161.578125 131.796875 \"/>\n",
       "<path style=\"fill:none;stroke-width:0.75;stroke-linecap:round;stroke-linejoin:round;stroke:rgb(0%,0%,0%);stroke-opacity:1;stroke-miterlimit:10;\" d=\"M 161.964844 131.335938 C 161.964844 134.933594 156.5625 134.933594 156.5625 131.335938 C 156.5625 127.734375 161.964844 127.734375 161.964844 131.335938 \"/>\n",
       "<path style=\"fill:none;stroke-width:0.75;stroke-linecap:round;stroke-linejoin:round;stroke:rgb(0%,0%,0%);stroke-opacity:1;stroke-miterlimit:10;\" d=\"M 162.347656 130.875 C 162.347656 134.472656 156.949219 134.472656 156.949219 130.875 C 156.949219 127.273438 162.347656 127.273438 162.347656 130.875 \"/>\n",
       "<path style=\"fill:none;stroke-width:0.75;stroke-linecap:round;stroke-linejoin:round;stroke:rgb(0%,0%,0%);stroke-opacity:1;stroke-miterlimit:10;\" d=\"M 162.730469 130.414063 C 162.730469 134.015625 157.332031 134.015625 157.332031 130.414063 C 157.332031 126.8125 162.730469 126.8125 162.730469 130.414063 \"/>\n",
       "<path style=\"fill:none;stroke-width:0.75;stroke-linecap:round;stroke-linejoin:round;stroke:rgb(0%,0%,0%);stroke-opacity:1;stroke-miterlimit:10;\" d=\"M 163.117188 129.957031 C 163.117188 133.558594 157.714844 133.558594 157.714844 129.957031 C 157.714844 126.359375 163.117188 126.359375 163.117188 129.957031 \"/>\n",
       "<path style=\"fill:none;stroke-width:0.75;stroke-linecap:round;stroke-linejoin:round;stroke:rgb(0%,0%,0%);stroke-opacity:1;stroke-miterlimit:10;\" d=\"M 163.5 129.503906 C 163.5 133.101563 158.101563 133.101563 158.101563 129.503906 C 158.101563 125.902344 163.5 125.902344 163.5 129.503906 \"/>\n",
       "<path style=\"fill:none;stroke-width:0.75;stroke-linecap:round;stroke-linejoin:round;stroke:rgb(0%,0%,0%);stroke-opacity:1;stroke-miterlimit:10;\" d=\"M 163.882813 129.050781 C 163.882813 132.652344 158.484375 132.652344 158.484375 129.050781 C 158.484375 125.453125 163.882813 125.453125 163.882813 129.050781 \"/>\n",
       "<path style=\"fill:none;stroke-width:0.75;stroke-linecap:round;stroke-linejoin:round;stroke:rgb(0%,0%,0%);stroke-opacity:1;stroke-miterlimit:10;\" d=\"M 164.269531 128.601563 C 164.269531 132.203125 158.867188 132.203125 158.867188 128.601563 C 158.867188 125 164.269531 125 164.269531 128.601563 \"/>\n",
       "<path style=\"fill:none;stroke-width:0.75;stroke-linecap:round;stroke-linejoin:round;stroke:rgb(0%,0%,0%);stroke-opacity:1;stroke-miterlimit:10;\" d=\"M 164.652344 128.15625 C 164.652344 131.753906 159.253906 131.753906 159.253906 128.15625 C 159.253906 124.554688 164.652344 124.554688 164.652344 128.15625 \"/>\n",
       "<path style=\"fill:none;stroke-width:0.75;stroke-linecap:round;stroke-linejoin:round;stroke:rgb(0%,0%,0%);stroke-opacity:1;stroke-miterlimit:10;\" d=\"M 165.035156 127.710938 C 165.035156 131.308594 159.636719 131.308594 159.636719 127.710938 C 159.636719 124.109375 165.035156 124.109375 165.035156 127.710938 \"/>\n",
       "<path style=\"fill:none;stroke-width:0.75;stroke-linecap:round;stroke-linejoin:round;stroke:rgb(0%,0%,0%);stroke-opacity:1;stroke-miterlimit:10;\" d=\"M 165.421875 127.265625 C 165.421875 130.867188 160.019531 130.867188 160.019531 127.265625 C 160.019531 123.667969 165.421875 123.667969 165.421875 127.265625 \"/>\n",
       "<path style=\"fill:none;stroke-width:0.75;stroke-linecap:round;stroke-linejoin:round;stroke:rgb(0%,0%,0%);stroke-opacity:1;stroke-miterlimit:10;\" d=\"M 165.804688 126.828125 C 165.804688 130.425781 160.402344 130.425781 160.402344 126.828125 C 160.402344 123.226563 165.804688 123.226563 165.804688 126.828125 \"/>\n",
       "<path style=\"fill:none;stroke-width:0.75;stroke-linecap:round;stroke-linejoin:round;stroke:rgb(0%,0%,0%);stroke-opacity:1;stroke-miterlimit:10;\" d=\"M 166.1875 126.390625 C 166.1875 129.988281 160.789063 129.988281 160.789063 126.390625 C 160.789063 122.789063 166.1875 122.789063 166.1875 126.390625 \"/>\n",
       "<path style=\"fill:none;stroke-width:0.75;stroke-linecap:round;stroke-linejoin:round;stroke:rgb(0%,0%,0%);stroke-opacity:1;stroke-miterlimit:10;\" d=\"M 166.570313 125.953125 C 166.570313 129.554688 161.171875 129.554688 161.171875 125.953125 C 161.171875 122.351563 166.570313 122.351563 166.570313 125.953125 \"/>\n",
       "<path style=\"fill:none;stroke-width:0.75;stroke-linecap:round;stroke-linejoin:round;stroke:rgb(0%,0%,0%);stroke-opacity:1;stroke-miterlimit:10;\" d=\"M 166.957031 125.519531 C 166.957031 129.121094 161.554688 129.121094 161.554688 125.519531 C 161.554688 121.921875 166.957031 121.921875 166.957031 125.519531 \"/>\n",
       "<path style=\"fill:none;stroke-width:0.75;stroke-linecap:round;stroke-linejoin:round;stroke:rgb(0%,0%,0%);stroke-opacity:1;stroke-miterlimit:10;\" d=\"M 167.339844 125.089844 C 167.339844 128.6875 161.941406 128.6875 161.941406 125.089844 C 161.941406 121.488281 167.339844 121.488281 167.339844 125.089844 \"/>\n",
       "<path style=\"fill:none;stroke-width:0.75;stroke-linecap:round;stroke-linejoin:round;stroke:rgb(0%,0%,0%);stroke-opacity:1;stroke-miterlimit:10;\" d=\"M 167.722656 124.660156 C 167.722656 128.261719 162.324219 128.261719 162.324219 124.660156 C 162.324219 121.058594 167.722656 121.058594 167.722656 124.660156 \"/>\n",
       "<path style=\"fill:none;stroke-width:0.75;stroke-linecap:round;stroke-linejoin:round;stroke:rgb(0%,0%,0%);stroke-opacity:1;stroke-miterlimit:10;\" d=\"M 168.109375 124.234375 C 168.109375 127.832031 162.707031 127.832031 162.707031 124.234375 C 162.707031 120.632813 168.109375 120.632813 168.109375 124.234375 \"/>\n",
       "<path style=\"fill:none;stroke-width:0.75;stroke-linecap:round;stroke-linejoin:round;stroke:rgb(0%,0%,0%);stroke-opacity:1;stroke-miterlimit:10;\" d=\"M 168.492188 123.808594 C 168.492188 127.410156 163.09375 127.410156 163.09375 123.808594 C 163.09375 120.207031 168.492188 120.207031 168.492188 123.808594 \"/>\n",
       "<path style=\"fill:none;stroke-width:0.75;stroke-linecap:round;stroke-linejoin:round;stroke:rgb(0%,0%,0%);stroke-opacity:1;stroke-miterlimit:10;\" d=\"M 168.875 123.386719 C 168.875 126.988281 163.476563 126.988281 163.476563 123.386719 C 163.476563 119.785156 168.875 119.785156 168.875 123.386719 \"/>\n",
       "<path style=\"fill:none;stroke-width:0.75;stroke-linecap:round;stroke-linejoin:round;stroke:rgb(0%,0%,0%);stroke-opacity:1;stroke-miterlimit:10;\" d=\"M 169.261719 122.96875 C 169.261719 126.566406 163.859375 126.566406 163.859375 122.96875 C 163.859375 119.367188 169.261719 119.367188 169.261719 122.96875 \"/>\n",
       "<path style=\"fill:none;stroke-width:0.75;stroke-linecap:round;stroke-linejoin:round;stroke:rgb(0%,0%,0%);stroke-opacity:1;stroke-miterlimit:10;\" d=\"M 169.644531 122.550781 C 169.644531 126.148438 164.242188 126.148438 164.242188 122.550781 C 164.242188 118.949219 169.644531 118.949219 169.644531 122.550781 \"/>\n",
       "<path style=\"fill:none;stroke-width:0.75;stroke-linecap:round;stroke-linejoin:round;stroke:rgb(0%,0%,0%);stroke-opacity:1;stroke-miterlimit:10;\" d=\"M 170.027344 122.132813 C 170.027344 125.734375 164.628906 125.734375 164.628906 122.132813 C 164.628906 118.535156 170.027344 118.535156 170.027344 122.132813 \"/>\n",
       "<path style=\"fill:none;stroke-width:0.75;stroke-linecap:round;stroke-linejoin:round;stroke:rgb(0%,0%,0%);stroke-opacity:1;stroke-miterlimit:10;\" d=\"M 170.410156 121.71875 C 170.410156 125.320313 165.011719 125.320313 165.011719 121.71875 C 165.011719 118.121094 170.410156 118.121094 170.410156 121.71875 \"/>\n",
       "<path style=\"fill:none;stroke-width:0.75;stroke-linecap:round;stroke-linejoin:round;stroke:rgb(0%,0%,0%);stroke-opacity:1;stroke-miterlimit:10;\" d=\"M 170.796875 121.308594 C 170.796875 124.910156 165.394531 124.910156 165.394531 121.308594 C 165.394531 117.710938 170.796875 117.710938 170.796875 121.308594 \"/>\n",
       "<path style=\"fill:none;stroke-width:0.75;stroke-linecap:round;stroke-linejoin:round;stroke:rgb(0%,0%,0%);stroke-opacity:1;stroke-miterlimit:10;\" d=\"M 171.179688 120.898438 C 171.179688 124.5 165.78125 124.5 165.78125 120.898438 C 165.78125 117.300781 171.179688 117.300781 171.179688 120.898438 \"/>\n",
       "<path style=\"fill:none;stroke-width:0.75;stroke-linecap:round;stroke-linejoin:round;stroke:rgb(0%,0%,0%);stroke-opacity:1;stroke-miterlimit:10;\" d=\"M 171.5625 120.492188 C 171.5625 124.09375 166.164063 124.09375 166.164063 120.492188 C 166.164063 116.894531 171.5625 116.894531 171.5625 120.492188 \"/>\n",
       "<path style=\"fill:none;stroke-width:0.75;stroke-linecap:round;stroke-linejoin:round;stroke:rgb(0%,0%,0%);stroke-opacity:1;stroke-miterlimit:10;\" d=\"M 171.949219 120.089844 C 171.949219 123.6875 166.546875 123.6875 166.546875 120.089844 C 166.546875 116.488281 171.949219 116.488281 171.949219 120.089844 \"/>\n",
       "<path style=\"fill:none;stroke-width:0.75;stroke-linecap:round;stroke-linejoin:round;stroke:rgb(0%,0%,0%);stroke-opacity:1;stroke-miterlimit:10;\" d=\"M 172.332031 119.6875 C 172.332031 123.285156 166.933594 123.285156 166.933594 119.6875 C 166.933594 116.085938 172.332031 116.085938 172.332031 119.6875 \"/>\n",
       "<path style=\"fill:none;stroke-width:0.75;stroke-linecap:round;stroke-linejoin:round;stroke:rgb(0%,0%,0%);stroke-opacity:1;stroke-miterlimit:10;\" d=\"M 172.714844 119.285156 C 172.714844 122.886719 167.316406 122.886719 167.316406 119.285156 C 167.316406 115.683594 172.714844 115.683594 172.714844 119.285156 \"/>\n",
       "<path style=\"fill:none;stroke-width:0.75;stroke-linecap:round;stroke-linejoin:round;stroke:rgb(0%,0%,0%);stroke-opacity:1;stroke-miterlimit:10;\" d=\"M 173.101563 118.886719 C 173.101563 122.488281 167.699219 122.488281 167.699219 118.886719 C 167.699219 115.289063 173.101563 115.289063 173.101563 118.886719 \"/>\n",
       "<path style=\"fill:none;stroke-width:0.75;stroke-linecap:round;stroke-linejoin:round;stroke:rgb(0%,0%,0%);stroke-opacity:1;stroke-miterlimit:10;\" d=\"M 173.484375 118.492188 C 173.484375 122.089844 168.085938 122.089844 168.085938 118.492188 C 168.085938 114.890625 173.484375 114.890625 173.484375 118.492188 \"/>\n",
       "<path style=\"fill:none;stroke-width:0.75;stroke-linecap:round;stroke-linejoin:round;stroke:rgb(0%,0%,0%);stroke-opacity:1;stroke-miterlimit:10;\" d=\"M 173.867188 118.097656 C 173.867188 121.695313 168.46875 121.695313 168.46875 118.097656 C 168.46875 114.496094 173.867188 114.496094 173.867188 118.097656 \"/>\n",
       "<path style=\"fill:none;stroke-width:0.75;stroke-linecap:round;stroke-linejoin:round;stroke:rgb(0%,0%,0%);stroke-opacity:1;stroke-miterlimit:10;\" d=\"M 174.253906 117.707031 C 174.253906 121.304688 168.851563 121.304688 168.851563 117.707031 C 168.851563 114.105469 174.253906 114.105469 174.253906 117.707031 \"/>\n",
       "<path style=\"fill:none;stroke-width:0.75;stroke-linecap:round;stroke-linejoin:round;stroke:rgb(0%,0%,0%);stroke-opacity:1;stroke-miterlimit:10;\" d=\"M 174.636719 117.316406 C 174.636719 120.914063 169.234375 120.914063 169.234375 117.316406 C 169.234375 113.714844 174.636719 113.714844 174.636719 117.316406 \"/>\n",
       "<path style=\"fill:none;stroke-width:0.75;stroke-linecap:round;stroke-linejoin:round;stroke:rgb(0%,0%,0%);stroke-opacity:1;stroke-miterlimit:10;\" d=\"M 175.019531 116.925781 C 175.019531 120.527344 169.621094 120.527344 169.621094 116.925781 C 169.621094 113.328125 175.019531 113.328125 175.019531 116.925781 \"/>\n",
       "<path style=\"fill:none;stroke-width:0.75;stroke-linecap:round;stroke-linejoin:round;stroke:rgb(0%,0%,0%);stroke-opacity:1;stroke-miterlimit:10;\" d=\"M 175.402344 116.542969 C 175.402344 120.140625 170.003906 120.140625 170.003906 116.542969 C 170.003906 112.941406 175.402344 112.941406 175.402344 116.542969 \"/>\n",
       "<path style=\"fill:none;stroke-width:0.75;stroke-linecap:round;stroke-linejoin:round;stroke:rgb(0%,0%,0%);stroke-opacity:1;stroke-miterlimit:10;\" d=\"M 175.789063 116.15625 C 175.789063 119.757813 170.386719 119.757813 170.386719 116.15625 C 170.386719 112.558594 175.789063 112.558594 175.789063 116.15625 \"/>\n",
       "<path style=\"fill:none;stroke-width:0.75;stroke-linecap:round;stroke-linejoin:round;stroke:rgb(0%,0%,0%);stroke-opacity:1;stroke-miterlimit:10;\" d=\"M 176.171875 115.777344 C 176.171875 119.375 170.773438 119.375 170.773438 115.777344 C 170.773438 112.175781 176.171875 112.175781 176.171875 115.777344 \"/>\n",
       "<path style=\"fill:none;stroke-width:0.75;stroke-linecap:round;stroke-linejoin:round;stroke:rgb(0%,0%,0%);stroke-opacity:1;stroke-miterlimit:10;\" d=\"M 176.554688 115.398438 C 176.554688 118.996094 171.15625 118.996094 171.15625 115.398438 C 171.15625 111.796875 176.554688 111.796875 176.554688 115.398438 \"/>\n",
       "<path style=\"fill:none;stroke-width:0.75;stroke-linecap:round;stroke-linejoin:round;stroke:rgb(0%,0%,0%);stroke-opacity:1;stroke-miterlimit:10;\" d=\"M 176.941406 115.019531 C 176.941406 118.621094 171.539063 118.621094 171.539063 115.019531 C 171.539063 111.417969 176.941406 111.417969 176.941406 115.019531 \"/>\n",
       "<path style=\"fill:none;stroke-width:0.75;stroke-linecap:round;stroke-linejoin:round;stroke:rgb(0%,0%,0%);stroke-opacity:1;stroke-miterlimit:10;\" d=\"M 177.324219 114.644531 C 177.324219 118.246094 171.925781 118.246094 171.925781 114.644531 C 171.925781 111.042969 177.324219 111.042969 177.324219 114.644531 \"/>\n",
       "<path style=\"fill:none;stroke-width:0.75;stroke-linecap:round;stroke-linejoin:round;stroke:rgb(0%,0%,0%);stroke-opacity:1;stroke-miterlimit:10;\" d=\"M 177.707031 114.269531 C 177.707031 117.871094 172.308594 117.871094 172.308594 114.269531 C 172.308594 110.671875 177.707031 110.671875 177.707031 114.269531 \"/>\n",
       "<path style=\"fill:none;stroke-width:0.75;stroke-linecap:round;stroke-linejoin:round;stroke:rgb(0%,0%,0%);stroke-opacity:1;stroke-miterlimit:10;\" d=\"M 178.09375 113.898438 C 178.09375 117.5 172.691406 117.5 172.691406 113.898438 C 172.691406 110.300781 178.09375 110.300781 178.09375 113.898438 \"/>\n",
       "<path style=\"fill:none;stroke-width:0.75;stroke-linecap:round;stroke-linejoin:round;stroke:rgb(0%,0%,0%);stroke-opacity:1;stroke-miterlimit:10;\" d=\"M 178.476563 113.53125 C 178.476563 117.128906 173.074219 117.128906 173.074219 113.53125 C 173.074219 109.929688 178.476563 109.929688 178.476563 113.53125 \"/>\n",
       "<path style=\"fill:none;stroke-width:0.75;stroke-linecap:round;stroke-linejoin:round;stroke:rgb(0%,0%,0%);stroke-opacity:1;stroke-miterlimit:10;\" d=\"M 178.859375 113.164063 C 178.859375 116.761719 173.460938 116.761719 173.460938 113.164063 C 173.460938 109.5625 178.859375 109.5625 178.859375 113.164063 \"/>\n",
       "<path style=\"fill:none;stroke-width:0.75;stroke-linecap:round;stroke-linejoin:round;stroke:rgb(0%,0%,0%);stroke-opacity:1;stroke-miterlimit:10;\" d=\"M 179.242188 112.796875 C 179.242188 116.398438 173.84375 116.398438 173.84375 112.796875 C 173.84375 109.199219 179.242188 109.199219 179.242188 112.796875 \"/>\n",
       "<path style=\"fill:none;stroke-width:0.75;stroke-linecap:round;stroke-linejoin:round;stroke:rgb(0%,0%,0%);stroke-opacity:1;stroke-miterlimit:10;\" d=\"M 179.628906 112.433594 C 179.628906 116.035156 174.226563 116.035156 174.226563 112.433594 C 174.226563 108.835938 179.628906 108.835938 179.628906 112.433594 \"/>\n",
       "<path style=\"fill:none;stroke-width:0.75;stroke-linecap:round;stroke-linejoin:round;stroke:rgb(0%,0%,0%);stroke-opacity:1;stroke-miterlimit:10;\" d=\"M 180.011719 112.074219 C 180.011719 115.671875 174.613281 115.671875 174.613281 112.074219 C 174.613281 108.472656 180.011719 108.472656 180.011719 112.074219 \"/>\n",
       "<path style=\"fill:none;stroke-width:0.75;stroke-linecap:round;stroke-linejoin:round;stroke:rgb(0%,0%,0%);stroke-opacity:1;stroke-miterlimit:10;\" d=\"M 180.394531 111.714844 C 180.394531 115.3125 174.996094 115.3125 174.996094 111.714844 C 174.996094 108.113281 180.394531 108.113281 180.394531 111.714844 \"/>\n",
       "<path style=\"fill:none;stroke-width:0.75;stroke-linecap:round;stroke-linejoin:round;stroke:rgb(0%,0%,0%);stroke-opacity:1;stroke-miterlimit:10;\" d=\"M 180.78125 111.355469 C 180.78125 114.957031 175.378906 114.957031 175.378906 111.355469 C 175.378906 107.757813 180.78125 107.757813 180.78125 111.355469 \"/>\n",
       "<path style=\"fill:none;stroke-width:0.75;stroke-linecap:round;stroke-linejoin:round;stroke:rgb(0%,0%,0%);stroke-opacity:1;stroke-miterlimit:10;\" d=\"M 181.164063 111 C 181.164063 114.601563 175.765625 114.601563 175.765625 111 C 175.765625 107.402344 181.164063 107.402344 181.164063 111 \"/>\n",
       "<path style=\"fill:none;stroke-width:0.75;stroke-linecap:round;stroke-linejoin:round;stroke:rgb(0%,0%,0%);stroke-opacity:1;stroke-miterlimit:10;\" d=\"M 181.546875 110.648438 C 181.546875 114.246094 176.148438 114.246094 176.148438 110.648438 C 176.148438 107.046875 181.546875 107.046875 181.546875 110.648438 \"/>\n",
       "<path style=\"fill:none;stroke-width:0.75;stroke-linecap:round;stroke-linejoin:round;stroke:rgb(0%,0%,0%);stroke-opacity:1;stroke-miterlimit:10;\" d=\"M 181.933594 110.296875 C 181.933594 113.894531 176.53125 113.894531 176.53125 110.296875 C 176.53125 106.695313 181.933594 106.695313 181.933594 110.296875 \"/>\n",
       "<path style=\"fill:none;stroke-width:0.75;stroke-linecap:round;stroke-linejoin:round;stroke:rgb(0%,0%,0%);stroke-opacity:1;stroke-miterlimit:10;\" d=\"M 182.316406 109.945313 C 182.316406 113.546875 176.914063 113.546875 176.914063 109.945313 C 176.914063 106.347656 182.316406 106.347656 182.316406 109.945313 \"/>\n",
       "<path style=\"fill:none;stroke-width:0.75;stroke-linecap:round;stroke-linejoin:round;stroke:rgb(0%,0%,0%);stroke-opacity:1;stroke-miterlimit:10;\" d=\"M 182.699219 109.597656 C 182.699219 113.199219 177.300781 113.199219 177.300781 109.597656 C 177.300781 106 182.699219 106 182.699219 109.597656 \"/>\n",
       "<path style=\"fill:none;stroke-width:0.75;stroke-linecap:round;stroke-linejoin:round;stroke:rgb(0%,0%,0%);stroke-opacity:1;stroke-miterlimit:10;\" d=\"M 183.085938 109.253906 C 183.085938 112.851563 177.683594 112.851563 177.683594 109.253906 C 177.683594 105.652344 183.085938 105.652344 183.085938 109.253906 \"/>\n",
       "<path style=\"fill:none;stroke-width:0.75;stroke-linecap:round;stroke-linejoin:round;stroke:rgb(0%,0%,0%);stroke-opacity:1;stroke-miterlimit:10;\" d=\"M 183.46875 108.910156 C 183.46875 112.507813 178.066406 112.507813 178.066406 108.910156 C 178.066406 105.308594 183.46875 105.308594 183.46875 108.910156 \"/>\n",
       "<path style=\"fill:none;stroke-width:0.75;stroke-linecap:round;stroke-linejoin:round;stroke:rgb(0%,0%,0%);stroke-opacity:1;stroke-miterlimit:10;\" d=\"M 183.851563 108.566406 C 183.851563 112.167969 178.453125 112.167969 178.453125 108.566406 C 178.453125 104.964844 183.851563 104.964844 183.851563 108.566406 \"/>\n",
       "<path style=\"fill:none;stroke-width:0.75;stroke-linecap:round;stroke-linejoin:round;stroke:rgb(0%,0%,0%);stroke-opacity:1;stroke-miterlimit:10;\" d=\"M 184.234375 108.226563 C 184.234375 111.828125 178.835938 111.828125 178.835938 108.226563 C 178.835938 104.625 184.234375 104.625 184.234375 108.226563 \"/>\n",
       "<path style=\"fill:none;stroke-width:0.75;stroke-linecap:round;stroke-linejoin:round;stroke:rgb(0%,0%,0%);stroke-opacity:1;stroke-miterlimit:10;\" d=\"M 184.621094 107.890625 C 184.621094 111.488281 179.21875 111.488281 179.21875 107.890625 C 179.21875 104.289063 184.621094 104.289063 184.621094 107.890625 \"/>\n",
       "<path style=\"fill:none;stroke-width:0.75;stroke-linecap:round;stroke-linejoin:round;stroke:rgb(0%,0%,0%);stroke-opacity:1;stroke-miterlimit:10;\" d=\"M 185.003906 107.550781 C 185.003906 111.152344 179.605469 111.152344 179.605469 107.550781 C 179.605469 103.953125 185.003906 103.953125 185.003906 107.550781 \"/>\n",
       "<path style=\"fill:none;stroke-width:0.75;stroke-linecap:round;stroke-linejoin:round;stroke:rgb(0%,0%,0%);stroke-opacity:1;stroke-miterlimit:10;\" d=\"M 185.386719 107.21875 C 185.386719 110.816406 179.988281 110.816406 179.988281 107.21875 C 179.988281 103.617188 185.386719 103.617188 185.386719 107.21875 \"/>\n",
       "<path style=\"fill:none;stroke-width:0.75;stroke-linecap:round;stroke-linejoin:round;stroke:rgb(0%,0%,0%);stroke-opacity:1;stroke-miterlimit:10;\" d=\"M 185.773438 106.886719 C 185.773438 110.484375 180.371094 110.484375 180.371094 106.886719 C 180.371094 103.285156 185.773438 103.285156 185.773438 106.886719 \"/>\n",
       "<path style=\"fill:none;stroke-width:0.75;stroke-linecap:round;stroke-linejoin:round;stroke:rgb(0%,0%,0%);stroke-opacity:1;stroke-miterlimit:10;\" d=\"M 186.15625 106.554688 C 186.15625 110.15625 180.757813 110.15625 180.757813 106.554688 C 180.757813 102.957031 186.15625 102.957031 186.15625 106.554688 \"/>\n",
       "<path style=\"fill:none;stroke-width:0.75;stroke-linecap:round;stroke-linejoin:round;stroke:rgb(0%,0%,0%);stroke-opacity:1;stroke-miterlimit:10;\" d=\"M 186.539063 106.226563 C 186.539063 109.828125 181.140625 109.828125 181.140625 106.226563 C 181.140625 102.625 186.539063 102.625 186.539063 106.226563 \"/>\n",
       "<path style=\"fill:none;stroke-width:0.75;stroke-linecap:round;stroke-linejoin:round;stroke:rgb(0%,0%,0%);stroke-opacity:1;stroke-miterlimit:10;\" d=\"M 186.925781 105.898438 C 186.925781 109.5 181.523438 109.5 181.523438 105.898438 C 181.523438 102.300781 186.925781 102.300781 186.925781 105.898438 \"/>\n",
       "<path style=\"fill:none;stroke-width:0.75;stroke-linecap:round;stroke-linejoin:round;stroke:rgb(0%,0%,0%);stroke-opacity:1;stroke-miterlimit:10;\" d=\"M 187.308594 105.574219 C 187.308594 109.175781 181.90625 109.175781 181.90625 105.574219 C 181.90625 101.976563 187.308594 101.976563 187.308594 105.574219 \"/>\n",
       "<path style=\"fill:none;stroke-width:0.75;stroke-linecap:round;stroke-linejoin:round;stroke:rgb(0%,0%,0%);stroke-opacity:1;stroke-miterlimit:10;\" d=\"M 187.691406 105.253906 C 187.691406 108.851563 182.292969 108.851563 182.292969 105.253906 C 182.292969 101.652344 187.691406 101.652344 187.691406 105.253906 \"/>\n",
       "<path style=\"fill:none;stroke-width:0.75;stroke-linecap:round;stroke-linejoin:round;stroke:rgb(0%,0%,0%);stroke-opacity:1;stroke-miterlimit:10;\" d=\"M 188.074219 104.929688 C 188.074219 108.53125 182.675781 108.53125 182.675781 104.929688 C 182.675781 101.332031 188.074219 101.332031 188.074219 104.929688 \"/>\n",
       "<path style=\"fill:none;stroke-width:0.75;stroke-linecap:round;stroke-linejoin:round;stroke:rgb(0%,0%,0%);stroke-opacity:1;stroke-miterlimit:10;\" d=\"M 188.460938 104.613281 C 188.460938 108.210938 183.058594 108.210938 183.058594 104.613281 C 183.058594 101.011719 188.460938 101.011719 188.460938 104.613281 \"/>\n",
       "<path style=\"fill:none;stroke-width:0.75;stroke-linecap:round;stroke-linejoin:round;stroke:rgb(0%,0%,0%);stroke-opacity:1;stroke-miterlimit:10;\" d=\"M 188.84375 104.292969 C 188.84375 107.894531 183.445313 107.894531 183.445313 104.292969 C 183.445313 100.695313 188.84375 100.695313 188.84375 104.292969 \"/>\n",
       "<path style=\"fill:none;stroke-width:0.75;stroke-linecap:round;stroke-linejoin:round;stroke:rgb(0%,0%,0%);stroke-opacity:1;stroke-miterlimit:10;\" d=\"M 189.226563 103.980469 C 189.226563 107.578125 183.828125 107.578125 183.828125 103.980469 C 183.828125 100.378906 189.226563 100.378906 189.226563 103.980469 \"/>\n",
       "<path style=\"fill:none;stroke-width:0.75;stroke-linecap:round;stroke-linejoin:round;stroke:rgb(0%,0%,0%);stroke-opacity:1;stroke-miterlimit:10;\" d=\"M 189.613281 103.664063 C 189.613281 107.265625 184.210938 107.265625 184.210938 103.664063 C 184.210938 100.066406 189.613281 100.066406 189.613281 103.664063 \"/>\n",
       "<path style=\"fill:none;stroke-width:0.75;stroke-linecap:round;stroke-linejoin:round;stroke:rgb(0%,0%,0%);stroke-opacity:1;stroke-miterlimit:10;\" d=\"M 189.996094 103.351563 C 189.996094 106.953125 184.597656 106.953125 184.597656 103.351563 C 184.597656 99.753906 189.996094 99.753906 189.996094 103.351563 \"/>\n",
       "<path style=\"fill:none;stroke-width:0.75;stroke-linecap:round;stroke-linejoin:round;stroke:rgb(0%,0%,0%);stroke-opacity:1;stroke-miterlimit:10;\" d=\"M 190.378906 103.042969 C 190.378906 106.644531 184.980469 106.644531 184.980469 103.042969 C 184.980469 99.441406 190.378906 99.441406 190.378906 103.042969 \"/>\n",
       "<path style=\"fill:none;stroke-width:0.75;stroke-linecap:round;stroke-linejoin:round;stroke:rgb(0%,0%,0%);stroke-opacity:1;stroke-miterlimit:10;\" d=\"M 190.765625 102.734375 C 190.765625 106.335938 185.363281 106.335938 185.363281 102.734375 C 185.363281 99.132813 190.765625 99.132813 190.765625 102.734375 \"/>\n",
       "<path style=\"fill:none;stroke-width:0.75;stroke-linecap:round;stroke-linejoin:round;stroke:rgb(0%,0%,0%);stroke-opacity:1;stroke-miterlimit:10;\" d=\"M 191.148438 102.425781 C 191.148438 106.027344 185.746094 106.027344 185.746094 102.425781 C 185.746094 98.828125 191.148438 98.828125 191.148438 102.425781 \"/>\n",
       "<path style=\"fill:none;stroke-width:0.75;stroke-linecap:round;stroke-linejoin:round;stroke:rgb(0%,0%,0%);stroke-opacity:1;stroke-miterlimit:10;\" d=\"M 191.53125 102.121094 C 191.53125 105.722656 186.132813 105.722656 186.132813 102.121094 C 186.132813 98.523438 191.53125 98.523438 191.53125 102.121094 \"/>\n",
       "<path style=\"fill:none;stroke-width:0.75;stroke-linecap:round;stroke-linejoin:round;stroke:rgb(0%,0%,0%);stroke-opacity:1;stroke-miterlimit:10;\" d=\"M 191.914063 101.820313 C 191.914063 105.421875 186.515625 105.421875 186.515625 101.820313 C 186.515625 98.21875 191.914063 98.21875 191.914063 101.820313 \"/>\n",
       "<path style=\"fill:none;stroke-width:0.75;stroke-linecap:round;stroke-linejoin:round;stroke:rgb(0%,0%,0%);stroke-opacity:1;stroke-miterlimit:10;\" d=\"M 192.300781 101.519531 C 192.300781 105.117188 186.898438 105.117188 186.898438 101.519531 C 186.898438 97.917969 192.300781 97.917969 192.300781 101.519531 \"/>\n",
       "<path style=\"fill:none;stroke-width:0.75;stroke-linecap:round;stroke-linejoin:round;stroke:rgb(0%,0%,0%);stroke-opacity:1;stroke-miterlimit:10;\" d=\"M 192.683594 101.21875 C 192.683594 104.820313 187.285156 104.820313 187.285156 101.21875 C 187.285156 97.621094 192.683594 97.621094 192.683594 101.21875 \"/>\n",
       "<path style=\"fill:none;stroke-width:0.75;stroke-linecap:round;stroke-linejoin:round;stroke:rgb(0%,0%,0%);stroke-opacity:1;stroke-miterlimit:10;\" d=\"M 193.066406 100.921875 C 193.066406 104.523438 187.667969 104.523438 187.667969 100.921875 C 187.667969 97.320313 193.066406 97.320313 193.066406 100.921875 \"/>\n",
       "<path style=\"fill:none;stroke-width:0.75;stroke-linecap:round;stroke-linejoin:round;stroke:rgb(0%,0%,0%);stroke-opacity:1;stroke-miterlimit:10;\" d=\"M 193.453125 100.625 C 193.453125 104.226563 188.050781 104.226563 188.050781 100.625 C 188.050781 97.027344 193.453125 97.027344 193.453125 100.625 \"/>\n",
       "<path style=\"fill:none;stroke-width:0.75;stroke-linecap:round;stroke-linejoin:round;stroke:rgb(0%,0%,0%);stroke-opacity:1;stroke-miterlimit:10;\" d=\"M 193.835938 100.332031 C 193.835938 103.933594 188.4375 103.933594 188.4375 100.332031 C 188.4375 96.730469 193.835938 96.730469 193.835938 100.332031 \"/>\n",
       "<path style=\"fill:none;stroke-width:0.75;stroke-linecap:round;stroke-linejoin:round;stroke:rgb(0%,0%,0%);stroke-opacity:1;stroke-miterlimit:10;\" d=\"M 194.21875 100.039063 C 194.21875 103.640625 188.820313 103.640625 188.820313 100.039063 C 188.820313 96.441406 194.21875 96.441406 194.21875 100.039063 \"/>\n",
       "<path style=\"fill:none;stroke-width:0.75;stroke-linecap:round;stroke-linejoin:round;stroke:rgb(0%,0%,0%);stroke-opacity:1;stroke-miterlimit:10;\" d=\"M 194.605469 99.75 C 194.605469 103.347656 189.203125 103.347656 189.203125 99.75 C 189.203125 96.148438 194.605469 96.148438 194.605469 99.75 \"/>\n",
       "<path style=\"fill:none;stroke-width:0.75;stroke-linecap:round;stroke-linejoin:round;stroke:rgb(0%,0%,0%);stroke-opacity:1;stroke-miterlimit:10;\" d=\"M 194.988281 99.460938 C 194.988281 103.058594 189.589844 103.058594 189.589844 99.460938 C 189.589844 95.859375 194.988281 95.859375 194.988281 99.460938 \"/>\n",
       "<path style=\"fill:none;stroke-width:0.75;stroke-linecap:round;stroke-linejoin:round;stroke:rgb(0%,0%,0%);stroke-opacity:1;stroke-miterlimit:10;\" d=\"M 195.371094 99.171875 C 195.371094 102.773438 189.972656 102.773438 189.972656 99.171875 C 189.972656 95.574219 195.371094 95.574219 195.371094 99.171875 \"/>\n",
       "<path style=\"fill:none;stroke-width:0.75;stroke-linecap:round;stroke-linejoin:round;stroke:rgb(0%,0%,0%);stroke-opacity:1;stroke-miterlimit:10;\" d=\"M 195.757813 98.886719 C 195.757813 102.488281 190.355469 102.488281 190.355469 98.886719 C 190.355469 95.289063 195.757813 95.289063 195.757813 98.886719 \"/>\n",
       "<path style=\"fill:none;stroke-width:0.75;stroke-linecap:round;stroke-linejoin:round;stroke:rgb(0%,0%,0%);stroke-opacity:1;stroke-miterlimit:10;\" d=\"M 196.140625 98.605469 C 196.140625 102.203125 190.738281 102.203125 190.738281 98.605469 C 190.738281 95.003906 196.140625 95.003906 196.140625 98.605469 \"/>\n",
       "<path style=\"fill:none;stroke-width:0.75;stroke-linecap:round;stroke-linejoin:round;stroke:rgb(0%,0%,0%);stroke-opacity:1;stroke-miterlimit:10;\" d=\"M 196.523438 98.324219 C 196.523438 101.921875 191.125 101.921875 191.125 98.324219 C 191.125 94.722656 196.523438 94.722656 196.523438 98.324219 \"/>\n",
       "<path style=\"fill:none;stroke-width:0.75;stroke-linecap:round;stroke-linejoin:round;stroke:rgb(0%,0%,0%);stroke-opacity:1;stroke-miterlimit:10;\" d=\"M 196.90625 98.042969 C 196.90625 101.644531 191.507813 101.644531 191.507813 98.042969 C 191.507813 94.441406 196.90625 94.441406 196.90625 98.042969 \"/>\n",
       "<path style=\"fill:none;stroke-width:0.75;stroke-linecap:round;stroke-linejoin:round;stroke:rgb(0%,0%,0%);stroke-opacity:1;stroke-miterlimit:10;\" d=\"M 197.292969 97.765625 C 197.292969 101.363281 191.890625 101.363281 191.890625 97.765625 C 191.890625 94.164063 197.292969 94.164063 197.292969 97.765625 \"/>\n",
       "<path style=\"fill:none;stroke-width:0.75;stroke-linecap:round;stroke-linejoin:round;stroke:rgb(0%,0%,0%);stroke-opacity:1;stroke-miterlimit:10;\" d=\"M 197.675781 97.488281 C 197.675781 101.089844 192.277344 101.089844 192.277344 97.488281 C 192.277344 93.886719 197.675781 93.886719 197.675781 97.488281 \"/>\n",
       "<path style=\"fill:none;stroke-width:0.75;stroke-linecap:round;stroke-linejoin:round;stroke:rgb(0%,0%,0%);stroke-opacity:1;stroke-miterlimit:10;\" d=\"M 198.058594 97.214844 C 198.058594 100.8125 192.660156 100.8125 192.660156 97.214844 C 192.660156 93.613281 198.058594 93.613281 198.058594 97.214844 \"/>\n",
       "<path style=\"fill:none;stroke-width:0.75;stroke-linecap:round;stroke-linejoin:round;stroke:rgb(0%,0%,0%);stroke-opacity:1;stroke-miterlimit:10;\" d=\"M 198.445313 96.941406 C 198.445313 100.539063 193.042969 100.539063 193.042969 96.941406 C 193.042969 93.339844 198.445313 93.339844 198.445313 96.941406 \"/>\n",
       "<path style=\"fill:none;stroke-width:0.75;stroke-linecap:round;stroke-linejoin:round;stroke:rgb(0%,0%,0%);stroke-opacity:1;stroke-miterlimit:10;\" d=\"M 198.828125 96.667969 C 198.828125 100.269531 193.429688 100.269531 193.429688 96.667969 C 193.429688 93.070313 198.828125 93.070313 198.828125 96.667969 \"/>\n",
       "<path style=\"fill:none;stroke-width:0.75;stroke-linecap:round;stroke-linejoin:round;stroke:rgb(0%,0%,0%);stroke-opacity:1;stroke-miterlimit:10;\" d=\"M 199.210938 96.398438 C 199.210938 100 193.8125 100 193.8125 96.398438 C 193.8125 92.796875 199.210938 92.796875 199.210938 96.398438 \"/>\n",
       "<path style=\"fill:none;stroke-width:0.75;stroke-linecap:round;stroke-linejoin:round;stroke:rgb(0%,0%,0%);stroke-opacity:1;stroke-miterlimit:10;\" d=\"M 199.597656 96.128906 C 199.597656 99.730469 194.195313 99.730469 194.195313 96.128906 C 194.195313 92.53125 199.597656 92.53125 199.597656 96.128906 \"/>\n",
       "<path style=\"fill:none;stroke-width:0.75;stroke-linecap:round;stroke-linejoin:round;stroke:rgb(0%,0%,0%);stroke-opacity:1;stroke-miterlimit:10;\" d=\"M 199.980469 95.863281 C 199.980469 99.464844 194.578125 99.464844 194.578125 95.863281 C 194.578125 92.265625 199.980469 92.265625 199.980469 95.863281 \"/>\n",
       "<path style=\"fill:none;stroke-width:0.75;stroke-linecap:round;stroke-linejoin:round;stroke:rgb(0%,0%,0%);stroke-opacity:1;stroke-miterlimit:10;\" d=\"M 200.363281 95.601563 C 200.363281 99.199219 194.964844 99.199219 194.964844 95.601563 C 194.964844 92 200.363281 92 200.363281 95.601563 \"/>\n",
       "<path style=\"fill:none;stroke-width:0.75;stroke-linecap:round;stroke-linejoin:round;stroke:rgb(0%,0%,0%);stroke-opacity:1;stroke-miterlimit:10;\" d=\"M 200.746094 95.335938 C 200.746094 98.9375 195.347656 98.9375 195.347656 95.335938 C 195.347656 91.738281 200.746094 91.738281 200.746094 95.335938 \"/>\n",
       "<path style=\"fill:none;stroke-width:0.75;stroke-linecap:round;stroke-linejoin:round;stroke:rgb(0%,0%,0%);stroke-opacity:1;stroke-miterlimit:10;\" d=\"M 201.132813 95.074219 C 201.132813 98.675781 195.730469 98.675781 195.730469 95.074219 C 195.730469 91.476563 201.132813 91.476563 201.132813 95.074219 \"/>\n",
       "<path style=\"fill:none;stroke-width:0.75;stroke-linecap:round;stroke-linejoin:round;stroke:rgb(0%,0%,0%);stroke-opacity:1;stroke-miterlimit:10;\" d=\"M 201.515625 94.816406 C 201.515625 98.414063 196.117188 98.414063 196.117188 94.816406 C 196.117188 91.214844 201.515625 91.214844 201.515625 94.816406 \"/>\n",
       "<path style=\"fill:none;stroke-width:0.75;stroke-linecap:round;stroke-linejoin:round;stroke:rgb(0%,0%,0%);stroke-opacity:1;stroke-miterlimit:10;\" d=\"M 201.898438 94.558594 C 201.898438 98.15625 196.5 98.15625 196.5 94.558594 C 196.5 90.957031 201.898438 90.957031 201.898438 94.558594 \"/>\n",
       "<path style=\"fill:none;stroke-width:0.75;stroke-linecap:round;stroke-linejoin:round;stroke:rgb(0%,0%,0%);stroke-opacity:1;stroke-miterlimit:10;\" d=\"M 202.285156 94.300781 C 202.285156 97.902344 196.882813 97.902344 196.882813 94.300781 C 196.882813 90.703125 202.285156 90.703125 202.285156 94.300781 \"/>\n",
       "<path style=\"fill:none;stroke-width:0.75;stroke-linecap:round;stroke-linejoin:round;stroke:rgb(0%,0%,0%);stroke-opacity:1;stroke-miterlimit:10;\" d=\"M 202.667969 94.046875 C 202.667969 97.648438 197.269531 97.648438 197.269531 94.046875 C 197.269531 90.449219 202.667969 90.449219 202.667969 94.046875 \"/>\n",
       "<path style=\"fill:none;stroke-width:0.75;stroke-linecap:round;stroke-linejoin:round;stroke:rgb(0%,0%,0%);stroke-opacity:1;stroke-miterlimit:10;\" d=\"M 203.050781 93.792969 C 203.050781 97.394531 197.652344 97.394531 197.652344 93.792969 C 197.652344 90.195313 203.050781 90.195313 203.050781 93.792969 \"/>\n",
       "<path style=\"fill:none;stroke-width:0.75;stroke-linecap:round;stroke-linejoin:round;stroke:rgb(0%,0%,0%);stroke-opacity:1;stroke-miterlimit:10;\" d=\"M 203.4375 93.542969 C 203.4375 97.144531 198.035156 97.144531 198.035156 93.542969 C 198.035156 89.941406 203.4375 89.941406 203.4375 93.542969 \"/>\n",
       "<path style=\"fill:none;stroke-width:0.75;stroke-linecap:round;stroke-linejoin:round;stroke:rgb(0%,0%,0%);stroke-opacity:1;stroke-miterlimit:10;\" d=\"M 203.820313 93.292969 C 203.820313 96.894531 198.421875 96.894531 198.421875 93.292969 C 198.421875 89.695313 203.820313 89.695313 203.820313 93.292969 \"/>\n",
       "<path style=\"fill:none;stroke-width:0.75;stroke-linecap:round;stroke-linejoin:round;stroke:rgb(0%,0%,0%);stroke-opacity:1;stroke-miterlimit:10;\" d=\"M 204.203125 93.046875 C 204.203125 96.644531 198.804688 96.644531 198.804688 93.046875 C 198.804688 89.445313 204.203125 89.445313 204.203125 93.046875 \"/>\n",
       "<path style=\"fill:none;stroke-width:0.75;stroke-linecap:round;stroke-linejoin:round;stroke:rgb(0%,0%,0%);stroke-opacity:1;stroke-miterlimit:10;\" d=\"M 204.589844 92.800781 C 204.589844 96.398438 199.1875 96.398438 199.1875 92.800781 C 199.1875 89.199219 204.589844 89.199219 204.589844 92.800781 \"/>\n",
       "<path style=\"fill:none;stroke-width:0.75;stroke-linecap:round;stroke-linejoin:round;stroke:rgb(0%,0%,0%);stroke-opacity:1;stroke-miterlimit:10;\" d=\"M 204.972656 92.554688 C 204.972656 96.15625 199.570313 96.15625 199.570313 92.554688 C 199.570313 88.953125 204.972656 88.953125 204.972656 92.554688 \"/>\n",
       "<path style=\"fill:none;stroke-width:0.75;stroke-linecap:round;stroke-linejoin:round;stroke:rgb(0%,0%,0%);stroke-opacity:1;stroke-miterlimit:10;\" d=\"M 205.355469 92.3125 C 205.355469 95.910156 199.957031 95.910156 199.957031 92.3125 C 199.957031 88.710938 205.355469 88.710938 205.355469 92.3125 \"/>\n",
       "<path style=\"fill:none;stroke-width:0.75;stroke-linecap:round;stroke-linejoin:round;stroke:rgb(0%,0%,0%);stroke-opacity:1;stroke-miterlimit:10;\" d=\"M 205.738281 92.070313 C 205.738281 95.671875 200.339844 95.671875 200.339844 92.070313 C 200.339844 88.46875 205.738281 88.46875 205.738281 92.070313 \"/>\n",
       "<path style=\"fill:none;stroke-width:0.75;stroke-linecap:round;stroke-linejoin:round;stroke:rgb(0%,0%,0%);stroke-opacity:1;stroke-miterlimit:10;\" d=\"M 206.125 91.832031 C 206.125 95.429688 200.722656 95.429688 200.722656 91.832031 C 200.722656 88.230469 206.125 88.230469 206.125 91.832031 \"/>\n",
       "<path style=\"fill:none;stroke-width:0.75;stroke-linecap:round;stroke-linejoin:round;stroke:rgb(0%,0%,0%);stroke-opacity:1;stroke-miterlimit:10;\" d=\"M 206.507813 91.59375 C 206.507813 95.191406 201.109375 95.191406 201.109375 91.59375 C 201.109375 87.992188 206.507813 87.992188 206.507813 91.59375 \"/>\n",
       "<path style=\"fill:none;stroke-width:0.75;stroke-linecap:round;stroke-linejoin:round;stroke:rgb(0%,0%,0%);stroke-opacity:1;stroke-miterlimit:10;\" d=\"M 206.890625 91.355469 C 206.890625 94.957031 201.492188 94.957031 201.492188 91.355469 C 201.492188 87.757813 206.890625 87.757813 206.890625 91.355469 \"/>\n",
       "<path style=\"fill:none;stroke-width:0.75;stroke-linecap:round;stroke-linejoin:round;stroke:rgb(0%,0%,0%);stroke-opacity:1;stroke-miterlimit:10;\" d=\"M 207.277344 91.121094 C 207.277344 94.722656 201.875 94.722656 201.875 91.121094 C 201.875 87.523438 207.277344 87.523438 207.277344 91.121094 \"/>\n",
       "<path style=\"fill:none;stroke-width:0.75;stroke-linecap:round;stroke-linejoin:round;stroke:rgb(0%,0%,0%);stroke-opacity:1;stroke-miterlimit:10;\" d=\"M 207.660156 90.886719 C 207.660156 94.488281 202.261719 94.488281 202.261719 90.886719 C 202.261719 87.289063 207.660156 87.289063 207.660156 90.886719 \"/>\n",
       "<path style=\"fill:none;stroke-width:0.75;stroke-linecap:round;stroke-linejoin:round;stroke:rgb(0%,0%,0%);stroke-opacity:1;stroke-miterlimit:10;\" d=\"M 208.042969 90.65625 C 208.042969 94.257813 202.644531 94.257813 202.644531 90.65625 C 202.644531 87.058594 208.042969 87.058594 208.042969 90.65625 \"/>\n",
       "<path style=\"fill:none;stroke-width:0.75;stroke-linecap:round;stroke-linejoin:round;stroke:rgb(0%,0%,0%);stroke-opacity:1;stroke-miterlimit:10;\" d=\"M 208.429688 90.425781 C 208.429688 94.027344 203.027344 94.027344 203.027344 90.425781 C 203.027344 86.828125 208.429688 86.828125 208.429688 90.425781 \"/>\n",
       "<path style=\"fill:none;stroke-width:0.75;stroke-linecap:round;stroke-linejoin:round;stroke:rgb(0%,0%,0%);stroke-opacity:1;stroke-miterlimit:10;\" d=\"M 208.8125 90.199219 C 208.8125 93.796875 203.410156 93.796875 203.410156 90.199219 C 203.410156 86.597656 208.8125 86.597656 208.8125 90.199219 \"/>\n",
       "<path style=\"fill:none;stroke-width:0.75;stroke-linecap:round;stroke-linejoin:round;stroke:rgb(0%,0%,0%);stroke-opacity:1;stroke-miterlimit:10;\" d=\"M 209.195313 89.972656 C 209.195313 93.570313 203.796875 93.570313 203.796875 89.972656 C 203.796875 86.371094 209.195313 86.371094 209.195313 89.972656 \"/>\n",
       "<path style=\"fill:none;stroke-width:0.75;stroke-linecap:round;stroke-linejoin:round;stroke:rgb(0%,0%,0%);stroke-opacity:1;stroke-miterlimit:10;\" d=\"M 209.578125 89.746094 C 209.578125 93.347656 204.179688 93.347656 204.179688 89.746094 C 204.179688 86.148438 209.578125 86.148438 209.578125 89.746094 \"/>\n",
       "<path style=\"fill:none;stroke-width:0.75;stroke-linecap:round;stroke-linejoin:round;stroke:rgb(0%,0%,0%);stroke-opacity:1;stroke-miterlimit:10;\" d=\"M 209.964844 89.523438 C 209.964844 93.125 204.5625 93.125 204.5625 89.523438 C 204.5625 85.921875 209.964844 85.921875 209.964844 89.523438 \"/>\n",
       "<path style=\"fill:none;stroke-width:0.75;stroke-linecap:round;stroke-linejoin:round;stroke:rgb(0%,0%,0%);stroke-opacity:1;stroke-miterlimit:10;\" d=\"M 210.347656 89.300781 C 210.347656 92.902344 204.949219 92.902344 204.949219 89.300781 C 204.949219 85.699219 210.347656 85.699219 210.347656 89.300781 \"/>\n",
       "<path style=\"fill:none;stroke-width:0.75;stroke-linecap:round;stroke-linejoin:round;stroke:rgb(0%,0%,0%);stroke-opacity:1;stroke-miterlimit:10;\" d=\"M 210.730469 89.082031 C 210.730469 92.679688 205.332031 92.679688 205.332031 89.082031 C 205.332031 85.480469 210.730469 85.480469 210.730469 89.082031 \"/>\n",
       "<path style=\"fill:none;stroke-width:0.75;stroke-linecap:round;stroke-linejoin:round;stroke:rgb(0%,0%,0%);stroke-opacity:1;stroke-miterlimit:10;\" d=\"M 211.117188 88.863281 C 211.117188 92.460938 205.714844 92.460938 205.714844 88.863281 C 205.714844 85.261719 211.117188 85.261719 211.117188 88.863281 \"/>\n",
       "<path style=\"fill:none;stroke-width:0.75;stroke-linecap:round;stroke-linejoin:round;stroke:rgb(0%,0%,0%);stroke-opacity:1;stroke-miterlimit:10;\" d=\"M 211.5 88.644531 C 211.5 92.246094 206.101563 92.246094 206.101563 88.644531 C 206.101563 85.042969 211.5 85.042969 211.5 88.644531 \"/>\n",
       "<path style=\"fill:none;stroke-width:0.75;stroke-linecap:round;stroke-linejoin:round;stroke:rgb(0%,0%,0%);stroke-opacity:1;stroke-miterlimit:10;\" d=\"M 211.882813 88.429688 C 211.882813 92.03125 206.484375 92.03125 206.484375 88.429688 C 206.484375 84.828125 211.882813 84.828125 211.882813 88.429688 \"/>\n",
       "<path style=\"fill:none;stroke-width:0.75;stroke-linecap:round;stroke-linejoin:round;stroke:rgb(0%,0%,0%);stroke-opacity:1;stroke-miterlimit:10;\" d=\"M 212.269531 88.214844 C 212.269531 91.816406 206.867188 91.816406 206.867188 88.214844 C 206.867188 84.617188 212.269531 84.617188 212.269531 88.214844 \"/>\n",
       "<path style=\"fill:none;stroke-width:0.75;stroke-linecap:round;stroke-linejoin:round;stroke:rgb(0%,0%,0%);stroke-opacity:1;stroke-miterlimit:10;\" d=\"M 212.652344 88.003906 C 212.652344 91.601563 207.253906 91.601563 207.253906 88.003906 C 207.253906 84.402344 212.652344 84.402344 212.652344 88.003906 \"/>\n",
       "<path style=\"fill:none;stroke-width:0.75;stroke-linecap:round;stroke-linejoin:round;stroke:rgb(0%,0%,0%);stroke-opacity:1;stroke-miterlimit:10;\" d=\"M 213.035156 87.792969 C 213.035156 91.390625 207.636719 91.390625 207.636719 87.792969 C 207.636719 84.191406 213.035156 84.191406 213.035156 87.792969 \"/>\n",
       "<path style=\"fill:none;stroke-width:0.75;stroke-linecap:round;stroke-linejoin:round;stroke:rgb(0%,0%,0%);stroke-opacity:1;stroke-miterlimit:10;\" d=\"M 213.421875 87.582031 C 213.421875 91.183594 208.019531 91.183594 208.019531 87.582031 C 208.019531 83.984375 213.421875 83.984375 213.421875 87.582031 \"/>\n",
       "<path style=\"fill:none;stroke-width:0.75;stroke-linecap:round;stroke-linejoin:round;stroke:rgb(0%,0%,0%);stroke-opacity:1;stroke-miterlimit:10;\" d=\"M 213.804688 87.375 C 213.804688 90.976563 208.402344 90.976563 208.402344 87.375 C 208.402344 83.773438 213.804688 83.773438 213.804688 87.375 \"/>\n",
       "<path style=\"fill:none;stroke-width:0.75;stroke-linecap:round;stroke-linejoin:round;stroke:rgb(0%,0%,0%);stroke-opacity:1;stroke-miterlimit:10;\" d=\"M 214.1875 87.167969 C 214.1875 90.769531 208.789063 90.769531 208.789063 87.167969 C 208.789063 83.570313 214.1875 83.570313 214.1875 87.167969 \"/>\n",
       "<path style=\"fill:none;stroke-width:0.75;stroke-linecap:round;stroke-linejoin:round;stroke:rgb(0%,0%,0%);stroke-opacity:1;stroke-miterlimit:10;\" d=\"M 214.570313 86.964844 C 214.570313 90.5625 209.171875 90.5625 209.171875 86.964844 C 209.171875 83.363281 214.570313 83.363281 214.570313 86.964844 \"/>\n",
       "<path style=\"fill:none;stroke-width:0.75;stroke-linecap:round;stroke-linejoin:round;stroke:rgb(0%,0%,0%);stroke-opacity:1;stroke-miterlimit:10;\" d=\"M 214.957031 86.761719 C 214.957031 90.363281 209.554688 90.363281 209.554688 86.761719 C 209.554688 83.160156 214.957031 83.160156 214.957031 86.761719 \"/>\n",
       "<path style=\"fill:none;stroke-width:0.75;stroke-linecap:round;stroke-linejoin:round;stroke:rgb(0%,0%,0%);stroke-opacity:1;stroke-miterlimit:10;\" d=\"M 215.339844 86.558594 C 215.339844 90.160156 209.941406 90.160156 209.941406 86.558594 C 209.941406 82.960938 215.339844 82.960938 215.339844 86.558594 \"/>\n",
       "<path style=\"fill:none;stroke-width:0.75;stroke-linecap:round;stroke-linejoin:round;stroke:rgb(0%,0%,0%);stroke-opacity:1;stroke-miterlimit:10;\" d=\"M 215.722656 86.359375 C 215.722656 89.960938 210.324219 89.960938 210.324219 86.359375 C 210.324219 82.761719 215.722656 82.761719 215.722656 86.359375 \"/>\n",
       "<path style=\"fill:none;stroke-width:0.75;stroke-linecap:round;stroke-linejoin:round;stroke:rgb(0%,0%,0%);stroke-opacity:1;stroke-miterlimit:10;\" d=\"M 216.109375 86.160156 C 216.109375 89.761719 210.707031 89.761719 210.707031 86.160156 C 210.707031 82.5625 216.109375 82.5625 216.109375 86.160156 \"/>\n",
       "<path style=\"fill:none;stroke-width:0.75;stroke-linecap:round;stroke-linejoin:round;stroke:rgb(0%,0%,0%);stroke-opacity:1;stroke-miterlimit:10;\" d=\"M 216.492188 85.964844 C 216.492188 89.566406 211.09375 89.566406 211.09375 85.964844 C 211.09375 82.363281 216.492188 82.363281 216.492188 85.964844 \"/>\n",
       "<path style=\"fill:none;stroke-width:0.75;stroke-linecap:round;stroke-linejoin:round;stroke:rgb(0%,0%,0%);stroke-opacity:1;stroke-miterlimit:10;\" d=\"M 216.875 85.769531 C 216.875 89.371094 211.476563 89.371094 211.476563 85.769531 C 211.476563 82.167969 216.875 82.167969 216.875 85.769531 \"/>\n",
       "<path style=\"fill:none;stroke-width:0.75;stroke-linecap:round;stroke-linejoin:round;stroke:rgb(0%,0%,0%);stroke-opacity:1;stroke-miterlimit:10;\" d=\"M 217.261719 85.574219 C 217.261719 89.175781 211.859375 89.175781 211.859375 85.574219 C 211.859375 81.976563 217.261719 81.976563 217.261719 85.574219 \"/>\n",
       "<path style=\"fill:none;stroke-width:0.75;stroke-linecap:round;stroke-linejoin:round;stroke:rgb(0%,0%,0%);stroke-opacity:1;stroke-miterlimit:10;\" d=\"M 217.644531 85.382813 C 217.644531 88.984375 212.242188 88.984375 212.242188 85.382813 C 212.242188 81.785156 217.644531 81.785156 217.644531 85.382813 \"/>\n",
       "<path style=\"fill:none;stroke-width:0.75;stroke-linecap:round;stroke-linejoin:round;stroke:rgb(0%,0%,0%);stroke-opacity:1;stroke-miterlimit:10;\" d=\"M 218.027344 85.191406 C 218.027344 88.792969 212.628906 88.792969 212.628906 85.191406 C 212.628906 81.59375 218.027344 81.59375 218.027344 85.191406 \"/>\n",
       "<path style=\"fill:none;stroke-width:0.75;stroke-linecap:round;stroke-linejoin:round;stroke:rgb(0%,0%,0%);stroke-opacity:1;stroke-miterlimit:10;\" d=\"M 218.410156 85.003906 C 218.410156 88.605469 213.011719 88.605469 213.011719 85.003906 C 213.011719 81.402344 218.410156 81.402344 218.410156 85.003906 \"/>\n",
       "<path style=\"fill:none;stroke-width:0.75;stroke-linecap:round;stroke-linejoin:round;stroke:rgb(0%,0%,0%);stroke-opacity:1;stroke-miterlimit:10;\" d=\"M 218.796875 84.816406 C 218.796875 88.417969 213.394531 88.417969 213.394531 84.816406 C 213.394531 81.214844 218.796875 81.214844 218.796875 84.816406 \"/>\n",
       "<path style=\"fill:none;stroke-width:0.75;stroke-linecap:round;stroke-linejoin:round;stroke:rgb(0%,0%,0%);stroke-opacity:1;stroke-miterlimit:10;\" d=\"M 219.179688 84.628906 C 219.179688 88.230469 213.78125 88.230469 213.78125 84.628906 C 213.78125 81.03125 219.179688 81.03125 219.179688 84.628906 \"/>\n",
       "<path style=\"fill:none;stroke-width:0.75;stroke-linecap:round;stroke-linejoin:round;stroke:rgb(0%,0%,0%);stroke-opacity:1;stroke-miterlimit:10;\" d=\"M 219.5625 84.445313 C 219.5625 88.046875 214.164063 88.046875 214.164063 84.445313 C 214.164063 80.847656 219.5625 80.847656 219.5625 84.445313 \"/>\n",
       "<path style=\"fill:none;stroke-width:0.75;stroke-linecap:round;stroke-linejoin:round;stroke:rgb(0%,0%,0%);stroke-opacity:1;stroke-miterlimit:10;\" d=\"M 219.949219 84.261719 C 219.949219 87.863281 214.546875 87.863281 214.546875 84.261719 C 214.546875 80.664063 219.949219 80.664063 219.949219 84.261719 \"/>\n",
       "<path style=\"fill:none;stroke-width:0.75;stroke-linecap:round;stroke-linejoin:round;stroke:rgb(0%,0%,0%);stroke-opacity:1;stroke-miterlimit:10;\" d=\"M 220.332031 84.082031 C 220.332031 87.683594 214.933594 87.683594 214.933594 84.082031 C 214.933594 80.480469 220.332031 80.480469 220.332031 84.082031 \"/>\n",
       "<path style=\"fill:none;stroke-width:0.75;stroke-linecap:round;stroke-linejoin:round;stroke:rgb(0%,0%,0%);stroke-opacity:1;stroke-miterlimit:10;\" d=\"M 220.714844 83.902344 C 220.714844 87.5 215.316406 87.5 215.316406 83.902344 C 215.316406 80.300781 220.714844 80.300781 220.714844 83.902344 \"/>\n",
       "<path style=\"fill:none;stroke-width:0.75;stroke-linecap:round;stroke-linejoin:round;stroke:rgb(0%,0%,0%);stroke-opacity:1;stroke-miterlimit:10;\" d=\"M 221.101563 83.722656 C 221.101563 87.324219 215.699219 87.324219 215.699219 83.722656 C 215.699219 80.125 221.101563 80.125 221.101563 83.722656 \"/>\n",
       "<path style=\"fill:none;stroke-width:0.75;stroke-linecap:round;stroke-linejoin:round;stroke:rgb(0%,0%,0%);stroke-opacity:1;stroke-miterlimit:10;\" d=\"M 221.484375 83.546875 C 221.484375 87.148438 216.085938 87.148438 216.085938 83.546875 C 216.085938 79.945313 221.484375 79.945313 221.484375 83.546875 \"/>\n",
       "<path style=\"fill:none;stroke-width:0.75;stroke-linecap:round;stroke-linejoin:round;stroke:rgb(0%,0%,0%);stroke-opacity:1;stroke-miterlimit:10;\" d=\"M 221.867188 83.371094 C 221.867188 86.972656 216.46875 86.972656 216.46875 83.371094 C 216.46875 79.769531 221.867188 79.769531 221.867188 83.371094 \"/>\n",
       "<path style=\"fill:none;stroke-width:0.75;stroke-linecap:round;stroke-linejoin:round;stroke:rgb(0%,0%,0%);stroke-opacity:1;stroke-miterlimit:10;\" d=\"M 222.253906 83.199219 C 222.253906 86.796875 216.851563 86.796875 216.851563 83.199219 C 216.851563 79.597656 222.253906 79.597656 222.253906 83.199219 \"/>\n",
       "<path style=\"fill:none;stroke-width:0.75;stroke-linecap:round;stroke-linejoin:round;stroke:rgb(0%,0%,0%);stroke-opacity:1;stroke-miterlimit:10;\" d=\"M 222.636719 83.023438 C 222.636719 86.625 217.234375 86.625 217.234375 83.023438 C 217.234375 79.425781 222.636719 79.425781 222.636719 83.023438 \"/>\n",
       "<path style=\"fill:none;stroke-width:0.75;stroke-linecap:round;stroke-linejoin:round;stroke:rgb(0%,0%,0%);stroke-opacity:1;stroke-miterlimit:10;\" d=\"M 223.019531 82.855469 C 223.019531 86.453125 217.621094 86.453125 217.621094 82.855469 C 217.621094 79.253906 223.019531 79.253906 223.019531 82.855469 \"/>\n",
       "<path style=\"fill:none;stroke-width:0.75;stroke-linecap:round;stroke-linejoin:round;stroke:rgb(0%,0%,0%);stroke-opacity:1;stroke-miterlimit:10;\" d=\"M 223.402344 82.683594 C 223.402344 86.285156 218.003906 86.285156 218.003906 82.683594 C 218.003906 79.085938 223.402344 79.085938 223.402344 82.683594 \"/>\n",
       "<path style=\"fill:none;stroke-width:0.75;stroke-linecap:round;stroke-linejoin:round;stroke:rgb(0%,0%,0%);stroke-opacity:1;stroke-miterlimit:10;\" d=\"M 223.789063 82.515625 C 223.789063 86.117188 218.386719 86.117188 218.386719 82.515625 C 218.386719 78.917969 223.789063 78.917969 223.789063 82.515625 \"/>\n",
       "<path style=\"fill:none;stroke-width:0.75;stroke-linecap:round;stroke-linejoin:round;stroke:rgb(0%,0%,0%);stroke-opacity:1;stroke-miterlimit:10;\" d=\"M 224.171875 82.351563 C 224.171875 85.949219 218.773438 85.949219 218.773438 82.351563 C 218.773438 78.75 224.171875 78.75 224.171875 82.351563 \"/>\n",
       "<path style=\"fill:none;stroke-width:0.75;stroke-linecap:round;stroke-linejoin:round;stroke:rgb(0%,0%,0%);stroke-opacity:1;stroke-miterlimit:10;\" d=\"M 224.554688 82.1875 C 224.554688 85.785156 219.15625 85.785156 219.15625 82.1875 C 219.15625 78.585938 224.554688 78.585938 224.554688 82.1875 \"/>\n",
       "<path style=\"fill:none;stroke-width:0.75;stroke-linecap:round;stroke-linejoin:round;stroke:rgb(0%,0%,0%);stroke-opacity:1;stroke-miterlimit:10;\" d=\"M 224.941406 82.023438 C 224.941406 85.621094 219.539063 85.621094 219.539063 82.023438 C 219.539063 78.421875 224.941406 78.421875 224.941406 82.023438 \"/>\n",
       "<path style=\"fill:none;stroke-width:0.75;stroke-linecap:round;stroke-linejoin:round;stroke:rgb(0%,0%,0%);stroke-opacity:1;stroke-miterlimit:10;\" d=\"M 225.324219 81.859375 C 225.324219 85.460938 219.925781 85.460938 219.925781 81.859375 C 219.925781 78.261719 225.324219 78.261719 225.324219 81.859375 \"/>\n",
       "<path style=\"fill:none;stroke-width:0.75;stroke-linecap:round;stroke-linejoin:round;stroke:rgb(0%,0%,0%);stroke-opacity:1;stroke-miterlimit:10;\" d=\"M 225.707031 81.699219 C 225.707031 85.300781 220.308594 85.300781 220.308594 81.699219 C 220.308594 78.101563 225.707031 78.101563 225.707031 81.699219 \"/>\n",
       "<path style=\"fill:none;stroke-width:0.75;stroke-linecap:round;stroke-linejoin:round;stroke:rgb(0%,0%,0%);stroke-opacity:1;stroke-miterlimit:10;\" d=\"M 226.09375 81.542969 C 226.09375 85.140625 220.691406 85.140625 220.691406 81.542969 C 220.691406 77.941406 226.09375 77.941406 226.09375 81.542969 \"/>\n",
       "<path style=\"fill:none;stroke-width:0.75;stroke-linecap:round;stroke-linejoin:round;stroke:rgb(0%,0%,0%);stroke-opacity:1;stroke-miterlimit:10;\" d=\"M 226.476563 81.382813 C 226.476563 84.984375 221.074219 84.984375 221.074219 81.382813 C 221.074219 77.785156 226.476563 77.785156 226.476563 81.382813 \"/>\n",
       "<path style=\"fill:none;stroke-width:0.75;stroke-linecap:round;stroke-linejoin:round;stroke:rgb(0%,0%,0%);stroke-opacity:1;stroke-miterlimit:10;\" d=\"M 226.859375 81.226563 C 226.859375 84.828125 221.460938 84.828125 221.460938 81.226563 C 221.460938 77.628906 226.859375 77.628906 226.859375 81.226563 \"/>\n",
       "<path style=\"fill:none;stroke-width:0.75;stroke-linecap:round;stroke-linejoin:round;stroke:rgb(0%,0%,0%);stroke-opacity:1;stroke-miterlimit:10;\" d=\"M 227.242188 81.074219 C 227.242188 84.671875 221.84375 84.671875 221.84375 81.074219 C 221.84375 77.472656 227.242188 77.472656 227.242188 81.074219 \"/>\n",
       "<path style=\"fill:none;stroke-width:0.75;stroke-linecap:round;stroke-linejoin:round;stroke:rgb(0%,0%,0%);stroke-opacity:1;stroke-miterlimit:10;\" d=\"M 227.628906 80.921875 C 227.628906 84.519531 222.226563 84.519531 222.226563 80.921875 C 222.226563 77.320313 227.628906 77.320313 227.628906 80.921875 \"/>\n",
       "<path style=\"fill:none;stroke-width:0.75;stroke-linecap:round;stroke-linejoin:round;stroke:rgb(0%,0%,0%);stroke-opacity:1;stroke-miterlimit:10;\" d=\"M 228.011719 80.769531 C 228.011719 84.371094 222.613281 84.371094 222.613281 80.769531 C 222.613281 77.167969 228.011719 77.167969 228.011719 80.769531 \"/>\n",
       "<path style=\"fill:none;stroke-width:0.75;stroke-linecap:round;stroke-linejoin:round;stroke:rgb(0%,0%,0%);stroke-opacity:1;stroke-miterlimit:10;\" d=\"M 228.394531 80.621094 C 228.394531 84.21875 222.996094 84.21875 222.996094 80.621094 C 222.996094 77.019531 228.394531 77.019531 228.394531 80.621094 \"/>\n",
       "<path style=\"fill:none;stroke-width:0.75;stroke-linecap:round;stroke-linejoin:round;stroke:rgb(0%,0%,0%);stroke-opacity:1;stroke-miterlimit:10;\" d=\"M 228.78125 80.472656 C 228.78125 84.070313 223.378906 84.070313 223.378906 80.472656 C 223.378906 76.871094 228.78125 76.871094 228.78125 80.472656 \"/>\n",
       "<path style=\"fill:none;stroke-width:0.75;stroke-linecap:round;stroke-linejoin:round;stroke:rgb(0%,0%,0%);stroke-opacity:1;stroke-miterlimit:10;\" d=\"M 229.164063 80.324219 C 229.164063 83.921875 223.765625 83.921875 223.765625 80.324219 C 223.765625 76.722656 229.164063 76.722656 229.164063 80.324219 \"/>\n",
       "<path style=\"fill:none;stroke-width:0.75;stroke-linecap:round;stroke-linejoin:round;stroke:rgb(0%,0%,0%);stroke-opacity:1;stroke-miterlimit:10;\" d=\"M 229.546875 80.179688 C 229.546875 83.777344 224.148438 83.777344 224.148438 80.179688 C 224.148438 76.578125 229.546875 76.578125 229.546875 80.179688 \"/>\n",
       "<path style=\"fill:none;stroke-width:0.75;stroke-linecap:round;stroke-linejoin:round;stroke:rgb(0%,0%,0%);stroke-opacity:1;stroke-miterlimit:10;\" d=\"M 229.933594 80.035156 C 229.933594 83.632813 224.53125 83.632813 224.53125 80.035156 C 224.53125 76.433594 229.933594 76.433594 229.933594 80.035156 \"/>\n",
       "<path style=\"fill:none;stroke-width:0.75;stroke-linecap:round;stroke-linejoin:round;stroke:rgb(0%,0%,0%);stroke-opacity:1;stroke-miterlimit:10;\" d=\"M 230.316406 79.890625 C 230.316406 83.492188 224.914063 83.492188 224.914063 79.890625 C 224.914063 76.292969 230.316406 76.292969 230.316406 79.890625 \"/>\n",
       "<path style=\"fill:none;stroke-width:0.75;stroke-linecap:round;stroke-linejoin:round;stroke:rgb(0%,0%,0%);stroke-opacity:1;stroke-miterlimit:10;\" d=\"M 230.699219 79.75 C 230.699219 83.351563 225.300781 83.351563 225.300781 79.75 C 225.300781 76.148438 230.699219 76.148438 230.699219 79.75 \"/>\n",
       "<path style=\"fill:none;stroke-width:0.75;stroke-linecap:round;stroke-linejoin:round;stroke:rgb(0%,0%,0%);stroke-opacity:1;stroke-miterlimit:10;\" d=\"M 231.085938 79.609375 C 231.085938 83.210938 225.683594 83.210938 225.683594 79.609375 C 225.683594 76.011719 231.085938 76.011719 231.085938 79.609375 \"/>\n",
       "<path style=\"fill:none;stroke-width:0.75;stroke-linecap:round;stroke-linejoin:round;stroke:rgb(0%,0%,0%);stroke-opacity:1;stroke-miterlimit:10;\" d=\"M 231.46875 79.472656 C 231.46875 83.070313 226.066406 83.070313 226.066406 79.472656 C 226.066406 75.871094 231.46875 75.871094 231.46875 79.472656 \"/>\n",
       "<path style=\"fill:none;stroke-width:0.75;stroke-linecap:round;stroke-linejoin:round;stroke:rgb(0%,0%,0%);stroke-opacity:1;stroke-miterlimit:10;\" d=\"M 231.851563 79.335938 C 231.851563 82.933594 226.453125 82.933594 226.453125 79.335938 C 226.453125 75.734375 231.851563 75.734375 231.851563 79.335938 \"/>\n",
       "<path style=\"fill:none;stroke-width:0.75;stroke-linecap:round;stroke-linejoin:round;stroke:rgb(0%,0%,0%);stroke-opacity:1;stroke-miterlimit:10;\" d=\"M 232.234375 79.199219 C 232.234375 82.800781 226.835938 82.800781 226.835938 79.199219 C 226.835938 75.601563 232.234375 75.601563 232.234375 79.199219 \"/>\n",
       "<path style=\"fill:none;stroke-width:0.75;stroke-linecap:round;stroke-linejoin:round;stroke:rgb(0%,0%,0%);stroke-opacity:1;stroke-miterlimit:10;\" d=\"M 232.621094 79.066406 C 232.621094 82.667969 227.21875 82.667969 227.21875 79.066406 C 227.21875 75.464844 232.621094 75.464844 232.621094 79.066406 \"/>\n",
       "<path style=\"fill:none;stroke-width:0.75;stroke-linecap:round;stroke-linejoin:round;stroke:rgb(0%,0%,0%);stroke-opacity:1;stroke-miterlimit:10;\" d=\"M 233.003906 78.933594 C 233.003906 82.535156 227.605469 82.535156 227.605469 78.933594 C 227.605469 75.332031 233.003906 75.332031 233.003906 78.933594 \"/>\n",
       "<path style=\"fill:none;stroke-width:0.75;stroke-linecap:round;stroke-linejoin:round;stroke:rgb(0%,0%,0%);stroke-opacity:1;stroke-miterlimit:10;\" d=\"M 233.386719 78.804688 C 233.386719 82.402344 227.988281 82.402344 227.988281 78.804688 C 227.988281 75.203125 233.386719 75.203125 233.386719 78.804688 \"/>\n",
       "<path style=\"fill:none;stroke-width:0.75;stroke-linecap:round;stroke-linejoin:round;stroke:rgb(0%,0%,0%);stroke-opacity:1;stroke-miterlimit:10;\" d=\"M 233.773438 78.671875 C 233.773438 82.273438 228.371094 82.273438 228.371094 78.671875 C 228.371094 75.074219 233.773438 75.074219 233.773438 78.671875 \"/>\n",
       "<path style=\"fill:none;stroke-width:0.75;stroke-linecap:round;stroke-linejoin:round;stroke:rgb(0%,0%,0%);stroke-opacity:1;stroke-miterlimit:10;\" d=\"M 234.15625 78.546875 C 234.15625 82.144531 228.757813 82.144531 228.757813 78.546875 C 228.757813 74.945313 234.15625 74.945313 234.15625 78.546875 \"/>\n",
       "<path style=\"fill:none;stroke-width:0.75;stroke-linecap:round;stroke-linejoin:round;stroke:rgb(0%,0%,0%);stroke-opacity:1;stroke-miterlimit:10;\" d=\"M 234.539063 78.417969 C 234.539063 82.019531 229.140625 82.019531 229.140625 78.417969 C 229.140625 74.820313 234.539063 74.820313 234.539063 78.417969 \"/>\n",
       "<path style=\"fill:none;stroke-width:0.75;stroke-linecap:round;stroke-linejoin:round;stroke:rgb(0%,0%,0%);stroke-opacity:1;stroke-miterlimit:10;\" d=\"M 234.925781 78.292969 C 234.925781 81.894531 229.523438 81.894531 229.523438 78.292969 C 229.523438 74.695313 234.925781 74.695313 234.925781 78.292969 \"/>\n",
       "<path style=\"fill:none;stroke-width:0.75;stroke-linecap:round;stroke-linejoin:round;stroke:rgb(0%,0%,0%);stroke-opacity:1;stroke-miterlimit:10;\" d=\"M 235.308594 78.167969 C 235.308594 81.769531 229.90625 81.769531 229.90625 78.167969 C 229.90625 74.570313 235.308594 74.570313 235.308594 78.167969 \"/>\n",
       "<path style=\"fill:none;stroke-width:0.75;stroke-linecap:round;stroke-linejoin:round;stroke:rgb(0%,0%,0%);stroke-opacity:1;stroke-miterlimit:10;\" d=\"M 235.691406 78.046875 C 235.691406 81.648438 230.292969 81.648438 230.292969 78.046875 C 230.292969 74.449219 235.691406 74.449219 235.691406 78.046875 \"/>\n",
       "<path style=\"fill:none;stroke-width:0.75;stroke-linecap:round;stroke-linejoin:round;stroke:rgb(0%,0%,0%);stroke-opacity:1;stroke-miterlimit:10;\" d=\"M 236.074219 77.925781 C 236.074219 81.527344 230.675781 81.527344 230.675781 77.925781 C 230.675781 74.328125 236.074219 74.328125 236.074219 77.925781 \"/>\n",
       "<path style=\"fill:none;stroke-width:0.75;stroke-linecap:round;stroke-linejoin:round;stroke:rgb(0%,0%,0%);stroke-opacity:1;stroke-miterlimit:10;\" d=\"M 236.460938 77.808594 C 236.460938 81.40625 231.058594 81.40625 231.058594 77.808594 C 231.058594 74.207031 236.460938 74.207031 236.460938 77.808594 \"/>\n",
       "<path style=\"fill:none;stroke-width:0.75;stroke-linecap:round;stroke-linejoin:round;stroke:rgb(0%,0%,0%);stroke-opacity:1;stroke-miterlimit:10;\" d=\"M 236.84375 77.6875 C 236.84375 81.289063 231.445313 81.289063 231.445313 77.6875 C 231.445313 74.089844 236.84375 74.089844 236.84375 77.6875 \"/>\n",
       "<path style=\"fill:none;stroke-width:0.75;stroke-linecap:round;stroke-linejoin:round;stroke:rgb(0%,0%,0%);stroke-opacity:1;stroke-miterlimit:10;\" d=\"M 237.226563 77.574219 C 237.226563 81.171875 231.828125 81.171875 231.828125 77.574219 C 231.828125 73.972656 237.226563 73.972656 237.226563 77.574219 \"/>\n",
       "<path style=\"fill:none;stroke-width:0.75;stroke-linecap:round;stroke-linejoin:round;stroke:rgb(0%,0%,0%);stroke-opacity:1;stroke-miterlimit:10;\" d=\"M 237.613281 77.457031 C 237.613281 81.058594 232.210938 81.058594 232.210938 77.457031 C 232.210938 73.859375 237.613281 73.859375 237.613281 77.457031 \"/>\n",
       "<path style=\"fill:none;stroke-width:0.75;stroke-linecap:round;stroke-linejoin:round;stroke:rgb(0%,0%,0%);stroke-opacity:1;stroke-miterlimit:10;\" d=\"M 237.996094 77.34375 C 237.996094 80.945313 232.597656 80.945313 232.597656 77.34375 C 232.597656 73.742188 237.996094 73.742188 237.996094 77.34375 \"/>\n",
       "<path style=\"fill:none;stroke-width:0.75;stroke-linecap:round;stroke-linejoin:round;stroke:rgb(0%,0%,0%);stroke-opacity:1;stroke-miterlimit:10;\" d=\"M 238.378906 77.230469 C 238.378906 80.832031 232.980469 80.832031 232.980469 77.230469 C 232.980469 73.632813 238.378906 73.632813 238.378906 77.230469 \"/>\n",
       "<path style=\"fill:none;stroke-width:0.75;stroke-linecap:round;stroke-linejoin:round;stroke:rgb(0%,0%,0%);stroke-opacity:1;stroke-miterlimit:10;\" d=\"M 238.765625 77.121094 C 238.765625 80.722656 233.363281 80.722656 233.363281 77.121094 C 233.363281 73.519531 238.765625 73.519531 238.765625 77.121094 \"/>\n",
       "<path style=\"fill:none;stroke-width:0.75;stroke-linecap:round;stroke-linejoin:round;stroke:rgb(0%,0%,0%);stroke-opacity:1;stroke-miterlimit:10;\" d=\"M 239.148438 77.011719 C 239.148438 80.613281 233.746094 80.613281 233.746094 77.011719 C 233.746094 73.410156 239.148438 73.410156 239.148438 77.011719 \"/>\n",
       "<path style=\"fill:none;stroke-width:0.75;stroke-linecap:round;stroke-linejoin:round;stroke:rgb(0%,0%,0%);stroke-opacity:1;stroke-miterlimit:10;\" d=\"M 239.53125 76.902344 C 239.53125 80.503906 234.132813 80.503906 234.132813 76.902344 C 234.132813 73.304688 239.53125 73.304688 239.53125 76.902344 \"/>\n",
       "<path style=\"fill:none;stroke-width:0.75;stroke-linecap:round;stroke-linejoin:round;stroke:rgb(0%,0%,0%);stroke-opacity:1;stroke-miterlimit:10;\" d=\"M 239.914063 76.796875 C 239.914063 80.398438 234.515625 80.398438 234.515625 76.796875 C 234.515625 73.195313 239.914063 73.195313 239.914063 76.796875 \"/>\n",
       "<path style=\"fill:none;stroke-width:0.75;stroke-linecap:round;stroke-linejoin:round;stroke:rgb(0%,0%,0%);stroke-opacity:1;stroke-miterlimit:10;\" d=\"M 240.300781 76.691406 C 240.300781 80.292969 234.898438 80.292969 234.898438 76.691406 C 234.898438 73.09375 240.300781 73.09375 240.300781 76.691406 \"/>\n",
       "<path style=\"fill:none;stroke-width:0.75;stroke-linecap:round;stroke-linejoin:round;stroke:rgb(0%,0%,0%);stroke-opacity:1;stroke-miterlimit:10;\" d=\"M 240.683594 76.589844 C 240.683594 80.1875 235.285156 80.1875 235.285156 76.589844 C 235.285156 72.988281 240.683594 72.988281 240.683594 76.589844 \"/>\n",
       "<path style=\"fill:none;stroke-width:0.75;stroke-linecap:round;stroke-linejoin:round;stroke:rgb(0%,0%,0%);stroke-opacity:1;stroke-miterlimit:10;\" d=\"M 241.066406 76.484375 C 241.066406 80.085938 235.667969 80.085938 235.667969 76.484375 C 235.667969 72.886719 241.066406 72.886719 241.066406 76.484375 \"/>\n",
       "<path style=\"fill:none;stroke-width:0.75;stroke-linecap:round;stroke-linejoin:round;stroke:rgb(0%,0%,0%);stroke-opacity:1;stroke-miterlimit:10;\" d=\"M 241.453125 76.386719 C 241.453125 79.984375 236.050781 79.984375 236.050781 76.386719 C 236.050781 72.785156 241.453125 72.785156 241.453125 76.386719 \"/>\n",
       "<path style=\"fill:none;stroke-width:0.75;stroke-linecap:round;stroke-linejoin:round;stroke:rgb(0%,0%,0%);stroke-opacity:1;stroke-miterlimit:10;\" d=\"M 241.835938 76.285156 C 241.835938 79.886719 236.4375 79.886719 236.4375 76.285156 C 236.4375 72.6875 241.835938 72.6875 241.835938 76.285156 \"/>\n",
       "<path style=\"fill:none;stroke-width:0.75;stroke-linecap:round;stroke-linejoin:round;stroke:rgb(0%,0%,0%);stroke-opacity:1;stroke-miterlimit:10;\" d=\"M 242.21875 76.1875 C 242.21875 79.789063 236.820313 79.789063 236.820313 76.1875 C 236.820313 72.585938 242.21875 72.585938 242.21875 76.1875 \"/>\n",
       "<path style=\"fill:none;stroke-width:0.75;stroke-linecap:round;stroke-linejoin:round;stroke:rgb(0%,0%,0%);stroke-opacity:1;stroke-miterlimit:10;\" d=\"M 242.605469 76.089844 C 242.605469 79.691406 237.203125 79.691406 237.203125 76.089844 C 237.203125 72.492188 242.605469 72.492188 242.605469 76.089844 \"/>\n",
       "<path style=\"fill:none;stroke-width:0.75;stroke-linecap:round;stroke-linejoin:round;stroke:rgb(0%,0%,0%);stroke-opacity:1;stroke-miterlimit:10;\" d=\"M 242.988281 75.996094 C 242.988281 79.597656 237.589844 79.597656 237.589844 75.996094 C 237.589844 72.394531 242.988281 72.394531 242.988281 75.996094 \"/>\n",
       "<path style=\"fill:none;stroke-width:0.75;stroke-linecap:round;stroke-linejoin:round;stroke:rgb(0%,0%,0%);stroke-opacity:1;stroke-miterlimit:10;\" d=\"M 243.371094 75.902344 C 243.371094 79.503906 237.972656 79.503906 237.972656 75.902344 C 237.972656 72.300781 243.371094 72.300781 243.371094 75.902344 \"/>\n",
       "<path style=\"fill:none;stroke-width:0.75;stroke-linecap:round;stroke-linejoin:round;stroke:rgb(0%,0%,0%);stroke-opacity:1;stroke-miterlimit:10;\" d=\"M 243.757813 75.808594 C 243.757813 79.410156 238.355469 79.410156 238.355469 75.808594 C 238.355469 72.210938 243.757813 72.210938 243.757813 75.808594 \"/>\n",
       "<path style=\"fill:none;stroke-width:0.75;stroke-linecap:round;stroke-linejoin:round;stroke:rgb(0%,0%,0%);stroke-opacity:1;stroke-miterlimit:10;\" d=\"M 244.140625 75.71875 C 244.140625 79.320313 238.738281 79.320313 238.738281 75.71875 C 238.738281 72.121094 244.140625 72.121094 244.140625 75.71875 \"/>\n",
       "<path style=\"fill:none;stroke-width:0.75;stroke-linecap:round;stroke-linejoin:round;stroke:rgb(0%,0%,0%);stroke-opacity:1;stroke-miterlimit:10;\" d=\"M 244.523438 75.628906 C 244.523438 79.230469 239.125 79.230469 239.125 75.628906 C 239.125 72.03125 244.523438 72.03125 244.523438 75.628906 \"/>\n",
       "<path style=\"fill:none;stroke-width:0.75;stroke-linecap:round;stroke-linejoin:round;stroke:rgb(0%,0%,0%);stroke-opacity:1;stroke-miterlimit:10;\" d=\"M 244.90625 75.542969 C 244.90625 79.140625 239.507813 79.140625 239.507813 75.542969 C 239.507813 71.941406 244.90625 71.941406 244.90625 75.542969 \"/>\n",
       "<path style=\"fill:none;stroke-width:0.75;stroke-linecap:round;stroke-linejoin:round;stroke:rgb(0%,0%,0%);stroke-opacity:1;stroke-miterlimit:10;\" d=\"M 245.292969 75.453125 C 245.292969 79.054688 239.890625 79.054688 239.890625 75.453125 C 239.890625 71.855469 245.292969 71.855469 245.292969 75.453125 \"/>\n",
       "<path style=\"fill:none;stroke-width:0.75;stroke-linecap:round;stroke-linejoin:round;stroke:rgb(0%,0%,0%);stroke-opacity:1;stroke-miterlimit:10;\" d=\"M 245.675781 75.371094 C 245.675781 78.96875 240.277344 78.96875 240.277344 75.371094 C 240.277344 71.769531 245.675781 71.769531 245.675781 75.371094 \"/>\n",
       "<path style=\"fill:none;stroke-width:0.75;stroke-linecap:round;stroke-linejoin:round;stroke:rgb(0%,0%,0%);stroke-opacity:1;stroke-miterlimit:10;\" d=\"M 246.058594 75.285156 C 246.058594 78.886719 240.660156 78.886719 240.660156 75.285156 C 240.660156 71.6875 246.058594 71.6875 246.058594 75.285156 \"/>\n",
       "<path style=\"fill:none;stroke-width:0.75;stroke-linecap:round;stroke-linejoin:round;stroke:rgb(0%,0%,0%);stroke-opacity:1;stroke-miterlimit:10;\" d=\"M 246.445313 75.203125 C 246.445313 78.804688 241.042969 78.804688 241.042969 75.203125 C 241.042969 71.601563 246.445313 71.601563 246.445313 75.203125 \"/>\n",
       "<path style=\"fill:none;stroke-width:0.75;stroke-linecap:round;stroke-linejoin:round;stroke:rgb(0%,0%,0%);stroke-opacity:1;stroke-miterlimit:10;\" d=\"M 246.828125 75.121094 C 246.828125 78.722656 241.429688 78.722656 241.429688 75.121094 C 241.429688 71.523438 246.828125 71.523438 246.828125 75.121094 \"/>\n",
       "<path style=\"fill:none;stroke-width:0.75;stroke-linecap:round;stroke-linejoin:round;stroke:rgb(0%,0%,0%);stroke-opacity:1;stroke-miterlimit:10;\" d=\"M 247.210938 75.042969 C 247.210938 78.644531 241.8125 78.644531 241.8125 75.042969 C 241.8125 71.441406 247.210938 71.441406 247.210938 75.042969 \"/>\n",
       "<path style=\"fill:none;stroke-width:0.75;stroke-linecap:round;stroke-linejoin:round;stroke:rgb(0%,0%,0%);stroke-opacity:1;stroke-miterlimit:10;\" d=\"M 247.597656 74.964844 C 247.597656 78.5625 242.195313 78.5625 242.195313 74.964844 C 242.195313 71.363281 247.597656 71.363281 247.597656 74.964844 \"/>\n",
       "<path style=\"fill:none;stroke-width:0.75;stroke-linecap:round;stroke-linejoin:round;stroke:rgb(0%,0%,0%);stroke-opacity:1;stroke-miterlimit:10;\" d=\"M 247.980469 74.886719 C 247.980469 78.488281 242.578125 78.488281 242.578125 74.886719 C 242.578125 71.289063 247.980469 71.289063 247.980469 74.886719 \"/>\n",
       "<path style=\"fill:none;stroke-width:0.75;stroke-linecap:round;stroke-linejoin:round;stroke:rgb(0%,0%,0%);stroke-opacity:1;stroke-miterlimit:10;\" d=\"M 248.363281 74.8125 C 248.363281 78.410156 242.964844 78.410156 242.964844 74.8125 C 242.964844 71.210938 248.363281 71.210938 248.363281 74.8125 \"/>\n",
       "<path style=\"fill:none;stroke-width:0.75;stroke-linecap:round;stroke-linejoin:round;stroke:rgb(0%,0%,0%);stroke-opacity:1;stroke-miterlimit:10;\" d=\"M 248.746094 74.738281 C 248.746094 78.339844 243.347656 78.339844 243.347656 74.738281 C 243.347656 71.136719 248.746094 71.136719 248.746094 74.738281 \"/>\n",
       "<path style=\"fill:none;stroke-width:0.75;stroke-linecap:round;stroke-linejoin:round;stroke:rgb(0%,0%,0%);stroke-opacity:1;stroke-miterlimit:10;\" d=\"M 249.132813 74.664063 C 249.132813 78.265625 243.730469 78.265625 243.730469 74.664063 C 243.730469 71.066406 249.132813 71.066406 249.132813 74.664063 \"/>\n",
       "<path style=\"fill:none;stroke-width:0.75;stroke-linecap:round;stroke-linejoin:round;stroke:rgb(0%,0%,0%);stroke-opacity:1;stroke-miterlimit:10;\" d=\"M 249.515625 74.59375 C 249.515625 78.195313 244.117188 78.195313 244.117188 74.59375 C 244.117188 70.996094 249.515625 70.996094 249.515625 74.59375 \"/>\n",
       "<path style=\"fill:none;stroke-width:0.75;stroke-linecap:round;stroke-linejoin:round;stroke:rgb(0%,0%,0%);stroke-opacity:1;stroke-miterlimit:10;\" d=\"M 249.898438 74.523438 C 249.898438 78.125 244.5 78.125 244.5 74.523438 C 244.5 70.925781 249.898438 70.925781 249.898438 74.523438 \"/>\n",
       "<path style=\"fill:none;stroke-width:0.75;stroke-linecap:round;stroke-linejoin:round;stroke:rgb(0%,0%,0%);stroke-opacity:1;stroke-miterlimit:10;\" d=\"M 250.285156 74.457031 C 250.285156 78.054688 244.882813 78.054688 244.882813 74.457031 C 244.882813 70.855469 250.285156 70.855469 250.285156 74.457031 \"/>\n",
       "<path style=\"fill:none;stroke-width:0.75;stroke-linecap:round;stroke-linejoin:round;stroke:rgb(0%,0%,0%);stroke-opacity:1;stroke-miterlimit:10;\" d=\"M 250.667969 74.390625 C 250.667969 77.988281 245.269531 77.988281 245.269531 74.390625 C 245.269531 70.789063 250.667969 70.789063 250.667969 74.390625 \"/>\n",
       "<path style=\"fill:none;stroke-width:0.75;stroke-linecap:round;stroke-linejoin:round;stroke:rgb(0%,0%,0%);stroke-opacity:1;stroke-miterlimit:10;\" d=\"M 251.050781 74.324219 C 251.050781 77.921875 245.652344 77.921875 245.652344 74.324219 C 245.652344 70.722656 251.050781 70.722656 251.050781 74.324219 \"/>\n",
       "<path style=\"fill:none;stroke-width:0.75;stroke-linecap:round;stroke-linejoin:round;stroke:rgb(0%,0%,0%);stroke-opacity:1;stroke-miterlimit:10;\" d=\"M 251.4375 74.257813 C 251.4375 77.859375 246.035156 77.859375 246.035156 74.257813 C 246.035156 70.660156 251.4375 70.660156 251.4375 74.257813 \"/>\n",
       "<path style=\"fill:none;stroke-width:0.75;stroke-linecap:round;stroke-linejoin:round;stroke:rgb(0%,0%,0%);stroke-opacity:1;stroke-miterlimit:10;\" d=\"M 251.820313 74.195313 C 251.820313 77.796875 246.421875 77.796875 246.421875 74.195313 C 246.421875 70.597656 251.820313 70.597656 251.820313 74.195313 \"/>\n",
       "<path style=\"fill:none;stroke-width:0.75;stroke-linecap:round;stroke-linejoin:round;stroke:rgb(0%,0%,0%);stroke-opacity:1;stroke-miterlimit:10;\" d=\"M 252.203125 74.132813 C 252.203125 77.734375 246.804688 77.734375 246.804688 74.132813 C 246.804688 70.535156 252.203125 70.535156 252.203125 74.132813 \"/>\n",
       "<path style=\"fill:none;stroke-width:0.75;stroke-linecap:round;stroke-linejoin:round;stroke:rgb(0%,0%,0%);stroke-opacity:1;stroke-miterlimit:10;\" d=\"M 252.589844 74.074219 C 252.589844 77.675781 247.1875 77.675781 247.1875 74.074219 C 247.1875 70.472656 252.589844 70.472656 252.589844 74.074219 \"/>\n",
       "<path style=\"fill:none;stroke-width:0.75;stroke-linecap:round;stroke-linejoin:round;stroke:rgb(0%,0%,0%);stroke-opacity:1;stroke-miterlimit:10;\" d=\"M 252.972656 74.015625 C 252.972656 77.617188 247.570313 77.617188 247.570313 74.015625 C 247.570313 70.414063 252.972656 70.414063 252.972656 74.015625 \"/>\n",
       "<path style=\"fill:none;stroke-width:0.75;stroke-linecap:round;stroke-linejoin:round;stroke:rgb(0%,0%,0%);stroke-opacity:1;stroke-miterlimit:10;\" d=\"M 253.355469 73.957031 C 253.355469 77.558594 247.957031 77.558594 247.957031 73.957031 C 247.957031 70.359375 253.355469 70.359375 253.355469 73.957031 \"/>\n",
       "<path style=\"fill:none;stroke-width:0.75;stroke-linecap:round;stroke-linejoin:round;stroke:rgb(0%,0%,0%);stroke-opacity:1;stroke-miterlimit:10;\" d=\"M 253.738281 73.902344 C 253.738281 77.503906 248.339844 77.503906 248.339844 73.902344 C 248.339844 70.300781 253.738281 70.300781 253.738281 73.902344 \"/>\n",
       "<path style=\"fill:none;stroke-width:0.75;stroke-linecap:round;stroke-linejoin:round;stroke:rgb(0%,0%,0%);stroke-opacity:1;stroke-miterlimit:10;\" d=\"M 254.125 73.847656 C 254.125 77.449219 248.722656 77.449219 248.722656 73.847656 C 248.722656 70.246094 254.125 70.246094 254.125 73.847656 \"/>\n",
       "<path style=\"fill:none;stroke-width:0.75;stroke-linecap:round;stroke-linejoin:round;stroke:rgb(0%,0%,0%);stroke-opacity:1;stroke-miterlimit:10;\" d=\"M 254.507813 73.792969 C 254.507813 77.394531 249.109375 77.394531 249.109375 73.792969 C 249.109375 70.195313 254.507813 70.195313 254.507813 73.792969 \"/>\n",
       "<path style=\"fill:none;stroke-width:0.75;stroke-linecap:round;stroke-linejoin:round;stroke:rgb(0%,0%,0%);stroke-opacity:1;stroke-miterlimit:10;\" d=\"M 254.890625 73.742188 C 254.890625 77.34375 249.492188 77.34375 249.492188 73.742188 C 249.492188 70.144531 254.890625 70.144531 254.890625 73.742188 \"/>\n",
       "<path style=\"fill:none;stroke-width:0.75;stroke-linecap:round;stroke-linejoin:round;stroke:rgb(0%,0%,0%);stroke-opacity:1;stroke-miterlimit:10;\" d=\"M 255.277344 73.691406 C 255.277344 77.292969 249.875 77.292969 249.875 73.691406 C 249.875 70.09375 255.277344 70.09375 255.277344 73.691406 \"/>\n",
       "<path style=\"fill:none;stroke-width:0.75;stroke-linecap:round;stroke-linejoin:round;stroke:rgb(0%,0%,0%);stroke-opacity:1;stroke-miterlimit:10;\" d=\"M 255.660156 73.644531 C 255.660156 77.242188 250.261719 77.242188 250.261719 73.644531 C 250.261719 70.042969 255.660156 70.042969 255.660156 73.644531 \"/>\n",
       "<path style=\"fill:none;stroke-width:0.75;stroke-linecap:round;stroke-linejoin:round;stroke:rgb(0%,0%,0%);stroke-opacity:1;stroke-miterlimit:10;\" d=\"M 256.042969 73.597656 C 256.042969 77.195313 250.644531 77.195313 250.644531 73.597656 C 250.644531 69.996094 256.042969 69.996094 256.042969 73.597656 \"/>\n",
       "<path style=\"fill:none;stroke-width:0.75;stroke-linecap:round;stroke-linejoin:round;stroke:rgb(0%,0%,0%);stroke-opacity:1;stroke-miterlimit:10;\" d=\"M 256.429688 73.550781 C 256.429688 77.148438 251.027344 77.148438 251.027344 73.550781 C 251.027344 69.949219 256.429688 69.949219 256.429688 73.550781 \"/>\n",
       "<path style=\"fill:none;stroke-width:0.75;stroke-linecap:round;stroke-linejoin:round;stroke:rgb(0%,0%,0%);stroke-opacity:1;stroke-miterlimit:10;\" d=\"M 256.8125 73.503906 C 256.8125 77.105469 251.410156 77.105469 251.410156 73.503906 C 251.410156 69.90625 256.8125 69.90625 256.8125 73.503906 \"/>\n",
       "<path style=\"fill:none;stroke-width:0.75;stroke-linecap:round;stroke-linejoin:round;stroke:rgb(0%,0%,0%);stroke-opacity:1;stroke-miterlimit:10;\" d=\"M 257.195313 73.460938 C 257.195313 77.0625 251.796875 77.0625 251.796875 73.460938 C 251.796875 69.863281 257.195313 69.863281 257.195313 73.460938 \"/>\n",
       "<path style=\"fill:none;stroke-width:0.75;stroke-linecap:round;stroke-linejoin:round;stroke:rgb(0%,0%,0%);stroke-opacity:1;stroke-miterlimit:10;\" d=\"M 257.578125 73.417969 C 257.578125 77.019531 252.179688 77.019531 252.179688 73.417969 C 252.179688 69.820313 257.578125 69.820313 257.578125 73.417969 \"/>\n",
       "<path style=\"fill:none;stroke-width:0.75;stroke-linecap:round;stroke-linejoin:round;stroke:rgb(0%,0%,0%);stroke-opacity:1;stroke-miterlimit:10;\" d=\"M 257.964844 73.378906 C 257.964844 76.980469 252.5625 76.980469 252.5625 73.378906 C 252.5625 69.777344 257.964844 69.777344 257.964844 73.378906 \"/>\n",
       "<path style=\"fill:none;stroke-width:0.75;stroke-linecap:round;stroke-linejoin:round;stroke:rgb(0%,0%,0%);stroke-opacity:1;stroke-miterlimit:10;\" d=\"M 258.347656 73.339844 C 258.347656 76.941406 252.949219 76.941406 252.949219 73.339844 C 252.949219 69.738281 258.347656 69.738281 258.347656 73.339844 \"/>\n",
       "<path style=\"fill:none;stroke-width:0.75;stroke-linecap:round;stroke-linejoin:round;stroke:rgb(0%,0%,0%);stroke-opacity:1;stroke-miterlimit:10;\" d=\"M 258.730469 73.300781 C 258.730469 76.902344 253.332031 76.902344 253.332031 73.300781 C 253.332031 69.703125 258.730469 69.703125 258.730469 73.300781 \"/>\n",
       "<path style=\"fill:none;stroke-width:0.75;stroke-linecap:round;stroke-linejoin:round;stroke:rgb(0%,0%,0%);stroke-opacity:1;stroke-miterlimit:10;\" d=\"M 259.117188 73.265625 C 259.117188 76.867188 253.714844 76.867188 253.714844 73.265625 C 253.714844 69.664063 259.117188 69.664063 259.117188 73.265625 \"/>\n",
       "<path style=\"fill:none;stroke-width:0.75;stroke-linecap:round;stroke-linejoin:round;stroke:rgb(0%,0%,0%);stroke-opacity:1;stroke-miterlimit:10;\" d=\"M 259.5 73.230469 C 259.5 76.832031 254.101563 76.832031 254.101563 73.230469 C 254.101563 69.628906 259.5 69.628906 259.5 73.230469 \"/>\n",
       "<path style=\"fill:none;stroke-width:0.75;stroke-linecap:round;stroke-linejoin:round;stroke:rgb(0%,0%,0%);stroke-opacity:1;stroke-miterlimit:10;\" d=\"M 259.882813 73.195313 C 259.882813 76.796875 254.484375 76.796875 254.484375 73.195313 C 254.484375 69.597656 259.882813 69.597656 259.882813 73.195313 \"/>\n",
       "<path style=\"fill:none;stroke-width:0.75;stroke-linecap:round;stroke-linejoin:round;stroke:rgb(0%,0%,0%);stroke-opacity:1;stroke-miterlimit:10;\" d=\"M 260.269531 73.164063 C 260.269531 76.765625 254.867188 76.765625 254.867188 73.164063 C 254.867188 69.5625 260.269531 69.5625 260.269531 73.164063 \"/>\n",
       "<path style=\"fill:none;stroke-width:0.75;stroke-linecap:round;stroke-linejoin:round;stroke:rgb(0%,0%,0%);stroke-opacity:1;stroke-miterlimit:10;\" d=\"M 260.652344 73.132813 C 260.652344 76.734375 255.253906 76.734375 255.253906 73.132813 C 255.253906 69.53125 260.652344 69.53125 260.652344 73.132813 \"/>\n",
       "<path style=\"fill:none;stroke-width:0.75;stroke-linecap:round;stroke-linejoin:round;stroke:rgb(0%,0%,0%);stroke-opacity:1;stroke-miterlimit:10;\" d=\"M 261.035156 73.105469 C 261.035156 76.703125 255.636719 76.703125 255.636719 73.105469 C 255.636719 69.503906 261.035156 69.503906 261.035156 73.105469 \"/>\n",
       "<path style=\"fill:none;stroke-width:0.75;stroke-linecap:round;stroke-linejoin:round;stroke:rgb(0%,0%,0%);stroke-opacity:1;stroke-miterlimit:10;\" d=\"M 261.421875 73.074219 C 261.421875 76.675781 256.019531 76.675781 256.019531 73.074219 C 256.019531 69.476563 261.421875 69.476563 261.421875 73.074219 \"/>\n",
       "<path style=\"fill:none;stroke-width:0.75;stroke-linecap:round;stroke-linejoin:round;stroke:rgb(0%,0%,0%);stroke-opacity:1;stroke-miterlimit:10;\" d=\"M 261.804688 73.046875 C 261.804688 76.648438 256.402344 76.648438 256.402344 73.046875 C 256.402344 69.449219 261.804688 69.449219 261.804688 73.046875 \"/>\n",
       "<path style=\"fill:none;stroke-width:0.75;stroke-linecap:round;stroke-linejoin:round;stroke:rgb(0%,0%,0%);stroke-opacity:1;stroke-miterlimit:10;\" d=\"M 262.1875 73.023438 C 262.1875 76.621094 256.789063 76.621094 256.789063 73.023438 C 256.789063 69.421875 262.1875 69.421875 262.1875 73.023438 \"/>\n",
       "<path style=\"fill:none;stroke-width:0.75;stroke-linecap:round;stroke-linejoin:round;stroke:rgb(0%,0%,0%);stroke-opacity:1;stroke-miterlimit:10;\" d=\"M 262.570313 73 C 262.570313 76.597656 257.171875 76.597656 257.171875 73 C 257.171875 69.398438 262.570313 69.398438 262.570313 73 \"/>\n",
       "<path style=\"fill:none;stroke-width:0.75;stroke-linecap:round;stroke-linejoin:round;stroke:rgb(0%,0%,0%);stroke-opacity:1;stroke-miterlimit:10;\" d=\"M 262.957031 72.976563 C 262.957031 76.578125 257.554688 76.578125 257.554688 72.976563 C 257.554688 69.375 262.957031 69.375 262.957031 72.976563 \"/>\n",
       "<path style=\"fill:none;stroke-width:0.75;stroke-linecap:round;stroke-linejoin:round;stroke:rgb(0%,0%,0%);stroke-opacity:1;stroke-miterlimit:10;\" d=\"M 263.339844 72.953125 C 263.339844 76.554688 257.941406 76.554688 257.941406 72.953125 C 257.941406 69.355469 263.339844 69.355469 263.339844 72.953125 \"/>\n",
       "<path style=\"fill:none;stroke-width:0.75;stroke-linecap:round;stroke-linejoin:round;stroke:rgb(0%,0%,0%);stroke-opacity:1;stroke-miterlimit:10;\" d=\"M 263.722656 72.933594 C 263.722656 76.535156 258.324219 76.535156 258.324219 72.933594 C 258.324219 69.335938 263.722656 69.335938 263.722656 72.933594 \"/>\n",
       "<path style=\"fill:none;stroke-width:0.75;stroke-linecap:round;stroke-linejoin:round;stroke:rgb(0%,0%,0%);stroke-opacity:1;stroke-miterlimit:10;\" d=\"M 264.109375 72.917969 C 264.109375 76.515625 258.707031 76.515625 258.707031 72.917969 C 258.707031 69.316406 264.109375 69.316406 264.109375 72.917969 \"/>\n",
       "<path style=\"fill:none;stroke-width:0.75;stroke-linecap:round;stroke-linejoin:round;stroke:rgb(0%,0%,0%);stroke-opacity:1;stroke-miterlimit:10;\" d=\"M 264.492188 72.898438 C 264.492188 76.5 259.09375 76.5 259.09375 72.898438 C 259.09375 69.300781 264.492188 69.300781 264.492188 72.898438 \"/>\n",
       "<path style=\"fill:none;stroke-width:0.75;stroke-linecap:round;stroke-linejoin:round;stroke:rgb(0%,0%,0%);stroke-opacity:1;stroke-miterlimit:10;\" d=\"M 264.875 72.882813 C 264.875 76.484375 259.476563 76.484375 259.476563 72.882813 C 259.476563 69.285156 264.875 69.285156 264.875 72.882813 \"/>\n",
       "<path style=\"fill:none;stroke-width:0.75;stroke-linecap:round;stroke-linejoin:round;stroke:rgb(0%,0%,0%);stroke-opacity:1;stroke-miterlimit:10;\" d=\"M 265.261719 72.867188 C 265.261719 76.46875 259.859375 76.46875 259.859375 72.867188 C 259.859375 69.269531 265.261719 69.269531 265.261719 72.867188 \"/>\n",
       "<path style=\"fill:none;stroke-width:0.75;stroke-linecap:round;stroke-linejoin:round;stroke:rgb(0%,0%,0%);stroke-opacity:1;stroke-miterlimit:10;\" d=\"M 265.644531 72.855469 C 265.644531 76.457031 260.242188 76.457031 260.242188 72.855469 C 260.242188 69.253906 265.644531 69.253906 265.644531 72.855469 \"/>\n",
       "<path style=\"fill:none;stroke-width:0.75;stroke-linecap:round;stroke-linejoin:round;stroke:rgb(0%,0%,0%);stroke-opacity:1;stroke-miterlimit:10;\" d=\"M 266.027344 72.84375 C 266.027344 76.445313 260.628906 76.445313 260.628906 72.84375 C 260.628906 69.242188 266.027344 69.242188 266.027344 72.84375 \"/>\n",
       "<path style=\"fill:none;stroke-width:0.75;stroke-linecap:round;stroke-linejoin:round;stroke:rgb(0%,0%,0%);stroke-opacity:1;stroke-miterlimit:10;\" d=\"M 266.410156 72.832031 C 266.410156 76.433594 261.011719 76.433594 261.011719 72.832031 C 261.011719 69.234375 266.410156 69.234375 266.410156 72.832031 \"/>\n",
       "<path style=\"fill:none;stroke-width:0.75;stroke-linecap:round;stroke-linejoin:round;stroke:rgb(0%,0%,0%);stroke-opacity:1;stroke-miterlimit:10;\" d=\"M 266.796875 72.824219 C 266.796875 76.425781 261.394531 76.425781 261.394531 72.824219 C 261.394531 69.226563 266.796875 69.226563 266.796875 72.824219 \"/>\n",
       "<path style=\"fill:none;stroke-width:0.75;stroke-linecap:round;stroke-linejoin:round;stroke:rgb(0%,0%,0%);stroke-opacity:1;stroke-miterlimit:10;\" d=\"M 267.179688 72.816406 C 267.179688 76.417969 261.78125 76.417969 261.78125 72.816406 C 261.78125 69.21875 267.179688 69.21875 267.179688 72.816406 \"/>\n",
       "<path style=\"fill:none;stroke-width:0.75;stroke-linecap:round;stroke-linejoin:round;stroke:rgb(0%,0%,0%);stroke-opacity:1;stroke-miterlimit:10;\" d=\"M 267.5625 72.8125 C 267.5625 76.410156 262.164063 76.410156 262.164063 72.8125 C 262.164063 69.210938 267.5625 69.210938 267.5625 72.8125 \"/>\n",
       "<path style=\"fill:none;stroke-width:0.75;stroke-linecap:round;stroke-linejoin:round;stroke:rgb(0%,0%,0%);stroke-opacity:1;stroke-miterlimit:10;\" d=\"M 267.949219 72.804688 C 267.949219 76.40625 262.546875 76.40625 262.546875 72.804688 C 262.546875 69.207031 267.949219 69.207031 267.949219 72.804688 \"/>\n",
       "<path style=\"fill:none;stroke-width:0.75;stroke-linecap:round;stroke-linejoin:round;stroke:rgb(0%,0%,0%);stroke-opacity:1;stroke-miterlimit:10;\" d=\"M 268.332031 72.804688 C 268.332031 76.402344 262.933594 76.402344 262.933594 72.804688 C 262.933594 69.203125 268.332031 69.203125 268.332031 72.804688 \"/>\n",
       "<path style=\"fill:none;stroke-width:0.75;stroke-linecap:round;stroke-linejoin:round;stroke:rgb(0%,0%,0%);stroke-opacity:1;stroke-miterlimit:10;\" d=\"M 268.714844 72.800781 C 268.714844 76.402344 263.316406 76.402344 263.316406 72.800781 C 263.316406 69.199219 268.714844 69.199219 268.714844 72.800781 \"/>\n",
       "<path style=\"fill:none;stroke-width:0.75;stroke-linecap:round;stroke-linejoin:round;stroke:rgb(0%,0%,0%);stroke-opacity:1;stroke-miterlimit:10;\" d=\"M 269.101563 72.800781 C 269.101563 76.398438 263.699219 76.398438 263.699219 72.800781 C 263.699219 69.199219 269.101563 69.199219 269.101563 72.800781 \"/>\n",
       "<path style=\"fill:none;stroke-width:0.75;stroke-linecap:round;stroke-linejoin:round;stroke:rgb(0%,0%,0%);stroke-opacity:1;stroke-miterlimit:10;\" d=\"M 269.484375 72.800781 C 269.484375 76.402344 264.085938 76.402344 264.085938 72.800781 C 264.085938 69.199219 269.484375 69.199219 269.484375 72.800781 \"/>\n",
       "<path style=\"fill:none;stroke-width:0.75;stroke-linecap:round;stroke-linejoin:round;stroke:rgb(0%,0%,0%);stroke-opacity:1;stroke-miterlimit:10;\" d=\"M 269.867188 72.804688 C 269.867188 76.402344 264.46875 76.402344 264.46875 72.804688 C 264.46875 69.203125 269.867188 69.203125 269.867188 72.804688 \"/>\n",
       "<path style=\"fill:none;stroke-width:0.75;stroke-linecap:round;stroke-linejoin:round;stroke:rgb(0%,0%,0%);stroke-opacity:1;stroke-miterlimit:10;\" d=\"M 270.253906 72.804688 C 270.253906 76.40625 264.851563 76.40625 264.851563 72.804688 C 264.851563 69.207031 270.253906 69.207031 270.253906 72.804688 \"/>\n",
       "<path style=\"fill:none;stroke-width:0.75;stroke-linecap:round;stroke-linejoin:round;stroke:rgb(0%,0%,0%);stroke-opacity:1;stroke-miterlimit:10;\" d=\"M 270.636719 72.8125 C 270.636719 76.410156 265.234375 76.410156 265.234375 72.8125 C 265.234375 69.210938 270.636719 69.210938 270.636719 72.8125 \"/>\n",
       "<path style=\"fill:none;stroke-width:0.75;stroke-linecap:round;stroke-linejoin:round;stroke:rgb(0%,0%,0%);stroke-opacity:1;stroke-miterlimit:10;\" d=\"M 271.019531 72.816406 C 271.019531 76.417969 265.621094 76.417969 265.621094 72.816406 C 265.621094 69.21875 271.019531 69.21875 271.019531 72.816406 \"/>\n",
       "<path style=\"fill:none;stroke-width:0.75;stroke-linecap:round;stroke-linejoin:round;stroke:rgb(0%,0%,0%);stroke-opacity:1;stroke-miterlimit:10;\" d=\"M 271.402344 72.824219 C 271.402344 76.425781 266.003906 76.425781 266.003906 72.824219 C 266.003906 69.226563 271.402344 69.226563 271.402344 72.824219 \"/>\n",
       "<path style=\"fill:none;stroke-width:0.75;stroke-linecap:round;stroke-linejoin:round;stroke:rgb(0%,0%,0%);stroke-opacity:1;stroke-miterlimit:10;\" d=\"M 271.789063 72.832031 C 271.789063 76.433594 266.386719 76.433594 266.386719 72.832031 C 266.386719 69.234375 271.789063 69.234375 271.789063 72.832031 \"/>\n",
       "<path style=\"fill:none;stroke-width:0.75;stroke-linecap:round;stroke-linejoin:round;stroke:rgb(0%,0%,0%);stroke-opacity:1;stroke-miterlimit:10;\" d=\"M 272.171875 72.84375 C 272.171875 76.445313 266.773438 76.445313 266.773438 72.84375 C 266.773438 69.242188 272.171875 69.242188 272.171875 72.84375 \"/>\n",
       "<path style=\"fill:none;stroke-width:0.75;stroke-linecap:round;stroke-linejoin:round;stroke:rgb(0%,0%,0%);stroke-opacity:1;stroke-miterlimit:10;\" d=\"M 272.554688 72.855469 C 272.554688 76.457031 267.15625 76.457031 267.15625 72.855469 C 267.15625 69.253906 272.554688 69.253906 272.554688 72.855469 \"/>\n",
       "<path style=\"fill:none;stroke-width:0.75;stroke-linecap:round;stroke-linejoin:round;stroke:rgb(0%,0%,0%);stroke-opacity:1;stroke-miterlimit:10;\" d=\"M 272.941406 72.867188 C 272.941406 76.46875 267.539063 76.46875 267.539063 72.867188 C 267.539063 69.269531 272.941406 69.269531 272.941406 72.867188 \"/>\n",
       "<path style=\"fill:none;stroke-width:0.75;stroke-linecap:round;stroke-linejoin:round;stroke:rgb(0%,0%,0%);stroke-opacity:1;stroke-miterlimit:10;\" d=\"M 273.324219 72.882813 C 273.324219 76.484375 267.925781 76.484375 267.925781 72.882813 C 267.925781 69.285156 273.324219 69.285156 273.324219 72.882813 \"/>\n",
       "<path style=\"fill:none;stroke-width:0.75;stroke-linecap:round;stroke-linejoin:round;stroke:rgb(0%,0%,0%);stroke-opacity:1;stroke-miterlimit:10;\" d=\"M 273.707031 72.898438 C 273.707031 76.5 268.308594 76.5 268.308594 72.898438 C 268.308594 69.300781 273.707031 69.300781 273.707031 72.898438 \"/>\n",
       "<path style=\"fill:none;stroke-width:0.75;stroke-linecap:round;stroke-linejoin:round;stroke:rgb(0%,0%,0%);stroke-opacity:1;stroke-miterlimit:10;\" d=\"M 274.09375 72.917969 C 274.09375 76.515625 268.691406 76.515625 268.691406 72.917969 C 268.691406 69.316406 274.09375 69.316406 274.09375 72.917969 \"/>\n",
       "<path style=\"fill:none;stroke-width:0.75;stroke-linecap:round;stroke-linejoin:round;stroke:rgb(0%,0%,0%);stroke-opacity:1;stroke-miterlimit:10;\" d=\"M 274.476563 72.933594 C 274.476563 76.535156 269.074219 76.535156 269.074219 72.933594 C 269.074219 69.335938 274.476563 69.335938 274.476563 72.933594 \"/>\n",
       "<path style=\"fill:none;stroke-width:0.75;stroke-linecap:round;stroke-linejoin:round;stroke:rgb(0%,0%,0%);stroke-opacity:1;stroke-miterlimit:10;\" d=\"M 274.859375 72.953125 C 274.859375 76.554688 269.460938 76.554688 269.460938 72.953125 C 269.460938 69.355469 274.859375 69.355469 274.859375 72.953125 \"/>\n",
       "<path style=\"fill:none;stroke-width:0.75;stroke-linecap:round;stroke-linejoin:round;stroke:rgb(0%,0%,0%);stroke-opacity:1;stroke-miterlimit:10;\" d=\"M 275.242188 72.976563 C 275.242188 76.578125 269.84375 76.578125 269.84375 72.976563 C 269.84375 69.375 275.242188 69.375 275.242188 72.976563 \"/>\n",
       "<path style=\"fill:none;stroke-width:0.75;stroke-linecap:round;stroke-linejoin:round;stroke:rgb(0%,0%,0%);stroke-opacity:1;stroke-miterlimit:10;\" d=\"M 275.628906 73 C 275.628906 76.597656 270.226563 76.597656 270.226563 73 C 270.226563 69.398438 275.628906 69.398438 275.628906 73 \"/>\n",
       "<path style=\"fill:none;stroke-width:0.75;stroke-linecap:round;stroke-linejoin:round;stroke:rgb(0%,0%,0%);stroke-opacity:1;stroke-miterlimit:10;\" d=\"M 276.011719 73.023438 C 276.011719 76.621094 270.613281 76.621094 270.613281 73.023438 C 270.613281 69.421875 276.011719 69.421875 276.011719 73.023438 \"/>\n",
       "<path style=\"fill:none;stroke-width:0.75;stroke-linecap:round;stroke-linejoin:round;stroke:rgb(0%,0%,0%);stroke-opacity:1;stroke-miterlimit:10;\" d=\"M 276.394531 73.046875 C 276.394531 76.648438 270.996094 76.648438 270.996094 73.046875 C 270.996094 69.449219 276.394531 69.449219 276.394531 73.046875 \"/>\n",
       "<path style=\"fill:none;stroke-width:0.75;stroke-linecap:round;stroke-linejoin:round;stroke:rgb(0%,0%,0%);stroke-opacity:1;stroke-miterlimit:10;\" d=\"M 276.78125 73.074219 C 276.78125 76.675781 271.378906 76.675781 271.378906 73.074219 C 271.378906 69.476563 276.78125 69.476563 276.78125 73.074219 \"/>\n",
       "<path style=\"fill:none;stroke-width:0.75;stroke-linecap:round;stroke-linejoin:round;stroke:rgb(0%,0%,0%);stroke-opacity:1;stroke-miterlimit:10;\" d=\"M 277.164063 73.105469 C 277.164063 76.703125 271.765625 76.703125 271.765625 73.105469 C 271.765625 69.503906 277.164063 69.503906 277.164063 73.105469 \"/>\n",
       "<path style=\"fill:none;stroke-width:0.75;stroke-linecap:round;stroke-linejoin:round;stroke:rgb(0%,0%,0%);stroke-opacity:1;stroke-miterlimit:10;\" d=\"M 277.546875 73.132813 C 277.546875 76.734375 272.148438 76.734375 272.148438 73.132813 C 272.148438 69.53125 277.546875 69.53125 277.546875 73.132813 \"/>\n",
       "<path style=\"fill:none;stroke-width:0.75;stroke-linecap:round;stroke-linejoin:round;stroke:rgb(0%,0%,0%);stroke-opacity:1;stroke-miterlimit:10;\" d=\"M 277.933594 73.164063 C 277.933594 76.765625 272.53125 76.765625 272.53125 73.164063 C 272.53125 69.5625 277.933594 69.5625 277.933594 73.164063 \"/>\n",
       "<path style=\"fill:none;stroke-width:0.75;stroke-linecap:round;stroke-linejoin:round;stroke:rgb(0%,0%,0%);stroke-opacity:1;stroke-miterlimit:10;\" d=\"M 278.316406 73.195313 C 278.316406 76.796875 272.914063 76.796875 272.914063 73.195313 C 272.914063 69.597656 278.316406 69.597656 278.316406 73.195313 \"/>\n",
       "<path style=\"fill:none;stroke-width:0.75;stroke-linecap:round;stroke-linejoin:round;stroke:rgb(0%,0%,0%);stroke-opacity:1;stroke-miterlimit:10;\" d=\"M 278.699219 73.230469 C 278.699219 76.832031 273.300781 76.832031 273.300781 73.230469 C 273.300781 69.628906 278.699219 69.628906 278.699219 73.230469 \"/>\n",
       "<path style=\"fill:none;stroke-width:0.75;stroke-linecap:round;stroke-linejoin:round;stroke:rgb(0%,0%,0%);stroke-opacity:1;stroke-miterlimit:10;\" d=\"M 279.085938 73.265625 C 279.085938 76.867188 273.683594 76.867188 273.683594 73.265625 C 273.683594 69.664063 279.085938 69.664063 279.085938 73.265625 \"/>\n",
       "<path style=\"fill:none;stroke-width:0.75;stroke-linecap:round;stroke-linejoin:round;stroke:rgb(0%,0%,0%);stroke-opacity:1;stroke-miterlimit:10;\" d=\"M 279.46875 73.300781 C 279.46875 76.902344 274.066406 76.902344 274.066406 73.300781 C 274.066406 69.703125 279.46875 69.703125 279.46875 73.300781 \"/>\n",
       "<path style=\"fill:none;stroke-width:0.75;stroke-linecap:round;stroke-linejoin:round;stroke:rgb(0%,0%,0%);stroke-opacity:1;stroke-miterlimit:10;\" d=\"M 279.851563 73.339844 C 279.851563 76.941406 274.453125 76.941406 274.453125 73.339844 C 274.453125 69.738281 279.851563 69.738281 279.851563 73.339844 \"/>\n",
       "<path style=\"fill:none;stroke-width:0.75;stroke-linecap:round;stroke-linejoin:round;stroke:rgb(0%,0%,0%);stroke-opacity:1;stroke-miterlimit:10;\" d=\"M 280.234375 73.378906 C 280.234375 76.980469 274.835938 76.980469 274.835938 73.378906 C 274.835938 69.777344 280.234375 69.777344 280.234375 73.378906 \"/>\n",
       "<path style=\"fill:none;stroke-width:0.75;stroke-linecap:round;stroke-linejoin:round;stroke:rgb(0%,0%,0%);stroke-opacity:1;stroke-miterlimit:10;\" d=\"M 280.621094 73.417969 C 280.621094 77.019531 275.21875 77.019531 275.21875 73.417969 C 275.21875 69.820313 280.621094 69.820313 280.621094 73.417969 \"/>\n",
       "<path style=\"fill:none;stroke-width:0.75;stroke-linecap:round;stroke-linejoin:round;stroke:rgb(0%,0%,0%);stroke-opacity:1;stroke-miterlimit:10;\" d=\"M 281.003906 73.460938 C 281.003906 77.0625 275.605469 77.0625 275.605469 73.460938 C 275.605469 69.863281 281.003906 69.863281 281.003906 73.460938 \"/>\n",
       "<path style=\"fill:none;stroke-width:0.75;stroke-linecap:round;stroke-linejoin:round;stroke:rgb(0%,0%,0%);stroke-opacity:1;stroke-miterlimit:10;\" d=\"M 281.386719 73.503906 C 281.386719 77.105469 275.988281 77.105469 275.988281 73.503906 C 275.988281 69.90625 281.386719 69.90625 281.386719 73.503906 \"/>\n",
       "<path style=\"fill:none;stroke-width:0.75;stroke-linecap:round;stroke-linejoin:round;stroke:rgb(0%,0%,0%);stroke-opacity:1;stroke-miterlimit:10;\" d=\"M 281.773438 73.550781 C 281.773438 77.148438 276.371094 77.148438 276.371094 73.550781 C 276.371094 69.949219 281.773438 69.949219 281.773438 73.550781 \"/>\n",
       "<path style=\"fill:none;stroke-width:0.75;stroke-linecap:round;stroke-linejoin:round;stroke:rgb(0%,0%,0%);stroke-opacity:1;stroke-miterlimit:10;\" d=\"M 282.15625 73.597656 C 282.15625 77.195313 276.757813 77.195313 276.757813 73.597656 C 276.757813 69.996094 282.15625 69.996094 282.15625 73.597656 \"/>\n",
       "<path style=\"fill:none;stroke-width:0.75;stroke-linecap:round;stroke-linejoin:round;stroke:rgb(0%,0%,0%);stroke-opacity:1;stroke-miterlimit:10;\" d=\"M 282.539063 73.644531 C 282.539063 77.242188 277.140625 77.242188 277.140625 73.644531 C 277.140625 70.042969 282.539063 70.042969 282.539063 73.644531 \"/>\n",
       "<path style=\"fill:none;stroke-width:0.75;stroke-linecap:round;stroke-linejoin:round;stroke:rgb(0%,0%,0%);stroke-opacity:1;stroke-miterlimit:10;\" d=\"M 282.925781 73.691406 C 282.925781 77.292969 277.523438 77.292969 277.523438 73.691406 C 277.523438 70.09375 282.925781 70.09375 282.925781 73.691406 \"/>\n",
       "<path style=\"fill:none;stroke-width:0.75;stroke-linecap:round;stroke-linejoin:round;stroke:rgb(0%,0%,0%);stroke-opacity:1;stroke-miterlimit:10;\" d=\"M 283.308594 73.742188 C 283.308594 77.34375 277.90625 77.34375 277.90625 73.742188 C 277.90625 70.144531 283.308594 70.144531 283.308594 73.742188 \"/>\n",
       "<path style=\"fill:none;stroke-width:0.75;stroke-linecap:round;stroke-linejoin:round;stroke:rgb(0%,0%,0%);stroke-opacity:1;stroke-miterlimit:10;\" d=\"M 283.691406 73.792969 C 283.691406 77.394531 278.292969 77.394531 278.292969 73.792969 C 278.292969 70.195313 283.691406 70.195313 283.691406 73.792969 \"/>\n",
       "<path style=\"fill:none;stroke-width:0.75;stroke-linecap:round;stroke-linejoin:round;stroke:rgb(0%,0%,0%);stroke-opacity:1;stroke-miterlimit:10;\" d=\"M 284.074219 73.847656 C 284.074219 77.449219 278.675781 77.449219 278.675781 73.847656 C 278.675781 70.246094 284.074219 70.246094 284.074219 73.847656 \"/>\n",
       "<path style=\"fill:none;stroke-width:0.75;stroke-linecap:round;stroke-linejoin:round;stroke:rgb(0%,0%,0%);stroke-opacity:1;stroke-miterlimit:10;\" d=\"M 284.460938 73.902344 C 284.460938 77.503906 279.058594 77.503906 279.058594 73.902344 C 279.058594 70.300781 284.460938 70.300781 284.460938 73.902344 \"/>\n",
       "<path style=\"fill:none;stroke-width:0.75;stroke-linecap:round;stroke-linejoin:round;stroke:rgb(0%,0%,0%);stroke-opacity:1;stroke-miterlimit:10;\" d=\"M 284.84375 73.957031 C 284.84375 77.558594 279.445313 77.558594 279.445313 73.957031 C 279.445313 70.359375 284.84375 70.359375 284.84375 73.957031 \"/>\n",
       "<path style=\"fill:none;stroke-width:0.75;stroke-linecap:round;stroke-linejoin:round;stroke:rgb(0%,0%,0%);stroke-opacity:1;stroke-miterlimit:10;\" d=\"M 285.226563 74.015625 C 285.226563 77.617188 279.828125 77.617188 279.828125 74.015625 C 279.828125 70.414063 285.226563 70.414063 285.226563 74.015625 \"/>\n",
       "<path style=\"fill:none;stroke-width:0.75;stroke-linecap:round;stroke-linejoin:round;stroke:rgb(0%,0%,0%);stroke-opacity:1;stroke-miterlimit:10;\" d=\"M 285.613281 74.074219 C 285.613281 77.675781 280.210938 77.675781 280.210938 74.074219 C 280.210938 70.472656 285.613281 70.472656 285.613281 74.074219 \"/>\n",
       "<path style=\"fill:none;stroke-width:0.75;stroke-linecap:round;stroke-linejoin:round;stroke:rgb(0%,0%,0%);stroke-opacity:1;stroke-miterlimit:10;\" d=\"M 285.996094 74.132813 C 285.996094 77.734375 280.597656 77.734375 280.597656 74.132813 C 280.597656 70.535156 285.996094 70.535156 285.996094 74.132813 \"/>\n",
       "<path style=\"fill:none;stroke-width:0.75;stroke-linecap:round;stroke-linejoin:round;stroke:rgb(0%,0%,0%);stroke-opacity:1;stroke-miterlimit:10;\" d=\"M 286.378906 74.195313 C 286.378906 77.796875 280.980469 77.796875 280.980469 74.195313 C 280.980469 70.597656 286.378906 70.597656 286.378906 74.195313 \"/>\n",
       "<path style=\"fill:none;stroke-width:0.75;stroke-linecap:round;stroke-linejoin:round;stroke:rgb(0%,0%,0%);stroke-opacity:1;stroke-miterlimit:10;\" d=\"M 286.765625 74.257813 C 286.765625 77.859375 281.363281 77.859375 281.363281 74.257813 C 281.363281 70.660156 286.765625 70.660156 286.765625 74.257813 \"/>\n",
       "<path style=\"fill:none;stroke-width:0.75;stroke-linecap:round;stroke-linejoin:round;stroke:rgb(0%,0%,0%);stroke-opacity:1;stroke-miterlimit:10;\" d=\"M 287.148438 74.324219 C 287.148438 77.921875 281.746094 77.921875 281.746094 74.324219 C 281.746094 70.722656 287.148438 70.722656 287.148438 74.324219 \"/>\n",
       "<path style=\"fill:none;stroke-width:0.75;stroke-linecap:round;stroke-linejoin:round;stroke:rgb(0%,0%,0%);stroke-opacity:1;stroke-miterlimit:10;\" d=\"M 287.53125 74.390625 C 287.53125 77.988281 282.132813 77.988281 282.132813 74.390625 C 282.132813 70.789063 287.53125 70.789063 287.53125 74.390625 \"/>\n",
       "<path style=\"fill:none;stroke-width:0.75;stroke-linecap:round;stroke-linejoin:round;stroke:rgb(0%,0%,0%);stroke-opacity:1;stroke-miterlimit:10;\" d=\"M 287.914063 74.457031 C 287.914063 78.054688 282.515625 78.054688 282.515625 74.457031 C 282.515625 70.855469 287.914063 70.855469 287.914063 74.457031 \"/>\n",
       "<path style=\"fill:none;stroke-width:0.75;stroke-linecap:round;stroke-linejoin:round;stroke:rgb(0%,0%,0%);stroke-opacity:1;stroke-miterlimit:10;\" d=\"M 288.300781 74.523438 C 288.300781 78.125 282.898438 78.125 282.898438 74.523438 C 282.898438 70.925781 288.300781 70.925781 288.300781 74.523438 \"/>\n",
       "<path style=\"fill:none;stroke-width:0.75;stroke-linecap:round;stroke-linejoin:round;stroke:rgb(0%,0%,0%);stroke-opacity:1;stroke-miterlimit:10;\" d=\"M 288.683594 74.59375 C 288.683594 78.195313 283.285156 78.195313 283.285156 74.59375 C 283.285156 70.996094 288.683594 70.996094 288.683594 74.59375 \"/>\n",
       "<path style=\"fill:none;stroke-width:0.75;stroke-linecap:round;stroke-linejoin:round;stroke:rgb(0%,0%,0%);stroke-opacity:1;stroke-miterlimit:10;\" d=\"M 289.066406 74.664063 C 289.066406 78.265625 283.667969 78.265625 283.667969 74.664063 C 283.667969 71.066406 289.066406 71.066406 289.066406 74.664063 \"/>\n",
       "<path style=\"fill:none;stroke-width:0.75;stroke-linecap:round;stroke-linejoin:round;stroke:rgb(0%,0%,0%);stroke-opacity:1;stroke-miterlimit:10;\" d=\"M 289.453125 74.738281 C 289.453125 78.339844 284.050781 78.339844 284.050781 74.738281 C 284.050781 71.136719 289.453125 71.136719 289.453125 74.738281 \"/>\n",
       "<path style=\"fill:none;stroke-width:0.75;stroke-linecap:round;stroke-linejoin:round;stroke:rgb(0%,0%,0%);stroke-opacity:1;stroke-miterlimit:10;\" d=\"M 289.835938 74.8125 C 289.835938 78.410156 284.4375 78.410156 284.4375 74.8125 C 284.4375 71.210938 289.835938 71.210938 289.835938 74.8125 \"/>\n",
       "<path style=\"fill:none;stroke-width:0.75;stroke-linecap:round;stroke-linejoin:round;stroke:rgb(0%,0%,0%);stroke-opacity:1;stroke-miterlimit:10;\" d=\"M 290.21875 74.886719 C 290.21875 78.488281 284.820313 78.488281 284.820313 74.886719 C 284.820313 71.289063 290.21875 71.289063 290.21875 74.886719 \"/>\n",
       "<path style=\"fill:none;stroke-width:0.75;stroke-linecap:round;stroke-linejoin:round;stroke:rgb(0%,0%,0%);stroke-opacity:1;stroke-miterlimit:10;\" d=\"M 290.605469 74.964844 C 290.605469 78.5625 285.203125 78.5625 285.203125 74.964844 C 285.203125 71.363281 290.605469 71.363281 290.605469 74.964844 \"/>\n",
       "<path style=\"fill:none;stroke-width:0.75;stroke-linecap:round;stroke-linejoin:round;stroke:rgb(0%,0%,0%);stroke-opacity:1;stroke-miterlimit:10;\" d=\"M 290.988281 75.042969 C 290.988281 78.644531 285.589844 78.644531 285.589844 75.042969 C 285.589844 71.441406 290.988281 71.441406 290.988281 75.042969 \"/>\n",
       "<path style=\"fill:none;stroke-width:0.75;stroke-linecap:round;stroke-linejoin:round;stroke:rgb(0%,0%,0%);stroke-opacity:1;stroke-miterlimit:10;\" d=\"M 291.371094 75.121094 C 291.371094 78.722656 285.972656 78.722656 285.972656 75.121094 C 285.972656 71.523438 291.371094 71.523438 291.371094 75.121094 \"/>\n",
       "<path style=\"fill:none;stroke-width:0.75;stroke-linecap:round;stroke-linejoin:round;stroke:rgb(0%,0%,0%);stroke-opacity:1;stroke-miterlimit:10;\" d=\"M 291.757813 75.203125 C 291.757813 78.804688 286.355469 78.804688 286.355469 75.203125 C 286.355469 71.601563 291.757813 71.601563 291.757813 75.203125 \"/>\n",
       "<path style=\"fill:none;stroke-width:0.75;stroke-linecap:round;stroke-linejoin:round;stroke:rgb(0%,0%,0%);stroke-opacity:1;stroke-miterlimit:10;\" d=\"M 292.140625 75.285156 C 292.140625 78.886719 286.738281 78.886719 286.738281 75.285156 C 286.738281 71.6875 292.140625 71.6875 292.140625 75.285156 \"/>\n",
       "<path style=\"fill:none;stroke-width:0.75;stroke-linecap:round;stroke-linejoin:round;stroke:rgb(0%,0%,0%);stroke-opacity:1;stroke-miterlimit:10;\" d=\"M 292.523438 75.371094 C 292.523438 78.96875 287.125 78.96875 287.125 75.371094 C 287.125 71.769531 292.523438 71.769531 292.523438 75.371094 \"/>\n",
       "<path style=\"fill:none;stroke-width:0.75;stroke-linecap:round;stroke-linejoin:round;stroke:rgb(0%,0%,0%);stroke-opacity:1;stroke-miterlimit:10;\" d=\"M 292.90625 75.453125 C 292.90625 79.054688 287.507813 79.054688 287.507813 75.453125 C 287.507813 71.855469 292.90625 71.855469 292.90625 75.453125 \"/>\n",
       "<path style=\"fill:none;stroke-width:0.75;stroke-linecap:round;stroke-linejoin:round;stroke:rgb(0%,0%,0%);stroke-opacity:1;stroke-miterlimit:10;\" d=\"M 293.292969 75.542969 C 293.292969 79.140625 287.890625 79.140625 287.890625 75.542969 C 287.890625 71.941406 293.292969 71.941406 293.292969 75.542969 \"/>\n",
       "<path style=\"fill:none;stroke-width:0.75;stroke-linecap:round;stroke-linejoin:round;stroke:rgb(0%,0%,0%);stroke-opacity:1;stroke-miterlimit:10;\" d=\"M 293.675781 75.628906 C 293.675781 79.230469 288.277344 79.230469 288.277344 75.628906 C 288.277344 72.03125 293.675781 72.03125 293.675781 75.628906 \"/>\n",
       "<path style=\"fill:none;stroke-width:0.75;stroke-linecap:round;stroke-linejoin:round;stroke:rgb(0%,0%,0%);stroke-opacity:1;stroke-miterlimit:10;\" d=\"M 294.058594 75.71875 C 294.058594 79.320313 288.660156 79.320313 288.660156 75.71875 C 288.660156 72.121094 294.058594 72.121094 294.058594 75.71875 \"/>\n",
       "<path style=\"fill:none;stroke-width:0.75;stroke-linecap:round;stroke-linejoin:round;stroke:rgb(0%,0%,0%);stroke-opacity:1;stroke-miterlimit:10;\" d=\"M 294.445313 75.808594 C 294.445313 79.410156 289.042969 79.410156 289.042969 75.808594 C 289.042969 72.210938 294.445313 72.210938 294.445313 75.808594 \"/>\n",
       "<path style=\"fill:none;stroke-width:0.75;stroke-linecap:round;stroke-linejoin:round;stroke:rgb(0%,0%,0%);stroke-opacity:1;stroke-miterlimit:10;\" d=\"M 294.828125 75.902344 C 294.828125 79.503906 289.429688 79.503906 289.429688 75.902344 C 289.429688 72.300781 294.828125 72.300781 294.828125 75.902344 \"/>\n",
       "<path style=\"fill:none;stroke-width:0.75;stroke-linecap:round;stroke-linejoin:round;stroke:rgb(0%,0%,0%);stroke-opacity:1;stroke-miterlimit:10;\" d=\"M 295.210938 75.996094 C 295.210938 79.597656 289.8125 79.597656 289.8125 75.996094 C 289.8125 72.394531 295.210938 72.394531 295.210938 75.996094 \"/>\n",
       "<path style=\"fill:none;stroke-width:0.75;stroke-linecap:round;stroke-linejoin:round;stroke:rgb(0%,0%,0%);stroke-opacity:1;stroke-miterlimit:10;\" d=\"M 295.597656 76.089844 C 295.597656 79.691406 290.195313 79.691406 290.195313 76.089844 C 290.195313 72.492188 295.597656 72.492188 295.597656 76.089844 \"/>\n",
       "<path style=\"fill:none;stroke-width:0.75;stroke-linecap:round;stroke-linejoin:round;stroke:rgb(0%,0%,0%);stroke-opacity:1;stroke-miterlimit:10;\" d=\"M 295.980469 76.1875 C 295.980469 79.789063 290.578125 79.789063 290.578125 76.1875 C 290.578125 72.585938 295.980469 72.585938 295.980469 76.1875 \"/>\n",
       "<path style=\"fill:none;stroke-width:0.75;stroke-linecap:round;stroke-linejoin:round;stroke:rgb(0%,0%,0%);stroke-opacity:1;stroke-miterlimit:10;\" d=\"M 296.363281 76.285156 C 296.363281 79.886719 290.964844 79.886719 290.964844 76.285156 C 290.964844 72.6875 296.363281 72.6875 296.363281 76.285156 \"/>\n",
       "<path style=\"fill:none;stroke-width:0.75;stroke-linecap:round;stroke-linejoin:round;stroke:rgb(0%,0%,0%);stroke-opacity:1;stroke-miterlimit:10;\" d=\"M 296.746094 76.386719 C 296.746094 79.984375 291.347656 79.984375 291.347656 76.386719 C 291.347656 72.785156 296.746094 72.785156 296.746094 76.386719 \"/>\n",
       "<path style=\"fill:none;stroke-width:0.75;stroke-linecap:round;stroke-linejoin:round;stroke:rgb(0%,0%,0%);stroke-opacity:1;stroke-miterlimit:10;\" d=\"M 297.132813 76.484375 C 297.132813 80.085938 291.730469 80.085938 291.730469 76.484375 C 291.730469 72.886719 297.132813 72.886719 297.132813 76.484375 \"/>\n",
       "<path style=\"fill:none;stroke-width:0.75;stroke-linecap:round;stroke-linejoin:round;stroke:rgb(0%,0%,0%);stroke-opacity:1;stroke-miterlimit:10;\" d=\"M 297.515625 76.589844 C 297.515625 80.1875 292.117188 80.1875 292.117188 76.589844 C 292.117188 72.988281 297.515625 72.988281 297.515625 76.589844 \"/>\n",
       "<path style=\"fill:none;stroke-width:0.75;stroke-linecap:round;stroke-linejoin:round;stroke:rgb(0%,0%,0%);stroke-opacity:1;stroke-miterlimit:10;\" d=\"M 297.898438 76.691406 C 297.898438 80.292969 292.5 80.292969 292.5 76.691406 C 292.5 73.09375 297.898438 73.09375 297.898438 76.691406 \"/>\n",
       "<path style=\"fill:none;stroke-width:0.75;stroke-linecap:round;stroke-linejoin:round;stroke:rgb(0%,0%,0%);stroke-opacity:1;stroke-miterlimit:10;\" d=\"M 298.285156 76.796875 C 298.285156 80.398438 292.882813 80.398438 292.882813 76.796875 C 292.882813 73.195313 298.285156 73.195313 298.285156 76.796875 \"/>\n",
       "<path style=\"fill:none;stroke-width:0.75;stroke-linecap:round;stroke-linejoin:round;stroke:rgb(0%,0%,0%);stroke-opacity:1;stroke-miterlimit:10;\" d=\"M 298.667969 76.902344 C 298.667969 80.503906 293.269531 80.503906 293.269531 76.902344 C 293.269531 73.304688 298.667969 73.304688 298.667969 76.902344 \"/>\n",
       "<path style=\"fill:none;stroke-width:0.75;stroke-linecap:round;stroke-linejoin:round;stroke:rgb(0%,0%,0%);stroke-opacity:1;stroke-miterlimit:10;\" d=\"M 299.050781 77.011719 C 299.050781 80.613281 293.652344 80.613281 293.652344 77.011719 C 293.652344 73.410156 299.050781 73.410156 299.050781 77.011719 \"/>\n",
       "<path style=\"fill:none;stroke-width:0.75;stroke-linecap:round;stroke-linejoin:round;stroke:rgb(0%,0%,0%);stroke-opacity:1;stroke-miterlimit:10;\" d=\"M 299.4375 77.121094 C 299.4375 80.722656 294.035156 80.722656 294.035156 77.121094 C 294.035156 73.519531 299.4375 73.519531 299.4375 77.121094 \"/>\n",
       "<path style=\"fill:none;stroke-width:0.75;stroke-linecap:round;stroke-linejoin:round;stroke:rgb(0%,0%,0%);stroke-opacity:1;stroke-miterlimit:10;\" d=\"M 299.820313 77.230469 C 299.820313 80.832031 294.421875 80.832031 294.421875 77.230469 C 294.421875 73.632813 299.820313 73.632813 299.820313 77.230469 \"/>\n",
       "<path style=\"fill:none;stroke-width:0.75;stroke-linecap:round;stroke-linejoin:round;stroke:rgb(0%,0%,0%);stroke-opacity:1;stroke-miterlimit:10;\" d=\"M 300.203125 77.34375 C 300.203125 80.945313 294.804688 80.945313 294.804688 77.34375 C 294.804688 73.742188 300.203125 73.742188 300.203125 77.34375 \"/>\n",
       "<path style=\"fill:none;stroke-width:0.75;stroke-linecap:round;stroke-linejoin:round;stroke:rgb(0%,0%,0%);stroke-opacity:1;stroke-miterlimit:10;\" d=\"M 300.589844 77.457031 C 300.589844 81.058594 295.1875 81.058594 295.1875 77.457031 C 295.1875 73.859375 300.589844 73.859375 300.589844 77.457031 \"/>\n",
       "<path style=\"fill:none;stroke-width:0.75;stroke-linecap:round;stroke-linejoin:round;stroke:rgb(0%,0%,0%);stroke-opacity:1;stroke-miterlimit:10;\" d=\"M 300.972656 77.574219 C 300.972656 81.171875 295.570313 81.171875 295.570313 77.574219 C 295.570313 73.972656 300.972656 73.972656 300.972656 77.574219 \"/>\n",
       "<path style=\"fill:none;stroke-width:0.75;stroke-linecap:round;stroke-linejoin:round;stroke:rgb(0%,0%,0%);stroke-opacity:1;stroke-miterlimit:10;\" d=\"M 301.355469 77.6875 C 301.355469 81.289063 295.957031 81.289063 295.957031 77.6875 C 295.957031 74.089844 301.355469 74.089844 301.355469 77.6875 \"/>\n",
       "<path style=\"fill:none;stroke-width:0.75;stroke-linecap:round;stroke-linejoin:round;stroke:rgb(0%,0%,0%);stroke-opacity:1;stroke-miterlimit:10;\" d=\"M 301.738281 77.808594 C 301.738281 81.40625 296.339844 81.40625 296.339844 77.808594 C 296.339844 74.207031 301.738281 74.207031 301.738281 77.808594 \"/>\n",
       "<path style=\"fill:none;stroke-width:0.75;stroke-linecap:round;stroke-linejoin:round;stroke:rgb(0%,0%,0%);stroke-opacity:1;stroke-miterlimit:10;\" d=\"M 302.125 77.925781 C 302.125 81.527344 296.722656 81.527344 296.722656 77.925781 C 296.722656 74.328125 302.125 74.328125 302.125 77.925781 \"/>\n",
       "<path style=\"fill:none;stroke-width:0.75;stroke-linecap:round;stroke-linejoin:round;stroke:rgb(0%,0%,0%);stroke-opacity:1;stroke-miterlimit:10;\" d=\"M 302.507813 78.046875 C 302.507813 81.648438 297.109375 81.648438 297.109375 78.046875 C 297.109375 74.449219 302.507813 74.449219 302.507813 78.046875 \"/>\n",
       "<path style=\"fill:none;stroke-width:0.75;stroke-linecap:round;stroke-linejoin:round;stroke:rgb(0%,0%,0%);stroke-opacity:1;stroke-miterlimit:10;\" d=\"M 302.890625 78.167969 C 302.890625 81.769531 297.492188 81.769531 297.492188 78.167969 C 297.492188 74.570313 302.890625 74.570313 302.890625 78.167969 \"/>\n",
       "<path style=\"fill:none;stroke-width:0.75;stroke-linecap:round;stroke-linejoin:round;stroke:rgb(0%,0%,0%);stroke-opacity:1;stroke-miterlimit:10;\" d=\"M 303.277344 78.292969 C 303.277344 81.894531 297.875 81.894531 297.875 78.292969 C 297.875 74.695313 303.277344 74.695313 303.277344 78.292969 \"/>\n",
       "<path style=\"fill:none;stroke-width:0.75;stroke-linecap:round;stroke-linejoin:round;stroke:rgb(0%,0%,0%);stroke-opacity:1;stroke-miterlimit:10;\" d=\"M 303.660156 78.417969 C 303.660156 82.019531 298.261719 82.019531 298.261719 78.417969 C 298.261719 74.820313 303.660156 74.820313 303.660156 78.417969 \"/>\n",
       "<path style=\"fill:none;stroke-width:0.75;stroke-linecap:round;stroke-linejoin:round;stroke:rgb(0%,0%,0%);stroke-opacity:1;stroke-miterlimit:10;\" d=\"M 304.042969 78.546875 C 304.042969 82.144531 298.644531 82.144531 298.644531 78.546875 C 298.644531 74.945313 304.042969 74.945313 304.042969 78.546875 \"/>\n",
       "<path style=\"fill:none;stroke-width:0.75;stroke-linecap:round;stroke-linejoin:round;stroke:rgb(0%,0%,0%);stroke-opacity:1;stroke-miterlimit:10;\" d=\"M 304.429688 78.671875 C 304.429688 82.273438 299.027344 82.273438 299.027344 78.671875 C 299.027344 75.074219 304.429688 75.074219 304.429688 78.671875 \"/>\n",
       "<path style=\"fill:none;stroke-width:0.75;stroke-linecap:round;stroke-linejoin:round;stroke:rgb(0%,0%,0%);stroke-opacity:1;stroke-miterlimit:10;\" d=\"M 304.8125 78.804688 C 304.8125 82.402344 299.410156 82.402344 299.410156 78.804688 C 299.410156 75.203125 304.8125 75.203125 304.8125 78.804688 \"/>\n",
       "<path style=\"fill:none;stroke-width:0.75;stroke-linecap:round;stroke-linejoin:round;stroke:rgb(0%,0%,0%);stroke-opacity:1;stroke-miterlimit:10;\" d=\"M 305.195313 78.933594 C 305.195313 82.535156 299.796875 82.535156 299.796875 78.933594 C 299.796875 75.332031 305.195313 75.332031 305.195313 78.933594 \"/>\n",
       "<path style=\"fill:none;stroke-width:0.75;stroke-linecap:round;stroke-linejoin:round;stroke:rgb(0%,0%,0%);stroke-opacity:1;stroke-miterlimit:10;\" d=\"M 305.578125 79.066406 C 305.578125 82.667969 300.179688 82.667969 300.179688 79.066406 C 300.179688 75.464844 305.578125 75.464844 305.578125 79.066406 \"/>\n",
       "<path style=\"fill:none;stroke-width:0.75;stroke-linecap:round;stroke-linejoin:round;stroke:rgb(0%,0%,0%);stroke-opacity:1;stroke-miterlimit:10;\" d=\"M 305.964844 79.199219 C 305.964844 82.800781 300.5625 82.800781 300.5625 79.199219 C 300.5625 75.601563 305.964844 75.601563 305.964844 79.199219 \"/>\n",
       "<path style=\"fill:none;stroke-width:0.75;stroke-linecap:round;stroke-linejoin:round;stroke:rgb(0%,0%,0%);stroke-opacity:1;stroke-miterlimit:10;\" d=\"M 306.347656 79.335938 C 306.347656 82.933594 300.949219 82.933594 300.949219 79.335938 C 300.949219 75.734375 306.347656 75.734375 306.347656 79.335938 \"/>\n",
       "<path style=\"fill:none;stroke-width:0.75;stroke-linecap:round;stroke-linejoin:round;stroke:rgb(0%,0%,0%);stroke-opacity:1;stroke-miterlimit:10;\" d=\"M 306.730469 79.472656 C 306.730469 83.070313 301.332031 83.070313 301.332031 79.472656 C 301.332031 75.871094 306.730469 75.871094 306.730469 79.472656 \"/>\n",
       "<path style=\"fill:none;stroke-width:0.75;stroke-linecap:round;stroke-linejoin:round;stroke:rgb(0%,0%,0%);stroke-opacity:1;stroke-miterlimit:10;\" d=\"M 307.117188 79.609375 C 307.117188 83.210938 301.714844 83.210938 301.714844 79.609375 C 301.714844 76.011719 307.117188 76.011719 307.117188 79.609375 \"/>\n",
       "<path style=\"fill:none;stroke-width:0.75;stroke-linecap:round;stroke-linejoin:round;stroke:rgb(0%,0%,0%);stroke-opacity:1;stroke-miterlimit:10;\" d=\"M 307.5 79.75 C 307.5 83.351563 302.101563 83.351563 302.101563 79.75 C 302.101563 76.148438 307.5 76.148438 307.5 79.75 \"/>\n",
       "<path style=\"fill:none;stroke-width:0.75;stroke-linecap:round;stroke-linejoin:round;stroke:rgb(0%,0%,0%);stroke-opacity:1;stroke-miterlimit:10;\" d=\"M 307.882813 79.890625 C 307.882813 83.492188 302.484375 83.492188 302.484375 79.890625 C 302.484375 76.292969 307.882813 76.292969 307.882813 79.890625 \"/>\n",
       "<path style=\"fill:none;stroke-width:0.75;stroke-linecap:round;stroke-linejoin:round;stroke:rgb(0%,0%,0%);stroke-opacity:1;stroke-miterlimit:10;\" d=\"M 308.269531 80.035156 C 308.269531 83.632813 302.867188 83.632813 302.867188 80.035156 C 302.867188 76.433594 308.269531 76.433594 308.269531 80.035156 \"/>\n",
       "<path style=\"fill:none;stroke-width:0.75;stroke-linecap:round;stroke-linejoin:round;stroke:rgb(0%,0%,0%);stroke-opacity:1;stroke-miterlimit:10;\" d=\"M 308.652344 80.179688 C 308.652344 83.777344 303.253906 83.777344 303.253906 80.179688 C 303.253906 76.578125 308.652344 76.578125 308.652344 80.179688 \"/>\n",
       "<path style=\"fill:none;stroke-width:0.75;stroke-linecap:round;stroke-linejoin:round;stroke:rgb(0%,0%,0%);stroke-opacity:1;stroke-miterlimit:10;\" d=\"M 309.035156 80.324219 C 309.035156 83.921875 303.636719 83.921875 303.636719 80.324219 C 303.636719 76.722656 309.035156 76.722656 309.035156 80.324219 \"/>\n",
       "<path style=\"fill:none;stroke-width:0.75;stroke-linecap:round;stroke-linejoin:round;stroke:rgb(0%,0%,0%);stroke-opacity:1;stroke-miterlimit:10;\" d=\"M 309.421875 80.472656 C 309.421875 84.070313 304.019531 84.070313 304.019531 80.472656 C 304.019531 76.871094 309.421875 76.871094 309.421875 80.472656 \"/>\n",
       "<path style=\"fill:none;stroke-width:0.75;stroke-linecap:round;stroke-linejoin:round;stroke:rgb(0%,0%,0%);stroke-opacity:1;stroke-miterlimit:10;\" d=\"M 309.804688 80.621094 C 309.804688 84.21875 304.402344 84.21875 304.402344 80.621094 C 304.402344 77.019531 309.804688 77.019531 309.804688 80.621094 \"/>\n",
       "<path style=\"fill:none;stroke-width:0.75;stroke-linecap:round;stroke-linejoin:round;stroke:rgb(0%,0%,0%);stroke-opacity:1;stroke-miterlimit:10;\" d=\"M 310.1875 80.769531 C 310.1875 84.371094 304.789063 84.371094 304.789063 80.769531 C 304.789063 77.167969 310.1875 77.167969 310.1875 80.769531 \"/>\n",
       "<path style=\"fill:none;stroke-width:0.75;stroke-linecap:round;stroke-linejoin:round;stroke:rgb(0%,0%,0%);stroke-opacity:1;stroke-miterlimit:10;\" d=\"M 310.570313 80.921875 C 310.570313 84.519531 305.171875 84.519531 305.171875 80.921875 C 305.171875 77.320313 310.570313 77.320313 310.570313 80.921875 \"/>\n",
       "<path style=\"fill:none;stroke-width:0.75;stroke-linecap:round;stroke-linejoin:round;stroke:rgb(0%,0%,0%);stroke-opacity:1;stroke-miterlimit:10;\" d=\"M 310.957031 81.074219 C 310.957031 84.671875 305.554688 84.671875 305.554688 81.074219 C 305.554688 77.472656 310.957031 77.472656 310.957031 81.074219 \"/>\n",
       "<path style=\"fill:none;stroke-width:0.75;stroke-linecap:round;stroke-linejoin:round;stroke:rgb(0%,0%,0%);stroke-opacity:1;stroke-miterlimit:10;\" d=\"M 311.339844 81.226563 C 311.339844 84.828125 305.941406 84.828125 305.941406 81.226563 C 305.941406 77.628906 311.339844 77.628906 311.339844 81.226563 \"/>\n",
       "<path style=\"fill:none;stroke-width:0.75;stroke-linecap:round;stroke-linejoin:round;stroke:rgb(0%,0%,0%);stroke-opacity:1;stroke-miterlimit:10;\" d=\"M 311.722656 81.382813 C 311.722656 84.984375 306.324219 84.984375 306.324219 81.382813 C 306.324219 77.785156 311.722656 77.785156 311.722656 81.382813 \"/>\n",
       "<path style=\"fill:none;stroke-width:0.75;stroke-linecap:round;stroke-linejoin:round;stroke:rgb(0%,0%,0%);stroke-opacity:1;stroke-miterlimit:10;\" d=\"M 312.109375 81.542969 C 312.109375 85.140625 306.707031 85.140625 306.707031 81.542969 C 306.707031 77.941406 312.109375 77.941406 312.109375 81.542969 \"/>\n",
       "<path style=\"fill:none;stroke-width:0.75;stroke-linecap:round;stroke-linejoin:round;stroke:rgb(0%,0%,0%);stroke-opacity:1;stroke-miterlimit:10;\" d=\"M 312.492188 81.699219 C 312.492188 85.300781 307.09375 85.300781 307.09375 81.699219 C 307.09375 78.101563 312.492188 78.101563 312.492188 81.699219 \"/>\n",
       "<path style=\"fill:none;stroke-width:0.75;stroke-linecap:round;stroke-linejoin:round;stroke:rgb(0%,0%,0%);stroke-opacity:1;stroke-miterlimit:10;\" d=\"M 312.875 81.859375 C 312.875 85.460938 307.476563 85.460938 307.476563 81.859375 C 307.476563 78.261719 312.875 78.261719 312.875 81.859375 \"/>\n",
       "<path style=\"fill:none;stroke-width:0.75;stroke-linecap:round;stroke-linejoin:round;stroke:rgb(0%,0%,0%);stroke-opacity:1;stroke-miterlimit:10;\" d=\"M 313.261719 82.023438 C 313.261719 85.621094 307.859375 85.621094 307.859375 82.023438 C 307.859375 78.421875 313.261719 78.421875 313.261719 82.023438 \"/>\n",
       "<path style=\"fill:none;stroke-width:0.75;stroke-linecap:round;stroke-linejoin:round;stroke:rgb(0%,0%,0%);stroke-opacity:1;stroke-miterlimit:10;\" d=\"M 313.644531 82.1875 C 313.644531 85.785156 308.242188 85.785156 308.242188 82.1875 C 308.242188 78.585938 313.644531 78.585938 313.644531 82.1875 \"/>\n",
       "<path style=\"fill:none;stroke-width:0.75;stroke-linecap:round;stroke-linejoin:round;stroke:rgb(0%,0%,0%);stroke-opacity:1;stroke-miterlimit:10;\" d=\"M 314.027344 82.351563 C 314.027344 85.949219 308.628906 85.949219 308.628906 82.351563 C 308.628906 78.75 314.027344 78.75 314.027344 82.351563 \"/>\n",
       "<path style=\"fill:none;stroke-width:0.75;stroke-linecap:round;stroke-linejoin:round;stroke:rgb(0%,0%,0%);stroke-opacity:1;stroke-miterlimit:10;\" d=\"M 314.410156 82.515625 C 314.410156 86.117188 309.011719 86.117188 309.011719 82.515625 C 309.011719 78.917969 314.410156 78.917969 314.410156 82.515625 \"/>\n",
       "<path style=\"fill:none;stroke-width:0.75;stroke-linecap:round;stroke-linejoin:round;stroke:rgb(0%,0%,0%);stroke-opacity:1;stroke-miterlimit:10;\" d=\"M 314.796875 82.683594 C 314.796875 86.285156 309.394531 86.285156 309.394531 82.683594 C 309.394531 79.085938 314.796875 79.085938 314.796875 82.683594 \"/>\n",
       "<path style=\"fill:none;stroke-width:0.75;stroke-linecap:round;stroke-linejoin:round;stroke:rgb(0%,0%,0%);stroke-opacity:1;stroke-miterlimit:10;\" d=\"M 315.179688 82.855469 C 315.179688 86.453125 309.78125 86.453125 309.78125 82.855469 C 309.78125 79.253906 315.179688 79.253906 315.179688 82.855469 \"/>\n",
       "<path style=\"fill:none;stroke-width:0.75;stroke-linecap:round;stroke-linejoin:round;stroke:rgb(0%,0%,0%);stroke-opacity:1;stroke-miterlimit:10;\" d=\"M 315.5625 83.023438 C 315.5625 86.625 310.164063 86.625 310.164063 83.023438 C 310.164063 79.425781 315.5625 79.425781 315.5625 83.023438 \"/>\n",
       "<path style=\"fill:none;stroke-width:0.75;stroke-linecap:round;stroke-linejoin:round;stroke:rgb(0%,0%,0%);stroke-opacity:1;stroke-miterlimit:10;\" d=\"M 315.949219 83.199219 C 315.949219 86.796875 310.546875 86.796875 310.546875 83.199219 C 310.546875 79.597656 315.949219 79.597656 315.949219 83.199219 \"/>\n",
       "<path style=\"fill:none;stroke-width:0.75;stroke-linecap:round;stroke-linejoin:round;stroke:rgb(0%,0%,0%);stroke-opacity:1;stroke-miterlimit:10;\" d=\"M 316.332031 83.371094 C 316.332031 86.972656 310.933594 86.972656 310.933594 83.371094 C 310.933594 79.769531 316.332031 79.769531 316.332031 83.371094 \"/>\n",
       "<path style=\"fill:none;stroke-width:0.75;stroke-linecap:round;stroke-linejoin:round;stroke:rgb(0%,0%,0%);stroke-opacity:1;stroke-miterlimit:10;\" d=\"M 316.714844 83.546875 C 316.714844 87.148438 311.316406 87.148438 311.316406 83.546875 C 311.316406 79.945313 316.714844 79.945313 316.714844 83.546875 \"/>\n",
       "<path style=\"fill:none;stroke-width:0.75;stroke-linecap:round;stroke-linejoin:round;stroke:rgb(0%,0%,0%);stroke-opacity:1;stroke-miterlimit:10;\" d=\"M 317.101563 83.722656 C 317.101563 87.324219 311.699219 87.324219 311.699219 83.722656 C 311.699219 80.125 317.101563 80.125 317.101563 83.722656 \"/>\n",
       "<path style=\"fill:none;stroke-width:0.75;stroke-linecap:round;stroke-linejoin:round;stroke:rgb(0%,0%,0%);stroke-opacity:1;stroke-miterlimit:10;\" d=\"M 317.484375 83.902344 C 317.484375 87.5 312.085938 87.5 312.085938 83.902344 C 312.085938 80.300781 317.484375 80.300781 317.484375 83.902344 \"/>\n",
       "<path style=\"fill:none;stroke-width:0.75;stroke-linecap:round;stroke-linejoin:round;stroke:rgb(0%,0%,0%);stroke-opacity:1;stroke-miterlimit:10;\" d=\"M 317.867188 84.082031 C 317.867188 87.683594 312.46875 87.683594 312.46875 84.082031 C 312.46875 80.480469 317.867188 80.480469 317.867188 84.082031 \"/>\n",
       "<path style=\"fill:none;stroke-width:0.75;stroke-linecap:round;stroke-linejoin:round;stroke:rgb(0%,0%,0%);stroke-opacity:1;stroke-miterlimit:10;\" d=\"M 318.253906 84.261719 C 318.253906 87.863281 312.851563 87.863281 312.851563 84.261719 C 312.851563 80.664063 318.253906 80.664063 318.253906 84.261719 \"/>\n",
       "<path style=\"fill:none;stroke-width:0.75;stroke-linecap:round;stroke-linejoin:round;stroke:rgb(0%,0%,0%);stroke-opacity:1;stroke-miterlimit:10;\" d=\"M 318.636719 84.445313 C 318.636719 88.046875 313.234375 88.046875 313.234375 84.445313 C 313.234375 80.847656 318.636719 80.847656 318.636719 84.445313 \"/>\n",
       "<path style=\"fill:none;stroke-width:0.75;stroke-linecap:round;stroke-linejoin:round;stroke:rgb(0%,0%,0%);stroke-opacity:1;stroke-miterlimit:10;\" d=\"M 319.019531 84.628906 C 319.019531 88.230469 313.621094 88.230469 313.621094 84.628906 C 313.621094 81.03125 319.019531 81.03125 319.019531 84.628906 \"/>\n",
       "<path style=\"fill:none;stroke-width:0.75;stroke-linecap:round;stroke-linejoin:round;stroke:rgb(0%,0%,0%);stroke-opacity:1;stroke-miterlimit:10;\" d=\"M 319.402344 84.816406 C 319.402344 88.417969 314.003906 88.417969 314.003906 84.816406 C 314.003906 81.214844 319.402344 81.214844 319.402344 84.816406 \"/>\n",
       "<path style=\"fill:none;stroke-width:0.75;stroke-linecap:round;stroke-linejoin:round;stroke:rgb(0%,0%,0%);stroke-opacity:1;stroke-miterlimit:10;\" d=\"M 319.789063 85.003906 C 319.789063 88.605469 314.386719 88.605469 314.386719 85.003906 C 314.386719 81.402344 319.789063 81.402344 319.789063 85.003906 \"/>\n",
       "<path style=\"fill:none;stroke-width:0.75;stroke-linecap:round;stroke-linejoin:round;stroke:rgb(0%,0%,0%);stroke-opacity:1;stroke-miterlimit:10;\" d=\"M 320.171875 85.191406 C 320.171875 88.792969 314.773438 88.792969 314.773438 85.191406 C 314.773438 81.59375 320.171875 81.59375 320.171875 85.191406 \"/>\n",
       "<path style=\"fill:none;stroke-width:0.75;stroke-linecap:round;stroke-linejoin:round;stroke:rgb(0%,0%,0%);stroke-opacity:1;stroke-miterlimit:10;\" d=\"M 320.554688 85.382813 C 320.554688 88.984375 315.15625 88.984375 315.15625 85.382813 C 315.15625 81.785156 320.554688 81.785156 320.554688 85.382813 \"/>\n",
       "<path style=\"fill:none;stroke-width:0.75;stroke-linecap:round;stroke-linejoin:round;stroke:rgb(0%,0%,0%);stroke-opacity:1;stroke-miterlimit:10;\" d=\"M 320.941406 85.574219 C 320.941406 89.175781 315.539063 89.175781 315.539063 85.574219 C 315.539063 81.976563 320.941406 81.976563 320.941406 85.574219 \"/>\n",
       "<path style=\"fill:none;stroke-width:0.75;stroke-linecap:round;stroke-linejoin:round;stroke:rgb(0%,0%,0%);stroke-opacity:1;stroke-miterlimit:10;\" d=\"M 321.324219 85.769531 C 321.324219 89.371094 315.925781 89.371094 315.925781 85.769531 C 315.925781 82.167969 321.324219 82.167969 321.324219 85.769531 \"/>\n",
       "<path style=\"fill:none;stroke-width:0.75;stroke-linecap:round;stroke-linejoin:round;stroke:rgb(0%,0%,0%);stroke-opacity:1;stroke-miterlimit:10;\" d=\"M 321.707031 85.964844 C 321.707031 89.566406 316.308594 89.566406 316.308594 85.964844 C 316.308594 82.363281 321.707031 82.363281 321.707031 85.964844 \"/>\n",
       "<path style=\"fill:none;stroke-width:0.75;stroke-linecap:round;stroke-linejoin:round;stroke:rgb(0%,0%,0%);stroke-opacity:1;stroke-miterlimit:10;\" d=\"M 322.09375 86.160156 C 322.09375 89.761719 316.691406 89.761719 316.691406 86.160156 C 316.691406 82.5625 322.09375 82.5625 322.09375 86.160156 \"/>\n",
       "<path style=\"fill:none;stroke-width:0.75;stroke-linecap:round;stroke-linejoin:round;stroke:rgb(0%,0%,0%);stroke-opacity:1;stroke-miterlimit:10;\" d=\"M 322.476563 86.359375 C 322.476563 89.960938 317.074219 89.960938 317.074219 86.359375 C 317.074219 82.761719 322.476563 82.761719 322.476563 86.359375 \"/>\n",
       "<path style=\"fill:none;stroke-width:0.75;stroke-linecap:round;stroke-linejoin:round;stroke:rgb(0%,0%,0%);stroke-opacity:1;stroke-miterlimit:10;\" d=\"M 322.859375 86.558594 C 322.859375 90.160156 317.460938 90.160156 317.460938 86.558594 C 317.460938 82.960938 322.859375 82.960938 322.859375 86.558594 \"/>\n",
       "<path style=\"fill:none;stroke-width:0.75;stroke-linecap:round;stroke-linejoin:round;stroke:rgb(0%,0%,0%);stroke-opacity:1;stroke-miterlimit:10;\" d=\"M 323.242188 86.761719 C 323.242188 90.363281 317.84375 90.363281 317.84375 86.761719 C 317.84375 83.160156 323.242188 83.160156 323.242188 86.761719 \"/>\n",
       "<path style=\"fill:none;stroke-width:0.75;stroke-linecap:round;stroke-linejoin:round;stroke:rgb(0%,0%,0%);stroke-opacity:1;stroke-miterlimit:10;\" d=\"M 323.628906 86.964844 C 323.628906 90.5625 318.226563 90.5625 318.226563 86.964844 C 318.226563 83.363281 323.628906 83.363281 323.628906 86.964844 \"/>\n",
       "<path style=\"fill:none;stroke-width:0.75;stroke-linecap:round;stroke-linejoin:round;stroke:rgb(0%,0%,0%);stroke-opacity:1;stroke-miterlimit:10;\" d=\"M 324.011719 87.167969 C 324.011719 90.769531 318.613281 90.769531 318.613281 87.167969 C 318.613281 83.570313 324.011719 83.570313 324.011719 87.167969 \"/>\n",
       "<path style=\"fill:none;stroke-width:0.75;stroke-linecap:round;stroke-linejoin:round;stroke:rgb(0%,0%,0%);stroke-opacity:1;stroke-miterlimit:10;\" d=\"M 324.394531 87.375 C 324.394531 90.976563 318.996094 90.976563 318.996094 87.375 C 318.996094 83.773438 324.394531 83.773438 324.394531 87.375 \"/>\n",
       "<path style=\"fill:none;stroke-width:0.75;stroke-linecap:round;stroke-linejoin:round;stroke:rgb(0%,0%,0%);stroke-opacity:1;stroke-miterlimit:10;\" d=\"M 324.78125 87.582031 C 324.78125 91.183594 319.378906 91.183594 319.378906 87.582031 C 319.378906 83.984375 324.78125 83.984375 324.78125 87.582031 \"/>\n",
       "<path style=\"fill:none;stroke-width:0.75;stroke-linecap:round;stroke-linejoin:round;stroke:rgb(0%,0%,0%);stroke-opacity:1;stroke-miterlimit:10;\" d=\"M 325.164063 87.792969 C 325.164063 91.390625 319.765625 91.390625 319.765625 87.792969 C 319.765625 84.191406 325.164063 84.191406 325.164063 87.792969 \"/>\n",
       "<path style=\"fill:none;stroke-width:0.75;stroke-linecap:round;stroke-linejoin:round;stroke:rgb(0%,0%,0%);stroke-opacity:1;stroke-miterlimit:10;\" d=\"M 325.546875 88.003906 C 325.546875 91.601563 320.148438 91.601563 320.148438 88.003906 C 320.148438 84.402344 325.546875 84.402344 325.546875 88.003906 \"/>\n",
       "<path style=\"fill:none;stroke-width:0.75;stroke-linecap:round;stroke-linejoin:round;stroke:rgb(0%,0%,0%);stroke-opacity:1;stroke-miterlimit:10;\" d=\"M 325.933594 88.214844 C 325.933594 91.816406 320.53125 91.816406 320.53125 88.214844 C 320.53125 84.617188 325.933594 84.617188 325.933594 88.214844 \"/>\n",
       "<path style=\"fill:none;stroke-width:0.75;stroke-linecap:round;stroke-linejoin:round;stroke:rgb(0%,0%,0%);stroke-opacity:1;stroke-miterlimit:10;\" d=\"M 326.316406 88.429688 C 326.316406 92.03125 320.914063 92.03125 320.914063 88.429688 C 320.914063 84.828125 326.316406 84.828125 326.316406 88.429688 \"/>\n",
       "<path style=\"fill:none;stroke-width:0.75;stroke-linecap:round;stroke-linejoin:round;stroke:rgb(0%,0%,0%);stroke-opacity:1;stroke-miterlimit:10;\" d=\"M 326.699219 88.644531 C 326.699219 92.246094 321.300781 92.246094 321.300781 88.644531 C 321.300781 85.042969 326.699219 85.042969 326.699219 88.644531 \"/>\n",
       "<path style=\"fill:none;stroke-width:0.75;stroke-linecap:round;stroke-linejoin:round;stroke:rgb(0%,0%,0%);stroke-opacity:1;stroke-miterlimit:10;\" d=\"M 327.085938 88.863281 C 327.085938 92.460938 321.683594 92.460938 321.683594 88.863281 C 321.683594 85.261719 327.085938 85.261719 327.085938 88.863281 \"/>\n",
       "<path style=\"fill:none;stroke-width:0.75;stroke-linecap:round;stroke-linejoin:round;stroke:rgb(0%,0%,0%);stroke-opacity:1;stroke-miterlimit:10;\" d=\"M 327.46875 89.082031 C 327.46875 92.679688 322.066406 92.679688 322.066406 89.082031 C 322.066406 85.480469 327.46875 85.480469 327.46875 89.082031 \"/>\n",
       "<path style=\"fill:none;stroke-width:0.75;stroke-linecap:round;stroke-linejoin:round;stroke:rgb(0%,0%,0%);stroke-opacity:1;stroke-miterlimit:10;\" d=\"M 327.851563 89.300781 C 327.851563 92.902344 322.453125 92.902344 322.453125 89.300781 C 322.453125 85.699219 327.851563 85.699219 327.851563 89.300781 \"/>\n",
       "<path style=\"fill:none;stroke-width:0.75;stroke-linecap:round;stroke-linejoin:round;stroke:rgb(0%,0%,0%);stroke-opacity:1;stroke-miterlimit:10;\" d=\"M 328.234375 89.523438 C 328.234375 93.125 322.835938 93.125 322.835938 89.523438 C 322.835938 85.921875 328.234375 85.921875 328.234375 89.523438 \"/>\n",
       "<path style=\"fill:none;stroke-width:0.75;stroke-linecap:round;stroke-linejoin:round;stroke:rgb(0%,0%,0%);stroke-opacity:1;stroke-miterlimit:10;\" d=\"M 328.621094 89.746094 C 328.621094 93.347656 323.21875 93.347656 323.21875 89.746094 C 323.21875 86.148438 328.621094 86.148438 328.621094 89.746094 \"/>\n",
       "<path style=\"fill:none;stroke-width:0.75;stroke-linecap:round;stroke-linejoin:round;stroke:rgb(0%,0%,0%);stroke-opacity:1;stroke-miterlimit:10;\" d=\"M 329.003906 89.972656 C 329.003906 93.570313 323.605469 93.570313 323.605469 89.972656 C 323.605469 86.371094 329.003906 86.371094 329.003906 89.972656 \"/>\n",
       "<path style=\"fill:none;stroke-width:0.75;stroke-linecap:round;stroke-linejoin:round;stroke:rgb(0%,0%,0%);stroke-opacity:1;stroke-miterlimit:10;\" d=\"M 329.386719 90.199219 C 329.386719 93.796875 323.988281 93.796875 323.988281 90.199219 C 323.988281 86.597656 329.386719 86.597656 329.386719 90.199219 \"/>\n",
       "<path style=\"fill:none;stroke-width:0.75;stroke-linecap:round;stroke-linejoin:round;stroke:rgb(0%,0%,0%);stroke-opacity:1;stroke-miterlimit:10;\" d=\"M 329.773438 90.425781 C 329.773438 94.027344 324.371094 94.027344 324.371094 90.425781 C 324.371094 86.828125 329.773438 86.828125 329.773438 90.425781 \"/>\n",
       "<path style=\"fill:none;stroke-width:0.75;stroke-linecap:round;stroke-linejoin:round;stroke:rgb(0%,0%,0%);stroke-opacity:1;stroke-miterlimit:10;\" d=\"M 330.15625 90.65625 C 330.15625 94.257813 324.757813 94.257813 324.757813 90.65625 C 324.757813 87.058594 330.15625 87.058594 330.15625 90.65625 \"/>\n",
       "<path style=\"fill:none;stroke-width:0.75;stroke-linecap:round;stroke-linejoin:round;stroke:rgb(0%,0%,0%);stroke-opacity:1;stroke-miterlimit:10;\" d=\"M 330.539063 90.886719 C 330.539063 94.488281 325.140625 94.488281 325.140625 90.886719 C 325.140625 87.289063 330.539063 87.289063 330.539063 90.886719 \"/>\n",
       "<path style=\"fill:none;stroke-width:0.75;stroke-linecap:round;stroke-linejoin:round;stroke:rgb(0%,0%,0%);stroke-opacity:1;stroke-miterlimit:10;\" d=\"M 330.925781 91.121094 C 330.925781 94.722656 325.523438 94.722656 325.523438 91.121094 C 325.523438 87.523438 330.925781 87.523438 330.925781 91.121094 \"/>\n",
       "<path style=\"fill:none;stroke-width:0.75;stroke-linecap:round;stroke-linejoin:round;stroke:rgb(0%,0%,0%);stroke-opacity:1;stroke-miterlimit:10;\" d=\"M 331.308594 91.355469 C 331.308594 94.957031 325.90625 94.957031 325.90625 91.355469 C 325.90625 87.757813 331.308594 87.757813 331.308594 91.355469 \"/>\n",
       "<path style=\"fill:none;stroke-width:0.75;stroke-linecap:round;stroke-linejoin:round;stroke:rgb(0%,0%,0%);stroke-opacity:1;stroke-miterlimit:10;\" d=\"M 331.691406 91.59375 C 331.691406 95.191406 326.292969 95.191406 326.292969 91.59375 C 326.292969 87.992188 331.691406 87.992188 331.691406 91.59375 \"/>\n",
       "<path style=\"fill:none;stroke-width:0.75;stroke-linecap:round;stroke-linejoin:round;stroke:rgb(0%,0%,0%);stroke-opacity:1;stroke-miterlimit:10;\" d=\"M 332.074219 91.832031 C 332.074219 95.429688 326.675781 95.429688 326.675781 91.832031 C 326.675781 88.230469 332.074219 88.230469 332.074219 91.832031 \"/>\n",
       "<path style=\"fill:none;stroke-width:0.75;stroke-linecap:round;stroke-linejoin:round;stroke:rgb(0%,0%,0%);stroke-opacity:1;stroke-miterlimit:10;\" d=\"M 332.460938 92.070313 C 332.460938 95.671875 327.058594 95.671875 327.058594 92.070313 C 327.058594 88.46875 332.460938 88.46875 332.460938 92.070313 \"/>\n",
       "<path style=\"fill:none;stroke-width:0.75;stroke-linecap:round;stroke-linejoin:round;stroke:rgb(0%,0%,0%);stroke-opacity:1;stroke-miterlimit:10;\" d=\"M 332.84375 92.3125 C 332.84375 95.910156 327.445313 95.910156 327.445313 92.3125 C 327.445313 88.710938 332.84375 88.710938 332.84375 92.3125 \"/>\n",
       "<path style=\"fill:none;stroke-width:0.75;stroke-linecap:round;stroke-linejoin:round;stroke:rgb(0%,0%,0%);stroke-opacity:1;stroke-miterlimit:10;\" d=\"M 333.226563 92.554688 C 333.226563 96.15625 327.828125 96.15625 327.828125 92.554688 C 327.828125 88.953125 333.226563 88.953125 333.226563 92.554688 \"/>\n",
       "<path style=\"fill:none;stroke-width:0.75;stroke-linecap:round;stroke-linejoin:round;stroke:rgb(0%,0%,0%);stroke-opacity:1;stroke-miterlimit:10;\" d=\"M 333.613281 92.800781 C 333.613281 96.398438 328.210938 96.398438 328.210938 92.800781 C 328.210938 89.199219 333.613281 89.199219 333.613281 92.800781 \"/>\n",
       "<path style=\"fill:none;stroke-width:0.75;stroke-linecap:round;stroke-linejoin:round;stroke:rgb(0%,0%,0%);stroke-opacity:1;stroke-miterlimit:10;\" d=\"M 333.996094 93.046875 C 333.996094 96.644531 328.597656 96.644531 328.597656 93.046875 C 328.597656 89.445313 333.996094 89.445313 333.996094 93.046875 \"/>\n",
       "<path style=\"fill:none;stroke-width:0.75;stroke-linecap:round;stroke-linejoin:round;stroke:rgb(0%,0%,0%);stroke-opacity:1;stroke-miterlimit:10;\" d=\"M 334.378906 93.292969 C 334.378906 96.894531 328.980469 96.894531 328.980469 93.292969 C 328.980469 89.695313 334.378906 89.695313 334.378906 93.292969 \"/>\n",
       "<path style=\"fill:none;stroke-width:0.75;stroke-linecap:round;stroke-linejoin:round;stroke:rgb(0%,0%,0%);stroke-opacity:1;stroke-miterlimit:10;\" d=\"M 334.765625 93.542969 C 334.765625 97.144531 329.363281 97.144531 329.363281 93.542969 C 329.363281 89.941406 334.765625 89.941406 334.765625 93.542969 \"/>\n",
       "<path style=\"fill:none;stroke-width:0.75;stroke-linecap:round;stroke-linejoin:round;stroke:rgb(0%,0%,0%);stroke-opacity:1;stroke-miterlimit:10;\" d=\"M 335.148438 93.792969 C 335.148438 97.394531 329.746094 97.394531 329.746094 93.792969 C 329.746094 90.195313 335.148438 90.195313 335.148438 93.792969 \"/>\n",
       "<path style=\"fill:none;stroke-width:0.75;stroke-linecap:round;stroke-linejoin:round;stroke:rgb(0%,0%,0%);stroke-opacity:1;stroke-miterlimit:10;\" d=\"M 335.53125 94.046875 C 335.53125 97.648438 330.132813 97.648438 330.132813 94.046875 C 330.132813 90.449219 335.53125 90.449219 335.53125 94.046875 \"/>\n",
       "<path style=\"fill:none;stroke-width:0.75;stroke-linecap:round;stroke-linejoin:round;stroke:rgb(0%,0%,0%);stroke-opacity:1;stroke-miterlimit:10;\" d=\"M 335.914063 94.300781 C 335.914063 97.902344 330.515625 97.902344 330.515625 94.300781 C 330.515625 90.703125 335.914063 90.703125 335.914063 94.300781 \"/>\n",
       "<path style=\"fill:none;stroke-width:0.75;stroke-linecap:round;stroke-linejoin:round;stroke:rgb(0%,0%,0%);stroke-opacity:1;stroke-miterlimit:10;\" d=\"M 336.300781 94.558594 C 336.300781 98.15625 330.898438 98.15625 330.898438 94.558594 C 330.898438 90.957031 336.300781 90.957031 336.300781 94.558594 \"/>\n",
       "<path style=\"fill:none;stroke-width:0.75;stroke-linecap:round;stroke-linejoin:round;stroke:rgb(0%,0%,0%);stroke-opacity:1;stroke-miterlimit:10;\" d=\"M 336.683594 94.816406 C 336.683594 98.414063 331.285156 98.414063 331.285156 94.816406 C 331.285156 91.214844 336.683594 91.214844 336.683594 94.816406 \"/>\n",
       "<path style=\"fill:none;stroke-width:0.75;stroke-linecap:round;stroke-linejoin:round;stroke:rgb(0%,0%,0%);stroke-opacity:1;stroke-miterlimit:10;\" d=\"M 337.066406 95.074219 C 337.066406 98.675781 331.667969 98.675781 331.667969 95.074219 C 331.667969 91.476563 337.066406 91.476563 337.066406 95.074219 \"/>\n",
       "<path style=\"fill:none;stroke-width:0.75;stroke-linecap:round;stroke-linejoin:round;stroke:rgb(0%,0%,0%);stroke-opacity:1;stroke-miterlimit:10;\" d=\"M 337.453125 95.335938 C 337.453125 98.9375 332.050781 98.9375 332.050781 95.335938 C 332.050781 91.738281 337.453125 91.738281 337.453125 95.335938 \"/>\n",
       "<path style=\"fill:none;stroke-width:0.75;stroke-linecap:round;stroke-linejoin:round;stroke:rgb(0%,0%,0%);stroke-opacity:1;stroke-miterlimit:10;\" d=\"M 337.835938 95.601563 C 337.835938 99.199219 332.4375 99.199219 332.4375 95.601563 C 332.4375 92 337.835938 92 337.835938 95.601563 \"/>\n",
       "<path style=\"fill:none;stroke-width:0.75;stroke-linecap:round;stroke-linejoin:round;stroke:rgb(0%,0%,0%);stroke-opacity:1;stroke-miterlimit:10;\" d=\"M 338.21875 95.863281 C 338.21875 99.464844 332.820313 99.464844 332.820313 95.863281 C 332.820313 92.265625 338.21875 92.265625 338.21875 95.863281 \"/>\n",
       "<path style=\"fill:none;stroke-width:0.75;stroke-linecap:round;stroke-linejoin:round;stroke:rgb(0%,0%,0%);stroke-opacity:1;stroke-miterlimit:10;\" d=\"M 338.605469 96.128906 C 338.605469 99.730469 333.203125 99.730469 333.203125 96.128906 C 333.203125 92.53125 338.605469 92.53125 338.605469 96.128906 \"/>\n",
       "<path style=\"fill:none;stroke-width:0.75;stroke-linecap:round;stroke-linejoin:round;stroke:rgb(0%,0%,0%);stroke-opacity:1;stroke-miterlimit:10;\" d=\"M 338.988281 96.398438 C 338.988281 100 333.589844 100 333.589844 96.398438 C 333.589844 92.796875 338.988281 92.796875 338.988281 96.398438 \"/>\n",
       "<path style=\"fill:none;stroke-width:0.75;stroke-linecap:round;stroke-linejoin:round;stroke:rgb(0%,0%,0%);stroke-opacity:1;stroke-miterlimit:10;\" d=\"M 339.371094 96.667969 C 339.371094 100.269531 333.972656 100.269531 333.972656 96.667969 C 333.972656 93.070313 339.371094 93.070313 339.371094 96.667969 \"/>\n",
       "<path style=\"fill:none;stroke-width:0.75;stroke-linecap:round;stroke-linejoin:round;stroke:rgb(0%,0%,0%);stroke-opacity:1;stroke-miterlimit:10;\" d=\"M 339.757813 96.941406 C 339.757813 100.539063 334.355469 100.539063 334.355469 96.941406 C 334.355469 93.339844 339.757813 93.339844 339.757813 96.941406 \"/>\n",
       "<path style=\"fill:none;stroke-width:0.75;stroke-linecap:round;stroke-linejoin:round;stroke:rgb(0%,0%,0%);stroke-opacity:1;stroke-miterlimit:10;\" d=\"M 340.140625 97.214844 C 340.140625 100.8125 334.738281 100.8125 334.738281 97.214844 C 334.738281 93.613281 340.140625 93.613281 340.140625 97.214844 \"/>\n",
       "<path style=\"fill:none;stroke-width:0.75;stroke-linecap:round;stroke-linejoin:round;stroke:rgb(0%,0%,0%);stroke-opacity:1;stroke-miterlimit:10;\" d=\"M 340.523438 97.488281 C 340.523438 101.089844 335.125 101.089844 335.125 97.488281 C 335.125 93.886719 340.523438 93.886719 340.523438 97.488281 \"/>\n",
       "<path style=\"fill:none;stroke-width:0.75;stroke-linecap:round;stroke-linejoin:round;stroke:rgb(0%,0%,0%);stroke-opacity:1;stroke-miterlimit:10;\" d=\"M 340.90625 97.765625 C 340.90625 101.363281 335.507813 101.363281 335.507813 97.765625 C 335.507813 94.164063 340.90625 94.164063 340.90625 97.765625 \"/>\n",
       "<path style=\"fill:none;stroke-width:0.75;stroke-linecap:round;stroke-linejoin:round;stroke:rgb(0%,0%,0%);stroke-opacity:1;stroke-miterlimit:10;\" d=\"M 341.292969 98.042969 C 341.292969 101.644531 335.890625 101.644531 335.890625 98.042969 C 335.890625 94.441406 341.292969 94.441406 341.292969 98.042969 \"/>\n",
       "<path style=\"fill:none;stroke-width:0.75;stroke-linecap:round;stroke-linejoin:round;stroke:rgb(0%,0%,0%);stroke-opacity:1;stroke-miterlimit:10;\" d=\"M 341.675781 98.324219 C 341.675781 101.921875 336.277344 101.921875 336.277344 98.324219 C 336.277344 94.722656 341.675781 94.722656 341.675781 98.324219 \"/>\n",
       "<path style=\"fill:none;stroke-width:0.75;stroke-linecap:round;stroke-linejoin:round;stroke:rgb(0%,0%,0%);stroke-opacity:1;stroke-miterlimit:10;\" d=\"M 342.058594 98.605469 C 342.058594 102.203125 336.660156 102.203125 336.660156 98.605469 C 336.660156 95.003906 342.058594 95.003906 342.058594 98.605469 \"/>\n",
       "<path style=\"fill:none;stroke-width:0.75;stroke-linecap:round;stroke-linejoin:round;stroke:rgb(0%,0%,0%);stroke-opacity:1;stroke-miterlimit:10;\" d=\"M 342.445313 98.886719 C 342.445313 102.488281 337.042969 102.488281 337.042969 98.886719 C 337.042969 95.289063 342.445313 95.289063 342.445313 98.886719 \"/>\n",
       "<path style=\"fill:none;stroke-width:0.75;stroke-linecap:round;stroke-linejoin:round;stroke:rgb(0%,0%,0%);stroke-opacity:1;stroke-miterlimit:10;\" d=\"M 342.828125 99.171875 C 342.828125 102.773438 337.429688 102.773438 337.429688 99.171875 C 337.429688 95.574219 342.828125 95.574219 342.828125 99.171875 \"/>\n",
       "<path style=\"fill:none;stroke-width:0.75;stroke-linecap:round;stroke-linejoin:round;stroke:rgb(0%,0%,0%);stroke-opacity:1;stroke-miterlimit:10;\" d=\"M 343.210938 99.460938 C 343.210938 103.058594 337.8125 103.058594 337.8125 99.460938 C 337.8125 95.859375 343.210938 95.859375 343.210938 99.460938 \"/>\n",
       "<path style=\"fill:none;stroke-width:0.75;stroke-linecap:round;stroke-linejoin:round;stroke:rgb(0%,0%,0%);stroke-opacity:1;stroke-miterlimit:10;\" d=\"M 343.597656 99.75 C 343.597656 103.347656 338.195313 103.347656 338.195313 99.75 C 338.195313 96.148438 343.597656 96.148438 343.597656 99.75 \"/>\n",
       "<path style=\"fill:none;stroke-width:0.75;stroke-linecap:round;stroke-linejoin:round;stroke:rgb(0%,0%,0%);stroke-opacity:1;stroke-miterlimit:10;\" d=\"M 343.980469 100.039063 C 343.980469 103.640625 338.578125 103.640625 338.578125 100.039063 C 338.578125 96.441406 343.980469 96.441406 343.980469 100.039063 \"/>\n",
       "<path style=\"fill:none;stroke-width:0.75;stroke-linecap:round;stroke-linejoin:round;stroke:rgb(0%,0%,0%);stroke-opacity:1;stroke-miterlimit:10;\" d=\"M 344.363281 100.332031 C 344.363281 103.933594 338.964844 103.933594 338.964844 100.332031 C 338.964844 96.730469 344.363281 96.730469 344.363281 100.332031 \"/>\n",
       "<path style=\"fill:none;stroke-width:0.75;stroke-linecap:round;stroke-linejoin:round;stroke:rgb(0%,0%,0%);stroke-opacity:1;stroke-miterlimit:10;\" d=\"M 344.746094 100.625 C 344.746094 104.226563 339.347656 104.226563 339.347656 100.625 C 339.347656 97.027344 344.746094 97.027344 344.746094 100.625 \"/>\n",
       "<path style=\"fill:none;stroke-width:0.75;stroke-linecap:round;stroke-linejoin:round;stroke:rgb(0%,0%,0%);stroke-opacity:1;stroke-miterlimit:10;\" d=\"M 345.132813 100.921875 C 345.132813 104.523438 339.730469 104.523438 339.730469 100.921875 C 339.730469 97.320313 345.132813 97.320313 345.132813 100.921875 \"/>\n",
       "<path style=\"fill:none;stroke-width:0.75;stroke-linecap:round;stroke-linejoin:round;stroke:rgb(0%,0%,0%);stroke-opacity:1;stroke-miterlimit:10;\" d=\"M 345.515625 101.21875 C 345.515625 104.820313 340.117188 104.820313 340.117188 101.21875 C 340.117188 97.621094 345.515625 97.621094 345.515625 101.21875 \"/>\n",
       "<path style=\"fill:none;stroke-width:0.75;stroke-linecap:round;stroke-linejoin:round;stroke:rgb(0%,0%,0%);stroke-opacity:1;stroke-miterlimit:10;\" d=\"M 345.898438 101.519531 C 345.898438 105.117188 340.5 105.117188 340.5 101.519531 C 340.5 97.917969 345.898438 97.917969 345.898438 101.519531 \"/>\n",
       "<path style=\"fill:none;stroke-width:0.75;stroke-linecap:round;stroke-linejoin:round;stroke:rgb(0%,0%,0%);stroke-opacity:1;stroke-miterlimit:10;\" d=\"M 346.285156 101.820313 C 346.285156 105.421875 340.882813 105.421875 340.882813 101.820313 C 340.882813 98.21875 346.285156 98.21875 346.285156 101.820313 \"/>\n",
       "<path style=\"fill:none;stroke-width:0.75;stroke-linecap:round;stroke-linejoin:round;stroke:rgb(0%,0%,0%);stroke-opacity:1;stroke-miterlimit:10;\" d=\"M 346.667969 102.121094 C 346.667969 105.722656 341.269531 105.722656 341.269531 102.121094 C 341.269531 98.523438 346.667969 98.523438 346.667969 102.121094 \"/>\n",
       "<path style=\"fill:none;stroke-width:0.75;stroke-linecap:round;stroke-linejoin:round;stroke:rgb(0%,0%,0%);stroke-opacity:1;stroke-miterlimit:10;\" d=\"M 347.050781 102.425781 C 347.050781 106.027344 341.652344 106.027344 341.652344 102.425781 C 341.652344 98.828125 347.050781 98.828125 347.050781 102.425781 \"/>\n",
       "<path style=\"fill:none;stroke-width:0.75;stroke-linecap:round;stroke-linejoin:round;stroke:rgb(0%,0%,0%);stroke-opacity:1;stroke-miterlimit:10;\" d=\"M 347.4375 102.734375 C 347.4375 106.335938 342.035156 106.335938 342.035156 102.734375 C 342.035156 99.132813 347.4375 99.132813 347.4375 102.734375 \"/>\n",
       "<path style=\"fill:none;stroke-width:0.75;stroke-linecap:round;stroke-linejoin:round;stroke:rgb(0%,0%,0%);stroke-opacity:1;stroke-miterlimit:10;\" d=\"M 347.820313 103.042969 C 347.820313 106.644531 342.421875 106.644531 342.421875 103.042969 C 342.421875 99.441406 347.820313 99.441406 347.820313 103.042969 \"/>\n",
       "<path style=\"fill:none;stroke-width:0.75;stroke-linecap:round;stroke-linejoin:round;stroke:rgb(0%,0%,0%);stroke-opacity:1;stroke-miterlimit:10;\" d=\"M 348.203125 103.351563 C 348.203125 106.953125 342.804688 106.953125 342.804688 103.351563 C 342.804688 99.753906 348.203125 99.753906 348.203125 103.351563 \"/>\n",
       "<path style=\"fill:none;stroke-width:0.75;stroke-linecap:round;stroke-linejoin:round;stroke:rgb(0%,0%,0%);stroke-opacity:1;stroke-miterlimit:10;\" d=\"M 348.589844 103.664063 C 348.589844 107.265625 343.1875 107.265625 343.1875 103.664063 C 343.1875 100.066406 348.589844 100.066406 348.589844 103.664063 \"/>\n",
       "<path style=\"fill:none;stroke-width:0.75;stroke-linecap:round;stroke-linejoin:round;stroke:rgb(0%,0%,0%);stroke-opacity:1;stroke-miterlimit:10;\" d=\"M 348.972656 103.980469 C 348.972656 107.578125 343.570313 107.578125 343.570313 103.980469 C 343.570313 100.378906 348.972656 100.378906 348.972656 103.980469 \"/>\n",
       "<path style=\"fill:none;stroke-width:0.75;stroke-linecap:round;stroke-linejoin:round;stroke:rgb(0%,0%,0%);stroke-opacity:1;stroke-miterlimit:10;\" d=\"M 349.355469 104.292969 C 349.355469 107.894531 343.957031 107.894531 343.957031 104.292969 C 343.957031 100.695313 349.355469 100.695313 349.355469 104.292969 \"/>\n",
       "<path style=\"fill:none;stroke-width:0.75;stroke-linecap:round;stroke-linejoin:round;stroke:rgb(0%,0%,0%);stroke-opacity:1;stroke-miterlimit:10;\" d=\"M 349.738281 104.613281 C 349.738281 108.210938 344.339844 108.210938 344.339844 104.613281 C 344.339844 101.011719 349.738281 101.011719 349.738281 104.613281 \"/>\n",
       "<path style=\"fill:none;stroke-width:0.75;stroke-linecap:round;stroke-linejoin:round;stroke:rgb(0%,0%,0%);stroke-opacity:1;stroke-miterlimit:10;\" d=\"M 350.125 104.929688 C 350.125 108.53125 344.722656 108.53125 344.722656 104.929688 C 344.722656 101.332031 350.125 101.332031 350.125 104.929688 \"/>\n",
       "<path style=\"fill:none;stroke-width:0.75;stroke-linecap:round;stroke-linejoin:round;stroke:rgb(0%,0%,0%);stroke-opacity:1;stroke-miterlimit:10;\" d=\"M 350.507813 105.253906 C 350.507813 108.851563 345.109375 108.851563 345.109375 105.253906 C 345.109375 101.652344 350.507813 101.652344 350.507813 105.253906 \"/>\n",
       "<path style=\"fill:none;stroke-width:0.75;stroke-linecap:round;stroke-linejoin:round;stroke:rgb(0%,0%,0%);stroke-opacity:1;stroke-miterlimit:10;\" d=\"M 350.890625 105.574219 C 350.890625 109.175781 345.492188 109.175781 345.492188 105.574219 C 345.492188 101.976563 350.890625 101.976563 350.890625 105.574219 \"/>\n",
       "<path style=\"fill:none;stroke-width:0.75;stroke-linecap:round;stroke-linejoin:round;stroke:rgb(0%,0%,0%);stroke-opacity:1;stroke-miterlimit:10;\" d=\"M 351.277344 105.898438 C 351.277344 109.5 345.875 109.5 345.875 105.898438 C 345.875 102.300781 351.277344 102.300781 351.277344 105.898438 \"/>\n",
       "<path style=\"fill:none;stroke-width:0.75;stroke-linecap:round;stroke-linejoin:round;stroke:rgb(0%,0%,0%);stroke-opacity:1;stroke-miterlimit:10;\" d=\"M 351.660156 106.226563 C 351.660156 109.828125 346.261719 109.828125 346.261719 106.226563 C 346.261719 102.625 351.660156 102.625 351.660156 106.226563 \"/>\n",
       "<path style=\"fill:none;stroke-width:0.75;stroke-linecap:round;stroke-linejoin:round;stroke:rgb(0%,0%,0%);stroke-opacity:1;stroke-miterlimit:10;\" d=\"M 352.042969 106.554688 C 352.042969 110.15625 346.644531 110.15625 346.644531 106.554688 C 346.644531 102.957031 352.042969 102.957031 352.042969 106.554688 \"/>\n",
       "<path style=\"fill:none;stroke-width:0.75;stroke-linecap:round;stroke-linejoin:round;stroke:rgb(0%,0%,0%);stroke-opacity:1;stroke-miterlimit:10;\" d=\"M 352.429688 106.886719 C 352.429688 110.484375 347.027344 110.484375 347.027344 106.886719 C 347.027344 103.285156 352.429688 103.285156 352.429688 106.886719 \"/>\n",
       "<path style=\"fill:none;stroke-width:0.75;stroke-linecap:round;stroke-linejoin:round;stroke:rgb(0%,0%,0%);stroke-opacity:1;stroke-miterlimit:10;\" d=\"M 352.8125 107.21875 C 352.8125 110.816406 347.410156 110.816406 347.410156 107.21875 C 347.410156 103.617188 352.8125 103.617188 352.8125 107.21875 \"/>\n",
       "<path style=\"fill:none;stroke-width:0.75;stroke-linecap:round;stroke-linejoin:round;stroke:rgb(0%,0%,0%);stroke-opacity:1;stroke-miterlimit:10;\" d=\"M 353.195313 107.550781 C 353.195313 111.152344 347.796875 111.152344 347.796875 107.550781 C 347.796875 103.953125 353.195313 103.953125 353.195313 107.550781 \"/>\n",
       "<path style=\"fill:none;stroke-width:0.75;stroke-linecap:round;stroke-linejoin:round;stroke:rgb(0%,0%,0%);stroke-opacity:1;stroke-miterlimit:10;\" d=\"M 353.578125 107.890625 C 353.578125 111.488281 348.179688 111.488281 348.179688 107.890625 C 348.179688 104.289063 353.578125 104.289063 353.578125 107.890625 \"/>\n",
       "<path style=\"fill:none;stroke-width:0.75;stroke-linecap:round;stroke-linejoin:round;stroke:rgb(0%,0%,0%);stroke-opacity:1;stroke-miterlimit:10;\" d=\"M 353.964844 108.226563 C 353.964844 111.828125 348.5625 111.828125 348.5625 108.226563 C 348.5625 104.625 353.964844 104.625 353.964844 108.226563 \"/>\n",
       "<path style=\"fill:none;stroke-width:0.75;stroke-linecap:round;stroke-linejoin:round;stroke:rgb(0%,0%,0%);stroke-opacity:1;stroke-miterlimit:10;\" d=\"M 354.347656 108.566406 C 354.347656 112.167969 348.949219 112.167969 348.949219 108.566406 C 348.949219 104.964844 354.347656 104.964844 354.347656 108.566406 \"/>\n",
       "<path style=\"fill:none;stroke-width:0.75;stroke-linecap:round;stroke-linejoin:round;stroke:rgb(0%,0%,0%);stroke-opacity:1;stroke-miterlimit:10;\" d=\"M 354.730469 108.910156 C 354.730469 112.507813 349.332031 112.507813 349.332031 108.910156 C 349.332031 105.308594 354.730469 105.308594 354.730469 108.910156 \"/>\n",
       "<path style=\"fill:none;stroke-width:0.75;stroke-linecap:round;stroke-linejoin:round;stroke:rgb(0%,0%,0%);stroke-opacity:1;stroke-miterlimit:10;\" d=\"M 355.117188 109.253906 C 355.117188 112.851563 349.714844 112.851563 349.714844 109.253906 C 349.714844 105.652344 355.117188 105.652344 355.117188 109.253906 \"/>\n",
       "<path style=\"fill:none;stroke-width:0.75;stroke-linecap:round;stroke-linejoin:round;stroke:rgb(0%,0%,0%);stroke-opacity:1;stroke-miterlimit:10;\" d=\"M 355.5 109.597656 C 355.5 113.199219 350.101563 113.199219 350.101563 109.597656 C 350.101563 106 355.5 106 355.5 109.597656 \"/>\n",
       "<path style=\"fill:none;stroke-width:0.75;stroke-linecap:round;stroke-linejoin:round;stroke:rgb(0%,0%,0%);stroke-opacity:1;stroke-miterlimit:10;\" d=\"M 355.882813 109.945313 C 355.882813 113.546875 350.484375 113.546875 350.484375 109.945313 C 350.484375 106.347656 355.882813 106.347656 355.882813 109.945313 \"/>\n",
       "<path style=\"fill:none;stroke-width:0.75;stroke-linecap:round;stroke-linejoin:round;stroke:rgb(0%,0%,0%);stroke-opacity:1;stroke-miterlimit:10;\" d=\"M 356.269531 110.296875 C 356.269531 113.894531 350.867188 113.894531 350.867188 110.296875 C 350.867188 106.695313 356.269531 106.695313 356.269531 110.296875 \"/>\n",
       "<path style=\"fill:none;stroke-width:0.75;stroke-linecap:round;stroke-linejoin:round;stroke:rgb(0%,0%,0%);stroke-opacity:1;stroke-miterlimit:10;\" d=\"M 356.652344 110.648438 C 356.652344 114.246094 351.253906 114.246094 351.253906 110.648438 C 351.253906 107.046875 356.652344 107.046875 356.652344 110.648438 \"/>\n",
       "<path style=\"fill:none;stroke-width:0.75;stroke-linecap:round;stroke-linejoin:round;stroke:rgb(0%,0%,0%);stroke-opacity:1;stroke-miterlimit:10;\" d=\"M 357.035156 111 C 357.035156 114.601563 351.636719 114.601563 351.636719 111 C 351.636719 107.402344 357.035156 107.402344 357.035156 111 \"/>\n",
       "<path style=\"fill:none;stroke-width:0.75;stroke-linecap:round;stroke-linejoin:round;stroke:rgb(0%,0%,0%);stroke-opacity:1;stroke-miterlimit:10;\" d=\"M 357.421875 111.355469 C 357.421875 114.957031 352.019531 114.957031 352.019531 111.355469 C 352.019531 107.757813 357.421875 107.757813 357.421875 111.355469 \"/>\n",
       "<path style=\"fill:none;stroke-width:0.75;stroke-linecap:round;stroke-linejoin:round;stroke:rgb(0%,0%,0%);stroke-opacity:1;stroke-miterlimit:10;\" d=\"M 357.804688 111.714844 C 357.804688 115.3125 352.402344 115.3125 352.402344 111.714844 C 352.402344 108.113281 357.804688 108.113281 357.804688 111.714844 \"/>\n",
       "<path style=\"fill:none;stroke-width:0.75;stroke-linecap:round;stroke-linejoin:round;stroke:rgb(0%,0%,0%);stroke-opacity:1;stroke-miterlimit:10;\" d=\"M 358.1875 112.074219 C 358.1875 115.671875 352.789063 115.671875 352.789063 112.074219 C 352.789063 108.472656 358.1875 108.472656 358.1875 112.074219 \"/>\n",
       "<path style=\"fill:none;stroke-width:0.75;stroke-linecap:round;stroke-linejoin:round;stroke:rgb(0%,0%,0%);stroke-opacity:1;stroke-miterlimit:10;\" d=\"M 358.570313 112.433594 C 358.570313 116.035156 353.171875 116.035156 353.171875 112.433594 C 353.171875 108.835938 358.570313 108.835938 358.570313 112.433594 \"/>\n",
       "<path style=\"fill:none;stroke-width:0.75;stroke-linecap:round;stroke-linejoin:round;stroke:rgb(0%,0%,0%);stroke-opacity:1;stroke-miterlimit:10;\" d=\"M 358.957031 112.796875 C 358.957031 116.398438 353.554688 116.398438 353.554688 112.796875 C 353.554688 109.199219 358.957031 109.199219 358.957031 112.796875 \"/>\n",
       "<path style=\"fill:none;stroke-width:0.75;stroke-linecap:round;stroke-linejoin:round;stroke:rgb(0%,0%,0%);stroke-opacity:1;stroke-miterlimit:10;\" d=\"M 359.339844 113.164063 C 359.339844 116.761719 353.941406 116.761719 353.941406 113.164063 C 353.941406 109.5625 359.339844 109.5625 359.339844 113.164063 \"/>\n",
       "<path style=\"fill:none;stroke-width:0.75;stroke-linecap:round;stroke-linejoin:round;stroke:rgb(0%,0%,0%);stroke-opacity:1;stroke-miterlimit:10;\" d=\"M 359.722656 113.53125 C 359.722656 117.128906 354.324219 117.128906 354.324219 113.53125 C 354.324219 109.929688 359.722656 109.929688 359.722656 113.53125 \"/>\n",
       "<path style=\"fill:none;stroke-width:0.75;stroke-linecap:round;stroke-linejoin:round;stroke:rgb(0%,0%,0%);stroke-opacity:1;stroke-miterlimit:10;\" d=\"M 360.109375 113.898438 C 360.109375 117.5 354.707031 117.5 354.707031 113.898438 C 354.707031 110.300781 360.109375 110.300781 360.109375 113.898438 \"/>\n",
       "<path style=\"fill:none;stroke-width:0.75;stroke-linecap:round;stroke-linejoin:round;stroke:rgb(0%,0%,0%);stroke-opacity:1;stroke-miterlimit:10;\" d=\"M 360.492188 114.269531 C 360.492188 117.871094 355.09375 117.871094 355.09375 114.269531 C 355.09375 110.671875 360.492188 110.671875 360.492188 114.269531 \"/>\n",
       "<path style=\"fill:none;stroke-width:0.75;stroke-linecap:round;stroke-linejoin:round;stroke:rgb(0%,0%,0%);stroke-opacity:1;stroke-miterlimit:10;\" d=\"M 360.875 114.644531 C 360.875 118.246094 355.476563 118.246094 355.476563 114.644531 C 355.476563 111.042969 360.875 111.042969 360.875 114.644531 \"/>\n",
       "<path style=\"fill:none;stroke-width:0.75;stroke-linecap:round;stroke-linejoin:round;stroke:rgb(0%,0%,0%);stroke-opacity:1;stroke-miterlimit:10;\" d=\"M 361.261719 115.019531 C 361.261719 118.621094 355.859375 118.621094 355.859375 115.019531 C 355.859375 111.417969 361.261719 111.417969 361.261719 115.019531 \"/>\n",
       "<path style=\"fill:none;stroke-width:0.75;stroke-linecap:round;stroke-linejoin:round;stroke:rgb(0%,0%,0%);stroke-opacity:1;stroke-miterlimit:10;\" d=\"M 361.644531 115.398438 C 361.644531 118.996094 356.242188 118.996094 356.242188 115.398438 C 356.242188 111.796875 361.644531 111.796875 361.644531 115.398438 \"/>\n",
       "<path style=\"fill:none;stroke-width:0.75;stroke-linecap:round;stroke-linejoin:round;stroke:rgb(0%,0%,0%);stroke-opacity:1;stroke-miterlimit:10;\" d=\"M 362.027344 115.777344 C 362.027344 119.375 356.628906 119.375 356.628906 115.777344 C 356.628906 112.175781 362.027344 112.175781 362.027344 115.777344 \"/>\n",
       "<path style=\"fill:none;stroke-width:0.75;stroke-linecap:round;stroke-linejoin:round;stroke:rgb(0%,0%,0%);stroke-opacity:1;stroke-miterlimit:10;\" d=\"M 362.410156 116.15625 C 362.410156 119.757813 357.011719 119.757813 357.011719 116.15625 C 357.011719 112.558594 362.410156 112.558594 362.410156 116.15625 \"/>\n",
       "<path style=\"fill:none;stroke-width:0.75;stroke-linecap:round;stroke-linejoin:round;stroke:rgb(0%,0%,0%);stroke-opacity:1;stroke-miterlimit:10;\" d=\"M 362.796875 116.542969 C 362.796875 120.140625 357.394531 120.140625 357.394531 116.542969 C 357.394531 112.941406 362.796875 112.941406 362.796875 116.542969 \"/>\n",
       "<path style=\"fill:none;stroke-width:0.75;stroke-linecap:round;stroke-linejoin:round;stroke:rgb(0%,0%,0%);stroke-opacity:1;stroke-miterlimit:10;\" d=\"M 363.179688 116.925781 C 363.179688 120.527344 357.78125 120.527344 357.78125 116.925781 C 357.78125 113.328125 363.179688 113.328125 363.179688 116.925781 \"/>\n",
       "<path style=\"fill:none;stroke-width:0.75;stroke-linecap:round;stroke-linejoin:round;stroke:rgb(0%,0%,0%);stroke-opacity:1;stroke-miterlimit:10;\" d=\"M 363.5625 117.316406 C 363.5625 120.914063 358.164063 120.914063 358.164063 117.316406 C 358.164063 113.714844 363.5625 113.714844 363.5625 117.316406 \"/>\n",
       "<path style=\"fill:none;stroke-width:0.75;stroke-linecap:round;stroke-linejoin:round;stroke:rgb(0%,0%,0%);stroke-opacity:1;stroke-miterlimit:10;\" d=\"M 363.949219 117.707031 C 363.949219 121.304688 358.546875 121.304688 358.546875 117.707031 C 358.546875 114.105469 363.949219 114.105469 363.949219 117.707031 \"/>\n",
       "<path style=\"fill:none;stroke-width:0.75;stroke-linecap:round;stroke-linejoin:round;stroke:rgb(0%,0%,0%);stroke-opacity:1;stroke-miterlimit:10;\" d=\"M 364.332031 118.097656 C 364.332031 121.695313 358.933594 121.695313 358.933594 118.097656 C 358.933594 114.496094 364.332031 114.496094 364.332031 118.097656 \"/>\n",
       "<path style=\"fill:none;stroke-width:0.75;stroke-linecap:round;stroke-linejoin:round;stroke:rgb(0%,0%,0%);stroke-opacity:1;stroke-miterlimit:10;\" d=\"M 364.714844 118.492188 C 364.714844 122.089844 359.316406 122.089844 359.316406 118.492188 C 359.316406 114.890625 364.714844 114.890625 364.714844 118.492188 \"/>\n",
       "<path style=\"fill:none;stroke-width:0.75;stroke-linecap:round;stroke-linejoin:round;stroke:rgb(0%,0%,0%);stroke-opacity:1;stroke-miterlimit:10;\" d=\"M 365.101563 118.886719 C 365.101563 122.488281 359.699219 122.488281 359.699219 118.886719 C 359.699219 115.289063 365.101563 115.289063 365.101563 118.886719 \"/>\n",
       "<path style=\"fill:none;stroke-width:0.75;stroke-linecap:round;stroke-linejoin:round;stroke:rgb(0%,0%,0%);stroke-opacity:1;stroke-miterlimit:10;\" d=\"M 365.484375 119.285156 C 365.484375 122.886719 360.085938 122.886719 360.085938 119.285156 C 360.085938 115.683594 365.484375 115.683594 365.484375 119.285156 \"/>\n",
       "<path style=\"fill:none;stroke-width:0.75;stroke-linecap:round;stroke-linejoin:round;stroke:rgb(0%,0%,0%);stroke-opacity:1;stroke-miterlimit:10;\" d=\"M 365.867188 119.6875 C 365.867188 123.285156 360.46875 123.285156 360.46875 119.6875 C 360.46875 116.085938 365.867188 116.085938 365.867188 119.6875 \"/>\n",
       "<path style=\"fill:none;stroke-width:0.75;stroke-linecap:round;stroke-linejoin:round;stroke:rgb(0%,0%,0%);stroke-opacity:1;stroke-miterlimit:10;\" d=\"M 366.253906 120.089844 C 366.253906 123.6875 360.851563 123.6875 360.851563 120.089844 C 360.851563 116.488281 366.253906 116.488281 366.253906 120.089844 \"/>\n",
       "<path style=\"fill:none;stroke-width:0.75;stroke-linecap:round;stroke-linejoin:round;stroke:rgb(0%,0%,0%);stroke-opacity:1;stroke-miterlimit:10;\" d=\"M 366.636719 120.492188 C 366.636719 124.09375 361.234375 124.09375 361.234375 120.492188 C 361.234375 116.894531 366.636719 116.894531 366.636719 120.492188 \"/>\n",
       "<path style=\"fill:none;stroke-width:0.75;stroke-linecap:round;stroke-linejoin:round;stroke:rgb(0%,0%,0%);stroke-opacity:1;stroke-miterlimit:10;\" d=\"M 367.019531 120.898438 C 367.019531 124.5 361.621094 124.5 361.621094 120.898438 C 361.621094 117.300781 367.019531 117.300781 367.019531 120.898438 \"/>\n",
       "<path style=\"fill:none;stroke-width:0.75;stroke-linecap:round;stroke-linejoin:round;stroke:rgb(0%,0%,0%);stroke-opacity:1;stroke-miterlimit:10;\" d=\"M 367.402344 121.308594 C 367.402344 124.910156 362.003906 124.910156 362.003906 121.308594 C 362.003906 117.710938 367.402344 117.710938 367.402344 121.308594 \"/>\n",
       "<path style=\"fill:none;stroke-width:0.75;stroke-linecap:round;stroke-linejoin:round;stroke:rgb(0%,0%,0%);stroke-opacity:1;stroke-miterlimit:10;\" d=\"M 367.789063 121.71875 C 367.789063 125.320313 362.386719 125.320313 362.386719 121.71875 C 362.386719 118.121094 367.789063 118.121094 367.789063 121.71875 \"/>\n",
       "<path style=\"fill:none;stroke-width:0.75;stroke-linecap:round;stroke-linejoin:round;stroke:rgb(0%,0%,0%);stroke-opacity:1;stroke-miterlimit:10;\" d=\"M 368.171875 122.132813 C 368.171875 125.734375 362.773438 125.734375 362.773438 122.132813 C 362.773438 118.535156 368.171875 118.535156 368.171875 122.132813 \"/>\n",
       "<path style=\"fill:none;stroke-width:0.75;stroke-linecap:round;stroke-linejoin:round;stroke:rgb(0%,0%,0%);stroke-opacity:1;stroke-miterlimit:10;\" d=\"M 368.554688 122.550781 C 368.554688 126.148438 363.15625 126.148438 363.15625 122.550781 C 363.15625 118.949219 368.554688 118.949219 368.554688 122.550781 \"/>\n",
       "<path style=\"fill:none;stroke-width:0.75;stroke-linecap:round;stroke-linejoin:round;stroke:rgb(0%,0%,0%);stroke-opacity:1;stroke-miterlimit:10;\" d=\"M 368.941406 122.96875 C 368.941406 126.566406 363.539063 126.566406 363.539063 122.96875 C 363.539063 119.367188 368.941406 119.367188 368.941406 122.96875 \"/>\n",
       "<path style=\"fill:none;stroke-width:0.75;stroke-linecap:round;stroke-linejoin:round;stroke:rgb(0%,0%,0%);stroke-opacity:1;stroke-miterlimit:10;\" d=\"M 369.324219 123.386719 C 369.324219 126.988281 363.925781 126.988281 363.925781 123.386719 C 363.925781 119.785156 369.324219 119.785156 369.324219 123.386719 \"/>\n",
       "<path style=\"fill:none;stroke-width:0.75;stroke-linecap:round;stroke-linejoin:round;stroke:rgb(0%,0%,0%);stroke-opacity:1;stroke-miterlimit:10;\" d=\"M 369.707031 123.808594 C 369.707031 127.410156 364.308594 127.410156 364.308594 123.808594 C 364.308594 120.207031 369.707031 120.207031 369.707031 123.808594 \"/>\n",
       "<path style=\"fill:none;stroke-width:0.75;stroke-linecap:round;stroke-linejoin:round;stroke:rgb(0%,0%,0%);stroke-opacity:1;stroke-miterlimit:10;\" d=\"M 370.09375 124.234375 C 370.09375 127.832031 364.691406 127.832031 364.691406 124.234375 C 364.691406 120.632813 370.09375 120.632813 370.09375 124.234375 \"/>\n",
       "<path style=\"fill:none;stroke-width:0.75;stroke-linecap:round;stroke-linejoin:round;stroke:rgb(0%,0%,0%);stroke-opacity:1;stroke-miterlimit:10;\" d=\"M 370.476563 124.660156 C 370.476563 128.261719 365.074219 128.261719 365.074219 124.660156 C 365.074219 121.058594 370.476563 121.058594 370.476563 124.660156 \"/>\n",
       "<path style=\"fill:none;stroke-width:0.75;stroke-linecap:round;stroke-linejoin:round;stroke:rgb(0%,0%,0%);stroke-opacity:1;stroke-miterlimit:10;\" d=\"M 370.859375 125.089844 C 370.859375 128.6875 365.460938 128.6875 365.460938 125.089844 C 365.460938 121.488281 370.859375 121.488281 370.859375 125.089844 \"/>\n",
       "<path style=\"fill:none;stroke-width:0.75;stroke-linecap:round;stroke-linejoin:round;stroke:rgb(0%,0%,0%);stroke-opacity:1;stroke-miterlimit:10;\" d=\"M 371.242188 125.519531 C 371.242188 129.121094 365.84375 129.121094 365.84375 125.519531 C 365.84375 121.921875 371.242188 121.921875 371.242188 125.519531 \"/>\n",
       "<path style=\"fill:none;stroke-width:0.75;stroke-linecap:round;stroke-linejoin:round;stroke:rgb(0%,0%,0%);stroke-opacity:1;stroke-miterlimit:10;\" d=\"M 371.628906 125.953125 C 371.628906 129.554688 366.226563 129.554688 366.226563 125.953125 C 366.226563 122.351563 371.628906 122.351563 371.628906 125.953125 \"/>\n",
       "<path style=\"fill:none;stroke-width:0.75;stroke-linecap:round;stroke-linejoin:round;stroke:rgb(0%,0%,0%);stroke-opacity:1;stroke-miterlimit:10;\" d=\"M 372.011719 126.390625 C 372.011719 129.988281 366.613281 129.988281 366.613281 126.390625 C 366.613281 122.789063 372.011719 122.789063 372.011719 126.390625 \"/>\n",
       "<path style=\"fill:none;stroke-width:0.75;stroke-linecap:round;stroke-linejoin:round;stroke:rgb(0%,0%,0%);stroke-opacity:1;stroke-miterlimit:10;\" d=\"M 372.394531 126.828125 C 372.394531 130.425781 366.996094 130.425781 366.996094 126.828125 C 366.996094 123.226563 372.394531 123.226563 372.394531 126.828125 \"/>\n",
       "<path style=\"fill:none;stroke-width:0.75;stroke-linecap:round;stroke-linejoin:round;stroke:rgb(0%,0%,0%);stroke-opacity:1;stroke-miterlimit:10;\" d=\"M 372.78125 127.265625 C 372.78125 130.867188 367.378906 130.867188 367.378906 127.265625 C 367.378906 123.667969 372.78125 123.667969 372.78125 127.265625 \"/>\n",
       "<path style=\"fill:none;stroke-width:0.75;stroke-linecap:round;stroke-linejoin:round;stroke:rgb(0%,0%,0%);stroke-opacity:1;stroke-miterlimit:10;\" d=\"M 373.164063 127.710938 C 373.164063 131.308594 367.765625 131.308594 367.765625 127.710938 C 367.765625 124.109375 373.164063 124.109375 373.164063 127.710938 \"/>\n",
       "<path style=\"fill:none;stroke-width:0.75;stroke-linecap:round;stroke-linejoin:round;stroke:rgb(0%,0%,0%);stroke-opacity:1;stroke-miterlimit:10;\" d=\"M 373.546875 128.15625 C 373.546875 131.753906 368.148438 131.753906 368.148438 128.15625 C 368.148438 124.554688 373.546875 124.554688 373.546875 128.15625 \"/>\n",
       "<path style=\"fill:none;stroke-width:0.75;stroke-linecap:round;stroke-linejoin:round;stroke:rgb(0%,0%,0%);stroke-opacity:1;stroke-miterlimit:10;\" d=\"M 373.933594 128.601563 C 373.933594 132.203125 368.53125 132.203125 368.53125 128.601563 C 368.53125 125 373.933594 125 373.933594 128.601563 \"/>\n",
       "<path style=\"fill:none;stroke-width:0.75;stroke-linecap:round;stroke-linejoin:round;stroke:rgb(0%,0%,0%);stroke-opacity:1;stroke-miterlimit:10;\" d=\"M 374.316406 129.050781 C 374.316406 132.652344 368.914063 132.652344 368.914063 129.050781 C 368.914063 125.453125 374.316406 125.453125 374.316406 129.050781 \"/>\n",
       "<path style=\"fill:none;stroke-width:0.75;stroke-linecap:round;stroke-linejoin:round;stroke:rgb(0%,0%,0%);stroke-opacity:1;stroke-miterlimit:10;\" d=\"M 374.699219 129.503906 C 374.699219 133.101563 369.300781 133.101563 369.300781 129.503906 C 369.300781 125.902344 374.699219 125.902344 374.699219 129.503906 \"/>\n",
       "<path style=\"fill:none;stroke-width:0.75;stroke-linecap:round;stroke-linejoin:round;stroke:rgb(0%,0%,0%);stroke-opacity:1;stroke-miterlimit:10;\" d=\"M 375.085938 129.957031 C 375.085938 133.558594 369.683594 133.558594 369.683594 129.957031 C 369.683594 126.359375 375.085938 126.359375 375.085938 129.957031 \"/>\n",
       "<path style=\"fill:none;stroke-width:0.75;stroke-linecap:round;stroke-linejoin:round;stroke:rgb(0%,0%,0%);stroke-opacity:1;stroke-miterlimit:10;\" d=\"M 375.46875 130.414063 C 375.46875 134.015625 370.066406 134.015625 370.066406 130.414063 C 370.066406 126.8125 375.46875 126.8125 375.46875 130.414063 \"/>\n",
       "<path style=\"fill:none;stroke-width:0.75;stroke-linecap:round;stroke-linejoin:round;stroke:rgb(0%,0%,0%);stroke-opacity:1;stroke-miterlimit:10;\" d=\"M 375.851563 130.875 C 375.851563 134.472656 370.453125 134.472656 370.453125 130.875 C 370.453125 127.273438 375.851563 127.273438 375.851563 130.875 \"/>\n",
       "<path style=\"fill:none;stroke-width:0.75;stroke-linecap:round;stroke-linejoin:round;stroke:rgb(0%,0%,0%);stroke-opacity:1;stroke-miterlimit:10;\" d=\"M 376.234375 131.335938 C 376.234375 134.933594 370.835938 134.933594 370.835938 131.335938 C 370.835938 127.734375 376.234375 127.734375 376.234375 131.335938 \"/>\n",
       "<path style=\"fill:none;stroke-width:0.75;stroke-linecap:round;stroke-linejoin:round;stroke:rgb(0%,0%,0%);stroke-opacity:1;stroke-miterlimit:10;\" d=\"M 376.621094 131.796875 C 376.621094 135.398438 371.21875 135.398438 371.21875 131.796875 C 371.21875 128.199219 376.621094 128.199219 376.621094 131.796875 \"/>\n",
       "<path style=\"fill:none;stroke-width:0.75;stroke-linecap:round;stroke-linejoin:round;stroke:rgb(0%,0%,0%);stroke-opacity:1;stroke-miterlimit:10;\" d=\"M 377.003906 132.265625 C 377.003906 135.863281 371.605469 135.863281 371.605469 132.265625 C 371.605469 128.664063 377.003906 128.664063 377.003906 132.265625 \"/>\n",
       "<path style=\"fill:none;stroke-width:0.75;stroke-linecap:round;stroke-linejoin:round;stroke:rgb(0%,0%,0%);stroke-opacity:1;stroke-miterlimit:10;\" d=\"M 377.386719 132.734375 C 377.386719 136.332031 371.988281 136.332031 371.988281 132.734375 C 371.988281 129.132813 377.386719 129.132813 377.386719 132.734375 \"/>\n",
       "<path style=\"fill:none;stroke-width:0.75;stroke-linecap:round;stroke-linejoin:round;stroke:rgb(0%,0%,0%);stroke-opacity:1;stroke-miterlimit:10;\" d=\"M 377.773438 133.203125 C 377.773438 136.804688 372.371094 136.804688 372.371094 133.203125 C 372.371094 129.605469 377.773438 129.605469 377.773438 133.203125 \"/>\n",
       "<path style=\"fill:none;stroke-width:0.75;stroke-linecap:round;stroke-linejoin:round;stroke:rgb(0%,0%,0%);stroke-opacity:1;stroke-miterlimit:10;\" d=\"M 378.15625 133.679688 C 378.15625 137.277344 372.757813 137.277344 372.757813 133.679688 C 372.757813 130.078125 378.15625 130.078125 378.15625 133.679688 \"/>\n",
       "<path style=\"fill:none;stroke-width:0.75;stroke-linecap:round;stroke-linejoin:round;stroke:rgb(0%,0%,0%);stroke-opacity:1;stroke-miterlimit:10;\" d=\"M 378.539063 134.152344 C 378.539063 137.753906 373.140625 137.753906 373.140625 134.152344 C 373.140625 130.554688 378.539063 130.554688 378.539063 134.152344 \"/>\n",
       "<path style=\"fill:none;stroke-width:0.75;stroke-linecap:round;stroke-linejoin:round;stroke:rgb(0%,0%,0%);stroke-opacity:1;stroke-miterlimit:10;\" d=\"M 378.925781 134.632813 C 378.925781 138.234375 373.523438 138.234375 373.523438 134.632813 C 373.523438 131.03125 378.925781 131.03125 378.925781 134.632813 \"/>\n",
       "<path style=\"fill:none;stroke-width:0.75;stroke-linecap:round;stroke-linejoin:round;stroke:rgb(0%,0%,0%);stroke-opacity:1;stroke-miterlimit:10;\" d=\"M 379.308594 135.113281 C 379.308594 138.714844 373.90625 138.714844 373.90625 135.113281 C 373.90625 131.515625 379.308594 131.515625 379.308594 135.113281 \"/>\n",
       "<path style=\"fill:none;stroke-width:0.75;stroke-linecap:round;stroke-linejoin:round;stroke:rgb(0%,0%,0%);stroke-opacity:1;stroke-miterlimit:10;\" d=\"M 379.691406 135.597656 C 379.691406 139.199219 374.292969 139.199219 374.292969 135.597656 C 374.292969 131.996094 379.691406 131.996094 379.691406 135.597656 \"/>\n",
       "<path style=\"fill:none;stroke-width:0.75;stroke-linecap:round;stroke-linejoin:round;stroke:rgb(0%,0%,0%);stroke-opacity:1;stroke-miterlimit:10;\" d=\"M 380.074219 136.082031 C 380.074219 139.683594 374.675781 139.683594 374.675781 136.082031 C 374.675781 132.484375 380.074219 132.484375 380.074219 136.082031 \"/>\n",
       "<path style=\"fill:none;stroke-width:0.75;stroke-linecap:round;stroke-linejoin:round;stroke:rgb(0%,0%,0%);stroke-opacity:1;stroke-miterlimit:10;\" d=\"M 380.460938 136.570313 C 380.460938 140.171875 375.058594 140.171875 375.058594 136.570313 C 375.058594 132.972656 380.460938 132.972656 380.460938 136.570313 \"/>\n",
       "<path style=\"fill:none;stroke-width:0.75;stroke-linecap:round;stroke-linejoin:round;stroke:rgb(0%,0%,0%);stroke-opacity:1;stroke-miterlimit:10;\" d=\"M 380.84375 137.0625 C 380.84375 140.664063 375.445313 140.664063 375.445313 137.0625 C 375.445313 133.464844 380.84375 133.464844 380.84375 137.0625 \"/>\n",
       "<path style=\"fill:none;stroke-width:0.75;stroke-linecap:round;stroke-linejoin:round;stroke:rgb(0%,0%,0%);stroke-opacity:1;stroke-miterlimit:10;\" d=\"M 381.226563 137.558594 C 381.226563 141.15625 375.828125 141.15625 375.828125 137.558594 C 375.828125 133.957031 381.226563 133.957031 381.226563 137.558594 \"/>\n",
       "<path style=\"fill:none;stroke-width:0.75;stroke-linecap:round;stroke-linejoin:round;stroke:rgb(0%,0%,0%);stroke-opacity:1;stroke-miterlimit:10;\" d=\"M 381.613281 138.054688 C 381.613281 141.652344 376.210938 141.652344 376.210938 138.054688 C 376.210938 134.453125 381.613281 134.453125 381.613281 138.054688 \"/>\n",
       "<path style=\"fill:none;stroke-width:0.75;stroke-linecap:round;stroke-linejoin:round;stroke:rgb(0%,0%,0%);stroke-opacity:1;stroke-miterlimit:10;\" d=\"M 381.996094 138.550781 C 381.996094 142.152344 376.597656 142.152344 376.597656 138.550781 C 376.597656 134.953125 381.996094 134.953125 381.996094 138.550781 \"/>\n",
       "<path style=\"fill:none;stroke-width:0.75;stroke-linecap:round;stroke-linejoin:round;stroke:rgb(0%,0%,0%);stroke-opacity:1;stroke-miterlimit:10;\" d=\"M 382.378906 139.054688 C 382.378906 142.652344 376.980469 142.652344 376.980469 139.054688 C 376.980469 135.453125 382.378906 135.453125 382.378906 139.054688 \"/>\n",
       "<path style=\"fill:none;stroke-width:0.75;stroke-linecap:round;stroke-linejoin:round;stroke:rgb(0%,0%,0%);stroke-opacity:1;stroke-miterlimit:10;\" d=\"M 382.765625 139.558594 C 382.765625 143.15625 377.363281 143.15625 377.363281 139.558594 C 377.363281 135.957031 382.765625 135.957031 382.765625 139.558594 \"/>\n",
       "<path style=\"fill:none;stroke-width:0.75;stroke-linecap:round;stroke-linejoin:round;stroke:rgb(0%,0%,0%);stroke-opacity:1;stroke-miterlimit:10;\" d=\"M 383.148438 140.0625 C 383.148438 143.664063 377.746094 143.664063 377.746094 140.0625 C 377.746094 136.464844 383.148438 136.464844 383.148438 140.0625 \"/>\n",
       "<path style=\"fill:none;stroke-width:0.75;stroke-linecap:round;stroke-linejoin:round;stroke:rgb(0%,0%,0%);stroke-opacity:1;stroke-miterlimit:10;\" d=\"M 383.53125 140.574219 C 383.53125 144.171875 378.132813 144.171875 378.132813 140.574219 C 378.132813 136.972656 383.53125 136.972656 383.53125 140.574219 \"/>\n",
       "<path style=\"fill:none;stroke-width:0.75;stroke-linecap:round;stroke-linejoin:round;stroke:rgb(0%,0%,0%);stroke-opacity:1;stroke-miterlimit:10;\" d=\"M 383.914063 141.085938 C 383.914063 144.683594 378.515625 144.683594 378.515625 141.085938 C 378.515625 137.484375 383.914063 137.484375 383.914063 141.085938 \"/>\n",
       "<path style=\"fill:none;stroke-width:0.75;stroke-linecap:round;stroke-linejoin:round;stroke:rgb(0%,0%,0%);stroke-opacity:1;stroke-miterlimit:10;\" d=\"M 384.300781 141.601563 C 384.300781 145.199219 378.898438 145.199219 378.898438 141.601563 C 378.898438 138 384.300781 138 384.300781 141.601563 \"/>\n",
       "<path style=\"fill:none;stroke-width:0.75;stroke-linecap:round;stroke-linejoin:round;stroke:rgb(0%,0%,0%);stroke-opacity:1;stroke-miterlimit:10;\" d=\"M 384.683594 142.117188 C 384.683594 145.71875 379.285156 145.71875 379.285156 142.117188 C 379.285156 138.515625 384.683594 138.515625 384.683594 142.117188 \"/>\n",
       "<path style=\"fill:none;stroke-width:0.75;stroke-linecap:round;stroke-linejoin:round;stroke:rgb(0%,0%,0%);stroke-opacity:1;stroke-miterlimit:10;\" d=\"M 385.066406 142.636719 C 385.066406 146.238281 379.667969 146.238281 379.667969 142.636719 C 379.667969 139.039063 385.066406 139.039063 385.066406 142.636719 \"/>\n",
       "<path style=\"fill:none;stroke-width:0.75;stroke-linecap:round;stroke-linejoin:round;stroke:rgb(0%,0%,0%);stroke-opacity:1;stroke-miterlimit:10;\" d=\"M 385.453125 143.160156 C 385.453125 146.761719 380.050781 146.761719 380.050781 143.160156 C 380.050781 139.558594 385.453125 139.558594 385.453125 143.160156 \"/>\n",
       "<path style=\"fill:none;stroke-width:0.75;stroke-linecap:round;stroke-linejoin:round;stroke:rgb(0%,0%,0%);stroke-opacity:1;stroke-miterlimit:10;\" d=\"M 385.835938 143.6875 C 385.835938 147.285156 380.4375 147.285156 380.4375 143.6875 C 380.4375 140.085938 385.835938 140.085938 385.835938 143.6875 \"/>\n",
       "<path style=\"fill:none;stroke-width:0.75;stroke-linecap:round;stroke-linejoin:round;stroke:rgb(0%,0%,0%);stroke-opacity:1;stroke-miterlimit:10;\" d=\"M 386.21875 144.214844 C 386.21875 147.8125 380.820313 147.8125 380.820313 144.214844 C 380.820313 140.613281 386.21875 140.613281 386.21875 144.214844 \"/>\n",
       "<path style=\"fill:none;stroke-width:0.75;stroke-linecap:round;stroke-linejoin:round;stroke:rgb(0%,0%,0%);stroke-opacity:1;stroke-miterlimit:10;\" d=\"M 386.605469 144.746094 C 386.605469 148.34375 381.203125 148.34375 381.203125 144.746094 C 381.203125 141.144531 386.605469 141.144531 386.605469 144.746094 \"/>\n",
       "<path style=\"fill:none;stroke-width:0.75;stroke-linecap:round;stroke-linejoin:round;stroke:rgb(0%,0%,0%);stroke-opacity:1;stroke-miterlimit:10;\" d=\"M 386.988281 145.277344 C 386.988281 148.878906 381.589844 148.878906 381.589844 145.277344 C 381.589844 141.679688 386.988281 141.679688 386.988281 145.277344 \"/>\n",
       "<path style=\"fill:none;stroke-width:0.75;stroke-linecap:round;stroke-linejoin:round;stroke:rgb(0%,0%,0%);stroke-opacity:1;stroke-miterlimit:10;\" d=\"M 387.371094 145.816406 C 387.371094 149.414063 381.972656 149.414063 381.972656 145.816406 C 381.972656 142.214844 387.371094 142.214844 387.371094 145.816406 \"/>\n",
       "<path style=\"fill:none;stroke-width:0.75;stroke-linecap:round;stroke-linejoin:round;stroke:rgb(0%,0%,0%);stroke-opacity:1;stroke-miterlimit:10;\" d=\"M 387.757813 146.355469 C 387.757813 149.953125 382.355469 149.953125 382.355469 146.355469 C 382.355469 142.753906 387.757813 142.753906 387.757813 146.355469 \"/>\n",
       "<path style=\"fill:none;stroke-width:0.75;stroke-linecap:round;stroke-linejoin:round;stroke:rgb(0%,0%,0%);stroke-opacity:1;stroke-miterlimit:10;\" d=\"M 388.140625 146.898438 C 388.140625 150.496094 382.738281 150.496094 382.738281 146.898438 C 382.738281 143.296875 388.140625 143.296875 388.140625 146.898438 \"/>\n",
       "<path style=\"fill:none;stroke-width:0.75;stroke-linecap:round;stroke-linejoin:round;stroke:rgb(0%,0%,0%);stroke-opacity:1;stroke-miterlimit:10;\" d=\"M 388.523438 147.441406 C 388.523438 151.042969 383.125 151.042969 383.125 147.441406 C 383.125 143.84375 388.523438 143.84375 388.523438 147.441406 \"/>\n",
       "<path style=\"fill:none;stroke-width:0.75;stroke-linecap:round;stroke-linejoin:round;stroke:rgb(0%,0%,0%);stroke-opacity:1;stroke-miterlimit:10;\" d=\"M 388.90625 147.988281 C 388.90625 151.589844 383.507813 151.589844 383.507813 147.988281 C 383.507813 144.390625 388.90625 144.390625 388.90625 147.988281 \"/>\n",
       "<path style=\"fill:none;stroke-width:0.75;stroke-linecap:round;stroke-linejoin:round;stroke:rgb(0%,0%,0%);stroke-opacity:1;stroke-miterlimit:10;\" d=\"M 389.292969 148.539063 C 389.292969 152.140625 383.890625 152.140625 383.890625 148.539063 C 383.890625 144.941406 389.292969 144.941406 389.292969 148.539063 \"/>\n",
       "<path style=\"fill:none;stroke-width:0.75;stroke-linecap:round;stroke-linejoin:round;stroke:rgb(0%,0%,0%);stroke-opacity:1;stroke-miterlimit:10;\" d=\"M 389.675781 149.09375 C 389.675781 152.695313 384.277344 152.695313 384.277344 149.09375 C 384.277344 145.496094 389.675781 145.496094 389.675781 149.09375 \"/>\n",
       "<path style=\"fill:none;stroke-width:0.75;stroke-linecap:round;stroke-linejoin:round;stroke:rgb(0%,0%,0%);stroke-opacity:1;stroke-miterlimit:10;\" d=\"M 390.058594 149.652344 C 390.058594 153.25 384.660156 153.25 384.660156 149.652344 C 384.660156 146.050781 390.058594 146.050781 390.058594 149.652344 \"/>\n",
       "<path style=\"fill:none;stroke-width:0.75;stroke-linecap:round;stroke-linejoin:round;stroke:rgb(0%,0%,0%);stroke-opacity:1;stroke-miterlimit:10;\" d=\"M 390.445313 150.210938 C 390.445313 153.8125 385.042969 153.8125 385.042969 150.210938 C 385.042969 146.609375 390.445313 146.609375 390.445313 150.210938 \"/>\n",
       "<path style=\"fill:none;stroke-width:0.75;stroke-linecap:round;stroke-linejoin:round;stroke:rgb(0%,0%,0%);stroke-opacity:1;stroke-miterlimit:10;\" d=\"M 390.828125 150.773438 C 390.828125 154.375 385.429688 154.375 385.429688 150.773438 C 385.429688 147.171875 390.828125 147.171875 390.828125 150.773438 \"/>\n",
       "<path style=\"fill:none;stroke-width:0.75;stroke-linecap:round;stroke-linejoin:round;stroke:rgb(0%,0%,0%);stroke-opacity:1;stroke-miterlimit:10;\" d=\"M 391.210938 151.339844 C 391.210938 154.9375 385.8125 154.9375 385.8125 151.339844 C 385.8125 147.738281 391.210938 147.738281 391.210938 151.339844 \"/>\n",
       "<path style=\"fill:none;stroke-width:0.75;stroke-linecap:round;stroke-linejoin:round;stroke:rgb(0%,0%,0%);stroke-opacity:1;stroke-miterlimit:10;\" d=\"M 391.597656 151.90625 C 391.597656 155.507813 386.195313 155.507813 386.195313 151.90625 C 386.195313 148.308594 391.597656 148.308594 391.597656 151.90625 \"/>\n",
       "<path style=\"fill:none;stroke-width:0.75;stroke-linecap:round;stroke-linejoin:round;stroke:rgb(0%,0%,0%);stroke-opacity:1;stroke-miterlimit:10;\" d=\"M 391.980469 152.480469 C 391.980469 156.078125 386.578125 156.078125 386.578125 152.480469 C 386.578125 148.878906 391.980469 148.878906 391.980469 152.480469 \"/>\n",
       "<path style=\"fill:none;stroke-width:0.75;stroke-linecap:round;stroke-linejoin:round;stroke:rgb(0%,0%,0%);stroke-opacity:1;stroke-miterlimit:10;\" d=\"M 392.363281 153.054688 C 392.363281 156.652344 386.964844 156.652344 386.964844 153.054688 C 386.964844 149.453125 392.363281 149.453125 392.363281 153.054688 \"/>\n",
       "<path style=\"fill:none;stroke-width:0.75;stroke-linecap:round;stroke-linejoin:round;stroke:rgb(0%,0%,0%);stroke-opacity:1;stroke-miterlimit:10;\" d=\"M 392.746094 153.632813 C 392.746094 157.230469 387.347656 157.230469 387.347656 153.632813 C 387.347656 150.03125 392.746094 150.03125 392.746094 153.632813 \"/>\n",
       "<path style=\"fill:none;stroke-width:0.75;stroke-linecap:round;stroke-linejoin:round;stroke:rgb(0%,0%,0%);stroke-opacity:1;stroke-miterlimit:10;\" d=\"M 393.132813 154.210938 C 393.132813 157.8125 387.730469 157.8125 387.730469 154.210938 C 387.730469 150.613281 393.132813 150.613281 393.132813 154.210938 \"/>\n",
       "<path style=\"fill:none;stroke-width:0.75;stroke-linecap:round;stroke-linejoin:round;stroke:rgb(0%,0%,0%);stroke-opacity:1;stroke-miterlimit:10;\" d=\"M 393.515625 154.796875 C 393.515625 158.394531 388.117188 158.394531 388.117188 154.796875 C 388.117188 151.195313 393.515625 151.195313 393.515625 154.796875 \"/>\n",
       "<path style=\"fill:none;stroke-width:0.75;stroke-linecap:round;stroke-linejoin:round;stroke:rgb(0%,0%,0%);stroke-opacity:1;stroke-miterlimit:10;\" d=\"M 393.898438 155.382813 C 393.898438 158.984375 388.5 158.984375 388.5 155.382813 C 388.5 151.78125 393.898438 151.78125 393.898438 155.382813 \"/>\n",
       "<path style=\"fill:none;stroke-width:0.75;stroke-linecap:round;stroke-linejoin:round;stroke:rgb(0%,0%,0%);stroke-opacity:1;stroke-miterlimit:10;\" d=\"M 394.285156 155.972656 C 394.285156 159.574219 388.882813 159.574219 388.882813 155.972656 C 388.882813 152.371094 394.285156 152.371094 394.285156 155.972656 \"/>\n",
       "<path style=\"fill:none;stroke-width:0.75;stroke-linecap:round;stroke-linejoin:round;stroke:rgb(0%,0%,0%);stroke-opacity:1;stroke-miterlimit:10;\" d=\"M 394.667969 156.566406 C 394.667969 160.164063 389.269531 160.164063 389.269531 156.566406 C 389.269531 152.964844 394.667969 152.964844 394.667969 156.566406 \"/>\n",
       "<path style=\"fill:none;stroke-width:0.75;stroke-linecap:round;stroke-linejoin:round;stroke:rgb(0%,0%,0%);stroke-opacity:1;stroke-miterlimit:10;\" d=\"M 395.050781 157.164063 C 395.050781 160.761719 389.652344 160.761719 389.652344 157.164063 C 389.652344 153.5625 395.050781 153.5625 395.050781 157.164063 \"/>\n",
       "<path style=\"fill:none;stroke-width:0.75;stroke-linecap:round;stroke-linejoin:round;stroke:rgb(0%,0%,0%);stroke-opacity:1;stroke-miterlimit:10;\" d=\"M 395.4375 157.761719 C 395.4375 161.363281 390.035156 161.363281 390.035156 157.761719 C 390.035156 154.160156 395.4375 154.160156 395.4375 157.761719 \"/>\n",
       "<path style=\"fill:none;stroke-width:0.75;stroke-linecap:round;stroke-linejoin:round;stroke:rgb(0%,0%,0%);stroke-opacity:1;stroke-miterlimit:10;\" d=\"M 395.820313 158.363281 C 395.820313 161.964844 390.421875 161.964844 390.421875 158.363281 C 390.421875 154.765625 395.820313 154.765625 395.820313 158.363281 \"/>\n",
       "<path style=\"fill:none;stroke-width:0.75;stroke-linecap:round;stroke-linejoin:round;stroke:rgb(0%,0%,0%);stroke-opacity:1;stroke-miterlimit:10;\" d=\"M 396.203125 158.96875 C 396.203125 162.570313 390.804688 162.570313 390.804688 158.96875 C 390.804688 155.371094 396.203125 155.371094 396.203125 158.96875 \"/>\n",
       "<path style=\"fill:none;stroke-width:0.75;stroke-linecap:round;stroke-linejoin:round;stroke:rgb(0%,0%,0%);stroke-opacity:1;stroke-miterlimit:10;\" d=\"M 396.589844 159.578125 C 396.589844 163.179688 391.1875 163.179688 391.1875 159.578125 C 391.1875 155.980469 396.589844 155.980469 396.589844 159.578125 \"/>\n",
       "<path style=\"fill:none;stroke-width:0.75;stroke-linecap:round;stroke-linejoin:round;stroke:rgb(0%,0%,0%);stroke-opacity:1;stroke-miterlimit:10;\" d=\"M 396.972656 160.191406 C 396.972656 163.792969 391.570313 163.792969 391.570313 160.191406 C 391.570313 156.59375 396.972656 156.59375 396.972656 160.191406 \"/>\n",
       "<path style=\"fill:none;stroke-width:0.75;stroke-linecap:round;stroke-linejoin:round;stroke:rgb(0%,0%,0%);stroke-opacity:1;stroke-miterlimit:10;\" d=\"M 397.355469 160.808594 C 397.355469 164.410156 391.957031 164.410156 391.957031 160.808594 C 391.957031 157.207031 397.355469 157.207031 397.355469 160.808594 \"/>\n",
       "<path style=\"fill:none;stroke-width:0.75;stroke-linecap:round;stroke-linejoin:round;stroke:rgb(0%,0%,0%);stroke-opacity:1;stroke-miterlimit:10;\" d=\"M 397.738281 161.429688 C 397.738281 165.027344 392.339844 165.027344 392.339844 161.429688 C 392.339844 157.828125 397.738281 157.828125 397.738281 161.429688 \"/>\n",
       "<path style=\"fill:none;stroke-width:0.75;stroke-linecap:round;stroke-linejoin:round;stroke:rgb(0%,0%,0%);stroke-opacity:1;stroke-miterlimit:10;\" d=\"M 398.125 162.050781 C 398.125 165.652344 392.722656 165.652344 392.722656 162.050781 C 392.722656 158.449219 398.125 158.449219 398.125 162.050781 \"/>\n",
       "<path style=\"fill:none;stroke-width:0.75;stroke-linecap:round;stroke-linejoin:round;stroke:rgb(0%,0%,0%);stroke-opacity:1;stroke-miterlimit:10;\" d=\"M 398.507813 162.675781 C 398.507813 166.277344 393.109375 166.277344 393.109375 162.675781 C 393.109375 159.078125 398.507813 159.078125 398.507813 162.675781 \"/>\n",
       "<path style=\"fill:none;stroke-width:0.75;stroke-linecap:round;stroke-linejoin:round;stroke:rgb(0%,0%,0%);stroke-opacity:1;stroke-miterlimit:10;\" d=\"M 398.890625 163.304688 C 398.890625 166.90625 393.492188 166.90625 393.492188 163.304688 C 393.492188 159.707031 398.890625 159.707031 398.890625 163.304688 \"/>\n",
       "<path style=\"fill:none;stroke-width:0.75;stroke-linecap:round;stroke-linejoin:round;stroke:rgb(0%,0%,0%);stroke-opacity:1;stroke-miterlimit:10;\" d=\"M 399.277344 163.9375 C 399.277344 167.539063 393.875 167.539063 393.875 163.9375 C 393.875 160.339844 399.277344 160.339844 399.277344 163.9375 \"/>\n",
       "<path style=\"fill:none;stroke-width:0.75;stroke-linecap:round;stroke-linejoin:round;stroke:rgb(0%,0%,0%);stroke-opacity:1;stroke-miterlimit:10;\" d=\"M 399.660156 164.574219 C 399.660156 168.175781 394.261719 168.175781 394.261719 164.574219 C 394.261719 160.976563 399.660156 160.976563 399.660156 164.574219 \"/>\n",
       "<path style=\"fill:none;stroke-width:0.75;stroke-linecap:round;stroke-linejoin:round;stroke:rgb(0%,0%,0%);stroke-opacity:1;stroke-miterlimit:10;\" d=\"M 400.042969 165.214844 C 400.042969 168.816406 394.644531 168.816406 394.644531 165.214844 C 394.644531 161.613281 400.042969 161.613281 400.042969 165.214844 \"/>\n",
       "<path style=\"fill:none;stroke-width:0.75;stroke-linecap:round;stroke-linejoin:round;stroke:rgb(0%,0%,0%);stroke-opacity:1;stroke-miterlimit:10;\" d=\"M 400.429688 165.859375 C 400.429688 169.457031 395.027344 169.457031 395.027344 165.859375 C 395.027344 162.257813 400.429688 162.257813 400.429688 165.859375 \"/>\n",
       "<path style=\"fill:none;stroke-width:0.75;stroke-linecap:round;stroke-linejoin:round;stroke:rgb(0%,0%,0%);stroke-opacity:1;stroke-miterlimit:10;\" d=\"M 400.8125 166.503906 C 400.8125 170.105469 395.410156 170.105469 395.410156 166.503906 C 395.410156 162.90625 400.8125 162.90625 400.8125 166.503906 \"/>\n",
       "<path style=\"fill:none;stroke-width:0.75;stroke-linecap:round;stroke-linejoin:round;stroke:rgb(0%,0%,0%);stroke-opacity:1;stroke-miterlimit:10;\" d=\"M 401.195313 167.15625 C 401.195313 170.753906 395.796875 170.753906 395.796875 167.15625 C 395.796875 163.554688 401.195313 163.554688 401.195313 167.15625 \"/>\n",
       "<path style=\"fill:none;stroke-width:0.75;stroke-linecap:round;stroke-linejoin:round;stroke:rgb(0%,0%,0%);stroke-opacity:1;stroke-miterlimit:10;\" d=\"M 401.578125 167.808594 C 401.578125 171.410156 396.179688 171.410156 396.179688 167.808594 C 396.179688 164.210938 401.578125 164.210938 401.578125 167.808594 \"/>\n",
       "<path style=\"fill:none;stroke-width:0.75;stroke-linecap:round;stroke-linejoin:round;stroke:rgb(0%,0%,0%);stroke-opacity:1;stroke-miterlimit:10;\" d=\"M 401.964844 168.46875 C 401.964844 172.066406 396.5625 172.066406 396.5625 168.46875 C 396.5625 164.867188 401.964844 164.867188 401.964844 168.46875 \"/>\n",
       "<path style=\"fill:none;stroke-width:0.75;stroke-linecap:round;stroke-linejoin:round;stroke:rgb(0%,0%,0%);stroke-opacity:1;stroke-miterlimit:10;\" d=\"M 402.347656 169.128906 C 402.347656 172.730469 396.949219 172.730469 396.949219 169.128906 C 396.949219 165.527344 402.347656 165.527344 402.347656 169.128906 \"/>\n",
       "<path style=\"fill:none;stroke-width:0.75;stroke-linecap:round;stroke-linejoin:round;stroke:rgb(0%,0%,0%);stroke-opacity:1;stroke-miterlimit:10;\" d=\"M 402.730469 169.792969 C 402.730469 173.394531 397.332031 173.394531 397.332031 169.792969 C 397.332031 166.195313 402.730469 166.195313 402.730469 169.792969 \"/>\n",
       "<path style=\"fill:none;stroke-width:0.75;stroke-linecap:round;stroke-linejoin:round;stroke:rgb(0%,0%,0%);stroke-opacity:1;stroke-miterlimit:10;\" d=\"M 403.117188 170.460938 C 403.117188 174.0625 397.714844 174.0625 397.714844 170.460938 C 397.714844 166.863281 403.117188 166.863281 403.117188 170.460938 \"/>\n",
       "<path style=\"fill:none;stroke-width:0.75;stroke-linecap:round;stroke-linejoin:round;stroke:rgb(0%,0%,0%);stroke-opacity:1;stroke-miterlimit:10;\" d=\"M 403.5 171.136719 C 403.5 174.734375 398.101563 174.734375 398.101563 171.136719 C 398.101563 167.535156 403.5 167.535156 403.5 171.136719 \"/>\n",
       "<path style=\"fill:none;stroke-width:0.75;stroke-linecap:round;stroke-linejoin:round;stroke:rgb(0%,0%,0%);stroke-opacity:1;stroke-miterlimit:10;\" d=\"M 403.882813 171.8125 C 403.882813 175.410156 398.484375 175.410156 398.484375 171.8125 C 398.484375 168.210938 403.882813 168.210938 403.882813 171.8125 \"/>\n",
       "<path style=\"fill:none;stroke-width:0.75;stroke-linecap:round;stroke-linejoin:round;stroke:rgb(0%,0%,0%);stroke-opacity:1;stroke-miterlimit:10;\" d=\"M 404.269531 172.492188 C 404.269531 176.089844 398.867188 176.089844 398.867188 172.492188 C 398.867188 168.890625 404.269531 168.890625 404.269531 172.492188 \"/>\n",
       "<path style=\"fill:none;stroke-width:0.75;stroke-linecap:round;stroke-linejoin:round;stroke:rgb(0%,0%,0%);stroke-opacity:1;stroke-miterlimit:10;\" d=\"M 404.652344 173.175781 C 404.652344 176.773438 399.253906 176.773438 399.253906 173.175781 C 399.253906 169.574219 404.652344 169.574219 404.652344 173.175781 \"/>\n",
       "<path style=\"fill:none;stroke-width:0.75;stroke-linecap:round;stroke-linejoin:round;stroke:rgb(0%,0%,0%);stroke-opacity:1;stroke-miterlimit:10;\" d=\"M 405.035156 173.863281 C 405.035156 177.464844 399.636719 177.464844 399.636719 173.863281 C 399.636719 170.261719 405.035156 170.261719 405.035156 173.863281 \"/>\n",
       "<path style=\"fill:none;stroke-width:0.75;stroke-linecap:round;stroke-linejoin:round;stroke:rgb(0%,0%,0%);stroke-opacity:1;stroke-miterlimit:10;\" d=\"M 405.421875 174.554688 C 405.421875 178.15625 400.019531 178.15625 400.019531 174.554688 C 400.019531 170.953125 405.421875 170.953125 405.421875 174.554688 \"/>\n",
       "<path style=\"fill:none;stroke-width:0.75;stroke-linecap:round;stroke-linejoin:round;stroke:rgb(0%,0%,0%);stroke-opacity:1;stroke-miterlimit:10;\" d=\"M 405.804688 175.25 C 405.804688 178.851563 400.402344 178.851563 400.402344 175.25 C 400.402344 171.648438 405.804688 171.648438 405.804688 175.25 \"/>\n",
       "<path style=\"fill:none;stroke-width:0.75;stroke-linecap:round;stroke-linejoin:round;stroke:rgb(0%,0%,0%);stroke-opacity:1;stroke-miterlimit:10;\" d=\"M 406.1875 175.949219 C 406.1875 179.550781 400.789063 179.550781 400.789063 175.949219 C 400.789063 172.351563 406.1875 172.351563 406.1875 175.949219 \"/>\n",
       "<path style=\"fill:none;stroke-width:0.75;stroke-linecap:round;stroke-linejoin:round;stroke:rgb(0%,0%,0%);stroke-opacity:1;stroke-miterlimit:10;\" d=\"M 406.570313 176.652344 C 406.570313 180.253906 401.171875 180.253906 401.171875 176.652344 C 401.171875 173.054688 406.570313 173.054688 406.570313 176.652344 \"/>\n",
       "<path style=\"fill:none;stroke-width:0.75;stroke-linecap:round;stroke-linejoin:round;stroke:rgb(0%,0%,0%);stroke-opacity:1;stroke-miterlimit:10;\" d=\"M 406.957031 177.359375 C 406.957031 180.960938 401.554688 180.960938 401.554688 177.359375 C 401.554688 173.761719 406.957031 173.761719 406.957031 177.359375 \"/>\n",
       "<path style=\"fill:none;stroke-width:0.75;stroke-linecap:round;stroke-linejoin:round;stroke:rgb(0%,0%,0%);stroke-opacity:1;stroke-miterlimit:10;\" d=\"M 407.339844 178.074219 C 407.339844 181.671875 401.941406 181.671875 401.941406 178.074219 C 401.941406 174.472656 407.339844 174.472656 407.339844 178.074219 \"/>\n",
       "<path style=\"fill:none;stroke-width:0.75;stroke-linecap:round;stroke-linejoin:round;stroke:rgb(0%,0%,0%);stroke-opacity:1;stroke-miterlimit:10;\" d=\"M 407.722656 178.789063 C 407.722656 182.390625 402.324219 182.390625 402.324219 178.789063 C 402.324219 175.1875 407.722656 175.1875 407.722656 178.789063 \"/>\n",
       "<path style=\"fill:none;stroke-width:0.75;stroke-linecap:round;stroke-linejoin:round;stroke:rgb(0%,0%,0%);stroke-opacity:1;stroke-miterlimit:10;\" d=\"M 408.109375 179.507813 C 408.109375 183.109375 402.707031 183.109375 402.707031 179.507813 C 402.707031 175.910156 408.109375 175.910156 408.109375 179.507813 \"/>\n",
       "<path style=\"fill:none;stroke-width:0.75;stroke-linecap:round;stroke-linejoin:round;stroke:rgb(0%,0%,0%);stroke-opacity:1;stroke-miterlimit:10;\" d=\"M 408.492188 180.234375 C 408.492188 183.832031 403.09375 183.832031 403.09375 180.234375 C 403.09375 176.632813 408.492188 176.632813 408.492188 180.234375 \"/>\n",
       "<path style=\"fill:none;stroke-width:0.75;stroke-linecap:round;stroke-linejoin:round;stroke:rgb(0%,0%,0%);stroke-opacity:1;stroke-miterlimit:10;\" d=\"M 408.875 180.960938 C 408.875 184.5625 403.476563 184.5625 403.476563 180.960938 C 403.476563 177.363281 408.875 177.363281 408.875 180.960938 \"/>\n",
       "<path style=\"fill:none;stroke-width:0.75;stroke-linecap:round;stroke-linejoin:round;stroke:rgb(0%,0%,0%);stroke-opacity:1;stroke-miterlimit:10;\" d=\"M 409.261719 181.695313 C 409.261719 185.292969 403.859375 185.292969 403.859375 181.695313 C 403.859375 178.09375 409.261719 178.09375 409.261719 181.695313 \"/>\n",
       "<path style=\"fill:none;stroke-width:0.75;stroke-linecap:round;stroke-linejoin:round;stroke:rgb(0%,0%,0%);stroke-opacity:1;stroke-miterlimit:10;\" d=\"M 409.644531 182.429688 C 409.644531 186.03125 404.242188 186.03125 404.242188 182.429688 C 404.242188 178.832031 409.644531 178.832031 409.644531 182.429688 \"/>\n",
       "<path style=\"fill:none;stroke-width:0.75;stroke-linecap:round;stroke-linejoin:round;stroke:rgb(0%,0%,0%);stroke-opacity:1;stroke-miterlimit:10;\" d=\"M 410.027344 183.171875 C 410.027344 186.773438 404.628906 186.773438 404.628906 183.171875 C 404.628906 179.574219 410.027344 179.574219 410.027344 183.171875 \"/>\n",
       "<path style=\"fill:none;stroke-width:0.75;stroke-linecap:round;stroke-linejoin:round;stroke:rgb(0%,0%,0%);stroke-opacity:1;stroke-miterlimit:10;\" d=\"M 410.410156 183.917969 C 410.410156 187.519531 405.011719 187.519531 405.011719 183.917969 C 405.011719 180.316406 410.410156 180.316406 410.410156 183.917969 \"/>\n",
       "<path style=\"fill:none;stroke-width:0.75;stroke-linecap:round;stroke-linejoin:round;stroke:rgb(0%,0%,0%);stroke-opacity:1;stroke-miterlimit:10;\" d=\"M 410.796875 184.667969 C 410.796875 188.269531 405.394531 188.269531 405.394531 184.667969 C 405.394531 181.070313 410.796875 181.070313 410.796875 184.667969 \"/>\n",
       "<path style=\"fill:none;stroke-width:0.75;stroke-linecap:round;stroke-linejoin:round;stroke:rgb(0%,0%,0%);stroke-opacity:1;stroke-miterlimit:10;\" d=\"M 411.179688 185.421875 C 411.179688 189.023438 405.78125 189.023438 405.78125 185.421875 C 405.78125 181.824219 411.179688 181.824219 411.179688 185.421875 \"/>\n",
       "<path style=\"fill:none;stroke-width:0.75;stroke-linecap:round;stroke-linejoin:round;stroke:rgb(0%,0%,0%);stroke-opacity:1;stroke-miterlimit:10;\" d=\"M 411.5625 186.183594 C 411.5625 189.78125 406.164063 189.78125 406.164063 186.183594 C 406.164063 182.582031 411.5625 182.582031 411.5625 186.183594 \"/>\n",
       "<path style=\"fill:none;stroke-width:0.75;stroke-linecap:round;stroke-linejoin:round;stroke:rgb(0%,0%,0%);stroke-opacity:1;stroke-miterlimit:10;\" d=\"M 411.949219 186.945313 C 411.949219 190.546875 406.546875 190.546875 406.546875 186.945313 C 406.546875 183.347656 411.949219 183.347656 411.949219 186.945313 \"/>\n",
       "<path style=\"fill:none;stroke-width:0.75;stroke-linecap:round;stroke-linejoin:round;stroke:rgb(0%,0%,0%);stroke-opacity:1;stroke-miterlimit:10;\" d=\"M 412.332031 187.714844 C 412.332031 191.316406 406.933594 191.316406 406.933594 187.714844 C 406.933594 184.113281 412.332031 184.113281 412.332031 187.714844 \"/>\n",
       "<path style=\"fill:none;stroke-width:0.75;stroke-linecap:round;stroke-linejoin:round;stroke:rgb(0%,0%,0%);stroke-opacity:1;stroke-miterlimit:10;\" d=\"M 412.714844 188.488281 C 412.714844 192.085938 407.316406 192.085938 407.316406 188.488281 C 407.316406 184.886719 412.714844 184.886719 412.714844 188.488281 \"/>\n",
       "<path style=\"fill:none;stroke-width:0.75;stroke-linecap:round;stroke-linejoin:round;stroke:rgb(0%,0%,0%);stroke-opacity:1;stroke-miterlimit:10;\" d=\"M 413.101563 189.265625 C 413.101563 192.867188 407.699219 192.867188 407.699219 189.265625 C 407.699219 185.664063 413.101563 185.664063 413.101563 189.265625 \"/>\n",
       "<path style=\"fill:none;stroke-width:0.75;stroke-linecap:round;stroke-linejoin:round;stroke:rgb(0%,0%,0%);stroke-opacity:1;stroke-miterlimit:10;\" d=\"M 413.484375 190.046875 C 413.484375 193.648438 408.085938 193.648438 408.085938 190.046875 C 408.085938 186.449219 413.484375 186.449219 413.484375 190.046875 \"/>\n",
       "<path style=\"fill:none;stroke-width:0.75;stroke-linecap:round;stroke-linejoin:round;stroke:rgb(0%,0%,0%);stroke-opacity:1;stroke-miterlimit:10;\" d=\"M 413.867188 190.835938 C 413.867188 194.433594 408.46875 194.433594 408.46875 190.835938 C 408.46875 187.234375 413.867188 187.234375 413.867188 190.835938 \"/>\n",
       "<path style=\"fill:none;stroke-width:0.75;stroke-linecap:round;stroke-linejoin:round;stroke:rgb(0%,0%,0%);stroke-opacity:1;stroke-miterlimit:10;\" d=\"M 414.253906 191.628906 C 414.253906 195.226563 408.851563 195.226563 408.851563 191.628906 C 408.851563 188.027344 414.253906 188.027344 414.253906 191.628906 \"/>\n",
       "<path style=\"fill:none;stroke-width:0.75;stroke-linecap:round;stroke-linejoin:round;stroke:rgb(0%,0%,0%);stroke-opacity:1;stroke-miterlimit:10;\" d=\"M 414.636719 192.425781 C 414.636719 196.023438 409.234375 196.023438 409.234375 192.425781 C 409.234375 188.824219 414.636719 188.824219 414.636719 192.425781 \"/>\n",
       "<path style=\"fill:none;stroke-width:0.75;stroke-linecap:round;stroke-linejoin:round;stroke:rgb(0%,0%,0%);stroke-opacity:1;stroke-miterlimit:10;\" d=\"M 415.019531 193.226563 C 415.019531 196.828125 409.621094 196.828125 409.621094 193.226563 C 409.621094 189.625 415.019531 189.625 415.019531 193.226563 \"/>\n",
       "<path style=\"fill:none;stroke-width:0.75;stroke-linecap:round;stroke-linejoin:round;stroke:rgb(0%,0%,0%);stroke-opacity:1;stroke-miterlimit:10;\" d=\"M 415.402344 194.035156 C 415.402344 197.632813 410.003906 197.632813 410.003906 194.035156 C 410.003906 190.433594 415.402344 190.433594 415.402344 194.035156 \"/>\n",
       "<path style=\"fill:none;stroke-width:0.75;stroke-linecap:round;stroke-linejoin:round;stroke:rgb(0%,0%,0%);stroke-opacity:1;stroke-miterlimit:10;\" d=\"M 415.789063 194.84375 C 415.789063 198.445313 410.386719 198.445313 410.386719 194.84375 C 410.386719 191.246094 415.789063 191.246094 415.789063 194.84375 \"/>\n",
       "<path style=\"fill:none;stroke-width:0.75;stroke-linecap:round;stroke-linejoin:round;stroke:rgb(0%,0%,0%);stroke-opacity:1;stroke-miterlimit:10;\" d=\"M 416.171875 195.664063 C 416.171875 199.261719 410.773438 199.261719 410.773438 195.664063 C 410.773438 192.0625 416.171875 192.0625 416.171875 195.664063 \"/>\n",
       "<path style=\"fill:none;stroke-width:0.75;stroke-linecap:round;stroke-linejoin:round;stroke:rgb(0%,0%,0%);stroke-opacity:1;stroke-miterlimit:10;\" d=\"M 416.554688 196.484375 C 416.554688 200.085938 411.15625 200.085938 411.15625 196.484375 C 411.15625 192.886719 416.554688 192.886719 416.554688 196.484375 \"/>\n",
       "<path style=\"fill:none;stroke-width:0.75;stroke-linecap:round;stroke-linejoin:round;stroke:rgb(0%,0%,0%);stroke-opacity:1;stroke-miterlimit:10;\" d=\"M 416.941406 197.3125 C 416.941406 200.914063 411.539063 200.914063 411.539063 197.3125 C 411.539063 193.714844 416.941406 193.714844 416.941406 197.3125 \"/>\n",
       "<path style=\"fill:none;stroke-width:0.75;stroke-linecap:round;stroke-linejoin:round;stroke:rgb(0%,0%,0%);stroke-opacity:1;stroke-miterlimit:10;\" d=\"M 417.324219 198.144531 C 417.324219 201.746094 411.925781 201.746094 411.925781 198.144531 C 411.925781 194.546875 417.324219 194.546875 417.324219 198.144531 \"/>\n",
       "<path style=\"fill:none;stroke-width:0.75;stroke-linecap:round;stroke-linejoin:round;stroke:rgb(0%,0%,0%);stroke-opacity:1;stroke-miterlimit:10;\" d=\"M 417.707031 198.984375 C 417.707031 202.585938 412.308594 202.585938 412.308594 198.984375 C 412.308594 195.382813 417.707031 195.382813 417.707031 198.984375 \"/>\n",
       "<path style=\"fill:none;stroke-width:0.75;stroke-linecap:round;stroke-linejoin:round;stroke:rgb(0%,0%,0%);stroke-opacity:1;stroke-miterlimit:10;\" d=\"M 418.09375 199.828125 C 418.09375 203.429688 412.691406 203.429688 412.691406 199.828125 C 412.691406 196.226563 418.09375 196.226563 418.09375 199.828125 \"/>\n",
       "<path style=\"fill:none;stroke-width:0.75;stroke-linecap:round;stroke-linejoin:round;stroke:rgb(0%,0%,0%);stroke-opacity:1;stroke-miterlimit:10;\" d=\"M 418.476563 200.675781 C 418.476563 204.277344 413.074219 204.277344 413.074219 200.675781 C 413.074219 197.078125 418.476563 197.078125 418.476563 200.675781 \"/>\n",
       "<path style=\"fill:none;stroke-width:0.75;stroke-linecap:round;stroke-linejoin:round;stroke:rgb(0%,0%,0%);stroke-opacity:1;stroke-miterlimit:10;\" d=\"M 418.859375 201.53125 C 418.859375 205.132813 413.460938 205.132813 413.460938 201.53125 C 413.460938 197.933594 418.859375 197.933594 418.859375 201.53125 \"/>\n",
       "<path style=\"fill:none;stroke-width:0.75;stroke-linecap:round;stroke-linejoin:round;stroke:rgb(0%,0%,0%);stroke-opacity:1;stroke-miterlimit:10;\" d=\"M 419.242188 202.390625 C 419.242188 205.992188 413.84375 205.992188 413.84375 202.390625 C 413.84375 198.792969 419.242188 198.792969 419.242188 202.390625 \"/>\n",
       "<path style=\"fill:none;stroke-width:0.75;stroke-linecap:round;stroke-linejoin:round;stroke:rgb(0%,0%,0%);stroke-opacity:1;stroke-miterlimit:10;\" d=\"M 419.628906 203.257813 C 419.628906 206.859375 414.226563 206.859375 414.226563 203.257813 C 414.226563 199.660156 419.628906 199.660156 419.628906 203.257813 \"/>\n",
       "<path style=\"fill:none;stroke-width:0.75;stroke-linecap:round;stroke-linejoin:round;stroke:rgb(0%,0%,0%);stroke-opacity:1;stroke-miterlimit:10;\" d=\"M 420.011719 204.128906 C 420.011719 207.730469 414.613281 207.730469 414.613281 204.128906 C 414.613281 200.53125 420.011719 200.53125 420.011719 204.128906 \"/>\n",
       "<path style=\"fill:none;stroke-width:0.75;stroke-linecap:round;stroke-linejoin:round;stroke:rgb(0%,0%,0%);stroke-opacity:1;stroke-miterlimit:10;\" d=\"M 420.394531 205.007813 C 420.394531 208.609375 414.996094 208.609375 414.996094 205.007813 C 414.996094 201.40625 420.394531 201.40625 420.394531 205.007813 \"/>\n",
       "<path style=\"fill:none;stroke-width:0.75;stroke-linecap:round;stroke-linejoin:round;stroke:rgb(0%,0%,0%);stroke-opacity:1;stroke-miterlimit:10;\" d=\"M 420.78125 205.890625 C 420.78125 209.492188 415.378906 209.492188 415.378906 205.890625 C 415.378906 202.292969 420.78125 202.292969 420.78125 205.890625 \"/>\n",
       "<path style=\"fill:none;stroke-width:0.75;stroke-linecap:round;stroke-linejoin:round;stroke:rgb(0%,0%,0%);stroke-opacity:1;stroke-miterlimit:10;\" d=\"M 421.164063 206.78125 C 421.164063 210.378906 415.765625 210.378906 415.765625 206.78125 C 415.765625 203.179688 421.164063 203.179688 421.164063 206.78125 \"/>\n",
       "<path style=\"fill:none;stroke-width:0.75;stroke-linecap:round;stroke-linejoin:round;stroke:rgb(0%,0%,0%);stroke-opacity:1;stroke-miterlimit:10;\" d=\"M 421.546875 207.675781 C 421.546875 211.277344 416.148438 211.277344 416.148438 207.675781 C 416.148438 204.078125 421.546875 204.078125 421.546875 207.675781 \"/>\n",
       "<path style=\"fill:none;stroke-width:0.75;stroke-linecap:round;stroke-linejoin:round;stroke:rgb(0%,0%,0%);stroke-opacity:1;stroke-miterlimit:10;\" d=\"M 421.933594 208.578125 C 421.933594 212.179688 416.53125 212.179688 416.53125 208.578125 C 416.53125 204.976563 421.933594 204.976563 421.933594 208.578125 \"/>\n",
       "<path style=\"fill:none;stroke-width:0.75;stroke-linecap:round;stroke-linejoin:round;stroke:rgb(0%,0%,0%);stroke-opacity:1;stroke-miterlimit:10;\" d=\"M 422.316406 209.484375 C 422.316406 213.085938 416.914063 213.085938 416.914063 209.484375 C 416.914063 205.886719 422.316406 205.886719 422.316406 209.484375 \"/>\n",
       "<path style=\"fill:none;stroke-width:0.75;stroke-linecap:round;stroke-linejoin:round;stroke:rgb(0%,0%,0%);stroke-opacity:1;stroke-miterlimit:10;\" d=\"M 422.699219 210.398438 C 422.699219 214 417.300781 214 417.300781 210.398438 C 417.300781 206.800781 422.699219 206.800781 422.699219 210.398438 \"/>\n",
       "<path style=\"fill:none;stroke-width:0.75;stroke-linecap:round;stroke-linejoin:round;stroke:rgb(0%,0%,0%);stroke-opacity:1;stroke-miterlimit:10;\" d=\"M 423.085938 211.320313 C 423.085938 214.921875 417.683594 214.921875 417.683594 211.320313 C 417.683594 207.71875 423.085938 207.71875 423.085938 211.320313 \"/>\n",
       "<path style=\"fill:none;stroke-width:0.75;stroke-linecap:round;stroke-linejoin:round;stroke:rgb(0%,0%,0%);stroke-opacity:1;stroke-miterlimit:10;\" d=\"M 423.46875 212.246094 C 423.46875 215.847656 418.066406 215.847656 418.066406 212.246094 C 418.066406 208.648438 423.46875 208.648438 423.46875 212.246094 \"/>\n",
       "<path style=\"fill:none;stroke-width:0.75;stroke-linecap:round;stroke-linejoin:round;stroke:rgb(0%,0%,0%);stroke-opacity:1;stroke-miterlimit:10;\" d=\"M 423.851563 213.179688 C 423.851563 216.78125 418.453125 216.78125 418.453125 213.179688 C 418.453125 209.582031 423.851563 209.582031 423.851563 213.179688 \"/>\n",
       "<path style=\"fill:none;stroke-width:0.75;stroke-linecap:round;stroke-linejoin:round;stroke:rgb(0%,0%,0%);stroke-opacity:1;stroke-miterlimit:10;\" d=\"M 424.234375 214.121094 C 424.234375 217.722656 418.835938 217.722656 418.835938 214.121094 C 418.835938 210.519531 424.234375 210.519531 424.234375 214.121094 \"/>\n",
       "<path style=\"fill:none;stroke-width:0.75;stroke-linecap:round;stroke-linejoin:round;stroke:rgb(0%,0%,0%);stroke-opacity:1;stroke-miterlimit:10;\" d=\"M 424.621094 215.066406 C 424.621094 218.667969 419.21875 218.667969 419.21875 215.066406 C 419.21875 211.46875 424.621094 211.46875 424.621094 215.066406 \"/>\n",
       "<path style=\"fill:none;stroke-width:0.75;stroke-linecap:round;stroke-linejoin:round;stroke:rgb(0%,0%,0%);stroke-opacity:1;stroke-miterlimit:10;\" d=\"M 425.003906 216.023438 C 425.003906 219.621094 419.605469 219.621094 419.605469 216.023438 C 419.605469 212.421875 425.003906 212.421875 425.003906 216.023438 \"/>\n",
       "<path style=\"fill:none;stroke-width:0.75;stroke-linecap:round;stroke-linejoin:round;stroke:rgb(0%,0%,0%);stroke-opacity:1;stroke-miterlimit:10;\" d=\"M 425.386719 216.984375 C 425.386719 220.582031 419.988281 220.582031 419.988281 216.984375 C 419.988281 213.382813 425.386719 213.382813 425.386719 216.984375 \"/>\n",
       "<path style=\"fill:none;stroke-width:0.75;stroke-linecap:round;stroke-linejoin:round;stroke:rgb(0%,0%,0%);stroke-opacity:1;stroke-miterlimit:10;\" d=\"M 425.773438 217.949219 C 425.773438 221.550781 420.371094 221.550781 420.371094 217.949219 C 420.371094 214.351563 425.773438 214.351563 425.773438 217.949219 \"/>\n",
       "<path style=\"fill:none;stroke-width:0.75;stroke-linecap:round;stroke-linejoin:round;stroke:rgb(0%,0%,0%);stroke-opacity:1;stroke-miterlimit:10;\" d=\"M 426.15625 218.925781 C 426.15625 222.523438 420.757813 222.523438 420.757813 218.925781 C 420.757813 215.324219 426.15625 215.324219 426.15625 218.925781 \"/>\n",
       "<path style=\"fill:none;stroke-width:0.75;stroke-linecap:round;stroke-linejoin:round;stroke:rgb(0%,0%,0%);stroke-opacity:1;stroke-miterlimit:10;\" d=\"M 426.539063 219.90625 C 426.539063 223.507813 421.140625 223.507813 421.140625 219.90625 C 421.140625 216.308594 426.539063 216.308594 426.539063 219.90625 \"/>\n",
       "<path style=\"fill:none;stroke-width:0.75;stroke-linecap:round;stroke-linejoin:round;stroke:rgb(0%,0%,0%);stroke-opacity:1;stroke-miterlimit:10;\" d=\"M 426.925781 220.894531 C 426.925781 224.496094 421.523438 224.496094 421.523438 220.894531 C 421.523438 217.296875 426.925781 217.296875 426.925781 220.894531 \"/>\n",
       "<path style=\"fill:none;stroke-width:0.75;stroke-linecap:round;stroke-linejoin:round;stroke:rgb(0%,0%,0%);stroke-opacity:1;stroke-miterlimit:10;\" d=\"M 427.308594 221.894531 C 427.308594 225.492188 421.90625 225.492188 421.90625 221.894531 C 421.90625 218.292969 427.308594 218.292969 427.308594 221.894531 \"/>\n",
       "<path style=\"fill:none;stroke-width:0.75;stroke-linecap:round;stroke-linejoin:round;stroke:rgb(0%,0%,0%);stroke-opacity:1;stroke-miterlimit:10;\" d=\"M 427.691406 222.898438 C 427.691406 226.496094 422.292969 226.496094 422.292969 222.898438 C 422.292969 219.296875 427.691406 219.296875 427.691406 222.898438 \"/>\n",
       "<path style=\"fill:none;stroke-width:0.75;stroke-linecap:round;stroke-linejoin:round;stroke:rgb(0%,0%,0%);stroke-opacity:1;stroke-miterlimit:10;\" d=\"M 428.074219 223.910156 C 428.074219 227.507813 422.675781 227.507813 422.675781 223.910156 C 422.675781 220.308594 428.074219 220.308594 428.074219 223.910156 \"/>\n",
       "<path style=\"fill:none;stroke-width:0.75;stroke-linecap:round;stroke-linejoin:round;stroke:rgb(0%,0%,0%);stroke-opacity:1;stroke-miterlimit:10;\" d=\"M 428.460938 224.929688 C 428.460938 228.53125 423.058594 228.53125 423.058594 224.929688 C 423.058594 221.328125 428.460938 221.328125 428.460938 224.929688 \"/>\n",
       "<path style=\"fill:none;stroke-width:0.75;stroke-linecap:round;stroke-linejoin:round;stroke:rgb(0%,0%,0%);stroke-opacity:1;stroke-miterlimit:10;\" d=\"M 428.84375 225.957031 C 428.84375 229.558594 423.445313 229.558594 423.445313 225.957031 C 423.445313 222.355469 428.84375 222.355469 428.84375 225.957031 \"/>\n",
       "<path style=\"fill:none;stroke-width:0.75;stroke-linecap:round;stroke-linejoin:round;stroke:rgb(0%,0%,0%);stroke-opacity:1;stroke-miterlimit:10;\" d=\"M 429.226563 226.992188 C 429.226563 230.59375 423.828125 230.59375 423.828125 226.992188 C 423.828125 223.394531 429.226563 223.394531 429.226563 226.992188 \"/>\n",
       "<path style=\"fill:none;stroke-width:0.75;stroke-linecap:round;stroke-linejoin:round;stroke:rgb(0%,0%,0%);stroke-opacity:1;stroke-miterlimit:10;\" d=\"M 429.613281 228.035156 C 429.613281 231.636719 424.210938 231.636719 424.210938 228.035156 C 424.210938 224.4375 429.613281 224.4375 429.613281 228.035156 \"/>\n",
       "<path style=\"fill:none;stroke-width:0.75;stroke-linecap:round;stroke-linejoin:round;stroke:rgb(0%,0%,0%);stroke-opacity:1;stroke-miterlimit:10;\" d=\"M 429.996094 229.089844 C 429.996094 232.6875 424.597656 232.6875 424.597656 229.089844 C 424.597656 225.488281 429.996094 225.488281 429.996094 229.089844 \"/>\n",
       "<path style=\"fill:none;stroke-width:0.75;stroke-linecap:round;stroke-linejoin:round;stroke:rgb(0%,0%,0%);stroke-opacity:1;stroke-miterlimit:10;\" d=\"M 430.378906 230.148438 C 430.378906 233.75 424.980469 233.75 424.980469 230.148438 C 424.980469 226.550781 430.378906 226.550781 430.378906 230.148438 \"/>\n",
       "<path style=\"fill:none;stroke-width:0.75;stroke-linecap:round;stroke-linejoin:round;stroke:rgb(0%,0%,0%);stroke-opacity:1;stroke-miterlimit:10;\" d=\"M 430.765625 231.21875 C 430.765625 234.820313 425.363281 234.820313 425.363281 231.21875 C 425.363281 227.621094 430.765625 227.621094 430.765625 231.21875 \"/>\n",
       "<path style=\"fill:none;stroke-width:0.75;stroke-linecap:round;stroke-linejoin:round;stroke:rgb(0%,0%,0%);stroke-opacity:1;stroke-miterlimit:10;\" d=\"M 431.148438 232.296875 C 431.148438 235.898438 425.746094 235.898438 425.746094 232.296875 C 425.746094 228.699219 431.148438 228.699219 431.148438 232.296875 \"/>\n",
       "<path style=\"fill:none;stroke-width:0.75;stroke-linecap:round;stroke-linejoin:round;stroke:rgb(0%,0%,0%);stroke-opacity:1;stroke-miterlimit:10;\" d=\"M 431.53125 233.386719 C 431.53125 236.984375 426.132813 236.984375 426.132813 233.386719 C 426.132813 229.785156 431.53125 229.785156 431.53125 233.386719 \"/>\n",
       "<path style=\"fill:none;stroke-width:0.75;stroke-linecap:round;stroke-linejoin:round;stroke:rgb(0%,0%,0%);stroke-opacity:1;stroke-miterlimit:10;\" d=\"M 431.914063 234.480469 C 431.914063 238.082031 426.515625 238.082031 426.515625 234.480469 C 426.515625 230.882813 431.914063 230.882813 431.914063 234.480469 \"/>\n",
       "<path style=\"fill:none;stroke-width:0.75;stroke-linecap:round;stroke-linejoin:round;stroke:rgb(0%,0%,0%);stroke-opacity:1;stroke-miterlimit:10;\" d=\"M 432.300781 235.585938 C 432.300781 239.1875 426.898438 239.1875 426.898438 235.585938 C 426.898438 231.988281 432.300781 231.988281 432.300781 235.585938 \"/>\n",
       "<path style=\"fill:none;stroke-width:0.75;stroke-linecap:round;stroke-linejoin:round;stroke:rgb(0%,0%,0%);stroke-opacity:1;stroke-miterlimit:10;\" d=\"M 432.683594 236.703125 C 432.683594 240.300781 427.285156 240.300781 427.285156 236.703125 C 427.285156 233.101563 432.683594 233.101563 432.683594 236.703125 \"/>\n",
       "<path style=\"fill:none;stroke-width:0.75;stroke-linecap:round;stroke-linejoin:round;stroke:rgb(0%,0%,0%);stroke-opacity:1;stroke-miterlimit:10;\" d=\"M 433.066406 237.824219 C 433.066406 241.425781 427.667969 241.425781 427.667969 237.824219 C 427.667969 234.226563 433.066406 234.226563 433.066406 237.824219 \"/>\n",
       "<path style=\"fill:none;stroke-width:0.75;stroke-linecap:round;stroke-linejoin:round;stroke:rgb(0%,0%,0%);stroke-opacity:1;stroke-miterlimit:10;\" d=\"M 433.453125 238.960938 C 433.453125 242.558594 428.050781 242.558594 428.050781 238.960938 C 428.050781 235.359375 433.453125 235.359375 433.453125 238.960938 \"/>\n",
       "<path style=\"fill:none;stroke-width:0.75;stroke-linecap:round;stroke-linejoin:round;stroke:rgb(0%,0%,0%);stroke-opacity:1;stroke-miterlimit:10;\" d=\"M 433.835938 240.105469 C 433.835938 243.703125 428.4375 243.703125 428.4375 240.105469 C 428.4375 236.503906 433.835938 236.503906 433.835938 240.105469 \"/>\n",
       "<path style=\"fill:none;stroke-width:0.75;stroke-linecap:round;stroke-linejoin:round;stroke:rgb(0%,0%,0%);stroke-opacity:1;stroke-miterlimit:10;\" d=\"M 434.21875 241.257813 C 434.21875 244.859375 428.820313 244.859375 428.820313 241.257813 C 428.820313 237.660156 434.21875 237.660156 434.21875 241.257813 \"/>\n",
       "<path style=\"fill:none;stroke-width:0.75;stroke-linecap:round;stroke-linejoin:round;stroke:rgb(0%,0%,0%);stroke-opacity:1;stroke-miterlimit:10;\" d=\"M 434.605469 242.421875 C 434.605469 246.023438 429.203125 246.023438 429.203125 242.421875 C 429.203125 238.824219 434.605469 238.824219 434.605469 242.421875 \"/>\n",
       "<path style=\"fill:none;stroke-width:0.75;stroke-linecap:round;stroke-linejoin:round;stroke:rgb(0%,0%,0%);stroke-opacity:1;stroke-miterlimit:10;\" d=\"M 434.988281 243.597656 C 434.988281 247.199219 429.589844 247.199219 429.589844 243.597656 C 429.589844 240 434.988281 240 434.988281 243.597656 \"/>\n",
       "<path style=\"fill:none;stroke-width:0.75;stroke-linecap:round;stroke-linejoin:round;stroke:rgb(0%,0%,0%);stroke-opacity:1;stroke-miterlimit:10;\" d=\"M 435.371094 244.785156 C 435.371094 248.386719 429.972656 248.386719 429.972656 244.785156 C 429.972656 241.183594 435.371094 241.183594 435.371094 244.785156 \"/>\n",
       "<path style=\"fill:none;stroke-width:0.75;stroke-linecap:round;stroke-linejoin:round;stroke:rgb(0%,0%,0%);stroke-opacity:1;stroke-miterlimit:10;\" d=\"M 435.757813 245.980469 C 435.757813 249.582031 430.355469 249.582031 430.355469 245.980469 C 430.355469 242.382813 435.757813 242.382813 435.757813 245.980469 \"/>\n",
       "<path style=\"fill:none;stroke-width:0.75;stroke-linecap:round;stroke-linejoin:round;stroke:rgb(0%,0%,0%);stroke-opacity:1;stroke-miterlimit:10;\" d=\"M 436.140625 247.191406 C 436.140625 250.789063 430.738281 250.789063 430.738281 247.191406 C 430.738281 243.589844 436.140625 243.589844 436.140625 247.191406 \"/>\n",
       "<path style=\"fill:none;stroke-width:0.75;stroke-linecap:round;stroke-linejoin:round;stroke:rgb(0%,0%,0%);stroke-opacity:1;stroke-miterlimit:10;\" d=\"M 436.523438 248.410156 C 436.523438 252.011719 431.125 252.011719 431.125 248.410156 C 431.125 244.808594 436.523438 244.808594 436.523438 248.410156 \"/>\n",
       "<path style=\"fill:none;stroke-width:0.75;stroke-linecap:round;stroke-linejoin:round;stroke:rgb(0%,0%,0%);stroke-opacity:1;stroke-miterlimit:10;\" d=\"M 436.90625 249.640625 C 436.90625 253.242188 431.507813 253.242188 431.507813 249.640625 C 431.507813 246.042969 436.90625 246.042969 436.90625 249.640625 \"/>\n",
       "<path style=\"fill:none;stroke-width:0.75;stroke-linecap:round;stroke-linejoin:round;stroke:rgb(0%,0%,0%);stroke-opacity:1;stroke-miterlimit:10;\" d=\"M 437.292969 250.886719 C 437.292969 254.484375 431.890625 254.484375 431.890625 250.886719 C 431.890625 247.285156 437.292969 247.285156 437.292969 250.886719 \"/>\n",
       "<path style=\"fill:none;stroke-width:0.75;stroke-linecap:round;stroke-linejoin:round;stroke:rgb(0%,0%,0%);stroke-opacity:1;stroke-miterlimit:10;\" d=\"M 437.675781 252.140625 C 437.675781 255.742188 432.277344 255.742188 432.277344 252.140625 C 432.277344 248.539063 437.675781 248.539063 437.675781 252.140625 \"/>\n",
       "<path style=\"fill:none;stroke-width:0.75;stroke-linecap:round;stroke-linejoin:round;stroke:rgb(0%,0%,0%);stroke-opacity:1;stroke-miterlimit:10;\" d=\"M 438.058594 253.410156 C 438.058594 257.007813 432.660156 257.007813 432.660156 253.410156 C 432.660156 249.808594 438.058594 249.808594 438.058594 253.410156 \"/>\n",
       "<path style=\"fill:none;stroke-width:0.75;stroke-linecap:round;stroke-linejoin:round;stroke:rgb(0%,0%,0%);stroke-opacity:1;stroke-miterlimit:10;\" d=\"M 438.445313 254.691406 C 438.445313 258.289063 433.042969 258.289063 433.042969 254.691406 C 433.042969 251.089844 438.445313 251.089844 438.445313 254.691406 \"/>\n",
       "<path style=\"fill:none;stroke-width:0.75;stroke-linecap:round;stroke-linejoin:round;stroke:rgb(0%,0%,0%);stroke-opacity:1;stroke-miterlimit:10;\" d=\"M 438.828125 255.984375 C 438.828125 259.585938 433.429688 259.585938 433.429688 255.984375 C 433.429688 252.382813 438.828125 252.382813 438.828125 255.984375 \"/>\n",
       "<path style=\"fill:none;stroke-width:0.75;stroke-linecap:round;stroke-linejoin:round;stroke:rgb(0%,0%,0%);stroke-opacity:1;stroke-miterlimit:10;\" d=\"M 439.210938 257.292969 C 439.210938 260.890625 433.8125 260.890625 433.8125 257.292969 C 433.8125 253.691406 439.210938 253.691406 439.210938 257.292969 \"/>\n",
       "<path style=\"fill:none;stroke-width:0.75;stroke-linecap:round;stroke-linejoin:round;stroke:rgb(0%,0%,0%);stroke-opacity:1;stroke-miterlimit:10;\" d=\"M 439.597656 258.613281 C 439.597656 262.214844 434.195313 262.214844 434.195313 258.613281 C 434.195313 255.015625 439.597656 255.015625 439.597656 258.613281 \"/>\n",
       "<path style=\"fill:none;stroke-width:0.75;stroke-linecap:round;stroke-linejoin:round;stroke:rgb(0%,0%,0%);stroke-opacity:1;stroke-miterlimit:10;\" d=\"M 439.980469 259.949219 C 439.980469 263.550781 434.578125 263.550781 434.578125 259.949219 C 434.578125 256.347656 439.980469 256.347656 439.980469 259.949219 \"/>\n",
       "<path style=\"fill:none;stroke-width:0.75;stroke-linecap:round;stroke-linejoin:round;stroke:rgb(0%,0%,0%);stroke-opacity:1;stroke-miterlimit:10;\" d=\"M 440.363281 261.300781 C 440.363281 264.898438 434.964844 264.898438 434.964844 261.300781 C 434.964844 257.699219 440.363281 257.699219 440.363281 261.300781 \"/>\n",
       "<path style=\"fill:none;stroke-width:0.75;stroke-linecap:round;stroke-linejoin:round;stroke:rgb(0%,0%,0%);stroke-opacity:1;stroke-miterlimit:10;\" d=\"M 440.746094 262.664063 C 440.746094 266.265625 435.347656 266.265625 435.347656 262.664063 C 435.347656 259.066406 440.746094 259.066406 440.746094 262.664063 \"/>\n",
       "<path style=\"fill:none;stroke-width:0.75;stroke-linecap:round;stroke-linejoin:round;stroke:rgb(0%,0%,0%);stroke-opacity:1;stroke-miterlimit:10;\" d=\"M 441.132813 264.046875 C 441.132813 267.644531 435.730469 267.644531 435.730469 264.046875 C 435.730469 260.445313 441.132813 260.445313 441.132813 264.046875 \"/>\n",
       "<path style=\"fill:none;stroke-width:0.75;stroke-linecap:round;stroke-linejoin:round;stroke:rgb(0%,0%,0%);stroke-opacity:1;stroke-miterlimit:10;\" d=\"M 441.515625 265.441406 C 441.515625 269.042969 436.117188 269.042969 436.117188 265.441406 C 436.117188 261.839844 441.515625 261.839844 441.515625 265.441406 \"/>\n",
       "<path style=\"fill:none;stroke-width:0.75;stroke-linecap:round;stroke-linejoin:round;stroke:rgb(0%,0%,0%);stroke-opacity:1;stroke-miterlimit:10;\" d=\"M 441.898438 266.855469 C 441.898438 270.453125 436.5 270.453125 436.5 266.855469 C 436.5 263.253906 441.898438 263.253906 441.898438 266.855469 \"/>\n",
       "<path style=\"fill:none;stroke-width:0.75;stroke-linecap:round;stroke-linejoin:round;stroke:rgb(0%,0%,0%);stroke-opacity:1;stroke-miterlimit:10;\" d=\"M 442.285156 268.28125 C 442.285156 271.882813 436.882813 271.882813 436.882813 268.28125 C 436.882813 264.683594 442.285156 264.683594 442.285156 268.28125 \"/>\n",
       "<path style=\"fill:none;stroke-width:0.75;stroke-linecap:round;stroke-linejoin:round;stroke:rgb(0%,0%,0%);stroke-opacity:1;stroke-miterlimit:10;\" d=\"M 442.667969 269.730469 C 442.667969 273.328125 437.269531 273.328125 437.269531 269.730469 C 437.269531 266.128906 442.667969 266.128906 442.667969 269.730469 \"/>\n",
       "<path style=\"fill:none;stroke-width:0.75;stroke-linecap:round;stroke-linejoin:round;stroke:rgb(0%,0%,0%);stroke-opacity:1;stroke-miterlimit:10;\" d=\"M 443.050781 271.191406 C 443.050781 274.792969 437.652344 274.792969 437.652344 271.191406 C 437.652344 267.59375 443.050781 267.59375 443.050781 271.191406 \"/>\n",
       "<path style=\"fill:none;stroke-width:0.75;stroke-linecap:round;stroke-linejoin:round;stroke:rgb(0%,0%,0%);stroke-opacity:1;stroke-miterlimit:10;\" d=\"M 443.4375 272.675781 C 443.4375 276.273438 438.035156 276.273438 438.035156 272.675781 C 438.035156 269.074219 443.4375 269.074219 443.4375 272.675781 \"/>\n",
       "<path style=\"fill:none;stroke-width:0.75;stroke-linecap:round;stroke-linejoin:round;stroke:rgb(0%,0%,0%);stroke-opacity:1;stroke-miterlimit:10;\" d=\"M 443.820313 274.175781 C 443.820313 277.773438 438.421875 277.773438 438.421875 274.175781 C 438.421875 270.574219 443.820313 270.574219 443.820313 274.175781 \"/>\n",
       "<path style=\"fill:none;stroke-width:0.75;stroke-linecap:round;stroke-linejoin:round;stroke:rgb(0%,0%,0%);stroke-opacity:1;stroke-miterlimit:10;\" d=\"M 444.203125 275.695313 C 444.203125 279.292969 438.804688 279.292969 438.804688 275.695313 C 438.804688 272.09375 444.203125 272.09375 444.203125 275.695313 \"/>\n",
       "<path style=\"fill:none;stroke-width:0.75;stroke-linecap:round;stroke-linejoin:round;stroke:rgb(0%,0%,0%);stroke-opacity:1;stroke-miterlimit:10;\" d=\"M 444.589844 277.234375 C 444.589844 280.835938 439.1875 280.835938 439.1875 277.234375 C 439.1875 273.632813 444.589844 273.632813 444.589844 277.234375 \"/>\n",
       "<path style=\"fill:none;stroke-width:0.75;stroke-linecap:round;stroke-linejoin:round;stroke:rgb(0%,0%,0%);stroke-opacity:1;stroke-miterlimit:10;\" d=\"M 444.972656 278.792969 C 444.972656 282.394531 439.570313 282.394531 439.570313 278.792969 C 439.570313 275.195313 444.972656 275.195313 444.972656 278.792969 \"/>\n",
       "<path style=\"fill:none;stroke-width:0.75;stroke-linecap:round;stroke-linejoin:round;stroke:rgb(0%,0%,0%);stroke-opacity:1;stroke-miterlimit:10;\" d=\"M 445.355469 280.375 C 445.355469 283.976563 439.957031 283.976563 439.957031 280.375 C 439.957031 276.777344 445.355469 276.777344 445.355469 280.375 \"/>\n",
       "<path style=\"fill:none;stroke-width:0.75;stroke-linecap:round;stroke-linejoin:round;stroke:rgb(0%,0%,0%);stroke-opacity:1;stroke-miterlimit:10;\" d=\"M 445.738281 281.980469 C 445.738281 285.582031 440.339844 285.582031 440.339844 281.980469 C 440.339844 278.378906 445.738281 278.378906 445.738281 281.980469 \"/>\n",
       "<path style=\"fill:none;stroke-width:0.75;stroke-linecap:round;stroke-linejoin:round;stroke:rgb(0%,0%,0%);stroke-opacity:1;stroke-miterlimit:10;\" d=\"M 446.125 283.605469 C 446.125 287.207031 440.722656 287.207031 440.722656 283.605469 C 440.722656 280.007813 446.125 280.007813 446.125 283.605469 \"/>\n",
       "<path style=\"fill:none;stroke-width:0.75;stroke-linecap:round;stroke-linejoin:round;stroke:rgb(0%,0%,0%);stroke-opacity:1;stroke-miterlimit:10;\" d=\"M 446.507813 285.257813 C 446.507813 288.855469 441.109375 288.855469 441.109375 285.257813 C 441.109375 281.65625 446.507813 281.65625 446.507813 285.257813 \"/>\n",
       "<path style=\"fill:none;stroke-width:0.75;stroke-linecap:round;stroke-linejoin:round;stroke:rgb(0%,0%,0%);stroke-opacity:1;stroke-miterlimit:10;\" d=\"M 446.890625 286.933594 C 446.890625 290.53125 441.492188 290.53125 441.492188 286.933594 C 441.492188 283.332031 446.890625 283.332031 446.890625 286.933594 \"/>\n",
       "<path style=\"fill:none;stroke-width:0.75;stroke-linecap:round;stroke-linejoin:round;stroke:rgb(0%,0%,0%);stroke-opacity:1;stroke-miterlimit:10;\" d=\"M 447.277344 288.632813 C 447.277344 292.230469 441.875 292.230469 441.875 288.632813 C 441.875 285.03125 447.277344 285.03125 447.277344 288.632813 \"/>\n",
       "<path style=\"fill:none;stroke-width:0.75;stroke-linecap:round;stroke-linejoin:round;stroke:rgb(0%,0%,0%);stroke-opacity:1;stroke-miterlimit:10;\" d=\"M 447.660156 290.359375 C 447.660156 293.960938 442.261719 293.960938 442.261719 290.359375 C 442.261719 286.757813 447.660156 286.757813 447.660156 290.359375 \"/>\n",
       "<path style=\"fill:none;stroke-width:0.75;stroke-linecap:round;stroke-linejoin:round;stroke:rgb(0%,0%,0%);stroke-opacity:1;stroke-miterlimit:10;\" d=\"M 448.042969 292.113281 C 448.042969 295.714844 442.644531 295.714844 442.644531 292.113281 C 442.644531 288.515625 448.042969 288.515625 448.042969 292.113281 \"/>\n",
       "<path style=\"fill:none;stroke-width:0.75;stroke-linecap:round;stroke-linejoin:round;stroke:rgb(0%,0%,0%);stroke-opacity:1;stroke-miterlimit:10;\" d=\"M 448.429688 293.898438 C 448.429688 297.5 443.027344 297.5 443.027344 293.898438 C 443.027344 290.296875 448.429688 290.296875 448.429688 293.898438 \"/>\n",
       "<path style=\"fill:none;stroke-width:0.75;stroke-linecap:round;stroke-linejoin:round;stroke:rgb(0%,0%,0%);stroke-opacity:1;stroke-miterlimit:10;\" d=\"M 448.8125 295.710938 C 448.8125 299.3125 443.410156 299.3125 443.410156 295.710938 C 443.410156 292.113281 448.8125 292.113281 448.8125 295.710938 \"/>\n",
       "<path style=\"fill:none;stroke-width:0.75;stroke-linecap:round;stroke-linejoin:round;stroke:rgb(0%,0%,0%);stroke-opacity:1;stroke-miterlimit:10;\" d=\"M 449.195313 297.558594 C 449.195313 301.15625 443.796875 301.15625 443.796875 297.558594 C 443.796875 293.957031 449.195313 293.957031 449.195313 297.558594 \"/>\n",
       "<path style=\"fill:none;stroke-width:0.75;stroke-linecap:round;stroke-linejoin:round;stroke:rgb(0%,0%,0%);stroke-opacity:1;stroke-miterlimit:10;\" d=\"M 449.578125 299.4375 C 449.578125 303.035156 444.179688 303.035156 444.179688 299.4375 C 444.179688 295.835938 449.578125 295.835938 449.578125 299.4375 \"/>\n",
       "<path style=\"fill:none;stroke-width:0.75;stroke-linecap:round;stroke-linejoin:round;stroke:rgb(0%,0%,0%);stroke-opacity:1;stroke-miterlimit:10;\" d=\"M 449.964844 301.347656 C 449.964844 304.949219 444.5625 304.949219 444.5625 301.347656 C 444.5625 297.75 449.964844 297.75 449.964844 301.347656 \"/>\n",
       "<path style=\"fill:none;stroke-width:0.75;stroke-linecap:round;stroke-linejoin:round;stroke:rgb(0%,0%,0%);stroke-opacity:1;stroke-miterlimit:10;\" d=\"M 450.347656 303.296875 C 450.347656 306.898438 444.949219 306.898438 444.949219 303.296875 C 444.949219 299.699219 450.347656 299.699219 450.347656 303.296875 \"/>\n",
       "<path style=\"fill:none;stroke-width:0.75;stroke-linecap:round;stroke-linejoin:round;stroke:rgb(0%,0%,0%);stroke-opacity:1;stroke-miterlimit:10;\" d=\"M 450.730469 305.285156 C 450.730469 308.886719 445.332031 308.886719 445.332031 305.285156 C 445.332031 301.6875 450.730469 301.6875 450.730469 305.285156 \"/>\n",
       "<path style=\"fill:none;stroke-width:0.75;stroke-linecap:round;stroke-linejoin:round;stroke:rgb(0%,0%,0%);stroke-opacity:1;stroke-miterlimit:10;\" d=\"M 451.117188 307.316406 C 451.117188 310.914063 445.714844 310.914063 445.714844 307.316406 C 445.714844 303.714844 451.117188 303.714844 451.117188 307.316406 \"/>\n",
       "<path style=\"fill:none;stroke-width:0.75;stroke-linecap:round;stroke-linejoin:round;stroke:rgb(0%,0%,0%);stroke-opacity:1;stroke-miterlimit:10;\" d=\"M 451.5 309.386719 C 451.5 312.984375 446.101563 312.984375 446.101563 309.386719 C 446.101563 305.785156 451.5 305.785156 451.5 309.386719 \"/>\n",
       "<path style=\"fill:none;stroke-width:0.75;stroke-linecap:round;stroke-linejoin:round;stroke:rgb(0%,0%,0%);stroke-opacity:1;stroke-miterlimit:10;\" d=\"M 451.882813 311.503906 C 451.882813 315.101563 446.484375 315.101563 446.484375 311.503906 C 446.484375 307.902344 451.882813 307.902344 451.882813 311.503906 \"/>\n",
       "<path style=\"fill:none;stroke-width:0.75;stroke-linecap:round;stroke-linejoin:round;stroke:rgb(0%,0%,0%);stroke-opacity:1;stroke-miterlimit:10;\" d=\"M 452.269531 313.667969 C 452.269531 317.265625 446.867188 317.265625 446.867188 313.667969 C 446.867188 310.066406 452.269531 310.066406 452.269531 313.667969 \"/>\n",
       "<path style=\"fill:none;stroke-width:0.75;stroke-linecap:round;stroke-linejoin:round;stroke:rgb(0%,0%,0%);stroke-opacity:1;stroke-miterlimit:10;\" d=\"M 452.652344 315.882813 C 452.652344 319.480469 447.253906 319.480469 447.253906 315.882813 C 447.253906 312.28125 452.652344 312.28125 452.652344 315.882813 \"/>\n",
       "<path style=\"fill:none;stroke-width:0.75;stroke-linecap:round;stroke-linejoin:round;stroke:rgb(0%,0%,0%);stroke-opacity:1;stroke-miterlimit:10;\" d=\"M 453.035156 318.152344 C 453.035156 321.75 447.636719 321.75 447.636719 318.152344 C 447.636719 314.550781 453.035156 314.550781 453.035156 318.152344 \"/>\n",
       "<path style=\"fill:none;stroke-width:0.75;stroke-linecap:round;stroke-linejoin:round;stroke:rgb(0%,0%,0%);stroke-opacity:1;stroke-miterlimit:10;\" d=\"M 453.421875 320.480469 C 453.421875 324.078125 448.019531 324.078125 448.019531 320.480469 C 448.019531 316.878906 453.421875 316.878906 453.421875 320.480469 \"/>\n",
       "<path style=\"fill:none;stroke-width:0.75;stroke-linecap:round;stroke-linejoin:round;stroke:rgb(0%,0%,0%);stroke-opacity:1;stroke-miterlimit:10;\" d=\"M 453.804688 322.871094 C 453.804688 326.472656 448.402344 326.472656 448.402344 322.871094 C 448.402344 319.269531 453.804688 319.269531 453.804688 322.871094 \"/>\n",
       "<path style=\"fill:none;stroke-width:0.75;stroke-linecap:round;stroke-linejoin:round;stroke:rgb(0%,0%,0%);stroke-opacity:1;stroke-miterlimit:10;\" d=\"M 454.1875 325.328125 C 454.1875 328.929688 448.789063 328.929688 448.789063 325.328125 C 448.789063 321.730469 454.1875 321.730469 454.1875 325.328125 \"/>\n",
       "<path style=\"fill:none;stroke-width:0.75;stroke-linecap:round;stroke-linejoin:round;stroke:rgb(0%,0%,0%);stroke-opacity:1;stroke-miterlimit:10;\" d=\"M 454.570313 327.863281 C 454.570313 331.460938 449.171875 331.460938 449.171875 327.863281 C 449.171875 324.261719 454.570313 324.261719 454.570313 327.863281 \"/>\n",
       "<path style=\"fill:none;stroke-width:0.75;stroke-linecap:round;stroke-linejoin:round;stroke:rgb(0%,0%,0%);stroke-opacity:1;stroke-miterlimit:10;\" d=\"M 454.957031 330.472656 C 454.957031 334.074219 449.554688 334.074219 449.554688 330.472656 C 449.554688 326.875 454.957031 326.875 454.957031 330.472656 \"/>\n",
       "<path style=\"fill:none;stroke-width:0.75;stroke-linecap:round;stroke-linejoin:round;stroke:rgb(0%,0%,0%);stroke-opacity:1;stroke-miterlimit:10;\" d=\"M 455.339844 333.171875 C 455.339844 336.773438 449.941406 336.773438 449.941406 333.171875 C 449.941406 329.570313 455.339844 329.570313 455.339844 333.171875 \"/>\n",
       "<path style=\"fill:none;stroke-width:0.75;stroke-linecap:round;stroke-linejoin:round;stroke:rgb(0%,0%,0%);stroke-opacity:1;stroke-miterlimit:10;\" d=\"M 455.722656 335.964844 C 455.722656 339.566406 450.324219 339.566406 450.324219 335.964844 C 450.324219 332.367188 455.722656 332.367188 455.722656 335.964844 \"/>\n",
       "<path style=\"fill:none;stroke-width:0.75;stroke-linecap:round;stroke-linejoin:round;stroke:rgb(0%,0%,0%);stroke-opacity:1;stroke-miterlimit:10;\" d=\"M 456.109375 338.867188 C 456.109375 342.46875 450.707031 342.46875 450.707031 338.867188 C 450.707031 335.265625 456.109375 335.265625 456.109375 338.867188 \"/>\n",
       "<path style=\"fill:none;stroke-width:0.75;stroke-linecap:round;stroke-linejoin:round;stroke:rgb(0%,0%,0%);stroke-opacity:1;stroke-miterlimit:10;\" d=\"M 456.492188 341.886719 C 456.492188 345.488281 451.09375 345.488281 451.09375 341.886719 C 451.09375 338.285156 456.492188 338.285156 456.492188 341.886719 \"/>\n",
       "<path style=\"fill:none;stroke-width:0.75;stroke-linecap:round;stroke-linejoin:round;stroke:rgb(0%,0%,0%);stroke-opacity:1;stroke-miterlimit:10;\" d=\"M 456.875 345.039063 C 456.875 348.640625 451.476563 348.640625 451.476563 345.039063 C 451.476563 341.441406 456.875 341.441406 456.875 345.039063 \"/>\n",
       "<path style=\"fill:none;stroke-width:0.75;stroke-linecap:round;stroke-linejoin:round;stroke:rgb(0%,0%,0%);stroke-opacity:1;stroke-miterlimit:10;\" d=\"M 457.261719 348.34375 C 457.261719 351.945313 451.859375 351.945313 451.859375 348.34375 C 451.859375 344.746094 457.261719 344.746094 457.261719 348.34375 \"/>\n",
       "<path style=\"fill:none;stroke-width:0.75;stroke-linecap:round;stroke-linejoin:round;stroke:rgb(0%,0%,0%);stroke-opacity:1;stroke-miterlimit:10;\" d=\"M 457.644531 351.824219 C 457.644531 355.425781 452.242188 355.425781 452.242188 351.824219 C 452.242188 348.226563 457.644531 348.226563 457.644531 351.824219 \"/>\n",
       "<path style=\"fill:none;stroke-width:0.75;stroke-linecap:round;stroke-linejoin:round;stroke:rgb(0%,0%,0%);stroke-opacity:1;stroke-miterlimit:10;\" d=\"M 458.027344 355.511719 C 458.027344 359.109375 452.628906 359.109375 452.628906 355.511719 C 452.628906 351.910156 458.027344 351.910156 458.027344 355.511719 \"/>\n",
       "<path style=\"fill:none;stroke-width:0.75;stroke-linecap:round;stroke-linejoin:round;stroke:rgb(0%,0%,0%);stroke-opacity:1;stroke-miterlimit:10;\" d=\"M 458.410156 359.441406 C 458.410156 363.039063 453.011719 363.039063 453.011719 359.441406 C 453.011719 355.839844 458.410156 355.839844 458.410156 359.441406 \"/>\n",
       "<path style=\"fill:none;stroke-width:0.75;stroke-linecap:round;stroke-linejoin:round;stroke:rgb(0%,0%,0%);stroke-opacity:1;stroke-miterlimit:10;\" d=\"M 458.796875 363.667969 C 458.796875 367.269531 453.394531 367.269531 453.394531 363.667969 C 453.394531 360.066406 458.796875 360.066406 458.796875 363.667969 \"/>\n",
       "<path style=\"fill:none;stroke-width:0.75;stroke-linecap:round;stroke-linejoin:round;stroke:rgb(0%,0%,0%);stroke-opacity:1;stroke-miterlimit:10;\" d=\"M 459.179688 368.273438 C 459.179688 371.871094 453.78125 371.871094 453.78125 368.273438 C 453.78125 364.671875 459.179688 364.671875 459.179688 368.273438 \"/>\n",
       "<path style=\"fill:none;stroke-width:0.75;stroke-linecap:round;stroke-linejoin:round;stroke:rgb(0%,0%,0%);stroke-opacity:1;stroke-miterlimit:10;\" d=\"M 459.5625 373.375 C 459.5625 376.972656 454.164063 376.972656 454.164063 373.375 C 454.164063 369.773438 459.5625 369.773438 459.5625 373.375 \"/>\n",
       "<path style=\"fill:none;stroke-width:0.75;stroke-linecap:round;stroke-linejoin:round;stroke:rgb(0%,0%,0%);stroke-opacity:1;stroke-miterlimit:10;\" d=\"M 459.949219 379.171875 C 459.949219 382.773438 454.546875 382.773438 454.546875 379.171875 C 454.546875 375.574219 459.949219 375.574219 459.949219 379.171875 \"/>\n",
       "<path style=\"fill:none;stroke-width:0.75;stroke-linecap:round;stroke-linejoin:round;stroke:rgb(0%,0%,0%);stroke-opacity:1;stroke-miterlimit:10;\" d=\"M 460.332031 386.0625 C 460.332031 389.664063 454.933594 389.664063 454.933594 386.0625 C 454.933594 382.460938 460.332031 382.460938 460.332031 386.0625 \"/>\n",
       "<path style=\"fill:none;stroke-width:0.75;stroke-linecap:round;stroke-linejoin:round;stroke:rgb(0%,0%,0%);stroke-opacity:1;stroke-miterlimit:10;\" d=\"M 460.714844 395.054688 C 460.714844 398.65625 455.316406 398.65625 455.316406 395.054688 C 455.316406 391.453125 460.714844 391.453125 460.714844 395.054688 \"/>\n",
       "<path style=\"fill:none;stroke-width:0.75;stroke-linecap:round;stroke-linejoin:round;stroke:rgb(0%,0%,0%);stroke-opacity:1;stroke-miterlimit:10;\" d=\"M 461.101563 416.800781 C 461.101563 420.398438 455.699219 420.398438 455.699219 416.800781 C 455.699219 413.199219 461.101563 413.199219 461.101563 416.800781 \"/>\n",
       "</g>\n",
       "<path style=\"fill:none;stroke-width:0.75;stroke-linecap:round;stroke-linejoin:round;stroke:rgb(0%,0%,0%);stroke-opacity:1;stroke-miterlimit:10;\" d=\"M 74.398438 430.558594 L 458.398438 430.558594 \"/>\n",
       "<path style=\"fill:none;stroke-width:0.75;stroke-linecap:round;stroke-linejoin:round;stroke:rgb(0%,0%,0%);stroke-opacity:1;stroke-miterlimit:10;\" d=\"M 74.398438 430.558594 L 74.398438 437.761719 \"/>\n",
       "<path style=\"fill:none;stroke-width:0.75;stroke-linecap:round;stroke-linejoin:round;stroke:rgb(0%,0%,0%);stroke-opacity:1;stroke-miterlimit:10;\" d=\"M 151.199219 430.558594 L 151.199219 437.761719 \"/>\n",
       "<path style=\"fill:none;stroke-width:0.75;stroke-linecap:round;stroke-linejoin:round;stroke:rgb(0%,0%,0%);stroke-opacity:1;stroke-miterlimit:10;\" d=\"M 228 430.558594 L 228 437.761719 \"/>\n",
       "<path style=\"fill:none;stroke-width:0.75;stroke-linecap:round;stroke-linejoin:round;stroke:rgb(0%,0%,0%);stroke-opacity:1;stroke-miterlimit:10;\" d=\"M 304.800781 430.558594 L 304.800781 437.761719 \"/>\n",
       "<path style=\"fill:none;stroke-width:0.75;stroke-linecap:round;stroke-linejoin:round;stroke:rgb(0%,0%,0%);stroke-opacity:1;stroke-miterlimit:10;\" d=\"M 381.601563 430.558594 L 381.601563 437.761719 \"/>\n",
       "<path style=\"fill:none;stroke-width:0.75;stroke-linecap:round;stroke-linejoin:round;stroke:rgb(0%,0%,0%);stroke-opacity:1;stroke-miterlimit:10;\" d=\"M 458.398438 430.558594 L 458.398438 437.761719 \"/>\n",
       "<g style=\"fill:rgb(0%,0%,0%);fill-opacity:1;\">\n",
       "  <use xlink:href=\"#glyph0-0\" x=\"64.386719\" y=\"456.480469\"/>\n",
       "  <use xlink:href=\"#glyph0-1\" x=\"71.060547\" y=\"456.480469\"/>\n",
       "  <use xlink:href=\"#glyph0-1\" x=\"77.734375\" y=\"456.480469\"/>\n",
       "</g>\n",
       "<g style=\"fill:rgb(0%,0%,0%);fill-opacity:1;\">\n",
       "  <use xlink:href=\"#glyph0-0\" x=\"141.1875\" y=\"456.480469\"/>\n",
       "  <use xlink:href=\"#glyph0-2\" x=\"147.861328\" y=\"456.480469\"/>\n",
       "  <use xlink:href=\"#glyph0-1\" x=\"154.535156\" y=\"456.480469\"/>\n",
       "</g>\n",
       "<g style=\"fill:rgb(0%,0%,0%);fill-opacity:1;\">\n",
       "  <use xlink:href=\"#glyph0-0\" x=\"217.988281\" y=\"456.480469\"/>\n",
       "  <use xlink:href=\"#glyph0-3\" x=\"224.662109\" y=\"456.480469\"/>\n",
       "  <use xlink:href=\"#glyph0-1\" x=\"231.335938\" y=\"456.480469\"/>\n",
       "</g>\n",
       "<g style=\"fill:rgb(0%,0%,0%);fill-opacity:1;\">\n",
       "  <use xlink:href=\"#glyph0-0\" x=\"294.789063\" y=\"456.480469\"/>\n",
       "  <use xlink:href=\"#glyph0-4\" x=\"301.462891\" y=\"456.480469\"/>\n",
       "  <use xlink:href=\"#glyph0-1\" x=\"308.136719\" y=\"456.480469\"/>\n",
       "</g>\n",
       "<g style=\"fill:rgb(0%,0%,0%);fill-opacity:1;\">\n",
       "  <use xlink:href=\"#glyph0-0\" x=\"371.589844\" y=\"456.480469\"/>\n",
       "  <use xlink:href=\"#glyph0-5\" x=\"378.263672\" y=\"456.480469\"/>\n",
       "  <use xlink:href=\"#glyph0-1\" x=\"384.9375\" y=\"456.480469\"/>\n",
       "</g>\n",
       "<g style=\"fill:rgb(0%,0%,0%);fill-opacity:1;\">\n",
       "  <use xlink:href=\"#glyph0-2\" x=\"448.386719\" y=\"456.480469\"/>\n",
       "  <use xlink:href=\"#glyph0-1\" x=\"455.060547\" y=\"456.480469\"/>\n",
       "  <use xlink:href=\"#glyph0-1\" x=\"461.734375\" y=\"456.480469\"/>\n",
       "</g>\n",
       "<path style=\"fill:none;stroke-width:0.75;stroke-linecap:round;stroke-linejoin:round;stroke:rgb(0%,0%,0%);stroke-opacity:1;stroke-miterlimit:10;\" d=\"M 59.039063 416.800781 L 59.039063 72.800781 \"/>\n",
       "<path style=\"fill:none;stroke-width:0.75;stroke-linecap:round;stroke-linejoin:round;stroke:rgb(0%,0%,0%);stroke-opacity:1;stroke-miterlimit:10;\" d=\"M 59.039063 416.800781 L 51.839844 416.800781 \"/>\n",
       "<path style=\"fill:none;stroke-width:0.75;stroke-linecap:round;stroke-linejoin:round;stroke:rgb(0%,0%,0%);stroke-opacity:1;stroke-miterlimit:10;\" d=\"M 59.039063 348 L 51.839844 348 \"/>\n",
       "<path style=\"fill:none;stroke-width:0.75;stroke-linecap:round;stroke-linejoin:round;stroke:rgb(0%,0%,0%);stroke-opacity:1;stroke-miterlimit:10;\" d=\"M 59.039063 279.199219 L 51.839844 279.199219 \"/>\n",
       "<path style=\"fill:none;stroke-width:0.75;stroke-linecap:round;stroke-linejoin:round;stroke:rgb(0%,0%,0%);stroke-opacity:1;stroke-miterlimit:10;\" d=\"M 59.039063 210.398438 L 51.839844 210.398438 \"/>\n",
       "<path style=\"fill:none;stroke-width:0.75;stroke-linecap:round;stroke-linejoin:round;stroke:rgb(0%,0%,0%);stroke-opacity:1;stroke-miterlimit:10;\" d=\"M 59.039063 141.601563 L 51.839844 141.601563 \"/>\n",
       "<path style=\"fill:none;stroke-width:0.75;stroke-linecap:round;stroke-linejoin:round;stroke:rgb(0%,0%,0%);stroke-opacity:1;stroke-miterlimit:10;\" d=\"M 59.039063 72.800781 L 51.839844 72.800781 \"/>\n",
       "<g style=\"fill:rgb(0%,0%,0%);fill-opacity:1;\">\n",
       "  <use xlink:href=\"#glyph1-0\" x=\"41.761719\" y=\"420.136719\"/>\n",
       "</g>\n",
       "<g style=\"fill:rgb(0%,0%,0%);fill-opacity:1;\">\n",
       "  <use xlink:href=\"#glyph1-1\" x=\"41.761719\" y=\"354.671875\"/>\n",
       "  <use xlink:href=\"#glyph1-0\" x=\"41.761719\" y=\"347.998047\"/>\n",
       "</g>\n",
       "<g style=\"fill:rgb(0%,0%,0%);fill-opacity:1;\">\n",
       "  <use xlink:href=\"#glyph1-2\" x=\"41.761719\" y=\"285.871094\"/>\n",
       "  <use xlink:href=\"#glyph1-0\" x=\"41.761719\" y=\"279.197266\"/>\n",
       "</g>\n",
       "<g style=\"fill:rgb(0%,0%,0%);fill-opacity:1;\">\n",
       "  <use xlink:href=\"#glyph1-3\" x=\"41.761719\" y=\"217.070313\"/>\n",
       "  <use xlink:href=\"#glyph1-0\" x=\"41.761719\" y=\"210.396484\"/>\n",
       "</g>\n",
       "<g style=\"fill:rgb(0%,0%,0%);fill-opacity:1;\">\n",
       "  <use xlink:href=\"#glyph1-4\" x=\"41.761719\" y=\"148.273438\"/>\n",
       "  <use xlink:href=\"#glyph1-0\" x=\"41.761719\" y=\"141.599609\"/>\n",
       "</g>\n",
       "<g style=\"fill:rgb(0%,0%,0%);fill-opacity:1;\">\n",
       "  <use xlink:href=\"#glyph1-5\" x=\"41.761719\" y=\"82.8125\"/>\n",
       "  <use xlink:href=\"#glyph1-0\" x=\"41.761719\" y=\"76.138672\"/>\n",
       "  <use xlink:href=\"#glyph1-0\" x=\"41.761719\" y=\"69.464844\"/>\n",
       "</g>\n",
       "<path style=\"fill:none;stroke-width:0.75;stroke-linecap:round;stroke-linejoin:round;stroke:rgb(0%,0%,0%);stroke-opacity:1;stroke-miterlimit:10;\" d=\"M 59.039063 430.558594 L 473.761719 430.558594 L 473.761719 59.039063 L 59.039063 59.039063 L 59.039063 430.558594 \"/>\n",
       "<g style=\"fill:rgb(0%,0%,0%);fill-opacity:1;\">\n",
       "  <use xlink:href=\"#glyph0-6\" x=\"263.398438\" y=\"485.28125\"/>\n",
       "</g>\n",
       "<g style=\"fill:rgb(0%,0%,0%);fill-opacity:1;\">\n",
       "  <use xlink:href=\"#glyph1-6\" x=\"12.960938\" y=\"247.800781\"/>\n",
       "</g>\n",
       "</g>\n",
       "</svg>\n"
      ],
      "text/plain": [
       "plot without title"
      ]
     },
     "metadata": {
      "image/svg+xml": {
       "isolated": true
      }
     },
     "output_type": "display_data"
    }
   ],
   "source": [
    "startx <- -50\n",
    "endx <- 50\n",
    "\n",
    "x = seq(from=startx, to=endx, by=0.1)\n",
    "\n",
    "y <- sqrt(50^2-x^2)\n",
    "\n",
    "y <- y * 2\n",
    "\n",
    "x <- x + 150\n",
    "\n",
    "plot(x,y)"
   ]
  },
  {
   "cell_type": "markdown",
   "metadata": {
    "collapsed": true
   },
   "source": [
    "<a id='shiny'></a>\n",
    "[back to top](#top)"
   ]
  },
  {
   "cell_type": "markdown",
   "metadata": {},
   "source": [
    "# Shiny"
   ]
  },
  {
   "cell_type": "markdown",
   "metadata": {},
   "source": [
    "www.shiny.rstudio.com\n",
    "\n",
    "www.rstudio.com/products/shiny/shiny-server/"
   ]
  },
  {
   "cell_type": "markdown",
   "metadata": {},
   "source": [
    "Minimal viable version:"
   ]
  },
  {
   "cell_type": "code",
   "execution_count": null,
   "metadata": {
    "collapsed": true
   },
   "outputs": [],
   "source": [
    "library(shiny)\n",
    "ui <- fluidPage(\"Hello World\")\n",
    "\n",
    "server <- function(input, output){}\n",
    "\n",
    "shinyApp(ui = ui, server = server)"
   ]
  },
  {
   "cell_type": "markdown",
   "metadata": {},
   "source": [
    "Add Input() and Output() functions in fluidPage"
   ]
  },
  {
   "cell_type": "markdown",
   "metadata": {},
   "source": [
    "Sample input:"
   ]
  },
  {
   "cell_type": "code",
   "execution_count": 3,
   "metadata": {
    "collapsed": true
   },
   "outputs": [
    {
     "ename": "ERROR",
     "evalue": "Error in eval(expr, envir, enclos): konnte Funktion \"sliderInput\" nicht finden\n",
     "output_type": "error",
     "traceback": [
      "Error in eval(expr, envir, enclos): konnte Funktion \"sliderInput\" nicht finden\nTraceback:\n"
     ]
    }
   ],
   "source": [
    "sliderInput(inputId = \"num\", label = \"This is the label\", ..) #see requirements by ?sliderInput"
   ]
  },
  {
   "cell_type": "markdown",
   "metadata": {},
   "source": [
    "Sample output:"
   ]
  },
  {
   "cell_type": "code",
   "execution_count": 4,
   "metadata": {
    "collapsed": true
   },
   "outputs": [
    {
     "ename": "ERROR",
     "evalue": "Error in eval(expr, envir, enclos): konnte Funktion \"plotOutput\" nicht finden\n",
     "output_type": "error",
     "traceback": [
      "Error in eval(expr, envir, enclos): konnte Funktion \"plotOutput\" nicht finden\nTraceback:\n"
     ]
    }
   ],
   "source": [
    "plotOutput(\"hist\")"
   ]
  },
  {
   "cell_type": "markdown",
   "metadata": {},
   "source": [
    "If you build an output object, you need to save output in server command"
   ]
  },
  {
   "cell_type": "code",
   "execution_count": null,
   "metadata": {
    "collapsed": true
   },
   "outputs": [],
   "source": [
    "server <- function(input, output){\n",
    "    output$hist <- renderPlot({\n",
    "        title <- \"bla\"\n",
    "        hist(rnorm(100), main = title)\n",
    "    })curr\n",
    "}"
   ]
  },
  {
   "cell_type": "markdown",
   "metadata": {},
   "source": [
    "Save app as app.R, or ui.R and server.R"
   ]
  },
  {
   "cell_type": "markdown",
   "metadata": {},
   "source": [
    "use isolate() to prevent other parts of the app update when updating one value"
   ]
  },
  {
   "cell_type": "code",
   "execution_count": null,
   "metadata": {
    "collapsed": true
   },
   "outputs": [],
   "source": []
  }
 ],
 "metadata": {
  "anaconda-cloud": {},
  "kernelspec": {
   "display_name": "R",
   "language": "R",
   "name": "ir"
  },
  "language_info": {
   "codemirror_mode": "r",
   "file_extension": ".r",
   "mimetype": "text/x-r-source",
   "name": "R",
   "pygments_lexer": "r",
   "version": "3.2.2"
  }
 },
 "nbformat": 4,
 "nbformat_minor": 0
}
