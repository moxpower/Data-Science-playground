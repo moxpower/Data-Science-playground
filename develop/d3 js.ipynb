{
 "cells": [
  {
   "cell_type": "markdown",
   "metadata": {},
   "source": [
    "All methods interact directly with the DOM (document object model) (DOM is all what you see in the html)"
   ]
  },
  {
   "cell_type": "markdown",
   "metadata": {},
   "source": [
    "- Databinding makes d3 awesome"
   ]
  },
  {
   "cell_type": "markdown",
   "metadata": {},
   "source": [
    "- 'Selections' (like jquery collections of elements) d3 traverses the document nodes in the DOM that match criteria\n",
    "    - methods:\n",
    "- Data binding\n",
    "    - data representation:\n",
    "        - JSON\n",
    "            - Keys/Values\n",
    "            - Array of Values\n",
    "            - Access:\n",
    "                - test.phones[0]\n",
    "                - test.phones.length\n",
    "        - csv\n",
    "        - text\n",
    "        - html\n",
    "        - tsv\n",
    "        - xml\n",
    "    - d3.json('phones.json', function(error, data) {}"
   ]
  },
  {
   "cell_type": "code",
   "execution_count": null,
   "metadata": {
    "collapsed": true
   },
   "outputs": [],
   "source": [
    "In-line java script: Script code in same file as html"
   ]
  },
  {
   "cell_type": "markdown",
   "metadata": {},
   "source": [
    "### Timescale"
   ]
  },
  {
   "cell_type": "markdown",
   "metadata": {},
   "source": [
    "yScale.domain()\n",
    "yScale.invert()\n",
    "xScale(data)\n",
    "parseTime.parse(dayobject)\n",
    "parseTime.parse(element.DATE)\n",
    "xDomain\n",
    "yDomain\n"
   ]
  },
  {
   "cell_type": "code",
   "execution_count": null,
   "metadata": {
    "collapsed": true
   },
   "outputs": [],
   "source": [
    "return parseIn(element.TMAX) # returns number instead of position"
   ]
  },
  {
   "cell_type": "code",
   "execution_count": null,
   "metadata": {
    "collapsed": true
   },
   "outputs": [],
   "source": []
  },
  {
   "cell_type": "code",
   "execution_count": null,
   "metadata": {
    "collapsed": true
   },
   "outputs": [],
   "source": []
  },
  {
   "cell_type": "code",
   "execution_count": null,
   "metadata": {
    "collapsed": true
   },
   "outputs": [],
   "source": [
    "        function createSVG() {\n",
    "            mySVG = d3.select('body').append('svg')\n",
    "                                      .attr('height', '800')\n",
    "                                      .attr('width', '500'); \n",
    "            mySVG.append('circle')\n",
    "                  .attr('id', 'start')\n",
    "                  .attr('class', 'foobar');\n",
    "            \n",
    "            mySVG.append('circle')\n",
    "                  .attr('id', 'end')\n",
    "                  .attr('class', 'foobar');\n",
    "\n",
    "            mySVG.append('line')\n",
    "                  .attr('class', 'foobar');\n",
    "        };\n",
    "\n",
    "    \n",
    "        function thickenCircles() {\n",
    "            var circles = d3.selectAll('circle')\n",
    "                             .attr('r', '20');\n",
    "        };\n",
    "\n",
    "        function moveCircles() {\n",
    "            d3.select(\"#start\")   # the # sign accesses the 'id' attribute\n",
    "                .attr('cx', '100')\n",
    "                .attr('cy', '100');\n",
    "\n",
    "            d3.select(\"#end\")\n",
    "                .attr('cx', '200')\n",
    "                .attr('cy', '200');\n",
    "        };\n",
    "\n",
    "        function styleLine() {\n",
    "            d3.select('line')\n",
    "               .attr('x1', 100)\n",
    "               .attr('x2', 100)\n",
    "               .attr('y1', 5)\n",
    "               .attr('y2', 100)\n",
    "               .style('stroke', 'cyan');\n",
    "        };\n",
    "\n",
    "        function moveLine() {\n",
    "            d3.select('line')\n",
    "                .attr('x1', '100')\n",
    "                .attr('y1', '100')\n",
    "                .attr('x2', '200')\n",
    "                .attr('y2', '200');\n",
    "        };\n",
    "\n",
    "        function thickenLine() {\n",
    "            d3.select('line')\n",
    "                .style('stroke-width', '5');\n",
    "        };\n",
    "\n",
    "        function styleCircles() {\n",
    "            d3.select('#start')\n",
    "               .style('fill', 'lavender');\n",
    "            d3.select('#end')\n",
    "               .style('fill', 'none')\n",
    "               .style('stroke', 'turquoise');\n",
    "        };\n",
    "\n",
    "        function runAll() {\n",
    "            createSVG();\n",
    "            thickenCircles();\n",
    "            moveCircles();\n",
    "            styleLine();\n",
    "            moveLine();\n",
    "            thickenLine();\n",
    "            styleCircles();\n",
    "        };\n",
    "\n",
    "    "
   ]
  },
  {
   "cell_type": "code",
   "execution_count": null,
   "metadata": {
    "collapsed": true
   },
   "outputs": [],
   "source": []
  },
  {
   "cell_type": "code",
   "execution_count": null,
   "metadata": {
    "collapsed": true
   },
   "outputs": [],
   "source": []
  },
  {
   "cell_type": "code",
   "execution_count": null,
   "metadata": {
    "collapsed": true
   },
   "outputs": [],
   "source": []
  }
 ],
 "metadata": {
  "kernelspec": {
   "display_name": "Python [Root]",
   "language": "python",
   "name": "Python [Root]"
  },
  "language_info": {
   "codemirror_mode": {
    "name": "ipython",
    "version": 3
   },
   "file_extension": ".py",
   "mimetype": "text/x-python",
   "name": "python",
   "nbconvert_exporter": "python",
   "pygments_lexer": "ipython3",
   "version": "3.5.2"
  }
 },
 "nbformat": 4,
 "nbformat_minor": 0
}
