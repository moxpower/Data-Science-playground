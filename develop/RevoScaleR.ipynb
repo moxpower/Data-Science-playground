{
 "cells": [
  {
   "cell_type": "markdown",
   "metadata": {},
   "source": [
    "# RevoScaleR"
   ]
  },
  {
   "cell_type": "markdown",
   "metadata": {},
   "source": [
    "## 1. Introduction"
   ]
  },
  {
   "cell_type": "markdown",
   "metadata": {},
   "source": [
    "### Import data"
   ]
  },
  {
   "cell_type": "code",
   "execution_count": null,
   "metadata": {
    "collapsed": true
   },
   "outputs": [],
   "source": [
    "# Declare the file paths for the csv and xdf files\n",
    "myAirlineCsv <- file.path(rxGetOption(\"sampleDataDir\"), \"2007_subset.csv\")\n",
    "myAirlineXdf <- \"2007_subset.xdf\"\n",
    "\n",
    "# Use rxImport to import the data into xdf format\n",
    "rxImport(inData = myAirlineCsv, outFile = myAirlineXdf, overwrite = TRUE)\n",
    "list.files()"
   ]
  },
  {
   "cell_type": "markdown",
   "metadata": {},
   "source": [
    "### Summarize data"
   ]
  },
  {
   "cell_type": "code",
   "execution_count": null,
   "metadata": {
    "collapsed": true
   },
   "outputs": [],
   "source": [
    "# Get basic information about your data\n",
    "rxGetInfo(data = myAirlineXdf, \n",
    "          getVarInfo = TRUE,\n",
    "          numRows = 10)\n",
    "\n",
    "## Summarize the variables corresponding to actual elapsed time, time in the air, departure delay, flight Distance.\n",
    "rxSummary(formula = ~ ActualElapsedTime + AirTime + DepDelay + Distance, \n",
    "          data = myAirlineXdf)\n",
    "\n",
    "# Histogram of departure delays\n",
    "rxHistogram(formula = ~DepDelay, \n",
    "            data = myAirlineXdf)\n",
    "\n",
    "# Use parameters similar to a regular histogram to zero in on the interesting area\n",
    "rxHistogram(formula = DepDelay, \n",
    "            data = myAirlineXdf, \n",
    "            xAxisMinMax = c(-100, 400), \n",
    "            numBreaks = 500,\n",
    "            xNumTicks = 500)"
   ]
  },
  {
   "cell_type": "markdown",
   "metadata": {},
   "source": [
    "### Create new variables (rxDataStep)"
   ]
  },
  {
   "cell_type": "code",
   "execution_count": null,
   "metadata": {
    "collapsed": true
   },
   "outputs": [],
   "source": [
    "## Calculate an additional variable: airspeed (distance traveled / time in the air). \n",
    "rxDataStep(inData = myAirlineXdf, \n",
    "         outFile = myAirlineXdf, \n",
    "         varsToKeep = c(\"AirTime\", \"Distance\"),\n",
    "\t       transforms = list(airSpeed = Distance / AirTime),\n",
    "         append = \"cols\",\n",
    "         overwrite = TRUE)\n",
    "\n",
    "# Get Variable Information for airspeed\n",
    "rxGetInfo(data = myAirlineXdf, \n",
    "          getVarInfo = TRUE,\n",
    "          varsToKeep = \"airSpeed\")\n",
    "\n",
    "# Summary for the airspeed variable\n",
    "rxSummary(~airSpeed, \n",
    "          data = myAirlineXdf)\n",
    "\n",
    "# Construct a histogtam for airspeed\n",
    "# We can use the xAxisMinMax argument to limit the X-axis.\n",
    "rxHistogram(~airSpeed, \n",
    "            data = myAirlineXdf\n",
    "            )\n",
    "\n",
    "rxHistogram(~airSpeed, \n",
    "            data = myAirlineXdf,\n",
    "            xNumTicks = 10,\n",
    "            numBreaks = 1500,\n",
    "            xAxisMinMax = c(0,12)\n",
    "            )"
   ]
  },
  {
   "cell_type": "markdown",
   "metadata": {},
   "source": [
    "### Transform variables (rxDataStep)"
   ]
  },
  {
   "cell_type": "code",
   "execution_count": null,
   "metadata": {
    "collapsed": true
   },
   "outputs": [],
   "source": [
    "# Conversion to miles per hour\n",
    "rxDataStep(inData = myAirlineXdf, \n",
    "         outFile = myAirlineXdf, \n",
    "         varsToKeep = c(\"airSpeed\"),\n",
    "\t       transforms = list(airSpeed = airSpeed * 60),\n",
    "         overwrite=TRUE)\n",
    "\n",
    "# Histogram for airspeed after conversion\n",
    "rxHistogram(~ airSpeed, data = myAirlineXdf)"
   ]
  },
  {
   "cell_type": "markdown",
   "metadata": {},
   "source": [
    "### Correlations"
   ]
  },
  {
   "cell_type": "code",
   "execution_count": null,
   "metadata": {
    "collapsed": true
   },
   "outputs": [],
   "source": [
    "# Correlation for departure delay, arrival delay, and air speed\n",
    "rxCor(formula = ~ DepDelay + ArrDelay + airSpeed,\n",
    "      data = myAirlineXdf,\n",
    "      rowSelection = (airSpeed > 50) & (airSpeed < 800))"
   ]
  },
  {
   "cell_type": "markdown",
   "metadata": {},
   "source": [
    "### Lin reg"
   ]
  },
  {
   "cell_type": "code",
   "execution_count": null,
   "metadata": {
    "collapsed": true
   },
   "outputs": [],
   "source": [
    "# Regression for airSpeed based on departure delay\n",
    "myLMobj <- rxLinMod(formula = airSpeed ~ DepDelay, \n",
    "         data = myAirlineXdf,\n",
    "         rowSelection = (airSpeed > 50) & (airSpeed < 800))\n",
    "summary(myLMobj)"
   ]
  },
  {
   "cell_type": "markdown",
   "metadata": {},
   "source": [
    "## 2. Data exploration"
   ]
  },
  {
   "cell_type": "markdown",
   "metadata": {},
   "source": [
    "### RevoScaler options"
   ]
  },
  {
   "cell_type": "code",
   "execution_count": null,
   "metadata": {
    "collapsed": true
   },
   "outputs": [],
   "source": [
    "## extract the names of the possible options:\n",
    "names(rxOptions())\n",
    "\n",
    "## extract the sample data directory:\n",
    "rxGetOption(\"sampleDataDir\")\n",
    "\n",
    "## view the current value of the reportProgress option\n",
    "rxGetOption(\"reportProgress\")\n",
    "\n",
    "## set the value of the reportProgress option to 0\n",
    "rxOptions(reportProgress = 0)"
   ]
  },
  {
   "cell_type": "markdown",
   "metadata": {},
   "source": [
    "### Import and explore data"
   ]
  },
  {
   "cell_type": "code",
   "execution_count": null,
   "metadata": {
    "collapsed": true
   },
   "outputs": [],
   "source": [
    "## set up the variable that has the address of the relevant data file:\n",
    "djiXdf <- file.path(rxGetOption(\"sampleDataDir\"), \"DJIAdaily.xdf\")\n",
    "\n",
    "## get information about that dataset:\n",
    "rxGetInfo(djiXdf, getVarInfo = TRUE)"
   ]
  },
  {
   "cell_type": "markdown",
   "metadata": {},
   "source": [
    "### Extract metadata"
   ]
  },
  {
   "cell_type": "code",
   "execution_count": null,
   "metadata": {
    "collapsed": true
   },
   "outputs": [],
   "source": [
    "## get variable information for the dataset\n",
    "djiVarInfo <- rxGetVarInfo(djiXdf)\n",
    "names(djiVarInfo)\n",
    "\n",
    "## extract information about the closing cost variable\n",
    "(closeVarInfo <- djiVarInfo$Close)\n",
    "## get the class of the closeVarInfo object:\n",
    "class(closeVarInfo)\n",
    "## examine the structure of the closeVarInfo object:\n",
    "str(closeVarInfo)\n",
    "\n",
    "## extract the global maximum of the closing cost variable:\n",
    "closeMax <- closeVarInfo[[\"high\"]]"
   ]
  },
  {
   "cell_type": "markdown",
   "metadata": {},
   "source": [
    "### Summarize variables (rxSummary)"
   ]
  },
  {
   "cell_type": "code",
   "execution_count": null,
   "metadata": {
    "collapsed": true
   },
   "outputs": [],
   "source": [
    "## Basic summary statistics:\n",
    "rxSummary( ~ DayOfWeek + Close + Volume, data = djiXdf)\n",
    "\n",
    "## Frequency weighted:\n",
    "rxSummary( ~ DayOfWeek + Close, data = djiXdf, fweights = \"Volume\")\n",
    "\n",
    "## Basic frequency count:\n",
    "rxCrossTabs( ~ DayOfWeek, data = djiXdf)"
   ]
  },
  {
   "cell_type": "markdown",
   "metadata": {},
   "source": [
    "### Explore distribution (rxHistogram)"
   ]
  },
  {
   "cell_type": "code",
   "execution_count": null,
   "metadata": {
    "collapsed": true
   },
   "outputs": [],
   "source": [
    "## Numeric Variables\n",
    "rxHistogram(~ Close, data = djiXdf)\n",
    "## Categorical Variable:\n",
    "rxHistogram(~ DayOfWeek, data = djiXdf)\n",
    "\n",
    "## Different panels for different days of the week\n",
    "rxHistogram(~ Close | DayOfWeek, data = djiXdf)\n",
    "\n",
    "## Numeric Variables with a frequency weighting:\n",
    "rxHistogram(~ Close, data = djiXdf, fweights = \"Volume\")"
   ]
  },
  {
   "cell_type": "markdown",
   "metadata": {},
   "source": [
    "### Plot bivariate relationship (rxLinePlot)"
   ]
  },
  {
   "cell_type": "code",
   "execution_count": null,
   "metadata": {
    "collapsed": true
   },
   "outputs": [],
   "source": [
    "## Simple bivariate line plot:\n",
    "rxLinePlot(Close ~ DaysSince1928, data = djiXdf)\n",
    "\n",
    "## Using different panels for different days of the week:\n",
    "rxLinePlot(Close ~ DaysSince1928 | DayOfWeek, data = djiXdf)\n",
    "\n",
    "## Using different groups.\n",
    "rxLinePlot(Close ~ DaysSince1928, groups = DayOfWeek, data = djiXdf)\n",
    "\n",
    "## Simple bivariate line plot, after taking the log() of the ordinate (y) variable.\n",
    "rxLinePlot(log(Close) ~ DaysSince1928, data = djiXdf)"
   ]
  },
  {
   "cell_type": "markdown",
   "metadata": {},
   "source": [
    "### Summarizing Variables with rxCrossTabs()"
   ]
  },
  {
   "cell_type": "code",
   "execution_count": null,
   "metadata": {
    "collapsed": true
   },
   "outputs": [],
   "source": [
    "## Compute the the summed volume for each day of the week:\n",
    "rxCrossTabs(formula = Volume ~ DayOfWeek, data = djiXdf)\n",
    "\n",
    "## Compute the the summed volume for each day of the week for each month:\n",
    "rxCrossTabs(formula = Volume ~ F(Month):DayOfWeek, data = djiXdf)\n",
    "\n",
    "## Compute the the average volume for each day of the week for each month:\n",
    "rxCrossTabs(formula = Volume ~ F(Month):DayOfWeek, data = djiXdf, means = TRUE)\n",
    "\n",
    "## Compute the the average closing price for each day of the week for each month, using volume as frequency weights\n",
    "rxCrossTabs(formula = Close ~ F(Month):DayOfWeek, data = djiXdf, means = TRUE, fweights = \"Volume\")"
   ]
  },
  {
   "cell_type": "markdown",
   "metadata": {},
   "source": [
    "### Summarizing Variables with rxCube()"
   ]
  },
  {
   "cell_type": "code",
   "execution_count": null,
   "metadata": {
    "collapsed": true
   },
   "outputs": [],
   "source": [
    "## Compute the the summed volume for each day of the week:\n",
    "rxCrossTabs(Volume ~ DayOfWeek, data = djiXdf)\n",
    "rxCube(Volume ~ DayOfWeek, data = djiXdf, means = FALSE)\n",
    "\n",
    "## Compute the the summed volume for each day of the week for each month:\n",
    "rxCrossTabs(Volume ~ F(Month):DayOfWeek, data = djiXdf)\n",
    "rxCube(Volume ~ F(Month):DayOfWeek, data = djiXdf, means = FALSE)\n",
    "\n",
    "## Compute the the average volume for each day of the week for each month:\n",
    "rxCube(Volume ~ F(Month):DayOfWeek, data = djiXdf)\n",
    "\n",
    "## Compute the the average closing price for each day of the week for each month, using volume as frequency weights\n",
    "rxCube(Close ~ F(Month):DayOfWeek, data = djiXdf, fweights = \"Volume\")"
   ]
  },
  {
   "cell_type": "markdown",
   "metadata": {},
   "source": [
    "## Data Manipulation"
   ]
  },
  {
   "cell_type": "markdown",
   "metadata": {},
   "source": [
    "### Using rxDataStep() to transform data"
   ]
  },
  {
   "cell_type": "code",
   "execution_count": null,
   "metadata": {
    "collapsed": true
   },
   "outputs": [],
   "source": [
    "## Get information on mortData\n",
    "rxGetInfo(mortData)\n",
    "\n",
    "## Set up my personal copy of the data:\n",
    "myMortData <- \"myMD.xdf\"\n",
    "\n",
    "## Create the transform\n",
    "rxDataStep(inData = mortData, outFile = myMortData,\n",
    "           transforms = list(highDebtRow = ccDebt > 8000)\n",
    "  )\n",
    "## Get the variable information\n",
    "rxGetVarInfo(myMortData)\n",
    "## Get the proportion of values that are 1.\n",
    "rxSummary( ~ highDebtRow, data = myMortData)\n",
    "\n",
    "## Compute multiple transforms!\n",
    "rxDataStep(inData = myMortData, outFile = myMortData,\n",
    "           transforms = list(\n",
    "             newHouse = houseAge < 10,\n",
    "             ccsXhd = creditScore * highDebtRow \n",
    "             ),\n",
    "           append = \"cols\",\n",
    "           overwrite = TRUE\n",
    "  )"
   ]
  },
  {
   "cell_type": "markdown",
   "metadata": {},
   "source": [
    "### Complex transforms using transformFuncs"
   ]
  },
  {
   "cell_type": "code",
   "execution_count": null,
   "metadata": {
    "collapsed": true
   },
   "outputs": [],
   "source": [
    "## Compute the summary statistics\n",
    "(csSummary <- rxSummary(~ creditScore, data = mortData))\n",
    "\n",
    "## Extract the mean and std. deviation\n",
    "meanCS <- csSummary$sDataFrame$Mean[1]\n",
    "sdCS <- csSummary$sDataFrame$StdDev[1]\n",
    "\n",
    "## Create a function to compute the scaled variable\n",
    "scaleCS <- function(mylist){\n",
    "  mylist[[\"scaledCreditScore\"]] <- (mylist[[\"creditScore\"]] - myCenter) / myScale\n",
    "  return(mylist)\n",
    "}\n",
    "\n",
    "## Run it with rxDataStep\n",
    "myMortData <- \"myMD.xdf\"\n",
    "rxDataStep(inData = mortData, outFile = myMortData,\n",
    "           transformFunc = scaleCS,\n",
    "           transformObjects = list(myCenter = meanCS, myScale = sdCS)\n",
    "           )\n",
    "\n",
    "## Check the new variable:\n",
    "rxGetVarInfo(myMortData)\n",
    "rxSummary( scaleCS, data = myMortData)"
   ]
  }
 ],
 "metadata": {
  "kernelspec": {
   "display_name": "R",
   "language": "R",
   "name": "ir"
  },
  "language_info": {
   "codemirror_mode": "r",
   "file_extension": ".r",
   "mimetype": "text/x-r-source",
   "name": "R",
   "pygments_lexer": "r",
   "version": "3.2.2"
  }
 },
 "nbformat": 4,
 "nbformat_minor": 0
}
